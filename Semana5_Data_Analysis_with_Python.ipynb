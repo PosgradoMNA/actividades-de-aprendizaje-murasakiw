{
  "nbformat": 4,
  "nbformat_minor": 0,
  "metadata": {
    "colab": {
      "provenance": [],
      "collapsed_sections": [],
      "authorship_tag": "ABX9TyPERnj8OEO6KmplVLDiPeAe",
      "include_colab_link": true
    },
    "kernelspec": {
      "name": "python3",
      "display_name": "Python 3"
    },
    "language_info": {
      "name": "python"
    }
  },
  "cells": [
    {
      "cell_type": "markdown",
      "metadata": {
        "id": "view-in-github",
        "colab_type": "text"
      },
      "source": [
        "<a href=\"https://colab.research.google.com/github/PosgradoMNA/actividades-de-aprendizaje-murasakiw/blob/main/Semana5_Data_Analysis_with_Python.ipynb\" target=\"_parent\"><img src=\"https://colab.research.google.com/assets/colab-badge.svg\" alt=\"Open In Colab\"/></a>"
      ]
    },
    {
      "cell_type": "markdown",
      "source": [
        "Ciencia y Analítica de Datos\n",
        "___\n",
        "Semana 5: Data Analysis with Python  \n",
        "Nombre: Sergio Omar Esparza Hernández  \n",
        "Matrícula: A01794338"
      ],
      "metadata": {
        "id": "GY0AVkuEy_Ma"
      }
    },
    {
      "cell_type": "markdown",
      "source": [
        "##Data pre-processing"
      ],
      "metadata": {
        "id": "13DAmjjJzCdW"
      }
    },
    {
      "cell_type": "markdown",
      "source": [
        "El preprocesamiento de datos es un paso necesario en el análisis de datos. Es el proceso de convertir datos de una forma \"raw\" a otro formato listo para el análisis.\n",
        "\n",
        "El preprocesamiento de datos también es llamado \"data cleaning\" o \"data wrangling\"."
      ],
      "metadata": {
        "id": "1aZH0l0mzM0N"
      }
    },
    {
      "cell_type": "markdown",
      "source": [
        "Un valor faltante ocurre cuando una entrada de dato está vacía."
      ],
      "metadata": {
        "id": "ZOOq117v0ADl"
      }
    },
    {
      "cell_type": "markdown",
      "source": [
        "La normalización es una forma de traer a todos los datos a un rango similar para comparaciones más útiles entre los datos. Hay técnicas de centrado y de escalado."
      ],
      "metadata": {
        "id": "kkBdari-0b0x"
      }
    },
    {
      "cell_type": "markdown",
      "source": [
        "##Dealing with missing values in Python"
      ],
      "metadata": {
        "id": "8iSjfdq91Ri_"
      }
    },
    {
      "cell_type": "markdown",
      "source": [
        "Cuando no hay un valor almacenado de una característica para una observación particular, se dice que la característica tiene un valor faltante. Usualmente un valor faltante aparece en un conjunto de datos como \"?\", \"N/A\", 0 o simplemente una celda vacía."
      ],
      "metadata": {
        "id": "BIcabVzO1Zaq"
      }
    },
    {
      "cell_type": "markdown",
      "source": [
        "Opciones para lidiar con valores faltantes:\n",
        "\n",
        "\n",
        "*   Averiguar si la persona que recolectó los datos puede recuperar ese dato.\n",
        "*   Simplemente remover los datos en los que se encontró ese valor faltante. Se puede eliminar toda la variable o solo la entrada con el valor faltante. Si no se tienen muchas observaciones con valores faltantes, usualmente lo mejor es deshechar solo la entrada particular.\n",
        "*   Reemplazar los datos es mejor, ya que de esta manera no se desperdician datos. Es menos preciso porque se debe de reemplazar el dato con una suposición del valor que tendría que tener el dato.  \n",
        "   - Una manera de reemplazar los valores faltantes es con el promedio de los datos.\n",
        "   - Una manera de reemplazar los valores faltantes que son categóricos es con la moda.\n",
        "   - Reemplazar los datos basándose en información relevante.  \n",
        "*   Otra opción es dejar los datos faltantes tal como están.\n",
        "\n"
      ],
      "metadata": {
        "id": "z4omlK152TZE"
      }
    },
    {
      "cell_type": "markdown",
      "source": [
        "La librería pandas cuenta con un método llamado dropna. Se tiene que especificar el eje para borrar los datos faltantes. axis = 0, elimina la fila completa y axis = 1 elimina la columna entera.\n",
        "df.dropna()"
      ],
      "metadata": {
        "id": "-0Q3kYYceV75"
      }
    },
    {
      "cell_type": "code",
      "execution_count": 15,
      "metadata": {
        "id": "0K_WYDJ4yoi0"
      },
      "outputs": [],
      "source": [
        "#Se importa la librería, se lee el archivo y se convierte en un dataframe\n",
        "import pandas as pd\n",
        "import numpy as np\n",
        "url = 'https://archive.ics.uci.edu/ml/machine-learning-databases/autos/imports-85.data'\n",
        "\n",
        "df = pd.read_csv(url, header =  None) \n"
      ]
    },
    {
      "cell_type": "markdown",
      "source": [
        "Los nombres de las columnas no pueden icluir '-' porque de esta manera no se puede acceder a las columnas como atributos del objeto data frame."
      ],
      "metadata": {
        "id": "LT4lJJSq8sXj"
      }
    },
    {
      "cell_type": "code",
      "source": [
        "headers = ['symboling', 'normalized_losses', 'make', 'fuel_type', 'aspiration', \n",
        "           'num_of_doors', 'body_style', 'drive_wheels', 'engine_location',\n",
        "           'wheel_base', 'length', 'width', 'height', 'curb_weight', \n",
        "           'engine_type', 'num_of_cylinders', 'engine_size', 'fuel_system', \n",
        "           'bore', 'stroke', 'compression_ratio', 'horsepower', 'peak_rpm',\n",
        "           'city_mpg', 'highway_mpg', 'price']\n",
        "df.columns = headers #Reemplazar nombres de columnas"
      ],
      "metadata": {
        "id": "lH-ZBV_GgNFx"
      },
      "execution_count": 16,
      "outputs": []
    },
    {
      "cell_type": "code",
      "source": [
        "#inplace = True permite que la modificación se guardada directamente en el dataframe, sin necesidad de asignarla a una variable\n",
        "#Elimina las filas que tengan valores faltantes en la columna price\n",
        "df.dropna(subset=['price'], axis = 0, inplace = True) "
      ],
      "metadata": {
        "id": "-K69C3WtfQ27"
      },
      "execution_count": 17,
      "outputs": []
    },
    {
      "cell_type": "markdown",
      "source": [
        "El método replace se utiliza para reemplazar valores faltantes por otro valor especificado. df.replace(valor_faltante, nuevo_valor)"
      ],
      "metadata": {
        "id": "AEmyTWVCgjTp"
      }
    },
    {
      "cell_type": "code",
      "source": [
        "df.replace('?', np.nan, inplace=True)\n",
        "df['normalized_losses'] = pd.to_numeric(df['normalized_losses']) #Se convierten los valores a tipo numérico porque se almacenaron como string\n",
        "media = np.mean(df.normalized_losses)\n",
        "df['normalized_losses'] = df['normalized_losses'].replace(np.nan, media)"
      ],
      "metadata": {
        "id": "ZspovoGC3njv"
      },
      "execution_count": 25,
      "outputs": []
    },
    {
      "cell_type": "markdown",
      "source": [
        "##Data formatting with Python"
      ],
      "metadata": {
        "id": "0oVDh9Op77Y3"
      }
    },
    {
      "cell_type": "markdown",
      "source": [
        "Hay veces que es necesario darle un formato específico a los datos, especialmente cuando se quieren llevar a cabo análisis estadísticos con mayor facilidad"
      ],
      "metadata": {
        "id": "L8LNFs9O8YC7"
      }
    },
    {
      "cell_type": "code",
      "source": [],
      "metadata": {
        "id": "o9bR8RRU5DeF"
      },
      "execution_count": null,
      "outputs": []
    }
  ]
}