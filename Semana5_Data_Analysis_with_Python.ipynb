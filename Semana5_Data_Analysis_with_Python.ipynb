{
  "nbformat": 4,
  "nbformat_minor": 0,
  "metadata": {
    "colab": {
      "provenance": [],
      "collapsed_sections": [],
      "authorship_tag": "ABX9TyOd57G5O0zxMTlLTcgXR/Si",
      "include_colab_link": true
    },
    "kernelspec": {
      "name": "python3",
      "display_name": "Python 3"
    },
    "language_info": {
      "name": "python"
    }
  },
  "cells": [
    {
      "cell_type": "markdown",
      "metadata": {
        "id": "view-in-github",
        "colab_type": "text"
      },
      "source": [
        "<a href=\"https://colab.research.google.com/github/PosgradoMNA/actividades-de-aprendizaje-murasakiw/blob/main/Semana5_Data_Analysis_with_Python.ipynb\" target=\"_parent\"><img src=\"https://colab.research.google.com/assets/colab-badge.svg\" alt=\"Open In Colab\"/></a>"
      ]
    },
    {
      "cell_type": "markdown",
      "source": [
        "Ciencia y Analítica de Datos\n",
        "___\n",
        "Semana 5: Data Analysis with Python  \n",
        "Nombre: Sergio Omar Esparza Hernández  \n",
        "Matrícula: A01794338"
      ],
      "metadata": {
        "id": "GY0AVkuEy_Ma"
      }
    },
    {
      "cell_type": "markdown",
      "source": [
        "##Data pre-processing"
      ],
      "metadata": {
        "id": "13DAmjjJzCdW"
      }
    },
    {
      "cell_type": "markdown",
      "source": [
        "El preprocesamiento de datos es un paso necesario en el análisis de datos. Es el proceso de convertir datos de una forma \"raw\" a otro formato listo para el análisis.\n",
        "\n",
        "El preprocesamiento de datos también es llamado \"data cleaning\" o \"data wrangling\"."
      ],
      "metadata": {
        "id": "1aZH0l0mzM0N"
      }
    },
    {
      "cell_type": "markdown",
      "source": [
        "Un valor faltante ocurre cuando una entrada de dato está vacía."
      ],
      "metadata": {
        "id": "ZOOq117v0ADl"
      }
    },
    {
      "cell_type": "markdown",
      "source": [
        "La normalización es una forma de traer a todos los datos a un rango similar para comparaciones más útiles entre los datos. Hay técnicas de centrado y de escalado."
      ],
      "metadata": {
        "id": "kkBdari-0b0x"
      }
    },
    {
      "cell_type": "markdown",
      "source": [
        "##Dealing with missing values in Python"
      ],
      "metadata": {
        "id": "8iSjfdq91Ri_"
      }
    },
    {
      "cell_type": "markdown",
      "source": [
        "Cuando no hay un valor almacenado de una característica para una observación particular, se dice que la característica tiene un valor faltante. Usualmente un valor faltante aparece en un conjunto de datos como \"?\", \"N/A\", 0 o simplemente una celda vacía."
      ],
      "metadata": {
        "id": "BIcabVzO1Zaq"
      }
    },
    {
      "cell_type": "markdown",
      "source": [
        "Opciones para lidiar con valores faltantes:\n",
        "\n",
        "\n",
        "*   Averiguar si la persona que recolectó los datos puede recuperar ese dato.\n",
        "*   Simplemente remover los datos en los que se encontró ese valor faltante. Se puede eliminar toda la variable o solo la entrada con el valor faltante. Si no se tienen muchas observaciones con valores faltantes, usualmente lo mejor es deshechar solo la entrada particular.\n",
        "*   Reemplazar los datos es mejor, ya que de esta manera no se desperdician datos. Es menos preciso porque se debe de reemplazar el dato con una suposición del valor que tendría que tener el dato.\n",
        "\n"
      ],
      "metadata": {
        "id": "z4omlK152TZE"
      }
    },
    {
      "cell_type": "code",
      "execution_count": null,
      "metadata": {
        "id": "0K_WYDJ4yoi0"
      },
      "outputs": [],
      "source": []
    }
  ]
}