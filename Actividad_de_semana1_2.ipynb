{
  "nbformat": 4,
  "nbformat_minor": 0,
  "metadata": {
    "colab": {
      "provenance": [],
      "collapsed_sections": [
        "4vUcoet9MASc",
        "oXP1X0j3MFLw"
      ],
      "authorship_tag": "ABX9TyNRm7Vkb6bIylvX8kKLoxrE",
      "include_colab_link": true
    },
    "kernelspec": {
      "name": "python3",
      "display_name": "Python 3"
    },
    "language_info": {
      "name": "python"
    }
  },
  "cells": [
    {
      "cell_type": "markdown",
      "metadata": {
        "id": "view-in-github",
        "colab_type": "text"
      },
      "source": [
        "<a href=\"https://colab.research.google.com/github/PosgradoMNA/actividades-de-aprendizaje-murasakiw/blob/main/Actividad_de_semana1_2.ipynb\" target=\"_parent\"><img src=\"https://colab.research.google.com/assets/colab-badge.svg\" alt=\"Open In Colab\"/></a>"
      ]
    },
    {
      "cell_type": "markdown",
      "source": [
        "Nombre: Sergio Omar Esparza Hernández\n",
        "Matrícula: A01794338"
      ],
      "metadata": {
        "id": "POnXVHVae8GJ"
      }
    },
    {
      "cell_type": "markdown",
      "source": [
        "# **Python for Data Science**"
      ],
      "metadata": {
        "id": "uOmXQfWsKMkC"
      }
    },
    {
      "cell_type": "markdown",
      "source": [
        "# Module 1: Python Basics"
      ],
      "metadata": {
        "id": "iwT5RUZnKbhh"
      }
    },
    {
      "cell_type": "markdown",
      "source": [
        "## Your First Program"
      ],
      "metadata": {
        "id": "4vUcoet9MASc"
      }
    },
    {
      "cell_type": "code",
      "source": [
        "#Un error sintáctico(syntactic error) es cuando python no entiende el código\n",
        "#Por ejemplo, si se escribe frint en lugar de print\n",
        "print('Hello Python 101') "
      ],
      "metadata": {
        "colab": {
          "base_uri": "https://localhost:8080/"
        },
        "id": "NcfnMok8Kp4H",
        "outputId": "005945b5-4e0a-4c57-e168-9ea050474051"
      },
      "execution_count": null,
      "outputs": [
        {
          "output_type": "stream",
          "name": "stdout",
          "text": [
            "Hello Python 101\n"
          ]
        }
      ]
    },
    {
      "cell_type": "code",
      "source": [
        "print('Hello\\nWorld') #\\n se utiliza para insertar una nueva línea"
      ],
      "metadata": {
        "colab": {
          "base_uri": "https://localhost:8080/"
        },
        "id": "UjOLwTsMLn7q",
        "outputId": "27ca569d-bf9d-4925-f4f0-26b30169f928"
      },
      "execution_count": null,
      "outputs": [
        {
          "output_type": "stream",
          "name": "stdout",
          "text": [
            "Hello\n",
            "World\n"
          ]
        }
      ]
    },
    {
      "cell_type": "markdown",
      "source": [
        "##Types"
      ],
      "metadata": {
        "id": "oXP1X0j3MFLw"
      }
    },
    {
      "cell_type": "code",
      "source": [
        "#Cómo python representa diferentes tipos de datos\n",
        "#type() se utiliza para ver el tipo de dato\n",
        "print(type(11)) #Dato entero\n",
        "print(type(21.213)) #Número real\n",
        "print(type('Hello')) #Secuencia de caracteres"
      ],
      "metadata": {
        "colab": {
          "base_uri": "https://localhost:8080/"
        },
        "id": "78ySknwpMSP6",
        "outputId": "a5240828-5432-4c28-d363-18de29d7fa64"
      },
      "execution_count": null,
      "outputs": [
        {
          "output_type": "stream",
          "name": "stdout",
          "text": [
            "<class 'int'>\n",
            "<class 'float'>\n",
            "<class 'str'>\n"
          ]
        }
      ]
    },
    {
      "cell_type": "code",
      "source": [
        "#Se puede cambiar el tipo de una expresión en python y esto es llamado type-casting\n",
        "print(float(2))\n",
        "print(int(1.1))"
      ],
      "metadata": {
        "colab": {
          "base_uri": "https://localhost:8080/"
        },
        "id": "cRQ9_eU3NZ5R",
        "outputId": "146da2c6-1bbf-4316-ded1-9f70ae1330f5"
      },
      "execution_count": null,
      "outputs": [
        {
          "output_type": "stream",
          "name": "stdout",
          "text": [
            "2.0\n",
            "1\n"
          ]
        }
      ]
    },
    {
      "cell_type": "code",
      "source": [
        "#Se pueden convertir cadenas con un valor entero a int\n",
        "print(int('1234'))"
      ],
      "metadata": {
        "colab": {
          "base_uri": "https://localhost:8080/"
        },
        "id": "pc1F1oSuN7lW",
        "outputId": "11b1c206-8a59-465d-a927-184e227022e0"
      },
      "execution_count": null,
      "outputs": [
        {
          "output_type": "stream",
          "name": "stdout",
          "text": [
            "1234\n"
          ]
        }
      ]
    },
    {
      "cell_type": "code",
      "source": [
        "#No se pueden convertir cadenas que no tienen valor entero\n",
        "print(int('a')) #Esto arroja un error"
      ],
      "metadata": {
        "id": "qawBvv0eOYXb"
      },
      "execution_count": null,
      "outputs": []
    },
    {
      "cell_type": "code",
      "source": [
        "#Un boolean puede tomar dos valores True o False\n",
        "print(type(True))\n",
        "print(int(True)) #Convierte tipo bool True en 1\n",
        "print(int(False)) ##Convierte tipo bool False en 0\n",
        "print(bool(1)) #Convierte tipo int en True\n",
        "print(bool(0)) ##Convierte tipo int en False"
      ],
      "metadata": {
        "colab": {
          "base_uri": "https://localhost:8080/"
        },
        "id": "L8LhqAwXOZV_",
        "outputId": "33b954a8-2ceb-4426-aeca-d42ef590b2bf"
      },
      "execution_count": null,
      "outputs": [
        {
          "output_type": "stream",
          "name": "stdout",
          "text": [
            "<class 'bool'>\n",
            "1\n",
            "0\n",
            "True\n",
            "False\n"
          ]
        }
      ]
    },
    {
      "cell_type": "markdown",
      "source": [
        "## Expressions and Variables"
      ],
      "metadata": {
        "id": "JHNvQ2msQZLT"
      }
    },
    {
      "cell_type": "markdown",
      "source": [
        "###Expressions"
      ],
      "metadata": {
        "id": "wR5EQyG7j2Is"
      }
    },
    {
      "cell_type": "code",
      "source": [
        "#Las expresiones son operaciones que realiza python\n",
        "print(43+60+16+41) #Los números son llamados operandos y los símbolos(+) son llamados operadores\n",
        "print(50-60)\n",
        "print(25*5)\n",
        "print(25/6)\n",
        "print(25//6) #División entera, el resultado se redondea\n",
        "print(2*60+30) #Python sigue las convenciones matemáticas cuando se realizan operaciones\n",
        "print((30+2)*60)"
      ],
      "metadata": {
        "id": "YlkA4kmoQjXH",
        "colab": {
          "base_uri": "https://localhost:8080/"
        },
        "outputId": "debe25fc-666d-44a6-f2c0-08d0807b38be"
      },
      "execution_count": null,
      "outputs": [
        {
          "output_type": "stream",
          "name": "stdout",
          "text": [
            "160\n",
            "-10\n",
            "125\n",
            "4.166666666666667\n",
            "4\n",
            "150\n",
            "1920\n"
          ]
        }
      ]
    },
    {
      "cell_type": "markdown",
      "source": [
        "### Variables"
      ],
      "metadata": {
        "id": "Mo1xZmLPjwyU"
      }
    },
    {
      "cell_type": "code",
      "source": [
        "#Las variables se utilizan para almacenar valores\n",
        "my_variable = 1"
      ],
      "metadata": {
        "id": "qeXmLrVXj0ie"
      },
      "execution_count": null,
      "outputs": []
    },
    {
      "cell_type": "code",
      "source": [
        "my_variable"
      ],
      "metadata": {
        "colab": {
          "base_uri": "https://localhost:8080/"
        },
        "id": "9UlXTai9kfG2",
        "outputId": "81994a49-6b22-401a-bc01-cfff9125bd4e"
      },
      "execution_count": null,
      "outputs": [
        {
          "output_type": "execute_result",
          "data": {
            "text/plain": [
              "1"
            ]
          },
          "metadata": {},
          "execution_count": 18
        }
      ]
    },
    {
      "cell_type": "code",
      "source": [
        "my_variable = 10 #Con el operador de asignación(=) se puede asignar un nuevo valor"
      ],
      "metadata": {
        "id": "lUKMpyVZkJvs"
      },
      "execution_count": null,
      "outputs": []
    },
    {
      "cell_type": "code",
      "source": [
        "my_variable"
      ],
      "metadata": {
        "colab": {
          "base_uri": "https://localhost:8080/"
        },
        "id": "G9faLze6kicM",
        "outputId": "ee3a8f62-dc3b-45ac-d930-0104413fae0c"
      },
      "execution_count": null,
      "outputs": [
        {
          "output_type": "execute_result",
          "data": {
            "text/plain": [
              "10"
            ]
          },
          "metadata": {},
          "execution_count": 20
        }
      ]
    },
    {
      "cell_type": "code",
      "source": [
        "x = 32 + 12 + 10 + 5 #La variable x guarda el resultado de toda la operación\n",
        "x"
      ],
      "metadata": {
        "colab": {
          "base_uri": "https://localhost:8080/"
        },
        "id": "-EUoSsDCkmKf",
        "outputId": "080a0ce9-b6cb-428c-f059-b1cf3996fc86"
      },
      "execution_count": null,
      "outputs": [
        {
          "output_type": "execute_result",
          "data": {
            "text/plain": [
              "59"
            ]
          },
          "metadata": {},
          "execution_count": 26
        }
      ]
    },
    {
      "cell_type": "code",
      "source": [
        "y = x/6 #Se pueden realizar operaciones sobre una variable y guardar el resultado en otra\n",
        "y"
      ],
      "metadata": {
        "colab": {
          "base_uri": "https://localhost:8080/"
        },
        "id": "hRMQDOkZkzkP",
        "outputId": "13592af9-67e2-4f38-8719-021c29221e31"
      },
      "execution_count": null,
      "outputs": [
        {
          "output_type": "execute_result",
          "data": {
            "text/plain": [
              "9.833333333333334"
            ]
          },
          "metadata": {},
          "execution_count": 23
        }
      ]
    },
    {
      "cell_type": "code",
      "source": [
        "x = x/8 #También se pueden realizar operaciones sobre la variable y almacenar el resultado en la misma variable\n",
        "x"
      ],
      "metadata": {
        "colab": {
          "base_uri": "https://localhost:8080/"
        },
        "id": "X5MQGaRxlEFc",
        "outputId": "e1f12d4c-ecdd-439b-99fa-3975b6e57de7"
      },
      "execution_count": null,
      "outputs": [
        {
          "output_type": "execute_result",
          "data": {
            "text/plain": [
              "7.375"
            ]
          },
          "metadata": {},
          "execution_count": 27
        }
      ]
    },
    {
      "cell_type": "code",
      "source": [
        "type(x) #Se puede usar type sobre variables"
      ],
      "metadata": {
        "colab": {
          "base_uri": "https://localhost:8080/"
        },
        "id": "DAtH9rClld-e",
        "outputId": "29993f6a-ef90-4970-80ed-433b061386b2"
      },
      "execution_count": null,
      "outputs": [
        {
          "output_type": "execute_result",
          "data": {
            "text/plain": [
              "float"
            ]
          },
          "metadata": {},
          "execution_count": 28
        }
      ]
    },
    {
      "cell_type": "code",
      "source": [
        "#Una buena práctica es utilizar nombres de variables con significado\n",
        "total_min = 43 + 42 + 57 #El nombre de la variable hace referencia al total de minutos de un álbum musical\n",
        "total_hr = total_min/60 #El nombre de la variable hace referencia a la conversión a horas del total de minutos\n",
        "total_hr"
      ],
      "metadata": {
        "colab": {
          "base_uri": "https://localhost:8080/"
        },
        "id": "o2kJ8BWCltpl",
        "outputId": "52463310-312c-45c7-bb27-140b605595f6"
      },
      "execution_count": null,
      "outputs": [
        {
          "output_type": "execute_result",
          "data": {
            "text/plain": [
              "2.3666666666666667"
            ]
          },
          "metadata": {},
          "execution_count": 29
        }
      ]
    },
    {
      "cell_type": "code",
      "source": [
        "#Para saber qué versión de python se está utilizando\n",
        "import sys\n",
        "print(sys.version)"
      ],
      "metadata": {
        "colab": {
          "base_uri": "https://localhost:8080/"
        },
        "id": "hFHSQMSum09m",
        "outputId": "36c1d181-9f4a-4f5b-f6d6-c81a96cfbb62"
      },
      "execution_count": null,
      "outputs": [
        {
          "output_type": "stream",
          "name": "stdout",
          "text": [
            "3.7.14 (default, Sep  8 2022, 00:06:44) \n",
            "[GCC 7.5.0]\n"
          ]
        }
      ]
    },
    {
      "cell_type": "code",
      "source": [
        "#Para obtener información acerca del tipo float\n",
        "sys.float_info"
      ],
      "metadata": {
        "colab": {
          "base_uri": "https://localhost:8080/"
        },
        "id": "LYgC3M5ZnHCQ",
        "outputId": "c9733516-8330-40e9-c422-375d7be7e0fd"
      },
      "execution_count": null,
      "outputs": [
        {
          "output_type": "execute_result",
          "data": {
            "text/plain": [
              "sys.float_info(max=1.7976931348623157e+308, max_exp=1024, max_10_exp=308, min=2.2250738585072014e-308, min_exp=-1021, min_10_exp=-307, dig=15, mant_dig=53, epsilon=2.220446049250313e-16, radix=2, rounds=1)"
            ]
          },
          "metadata": {},
          "execution_count": 31
        }
      ]
    },
    {
      "cell_type": "markdown",
      "source": [
        "##String Operations"
      ],
      "metadata": {
        "id": "FGVl6otY94y8"
      }
    },
    {
      "cell_type": "code",
      "source": [
        "#Una string es una secuencia de caracteres\n",
        "name = 'Omar Esparza' #Se pueden guardar strings en una variable\n",
        "#Se puede acceder a cada carácter de la string con índices\n",
        "#Los índices siempre comienzan en 0\n",
        "#Se pueden utilizar índices negativos, con -1 se accede al último carácter de la string\n",
        "#Al irle restando números al índice, se van recorriendo los caracteres en orden inverso,\n",
        "#es decir, de derecha a izquierda"
      ],
      "metadata": {
        "id": "9bxkVT-P-AbA"
      },
      "execution_count": null,
      "outputs": []
    },
    {
      "cell_type": "code",
      "source": [
        "#Slicing\n",
        "#Consiste en obtener partes de la cadena completa, indicando el índice inicial\n",
        "#y final. El resultado será una cadena que va desde el índice inicial hasta un\n",
        "#carácter antes del índice final indicado\n",
        "name_slice = name[0:5]\n",
        "name_slice"
      ],
      "metadata": {
        "colab": {
          "base_uri": "https://localhost:8080/",
          "height": 35
        },
        "id": "wr7XJxSJ_PhS",
        "outputId": "12334ea3-affc-4296-e089-6ebf32786b52"
      },
      "execution_count": null,
      "outputs": [
        {
          "output_type": "execute_result",
          "data": {
            "text/plain": [
              "'Omar '"
            ],
            "application/vnd.google.colaboratory.intrinsic+json": {
              "type": "string"
            }
          },
          "metadata": {},
          "execution_count": 2
        }
      ]
    },
    {
      "cell_type": "code",
      "source": [
        "#Stride\n",
        "#Regresa los carácteres siguiendo el paso índicado\n",
        "name_slice_2 = name[::2] #Regresa los caracteres del inicio hasta el final, pero recorriendo de dos en dos la cadena\n",
        "name_slice_2"
      ],
      "metadata": {
        "colab": {
          "base_uri": "https://localhost:8080/",
          "height": 35
        },
        "id": "rtGVx5mt_w6G",
        "outputId": "c1ca34c6-5de8-46bf-8cbd-02714b4eec1b"
      },
      "execution_count": null,
      "outputs": [
        {
          "output_type": "execute_result",
          "data": {
            "text/plain": [
              "'Oa saz'"
            ],
            "application/vnd.google.colaboratory.intrinsic+json": {
              "type": "string"
            }
          },
          "metadata": {},
          "execution_count": 3
        }
      ]
    },
    {
      "cell_type": "code",
      "source": [
        "#También se puede indicar el índice inicial y final cuando se indica el número correspondiente al paso\n",
        "name_slice_3 = name[1:6:2]\n",
        "name_slice_3"
      ],
      "metadata": {
        "colab": {
          "base_uri": "https://localhost:8080/",
          "height": 35
        },
        "id": "b6-wyIN_AcQe",
        "outputId": "3dee0858-df72-4b9c-813f-5723a8ee996d"
      },
      "execution_count": null,
      "outputs": [
        {
          "output_type": "execute_result",
          "data": {
            "text/plain": [
              "'mrE'"
            ],
            "application/vnd.google.colaboratory.intrinsic+json": {
              "type": "string"
            }
          },
          "metadata": {},
          "execution_count": 4
        }
      ]
    },
    {
      "cell_type": "code",
      "source": [
        "#La instrucción len() se puede utilizar para obtener la longitud de una string\n",
        "len(name)"
      ],
      "metadata": {
        "colab": {
          "base_uri": "https://localhost:8080/"
        },
        "id": "WddXdl3HAwa7",
        "outputId": "d5feb28e-b41a-40e9-ff4f-449d0a407624"
      },
      "execution_count": null,
      "outputs": [
        {
          "output_type": "execute_result",
          "data": {
            "text/plain": [
              "12"
            ]
          },
          "metadata": {},
          "execution_count": 5
        }
      ]
    },
    {
      "cell_type": "code",
      "source": [
        "#Concatenar o combinar strings con el símbolo +\n",
        "name_concat = name + ' es el mejor'\n",
        "name_concat"
      ],
      "metadata": {
        "colab": {
          "base_uri": "https://localhost:8080/",
          "height": 35
        },
        "id": "tSqBib-gA6yX",
        "outputId": "599f6c56-6197-4af5-edc7-09ae3f8106e3"
      },
      "execution_count": null,
      "outputs": [
        {
          "output_type": "execute_result",
          "data": {
            "text/plain": [
              "'Omar Esparza es el mejor'"
            ],
            "application/vnd.google.colaboratory.intrinsic+json": {
              "type": "string"
            }
          },
          "metadata": {},
          "execution_count": 6
        }
      ]
    },
    {
      "cell_type": "code",
      "source": [
        "#Multiplicar los valores de una string al multiplicarlos por un número\n",
        "3*name"
      ],
      "metadata": {
        "colab": {
          "base_uri": "https://localhost:8080/",
          "height": 35
        },
        "id": "XQh0jfjRBPRX",
        "outputId": "f2e52494-3128-4347-e855-997ad60d29dd"
      },
      "execution_count": null,
      "outputs": [
        {
          "output_type": "execute_result",
          "data": {
            "text/plain": [
              "'Omar EsparzaOmar EsparzaOmar Esparza'"
            ],
            "application/vnd.google.colaboratory.intrinsic+json": {
              "type": "string"
            }
          },
          "metadata": {},
          "execution_count": 7
        }
      ]
    },
    {
      "cell_type": "code",
      "source": [
        "#Las strings son inmutables, es decir, no puedes cambiar el valor de estas\n",
        "#pero se puede crear una nueva string y guardarla en la misma variable\n",
        "name[0] = 'S' #Esto no se puede hacer"
      ],
      "metadata": {
        "id": "ejO58rgwBZHh"
      },
      "execution_count": null,
      "outputs": []
    },
    {
      "cell_type": "code",
      "source": [
        "#Secuencias de escape\n",
        "#Las secuencias de escape representan strings que pueden ser difíciles de ingresar\n",
        "#Estas secuencias comienzan con(\\)\n",
        "print('Hola\\namigos')#\\n Representa una nueva línea\n",
        "print('Hola\\tamigos')#\\t Representa una tabulación\n",
        "print('Hola\\\\amigos')#\\\\ Es para escribir una sola \\\n",
        "print(r'Hola\\amigos')#Otra forma de escribir \\ es colocar una r antes de la comilla inicial"
      ],
      "metadata": {
        "colab": {
          "base_uri": "https://localhost:8080/"
        },
        "id": "tsVZf0knB6YV",
        "outputId": "7d085d27-9818-4feb-c866-3a4459d1aee5"
      },
      "execution_count": null,
      "outputs": [
        {
          "output_type": "stream",
          "name": "stdout",
          "text": [
            "Hola\n",
            "amigos\n",
            "Hola\tamigos\n",
            "Hola\\amigos\n",
            "Hola\\amigos\n"
          ]
        }
      ]
    },
    {
      "cell_type": "markdown",
      "source": [
        "###String methods"
      ],
      "metadata": {
        "id": "D6ZbfjG6DlHv"
      }
    },
    {
      "cell_type": "code",
      "source": [
        "A = \"Leer es bueno para la mente\"\n",
        "B = A.upper() #Este método transforma todas las letras minúsculas en mayúsculas\n",
        "B"
      ],
      "metadata": {
        "colab": {
          "base_uri": "https://localhost:8080/",
          "height": 35
        },
        "id": "967kJFPyDrJz",
        "outputId": "b98059fe-be75-40cf-d261-741681f33898"
      },
      "execution_count": null,
      "outputs": [
        {
          "output_type": "execute_result",
          "data": {
            "text/plain": [
              "'LEER ES BUENO PARA LA MENTE'"
            ],
            "application/vnd.google.colaboratory.intrinsic+json": {
              "type": "string"
            }
          },
          "metadata": {},
          "execution_count": 10
        }
      ]
    },
    {
      "cell_type": "code",
      "source": [
        "C = A.replace('Leer', 'Dormir') #Este método reemplaza la primera string por la segunda en la string guardada en la variable A\n",
        "C"
      ],
      "metadata": {
        "colab": {
          "base_uri": "https://localhost:8080/",
          "height": 35
        },
        "id": "UyCQ2DtsD_kS",
        "outputId": "1de3645b-189d-4cc3-8e85-f8273476cf53"
      },
      "execution_count": null,
      "outputs": [
        {
          "output_type": "execute_result",
          "data": {
            "text/plain": [
              "'Dormir es bueno para la mente'"
            ],
            "application/vnd.google.colaboratory.intrinsic+json": {
              "type": "string"
            }
          },
          "metadata": {},
          "execution_count": 11
        }
      ]
    },
    {
      "cell_type": "code",
      "source": [
        "A.find('para') #Este método regresa el índice en el que comienza la string especificada"
      ],
      "metadata": {
        "colab": {
          "base_uri": "https://localhost:8080/"
        },
        "id": "WGM-7erNEdBN",
        "outputId": "347dcf84-619f-4476-bf1f-5f307a65ee71"
      },
      "execution_count": null,
      "outputs": [
        {
          "output_type": "execute_result",
          "data": {
            "text/plain": [
              "14"
            ]
          },
          "metadata": {},
          "execution_count": 12
        }
      ]
    },
    {
      "cell_type": "code",
      "source": [
        "#Si la string que se desea encontrar, no está en la string en la que se busca, entonces se obtiene un -1 como resultado\n",
        "A.find('corazón')"
      ],
      "metadata": {
        "colab": {
          "base_uri": "https://localhost:8080/"
        },
        "id": "T0VLFWmKE1pv",
        "outputId": "c842d87f-e1c8-49d8-8f1a-4526319073df"
      },
      "execution_count": null,
      "outputs": [
        {
          "output_type": "execute_result",
          "data": {
            "text/plain": [
              "-1"
            ]
          },
          "metadata": {},
          "execution_count": 13
        }
      ]
    },
    {
      "cell_type": "markdown",
      "source": [
        "#Module 2: Python Data Structures"
      ],
      "metadata": {
        "id": "Am3cxXEiV1rU"
      }
    },
    {
      "cell_type": "markdown",
      "source": [
        "##Lists and Tuples"
      ],
      "metadata": {
        "id": "wNMJLp0sV9Bm"
      }
    },
    {
      "cell_type": "markdown",
      "source": [
        "###Tuples"
      ],
      "metadata": {
        "id": "kGQMRTkztSOv"
      }
    },
    {
      "cell_type": "code",
      "source": [
        "#Son llamados tipos de datos compuestos\n",
        "#Tuplas-Son secuencias ordenadas\n",
        "#Son expresadas con elementos separados por comas dentro de paréntesis\n",
        "#Los diferentes tipos de datos de Python pueden colocarse dentro de una tupla\n",
        "tuple_1 = ('hola', 5, 1.5)\n",
        "print(type(tuple_1)) #El tipo de dato de una tupla siempre será tuple"
      ],
      "metadata": {
        "colab": {
          "base_uri": "https://localhost:8080/"
        },
        "id": "RvCQ_2VNWBh2",
        "outputId": "4881410b-52b1-4c9a-f286-fb9e843a1fee"
      },
      "execution_count": null,
      "outputs": [
        {
          "output_type": "stream",
          "name": "stdout",
          "text": [
            "<class 'tuple'>\n"
          ]
        }
      ]
    },
    {
      "cell_type": "code",
      "source": [
        "#Cada elemento de la tupla puede ser obtenido por un índice\n",
        "print(tuple_1[0])\n",
        "#De igual manera se pueden utilizar índices negativos\n",
        "print(tuple_1[-1])"
      ],
      "metadata": {
        "colab": {
          "base_uri": "https://localhost:8080/"
        },
        "id": "B0684ESrXW_h",
        "outputId": "68d255c0-db5b-4be2-fa83-08d7e487c87e"
      },
      "execution_count": null,
      "outputs": [
        {
          "output_type": "stream",
          "name": "stdout",
          "text": [
            "hola\n",
            "1.5\n"
          ]
        }
      ]
    },
    {
      "cell_type": "code",
      "source": [
        "#Se pueden combinar tuplas al concatenarlas\n",
        "tuple_2 = tuple_1 + ('adios', 50)\n",
        "tuple_2"
      ],
      "metadata": {
        "colab": {
          "base_uri": "https://localhost:8080/"
        },
        "id": "Vfw8PgMcXcZu",
        "outputId": "ba73cfc9-20b6-4201-ed3f-9ce2798e0f3a"
      },
      "execution_count": null,
      "outputs": [
        {
          "output_type": "execute_result",
          "data": {
            "text/plain": [
              "('hola', 5, 1.5, 'adios', 50)"
            ]
          },
          "metadata": {},
          "execution_count": 9
        }
      ]
    },
    {
      "cell_type": "code",
      "source": [
        "#El slicing también puede ser utilizado con las tuplas para obtener solo una parte\n",
        "tuple_2[0:3]"
      ],
      "metadata": {
        "colab": {
          "base_uri": "https://localhost:8080/"
        },
        "id": "fHQTXjSUXzyO",
        "outputId": "274c1bbd-c247-45f4-b47a-f87b8c3de05a"
      },
      "execution_count": null,
      "outputs": [
        {
          "output_type": "execute_result",
          "data": {
            "text/plain": [
              "('hola', 5, 1.5)"
            ]
          },
          "metadata": {},
          "execution_count": 10
        }
      ]
    },
    {
      "cell_type": "code",
      "source": [
        "#La instrucción len se puede utilizar también para obtener el tamaño de la tupla\n",
        "len(tuple_2)"
      ],
      "metadata": {
        "colab": {
          "base_uri": "https://localhost:8080/"
        },
        "id": "OzU7rFdbYLlO",
        "outputId": "d23fca66-6e84-4f91-f0fc-ecc09412033b"
      },
      "execution_count": null,
      "outputs": [
        {
          "output_type": "execute_result",
          "data": {
            "text/plain": [
              "5"
            ]
          },
          "metadata": {},
          "execution_count": 11
        }
      ]
    },
    {
      "cell_type": "code",
      "source": [
        "#Las tuplas son inmutables, es decir, no se pueden modificar\n",
        "#Si se requiere modificar una tupla, es necesario crear una nueva tupla y guardar ahí las modificaciones\n",
        "ratings = (10, 9, 6, 5, 10, 8, 9, 6, 2)\n",
        "print(ratings)\n",
        "ratings_sorted = sorted(ratings) #La función sorted ordena los elementos y regresa una lista\n",
        "print(ratings_sorted)"
      ],
      "metadata": {
        "colab": {
          "base_uri": "https://localhost:8080/"
        },
        "id": "XyaBz6kkZAJD",
        "outputId": "a110d336-0434-417c-d406-27d31d3d538c"
      },
      "execution_count": null,
      "outputs": [
        {
          "output_type": "stream",
          "name": "stdout",
          "text": [
            "(10, 9, 6, 5, 10, 8, 9, 6, 2)\n",
            "[2, 5, 6, 6, 8, 9, 9, 10, 10]\n"
          ]
        }
      ]
    },
    {
      "cell_type": "code",
      "source": [
        "#Una tupla puede contener otras tuplas dentro de su estructura, esto se llama nesting\n",
        "nested_tuple = (1, 2, ('pop', 'rock'), (3, 4), ('disco', (1, 2)))\n",
        "nested_tuple"
      ],
      "metadata": {
        "colab": {
          "base_uri": "https://localhost:8080/"
        },
        "id": "DXlRXRjaaGwk",
        "outputId": "254c74ec-6529-47ef-a663-711795389802"
      },
      "execution_count": null,
      "outputs": [
        {
          "output_type": "execute_result",
          "data": {
            "text/plain": [
              "(1, 2, ('pop', 'rock'), (3, 4), ('disco', (1, 2)))"
            ]
          },
          "metadata": {},
          "execution_count": 3
        }
      ]
    },
    {
      "cell_type": "code",
      "source": [
        "#Para acceder a los elementos dentro del nesting es necesario usar corchetes seguidos dependiendo de la profundidad \n",
        "nested_tuple[4][1][0]"
      ],
      "metadata": {
        "colab": {
          "base_uri": "https://localhost:8080/"
        },
        "id": "VulqHvMEadtM",
        "outputId": "dde44c75-da32-46fe-fce2-ff99919ee197"
      },
      "execution_count": null,
      "outputs": [
        {
          "output_type": "execute_result",
          "data": {
            "text/plain": [
              "1"
            ]
          },
          "metadata": {},
          "execution_count": 4
        }
      ]
    },
    {
      "cell_type": "code",
      "source": [
        "#Para obtener el índice en el que existe una coincidencia con el argumento del método\n",
        "ratings.index(8)"
      ],
      "metadata": {
        "colab": {
          "base_uri": "https://localhost:8080/"
        },
        "id": "YvDCkQcSB_Xo",
        "outputId": "22a8b9a4-c26f-49d0-f4ed-335dfe34c1ca"
      },
      "execution_count": null,
      "outputs": [
        {
          "output_type": "execute_result",
          "data": {
            "text/plain": [
              "5"
            ]
          },
          "metadata": {},
          "execution_count": 24
        }
      ]
    },
    {
      "cell_type": "markdown",
      "source": [
        "###Lists"
      ],
      "metadata": {
        "id": "9-PEt-vxtWOd"
      }
    },
    {
      "cell_type": "code",
      "source": [
        "#Las listas también son secuencias ordenadas\n",
        "#Una lista es representada con corchetes\n",
        "#Las listas son mutables, es decir, que se pueden modificar\n",
        "#Las listas pueden contener diferentes tipos de datos\n",
        "lista = ['Hola', 10.1, 23, 1982]\n",
        "lista"
      ],
      "metadata": {
        "colab": {
          "base_uri": "https://localhost:8080/"
        },
        "id": "Dvgwgv0GtYTf",
        "outputId": "b7a49737-2b58-4a1f-b01e-abc187ae2896"
      },
      "execution_count": null,
      "outputs": [
        {
          "output_type": "execute_result",
          "data": {
            "text/plain": [
              "['Hola', 10.1, 23, 1982]"
            ]
          },
          "metadata": {},
          "execution_count": 5
        }
      ]
    },
    {
      "cell_type": "code",
      "source": [
        "#También se puede hacer nesting con las listas\n",
        "nested_list = ['Hola', 10.1, 1982, [1, 2], ('A', 1)]\n",
        "nested_list"
      ],
      "metadata": {
        "colab": {
          "base_uri": "https://localhost:8080/"
        },
        "id": "Lt3bXp4Juj-n",
        "outputId": "80d6c038-d931-43ff-bd66-8ae9598fac67"
      },
      "execution_count": null,
      "outputs": [
        {
          "output_type": "execute_result",
          "data": {
            "text/plain": [
              "['Hola', 10.1, 1982, [1, 2], ('A', 1)]"
            ]
          },
          "metadata": {},
          "execution_count": 6
        }
      ]
    },
    {
      "cell_type": "code",
      "source": [
        "#Cada elemento de una lista puede ser obtenido a través de su índice\n",
        "print(lista[0])\n",
        "#Índices negativos se pueden utilizar para acceder a los elementos en orden inverso\n",
        "print(lista[-1])"
      ],
      "metadata": {
        "colab": {
          "base_uri": "https://localhost:8080/"
        },
        "id": "JsPWPHYWu_DM",
        "outputId": "a93404de-e94d-4b48-9628-b00670b26990"
      },
      "execution_count": null,
      "outputs": [
        {
          "output_type": "stream",
          "name": "stdout",
          "text": [
            "Hola\n",
            "1982\n"
          ]
        }
      ]
    },
    {
      "cell_type": "code",
      "source": [
        "#El slicing también se puede utilizar para obtener solo una parte de la lista\n",
        "lista[2:4]"
      ],
      "metadata": {
        "colab": {
          "base_uri": "https://localhost:8080/"
        },
        "id": "ehgMYhTqvLzV",
        "outputId": "d3bdfd2c-eb95-437e-80f4-9cd647156dbf"
      },
      "execution_count": null,
      "outputs": [
        {
          "output_type": "execute_result",
          "data": {
            "text/plain": [
              "[23, 1982]"
            ]
          },
          "metadata": {},
          "execution_count": 9
        }
      ]
    },
    {
      "cell_type": "code",
      "source": [
        "#Se pueden combinar listas utilizando el símbolo +\n",
        "lista_2 = lista + ['adiós', 25]\n",
        "lista_2"
      ],
      "metadata": {
        "colab": {
          "base_uri": "https://localhost:8080/"
        },
        "id": "TdAhrw5yvqVg",
        "outputId": "dc5178c0-1b68-4786-e171-4361a8eb4ee1"
      },
      "execution_count": null,
      "outputs": [
        {
          "output_type": "execute_result",
          "data": {
            "text/plain": [
              "['Hola', 10.1, 23, 1982, 'adiós', 25]"
            ]
          },
          "metadata": {},
          "execution_count": 10
        }
      ]
    },
    {
      "cell_type": "code",
      "source": [
        "#Con el método extend se pueden agregar elementos a la lista\n",
        "#Esto se puede realizar, ya que la lista es un tipo de dato mutable\n",
        "lista.extend(['perro', 'gato', 6])\n",
        "lista"
      ],
      "metadata": {
        "colab": {
          "base_uri": "https://localhost:8080/"
        },
        "id": "SRLqbXotwElK",
        "outputId": "74de8467-6538-4844-f073-e6ed59860b77"
      },
      "execution_count": null,
      "outputs": [
        {
          "output_type": "execute_result",
          "data": {
            "text/plain": [
              "['Hola', 10.1, 23, 1982, 'perro', 'gato', 6]"
            ]
          },
          "metadata": {},
          "execution_count": 11
        }
      ]
    },
    {
      "cell_type": "code",
      "source": [
        "#El método append agrega solo un elemento al final de la lista\n",
        "#Por eso la lista se añade como solo un elemento y no se combina con la otra lista\n",
        "lista.append(['dos', 1])\n",
        "lista"
      ],
      "metadata": {
        "colab": {
          "base_uri": "https://localhost:8080/"
        },
        "id": "Xk5m8pDnwuEu",
        "outputId": "fdb19f96-f3b1-4620-a281-31c453e1cbed"
      },
      "execution_count": null,
      "outputs": [
        {
          "output_type": "execute_result",
          "data": {
            "text/plain": [
              "['Hola', 10.1, 23, 1982, 'perro', 'gato', 6, ['dos', 1], ['dos', 1]]"
            ]
          },
          "metadata": {},
          "execution_count": 13
        }
      ]
    },
    {
      "cell_type": "code",
      "source": [
        "#También se puede cambiar cualquier elemento de la lista, ya que es un elemento mutable\n",
        "lista[0] = 'Saludo'\n",
        "lista"
      ],
      "metadata": {
        "colab": {
          "base_uri": "https://localhost:8080/"
        },
        "id": "OPoKKmeBxGzW",
        "outputId": "a0d5a86b-a14e-4beb-d8f4-ab6c93ed64c5"
      },
      "execution_count": null,
      "outputs": [
        {
          "output_type": "execute_result",
          "data": {
            "text/plain": [
              "['Saludo', 10.1, 23, 1982, 'perro', 'gato', 6, ['dos', 1], ['dos', 1]]"
            ]
          },
          "metadata": {},
          "execution_count": 14
        }
      ]
    },
    {
      "cell_type": "code",
      "source": [
        "#Para borrar un elemento de la lista se utiliza la instrucción del e indicando el elemento\n",
        "del(lista[0])\n",
        "lista"
      ],
      "metadata": {
        "colab": {
          "base_uri": "https://localhost:8080/"
        },
        "id": "j81osvmrxf-Q",
        "outputId": "91775555-bd25-4030-91d6-09acad9330ba"
      },
      "execution_count": null,
      "outputs": [
        {
          "output_type": "execute_result",
          "data": {
            "text/plain": [
              "[10.1, 23, 1982, 'perro', 'gato', 6, ['dos', 1], ['dos', 1]]"
            ]
          },
          "metadata": {},
          "execution_count": 16
        }
      ]
    },
    {
      "cell_type": "code",
      "source": [
        "#Se puede convertir una string en una lista con el método split\n",
        "#Se convierte cada string separada por un espacio a una lista\n",
        "list_split = 'hard rock'.split()\n",
        "list_split"
      ],
      "metadata": {
        "colab": {
          "base_uri": "https://localhost:8080/"
        },
        "id": "fdw8O1fzxsc3",
        "outputId": "d6d3f7d8-b709-47a3-b7a9-8f98ec586baf"
      },
      "execution_count": null,
      "outputs": [
        {
          "output_type": "execute_result",
          "data": {
            "text/plain": [
              "['hard', 'rock']"
            ]
          },
          "metadata": {},
          "execution_count": 17
        }
      ]
    },
    {
      "cell_type": "code",
      "source": [
        "#Se puede pasar como argumento un separador al método split\n",
        "#Entonces cada string será separada siguiendo el separador indicado\n",
        "list_2_split = 'A,B,C,D'.split(',')\n",
        "list_2_split"
      ],
      "metadata": {
        "colab": {
          "base_uri": "https://localhost:8080/"
        },
        "id": "NQn72X3uyKQf",
        "outputId": "8d996ac8-8fb2-4ac7-fb49-77bc45bd2ea8"
      },
      "execution_count": null,
      "outputs": [
        {
          "output_type": "execute_result",
          "data": {
            "text/plain": [
              "['A', 'B', 'C', 'D']"
            ]
          },
          "metadata": {},
          "execution_count": 18
        }
      ]
    },
    {
      "cell_type": "code",
      "source": [
        "#Cuando se asigna a una variable otra variable que tiene asignada una lista\n",
        "#Las dos variables hacen referencia a la misma lista y si se modifica una variable, también se modifica la otra\n",
        "#Multiples nombres que se refieren al mismo objeto se conoce como aliasing\n",
        "lista_A = [1, 2, 3, 4, 5]\n",
        "lista_B = lista_A #Si se modifica la lista_A, también se modifica la lista_B\n",
        "lista_A.extend([6, 7, 8])\n",
        "print(f'lista_A: {lista_A}')\n",
        "print(f'lista_B: {lista_B}')"
      ],
      "metadata": {
        "colab": {
          "base_uri": "https://localhost:8080/"
        },
        "id": "Jp9Dc4S4ysPX",
        "outputId": "dee2ce21-40fe-4722-a334-7481bb4ac0b4"
      },
      "execution_count": null,
      "outputs": [
        {
          "output_type": "stream",
          "name": "stdout",
          "text": [
            "lista_A: [1, 2, 3, 4, 5, 6, 7, 8]\n",
            "lista_B: [1, 2, 3, 4, 5, 6, 7, 8]\n"
          ]
        }
      ]
    },
    {
      "cell_type": "code",
      "source": [
        "#Para evitar efectos adversos se puede clonar una lista y así se evita que varias variables hagan referencia al mismo objeto\n",
        "lista_C = [1, 2, 3, 4, 5]\n",
        "lista_D = lista_C[:]\n",
        "lista_C.extend([6, 7, 8, 9]) \n",
        "#Solo se modifica una lista, ya que ya no hacen referencia al mismo objeto\n",
        "print(f'lista_C: {lista_C}')\n",
        "print(f'lista_D: {lista_D}')"
      ],
      "metadata": {
        "colab": {
          "base_uri": "https://localhost:8080/"
        },
        "id": "9uzfE5Wa0YBn",
        "outputId": "9b102a35-5f85-4fc0-d11a-2183a334a124"
      },
      "execution_count": null,
      "outputs": [
        {
          "output_type": "stream",
          "name": "stdout",
          "text": [
            "lista_C: [1, 2, 3, 4, 5, 6, 7, 8, 9]\n",
            "lista_D: [1, 2, 3, 4, 5]\n"
          ]
        }
      ]
    },
    {
      "cell_type": "markdown",
      "source": [
        "##Sets"
      ],
      "metadata": {
        "id": "HWw1hpObR8Z3"
      }
    },
    {
      "cell_type": "code",
      "source": [
        "#Los sets son un tipo de colección\n",
        "#A los sets se les pueden ingresar diferentes tipos de datos de Python\n",
        "#Los sets no están ordenados, a diferencia de las listas y tuplas\n",
        "#Los sets no almacenan la posición de los elementos\n",
        "#Los sets solo tienen elementos únicos, solo hay uno de un elemento particular\n",
        "set_1 = {'perro', 'gato', 'león', 'tiburón', 'oso', 'nutria', 'perro', 'gato'}\n",
        "set_1 #Cuando un set es creado, no habrá elementos duplicados"
      ],
      "metadata": {
        "colab": {
          "base_uri": "https://localhost:8080/"
        },
        "id": "QJhw0UgQR-CT",
        "outputId": "bc1c734c-3892-4048-8333-4ba6918de98d"
      },
      "execution_count": null,
      "outputs": [
        {
          "output_type": "execute_result",
          "data": {
            "text/plain": [
              "{'gato', 'león', 'nutria', 'oso', 'perro', 'tiburón'}"
            ]
          },
          "metadata": {},
          "execution_count": 1
        }
      ]
    },
    {
      "cell_type": "code",
      "source": [
        "#Se puede convertir una lista en un set al usar la función set\n",
        "lista = [1, 2, 3, 4, 5]\n",
        "set_lista = set(lista)\n",
        "set_lista"
      ],
      "metadata": {
        "colab": {
          "base_uri": "https://localhost:8080/"
        },
        "id": "XM6uGGe-S8fh",
        "outputId": "d641b2b0-6236-4649-a887-f4a1e0068cef"
      },
      "execution_count": null,
      "outputs": [
        {
          "output_type": "execute_result",
          "data": {
            "text/plain": [
              "{1, 2, 3, 4, 5}"
            ]
          },
          "metadata": {},
          "execution_count": 3
        }
      ]
    },
    {
      "cell_type": "code",
      "source": [
        "#Operaciones para modificar un set\n",
        "#Agregar un elemento al set con el método add\n",
        "set_A = {'perro', 'león', 'gato'}\n",
        "print(set_A)\n",
        "set_A.add('oso')\n",
        "print(set_A)"
      ],
      "metadata": {
        "colab": {
          "base_uri": "https://localhost:8080/"
        },
        "id": "WdtQnsq0TOUe",
        "outputId": "2ef9862d-8a10-4533-eff1-761afaa386db"
      },
      "execution_count": null,
      "outputs": [
        {
          "output_type": "stream",
          "name": "stdout",
          "text": [
            "{'perro', 'gato', 'león'}\n",
            "{'perro', 'gato', 'león', 'oso'}\n"
          ]
        }
      ]
    },
    {
      "cell_type": "code",
      "source": [
        "#Para remover un elemento de un set, se utiliza el método remove\n",
        "set_A.remove('perro')\n",
        "print(set_A)"
      ],
      "metadata": {
        "colab": {
          "base_uri": "https://localhost:8080/"
        },
        "id": "F0DYzRByT20v",
        "outputId": "f7523465-097b-4fec-dfff-fdc72cba3904"
      },
      "execution_count": null,
      "outputs": [
        {
          "output_type": "stream",
          "name": "stdout",
          "text": [
            "{'gato', 'león', 'oso'}\n"
          ]
        }
      ]
    },
    {
      "cell_type": "code",
      "source": [
        "#Con la instrucción in se puede averiguar si un elemento está en el set\n",
        "#Si el elemento está en el set regresa True, si no está regresa False\n",
        "'perro' in set_A"
      ],
      "metadata": {
        "colab": {
          "base_uri": "https://localhost:8080/"
        },
        "id": "6UjIa8kLUJkU",
        "outputId": "d8d9cf9a-6b46-4ae6-c3a1-c539976286aa"
      },
      "execution_count": null,
      "outputs": [
        {
          "output_type": "execute_result",
          "data": {
            "text/plain": [
              "False"
            ]
          },
          "metadata": {},
          "execution_count": 7
        }
      ]
    },
    {
      "cell_type": "code",
      "source": [
        "#Operaciones matemáticas de los sets\n",
        "set_animales_1 = {'perro', 'gato', 'pez', 'tortuga'}\n",
        "set_animales_2 = {'perro', 'gato', 'conejo', 'hurón', 'loro'}\n",
        "set_animales = set_animales_1 & set_animales_2 #Este set está compuesto por los elementos que comparten los dos sets\n",
        "#También se puede hacer la intersección con set_animales_1.intersection(set_animales_2)\n",
        "set_animales #El resultado es como una intersección en un diagrama de Venn"
      ],
      "metadata": {
        "colab": {
          "base_uri": "https://localhost:8080/"
        },
        "id": "1QYlrqrOUn8S",
        "outputId": "0ace001e-67f4-4ff6-c302-ae2122425d1b"
      },
      "execution_count": null,
      "outputs": [
        {
          "output_type": "execute_result",
          "data": {
            "text/plain": [
              "{'gato', 'perro'}"
            ]
          },
          "metadata": {},
          "execution_count": 1
        }
      ]
    },
    {
      "cell_type": "code",
      "source": [
        "#La unión de dos sets resulta en un nuevo set que contiene todos los elementos de los dos sets\n",
        "#Es como la unión de dos conjuntos\n",
        "set_union = set_animales_1.union(set_animales_2)\n",
        "set_union #Se guarda en este set la unión de los dos sets"
      ],
      "metadata": {
        "colab": {
          "base_uri": "https://localhost:8080/"
        },
        "id": "-HxRn6YqVhh6",
        "outputId": "726ebabe-8276-4947-b806-947a5153c79b"
      },
      "execution_count": null,
      "outputs": [
        {
          "output_type": "execute_result",
          "data": {
            "text/plain": [
              "{'conejo', 'gato', 'hurón', 'loro', 'perro', 'pez', 'tortuga'}"
            ]
          },
          "metadata": {},
          "execution_count": 10
        }
      ]
    },
    {
      "cell_type": "code",
      "source": [
        "#Se pueden obtener los elementos que solo forman parte de un set con el método difference\n",
        "set_animales_unicos_1 = set_animales_1.difference(set_animales_2)\n",
        "set_animales_unicos_2 = set_animales_2.difference(set_animales_1)\n",
        "set_animales_unicos_1, set_animales_unicos_2"
      ],
      "metadata": {
        "colab": {
          "base_uri": "https://localhost:8080/"
        },
        "id": "bb3LvoNFqbop",
        "outputId": "411b0420-79ee-45ae-d200-1939266f9d06"
      },
      "execution_count": null,
      "outputs": [
        {
          "output_type": "execute_result",
          "data": {
            "text/plain": [
              "({'pez', 'tortuga'}, {'conejo', 'hurón', 'loro'})"
            ]
          },
          "metadata": {},
          "execution_count": 3
        }
      ]
    },
    {
      "cell_type": "code",
      "source": [
        "#Se puede verificar si un set es subset de otro\n",
        "#En conjuntos, se puede decir que un set contiene al otro\n",
        "set_2 = {'perro', 'gato', 'huron', 'loro'}\n",
        "set_3 = {'perro', 'gato'}\n",
        "set_3.issubset(set_2) #Con este método se verifica si el set_3 es subset del set_2\n",
        "#True si es subset y False si no es subset"
      ],
      "metadata": {
        "colab": {
          "base_uri": "https://localhost:8080/"
        },
        "id": "b9cSY-6MWMOB",
        "outputId": "7a011076-c5ed-4683-d6d2-94d943cbff34"
      },
      "execution_count": null,
      "outputs": [
        {
          "output_type": "execute_result",
          "data": {
            "text/plain": [
              "True"
            ]
          },
          "metadata": {},
          "execution_count": 4
        }
      ]
    },
    {
      "cell_type": "code",
      "source": [
        "#De igual manera, se puede verificar si un set es superset de otro\n",
        "set_2.issuperset(set_3) #Con este método se verifica si el set_2 es superset del set_3\n",
        "#True si es superset y False si no es superset"
      ],
      "metadata": {
        "id": "3m1MyLrSW58W",
        "colab": {
          "base_uri": "https://localhost:8080/"
        },
        "outputId": "fae1a818-53b8-4078-e86b-bf75107894ec"
      },
      "execution_count": null,
      "outputs": [
        {
          "output_type": "execute_result",
          "data": {
            "text/plain": [
              "True"
            ]
          },
          "metadata": {},
          "execution_count": 6
        }
      ]
    },
    {
      "cell_type": "markdown",
      "source": [
        "##Dictionaries"
      ],
      "metadata": {
        "id": "wsanCt7pWfJ3"
      }
    },
    {
      "cell_type": "code",
      "source": [
        "#Los diccionarios también son un tipo de colección en Python\n",
        "#Un diccionario tiene llaves(keys) y valores(values)\n",
        "#Una llave es como un índice pero con una etiqueta, usualmente son caracteres\n",
        "#Las llaves son el primer elemento de un diccionario, deben de ser inmutables y únicas\n",
        "#Los valores pueden ser inmutables, mutables y duplicados\n",
        "diccionario = {'key1':1, 'key2':'2', 'key3':[3, 3, 3], 'key4':(4, 4, 4), 'key5':5}\n",
        "diccionario"
      ],
      "metadata": {
        "colab": {
          "base_uri": "https://localhost:8080/"
        },
        "id": "Yc1K9Ew-WnZC",
        "outputId": "cd188015-3fce-4cec-d37a-5110952000de"
      },
      "execution_count": null,
      "outputs": [
        {
          "output_type": "execute_result",
          "data": {
            "text/plain": [
              "{'key1': 1, 'key2': '2', 'key3': [3, 3, 3], 'key4': (4, 4, 4), 'key5': 5}"
            ]
          },
          "metadata": {},
          "execution_count": 1
        }
      ]
    },
    {
      "cell_type": "code",
      "source": [
        "albums = {'Thriller': '1982', 'Back in Black': '1980', 'The Dark Side of the Moon': '1973',\n",
        "          'The Bodyguard': '1992', 'Bat Out of Hell': '1977', 'Their Greatest...': '1976',\n",
        "          'Saturday Night Fever': '1977', 'Rumors': '1977'}"
      ],
      "metadata": {
        "id": "8bTt0bQ7Xm9w"
      },
      "execution_count": null,
      "outputs": []
    },
    {
      "cell_type": "code",
      "source": [
        "albums['Thriller'], albums['Rumors'], albums['The Dark Side of the Moon'] #Para acceder a los valores se necesita colocar la llave entre corchetes"
      ],
      "metadata": {
        "colab": {
          "base_uri": "https://localhost:8080/"
        },
        "id": "Yc0Ewq_VYpFi",
        "outputId": "94eb3bb2-06d8-4a5b-b1dd-f9916607fab6"
      },
      "execution_count": null,
      "outputs": [
        {
          "output_type": "execute_result",
          "data": {
            "text/plain": [
              "('1982', '1977', '1973')"
            ]
          },
          "metadata": {},
          "execution_count": 7
        }
      ]
    },
    {
      "cell_type": "code",
      "source": [
        "#Para añadir un nuevo par de llave-valor al diccionario se hace de esta manera <nombre del diccionario>[<llave>]=<valor>\n",
        "albums['Graduation'] = '2007'\n",
        "albums"
      ],
      "metadata": {
        "colab": {
          "base_uri": "https://localhost:8080/"
        },
        "id": "oMZWakUPZFRY",
        "outputId": "fe474902-ee95-4cd7-cee5-995a1e7c3dd8"
      },
      "execution_count": null,
      "outputs": [
        {
          "output_type": "execute_result",
          "data": {
            "text/plain": [
              "{'Thriller': '1982',\n",
              " 'Back in Black': '1980',\n",
              " 'The Dark Side of the Moon': '1973',\n",
              " 'The Bodyguard': '1992',\n",
              " 'Bat Out of Hell': '1977',\n",
              " 'Their Greatest...': '1976',\n",
              " 'Saturday Night Fever': '1977',\n",
              " 'Rumors': '1977',\n",
              " 'Graduation': '2007'}"
            ]
          },
          "metadata": {},
          "execution_count": 8
        }
      ]
    },
    {
      "cell_type": "code",
      "source": [
        "#Para borrar un par llave-valor del diccionario, se utiliza la función del\n",
        "del(albums['Thriller'])\n",
        "albums"
      ],
      "metadata": {
        "colab": {
          "base_uri": "https://localhost:8080/"
        },
        "id": "cujkc5YCZflI",
        "outputId": "599f0267-f555-4d84-a0ee-2bab99fdf7cd"
      },
      "execution_count": null,
      "outputs": [
        {
          "output_type": "execute_result",
          "data": {
            "text/plain": [
              "{'Back in Black': '1980',\n",
              " 'The Dark Side of the Moon': '1973',\n",
              " 'The Bodyguard': '1992',\n",
              " 'Bat Out of Hell': '1977',\n",
              " 'Their Greatest...': '1976',\n",
              " 'Saturday Night Fever': '1977',\n",
              " 'Rumors': '1977',\n",
              " 'Graduation': '2007'}"
            ]
          },
          "metadata": {},
          "execution_count": 9
        }
      ]
    },
    {
      "cell_type": "code",
      "source": [
        "#Se puede verificar si un elemento se encuentra en el diccionario con la instrucción in\n",
        "#Regresa un valor True si el elemento se encuentra y un valor False si el elemento no se encuentra\n",
        "'The Bodyguard' in albums, 'Starboy' in albums"
      ],
      "metadata": {
        "colab": {
          "base_uri": "https://localhost:8080/"
        },
        "id": "G2Y_Tp-bZuJ7",
        "outputId": "9c105fd4-3702-48fa-8ed6-841a43adfaf1"
      },
      "execution_count": null,
      "outputs": [
        {
          "output_type": "execute_result",
          "data": {
            "text/plain": [
              "(True, False)"
            ]
          },
          "metadata": {},
          "execution_count": 11
        }
      ]
    },
    {
      "cell_type": "code",
      "source": [
        "#El método keys regresa todas las llaves del diccionario\n",
        "albums.keys()"
      ],
      "metadata": {
        "colab": {
          "base_uri": "https://localhost:8080/"
        },
        "id": "1maNbGPHaOwW",
        "outputId": "26a84065-fda2-4230-c360-ea14eaf61e2e"
      },
      "execution_count": null,
      "outputs": [
        {
          "output_type": "execute_result",
          "data": {
            "text/plain": [
              "dict_keys(['Back in Black', 'The Dark Side of the Moon', 'The Bodyguard', 'Bat Out of Hell', 'Their Greatest...', 'Saturday Night Fever', 'Rumors', 'Graduation'])"
            ]
          },
          "metadata": {},
          "execution_count": 12
        }
      ]
    },
    {
      "cell_type": "code",
      "source": [
        "#El método values regresa todos los valores del diccionario\n",
        "albums.values()"
      ],
      "metadata": {
        "colab": {
          "base_uri": "https://localhost:8080/"
        },
        "id": "816YS3f8afJV",
        "outputId": "a069dbc7-3644-46fd-993c-dfec7a054c47"
      },
      "execution_count": null,
      "outputs": [
        {
          "output_type": "execute_result",
          "data": {
            "text/plain": [
              "dict_values(['1980', '1973', '1992', '1977', '1976', '1977', '1977', '2007'])"
            ]
          },
          "metadata": {},
          "execution_count": 13
        }
      ]
    },
    {
      "cell_type": "code",
      "source": [
        "#Un diccionario vacío se define con solo dos llaves vacías {}\n",
        "diccionario_vacio = {}\n",
        "diccionario_vacio"
      ],
      "metadata": {
        "colab": {
          "base_uri": "https://localhost:8080/"
        },
        "id": "BYoTdBFAarJv",
        "outputId": "bbec3852-ea83-4752-fbe6-a3e6f536c4e2"
      },
      "execution_count": null,
      "outputs": [
        {
          "output_type": "execute_result",
          "data": {
            "text/plain": [
              "{}"
            ]
          },
          "metadata": {},
          "execution_count": 14
        }
      ]
    },
    {
      "cell_type": "markdown",
      "source": [
        "#Module 3: Python Programming Fundamentals"
      ],
      "metadata": {
        "id": "fa4YkT6-hQHt"
      }
    },
    {
      "cell_type": "markdown",
      "source": [
        "##Conditions and Branching"
      ],
      "metadata": {
        "id": "3RP7lfkepPDi"
      }
    },
    {
      "cell_type": "code",
      "source": [
        "#Las operaciones de comparación comparan algunos valores u operandos\n",
        "#Estas operaciones producen un valor boolean basado en alguna condición\n",
        "a=6\n",
        "#Con el operador de igualdad(==) se puede comparar si dos valores son iguales\n",
        "#Si los valores son iguales se obtiene un True y en caso contrario se obtiene un False\n",
        "a==7, a==6 "
      ],
      "metadata": {
        "id": "B19azJThhRcy",
        "colab": {
          "base_uri": "https://localhost:8080/"
        },
        "outputId": "db73d4cd-aae3-4488-ac26-6e30867cba2a"
      },
      "execution_count": 16,
      "outputs": [
        {
          "output_type": "execute_result",
          "data": {
            "text/plain": [
              "(False, True)"
            ]
          },
          "metadata": {},
          "execution_count": 16
        }
      ]
    },
    {
      "cell_type": "code",
      "source": [
        "#Con el operador mayor que(>) se obtiene un valor True si el operando a la izquierda es mayor que el operando de la derecha\n",
        "i=6\n",
        "i>5, i>9"
      ],
      "metadata": {
        "colab": {
          "base_uri": "https://localhost:8080/"
        },
        "id": "mhieIjEIprRP",
        "outputId": "211757e1-3ad9-45ca-d874-b85a42bbe7bf"
      },
      "execution_count": 17,
      "outputs": [
        {
          "output_type": "execute_result",
          "data": {
            "text/plain": [
              "(True, False)"
            ]
          },
          "metadata": {},
          "execution_count": 17
        }
      ]
    },
    {
      "cell_type": "code",
      "source": [
        "#Con el operador mayor o igual que(>=) se obtiene un valor True si el operando a la izquierda es mayor o igual que el operando de la derecha\n",
        "i>=5, i>=6, i>=9"
      ],
      "metadata": {
        "colab": {
          "base_uri": "https://localhost:8080/"
        },
        "id": "RgtQKxaWqfQD",
        "outputId": "63239a64-5944-42f4-e336-119d04e94047"
      },
      "execution_count": 18,
      "outputs": [
        {
          "output_type": "execute_result",
          "data": {
            "text/plain": [
              "(True, True, False)"
            ]
          },
          "metadata": {},
          "execution_count": 18
        }
      ]
    },
    {
      "cell_type": "code",
      "source": [
        "#Con el operador menor que(>) se obtiene un valor True si el operando a la izquierda es menor que el operando de la derecha\n",
        "i<9, i<3"
      ],
      "metadata": {
        "colab": {
          "base_uri": "https://localhost:8080/"
        },
        "id": "sKk-FM0cqr-A",
        "outputId": "2a05f982-1a2e-4424-c748-0f5cd8a4d1bc"
      },
      "execution_count": 19,
      "outputs": [
        {
          "output_type": "execute_result",
          "data": {
            "text/plain": [
              "(True, False)"
            ]
          },
          "metadata": {},
          "execution_count": 19
        }
      ]
    },
    {
      "cell_type": "code",
      "source": [
        "#Con el operador de desigualdad (!=) se puede verificar si dos datos son diferentes\n",
        "#La comparación regresa un valor True si los valores son diferentes y False en caso contrario\n",
        "i!=6, i!=5"
      ],
      "metadata": {
        "colab": {
          "base_uri": "https://localhost:8080/"
        },
        "id": "GzhoxeYvq-SH",
        "outputId": "08ac27cc-0b3a-46fa-e1b9-f23a8d395e38"
      },
      "execution_count": 20,
      "outputs": [
        {
          "output_type": "execute_result",
          "data": {
            "text/plain": [
              "(False, True)"
            ]
          },
          "metadata": {},
          "execution_count": 20
        }
      ]
    },
    {
      "cell_type": "code",
      "source": [
        "#El operador de igualdad también se pude utilizar para comparar strings\n",
        "print('AC/DC'=='Michael Jackson')\n",
        "print('AC/DC'!='Michael Jackson')"
      ],
      "metadata": {
        "colab": {
          "base_uri": "https://localhost:8080/"
        },
        "id": "owUfqsZzrdSy",
        "outputId": "78f1a710-cb6f-49d3-dda9-b37cd7a09d09"
      },
      "execution_count": 22,
      "outputs": [
        {
          "output_type": "stream",
          "name": "stdout",
          "text": [
            "False\n",
            "True\n"
          ]
        }
      ]
    },
    {
      "cell_type": "markdown",
      "source": [
        "###Branching"
      ],
      "metadata": {
        "id": "Xf0eraUor1wH"
      }
    },
    {
      "cell_type": "code",
      "source": [
        "#Permite ejecutar diferentes instrucciones para entradas diferentes\n",
        "#La instrucción if permite ejecutar una tarea solo si el resultado de la comparación es True\n",
        "age = 19\n",
        "if (age>18):\n",
        "  print('You can enter') #Esta instrucción se ejecuta si la condición es verdadera\n",
        "print('move on')"
      ],
      "metadata": {
        "colab": {
          "base_uri": "https://localhost:8080/"
        },
        "id": "EehcBBRJr32K",
        "outputId": "dcbfeb39-5cda-4bc0-bdf2-40e6849e55b3"
      },
      "execution_count": 23,
      "outputs": [
        {
          "output_type": "stream",
          "name": "stdout",
          "text": [
            "You can enter\n",
            "move on\n"
          ]
        }
      ]
    },
    {
      "cell_type": "code",
      "source": [
        "#La instrucción else ejecutará un bloque de código diferente si la condición de la instrucción if es False\n",
        "age = 17\n",
        "if (age>18):\n",
        "  print('You can enter') #Esta instrucción se ejecuta si la condición es verdadera\n",
        "else:\n",
        "  print('go see Meat Loaf') #Esta instrucción se ejecuta si la condición es falsa\n",
        "print('move on')"
      ],
      "metadata": {
        "colab": {
          "base_uri": "https://localhost:8080/"
        },
        "id": "f5jQ6ZsYsm_9",
        "outputId": "b086aa7e-d9eb-48fa-af2b-4404fdcbfa79"
      },
      "execution_count": 24,
      "outputs": [
        {
          "output_type": "stream",
          "name": "stdout",
          "text": [
            "go see Meat Loaf\n",
            "move on\n"
          ]
        }
      ]
    },
    {
      "cell_type": "code",
      "source": [
        "#La instrucción elif permite verificar condiciones extra, si la condición previa es falsa\n",
        "age = 18\n",
        "if (age>18):\n",
        "  print('You can enter') #Primera condición a evaluar\n",
        "elif(age==18):\n",
        "  print('go see Pink Floyd') #Otra condición a evaluar si la anterior es falsa\n",
        "else:\n",
        "  print('go see Meat Loaf') #Esta instrucción se ejecuta si todas las condiciones previas son falsas\n",
        "print('move on')"
      ],
      "metadata": {
        "colab": {
          "base_uri": "https://localhost:8080/"
        },
        "id": "JrXLcYEbtSYH",
        "outputId": "10a70c59-b0c2-4d9d-a398-ed61637b5e79"
      },
      "execution_count": 26,
      "outputs": [
        {
          "output_type": "stream",
          "name": "stdout",
          "text": [
            "go see Pink Floyd\n",
            "move on\n"
          ]
        }
      ]
    },
    {
      "cell_type": "markdown",
      "source": [
        "###Logic Operators"
      ],
      "metadata": {
        "id": "nbuwqLCmuh1A"
      }
    },
    {
      "cell_type": "code",
      "source": [
        "#Las operaciones lógicas toman valores booleanos y producen un nuevo valor booleano\n",
        "#Operador not-Si la entrada es True, la salida es False y viceversa\n",
        "not(True), not(False)"
      ],
      "metadata": {
        "colab": {
          "base_uri": "https://localhost:8080/"
        },
        "id": "e52Ghdq2uE_b",
        "outputId": "f11a6a94-3217-4572-e682-0ed40a09defd"
      },
      "execution_count": 28,
      "outputs": [
        {
          "output_type": "execute_result",
          "data": {
            "text/plain": [
              "(False, True)"
            ]
          },
          "metadata": {},
          "execution_count": 28
        }
      ]
    },
    {
      "cell_type": "code",
      "source": [
        "#El operador OR regresa un valor True mientras haya un operando con valor True\n",
        "album_year = 1990\n",
        "if(album_year < 1980) or (album_year > 1989):\n",
        "  print(\"The album was made in the 70's or 90's\")\n",
        "else:\n",
        "  print(\"The album was made in the 1980's\")"
      ],
      "metadata": {
        "colab": {
          "base_uri": "https://localhost:8080/"
        },
        "id": "ke9ZllsGu0Zq",
        "outputId": "b545b7ce-3353-4ca5-a71f-4ae85843cc30"
      },
      "execution_count": 29,
      "outputs": [
        {
          "output_type": "stream",
          "name": "stdout",
          "text": [
            "The album was made in the 70's or 90's\n"
          ]
        }
      ]
    },
    {
      "cell_type": "code",
      "source": [
        "#El operador AND solamente regresa un valor True cuando todos los operandos son True\n",
        "album_year = 1983\n",
        "if(album_year > 1979) and (album_year < 1990):\n",
        "  print(\"The album was made in the 80's\")"
      ],
      "metadata": {
        "colab": {
          "base_uri": "https://localhost:8080/"
        },
        "id": "lyzzRiOZvrsH",
        "outputId": "634b5a63-0bcf-4f04-d6d9-5475df21f6ef"
      },
      "execution_count": 30,
      "outputs": [
        {
          "output_type": "stream",
          "name": "stdout",
          "text": [
            "The album was made in the 80's\n"
          ]
        }
      ]
    },
    {
      "cell_type": "markdown",
      "source": [
        "##Loops"
      ],
      "metadata": {
        "id": "uJYEKIjp0hgm"
      }
    },
    {
      "cell_type": "code",
      "source": [
        "#La función range arroja una secuencia ordenada \n",
        "range(9) #Si solo se le pasa un argumento, entonces la lista comienza en cero"
      ],
      "metadata": {
        "colab": {
          "base_uri": "https://localhost:8080/"
        },
        "id": "dKrOp1kV0lUd",
        "outputId": "0ba9400f-0090-4e58-f154-cb16a2f35b40"
      },
      "execution_count": 31,
      "outputs": [
        {
          "output_type": "execute_result",
          "data": {
            "text/plain": [
              "range(0, 9)"
            ]
          },
          "metadata": {},
          "execution_count": 31
        }
      ]
    },
    {
      "cell_type": "code",
      "source": [
        "range(10,15) #Si se le pasan dos argumentos, la secuencia comienza en el primer número y finaliza en el segundo\n",
        "#En python3 la función range no genera una lista explícitamente"
      ],
      "metadata": {
        "colab": {
          "base_uri": "https://localhost:8080/"
        },
        "id": "-97klSae04IX",
        "outputId": "937bbfca-4425-4225-8a99-a03d9f357523"
      },
      "execution_count": 32,
      "outputs": [
        {
          "output_type": "execute_result",
          "data": {
            "text/plain": [
              "range(10, 15)"
            ]
          },
          "metadata": {},
          "execution_count": 32
        }
      ]
    },
    {
      "cell_type": "markdown",
      "source": [
        "###For loops"
      ],
      "metadata": {
        "id": "Ov7RwogV1kBn"
      }
    },
    {
      "cell_type": "code",
      "source": [
        "#Los ciclos(loops) ejecutan una tarea una y otra vez\n",
        "squares = ['red', 'yellow', 'green', 'purple', 'blue']\n",
        "for i in range(0, 5): #Sintaxis del ciclo for en python\n",
        "  squares[i] = 'white'\n",
        "squares"
      ],
      "metadata": {
        "colab": {
          "base_uri": "https://localhost:8080/"
        },
        "id": "Jd7ZKIzb1mVt",
        "outputId": "3bfe612f-f25c-490f-bd04-16cc423efc1d"
      },
      "execution_count": 33,
      "outputs": [
        {
          "output_type": "execute_result",
          "data": {
            "text/plain": [
              "['white', 'white', 'white', 'white', 'white']"
            ]
          },
          "metadata": {},
          "execution_count": 33
        }
      ]
    },
    {
      "cell_type": "code",
      "source": [
        "#Se puede iterar a través de una lista o tupla en python sin necesidad de utilizar índices\n",
        "squares_1 = ['red', 'yellow', 'green']\n",
        "for square in squares_1: #La variable square toma un diferente valor de la lista con cada iteración\n",
        "  print(square)"
      ],
      "metadata": {
        "colab": {
          "base_uri": "https://localhost:8080/"
        },
        "id": "MK1w_gt528_5",
        "outputId": "e5311c77-7291-4af8-d6c2-ba487c61f2d7"
      },
      "execution_count": 35,
      "outputs": [
        {
          "output_type": "stream",
          "name": "stdout",
          "text": [
            "red\n",
            "yellow\n",
            "green\n"
          ]
        }
      ]
    },
    {
      "cell_type": "code",
      "source": [
        "#Utilizando la función enumerate para obtener los índices y los valores al iterar una lista\n",
        "for i, square in enumerate(squares_1):\n",
        "  print(square, i)"
      ],
      "metadata": {
        "colab": {
          "base_uri": "https://localhost:8080/"
        },
        "id": "nrtxGehK3bEe",
        "outputId": "bf61b6cb-fd45-4d56-ef6a-b0ac03ffd931"
      },
      "execution_count": 37,
      "outputs": [
        {
          "output_type": "stream",
          "name": "stdout",
          "text": [
            "red 0\n",
            "yellow 1\n",
            "green 2\n"
          ]
        }
      ]
    },
    {
      "cell_type": "markdown",
      "source": [
        "###While loops"
      ],
      "metadata": {
        "id": "sj2wq2qb4aZ9"
      }
    },
    {
      "cell_type": "code",
      "source": [
        "#Los while loops son similares a los for loops, pero estos ciclos solo corren cuando una condición se cumple\n",
        "squares = ['orange', 'orange', 'purple', 'blue']\n",
        "new_squares = []\n",
        "i = 0\n",
        "while(squares[i]=='orange'): #El ciclo se ejecuta mientras la condición de la instrucción while sea verdadera\n",
        "  new_squares.append(squares[i])\n",
        "  i=i+1\n",
        "new_squares"
      ],
      "metadata": {
        "colab": {
          "base_uri": "https://localhost:8080/"
        },
        "id": "W9Mk2VYm4H-a",
        "outputId": "0db86e8e-d3ce-4f4a-a688-485de1dc91a8"
      },
      "execution_count": 38,
      "outputs": [
        {
          "output_type": "execute_result",
          "data": {
            "text/plain": [
              "['orange', 'orange']"
            ]
          },
          "metadata": {},
          "execution_count": 38
        }
      ]
    },
    {
      "cell_type": "code",
      "source": [],
      "metadata": {
        "id": "ahyyYS3P5wGt"
      },
      "execution_count": null,
      "outputs": []
    }
  ]
}