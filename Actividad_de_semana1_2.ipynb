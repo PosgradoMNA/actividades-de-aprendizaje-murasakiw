{
  "nbformat": 4,
  "nbformat_minor": 0,
  "metadata": {
    "colab": {
      "provenance": [],
      "authorship_tag": "ABX9TyM/xo1AIDEHrlNuEElsvBEg",
      "include_colab_link": true
    },
    "kernelspec": {
      "name": "python3",
      "display_name": "Python 3"
    },
    "language_info": {
      "name": "python"
    }
  },
  "cells": [
    {
      "cell_type": "markdown",
      "metadata": {
        "id": "view-in-github",
        "colab_type": "text"
      },
      "source": [
        "<a href=\"https://colab.research.google.com/github/PosgradoMNA/actividades-de-aprendizaje-murasakiw/blob/main/Actividad_de_semana1_2.ipynb\" target=\"_parent\"><img src=\"https://colab.research.google.com/assets/colab-badge.svg\" alt=\"Open In Colab\"/></a>"
      ]
    },
    {
      "cell_type": "markdown",
      "source": [
        "# **Python for Data Science**"
      ],
      "metadata": {
        "id": "uOmXQfWsKMkC"
      }
    },
    {
      "cell_type": "markdown",
      "source": [
        "# Module 1: Python Basics"
      ],
      "metadata": {
        "id": "iwT5RUZnKbhh"
      }
    },
    {
      "cell_type": "markdown",
      "source": [
        "## Your First Program"
      ],
      "metadata": {
        "id": "4vUcoet9MASc"
      }
    },
    {
      "cell_type": "code",
      "source": [
        "#Un error sintáctico(syntactic error) es cuando python no entiende el código\n",
        "#Por ejemplo, si se escribe frint en lugar de print\n",
        "print('Hello Python 101') "
      ],
      "metadata": {
        "colab": {
          "base_uri": "https://localhost:8080/"
        },
        "id": "NcfnMok8Kp4H",
        "outputId": "005945b5-4e0a-4c57-e168-9ea050474051"
      },
      "execution_count": 2,
      "outputs": [
        {
          "output_type": "stream",
          "name": "stdout",
          "text": [
            "Hello Python 101\n"
          ]
        }
      ]
    },
    {
      "cell_type": "code",
      "source": [
        "print('Hello\\nWorld') #\\n se utiliza para insertar una nueva línea"
      ],
      "metadata": {
        "colab": {
          "base_uri": "https://localhost:8080/"
        },
        "id": "UjOLwTsMLn7q",
        "outputId": "27ca569d-bf9d-4925-f4f0-26b30169f928"
      },
      "execution_count": 3,
      "outputs": [
        {
          "output_type": "stream",
          "name": "stdout",
          "text": [
            "Hello\n",
            "World\n"
          ]
        }
      ]
    },
    {
      "cell_type": "markdown",
      "source": [
        "##Types"
      ],
      "metadata": {
        "id": "oXP1X0j3MFLw"
      }
    },
    {
      "cell_type": "code",
      "source": [
        "#Cómo python representa diferentes tipos de datos\n",
        "#type() se utiliza para ver el tipo de dato\n",
        "print(type(11)) #Dato entero\n",
        "print(type(21.213)) #Número real\n",
        "print(type('Hello')) #Secuencia de caracteres"
      ],
      "metadata": {
        "colab": {
          "base_uri": "https://localhost:8080/"
        },
        "id": "78ySknwpMSP6",
        "outputId": "a5240828-5432-4c28-d363-18de29d7fa64"
      },
      "execution_count": 6,
      "outputs": [
        {
          "output_type": "stream",
          "name": "stdout",
          "text": [
            "<class 'int'>\n",
            "<class 'float'>\n",
            "<class 'str'>\n"
          ]
        }
      ]
    },
    {
      "cell_type": "code",
      "source": [
        "#Se puede cambiar el tipo de una expresión en python y esto es llamado type-casting\n",
        "print(float(2))\n",
        "print(int(1.1))"
      ],
      "metadata": {
        "colab": {
          "base_uri": "https://localhost:8080/"
        },
        "id": "cRQ9_eU3NZ5R",
        "outputId": "146da2c6-1bbf-4316-ded1-9f70ae1330f5"
      },
      "execution_count": 12,
      "outputs": [
        {
          "output_type": "stream",
          "name": "stdout",
          "text": [
            "2.0\n",
            "1\n"
          ]
        }
      ]
    },
    {
      "cell_type": "code",
      "source": [
        "#Se pueden convertir cadenas con un valor entero a int\n",
        "print(int('1234'))"
      ],
      "metadata": {
        "colab": {
          "base_uri": "https://localhost:8080/"
        },
        "id": "pc1F1oSuN7lW",
        "outputId": "11b1c206-8a59-465d-a927-184e227022e0"
      },
      "execution_count": 13,
      "outputs": [
        {
          "output_type": "stream",
          "name": "stdout",
          "text": [
            "1234\n"
          ]
        }
      ]
    },
    {
      "cell_type": "code",
      "source": [
        "#No se pueden convertir cadenas que no tienen valor entero\n",
        "print(int('a')) #Esto arroja un error"
      ],
      "metadata": {
        "id": "qawBvv0eOYXb"
      },
      "execution_count": null,
      "outputs": []
    },
    {
      "cell_type": "code",
      "source": [
        "#Un boolean puede tomar dos valores True o False\n",
        "print(type(True))\n",
        "print(int(True)) #Convierte tipo bool True en 1\n",
        "print(int(False)) ##Convierte tipo bool False en 0\n",
        "print(bool(1)) #Convierte tipo int en True\n",
        "print(bool(0)) ##Convierte tipo int en False"
      ],
      "metadata": {
        "colab": {
          "base_uri": "https://localhost:8080/"
        },
        "id": "L8LhqAwXOZV_",
        "outputId": "33b954a8-2ceb-4426-aeca-d42ef590b2bf"
      },
      "execution_count": 16,
      "outputs": [
        {
          "output_type": "stream",
          "name": "stdout",
          "text": [
            "<class 'bool'>\n",
            "1\n",
            "0\n",
            "True\n",
            "False\n"
          ]
        }
      ]
    },
    {
      "cell_type": "markdown",
      "source": [
        "## Expressions and Variables"
      ],
      "metadata": {
        "id": "JHNvQ2msQZLT"
      }
    },
    {
      "cell_type": "code",
      "source": [],
      "metadata": {
        "id": "YlkA4kmoQjXH"
      },
      "execution_count": null,
      "outputs": []
    }
  ]
}