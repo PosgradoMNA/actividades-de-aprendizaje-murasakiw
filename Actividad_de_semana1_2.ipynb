{
  "nbformat": 4,
  "nbformat_minor": 0,
  "metadata": {
    "colab": {
      "provenance": [],
      "collapsed_sections": [
        "4vUcoet9MASc",
        "oXP1X0j3MFLw"
      ],
      "authorship_tag": "ABX9TyNEjSkTZaDx7BP6BtuR78dX",
      "include_colab_link": true
    },
    "kernelspec": {
      "name": "python3",
      "display_name": "Python 3"
    },
    "language_info": {
      "name": "python"
    }
  },
  "cells": [
    {
      "cell_type": "markdown",
      "metadata": {
        "id": "view-in-github",
        "colab_type": "text"
      },
      "source": [
        "<a href=\"https://colab.research.google.com/github/PosgradoMNA/actividades-de-aprendizaje-murasakiw/blob/main/Actividad_de_semana1_2.ipynb\" target=\"_parent\"><img src=\"https://colab.research.google.com/assets/colab-badge.svg\" alt=\"Open In Colab\"/></a>"
      ]
    },
    {
      "cell_type": "markdown",
      "source": [
        "# **Python for Data Science**"
      ],
      "metadata": {
        "id": "uOmXQfWsKMkC"
      }
    },
    {
      "cell_type": "markdown",
      "source": [
        "# Module 1: Python Basics"
      ],
      "metadata": {
        "id": "iwT5RUZnKbhh"
      }
    },
    {
      "cell_type": "markdown",
      "source": [
        "## Your First Program"
      ],
      "metadata": {
        "id": "4vUcoet9MASc"
      }
    },
    {
      "cell_type": "code",
      "source": [
        "#Un error sintáctico(syntactic error) es cuando python no entiende el código\n",
        "#Por ejemplo, si se escribe frint en lugar de print\n",
        "print('Hello Python 101') "
      ],
      "metadata": {
        "colab": {
          "base_uri": "https://localhost:8080/"
        },
        "id": "NcfnMok8Kp4H",
        "outputId": "005945b5-4e0a-4c57-e168-9ea050474051"
      },
      "execution_count": null,
      "outputs": [
        {
          "output_type": "stream",
          "name": "stdout",
          "text": [
            "Hello Python 101\n"
          ]
        }
      ]
    },
    {
      "cell_type": "code",
      "source": [
        "print('Hello\\nWorld') #\\n se utiliza para insertar una nueva línea"
      ],
      "metadata": {
        "colab": {
          "base_uri": "https://localhost:8080/"
        },
        "id": "UjOLwTsMLn7q",
        "outputId": "27ca569d-bf9d-4925-f4f0-26b30169f928"
      },
      "execution_count": null,
      "outputs": [
        {
          "output_type": "stream",
          "name": "stdout",
          "text": [
            "Hello\n",
            "World\n"
          ]
        }
      ]
    },
    {
      "cell_type": "markdown",
      "source": [
        "##Types"
      ],
      "metadata": {
        "id": "oXP1X0j3MFLw"
      }
    },
    {
      "cell_type": "code",
      "source": [
        "#Cómo python representa diferentes tipos de datos\n",
        "#type() se utiliza para ver el tipo de dato\n",
        "print(type(11)) #Dato entero\n",
        "print(type(21.213)) #Número real\n",
        "print(type('Hello')) #Secuencia de caracteres"
      ],
      "metadata": {
        "colab": {
          "base_uri": "https://localhost:8080/"
        },
        "id": "78ySknwpMSP6",
        "outputId": "a5240828-5432-4c28-d363-18de29d7fa64"
      },
      "execution_count": null,
      "outputs": [
        {
          "output_type": "stream",
          "name": "stdout",
          "text": [
            "<class 'int'>\n",
            "<class 'float'>\n",
            "<class 'str'>\n"
          ]
        }
      ]
    },
    {
      "cell_type": "code",
      "source": [
        "#Se puede cambiar el tipo de una expresión en python y esto es llamado type-casting\n",
        "print(float(2))\n",
        "print(int(1.1))"
      ],
      "metadata": {
        "colab": {
          "base_uri": "https://localhost:8080/"
        },
        "id": "cRQ9_eU3NZ5R",
        "outputId": "146da2c6-1bbf-4316-ded1-9f70ae1330f5"
      },
      "execution_count": null,
      "outputs": [
        {
          "output_type": "stream",
          "name": "stdout",
          "text": [
            "2.0\n",
            "1\n"
          ]
        }
      ]
    },
    {
      "cell_type": "code",
      "source": [
        "#Se pueden convertir cadenas con un valor entero a int\n",
        "print(int('1234'))"
      ],
      "metadata": {
        "colab": {
          "base_uri": "https://localhost:8080/"
        },
        "id": "pc1F1oSuN7lW",
        "outputId": "11b1c206-8a59-465d-a927-184e227022e0"
      },
      "execution_count": null,
      "outputs": [
        {
          "output_type": "stream",
          "name": "stdout",
          "text": [
            "1234\n"
          ]
        }
      ]
    },
    {
      "cell_type": "code",
      "source": [
        "#No se pueden convertir cadenas que no tienen valor entero\n",
        "print(int('a')) #Esto arroja un error"
      ],
      "metadata": {
        "id": "qawBvv0eOYXb"
      },
      "execution_count": null,
      "outputs": []
    },
    {
      "cell_type": "code",
      "source": [
        "#Un boolean puede tomar dos valores True o False\n",
        "print(type(True))\n",
        "print(int(True)) #Convierte tipo bool True en 1\n",
        "print(int(False)) ##Convierte tipo bool False en 0\n",
        "print(bool(1)) #Convierte tipo int en True\n",
        "print(bool(0)) ##Convierte tipo int en False"
      ],
      "metadata": {
        "colab": {
          "base_uri": "https://localhost:8080/"
        },
        "id": "L8LhqAwXOZV_",
        "outputId": "33b954a8-2ceb-4426-aeca-d42ef590b2bf"
      },
      "execution_count": null,
      "outputs": [
        {
          "output_type": "stream",
          "name": "stdout",
          "text": [
            "<class 'bool'>\n",
            "1\n",
            "0\n",
            "True\n",
            "False\n"
          ]
        }
      ]
    },
    {
      "cell_type": "markdown",
      "source": [
        "## Expressions and Variables"
      ],
      "metadata": {
        "id": "JHNvQ2msQZLT"
      }
    },
    {
      "cell_type": "markdown",
      "source": [
        "###Expressions"
      ],
      "metadata": {
        "id": "wR5EQyG7j2Is"
      }
    },
    {
      "cell_type": "code",
      "source": [
        "#Las expresiones son operaciones que realiza python\n",
        "print(43+60+16+41) #Los números son llamados operandos y los símbolos(+) son llamados operadores\n",
        "print(50-60)\n",
        "print(25*5)\n",
        "print(25/6)\n",
        "print(25//6) #División entera, el resultado se redondea\n",
        "print(2*60+30) #Python sigue las convenciones matemáticas cuando se realizan operaciones\n",
        "print((30+2)*60)"
      ],
      "metadata": {
        "id": "YlkA4kmoQjXH",
        "colab": {
          "base_uri": "https://localhost:8080/"
        },
        "outputId": "debe25fc-666d-44a6-f2c0-08d0807b38be"
      },
      "execution_count": null,
      "outputs": [
        {
          "output_type": "stream",
          "name": "stdout",
          "text": [
            "160\n",
            "-10\n",
            "125\n",
            "4.166666666666667\n",
            "4\n",
            "150\n",
            "1920\n"
          ]
        }
      ]
    },
    {
      "cell_type": "markdown",
      "source": [
        "### Variables"
      ],
      "metadata": {
        "id": "Mo1xZmLPjwyU"
      }
    },
    {
      "cell_type": "code",
      "source": [
        "#Las variables se utilizan para almacenar valores\n",
        "my_variable = 1"
      ],
      "metadata": {
        "id": "qeXmLrVXj0ie"
      },
      "execution_count": null,
      "outputs": []
    },
    {
      "cell_type": "code",
      "source": [
        "my_variable"
      ],
      "metadata": {
        "colab": {
          "base_uri": "https://localhost:8080/"
        },
        "id": "9UlXTai9kfG2",
        "outputId": "81994a49-6b22-401a-bc01-cfff9125bd4e"
      },
      "execution_count": null,
      "outputs": [
        {
          "output_type": "execute_result",
          "data": {
            "text/plain": [
              "1"
            ]
          },
          "metadata": {},
          "execution_count": 18
        }
      ]
    },
    {
      "cell_type": "code",
      "source": [
        "my_variable = 10 #Con el operador de asignación(=) se puede asignar un nuevo valor"
      ],
      "metadata": {
        "id": "lUKMpyVZkJvs"
      },
      "execution_count": null,
      "outputs": []
    },
    {
      "cell_type": "code",
      "source": [
        "my_variable"
      ],
      "metadata": {
        "colab": {
          "base_uri": "https://localhost:8080/"
        },
        "id": "G9faLze6kicM",
        "outputId": "ee3a8f62-dc3b-45ac-d930-0104413fae0c"
      },
      "execution_count": null,
      "outputs": [
        {
          "output_type": "execute_result",
          "data": {
            "text/plain": [
              "10"
            ]
          },
          "metadata": {},
          "execution_count": 20
        }
      ]
    },
    {
      "cell_type": "code",
      "source": [
        "x = 32 + 12 + 10 + 5 #La variable x guarda el resultado de toda la operación\n",
        "x"
      ],
      "metadata": {
        "colab": {
          "base_uri": "https://localhost:8080/"
        },
        "id": "-EUoSsDCkmKf",
        "outputId": "080a0ce9-b6cb-428c-f059-b1cf3996fc86"
      },
      "execution_count": null,
      "outputs": [
        {
          "output_type": "execute_result",
          "data": {
            "text/plain": [
              "59"
            ]
          },
          "metadata": {},
          "execution_count": 26
        }
      ]
    },
    {
      "cell_type": "code",
      "source": [
        "y = x/6 #Se pueden realizar operaciones sobre una variable y guardar el resultado en otra\n",
        "y"
      ],
      "metadata": {
        "colab": {
          "base_uri": "https://localhost:8080/"
        },
        "id": "hRMQDOkZkzkP",
        "outputId": "13592af9-67e2-4f38-8719-021c29221e31"
      },
      "execution_count": null,
      "outputs": [
        {
          "output_type": "execute_result",
          "data": {
            "text/plain": [
              "9.833333333333334"
            ]
          },
          "metadata": {},
          "execution_count": 23
        }
      ]
    },
    {
      "cell_type": "code",
      "source": [
        "x = x/8 #También se pueden realizar operaciones sobre la variable y almacenar el resultado en la misma variable\n",
        "x"
      ],
      "metadata": {
        "colab": {
          "base_uri": "https://localhost:8080/"
        },
        "id": "X5MQGaRxlEFc",
        "outputId": "e1f12d4c-ecdd-439b-99fa-3975b6e57de7"
      },
      "execution_count": null,
      "outputs": [
        {
          "output_type": "execute_result",
          "data": {
            "text/plain": [
              "7.375"
            ]
          },
          "metadata": {},
          "execution_count": 27
        }
      ]
    },
    {
      "cell_type": "code",
      "source": [
        "type(x) #Se puede usar type sobre variables"
      ],
      "metadata": {
        "colab": {
          "base_uri": "https://localhost:8080/"
        },
        "id": "DAtH9rClld-e",
        "outputId": "29993f6a-ef90-4970-80ed-433b061386b2"
      },
      "execution_count": null,
      "outputs": [
        {
          "output_type": "execute_result",
          "data": {
            "text/plain": [
              "float"
            ]
          },
          "metadata": {},
          "execution_count": 28
        }
      ]
    },
    {
      "cell_type": "code",
      "source": [
        "#Una buena práctica es utilizar nombres de variables con significado\n",
        "total_min = 43 + 42 + 57 #El nombre de la variable hace referencia al total de minutos de un álbum musical\n",
        "total_hr = total_min/60 #El nombre de la variable hace referencia a la conversión a horas del total de minutos\n",
        "total_hr"
      ],
      "metadata": {
        "colab": {
          "base_uri": "https://localhost:8080/"
        },
        "id": "o2kJ8BWCltpl",
        "outputId": "52463310-312c-45c7-bb27-140b605595f6"
      },
      "execution_count": null,
      "outputs": [
        {
          "output_type": "execute_result",
          "data": {
            "text/plain": [
              "2.3666666666666667"
            ]
          },
          "metadata": {},
          "execution_count": 29
        }
      ]
    },
    {
      "cell_type": "code",
      "source": [
        "#Para saber qué versión de python se está utilizando\n",
        "import sys\n",
        "print(sys.version)"
      ],
      "metadata": {
        "colab": {
          "base_uri": "https://localhost:8080/"
        },
        "id": "hFHSQMSum09m",
        "outputId": "36c1d181-9f4a-4f5b-f6d6-c81a96cfbb62"
      },
      "execution_count": null,
      "outputs": [
        {
          "output_type": "stream",
          "name": "stdout",
          "text": [
            "3.7.14 (default, Sep  8 2022, 00:06:44) \n",
            "[GCC 7.5.0]\n"
          ]
        }
      ]
    },
    {
      "cell_type": "code",
      "source": [
        "#Para obtener información acerca del tipo float\n",
        "sys.float_info"
      ],
      "metadata": {
        "colab": {
          "base_uri": "https://localhost:8080/"
        },
        "id": "LYgC3M5ZnHCQ",
        "outputId": "c9733516-8330-40e9-c422-375d7be7e0fd"
      },
      "execution_count": null,
      "outputs": [
        {
          "output_type": "execute_result",
          "data": {
            "text/plain": [
              "sys.float_info(max=1.7976931348623157e+308, max_exp=1024, max_10_exp=308, min=2.2250738585072014e-308, min_exp=-1021, min_10_exp=-307, dig=15, mant_dig=53, epsilon=2.220446049250313e-16, radix=2, rounds=1)"
            ]
          },
          "metadata": {},
          "execution_count": 31
        }
      ]
    },
    {
      "cell_type": "markdown",
      "source": [
        "##String Operations"
      ],
      "metadata": {
        "id": "FGVl6otY94y8"
      }
    },
    {
      "cell_type": "code",
      "source": [
        "#Una string es una secuencia de caracteres\n",
        "name = 'Omar Esparza' #Se pueden guardar strings en una variable\n",
        "#Se puede acceder a cada carácter de la string con índices\n",
        "#Los índices siempre comienzan en 0\n",
        "#Se pueden utilizar índices negativos, con -1 se accede al último carácter de la string\n",
        "#Al irle restando números al índice, se van recorriendo los caracteres en orden inverso,\n",
        "#es decir, de derecha a izquierda"
      ],
      "metadata": {
        "id": "9bxkVT-P-AbA"
      },
      "execution_count": null,
      "outputs": []
    },
    {
      "cell_type": "code",
      "source": [
        "#Slicing\n",
        "#Consiste en obtener partes de la cadena completa, indicando el índice inicial\n",
        "#y final. El resultado será una cadena que va desde el índice inicial hasta un\n",
        "#carácter antes del índice final indicado\n",
        "name_slice = name[0:5]\n",
        "name_slice"
      ],
      "metadata": {
        "colab": {
          "base_uri": "https://localhost:8080/",
          "height": 35
        },
        "id": "wr7XJxSJ_PhS",
        "outputId": "12334ea3-affc-4296-e089-6ebf32786b52"
      },
      "execution_count": null,
      "outputs": [
        {
          "output_type": "execute_result",
          "data": {
            "text/plain": [
              "'Omar '"
            ],
            "application/vnd.google.colaboratory.intrinsic+json": {
              "type": "string"
            }
          },
          "metadata": {},
          "execution_count": 2
        }
      ]
    },
    {
      "cell_type": "code",
      "source": [
        "#Stride\n",
        "#Regresa los carácteres siguiendo el paso índicado\n",
        "name_slice_2 = name[::2] #Regresa los caracteres del inicio hasta el final, pero recorriendo de dos en dos la cadena\n",
        "name_slice_2"
      ],
      "metadata": {
        "colab": {
          "base_uri": "https://localhost:8080/",
          "height": 35
        },
        "id": "rtGVx5mt_w6G",
        "outputId": "c1ca34c6-5de8-46bf-8cbd-02714b4eec1b"
      },
      "execution_count": null,
      "outputs": [
        {
          "output_type": "execute_result",
          "data": {
            "text/plain": [
              "'Oa saz'"
            ],
            "application/vnd.google.colaboratory.intrinsic+json": {
              "type": "string"
            }
          },
          "metadata": {},
          "execution_count": 3
        }
      ]
    },
    {
      "cell_type": "code",
      "source": [
        "#También se puede indicar el índice inicial y final cuando se indica el número correspondiente al paso\n",
        "name_slice_3 = name[1:6:2]\n",
        "name_slice_3"
      ],
      "metadata": {
        "colab": {
          "base_uri": "https://localhost:8080/",
          "height": 35
        },
        "id": "b6-wyIN_AcQe",
        "outputId": "3dee0858-df72-4b9c-813f-5723a8ee996d"
      },
      "execution_count": null,
      "outputs": [
        {
          "output_type": "execute_result",
          "data": {
            "text/plain": [
              "'mrE'"
            ],
            "application/vnd.google.colaboratory.intrinsic+json": {
              "type": "string"
            }
          },
          "metadata": {},
          "execution_count": 4
        }
      ]
    },
    {
      "cell_type": "code",
      "source": [
        "#La instrucción len() se puede utilizar para obtener la longitud de una string\n",
        "len(name)"
      ],
      "metadata": {
        "colab": {
          "base_uri": "https://localhost:8080/"
        },
        "id": "WddXdl3HAwa7",
        "outputId": "d5feb28e-b41a-40e9-ff4f-449d0a407624"
      },
      "execution_count": null,
      "outputs": [
        {
          "output_type": "execute_result",
          "data": {
            "text/plain": [
              "12"
            ]
          },
          "metadata": {},
          "execution_count": 5
        }
      ]
    },
    {
      "cell_type": "code",
      "source": [
        "#Concatenar o combinar strings con el símbolo +\n",
        "name_concat = name + ' es el mejor'\n",
        "name_concat"
      ],
      "metadata": {
        "colab": {
          "base_uri": "https://localhost:8080/",
          "height": 35
        },
        "id": "tSqBib-gA6yX",
        "outputId": "599f6c56-6197-4af5-edc7-09ae3f8106e3"
      },
      "execution_count": null,
      "outputs": [
        {
          "output_type": "execute_result",
          "data": {
            "text/plain": [
              "'Omar Esparza es el mejor'"
            ],
            "application/vnd.google.colaboratory.intrinsic+json": {
              "type": "string"
            }
          },
          "metadata": {},
          "execution_count": 6
        }
      ]
    },
    {
      "cell_type": "code",
      "source": [
        "#Multiplicar los valores de una string al multiplicarlos por un número\n",
        "3*name"
      ],
      "metadata": {
        "colab": {
          "base_uri": "https://localhost:8080/",
          "height": 35
        },
        "id": "XQh0jfjRBPRX",
        "outputId": "f2e52494-3128-4347-e855-997ad60d29dd"
      },
      "execution_count": null,
      "outputs": [
        {
          "output_type": "execute_result",
          "data": {
            "text/plain": [
              "'Omar EsparzaOmar EsparzaOmar Esparza'"
            ],
            "application/vnd.google.colaboratory.intrinsic+json": {
              "type": "string"
            }
          },
          "metadata": {},
          "execution_count": 7
        }
      ]
    },
    {
      "cell_type": "code",
      "source": [
        "#Las strings son inmutables, es decir, no puedes cambiar el valor de estas\n",
        "#pero se puede crear una nueva string y guardarla en la misma variable\n",
        "name[0] = 'S' #Esto no se puede hacer"
      ],
      "metadata": {
        "id": "ejO58rgwBZHh"
      },
      "execution_count": null,
      "outputs": []
    },
    {
      "cell_type": "code",
      "source": [
        "#Secuencias de escape\n",
        "#Las secuencias de escape representan strings que pueden ser difíciles de ingresar\n",
        "#Estas secuencias comienzan con(\\)\n",
        "print('Hola\\namigos')#\\n Representa una nueva línea\n",
        "print('Hola\\tamigos')#\\t Representa una tabulación\n",
        "print('Hola\\\\amigos')#\\\\ Es para escribir una sola \\\n",
        "print(r'Hola\\amigos')#Otra forma de escribir \\ es colocar una r antes de la comilla inicial"
      ],
      "metadata": {
        "colab": {
          "base_uri": "https://localhost:8080/"
        },
        "id": "tsVZf0knB6YV",
        "outputId": "7d085d27-9818-4feb-c866-3a4459d1aee5"
      },
      "execution_count": null,
      "outputs": [
        {
          "output_type": "stream",
          "name": "stdout",
          "text": [
            "Hola\n",
            "amigos\n",
            "Hola\tamigos\n",
            "Hola\\amigos\n",
            "Hola\\amigos\n"
          ]
        }
      ]
    },
    {
      "cell_type": "markdown",
      "source": [
        "###String methods"
      ],
      "metadata": {
        "id": "D6ZbfjG6DlHv"
      }
    },
    {
      "cell_type": "code",
      "source": [
        "A = \"Leer es bueno para la mente\"\n",
        "B = A.upper() #Este método transforma todas las letras minúsculas en mayúsculas\n",
        "B"
      ],
      "metadata": {
        "colab": {
          "base_uri": "https://localhost:8080/",
          "height": 35
        },
        "id": "967kJFPyDrJz",
        "outputId": "b98059fe-be75-40cf-d261-741681f33898"
      },
      "execution_count": null,
      "outputs": [
        {
          "output_type": "execute_result",
          "data": {
            "text/plain": [
              "'LEER ES BUENO PARA LA MENTE'"
            ],
            "application/vnd.google.colaboratory.intrinsic+json": {
              "type": "string"
            }
          },
          "metadata": {},
          "execution_count": 10
        }
      ]
    },
    {
      "cell_type": "code",
      "source": [
        "C = A.replace('Leer', 'Dormir') #Este método reemplaza la primera string por la segunda en la string guardada en la variable A\n",
        "C"
      ],
      "metadata": {
        "colab": {
          "base_uri": "https://localhost:8080/",
          "height": 35
        },
        "id": "UyCQ2DtsD_kS",
        "outputId": "1de3645b-189d-4cc3-8e85-f8273476cf53"
      },
      "execution_count": null,
      "outputs": [
        {
          "output_type": "execute_result",
          "data": {
            "text/plain": [
              "'Dormir es bueno para la mente'"
            ],
            "application/vnd.google.colaboratory.intrinsic+json": {
              "type": "string"
            }
          },
          "metadata": {},
          "execution_count": 11
        }
      ]
    },
    {
      "cell_type": "code",
      "source": [
        "A.find('para') #Este método regresa el índice en el que comienza la string especificada"
      ],
      "metadata": {
        "colab": {
          "base_uri": "https://localhost:8080/"
        },
        "id": "WGM-7erNEdBN",
        "outputId": "347dcf84-619f-4476-bf1f-5f307a65ee71"
      },
      "execution_count": null,
      "outputs": [
        {
          "output_type": "execute_result",
          "data": {
            "text/plain": [
              "14"
            ]
          },
          "metadata": {},
          "execution_count": 12
        }
      ]
    },
    {
      "cell_type": "code",
      "source": [
        "#Si la string que se desea encontrar, no está en la string en la que se busca, entonces se obtiene un -1 como resultado\n",
        "A.find('corazón')"
      ],
      "metadata": {
        "colab": {
          "base_uri": "https://localhost:8080/"
        },
        "id": "T0VLFWmKE1pv",
        "outputId": "c842d87f-e1c8-49d8-8f1a-4526319073df"
      },
      "execution_count": null,
      "outputs": [
        {
          "output_type": "execute_result",
          "data": {
            "text/plain": [
              "-1"
            ]
          },
          "metadata": {},
          "execution_count": 13
        }
      ]
    },
    {
      "cell_type": "markdown",
      "source": [
        "#Module 2: Python Data Structures"
      ],
      "metadata": {
        "id": "Am3cxXEiV1rU"
      }
    },
    {
      "cell_type": "markdown",
      "source": [
        "##Lists and Tuples"
      ],
      "metadata": {
        "id": "wNMJLp0sV9Bm"
      }
    },
    {
      "cell_type": "code",
      "source": [
        "#Son llamados tipos de datos compuestos\n",
        "#Tuplas-Son secuencias ordenadas\n",
        "#Son expresadas con elementos separados por comas dentro de paréntesis\n",
        "#Los diferentes tipos de datos de Python pueden colocarse dentro de una tupla\n",
        "tuple_1 = ('hola', 5, 1.5)\n",
        "print(type(tuple_1)) #El tipo de dato de una tupla siempre será tuple"
      ],
      "metadata": {
        "colab": {
          "base_uri": "https://localhost:8080/"
        },
        "id": "RvCQ_2VNWBh2",
        "outputId": "4881410b-52b1-4c9a-f286-fb9e843a1fee"
      },
      "execution_count": 7,
      "outputs": [
        {
          "output_type": "stream",
          "name": "stdout",
          "text": [
            "<class 'tuple'>\n"
          ]
        }
      ]
    },
    {
      "cell_type": "code",
      "source": [
        "#Cada elemento de la tupla puede ser obtenido por un índice\n",
        "print(tuple_1[0])\n",
        "#De igual manera se pueden utilizar índices negativos\n",
        "print(tuple_1[-1])"
      ],
      "metadata": {
        "colab": {
          "base_uri": "https://localhost:8080/"
        },
        "id": "B0684ESrXW_h",
        "outputId": "68d255c0-db5b-4be2-fa83-08d7e487c87e"
      },
      "execution_count": 8,
      "outputs": [
        {
          "output_type": "stream",
          "name": "stdout",
          "text": [
            "hola\n",
            "1.5\n"
          ]
        }
      ]
    },
    {
      "cell_type": "code",
      "source": [
        "#Se pueden combinar tuplas al concatenarlas\n",
        "tuple_2 = tuple_1 + ('adios', 50)\n",
        "tuple_2"
      ],
      "metadata": {
        "colab": {
          "base_uri": "https://localhost:8080/"
        },
        "id": "Vfw8PgMcXcZu",
        "outputId": "ba73cfc9-20b6-4201-ed3f-9ce2798e0f3a"
      },
      "execution_count": 9,
      "outputs": [
        {
          "output_type": "execute_result",
          "data": {
            "text/plain": [
              "('hola', 5, 1.5, 'adios', 50)"
            ]
          },
          "metadata": {},
          "execution_count": 9
        }
      ]
    },
    {
      "cell_type": "code",
      "source": [
        "#El slicing también puede ser utilizado con las tuplas para obtener solo una parte\n",
        "tuple_2[0:3]"
      ],
      "metadata": {
        "colab": {
          "base_uri": "https://localhost:8080/"
        },
        "id": "fHQTXjSUXzyO",
        "outputId": "274c1bbd-c247-45f4-b47a-f87b8c3de05a"
      },
      "execution_count": 10,
      "outputs": [
        {
          "output_type": "execute_result",
          "data": {
            "text/plain": [
              "('hola', 5, 1.5)"
            ]
          },
          "metadata": {},
          "execution_count": 10
        }
      ]
    },
    {
      "cell_type": "code",
      "source": [
        "#La instrucción len se puede utilizar también para obtener el tamaño de la tupla\n",
        "len(tuple_2)"
      ],
      "metadata": {
        "colab": {
          "base_uri": "https://localhost:8080/"
        },
        "id": "OzU7rFdbYLlO",
        "outputId": "d23fca66-6e84-4f91-f0fc-ecc09412033b"
      },
      "execution_count": 11,
      "outputs": [
        {
          "output_type": "execute_result",
          "data": {
            "text/plain": [
              "5"
            ]
          },
          "metadata": {},
          "execution_count": 11
        }
      ]
    },
    {
      "cell_type": "code",
      "source": [
        "#Las tuplas son inmutables, es decir, no se pueden modificar\n",
        "#Si se requiere modificar una tupla, es necesario crear una nueva tupla y guardar ahí las modificaciones\n",
        "ratings = (10, 9, 6, 5, 10, 8, 9, 6, 2)\n",
        "print(ratings)\n",
        "ratings_sorted = sorted(ratings) #La función sorted ordena los elementos y regresa una lista\n",
        "print(ratings_sorted)"
      ],
      "metadata": {
        "colab": {
          "base_uri": "https://localhost:8080/"
        },
        "id": "XyaBz6kkZAJD",
        "outputId": "34c7a0a6-e894-4501-ab18-063fdc45ef78"
      },
      "execution_count": 13,
      "outputs": [
        {
          "output_type": "stream",
          "name": "stdout",
          "text": [
            "(10, 9, 6, 5, 10, 8, 9, 6, 2)\n",
            "[2, 5, 6, 6, 8, 9, 9, 10, 10]\n"
          ]
        }
      ]
    },
    {
      "cell_type": "code",
      "source": [
        "#Una tupla puede contener otras tuplas dentro de su estructura, esto se llama nesting\n",
        "nesting_tuple = (1, 2, ('pop', 'rock'), (3, 4), ('disco', (1, 2)))\n",
        "nesting_tuple"
      ],
      "metadata": {
        "colab": {
          "base_uri": "https://localhost:8080/"
        },
        "id": "DXlRXRjaaGwk",
        "outputId": "46c10622-ead8-4d34-cc2b-256b09d823ee"
      },
      "execution_count": 14,
      "outputs": [
        {
          "output_type": "execute_result",
          "data": {
            "text/plain": [
              "(1, 2, ('pop', 'rock'), (3, 4), ('disco', (1, 2)))"
            ]
          },
          "metadata": {},
          "execution_count": 14
        }
      ]
    },
    {
      "cell_type": "code",
      "source": [
        "#Para acceder a los elementos dentro del nesting es necesario usar corchetes seguidos dependiendo de la profundidad \n",
        "nesting_tuple[4][1][0]"
      ],
      "metadata": {
        "colab": {
          "base_uri": "https://localhost:8080/"
        },
        "id": "VulqHvMEadtM",
        "outputId": "8e1c0a1d-1aa6-4c17-855d-7739e141e208"
      },
      "execution_count": 16,
      "outputs": [
        {
          "output_type": "execute_result",
          "data": {
            "text/plain": [
              "1"
            ]
          },
          "metadata": {},
          "execution_count": 16
        }
      ]
    }
  ]
}