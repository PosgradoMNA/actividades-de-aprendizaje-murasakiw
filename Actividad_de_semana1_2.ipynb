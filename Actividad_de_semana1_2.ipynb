{
  "nbformat": 4,
  "nbformat_minor": 0,
  "metadata": {
    "colab": {
      "provenance": [],
      "collapsed_sections": [
        "4vUcoet9MASc"
      ],
      "authorship_tag": "ABX9TyPKAaHXfy5peBxTxkyQJmS1",
      "include_colab_link": true
    },
    "kernelspec": {
      "name": "python3",
      "display_name": "Python 3"
    },
    "language_info": {
      "name": "python"
    }
  },
  "cells": [
    {
      "cell_type": "markdown",
      "metadata": {
        "id": "view-in-github",
        "colab_type": "text"
      },
      "source": [
        "<a href=\"https://colab.research.google.com/github/PosgradoMNA/actividades-de-aprendizaje-murasakiw/blob/main/Actividad_de_semana1_2.ipynb\" target=\"_parent\"><img src=\"https://colab.research.google.com/assets/colab-badge.svg\" alt=\"Open In Colab\"/></a>"
      ]
    },
    {
      "cell_type": "markdown",
      "source": [
        "# **Python for Data Science**"
      ],
      "metadata": {
        "id": "uOmXQfWsKMkC"
      }
    },
    {
      "cell_type": "markdown",
      "source": [
        "# Module 1: Python Basics"
      ],
      "metadata": {
        "id": "iwT5RUZnKbhh"
      }
    },
    {
      "cell_type": "markdown",
      "source": [
        "## Your First Program"
      ],
      "metadata": {
        "id": "4vUcoet9MASc"
      }
    },
    {
      "cell_type": "code",
      "source": [
        "#Un error sintáctico(syntactic error) es cuando python no entiende el código\n",
        "#Por ejemplo, si se escribe frint en lugar de print\n",
        "print('Hello Python 101') "
      ],
      "metadata": {
        "colab": {
          "base_uri": "https://localhost:8080/"
        },
        "id": "NcfnMok8Kp4H",
        "outputId": "005945b5-4e0a-4c57-e168-9ea050474051"
      },
      "execution_count": null,
      "outputs": [
        {
          "output_type": "stream",
          "name": "stdout",
          "text": [
            "Hello Python 101\n"
          ]
        }
      ]
    },
    {
      "cell_type": "code",
      "source": [
        "print('Hello\\nWorld') #\\n se utiliza para insertar una nueva línea"
      ],
      "metadata": {
        "colab": {
          "base_uri": "https://localhost:8080/"
        },
        "id": "UjOLwTsMLn7q",
        "outputId": "27ca569d-bf9d-4925-f4f0-26b30169f928"
      },
      "execution_count": null,
      "outputs": [
        {
          "output_type": "stream",
          "name": "stdout",
          "text": [
            "Hello\n",
            "World\n"
          ]
        }
      ]
    },
    {
      "cell_type": "markdown",
      "source": [
        "##Types"
      ],
      "metadata": {
        "id": "oXP1X0j3MFLw"
      }
    },
    {
      "cell_type": "code",
      "source": [
        "#Cómo python representa diferentes tipos de datos\n",
        "#type() se utiliza para ver el tipo de dato\n",
        "print(type(11)) #Dato entero\n",
        "print(type(21.213)) #Número real\n",
        "print(type('Hello')) #Secuencia de caracteres"
      ],
      "metadata": {
        "colab": {
          "base_uri": "https://localhost:8080/"
        },
        "id": "78ySknwpMSP6",
        "outputId": "a5240828-5432-4c28-d363-18de29d7fa64"
      },
      "execution_count": null,
      "outputs": [
        {
          "output_type": "stream",
          "name": "stdout",
          "text": [
            "<class 'int'>\n",
            "<class 'float'>\n",
            "<class 'str'>\n"
          ]
        }
      ]
    },
    {
      "cell_type": "code",
      "source": [
        "#Se puede cambiar el tipo de una expresión en python y esto es llamado type-casting\n",
        "print(float(2))\n",
        "print(int(1.1))"
      ],
      "metadata": {
        "colab": {
          "base_uri": "https://localhost:8080/"
        },
        "id": "cRQ9_eU3NZ5R",
        "outputId": "146da2c6-1bbf-4316-ded1-9f70ae1330f5"
      },
      "execution_count": null,
      "outputs": [
        {
          "output_type": "stream",
          "name": "stdout",
          "text": [
            "2.0\n",
            "1\n"
          ]
        }
      ]
    },
    {
      "cell_type": "code",
      "source": [
        "#Se pueden convertir cadenas con un valor entero a int\n",
        "print(int('1234'))"
      ],
      "metadata": {
        "colab": {
          "base_uri": "https://localhost:8080/"
        },
        "id": "pc1F1oSuN7lW",
        "outputId": "11b1c206-8a59-465d-a927-184e227022e0"
      },
      "execution_count": null,
      "outputs": [
        {
          "output_type": "stream",
          "name": "stdout",
          "text": [
            "1234\n"
          ]
        }
      ]
    },
    {
      "cell_type": "code",
      "source": [
        "#No se pueden convertir cadenas que no tienen valor entero\n",
        "print(int('a')) #Esto arroja un error"
      ],
      "metadata": {
        "id": "qawBvv0eOYXb"
      },
      "execution_count": null,
      "outputs": []
    },
    {
      "cell_type": "code",
      "source": [
        "#Un boolean puede tomar dos valores True o False\n",
        "print(type(True))\n",
        "print(int(True)) #Convierte tipo bool True en 1\n",
        "print(int(False)) ##Convierte tipo bool False en 0\n",
        "print(bool(1)) #Convierte tipo int en True\n",
        "print(bool(0)) ##Convierte tipo int en False"
      ],
      "metadata": {
        "colab": {
          "base_uri": "https://localhost:8080/"
        },
        "id": "L8LhqAwXOZV_",
        "outputId": "33b954a8-2ceb-4426-aeca-d42ef590b2bf"
      },
      "execution_count": null,
      "outputs": [
        {
          "output_type": "stream",
          "name": "stdout",
          "text": [
            "<class 'bool'>\n",
            "1\n",
            "0\n",
            "True\n",
            "False\n"
          ]
        }
      ]
    },
    {
      "cell_type": "markdown",
      "source": [
        "## Expressions and Variables"
      ],
      "metadata": {
        "id": "JHNvQ2msQZLT"
      }
    },
    {
      "cell_type": "markdown",
      "source": [
        "###Expressions"
      ],
      "metadata": {
        "id": "wR5EQyG7j2Is"
      }
    },
    {
      "cell_type": "code",
      "source": [
        "#Las expresiones son operaciones que realiza python\n",
        "print(43+60+16+41) #Los números son llamados operandos y los símbolos(+) son llamados operadores\n",
        "print(50-60)\n",
        "print(25*5)\n",
        "print(25/6)\n",
        "print(25//6) #División entera, el resultado se redondea\n",
        "print(2*60+30) #Python sigue las convenciones matemáticas cuando se realizan operaciones\n",
        "print((30+2)*60)"
      ],
      "metadata": {
        "id": "YlkA4kmoQjXH",
        "colab": {
          "base_uri": "https://localhost:8080/"
        },
        "outputId": "debe25fc-666d-44a6-f2c0-08d0807b38be"
      },
      "execution_count": 9,
      "outputs": [
        {
          "output_type": "stream",
          "name": "stdout",
          "text": [
            "160\n",
            "-10\n",
            "125\n",
            "4.166666666666667\n",
            "4\n",
            "150\n",
            "1920\n"
          ]
        }
      ]
    },
    {
      "cell_type": "markdown",
      "source": [
        "### Variables"
      ],
      "metadata": {
        "id": "Mo1xZmLPjwyU"
      }
    },
    {
      "cell_type": "code",
      "source": [
        "#Las variables se utilizan para almacenar valores\n",
        "my_variable = 1"
      ],
      "metadata": {
        "id": "qeXmLrVXj0ie"
      },
      "execution_count": 17,
      "outputs": []
    },
    {
      "cell_type": "code",
      "source": [
        "my_variable"
      ],
      "metadata": {
        "colab": {
          "base_uri": "https://localhost:8080/"
        },
        "id": "9UlXTai9kfG2",
        "outputId": "81994a49-6b22-401a-bc01-cfff9125bd4e"
      },
      "execution_count": 18,
      "outputs": [
        {
          "output_type": "execute_result",
          "data": {
            "text/plain": [
              "1"
            ]
          },
          "metadata": {},
          "execution_count": 18
        }
      ]
    },
    {
      "cell_type": "code",
      "source": [
        "my_variable = 10 #Con el operador de asignación(=) se puede asignar un nuevo valor"
      ],
      "metadata": {
        "id": "lUKMpyVZkJvs"
      },
      "execution_count": 19,
      "outputs": []
    },
    {
      "cell_type": "code",
      "source": [
        "my_variable"
      ],
      "metadata": {
        "colab": {
          "base_uri": "https://localhost:8080/"
        },
        "id": "G9faLze6kicM",
        "outputId": "ee3a8f62-dc3b-45ac-d930-0104413fae0c"
      },
      "execution_count": 20,
      "outputs": [
        {
          "output_type": "execute_result",
          "data": {
            "text/plain": [
              "10"
            ]
          },
          "metadata": {},
          "execution_count": 20
        }
      ]
    },
    {
      "cell_type": "code",
      "source": [
        "x = 32 + 12 + 10 + 5 #La variable x guarda el resultado de toda la operación\n",
        "x"
      ],
      "metadata": {
        "colab": {
          "base_uri": "https://localhost:8080/"
        },
        "id": "-EUoSsDCkmKf",
        "outputId": "080a0ce9-b6cb-428c-f059-b1cf3996fc86"
      },
      "execution_count": 26,
      "outputs": [
        {
          "output_type": "execute_result",
          "data": {
            "text/plain": [
              "59"
            ]
          },
          "metadata": {},
          "execution_count": 26
        }
      ]
    },
    {
      "cell_type": "code",
      "source": [
        "y = x/6 #Se pueden realizar operaciones sobre una variable y guardar el resultado en otra\n",
        "y"
      ],
      "metadata": {
        "colab": {
          "base_uri": "https://localhost:8080/"
        },
        "id": "hRMQDOkZkzkP",
        "outputId": "13592af9-67e2-4f38-8719-021c29221e31"
      },
      "execution_count": 23,
      "outputs": [
        {
          "output_type": "execute_result",
          "data": {
            "text/plain": [
              "9.833333333333334"
            ]
          },
          "metadata": {},
          "execution_count": 23
        }
      ]
    },
    {
      "cell_type": "code",
      "source": [
        "x = x/8 #También se pueden realizar operaciones sobre la variable y almacenar el resultado en la misma variable\n",
        "x"
      ],
      "metadata": {
        "colab": {
          "base_uri": "https://localhost:8080/"
        },
        "id": "X5MQGaRxlEFc",
        "outputId": "e1f12d4c-ecdd-439b-99fa-3975b6e57de7"
      },
      "execution_count": 27,
      "outputs": [
        {
          "output_type": "execute_result",
          "data": {
            "text/plain": [
              "7.375"
            ]
          },
          "metadata": {},
          "execution_count": 27
        }
      ]
    },
    {
      "cell_type": "code",
      "source": [
        "type(x) #Se puede usar type sobre variables"
      ],
      "metadata": {
        "colab": {
          "base_uri": "https://localhost:8080/"
        },
        "id": "DAtH9rClld-e",
        "outputId": "29993f6a-ef90-4970-80ed-433b061386b2"
      },
      "execution_count": 28,
      "outputs": [
        {
          "output_type": "execute_result",
          "data": {
            "text/plain": [
              "float"
            ]
          },
          "metadata": {},
          "execution_count": 28
        }
      ]
    },
    {
      "cell_type": "code",
      "source": [
        "#Una buena práctica es utilizar nombres de variables con significado\n",
        "total_min = 43 + 42 + 57 #El nombre de la variable hace referencia al total de minutos de un álbum musical\n",
        "total_hr = total_min/60 #El nombre de la variable hace referencia a la conversión a horas del total de minutos\n",
        "total_hr"
      ],
      "metadata": {
        "colab": {
          "base_uri": "https://localhost:8080/"
        },
        "id": "o2kJ8BWCltpl",
        "outputId": "52463310-312c-45c7-bb27-140b605595f6"
      },
      "execution_count": 29,
      "outputs": [
        {
          "output_type": "execute_result",
          "data": {
            "text/plain": [
              "2.3666666666666667"
            ]
          },
          "metadata": {},
          "execution_count": 29
        }
      ]
    },
    {
      "cell_type": "code",
      "source": [
        "#Para saber qué versión de python se está utilizando\n",
        "import sys\n",
        "print(sys.version)"
      ],
      "metadata": {
        "colab": {
          "base_uri": "https://localhost:8080/"
        },
        "id": "hFHSQMSum09m",
        "outputId": "36c1d181-9f4a-4f5b-f6d6-c81a96cfbb62"
      },
      "execution_count": 30,
      "outputs": [
        {
          "output_type": "stream",
          "name": "stdout",
          "text": [
            "3.7.14 (default, Sep  8 2022, 00:06:44) \n",
            "[GCC 7.5.0]\n"
          ]
        }
      ]
    },
    {
      "cell_type": "code",
      "source": [
        "#Para obtener información acerca del tipo float\n",
        "sys.float_info"
      ],
      "metadata": {
        "colab": {
          "base_uri": "https://localhost:8080/"
        },
        "id": "LYgC3M5ZnHCQ",
        "outputId": "c9733516-8330-40e9-c422-375d7be7e0fd"
      },
      "execution_count": 31,
      "outputs": [
        {
          "output_type": "execute_result",
          "data": {
            "text/plain": [
              "sys.float_info(max=1.7976931348623157e+308, max_exp=1024, max_10_exp=308, min=2.2250738585072014e-308, min_exp=-1021, min_10_exp=-307, dig=15, mant_dig=53, epsilon=2.220446049250313e-16, radix=2, rounds=1)"
            ]
          },
          "metadata": {},
          "execution_count": 31
        }
      ]
    }
  ]
}