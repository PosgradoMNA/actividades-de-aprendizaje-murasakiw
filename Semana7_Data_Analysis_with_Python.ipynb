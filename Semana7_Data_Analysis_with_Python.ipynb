{
  "nbformat": 4,
  "nbformat_minor": 0,
  "metadata": {
    "colab": {
      "provenance": [],
      "collapsed_sections": [
        "aolfa-r6Lbax"
      ],
      "authorship_tag": "ABX9TyMbZksq7AtYFu/Ad8tRjojn",
      "include_colab_link": true
    },
    "kernelspec": {
      "name": "python3",
      "display_name": "Python 3"
    },
    "language_info": {
      "name": "python"
    }
  },
  "cells": [
    {
      "cell_type": "markdown",
      "metadata": {
        "id": "view-in-github",
        "colab_type": "text"
      },
      "source": [
        "<a href=\"https://colab.research.google.com/github/PosgradoMNA/actividades-de-aprendizaje-murasakiw/blob/main/Semana7_Data_Analysis_with_Python.ipynb\" target=\"_parent\"><img src=\"https://colab.research.google.com/assets/colab-badge.svg\" alt=\"Open In Colab\"/></a>"
      ]
    },
    {
      "cell_type": "markdown",
      "source": [
        "Ciencia y Analítica de Datos \n",
        "___ \n",
        "Semana 6: Data Analysis with Python (IBM)\n",
        "Nombre: Sergio Omar Esparza Hernández\n",
        "Matrícula: A01794338\n",
        "\n",
        "Módulo 4 - Model Development"
      ],
      "metadata": {
        "id": "no8ifbWwn6-C"
      }
    },
    {
      "cell_type": "markdown",
      "source": [
        "Un modelo es una ecuación matemática utilizada para predecir un valor de salida a partir de otros valores de entrada.\n",
        "Sirve para relacionar una o más variables independientes con variables dependientes.\n",
        "Usualmente, mientras más datos relevantes se tengan, más preciso es el modelo.\n",
        "Se pueden probar diferentes tipos de modelos para ver con cuál se obtienen mejores resultados.\n"
      ],
      "metadata": {
        "id": "FfeZnHlun5jU"
      }
    },
    {
      "cell_type": "markdown",
      "source": [
        "##Linear Regression and Multiple Linear Regression"
      ],
      "metadata": {
        "id": "aolfa-r6Lbax"
      }
    },
    {
      "cell_type": "markdown",
      "source": [
        "La regresión lineal utiliza una sola variable para hacer una predicción.\n",
        "La regresión lineal múltiple toma varias variables independientes para hacer una predicción.\n",
        "\n",
        "La regresión lineal simple ayuda a entender la relación entre una variable llamada predictor y una variable objetivo.\n",
        "\n",
        "Se utilizan los datos obtenidos para ajustar el modelo. El resultado de los datos de entrenamiento son los parámetros del modelo.\n",
        "El proceso es el siguiente:\n",
        "Se tiene un conjunto de datos.\n",
        "Se utilizan estos datos para entrenar o ajustar el modelo.\n",
        "Se utiliza el modelo para predecir valores.\n",
        "Los valores predichos se comparan con los valores esperados para obtener una medida del desempeño del modelo."
      ],
      "metadata": {
        "id": "A1CHlFd8oPGP"
      }
    },
    {
      "cell_type": "code",
      "source": [
        "import pandas as pd\n",
        "import numpy as np\n",
        "import seaborn as sns\n",
        "import matplotlib.pyplot as plt"
      ],
      "metadata": {
        "id": "jUArn3N3JoA6"
      },
      "execution_count": 1,
      "outputs": []
    },
    {
      "cell_type": "code",
      "source": [
        "url = 'https://archive.ics.uci.edu/ml/machine-learning-databases/autos/imports-85.data'\n",
        "\n",
        "df = pd.read_csv(url, header =  None)"
      ],
      "metadata": {
        "id": "TbElc51bJml5"
      },
      "execution_count": 2,
      "outputs": []
    },
    {
      "cell_type": "code",
      "source": [
        "headers = ['symboling', 'normalized_losses', 'make', 'fuel_type', 'aspiration', \n",
        "           'num_of_doors', 'body_style', 'drive_wheels', 'engine_location',\n",
        "           'wheel_base', 'length', 'width', 'height', 'curb_weight', \n",
        "           'engine_type', 'num_of_cylinders', 'engine_size', 'fuel_system', \n",
        "           'bore', 'stroke', 'compression_ratio', 'horsepower', 'peak_rpm',\n",
        "           'city_mpg', 'highway_mpg', 'price']\n",
        "df.columns = headers"
      ],
      "metadata": {
        "id": "_E_ogF-YJ13X"
      },
      "execution_count": 3,
      "outputs": []
    },
    {
      "cell_type": "markdown",
      "source": [
        "Entrenamiento de un modelo de regresión lineal simple."
      ],
      "metadata": {
        "id": "5pGqvY4EoUVk"
      }
    },
    {
      "cell_type": "code",
      "source": [
        "from sklearn.linear_model import LinearRegression"
      ],
      "metadata": {
        "id": "a2xZ5TRroUIm"
      },
      "execution_count": 4,
      "outputs": []
    },
    {
      "cell_type": "markdown",
      "source": [
        "Crear objeto linear regression."
      ],
      "metadata": {
        "id": "Ew3WLhQ8oZUZ"
      }
    },
    {
      "cell_type": "code",
      "execution_count": 5,
      "metadata": {
        "id": "Rnk5f2t2mWqc"
      },
      "outputs": [],
      "source": [
        "lm = LinearRegression()"
      ]
    },
    {
      "cell_type": "markdown",
      "source": [
        "Se definen las variables de entrada y salida"
      ],
      "metadata": {
        "id": "AILtnV1ZohAN"
      }
    },
    {
      "cell_type": "code",
      "source": [
        "df.replace('?', np.nan, inplace=True)\n",
        "df['price'] = pd.to_numeric(df['price'])\n",
        "media = np.mean(df.price)\n",
        "df['price'] = df['price'].replace(np.nan, media)"
      ],
      "metadata": {
        "id": "1_GxnVaEKEvj"
      },
      "execution_count": 8,
      "outputs": []
    },
    {
      "cell_type": "code",
      "source": [
        "X=df[['highway_mpg']]\n",
        "Y=df['price']"
      ],
      "metadata": {
        "id": "70TdT4PTogqg"
      },
      "execution_count": 9,
      "outputs": []
    },
    {
      "cell_type": "markdown",
      "source": [
        "Se utiliza el método fit para entrenar el modelo."
      ],
      "metadata": {
        "id": "HuB_QZXyoj3h"
      }
    },
    {
      "cell_type": "code",
      "source": [
        "lm.fit(X,Y)"
      ],
      "metadata": {
        "id": "yeHnzZE-ol1M",
        "colab": {
          "base_uri": "https://localhost:8080/"
        },
        "outputId": "dc5063d6-1526-4bba-9c94-125dc4fe7fa8"
      },
      "execution_count": 10,
      "outputs": [
        {
          "output_type": "execute_result",
          "data": {
            "text/plain": [
              "LinearRegression()"
            ]
          },
          "metadata": {},
          "execution_count": 10
        }
      ]
    },
    {
      "cell_type": "markdown",
      "source": [
        "Se pueden obtener las predicciones utilizando el método predict"
      ],
      "metadata": {
        "id": "uA2ld7wwooD6"
      }
    },
    {
      "cell_type": "code",
      "source": [
        "yhat = lm.predict(X)"
      ],
      "metadata": {
        "id": "eWPmZWxhop24"
      },
      "execution_count": 11,
      "outputs": []
    },
    {
      "cell_type": "markdown",
      "source": [
        "b0 es un atributo del objeto lm"
      ],
      "metadata": {
        "id": "Nx8Run16rJK0"
      }
    },
    {
      "cell_type": "code",
      "source": [
        "lm.intercept_"
      ],
      "metadata": {
        "id": "wlK8XzJsrJ5s",
        "colab": {
          "base_uri": "https://localhost:8080/"
        },
        "outputId": "4557355e-83de-443f-bf57-0696ef3031e4"
      },
      "execution_count": 12,
      "outputs": [
        {
          "output_type": "execute_result",
          "data": {
            "text/plain": [
              "37470.66014138312"
            ]
          },
          "metadata": {},
          "execution_count": 12
        }
      ]
    },
    {
      "cell_type": "markdown",
      "source": [
        "b1 es un atributo del objeto lm"
      ],
      "metadata": {
        "id": "1LSTgjalrL1X"
      }
    },
    {
      "cell_type": "code",
      "source": [
        "lm.coef_"
      ],
      "metadata": {
        "id": "2Roek2_2rNbF",
        "colab": {
          "base_uri": "https://localhost:8080/"
        },
        "outputId": "ce19c371-4bbc-4d55-d97a-3ec1e449b29f"
      },
      "execution_count": 13,
      "outputs": [
        {
          "output_type": "execute_result",
          "data": {
            "text/plain": [
              "array([-789.02661986])"
            ]
          },
          "metadata": {},
          "execution_count": 13
        }
      ]
    },
    {
      "cell_type": "code",
      "source": [
        "# price=b0+b1*highway-mpg"
      ],
      "metadata": {
        "id": "0KkOEILerVIl"
      },
      "execution_count": null,
      "outputs": []
    },
    {
      "cell_type": "markdown",
      "source": [
        "El modelo de regresión lineal múltiple es utilizado para encontrar la relación entre una variable continua objetivo(Y) y dos o más variables de entrada (X)."
      ],
      "metadata": {
        "id": "J5Isj4xQrPpP"
      }
    },
    {
      "cell_type": "markdown",
      "source": [
        "Entrenamiento de un modelo de regresión lineal múltiple."
      ],
      "metadata": {
        "id": "q2QtoitArdw2"
      }
    },
    {
      "cell_type": "code",
      "source": [
        "df.replace('?', np.nan, inplace=True)\n",
        "df['horsepower'] = pd.to_numeric(df['horsepower'])\n",
        "media = np.mean(df.horsepower)\n",
        "df['horsepower'] = df['horsepower'].replace(np.nan, media)"
      ],
      "metadata": {
        "id": "DHVBMx4jKghJ"
      },
      "execution_count": 14,
      "outputs": []
    },
    {
      "cell_type": "code",
      "source": [
        "df['curb_weight'] = pd.to_numeric(df['curb_weight'])\n",
        "media = np.mean(df.curb_weight)\n",
        "df['curb_weight'] = df['curb_weight'].replace(np.nan, media)"
      ],
      "metadata": {
        "id": "Sk24urSWKq3o"
      },
      "execution_count": 15,
      "outputs": []
    },
    {
      "cell_type": "code",
      "source": [
        "df['engine_size'] = pd.to_numeric(df['engine_size'])\n",
        "media = np.mean(df.engine_size)\n",
        "df['engine_size'] = df['engine_size'].replace(np.nan, media)"
      ],
      "metadata": {
        "id": "h7pX-QYlK2kL"
      },
      "execution_count": 16,
      "outputs": []
    },
    {
      "cell_type": "code",
      "source": [
        "df['highway_mpg'] = pd.to_numeric(df['highway_mpg'])\n",
        "media = np.mean(df.highway_mpg)\n",
        "df['highway_mpg'] = df['highway_mpg'].replace(np.nan, media)"
      ],
      "metadata": {
        "id": "-Rsjoks6K90f"
      },
      "execution_count": 17,
      "outputs": []
    },
    {
      "cell_type": "code",
      "source": [
        "z=df[['horsepower', 'curb_weight', 'engine_size', 'highway_mpg']]"
      ],
      "metadata": {
        "id": "eCEVECVyrbnA"
      },
      "execution_count": 18,
      "outputs": []
    },
    {
      "cell_type": "code",
      "source": [
        "lm.fit(z, df['price'])"
      ],
      "metadata": {
        "id": "8uBY9gcirhNI",
        "colab": {
          "base_uri": "https://localhost:8080/"
        },
        "outputId": "09c5dd8e-2b07-4216-81c0-aebb674e628b"
      },
      "execution_count": 19,
      "outputs": [
        {
          "output_type": "execute_result",
          "data": {
            "text/plain": [
              "LinearRegression()"
            ]
          },
          "metadata": {},
          "execution_count": 19
        }
      ]
    },
    {
      "cell_type": "markdown",
      "source": [
        "Se pueden obtener las predicciones del modelo con él método predict."
      ],
      "metadata": {
        "id": "6TZSnoZnrjFC"
      }
    },
    {
      "cell_type": "code",
      "source": [
        "yhat = lm.predict(z)"
      ],
      "metadata": {
        "id": "mr_s_UUfrlRp"
      },
      "execution_count": 20,
      "outputs": []
    },
    {
      "cell_type": "markdown",
      "source": [
        "Se puede obtener el valor de b0 como atributo del objeto lm"
      ],
      "metadata": {
        "id": "y1Zj69f4rn2J"
      }
    },
    {
      "cell_type": "code",
      "source": [
        "lm.intercept_"
      ],
      "metadata": {
        "id": "eOhMYca9rqk-",
        "colab": {
          "base_uri": "https://localhost:8080/"
        },
        "outputId": "f36af15e-9550-4025-8aac-c9a57b533a00"
      },
      "execution_count": 21,
      "outputs": [
        {
          "output_type": "execute_result",
          "data": {
            "text/plain": [
              "-9239.379970934518"
            ]
          },
          "metadata": {},
          "execution_count": 21
        }
      ]
    },
    {
      "cell_type": "markdown",
      "source": [
        "Los coeficientes del modelo se obtienen con el atributo coef_ del objeto lm."
      ],
      "metadata": {
        "id": "ah6yti_ZrsQE"
      }
    },
    {
      "cell_type": "code",
      "source": [
        "lm.coef_ #Coeficientes del modelo multilineal"
      ],
      "metadata": {
        "id": "e3MelC7jruiZ",
        "colab": {
          "base_uri": "https://localhost:8080/"
        },
        "outputId": "0db462a3-ff46-4639-a2f7-370320f942f7"
      },
      "execution_count": 22,
      "outputs": [
        {
          "output_type": "execute_result",
          "data": {
            "text/plain": [
              "array([ 18.12178086,   3.80596513, 101.121117  , -65.10968116])"
            ]
          },
          "metadata": {},
          "execution_count": 22
        }
      ]
    },
    {
      "cell_type": "markdown",
      "source": [
        "##Model Evaluation using visualization."
      ],
      "metadata": {
        "id": "p4yznBgVrw5V"
      }
    },
    {
      "cell_type": "markdown",
      "source": [
        "Regression Plot  \n",
        "Proporciona información de la relación entre dos variables.\n",
        "La magnitud de la correlación.\n",
        "La dirección de la relación (positiva o negativa).\n",
        "Cada punto representa un valor de la variable de salida.\n",
        "La línea recta representa los valores predichos por el modelo."
      ],
      "metadata": {
        "id": "nRQcuMRXr1Cv"
      }
    },
    {
      "cell_type": "code",
      "source": [
        "import seaborn as sns"
      ],
      "metadata": {
        "id": "9Rmioqturypy"
      },
      "execution_count": 23,
      "outputs": []
    },
    {
      "cell_type": "code",
      "source": [
        "sns.regplot(x='highway_mpg', y='price', data=df)\n",
        "plt.ylim(0,)"
      ],
      "metadata": {
        "id": "6JqzsKHXr3dq",
        "colab": {
          "base_uri": "https://localhost:8080/",
          "height": 297
        },
        "outputId": "7fe013b0-edac-4975-f6df-9ce7d6eee6a5"
      },
      "execution_count": 24,
      "outputs": [
        {
          "output_type": "execute_result",
          "data": {
            "text/plain": [
              "(0.0, 48120.551383773745)"
            ]
          },
          "metadata": {},
          "execution_count": 24
        },
        {
          "output_type": "display_data",
          "data": {
            "text/plain": [
              "<Figure size 432x288 with 1 Axes>"
            ],
            "image/png": "[encoded data removed]"
          },
          "metadata": {
            "needs_background": "light"
          }
        }
      ]
    },
    {
      "cell_type": "markdown",
      "source": [
        "Residual plot  \n",
        "Representa el error entre los valores esperados y los valores predichos por el modelo.\n",
        "Se espera que estos valores tengan de media cero, distribuidos uniformemente a lo largo del eje x con varianza similar y sin curvatura."
      ],
      "metadata": {
        "id": "MEls8pgTr_W7"
      }
    },
    {
      "cell_type": "markdown",
      "source": [
        "Esta gráfica ayuda a visualizar si el modelo seleccionado es incorrecto."
      ],
      "metadata": {
        "id": "kij5HMQJsBXS"
      }
    },
    {
      "cell_type": "code",
      "source": [
        "sns.residplot(x=df['highway_mpg'], y=df['price'])"
      ],
      "metadata": {
        "id": "nwmF4EzOr5v9",
        "colab": {
          "base_uri": "https://localhost:8080/",
          "height": 297
        },
        "outputId": "015a3aa7-9ea7-4b4f-8fe3-bf3fc0f9f5b5"
      },
      "execution_count": 27,
      "outputs": [
        {
          "output_type": "execute_result",
          "data": {
            "text/plain": [
              "<matplotlib.axes._subplots.AxesSubplot at 0x7fdc41b1ac50>"
            ]
          },
          "metadata": {},
          "execution_count": 27
        },
        {
          "output_type": "display_data",
          "data": {
            "text/plain": [
              "<Figure size 432x288 with 1 Axes>"
            ],
            "image/png": "[encoded data removed]"
          },
          "metadata": {
            "needs_background": "light"
          }
        }
      ]
    },
    {
      "cell_type": "markdown",
      "source": [
        "Distribution plot  \n",
        "Compara los valores predichos con los valores reales.\n",
        "Útil para visualizar modelos con varias variables independientes."
      ],
      "metadata": {
        "id": "LUZ9mKsnsEsB"
      }
    },
    {
      "cell_type": "code",
      "source": [
        "ax1 = sns.distplot(df['price'], hist=False, color='r', label='Actual Value')\n",
        "sns.distplot(yhat, hist=False, color='b', label='Fitted Values', ax=ax1)"
      ],
      "metadata": {
        "id": "MCMLroDfsD3m",
        "colab": {
          "base_uri": "https://localhost:8080/",
          "height": 397
        },
        "outputId": "63c98946-2a59-4c47-81cb-3b2d6025f035"
      },
      "execution_count": 30,
      "outputs": [
        {
          "output_type": "stream",
          "name": "stderr",
          "text": [
            "/usr/local/lib/python3.7/dist-packages/seaborn/distributions.py:2619: FutureWarning: `distplot` is a deprecated function and will be removed in a future version. Please adapt your code to use either `displot` (a figure-level function with similar flexibility) or `kdeplot` (an axes-level function for kernel density plots).\n",
            "  warnings.warn(msg, FutureWarning)\n",
            "/usr/local/lib/python3.7/dist-packages/seaborn/distributions.py:2619: FutureWarning: `distplot` is a deprecated function and will be removed in a future version. Please adapt your code to use either `displot` (a figure-level function with similar flexibility) or `kdeplot` (an axes-level function for kernel density plots).\n",
            "  warnings.warn(msg, FutureWarning)\n"
          ]
        },
        {
          "output_type": "execute_result",
          "data": {
            "text/plain": [
              "<matplotlib.axes._subplots.AxesSubplot at 0x7fdc41968850>"
            ]
          },
          "metadata": {},
          "execution_count": 30
        },
        {
          "output_type": "display_data",
          "data": {
            "text/plain": [
              "<Figure size 432x288 with 1 Axes>"
            ],
            "image/png": "[encoded data removed]"
          },
          "metadata": {
            "needs_background": "light"
          }
        }
      ]
    },
    {
      "cell_type": "markdown",
      "source": [
        "##Polynomial Regression and Pipelines\n"
      ],
      "metadata": {
        "id": "dFJ19VSJNR17"
      }
    },
    {
      "cell_type": "markdown",
      "source": [
        "Se transforman los datos en un polinomio, después se utiliza la regresión lineal para ajustar los parámetros del modelo.  \n",
        "Útil para describir relaciones curvilíneas. El grado de la regresión tiene mucho impacto y puede resultar en un mejor entrenamiento del modelo."
      ],
      "metadata": {
        "id": "sB5v--5WNlmo"
      }
    },
    {
      "cell_type": "markdown",
      "source": [
        "La función polyfit se utiliza para generar un modelo polinómico."
      ],
      "metadata": {
        "id": "QKrM9yxDOU78"
      }
    },
    {
      "cell_type": "code",
      "source": [
        "x = df['highway_mpg']\n",
        "y = df['price']\n",
        "f = np.polyfit(x, y, 3)\n",
        "p = np.poly1d(f)\n",
        "print(p)"
      ],
      "metadata": {
        "colab": {
          "base_uri": "https://localhost:8080/"
        },
        "id": "OYWRTz_qNXIr",
        "outputId": "61dda209-edd6-4077-dc6b-c60c2d420c89"
      },
      "execution_count": 73,
      "outputs": [
        {
          "output_type": "stream",
          "name": "stdout",
          "text": [
            "        3         2\n",
            "-1.641 x + 213.4 x - 9226 x + 1.402e+05\n"
          ]
        }
      ]
    },
    {
      "cell_type": "markdown",
      "source": [
        "Para realizar una regresión lineal múltiple polinomial es necesario utilizar la librería preprocessing de scikit-learn."
      ],
      "metadata": {
        "id": "8oXSIBxVO4xE"
      }
    },
    {
      "cell_type": "code",
      "source": [
        "from sklearn.preprocessing import PolynomialFeatures"
      ],
      "metadata": {
        "id": "o_uZkUPXPGc3"
      },
      "execution_count": 31,
      "outputs": []
    },
    {
      "cell_type": "code",
      "source": [
        "# pr = PolynomialFeatures(degree=2, include_bias=False)\n",
        "# x_polly = pr.fit_transform(x[['horsepower', 'curb_weight']])"
      ],
      "metadata": {
        "id": "xf2VBb66PKwC"
      },
      "execution_count": null,
      "outputs": []
    },
    {
      "cell_type": "markdown",
      "source": [
        "El módulo preprocessing se puede utilizar para aplicar transformaciones a los datos antes de utilizarlos para entrenar el modelo."
      ],
      "metadata": {
        "id": "9O8z6PJ2Psbm"
      }
    },
    {
      "cell_type": "code",
      "source": [
        "from sklearn.preprocessing import StandardScaler"
      ],
      "metadata": {
        "id": "qRefY75kP2nC"
      },
      "execution_count": 32,
      "outputs": []
    },
    {
      "cell_type": "code",
      "source": [
        "x_data = df.copy()"
      ],
      "metadata": {
        "id": "_a6BqDGpQD14"
      },
      "execution_count": 40,
      "outputs": []
    },
    {
      "cell_type": "code",
      "source": [
        "x_data"
      ],
      "metadata": {
        "colab": {
          "base_uri": "https://localhost:8080/",
          "height": 540
        },
        "id": "LNH6AwgLQh_k",
        "outputId": "22312f13-2067-432e-fa01-344508cf5cca"
      },
      "execution_count": 41,
      "outputs": [
        {
          "output_type": "execute_result",
          "data": {
            "text/plain": [
              "     symboling normalized_losses         make fuel_type aspiration  \\\n",
              "0            3               NaN  alfa-romero       gas        std   \n",
              "1            3               NaN  alfa-romero       gas        std   \n",
              "2            1               NaN  alfa-romero       gas        std   \n",
              "3            2               164         audi       gas        std   \n",
              "4            2               164         audi       gas        std   \n",
              "..         ...               ...          ...       ...        ...   \n",
              "200         -1                95        volvo       gas        std   \n",
              "201         -1                95        volvo       gas      turbo   \n",
              "202         -1                95        volvo       gas        std   \n",
              "203         -1                95        volvo    diesel      turbo   \n",
              "204         -1                95        volvo       gas      turbo   \n",
              "\n",
              "    num_of_doors   body_style drive_wheels engine_location  wheel_base  ...  \\\n",
              "0            two  convertible          rwd           front        88.6  ...   \n",
              "1            two  convertible          rwd           front        88.6  ...   \n",
              "2            two    hatchback          rwd           front        94.5  ...   \n",
              "3           four        sedan          fwd           front        99.8  ...   \n",
              "4           four        sedan          4wd           front        99.4  ...   \n",
              "..           ...          ...          ...             ...         ...  ...   \n",
              "200         four        sedan          rwd           front       109.1  ...   \n",
              "201         four        sedan          rwd           front       109.1  ...   \n",
              "202         four        sedan          rwd           front       109.1  ...   \n",
              "203         four        sedan          rwd           front       109.1  ...   \n",
              "204         four        sedan          rwd           front       109.1  ...   \n",
              "\n",
              "     engine_size  fuel_system  bore  stroke compression_ratio horsepower  \\\n",
              "0            130         mpfi  3.47    2.68               9.0      111.0   \n",
              "1            130         mpfi  3.47    2.68               9.0      111.0   \n",
              "2            152         mpfi  2.68    3.47               9.0      154.0   \n",
              "3            109         mpfi  3.19    3.40              10.0      102.0   \n",
              "4            136         mpfi  3.19    3.40               8.0      115.0   \n",
              "..           ...          ...   ...     ...               ...        ...   \n",
              "200          141         mpfi  3.78    3.15               9.5      114.0   \n",
              "201          141         mpfi  3.78    3.15               8.7      160.0   \n",
              "202          173         mpfi  3.58    2.87               8.8      134.0   \n",
              "203          145          idi  3.01    3.40              23.0      106.0   \n",
              "204          141         mpfi  3.78    3.15               9.5      114.0   \n",
              "\n",
              "     peak_rpm city_mpg highway_mpg    price  \n",
              "0        5000       21          27  13495.0  \n",
              "1        5000       21          27  16500.0  \n",
              "2        5000       19          26  16500.0  \n",
              "3        5500       24          30  13950.0  \n",
              "4        5500       18          22  17450.0  \n",
              "..        ...      ...         ...      ...  \n",
              "200      5400       23          28  16845.0  \n",
              "201      5300       19          25  19045.0  \n",
              "202      5500       18          23  21485.0  \n",
              "203      4800       26          27  22470.0  \n",
              "204      5400       19          25  22625.0  \n",
              "\n",
              "[205 rows x 26 columns]"
            ],
            "text/html": [
              "\n",
              "  <div id=\"df-73f1bf0e-929e-4d22-817d-2526a81aa411\">\n",
              "    <div class=\"colab-df-container\">\n",
              "      <div>\n",
              "<style scoped>\n",
              "    .dataframe tbody tr th:only-of-type {\n",
              "        vertical-align: middle;\n",
              "    }\n",
              "\n",
              "    .dataframe tbody tr th {\n",
              "        vertical-align: top;\n",
              "    }\n",
              "\n",
              "    .dataframe thead th {\n",
              "        text-align: right;\n",
              "    }\n",
              "</style>\n",
              "<table border=\"1\" class=\"dataframe\">\n",
              "  <thead>\n",
              "    <tr style=\"text-align: right;\">\n",
              "      <th></th>\n",
              "      <th>symboling</th>\n",
              "      <th>normalized_losses</th>\n",
              "      <th>make</th>\n",
              "      <th>fuel_type</th>\n",
              "      <th>aspiration</th>\n",
              "      <th>num_of_doors</th>\n",
              "      <th>body_style</th>\n",
              "      <th>drive_wheels</th>\n",
              "      <th>engine_location</th>\n",
              "      <th>wheel_base</th>\n",
              "      <th>...</th>\n",
              "      <th>engine_size</th>\n",
              "      <th>fuel_system</th>\n",
              "      <th>bore</th>\n",
              "      <th>stroke</th>\n",
              "      <th>compression_ratio</th>\n",
              "      <th>horsepower</th>\n",
              "      <th>peak_rpm</th>\n",
              "      <th>city_mpg</th>\n",
              "      <th>highway_mpg</th>\n",
              "      <th>price</th>\n",
              "    </tr>\n",
              "  </thead>\n",
              "  <tbody>\n",
              "    <tr>\n",
              "      <th>0</th>\n",
              "      <td>3</td>\n",
              "      <td>NaN</td>\n",
              "      <td>alfa-romero</td>\n",
              "      <td>gas</td>\n",
              "      <td>std</td>\n",
              "      <td>two</td>\n",
              "      <td>convertible</td>\n",
              "      <td>rwd</td>\n",
              "      <td>front</td>\n",
              "      <td>88.6</td>\n",
              "      <td>...</td>\n",
              "      <td>130</td>\n",
              "      <td>mpfi</td>\n",
              "      <td>3.47</td>\n",
              "      <td>2.68</td>\n",
              "      <td>9.0</td>\n",
              "      <td>111.0</td>\n",
              "      <td>5000</td>\n",
              "      <td>21</td>\n",
              "      <td>27</td>\n",
              "      <td>13495.0</td>\n",
              "    </tr>\n",
              "    <tr>\n",
              "      <th>1</th>\n",
              "      <td>3</td>\n",
              "      <td>NaN</td>\n",
              "      <td>alfa-romero</td>\n",
              "      <td>gas</td>\n",
              "      <td>std</td>\n",
              "      <td>two</td>\n",
              "      <td>convertible</td>\n",
              "      <td>rwd</td>\n",
              "      <td>front</td>\n",
              "      <td>88.6</td>\n",
              "      <td>...</td>\n",
              "      <td>130</td>\n",
              "      <td>mpfi</td>\n",
              "      <td>3.47</td>\n",
              "      <td>2.68</td>\n",
              "      <td>9.0</td>\n",
              "      <td>111.0</td>\n",
              "      <td>5000</td>\n",
              "      <td>21</td>\n",
              "      <td>27</td>\n",
              "      <td>16500.0</td>\n",
              "    </tr>\n",
              "    <tr>\n",
              "      <th>2</th>\n",
              "      <td>1</td>\n",
              "      <td>NaN</td>\n",
              "      <td>alfa-romero</td>\n",
              "      <td>gas</td>\n",
              "      <td>std</td>\n",
              "      <td>two</td>\n",
              "      <td>hatchback</td>\n",
              "      <td>rwd</td>\n",
              "      <td>front</td>\n",
              "      <td>94.5</td>\n",
              "      <td>...</td>\n",
              "      <td>152</td>\n",
              "      <td>mpfi</td>\n",
              "      <td>2.68</td>\n",
              "      <td>3.47</td>\n",
              "      <td>9.0</td>\n",
              "      <td>154.0</td>\n",
              "      <td>5000</td>\n",
              "      <td>19</td>\n",
              "      <td>26</td>\n",
              "      <td>16500.0</td>\n",
              "    </tr>\n",
              "    <tr>\n",
              "      <th>3</th>\n",
              "      <td>2</td>\n",
              "      <td>164</td>\n",
              "      <td>audi</td>\n",
              "      <td>gas</td>\n",
              "      <td>std</td>\n",
              "      <td>four</td>\n",
              "      <td>sedan</td>\n",
              "      <td>fwd</td>\n",
              "      <td>front</td>\n",
              "      <td>99.8</td>\n",
              "      <td>...</td>\n",
              "      <td>109</td>\n",
              "      <td>mpfi</td>\n",
              "      <td>3.19</td>\n",
              "      <td>3.40</td>\n",
              "      <td>10.0</td>\n",
              "      <td>102.0</td>\n",
              "      <td>5500</td>\n",
              "      <td>24</td>\n",
              "      <td>30</td>\n",
              "      <td>13950.0</td>\n",
              "    </tr>\n",
              "    <tr>\n",
              "      <th>4</th>\n",
              "      <td>2</td>\n",
              "      <td>164</td>\n",
              "      <td>audi</td>\n",
              "      <td>gas</td>\n",
              "      <td>std</td>\n",
              "      <td>four</td>\n",
              "      <td>sedan</td>\n",
              "      <td>4wd</td>\n",
              "      <td>front</td>\n",
              "      <td>99.4</td>\n",
              "      <td>...</td>\n",
              "      <td>136</td>\n",
              "      <td>mpfi</td>\n",
              "      <td>3.19</td>\n",
              "      <td>3.40</td>\n",
              "      <td>8.0</td>\n",
              "      <td>115.0</td>\n",
              "      <td>5500</td>\n",
              "      <td>18</td>\n",
              "      <td>22</td>\n",
              "      <td>17450.0</td>\n",
              "    </tr>\n",
              "    <tr>\n",
              "      <th>...</th>\n",
              "      <td>...</td>\n",
              "      <td>...</td>\n",
              "      <td>...</td>\n",
              "      <td>...</td>\n",
              "      <td>...</td>\n",
              "      <td>...</td>\n",
              "      <td>...</td>\n",
              "      <td>...</td>\n",
              "      <td>...</td>\n",
              "      <td>...</td>\n",
              "      <td>...</td>\n",
              "      <td>...</td>\n",
              "      <td>...</td>\n",
              "      <td>...</td>\n",
              "      <td>...</td>\n",
              "      <td>...</td>\n",
              "      <td>...</td>\n",
              "      <td>...</td>\n",
              "      <td>...</td>\n",
              "      <td>...</td>\n",
              "      <td>...</td>\n",
              "    </tr>\n",
              "    <tr>\n",
              "      <th>200</th>\n",
              "      <td>-1</td>\n",
              "      <td>95</td>\n",
              "      <td>volvo</td>\n",
              "      <td>gas</td>\n",
              "      <td>std</td>\n",
              "      <td>four</td>\n",
              "      <td>sedan</td>\n",
              "      <td>rwd</td>\n",
              "      <td>front</td>\n",
              "      <td>109.1</td>\n",
              "      <td>...</td>\n",
              "      <td>141</td>\n",
              "      <td>mpfi</td>\n",
              "      <td>3.78</td>\n",
              "      <td>3.15</td>\n",
              "      <td>9.5</td>\n",
              "      <td>114.0</td>\n",
              "      <td>5400</td>\n",
              "      <td>23</td>\n",
              "      <td>28</td>\n",
              "      <td>16845.0</td>\n",
              "    </tr>\n",
              "    <tr>\n",
              "      <th>201</th>\n",
              "      <td>-1</td>\n",
              "      <td>95</td>\n",
              "      <td>volvo</td>\n",
              "      <td>gas</td>\n",
              "      <td>turbo</td>\n",
              "      <td>four</td>\n",
              "      <td>sedan</td>\n",
              "      <td>rwd</td>\n",
              "      <td>front</td>\n",
              "      <td>109.1</td>\n",
              "      <td>...</td>\n",
              "      <td>141</td>\n",
              "      <td>mpfi</td>\n",
              "      <td>3.78</td>\n",
              "      <td>3.15</td>\n",
              "      <td>8.7</td>\n",
              "      <td>160.0</td>\n",
              "      <td>5300</td>\n",
              "      <td>19</td>\n",
              "      <td>25</td>\n",
              "      <td>19045.0</td>\n",
              "    </tr>\n",
              "    <tr>\n",
              "      <th>202</th>\n",
              "      <td>-1</td>\n",
              "      <td>95</td>\n",
              "      <td>volvo</td>\n",
              "      <td>gas</td>\n",
              "      <td>std</td>\n",
              "      <td>four</td>\n",
              "      <td>sedan</td>\n",
              "      <td>rwd</td>\n",
              "      <td>front</td>\n",
              "      <td>109.1</td>\n",
              "      <td>...</td>\n",
              "      <td>173</td>\n",
              "      <td>mpfi</td>\n",
              "      <td>3.58</td>\n",
              "      <td>2.87</td>\n",
              "      <td>8.8</td>\n",
              "      <td>134.0</td>\n",
              "      <td>5500</td>\n",
              "      <td>18</td>\n",
              "      <td>23</td>\n",
              "      <td>21485.0</td>\n",
              "    </tr>\n",
              "    <tr>\n",
              "      <th>203</th>\n",
              "      <td>-1</td>\n",
              "      <td>95</td>\n",
              "      <td>volvo</td>\n",
              "      <td>diesel</td>\n",
              "      <td>turbo</td>\n",
              "      <td>four</td>\n",
              "      <td>sedan</td>\n",
              "      <td>rwd</td>\n",
              "      <td>front</td>\n",
              "      <td>109.1</td>\n",
              "      <td>...</td>\n",
              "      <td>145</td>\n",
              "      <td>idi</td>\n",
              "      <td>3.01</td>\n",
              "      <td>3.40</td>\n",
              "      <td>23.0</td>\n",
              "      <td>106.0</td>\n",
              "      <td>4800</td>\n",
              "      <td>26</td>\n",
              "      <td>27</td>\n",
              "      <td>22470.0</td>\n",
              "    </tr>\n",
              "    <tr>\n",
              "      <th>204</th>\n",
              "      <td>-1</td>\n",
              "      <td>95</td>\n",
              "      <td>volvo</td>\n",
              "      <td>gas</td>\n",
              "      <td>turbo</td>\n",
              "      <td>four</td>\n",
              "      <td>sedan</td>\n",
              "      <td>rwd</td>\n",
              "      <td>front</td>\n",
              "      <td>109.1</td>\n",
              "      <td>...</td>\n",
              "      <td>141</td>\n",
              "      <td>mpfi</td>\n",
              "      <td>3.78</td>\n",
              "      <td>3.15</td>\n",
              "      <td>9.5</td>\n",
              "      <td>114.0</td>\n",
              "      <td>5400</td>\n",
              "      <td>19</td>\n",
              "      <td>25</td>\n",
              "      <td>22625.0</td>\n",
              "    </tr>\n",
              "  </tbody>\n",
              "</table>\n",
              "<p>205 rows × 26 columns</p>\n",
              "</div>\n",
              "      <button class=\"colab-df-convert\" onclick=\"convertToInteractive('df-73f1bf0e-929e-4d22-817d-2526a81aa411')\"\n",
              "              title=\"Convert this dataframe to an interactive table.\"\n",
              "              style=\"display:none;\">\n",
              "        \n",
              "  <svg xmlns=\"http://www.w3.org/2000/svg\" height=\"24px\"viewBox=\"0 0 24 24\"\n",
              "       width=\"24px\">\n",
              "    <path d=\"M0 0h24v24H0V0z\" fill=\"none\"/>\n",
              "    <path d=\"M18.56 5.44l.94 2.06.94-2.06 2.06-.94-2.06-.94-.94-2.06-.94 2.06-2.06.94zm-11 1L8.5 8.5l.94-2.06 2.06-.94-2.06-.94L8.5 2.5l-.94 2.06-2.06.94zm10 10l.94 2.06.94-2.06 2.06-.94-2.06-.94-.94-2.06-.94 2.06-2.06.94z\"/><path d=\"M17.41 7.96l-1.37-1.37c-.4-.4-.92-.59-1.43-.59-.52 0-1.04.2-1.43.59L10.3 9.45l-7.72 7.72c-.78.78-.78 2.05 0 2.83L4 21.41c.39.39.9.59 1.41.59.51 0 1.02-.2 1.41-.59l7.78-7.78 2.81-2.81c.8-.78.8-2.07 0-2.86zM5.41 20L4 18.59l7.72-7.72 1.47 1.35L5.41 20z\"/>\n",
              "  </svg>\n",
              "      </button>\n",
              "      \n",
              "  <style>\n",
              "    .colab-df-container {\n",
              "      display:flex;\n",
              "      flex-wrap:wrap;\n",
              "      gap: 12px;\n",
              "    }\n",
              "\n",
              "    .colab-df-convert {\n",
              "      background-color: #E8F0FE;\n",
              "      border: none;\n",
              "      border-radius: 50%;\n",
              "      cursor: pointer;\n",
              "      display: none;\n",
              "      fill: #1967D2;\n",
              "      height: 32px;\n",
              "      padding: 0 0 0 0;\n",
              "      width: 32px;\n",
              "    }\n",
              "\n",
              "    .colab-df-convert:hover {\n",
              "      background-color: #E2EBFA;\n",
              "      box-shadow: 0px 1px 2px rgba(60, 64, 67, 0.3), 0px 1px 3px 1px rgba(60, 64, 67, 0.15);\n",
              "      fill: #174EA6;\n",
              "    }\n",
              "\n",
              "    [theme=dark] .colab-df-convert {\n",
              "      background-color: #3B4455;\n",
              "      fill: #D2E3FC;\n",
              "    }\n",
              "\n",
              "    [theme=dark] .colab-df-convert:hover {\n",
              "      background-color: #434B5C;\n",
              "      box-shadow: 0px 1px 3px 1px rgba(0, 0, 0, 0.15);\n",
              "      filter: drop-shadow(0px 1px 2px rgba(0, 0, 0, 0.3));\n",
              "      fill: #FFFFFF;\n",
              "    }\n",
              "  </style>\n",
              "\n",
              "      <script>\n",
              "        const buttonEl =\n",
              "          document.querySelector('#df-73f1bf0e-929e-4d22-817d-2526a81aa411 button.colab-df-convert');\n",
              "        buttonEl.style.display =\n",
              "          google.colab.kernel.accessAllowed ? 'block' : 'none';\n",
              "\n",
              "        async function convertToInteractive(key) {\n",
              "          const element = document.querySelector('#df-73f1bf0e-929e-4d22-817d-2526a81aa411');\n",
              "          const dataTable =\n",
              "            await google.colab.kernel.invokeFunction('convertToInteractive',\n",
              "                                                     [key], {});\n",
              "          if (!dataTable) return;\n",
              "\n",
              "          const docLinkHtml = 'Like what you see? Visit the ' +\n",
              "            '<a target=\"_blank\" href=https://colab.research.google.com/notebooks/data_table.ipynb>data table notebook</a>'\n",
              "            + ' to learn more about interactive tables.';\n",
              "          element.innerHTML = '';\n",
              "          dataTable['output_type'] = 'display_data';\n",
              "          await google.colab.output.renderOutput(dataTable, element);\n",
              "          const docLink = document.createElement('div');\n",
              "          docLink.innerHTML = docLinkHtml;\n",
              "          element.appendChild(docLink);\n",
              "        }\n",
              "      </script>\n",
              "    </div>\n",
              "  </div>\n",
              "  "
            ]
          },
          "metadata": {},
          "execution_count": 41
        }
      ]
    },
    {
      "cell_type": "code",
      "source": [
        "scale = StandardScaler()\n",
        "scale.fit(x_data[['horsepower', 'highway_mpg']])"
      ],
      "metadata": {
        "colab": {
          "base_uri": "https://localhost:8080/"
        },
        "id": "rNhWpIycP7--",
        "outputId": "2f49206c-f45a-4b6e-bd11-b124d9161eb7"
      },
      "execution_count": 42,
      "outputs": [
        {
          "output_type": "execute_result",
          "data": {
            "text/plain": [
              "StandardScaler()"
            ]
          },
          "metadata": {},
          "execution_count": 42
        }
      ]
    },
    {
      "cell_type": "code",
      "source": [
        "x_scale = scale.transform(x_data[['horsepower', 'highway_mpg']])"
      ],
      "metadata": {
        "id": "t_7fqTCPQQlt"
      },
      "execution_count": 43,
      "outputs": []
    },
    {
      "cell_type": "code",
      "source": [
        "pd.DataFrame(x_scale, columns=['horsepower', 'highway_mpg']).describe()"
      ],
      "metadata": {
        "colab": {
          "base_uri": "https://localhost:8080/",
          "height": 300
        },
        "id": "0cJ6f21fRbbN",
        "outputId": "df91f9c9-9699-4b58-b80a-56a9c24a8ae6"
      },
      "execution_count": 46,
      "outputs": [
        {
          "output_type": "execute_result",
          "data": {
            "text/plain": [
              "         horsepower   highway_mpg\n",
              "count  2.050000e+02  2.050000e+02\n",
              "mean   2.274603e-16  1.473076e-16\n",
              "std    1.002448e+00  1.002448e+00\n",
              "min   -1.426999e+00 -2.147310e+00\n",
              "25%   -8.689449e-01 -8.371954e-01\n",
              "50%   -2.347926e-01 -1.093538e-01\n",
              "75%    2.978954e-01  4.729195e-01\n",
              "max    4.660863e+00  3.384286e+00"
            ],
            "text/html": [
              "\n",
              "  <div id=\"df-f196d36b-1bd2-40fb-a8e4-8705de77218a\">\n",
              "    <div class=\"colab-df-container\">\n",
              "      <div>\n",
              "<style scoped>\n",
              "    .dataframe tbody tr th:only-of-type {\n",
              "        vertical-align: middle;\n",
              "    }\n",
              "\n",
              "    .dataframe tbody tr th {\n",
              "        vertical-align: top;\n",
              "    }\n",
              "\n",
              "    .dataframe thead th {\n",
              "        text-align: right;\n",
              "    }\n",
              "</style>\n",
              "<table border=\"1\" class=\"dataframe\">\n",
              "  <thead>\n",
              "    <tr style=\"text-align: right;\">\n",
              "      <th></th>\n",
              "      <th>horsepower</th>\n",
              "      <th>highway_mpg</th>\n",
              "    </tr>\n",
              "  </thead>\n",
              "  <tbody>\n",
              "    <tr>\n",
              "      <th>count</th>\n",
              "      <td>2.050000e+02</td>\n",
              "      <td>2.050000e+02</td>\n",
              "    </tr>\n",
              "    <tr>\n",
              "      <th>mean</th>\n",
              "      <td>2.274603e-16</td>\n",
              "      <td>1.473076e-16</td>\n",
              "    </tr>\n",
              "    <tr>\n",
              "      <th>std</th>\n",
              "      <td>1.002448e+00</td>\n",
              "      <td>1.002448e+00</td>\n",
              "    </tr>\n",
              "    <tr>\n",
              "      <th>min</th>\n",
              "      <td>-1.426999e+00</td>\n",
              "      <td>-2.147310e+00</td>\n",
              "    </tr>\n",
              "    <tr>\n",
              "      <th>25%</th>\n",
              "      <td>-8.689449e-01</td>\n",
              "      <td>-8.371954e-01</td>\n",
              "    </tr>\n",
              "    <tr>\n",
              "      <th>50%</th>\n",
              "      <td>-2.347926e-01</td>\n",
              "      <td>-1.093538e-01</td>\n",
              "    </tr>\n",
              "    <tr>\n",
              "      <th>75%</th>\n",
              "      <td>2.978954e-01</td>\n",
              "      <td>4.729195e-01</td>\n",
              "    </tr>\n",
              "    <tr>\n",
              "      <th>max</th>\n",
              "      <td>4.660863e+00</td>\n",
              "      <td>3.384286e+00</td>\n",
              "    </tr>\n",
              "  </tbody>\n",
              "</table>\n",
              "</div>\n",
              "      <button class=\"colab-df-convert\" onclick=\"convertToInteractive('df-f196d36b-1bd2-40fb-a8e4-8705de77218a')\"\n",
              "              title=\"Convert this dataframe to an interactive table.\"\n",
              "              style=\"display:none;\">\n",
              "        \n",
              "  <svg xmlns=\"http://www.w3.org/2000/svg\" height=\"24px\"viewBox=\"0 0 24 24\"\n",
              "       width=\"24px\">\n",
              "    <path d=\"M0 0h24v24H0V0z\" fill=\"none\"/>\n",
              "    <path d=\"M18.56 5.44l.94 2.06.94-2.06 2.06-.94-2.06-.94-.94-2.06-.94 2.06-2.06.94zm-11 1L8.5 8.5l.94-2.06 2.06-.94-2.06-.94L8.5 2.5l-.94 2.06-2.06.94zm10 10l.94 2.06.94-2.06 2.06-.94-2.06-.94-.94-2.06-.94 2.06-2.06.94z\"/><path d=\"M17.41 7.96l-1.37-1.37c-.4-.4-.92-.59-1.43-.59-.52 0-1.04.2-1.43.59L10.3 9.45l-7.72 7.72c-.78.78-.78 2.05 0 2.83L4 21.41c.39.39.9.59 1.41.59.51 0 1.02-.2 1.41-.59l7.78-7.78 2.81-2.81c.8-.78.8-2.07 0-2.86zM5.41 20L4 18.59l7.72-7.72 1.47 1.35L5.41 20z\"/>\n",
              "  </svg>\n",
              "      </button>\n",
              "      \n",
              "  <style>\n",
              "    .colab-df-container {\n",
              "      display:flex;\n",
              "      flex-wrap:wrap;\n",
              "      gap: 12px;\n",
              "    }\n",
              "\n",
              "    .colab-df-convert {\n",
              "      background-color: #E8F0FE;\n",
              "      border: none;\n",
              "      border-radius: 50%;\n",
              "      cursor: pointer;\n",
              "      display: none;\n",
              "      fill: #1967D2;\n",
              "      height: 32px;\n",
              "      padding: 0 0 0 0;\n",
              "      width: 32px;\n",
              "    }\n",
              "\n",
              "    .colab-df-convert:hover {\n",
              "      background-color: #E2EBFA;\n",
              "      box-shadow: 0px 1px 2px rgba(60, 64, 67, 0.3), 0px 1px 3px 1px rgba(60, 64, 67, 0.15);\n",
              "      fill: #174EA6;\n",
              "    }\n",
              "\n",
              "    [theme=dark] .colab-df-convert {\n",
              "      background-color: #3B4455;\n",
              "      fill: #D2E3FC;\n",
              "    }\n",
              "\n",
              "    [theme=dark] .colab-df-convert:hover {\n",
              "      background-color: #434B5C;\n",
              "      box-shadow: 0px 1px 3px 1px rgba(0, 0, 0, 0.15);\n",
              "      filter: drop-shadow(0px 1px 2px rgba(0, 0, 0, 0.3));\n",
              "      fill: #FFFFFF;\n",
              "    }\n",
              "  </style>\n",
              "\n",
              "      <script>\n",
              "        const buttonEl =\n",
              "          document.querySelector('#df-f196d36b-1bd2-40fb-a8e4-8705de77218a button.colab-df-convert');\n",
              "        buttonEl.style.display =\n",
              "          google.colab.kernel.accessAllowed ? 'block' : 'none';\n",
              "\n",
              "        async function convertToInteractive(key) {\n",
              "          const element = document.querySelector('#df-f196d36b-1bd2-40fb-a8e4-8705de77218a');\n",
              "          const dataTable =\n",
              "            await google.colab.kernel.invokeFunction('convertToInteractive',\n",
              "                                                     [key], {});\n",
              "          if (!dataTable) return;\n",
              "\n",
              "          const docLinkHtml = 'Like what you see? Visit the ' +\n",
              "            '<a target=\"_blank\" href=https://colab.research.google.com/notebooks/data_table.ipynb>data table notebook</a>'\n",
              "            + ' to learn more about interactive tables.';\n",
              "          element.innerHTML = '';\n",
              "          dataTable['output_type'] = 'display_data';\n",
              "          await google.colab.output.renderOutput(dataTable, element);\n",
              "          const docLink = document.createElement('div');\n",
              "          docLink.innerHTML = docLinkHtml;\n",
              "          element.appendChild(docLink);\n",
              "        }\n",
              "      </script>\n",
              "    </div>\n",
              "  </div>\n",
              "  "
            ]
          },
          "metadata": {},
          "execution_count": 46
        }
      ]
    },
    {
      "cell_type": "markdown",
      "source": [
        "Los pipelines ayudan a simplificar el código, ya que los pasos necesarios para realizar una predicción a partir de un modelo son varios.  \n",
        "Los pipelines ejecutan una serie de transformaciones."
      ],
      "metadata": {
        "id": "XqWPnw93RaxE"
      }
    },
    {
      "cell_type": "code",
      "source": [
        "from sklearn.preprocessing import PolynomialFeatures\n",
        "from sklearn.linear_model import LinearRegression\n",
        "from sklearn.preprocessing import StandardScaler\n",
        "from sklearn.pipeline import Pipeline"
      ],
      "metadata": {
        "id": "d9wJQtnxRZ79"
      },
      "execution_count": 52,
      "outputs": []
    },
    {
      "cell_type": "code",
      "source": [
        "#Se crea una lista de tuplas con los pasos a ejecutar\n",
        "input = [('scale', StandardScaler()), ('polynomial', PolynomialFeatures(degree=2)), ('model', LinearRegression())] "
      ],
      "metadata": {
        "id": "dbyyT-K-SNDV"
      },
      "execution_count": 53,
      "outputs": []
    },
    {
      "cell_type": "code",
      "source": [
        "pipe = Pipeline(input)"
      ],
      "metadata": {
        "id": "pURqA0GQTNrM"
      },
      "execution_count": 54,
      "outputs": []
    },
    {
      "cell_type": "code",
      "source": [
        "pipe.fit(df[['horsepower', 'curb_weight', 'engine_size', 'highway_mpg']], df['price']) #Se puede entrenar el pipeline"
      ],
      "metadata": {
        "colab": {
          "base_uri": "https://localhost:8080/"
        },
        "id": "VyaJ-P6qTnYZ",
        "outputId": "27722a9f-0e2d-4e84-9ca0-71c277dd8b45"
      },
      "execution_count": 57,
      "outputs": [
        {
          "output_type": "execute_result",
          "data": {
            "text/plain": [
              "Pipeline(steps=[('scale', StandardScaler()),\n",
              "                ('polynomial', PolynomialFeatures()),\n",
              "                ('model', LinearRegression())])"
            ]
          },
          "metadata": {},
          "execution_count": 57
        }
      ]
    },
    {
      "cell_type": "code",
      "source": [
        "yhat=pipe.predict(df[['horsepower', 'curb_weight', 'engine_size', 'highway_mpg']]) #Se pueden predecir los valores utilizando el método predict del pipeline"
      ],
      "metadata": {
        "id": "mYT-JsFKUKtx"
      },
      "execution_count": 58,
      "outputs": []
    },
    {
      "cell_type": "markdown",
      "source": [
        "##Measures for In-Sample Evaluation"
      ],
      "metadata": {
        "id": "T5PAk7h5U4Xn"
      }
    },
    {
      "cell_type": "markdown",
      "source": [
        "Son formas útiles para determinar numéricamente qué tan bien el modelo se ajusta al conjunto de datos."
      ],
      "metadata": {
        "id": "iN9fYO7GXaWQ"
      }
    },
    {
      "cell_type": "markdown",
      "source": [
        "Dos métricas importantes para determinar qué tan bueno es el ajuste del modelo son:  \n",
        "*  Error cuadrático medio. (MSE)\n",
        "*  R-squared (R^2)"
      ],
      "metadata": {
        "id": "NeAi-_PCXk7S"
      }
    },
    {
      "cell_type": "code",
      "source": [
        "from sklearn.metrics import mean_squared_error"
      ],
      "metadata": {
        "id": "aB1VJreMXkgm"
      },
      "execution_count": 59,
      "outputs": []
    },
    {
      "cell_type": "markdown",
      "source": [
        "La función recibe dos parámetros, estos son:  \n",
        "*  Los valores esperados\n",
        "*  Los valores observados"
      ],
      "metadata": {
        "id": "5exYfm2ZYMP2"
      }
    },
    {
      "cell_type": "code",
      "source": [
        "mean_squared_error(df['price'], yhat)"
      ],
      "metadata": {
        "colab": {
          "base_uri": "https://localhost:8080/"
        },
        "id": "RYR8xQdEU9Zu",
        "outputId": "839242f9-0444-41a9-aae1-fd56b62d53d4"
      },
      "execution_count": 60,
      "outputs": [
        {
          "output_type": "execute_result",
          "data": {
            "text/plain": [
              "10282167.881555859"
            ]
          },
          "metadata": {},
          "execution_count": 60
        }
      ]
    },
    {
      "cell_type": "markdown",
      "source": [
        "Coeficiente de determinación R^2.  \n",
        "Métrica para determinar qué tan cerca están los datos a la regresión lineal obtenida.  \n",
        "El porcentaje de variación de la variable objetivo (Y) que es explicado por el modelo lineal.  \n",
        "Un valor cercano a 1 indica que el modelo es una buena aproximación de los datos."
      ],
      "metadata": {
        "id": "QkGeAdxIY8d5"
      }
    },
    {
      "cell_type": "code",
      "source": [
        "X = df[['highway_mpg']]\n",
        "Y = df['price']\n",
        "lm = LinearRegression(fit_intercept=True)\n",
        "lm.fit(X,Y)"
      ],
      "metadata": {
        "colab": {
          "base_uri": "https://localhost:8080/"
        },
        "id": "lcimRMvtaA26",
        "outputId": "bd3ec487-cb39-4971-dd6e-f8ff4f5a2f46"
      },
      "execution_count": 61,
      "outputs": [
        {
          "output_type": "execute_result",
          "data": {
            "text/plain": [
              "LinearRegression()"
            ]
          },
          "metadata": {},
          "execution_count": 61
        }
      ]
    },
    {
      "cell_type": "code",
      "source": [
        "lm.score(X,Y) #Valor del coeficiente de determinación obtenido del método score del objeto de regresión lineal"
      ],
      "metadata": {
        "colab": {
          "base_uri": "https://localhost:8080/"
        },
        "id": "qcjvWudXaOZk",
        "outputId": "9fb287f0-2afc-48d4-9c77-97a696329801"
      },
      "execution_count": 62,
      "outputs": [
        {
          "output_type": "execute_result",
          "data": {
            "text/plain": [
              "0.47682578947968446"
            ]
          },
          "metadata": {},
          "execution_count": 62
        }
      ]
    },
    {
      "cell_type": "markdown",
      "source": [
        "##Prediction and Decision Making"
      ],
      "metadata": {
        "id": "dXyRqepbbKMQ"
      }
    },
    {
      "cell_type": "markdown",
      "source": [
        "Para decidir si un modelo es bueno se puede realizar lo siguiente:\n",
        "*  Verificar si los valores predichos tienen sentido.\n",
        "*  Visualizar los resultados.  \n",
        "*  Utilizar métricas para la evaluación.\n",
        "*  Comparar modelos."
      ],
      "metadata": {
        "id": "zUdxct0ubUBb"
      }
    },
    {
      "cell_type": "code",
      "source": [
        "lm.fit(df[['highway_mpg']], df['price'])"
      ],
      "metadata": {
        "colab": {
          "base_uri": "https://localhost:8080/"
        },
        "id": "kqrABVlaaSZw",
        "outputId": "11f17ff7-fd00-4cb4-ced1-0fafbe3ae7ba"
      },
      "execution_count": 65,
      "outputs": [
        {
          "output_type": "execute_result",
          "data": {
            "text/plain": [
              "LinearRegression()"
            ]
          },
          "metadata": {},
          "execution_count": 65
        }
      ]
    },
    {
      "cell_type": "markdown",
      "source": [
        "Verificar los valores obtenidos de la predicción para ver si con coherentes."
      ],
      "metadata": {
        "id": "biQ8F-jycd4A"
      }
    },
    {
      "cell_type": "code",
      "source": [
        "lm.coef_ #El valor de los coeficientes también proporciona información relevante sobre la obtención de un buen modelo."
      ],
      "metadata": {
        "colab": {
          "base_uri": "https://localhost:8080/"
        },
        "id": "ElKoQy19cF9a",
        "outputId": "1f10008c-4e0a-4096-ebb0-82e706baf94b"
      },
      "execution_count": 67,
      "outputs": [
        {
          "output_type": "execute_result",
          "data": {
            "text/plain": [
              "array([-789.02661986])"
            ]
          },
          "metadata": {},
          "execution_count": 67
        }
      ]
    },
    {
      "cell_type": "code",
      "source": [
        "import numpy as np\n",
        "new_input = np.arange(1, 101, 1).reshape(-1, 1)#Generar una lista de valores del 1 al 100 de 1 en 1\n"
      ],
      "metadata": {
        "id": "Y3gVVq8fccrq"
      },
      "execution_count": 69,
      "outputs": []
    },
    {
      "cell_type": "code",
      "source": [
        "yhat = lm.predict(new_input)"
      ],
      "metadata": {
        "colab": {
          "base_uri": "https://localhost:8080/"
        },
        "id": "KA5NUrAPc_ln",
        "outputId": "03a02fb4-a9bb-487b-8377-d75b31061872"
      },
      "execution_count": 70,
      "outputs": [
        {
          "output_type": "stream",
          "name": "stderr",
          "text": [
            "/usr/local/lib/python3.7/dist-packages/sklearn/base.py:451: UserWarning: X does not have valid feature names, but LinearRegression was fitted with feature names\n",
            "  \"X does not have valid feature names, but\"\n"
          ]
        }
      ]
    },
    {
      "cell_type": "code",
      "source": [
        "yhat #Varios valores son negativos entonces no son coherentes."
      ],
      "metadata": {
        "colab": {
          "base_uri": "https://localhost:8080/"
        },
        "id": "DQ97pwHXdPuG",
        "outputId": "d0586d69-de62-4783-97ac-4c1787c4d8ba"
      },
      "execution_count": 71,
      "outputs": [
        {
          "output_type": "execute_result",
          "data": {
            "text/plain": [
              "array([ 36681.63352153,  35892.60690167,  35103.58028182,  34314.55366196,\n",
              "        33525.5270421 ,  32736.50042225,  31947.47380239,  31158.44718254,\n",
              "        30369.42056268,  29580.39394283,  28791.36732297,  28002.34070311,\n",
              "        27213.31408326,  26424.2874634 ,  25635.26084355,  24846.23422369,\n",
              "        24057.20760384,  23268.18098398,  22479.15436412,  21690.12774427,\n",
              "        20901.10112441,  20112.07450456,  19323.0478847 ,  18534.02126485,\n",
              "        17744.99464499,  16955.96802513,  16166.94140528,  15377.91478542,\n",
              "        14588.88816557,  13799.86154571,  13010.83492586,  12221.808306  ,\n",
              "        11432.78168614,  10643.75506629,   9854.72844643,   9065.70182658,\n",
              "         8276.67520672,   7487.64858686,   6698.62196701,   5909.59534715,\n",
              "         5120.5687273 ,   4331.54210744,   3542.51548759,   2753.48886773,\n",
              "         1964.46224787,   1175.43562802,    386.40900816,   -402.61761169,\n",
              "        -1191.64423155,  -1980.6708514 ,  -2769.69747126,  -3558.72409112,\n",
              "        -4347.75071097,  -5136.77733083,  -5925.80395068,  -6714.83057054,\n",
              "        -7503.85719039,  -8292.88381025,  -9081.91043011,  -9870.93704996,\n",
              "       -10659.96366982, -11448.99028967, -12238.01690953, -13027.04352938,\n",
              "       -13816.07014924, -14605.0967691 , -15394.12338895, -16183.15000881,\n",
              "       -16972.17662866, -17761.20324852, -18550.22986837, -19339.25648823,\n",
              "       -20128.28310809, -20917.30972794, -21706.3363478 , -22495.36296765,\n",
              "       -23284.38958751, -24073.41620736, -24862.44282722, -25651.46944708,\n",
              "       -26440.49606693, -27229.52268679, -28018.54930664, -28807.5759265 ,\n",
              "       -29596.60254636, -30385.62916621, -31174.65578607, -31963.68240592,\n",
              "       -32752.70902578, -33541.73564563, -34330.76226549, -35119.78888535,\n",
              "       -35908.8155052 , -36697.84212506, -37486.86874491, -38275.89536477,\n",
              "       -39064.92198462, -39853.94860448, -40642.97522434, -41432.00184419])"
            ]
          },
          "metadata": {},
          "execution_count": 71
        }
      ]
    },
    {
      "cell_type": "code",
      "source": [],
      "metadata": {
        "id": "ylDLycTndRgs"
      },
      "execution_count": null,
      "outputs": []
    }
  ]
}