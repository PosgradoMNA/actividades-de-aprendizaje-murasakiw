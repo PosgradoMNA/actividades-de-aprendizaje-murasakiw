{
  "nbformat": 4,
  "nbformat_minor": 0,
  "metadata": {
    "colab": {
      "provenance": [],
      "collapsed_sections": [
        "aolfa-r6Lbax"
      ],
      "authorship_tag": "ABX9TyMkg7uBx9W2aMamYm/WP7yd",
      "include_colab_link": true
    },
    "kernelspec": {
      "name": "python3",
      "display_name": "Python 3"
    },
    "language_info": {
      "name": "python"
    }
  },
  "cells": [
    {
      "cell_type": "markdown",
      "metadata": {
        "id": "view-in-github",
        "colab_type": "text"
      },
      "source": [
        "<a href=\"https://colab.research.google.com/github/PosgradoMNA/actividades-de-aprendizaje-murasakiw/blob/main/Semana7_Data_Analysis_with_Python.ipynb\" target=\"_parent\"><img src=\"https://colab.research.google.com/assets/colab-badge.svg\" alt=\"Open In Colab\"/></a>"
      ]
    },
    {
      "cell_type": "markdown",
      "source": [
        "Ciencia y Analítica de Datos \n",
        "___ \n",
        "Semana 6: Data Analysis with Python (IBM)\n",
        "Nombre: Sergio Omar Esparza Hernández\n",
        "Matrícula: A01794338\n",
        "\n",
        "Módulo 4 - Model Development"
      ],
      "metadata": {
        "id": "no8ifbWwn6-C"
      }
    },
    {
      "cell_type": "markdown",
      "source": [
        "Un modelo es una ecuación matemática utilizada para predecir un valor de salida a partir de otros valores de entrada.\n",
        "Sirve para relacionar una o más variables independientes con variables dependientes.\n",
        "Usualmente, mientras más datos relevantes se tengan, más preciso es el modelo.\n",
        "Se pueden probar diferentes tipos de modelos para ver con cuál se obtienen mejores resultados.\n"
      ],
      "metadata": {
        "id": "FfeZnHlun5jU"
      }
    },
    {
      "cell_type": "markdown",
      "source": [
        "##Linear Regression and Multiple Linear Regression"
      ],
      "metadata": {
        "id": "aolfa-r6Lbax"
      }
    },
    {
      "cell_type": "markdown",
      "source": [
        "La regresión lineal utiliza una sola variable para hacer una predicción.\n",
        "La regresión lineal múltiple toma varias variables independientes para hacer una predicción.\n",
        "\n",
        "La regresión lineal simple ayuda a entender la relación entre una variable llamada predictor y una variable objetivo.\n",
        "\n",
        "Se utilizan los datos obtenidos para ajustar el modelo. El resultado de los datos de entrenamiento son los parámetros del modelo.\n",
        "El proceso es el siguiente:\n",
        "Se tiene un conjunto de datos.\n",
        "Se utilizan estos datos para entrenar o ajustar el modelo.\n",
        "Se utiliza el modelo para predecir valores.\n",
        "Los valores predichos se comparan con los valores esperados para obtener una medida del desempeño del modelo."
      ],
      "metadata": {
        "id": "A1CHlFd8oPGP"
      }
    },
    {
      "cell_type": "code",
      "source": [
        "import pandas as pd\n",
        "import numpy as np\n",
        "import seaborn as sns\n",
        "import matplotlib.pyplot as plt"
      ],
      "metadata": {
        "id": "jUArn3N3JoA6"
      },
      "execution_count": 1,
      "outputs": []
    },
    {
      "cell_type": "code",
      "source": [
        "url = 'https://archive.ics.uci.edu/ml/machine-learning-databases/autos/imports-85.data'\n",
        "\n",
        "df = pd.read_csv(url, header =  None)"
      ],
      "metadata": {
        "id": "TbElc51bJml5"
      },
      "execution_count": 2,
      "outputs": []
    },
    {
      "cell_type": "code",
      "source": [
        "headers = ['symboling', 'normalized_losses', 'make', 'fuel_type', 'aspiration', \n",
        "           'num_of_doors', 'body_style', 'drive_wheels', 'engine_location',\n",
        "           'wheel_base', 'length', 'width', 'height', 'curb_weight', \n",
        "           'engine_type', 'num_of_cylinders', 'engine_size', 'fuel_system', \n",
        "           'bore', 'stroke', 'compression_ratio', 'horsepower', 'peak_rpm',\n",
        "           'city_mpg', 'highway_mpg', 'price']\n",
        "df.columns = headers"
      ],
      "metadata": {
        "id": "_E_ogF-YJ13X"
      },
      "execution_count": 3,
      "outputs": []
    },
    {
      "cell_type": "markdown",
      "source": [
        "Entrenamiento de un modelo de regresión lineal simple."
      ],
      "metadata": {
        "id": "5pGqvY4EoUVk"
      }
    },
    {
      "cell_type": "code",
      "source": [
        "from sklearn.linear_model import LinearRegression"
      ],
      "metadata": {
        "id": "a2xZ5TRroUIm"
      },
      "execution_count": 4,
      "outputs": []
    },
    {
      "cell_type": "markdown",
      "source": [
        "Crear objeto linear regression."
      ],
      "metadata": {
        "id": "Ew3WLhQ8oZUZ"
      }
    },
    {
      "cell_type": "code",
      "execution_count": 5,
      "metadata": {
        "id": "Rnk5f2t2mWqc"
      },
      "outputs": [],
      "source": [
        "lm = LinearRegression()"
      ]
    },
    {
      "cell_type": "markdown",
      "source": [
        "Se definen las variables de entrada y salida"
      ],
      "metadata": {
        "id": "AILtnV1ZohAN"
      }
    },
    {
      "cell_type": "code",
      "source": [
        "df.replace('?', np.nan, inplace=True)\n",
        "df['price'] = pd.to_numeric(df['price'])\n",
        "media = np.mean(df.price)\n",
        "df['price'] = df['price'].replace(np.nan, media)"
      ],
      "metadata": {
        "id": "1_GxnVaEKEvj"
      },
      "execution_count": 8,
      "outputs": []
    },
    {
      "cell_type": "code",
      "source": [
        "X=df[['highway_mpg']]\n",
        "Y=df['price']"
      ],
      "metadata": {
        "id": "70TdT4PTogqg"
      },
      "execution_count": 9,
      "outputs": []
    },
    {
      "cell_type": "markdown",
      "source": [
        "Se utiliza el método fit para entrenar el modelo."
      ],
      "metadata": {
        "id": "HuB_QZXyoj3h"
      }
    },
    {
      "cell_type": "code",
      "source": [
        "lm.fit(X,Y)"
      ],
      "metadata": {
        "id": "yeHnzZE-ol1M",
        "colab": {
          "base_uri": "https://localhost:8080/"
        },
        "outputId": "dc5063d6-1526-4bba-9c94-125dc4fe7fa8"
      },
      "execution_count": 10,
      "outputs": [
        {
          "output_type": "execute_result",
          "data": {
            "text/plain": [
              "LinearRegression()"
            ]
          },
          "metadata": {},
          "execution_count": 10
        }
      ]
    },
    {
      "cell_type": "markdown",
      "source": [
        "Se pueden obtener las predicciones utilizando el método predict"
      ],
      "metadata": {
        "id": "uA2ld7wwooD6"
      }
    },
    {
      "cell_type": "code",
      "source": [
        "yhat = lm.predict(X)"
      ],
      "metadata": {
        "id": "eWPmZWxhop24"
      },
      "execution_count": 11,
      "outputs": []
    },
    {
      "cell_type": "markdown",
      "source": [
        "b0 es un atributo del objeto lm"
      ],
      "metadata": {
        "id": "Nx8Run16rJK0"
      }
    },
    {
      "cell_type": "code",
      "source": [
        "lm.intercept_"
      ],
      "metadata": {
        "id": "wlK8XzJsrJ5s",
        "colab": {
          "base_uri": "https://localhost:8080/"
        },
        "outputId": "4557355e-83de-443f-bf57-0696ef3031e4"
      },
      "execution_count": 12,
      "outputs": [
        {
          "output_type": "execute_result",
          "data": {
            "text/plain": [
              "37470.66014138312"
            ]
          },
          "metadata": {},
          "execution_count": 12
        }
      ]
    },
    {
      "cell_type": "markdown",
      "source": [
        "b1 es un atributo del objeto lm"
      ],
      "metadata": {
        "id": "1LSTgjalrL1X"
      }
    },
    {
      "cell_type": "code",
      "source": [
        "lm.coef_"
      ],
      "metadata": {
        "id": "2Roek2_2rNbF",
        "colab": {
          "base_uri": "https://localhost:8080/"
        },
        "outputId": "ce19c371-4bbc-4d55-d97a-3ec1e449b29f"
      },
      "execution_count": 13,
      "outputs": [
        {
          "output_type": "execute_result",
          "data": {
            "text/plain": [
              "array([-789.02661986])"
            ]
          },
          "metadata": {},
          "execution_count": 13
        }
      ]
    },
    {
      "cell_type": "code",
      "source": [
        "# price=b0+b1*highway-mpg"
      ],
      "metadata": {
        "id": "0KkOEILerVIl"
      },
      "execution_count": null,
      "outputs": []
    },
    {
      "cell_type": "markdown",
      "source": [
        "El modelo de regresión lineal múltiple es utilizado para encontrar la relación entre una variable continua objetivo(Y) y dos o más variables de entrada (X)."
      ],
      "metadata": {
        "id": "J5Isj4xQrPpP"
      }
    },
    {
      "cell_type": "markdown",
      "source": [
        "Entrenamiento de un modelo de regresión lineal múltiple."
      ],
      "metadata": {
        "id": "q2QtoitArdw2"
      }
    },
    {
      "cell_type": "code",
      "source": [
        "df.replace('?', np.nan, inplace=True)\n",
        "df['horsepower'] = pd.to_numeric(df['horsepower'])\n",
        "media = np.mean(df.horsepower)\n",
        "df['horsepower'] = df['horsepower'].replace(np.nan, media)"
      ],
      "metadata": {
        "id": "DHVBMx4jKghJ"
      },
      "execution_count": 14,
      "outputs": []
    },
    {
      "cell_type": "code",
      "source": [
        "df['curb_weight'] = pd.to_numeric(df['curb_weight'])\n",
        "media = np.mean(df.curb_weight)\n",
        "df['curb_weight'] = df['curb_weight'].replace(np.nan, media)"
      ],
      "metadata": {
        "id": "Sk24urSWKq3o"
      },
      "execution_count": 15,
      "outputs": []
    },
    {
      "cell_type": "code",
      "source": [
        "df['engine_size'] = pd.to_numeric(df['engine_size'])\n",
        "media = np.mean(df.engine_size)\n",
        "df['engine_size'] = df['engine_size'].replace(np.nan, media)"
      ],
      "metadata": {
        "id": "h7pX-QYlK2kL"
      },
      "execution_count": 16,
      "outputs": []
    },
    {
      "cell_type": "code",
      "source": [
        "df['highway_mpg'] = pd.to_numeric(df['highway_mpg'])\n",
        "media = np.mean(df.highway_mpg)\n",
        "df['highway_mpg'] = df['highway_mpg'].replace(np.nan, media)"
      ],
      "metadata": {
        "id": "-Rsjoks6K90f"
      },
      "execution_count": 17,
      "outputs": []
    },
    {
      "cell_type": "code",
      "source": [
        "z=df[['horsepower', 'curb_weight', 'engine_size', 'highway_mpg']]"
      ],
      "metadata": {
        "id": "eCEVECVyrbnA"
      },
      "execution_count": 18,
      "outputs": []
    },
    {
      "cell_type": "code",
      "source": [
        "lm.fit(z, df['price'])"
      ],
      "metadata": {
        "id": "8uBY9gcirhNI",
        "colab": {
          "base_uri": "https://localhost:8080/"
        },
        "outputId": "09c5dd8e-2b07-4216-81c0-aebb674e628b"
      },
      "execution_count": 19,
      "outputs": [
        {
          "output_type": "execute_result",
          "data": {
            "text/plain": [
              "LinearRegression()"
            ]
          },
          "metadata": {},
          "execution_count": 19
        }
      ]
    },
    {
      "cell_type": "markdown",
      "source": [
        "Se pueden obtener las predicciones del modelo con él método predict."
      ],
      "metadata": {
        "id": "6TZSnoZnrjFC"
      }
    },
    {
      "cell_type": "code",
      "source": [
        "yhat = lm.predict(z)"
      ],
      "metadata": {
        "id": "mr_s_UUfrlRp"
      },
      "execution_count": 20,
      "outputs": []
    },
    {
      "cell_type": "markdown",
      "source": [
        "Se puede obtener el valor de b0 como atributo del objeto lm"
      ],
      "metadata": {
        "id": "y1Zj69f4rn2J"
      }
    },
    {
      "cell_type": "code",
      "source": [
        "lm.intercept_"
      ],
      "metadata": {
        "id": "eOhMYca9rqk-",
        "colab": {
          "base_uri": "https://localhost:8080/"
        },
        "outputId": "f36af15e-9550-4025-8aac-c9a57b533a00"
      },
      "execution_count": 21,
      "outputs": [
        {
          "output_type": "execute_result",
          "data": {
            "text/plain": [
              "-9239.379970934518"
            ]
          },
          "metadata": {},
          "execution_count": 21
        }
      ]
    },
    {
      "cell_type": "markdown",
      "source": [
        "Los coeficientes del modelo se obtienen con el atributo coef_ del objeto lm."
      ],
      "metadata": {
        "id": "ah6yti_ZrsQE"
      }
    },
    {
      "cell_type": "code",
      "source": [
        "lm.coef_ #Coeficientes del modelo multilineal"
      ],
      "metadata": {
        "id": "e3MelC7jruiZ",
        "colab": {
          "base_uri": "https://localhost:8080/"
        },
        "outputId": "0db462a3-ff46-4639-a2f7-370320f942f7"
      },
      "execution_count": 22,
      "outputs": [
        {
          "output_type": "execute_result",
          "data": {
            "text/plain": [
              "array([ 18.12178086,   3.80596513, 101.121117  , -65.10968116])"
            ]
          },
          "metadata": {},
          "execution_count": 22
        }
      ]
    },
    {
      "cell_type": "markdown",
      "source": [
        "##Model Evaluation using visualization."
      ],
      "metadata": {
        "id": "p4yznBgVrw5V"
      }
    },
    {
      "cell_type": "markdown",
      "source": [
        "Regression Plot  \n",
        "Proporciona información de la relación entre dos variables.\n",
        "La magnitud de la correlación.\n",
        "La dirección de la relación (positiva o negativa).\n",
        "Cada punto representa un valor de la variable de salida.\n",
        "La línea recta representa los valores predichos por el modelo."
      ],
      "metadata": {
        "id": "nRQcuMRXr1Cv"
      }
    },
    {
      "cell_type": "code",
      "source": [
        "import seaborn as sns"
      ],
      "metadata": {
        "id": "9Rmioqturypy"
      },
      "execution_count": 23,
      "outputs": []
    },
    {
      "cell_type": "code",
      "source": [
        "sns.regplot(x='highway_mpg', y='price', data=df)\n",
        "plt.ylim(0,)"
      ],
      "metadata": {
        "id": "6JqzsKHXr3dq",
        "colab": {
          "base_uri": "https://localhost:8080/",
          "height": 297
        },
        "outputId": "7fe013b0-edac-4975-f6df-9ce7d6eee6a5"
      },
      "execution_count": 24,
      "outputs": [
        {
          "output_type": "execute_result",
          "data": {
            "text/plain": [
              "(0.0, 48120.551383773745)"
            ]
          },
          "metadata": {},
          "execution_count": 24
        },
        {
          "output_type": "display_data",
          "data": {
            "text/plain": [
              "<Figure size 432x288 with 1 Axes>"
            ],
            "image/png": "[encoded data removed]"
          },
          "metadata": {
            "needs_background": "light"
          }
        }
      ]
    },
    {
      "cell_type": "markdown",
      "source": [
        "Residual plot  \n",
        "Representa el error entre los valores esperados y los valores predichos por el modelo.\n",
        "Se espera que estos valores tengan de media cero, distribuidos uniformemente a lo largo del eje x con varianza similar y sin curvatura."
      ],
      "metadata": {
        "id": "MEls8pgTr_W7"
      }
    },
    {
      "cell_type": "markdown",
      "source": [
        "Esta gráfica ayuda a visualizar si el modelo seleccionado es incorrecto."
      ],
      "metadata": {
        "id": "kij5HMQJsBXS"
      }
    },
    {
      "cell_type": "code",
      "source": [
        "sns.residplot(x=df['highway_mpg'], y=df['price'])"
      ],
      "metadata": {
        "id": "nwmF4EzOr5v9",
        "colab": {
          "base_uri": "https://localhost:8080/",
          "height": 297
        },
        "outputId": "015a3aa7-9ea7-4b4f-8fe3-bf3fc0f9f5b5"
      },
      "execution_count": 27,
      "outputs": [
        {
          "output_type": "execute_result",
          "data": {
            "text/plain": [
              "<matplotlib.axes._subplots.AxesSubplot at 0x7fdc41b1ac50>"
            ]
          },
          "metadata": {},
          "execution_count": 27
        },
        {
          "output_type": "display_data",
          "data": {
            "text/plain": [
              "<Figure size 432x288 with 1 Axes>"
            ],
            "image/png": "[encoded data removed]"
          },
          "metadata": {
            "needs_background": "light"
          }
        }
      ]
    },
    {
      "cell_type": "markdown",
      "source": [
        "Distribution plot  \n",
        "Compara los valores predichos con los valores reales.\n",
        "Útil para visualizar modelos con varias variables independientes."
      ],
      "metadata": {
        "id": "LUZ9mKsnsEsB"
      }
    },
    {
      "cell_type": "code",
      "source": [
        "ax1 = sns.distplot(df['price'], hist=False, color='r', label='Actual Value')\n",
        "sns.distplot(yhat, hist=False, color='b', label='Fitted Values', ax=ax1)"
      ],
      "metadata": {
        "id": "MCMLroDfsD3m",
        "colab": {
          "base_uri": "https://localhost:8080/",
          "height": 397
        },
        "outputId": "63c98946-2a59-4c47-81cb-3b2d6025f035"
      },
      "execution_count": 30,
      "outputs": [
        {
          "output_type": "stream",
          "name": "stderr",
          "text": [
            "/usr/local/lib/python3.7/dist-packages/seaborn/distributions.py:2619: FutureWarning: `distplot` is a deprecated function and will be removed in a future version. Please adapt your code to use either `displot` (a figure-level function with similar flexibility) or `kdeplot` (an axes-level function for kernel density plots).\n",
            "  warnings.warn(msg, FutureWarning)\n",
            "/usr/local/lib/python3.7/dist-packages/seaborn/distributions.py:2619: FutureWarning: `distplot` is a deprecated function and will be removed in a future version. Please adapt your code to use either `displot` (a figure-level function with similar flexibility) or `kdeplot` (an axes-level function for kernel density plots).\n",
            "  warnings.warn(msg, FutureWarning)\n"
          ]
        },
        {
          "output_type": "execute_result",
          "data": {
            "text/plain": [
              "<matplotlib.axes._subplots.AxesSubplot at 0x7fdc41968850>"
            ]
          },
          "metadata": {},
          "execution_count": 30
        },
        {
          "output_type": "display_data",
          "data": {
            "text/plain": [
              "<Figure size 432x288 with 1 Axes>"
            ],
            "image/png": "[encoded data removed]"
          },
          "metadata": {
            "needs_background": "light"
          }
        }
      ]
    },
    {
      "cell_type": "markdown",
      "source": [
        "##Polynomial Regression and Pipelines\n"
      ],
      "metadata": {
        "id": "dFJ19VSJNR17"
      }
    },
    {
      "cell_type": "markdown",
      "source": [
        "Se transforman los datos en un polinomio, después se utiliza la regresión lineal para ajustar los parámetros del modelo.  \n",
        "Útil para describir relaciones curvilíneas. El grado de la regresión tiene mucho impacto y puede resultar en un mejor entrenamiento del modelo."
      ],
      "metadata": {
        "id": "sB5v--5WNlmo"
      }
    },
    {
      "cell_type": "markdown",
      "source": [
        "La función polyfit se utiliza para generar un modelo polinómico."
      ],
      "metadata": {
        "id": "QKrM9yxDOU78"
      }
    },
    {
      "cell_type": "code",
      "source": [
        "x = df['highway_mpg']\n",
        "y = df['price']\n",
        "f = np.polyfit(x, y, 3)\n",
        "p = np.poly1d(f)\n",
        "print(p)"
      ],
      "metadata": {
        "colab": {
          "base_uri": "https://localhost:8080/"
        },
        "id": "OYWRTz_qNXIr",
        "outputId": "61dda209-edd6-4077-dc6b-c60c2d420c89"
      },
      "execution_count": 73,
      "outputs": [
        {
          "output_type": "stream",
          "name": "stdout",
          "text": [
            "        3         2\n",
            "-1.641 x + 213.4 x - 9226 x + 1.402e+05\n"
          ]
        }
      ]
    },
    {
      "cell_type": "markdown",
      "source": [
        "Para realizar una regresión lineal múltiple polinomial es necesario utilizar la librería preprocessing de scikit-learn."
      ],
      "metadata": {
        "id": "8oXSIBxVO4xE"
      }
    },
    {
      "cell_type": "code",
      "source": [
        "from sklearn.preprocessing import PolynomialFeatures"
      ],
      "metadata": {
        "id": "o_uZkUPXPGc3"
      },
      "execution_count": 31,
      "outputs": []
    },
    {
      "cell_type": "code",
      "source": [
        "# pr = PolynomialFeatures(degree=2, include_bias=False)\n",
        "# x_polly = pr.fit_transform(x[['horsepower', 'curb_weight']])"
      ],
      "metadata": {
        "id": "xf2VBb66PKwC"
      },
      "execution_count": null,
      "outputs": []
    },
    {
      "cell_type": "markdown",
      "source": [
        "El módulo preprocessing se puede utilizar para aplicar transformaciones a los datos antes de utilizarlos para entrenar el modelo."
      ],
      "metadata": {
        "id": "9O8z6PJ2Psbm"
      }
    },
    {
      "cell_type": "code",
      "source": [
        "from sklearn.preprocessing import StandardScaler"
      ],
      "metadata": {
        "id": "qRefY75kP2nC"
      },
      "execution_count": 32,
      "outputs": []
    },
    {
      "cell_type": "code",
      "source": [
        "x_data = df.copy()"
      ],
      "metadata": {
        "id": "_a6BqDGpQD14"
      },
      "execution_count": 40,
      "outputs": []
    },
    {
      "cell_type": "code",
      "source": [
        "x_data"
      ],
      "metadata": {
        "colab": {
          "base_uri": "https://localhost:8080/",
          "height": 540
        },
        "id": "LNH6AwgLQh_k",
        "outputId": "22312f13-2067-432e-fa01-344508cf5cca"
      },
      "execution_count": 41,
      "outputs": [
        {
          "output_type": "execute_result",
          "data": {
            "text/plain": [
              "     symboling normalized_losses         make fuel_type aspiration  \\\n",
              "0            3               NaN  alfa-romero       gas        std   \n",
              "1            3               NaN  alfa-romero       gas        std   \n",
              "2            1               NaN  alfa-romero       gas        std   \n",
              "3            2               164         audi       gas        std   \n",
              "4            2               164         audi       gas        std   \n",
              "..         ...               ...          ...       ...        ...   \n",
              "200         -1                95        volvo       gas        std   \n",
              "201         -1                95        volvo       gas      turbo   \n",
              "202         -1                95        volvo       gas        std   \n",
              "203         -1                95        volvo    diesel      turbo   \n",
              "204         -1                95        volvo       gas      turbo   \n",
              "\n",
              "    num_of_doors   body_style drive_wheels engine_location  wheel_base  ...  \\\n",
              "0            two  convertible          rwd           front        88.6  ...   \n",
              "1            two  convertible          rwd           front        88.6  ...   \n",
              "2            two    hatchback          rwd           front        94.5  ...   \n",
              "3           four        sedan          fwd           front        99.8  ...   \n",
              "4           four        sedan          4wd           front        99.4  ...   \n",
              "..           ...          ...          ...             ...         ...  ...   \n",
              "200         four        sedan          rwd           front       109.1  ...   \n",
              "201         four        sedan          rwd           front       109.1  ...   \n",
              "202         four        sedan          rwd           front       109.1  ...   \n",
              "203         four        sedan          rwd           front       109.1  ...   \n",
              "204         four        sedan          rwd           front       109.1  ...   \n",
              "\n",
              "     engine_size  fuel_system  bore  stroke compression_ratio horsepower  \\\n",
              "0            130         mpfi  3.47    2.68               9.0      111.0   \n",
              "1            130         mpfi  3.47    2.68               9.0      111.0   \n",
              "2            152         mpfi  2.68    3.47               9.0      154.0   \n",
              "3            109         mpfi  3.19    3.40              10.0      102.0   \n",
              "4            136         mpfi  3.19    3.40               8.0      115.0   \n",
              "..           ...          ...   ...     ...               ...        ...   \n",
              "200          141         mpfi  3.78    3.15               9.5      114.0   \n",
              "201          141         mpfi  3.78    3.15               8.7      160.0   \n",
              "202          173         mpfi  3.58    2.87               8.8      134.0   \n",
              "203          145          idi  3.01    3.40              23.0      106.0   \n",
              "204          141         mpfi  3.78    3.15               9.5      114.0   \n",
              "\n",
              "     peak_rpm city_mpg highway_mpg    price  \n",
              "0        5000       21          27  13495.0  \n",
              "1        5000       21          27  16500.0  \n",
              "2        5000       19          26  16500.0  \n",
              "3        5500       24          30  13950.0  \n",
              "4        5500       18          22  17450.0  \n",
              "..        ...      ...         ...      ...  \n",
              "200      5400       23          28  16845.0  \n",
              "201      5300       19          25  19045.0  \n",
              "202      5500       18          23  21485.0  \n",
              "203      4800       26          27  22470.0  \n",
              "204      5400       19          25  22625.0  \n",
              "\n",
              "[205 rows x 26 columns]"
            ],
            "text/html": [
              "\n",
              "  <div id=\"df-73f1bf0e-929e-4d22-817d-2526a81aa411\">\n",
              "    <div class=\"colab-df-container\">\n",
              "      <div>\n",
              "<style scoped>\n",
              "    .dataframe tbody tr th:only-of-type {\n",
              "        vertical-align: middle;\n",
              "    }\n",
              "\n",
              "    .dataframe tbody tr th {\n",
              "        vertical-align: top;\n",
              "    }\n",
              "\n",
              "    .dataframe thead th {\n",
              "        text-align: right;\n",
              "    }\n",
              "</style>\n",
              "<table border=\"1\" class=\"dataframe\">\n",
              "  <thead>\n",
              "    <tr style=\"text-align: right;\">\n",
              "      <th></th>\n",
              "      <th>symboling</th>\n",
              "      <th>normalized_losses</th>\n",
              "      <th>make</th>\n",
              "      <th>fuel_type</th>\n",
              "      <th>aspiration</th>\n",
              "      <th>num_of_doors</th>\n",
              "      <th>body_style</th>\n",
              "      <th>drive_wheels</th>\n",
              "      <th>engine_location</th>\n",
              "      <th>wheel_base</th>\n",
              "      <th>...</th>\n",
              "      <th>engine_size</th>\n",
              "      <th>fuel_system</th>\n",
              "      <th>bore</th>\n",
              "      <th>stroke</th>\n",
              "      <th>compression_ratio</th>\n",
              "      <th>horsepower</th>\n",
              "      <th>peak_rpm</th>\n",
              "      <th>city_mpg</th>\n",
              "      <th>highway_mpg</th>\n",
              "      <th>price</th>\n",
              "    </tr>\n",
              "  </thead>\n",
              "  <tbody>\n",
              "    <tr>\n",
              "      <th>0</th>\n",
              "      <td>3</td>\n",
              "      <td>NaN</td>\n",
              "      <td>alfa-romero</td>\n",
              "      <td>gas</td>\n",
              "      <td>std</td>\n",
              "      <td>two</td>\n",
              "      <td>convertible</td>\n",
              "      <td>rwd</td>\n",
              "      <td>front</td>\n",
              "      <td>88.6</td>\n",
              "      <td>...</td>\n",
              "      <td>130</td>\n",
              "      <td>mpfi</td>\n",
              "      <td>3.47</td>\n",
              "      <td>2.68</td>\n",
              "      <td>9.0</td>\n",
              "      <td>111.0</td>\n",
              "      <td>5000</td>\n",
              "      <td>21</td>\n",
              "      <td>27</td>\n",
              "      <td>13495.0</td>\n",
              "    </tr>\n",
              "    <tr>\n",
              "      <th>1</th>\n",
              "      <td>3</td>\n",
              "      <td>NaN</td>\n",
              "      <td>alfa-romero</td>\n",
              "      <td>gas</td>\n",
              "      <td>std</td>\n",
              "      <td>two</td>\n",
              "      <td>convertible</td>\n",
              "      <td>rwd</td>\n",
              "      <td>front</td>\n",
              "      <td>88.6</td>\n",
              "      <td>...</td>\n",
              "      <td>130</td>\n",
              "      <td>mpfi</td>\n",
              "      <td>3.47</td>\n",
              "      <td>2.68</td>\n",
              "      <td>9.0</td>\n",
              "      <td>111.0</td>\n",
              "      <td>5000</td>\n",
              "      <td>21</td>\n",
              "      <td>27</td>\n",
              "      <td>16500.0</td>\n",
              "    </tr>\n",
              "    <tr>\n",
              "      <th>2</th>\n",
              "      <td>1</td>\n",
              "      <td>NaN</td>\n",
              "      <td>alfa-romero</td>\n",
              "      <td>gas</td>\n",
              "      <td>std</td>\n",
              "      <td>two</td>\n",
              "      <td>hatchback</td>\n",
              "      <td>rwd</td>\n",
              "      <td>front</td>\n",
              "      <td>94.5</td>\n",
              "      <td>...</td>\n",
              "      <td>152</td>\n",
              "      <td>mpfi</td>\n",
              "      <td>2.68</td>\n",
              "      <td>3.47</td>\n",
              "      <td>9.0</td>\n",
              "      <td>154.0</td>\n",
              "      <td>5000</td>\n",
              "      <td>19</td>\n",
              "      <td>26</td>\n",
              "      <td>16500.0</td>\n",
              "    </tr>\n",
              "    <tr>\n",
              "      <th>3</th>\n",
              "      <td>2</td>\n",
              "      <td>164</td>\n",
              "      <td>audi</td>\n",
              "      <td>gas</td>\n",
              "      <td>std</td>\n",
              "      <td>four</td>\n",
              "      <td>sedan</td>\n",
              "      <td>fwd</td>\n",
              "      <td>front</td>\n",
              "      <td>99.8</td>\n",
              "      <td>...</td>\n",
              "      <td>109</td>\n",
              "      <td>mpfi</td>\n",
              "      <td>3.19</td>\n",
              "      <td>3.40</td>\n",
              "      <td>10.0</td>\n",
              "      <td>102.0</td>\n",
              "      <td>5500</td>\n",
              "      <td>24</td>\n",
              "      <td>30</td>\n",
              "      <td>13950.0</td>\n",
              "    </tr>\n",
              "    <tr>\n",
              "      <th>4</th>\n",
              "      <td>2</td>\n",
              "      <td>164</td>\n",
              "      <td>audi</td>\n",
              "      <td>gas</td>\n",
              "      <td>std</td>\n",
              "      <td>four</td>\n",
              "      <td>sedan</td>\n",
              "      <td>4wd</td>\n",
              "      <td>front</td>\n",
              "      <td>99.4</td>\n",
              "      <td>...</td>\n",
              "      <td>136</td>\n",
              "      <td>mpfi</td>\n",
              "      <td>3.19</td>\n",
              "      <td>3.40</td>\n",
              "      <td>8.0</td>\n",
              "      <td>115.0</td>\n",
              "      <td>5500</td>\n",
              "      <td>18</td>\n",
              "      <td>22</td>\n",
              "      <td>17450.0</td>\n",
              "    </tr>\n",
              "    <tr>\n",
              "      <th>...</th>\n",
              "      <td>...</td>\n",
              "      <td>...</td>\n",
              "      <td>...</td>\n",
              "      <td>...</td>\n",
              "      <td>...</td>\n",
              "      <td>...</td>\n",
              "      <td>...</td>\n",
              "      <td>...</td>\n",
              "      <td>...</td>\n",
              "      <td>...</td>\n",
              "      <td>...</td>\n",
              "      <td>...</td>\n",
              "      <td>...</td>\n",
              "      <td>...</td>\n",
              "      <td>...</td>\n",
              "      <td>...</td>\n",
              "      <td>...</td>\n",
              "      <td>...</td>\n",
              "      <td>...</td>\n",
              "      <td>...</td>\n",
              "      <td>...</td>\n",
              "    </tr>\n",
              "    <tr>\n",
              "      <th>200</th>\n",
              "      <td>-1</td>\n",
              "      <td>95</td>\n",
              "      <td>volvo</td>\n",
              "      <td>gas</td>\n",
              "      <td>std</td>\n",
              "      <td>four</td>\n",
              "      <td>sedan</td>\n",
              "      <td>rwd</td>\n",
              "      <td>front</td>\n",
              "      <td>109.1</td>\n",
              "      <td>...</td>\n",
              "      <td>141</td>\n",
              "      <td>mpfi</td>\n",
              "      <td>3.78</td>\n",
              "      <td>3.15</td>\n",
              "      <td>9.5</td>\n",
              "      <td>114.0</td>\n",
              "      <td>5400</td>\n",
              "      <td>23</td>\n",
              "      <td>28</td>\n",
              "      <td>16845.0</td>\n",
              "    </tr>\n",
              "    <tr>\n",
              "      <th>201</th>\n",
              "      <td>-1</td>\n",
              "      <td>95</td>\n",
              "      <td>volvo</td>\n",
              "      <td>gas</td>\n",
              "      <td>turbo</td>\n",
              "      <td>four</td>\n",
              "      <td>sedan</td>\n",
              "      <td>rwd</td>\n",
              "      <td>front</td>\n",
              "      <td>109.1</td>\n",
              "      <td>...</td>\n",
              "      <td>141</td>\n",
              "      <td>mpfi</td>\n",
              "      <td>3.78</td>\n",
              "      <td>3.15</td>\n",
              "      <td>8.7</td>\n",
              "      <td>160.0</td>\n",
              "      <td>5300</td>\n",
              "      <td>19</td>\n",
              "      <td>25</td>\n",
              "      <td>19045.0</td>\n",
              "    </tr>\n",
              "    <tr>\n",
              "      <th>202</th>\n",
              "      <td>-1</td>\n",
              "      <td>95</td>\n",
              "      <td>volvo</td>\n",
              "      <td>gas</td>\n",
              "      <td>std</td>\n",
              "      <td>four</td>\n",
              "      <td>sedan</td>\n",
              "      <td>rwd</td>\n",
              "      <td>front</td>\n",
              "      <td>109.1</td>\n",
              "      <td>...</td>\n",
              "      <td>173</td>\n",
              "      <td>mpfi</td>\n",
              "      <td>3.58</td>\n",
              "      <td>2.87</td>\n",
              "      <td>8.8</td>\n",
              "      <td>134.0</td>\n",
              "      <td>5500</td>\n",
              "      <td>18</td>\n",
              "      <td>23</td>\n",
              "      <td>21485.0</td>\n",
              "    </tr>\n",
              "    <tr>\n",
              "      <th>203</th>\n",
              "      <td>-1</td>\n",
              "      <td>95</td>\n",
              "      <td>volvo</td>\n",
              "      <td>diesel</td>\n",
              "      <td>turbo</td>\n",
              "      <td>four</td>\n",
              "      <td>sedan</td>\n",
              "      <td>rwd</td>\n",
              "      <td>front</td>\n",
              "      <td>109.1</td>\n",
              "      <td>...</td>\n",
              "      <td>145</td>\n",
              "      <td>idi</td>\n",
              "      <td>3.01</td>\n",
              "      <td>3.40</td>\n",
              "      <td>23.0</td>\n",
              "      <td>106.0</td>\n",
              "      <td>4800</td>\n",
              "      <td>26</td>\n",
              "      <td>27</td>\n",
              "      <td>22470.0</td>\n",
              "    </tr>\n",
              "    <tr>\n",
              "      <th>204</th>\n",
              "      <td>-1</td>\n",
              "      <td>95</td>\n",
              "      <td>volvo</td>\n",
              "      <td>gas</td>\n",
              "      <td>turbo</td>\n",
              "      <td>four</td>\n",
              "      <td>sedan</td>\n",
              "      <td>rwd</td>\n",
              "      <td>front</td>\n",
              "      <td>109.1</td>\n",
              "      <td>...</td>\n",
              "      <td>141</td>\n",
              "      <td>mpfi</td>\n",
              "      <td>3.78</td>\n",
              "      <td>3.15</td>\n",
              "      <td>9.5</td>\n",
              "      <td>114.0</td>\n",
              "      <td>5400</td>\n",
              "      <td>19</td>\n",
              "      <td>25</td>\n",
              "      <td>22625.0</td>\n",
              "    </tr>\n",
              "  </tbody>\n",
              "</table>\n",
              "<p>205 rows × 26 columns</p>\n",
              "</div>\n",
              "      <button class=\"colab-df-convert\" onclick=\"convertToInteractive('df-73f1bf0e-929e-4d22-817d-2526a81aa411')\"\n",
              "              title=\"Convert this dataframe to an interactive table.\"\n",
              "              style=\"display:none;\">\n",
              "        \n",
              "  <svg xmlns=\"http://www.w3.org/2000/svg\" height=\"24px\"viewBox=\"0 0 24 24\"\n",
              "       width=\"24px\">\n",
              "    <path d=\"M0 0h24v24H0V0z\" fill=\"none\"/>\n",
              "    <path d=\"M18.56 5.44l.94 2.06.94-2.06 2.06-.94-2.06-.94-.94-2.06-.94 2.06-2.06.94zm-11 1L8.5 8.5l.94-2.06 2.06-.94-2.06-.94L8.5 2.5l-.94 2.06-2.06.94zm10 10l.94 2.06.94-2.06 2.06-.94-2.06-.94-.94-2.06-.94 2.06-2.06.94z\"/><path d=\"M17.41 7.96l-1.37-1.37c-.4-.4-.92-.59-1.43-.59-.52 0-1.04.2-1.43.59L10.3 9.45l-7.72 7.72c-.78.78-.78 2.05 0 2.83L4 21.41c.39.39.9.59 1.41.59.51 0 1.02-.2 1.41-.59l7.78-7.78 2.81-2.81c.8-.78.8-2.07 0-2.86zM5.41 20L4 18.59l7.72-7.72 1.47 1.35L5.41 20z\"/>\n",
              "  </svg>\n",
              "      </button>\n",
              "      \n",
              "  <style>\n",
              "    .colab-df-container {\n",
              "      display:flex;\n",
              "      flex-wrap:wrap;\n",
              "      gap: 12px;\n",
              "    }\n",
              "\n",
              "    .colab-df-convert {\n",
              "      background-color: #E8F0FE;\n",
              "      border: none;\n",
              "      border-radius: 50%;\n",
              "      cursor: pointer;\n",
              "      display: none;\n",
              "      fill: #1967D2;\n",
              "      height: 32px;\n",
              "      padding: 0 0 0 0;\n",
              "      width: 32px;\n",
              "    }\n",
              "\n",
              "    .colab-df-convert:hover {\n",
              "      background-color: #E2EBFA;\n",
              "      box-shadow: 0px 1px 2px rgba(60, 64, 67, 0.3), 0px 1px 3px 1px rgba(60, 64, 67, 0.15);\n",
              "      fill: #174EA6;\n",
              "    }\n",
              "\n",
              "    [theme=dark] .colab-df-convert {\n",
              "      background-color: #3B4455;\n",
              "      fill: #D2E3FC;\n",
              "    }\n",
              "\n",
              "    [theme=dark] .colab-df-convert:hover {\n",
              "      background-color: #434B5C;\n",
              "      box-shadow: 0px 1px 3px 1px rgba(0, 0, 0, 0.15);\n",
              "      filter: drop-shadow(0px 1px 2px rgba(0, 0, 0, 0.3));\n",
              "      fill: #FFFFFF;\n",
              "    }\n",
              "  </style>\n",
              "\n",
              "      <script>\n",
              "        const buttonEl =\n",
              "          document.querySelector('#df-73f1bf0e-929e-4d22-817d-2526a81aa411 button.colab-df-convert');\n",
              "        buttonEl.style.display =\n",
              "          google.colab.kernel.accessAllowed ? 'block' : 'none';\n",
              "\n",
              "        async function convertToInteractive(key) {\n",
              "          const element = document.querySelector('#df-73f1bf0e-929e-4d22-817d-2526a81aa411');\n",
              "          const dataTable =\n",
              "            await google.colab.kernel.invokeFunction('convertToInteractive',\n",
              "                                                     [key], {});\n",
              "          if (!dataTable) return;\n",
              "\n",
              "          const docLinkHtml = 'Like what you see? Visit the ' +\n",
              "            '<a target=\"_blank\" href=https://colab.research.google.com/notebooks/data_table.ipynb>data table notebook</a>'\n",
              "            + ' to learn more about interactive tables.';\n",
              "          element.innerHTML = '';\n",
              "          dataTable['output_type'] = 'display_data';\n",
              "          await google.colab.output.renderOutput(dataTable, element);\n",
              "          const docLink = document.createElement('div');\n",
              "          docLink.innerHTML = docLinkHtml;\n",
              "          element.appendChild(docLink);\n",
              "        }\n",
              "      </script>\n",
              "    </div>\n",
              "  </div>\n",
              "  "
            ]
          },
          "metadata": {},
          "execution_count": 41
        }
      ]
    },
    {
      "cell_type": "code",
      "source": [
        "scale = StandardScaler()\n",
        "scale.fit(x_data[['horsepower', 'highway_mpg']])"
      ],
      "metadata": {
        "colab": {
          "base_uri": "https://localhost:8080/"
        },
        "id": "rNhWpIycP7--",
        "outputId": "2f49206c-f45a-4b6e-bd11-b124d9161eb7"
      },
      "execution_count": 42,
      "outputs": [
        {
          "output_type": "execute_result",
          "data": {
            "text/plain": [
              "StandardScaler()"
            ]
          },
          "metadata": {},
          "execution_count": 42
        }
      ]
    },
    {
      "cell_type": "code",
      "source": [
        "x_scale = scale.transform(x_data[['horsepower', 'highway_mpg']])"
      ],
      "metadata": {
        "id": "t_7fqTCPQQlt"
      },
      "execution_count": 43,
      "outputs": []
    },
    {
      "cell_type": "code",
      "source": [
        "pd.DataFrame(x_scale, columns=['horsepower', 'highway_mpg']).describe()"
      ],
      "metadata": {
        "colab": {
          "base_uri": "https://localhost:8080/",
          "height": 300
        },
        "id": "0cJ6f21fRbbN",
        "outputId": "df91f9c9-9699-4b58-b80a-56a9c24a8ae6"
      },
      "execution_count": 46,
      "outputs": [
        {
          "output_type": "execute_result",
          "data": {
            "text/plain": [
              "         horsepower   highway_mpg\n",
              "count  2.050000e+02  2.050000e+02\n",
              "mean   2.274603e-16  1.473076e-16\n",
              "std    1.002448e+00  1.002448e+00\n",
              "min   -1.426999e+00 -2.147310e+00\n",
              "25%   -8.689449e-01 -8.371954e-01\n",
              "50%   -2.347926e-01 -1.093538e-01\n",
              "75%    2.978954e-01  4.729195e-01\n",
              "max    4.660863e+00  3.384286e+00"
            ],
            "text/html": [
              "\n",
              "  <div id=\"df-f196d36b-1bd2-40fb-a8e4-8705de77218a\">\n",
              "    <div class=\"colab-df-container\">\n",
              "      <div>\n",
              "<style scoped>\n",
              "    .dataframe tbody tr th:only-of-type {\n",
              "        vertical-align: middle;\n",
              "    }\n",
              "\n",
              "    .dataframe tbody tr th {\n",
              "        vertical-align: top;\n",
              "    }\n",
              "\n",
              "    .dataframe thead th {\n",
              "        text-align: right;\n",
              "    }\n",
              "</style>\n",
              "<table border=\"1\" class=\"dataframe\">\n",
              "  <thead>\n",
              "    <tr style=\"text-align: right;\">\n",
              "      <th></th>\n",
              "      <th>horsepower</th>\n",
              "      <th>highway_mpg</th>\n",
              "    </tr>\n",
              "  </thead>\n",
              "  <tbody>\n",
              "    <tr>\n",
              "      <th>count</th>\n",
              "      <td>2.050000e+02</td>\n",
              "      <td>2.050000e+02</td>\n",
              "    </tr>\n",
              "    <tr>\n",
              "      <th>mean</th>\n",
              "      <td>2.274603e-16</td>\n",
              "      <td>1.473076e-16</td>\n",
              "    </tr>\n",
              "    <tr>\n",
              "      <th>std</th>\n",
              "      <td>1.002448e+00</td>\n",
              "      <td>1.002448e+00</td>\n",
              "    </tr>\n",
              "    <tr>\n",
              "      <th>min</th>\n",
              "      <td>-1.426999e+00</td>\n",
              "      <td>-2.147310e+00</td>\n",
              "    </tr>\n",
              "    <tr>\n",
              "      <th>25%</th>\n",
              "      <td>-8.689449e-01</td>\n",
              "      <td>-8.371954e-01</td>\n",
              "    </tr>\n",
              "    <tr>\n",
              "      <th>50%</th>\n",
              "      <td>-2.347926e-01</td>\n",
              "      <td>-1.093538e-01</td>\n",
              "    </tr>\n",
              "    <tr>\n",
              "      <th>75%</th>\n",
              "      <td>2.978954e-01</td>\n",
              "      <td>4.729195e-01</td>\n",
              "    </tr>\n",
              "    <tr>\n",
              "      <th>max</th>\n",
              "      <td>4.660863e+00</td>\n",
              "      <td>3.384286e+00</td>\n",
              "    </tr>\n",
              "  </tbody>\n",
              "</table>\n",
              "</div>\n",
              "      <button class=\"colab-df-convert\" onclick=\"convertToInteractive('df-f196d36b-1bd2-40fb-a8e4-8705de77218a')\"\n",
              "              title=\"Convert this dataframe to an interactive table.\"\n",
              "              style=\"display:none;\">\n",
              "        \n",
              "  <svg xmlns=\"http://www.w3.org/2000/svg\" height=\"24px\"viewBox=\"0 0 24 24\"\n",
              "       width=\"24px\">\n",
              "    <path d=\"M0 0h24v24H0V0z\" fill=\"none\"/>\n",
              "    <path d=\"M18.56 5.44l.94 2.06.94-2.06 2.06-.94-2.06-.94-.94-2.06-.94 2.06-2.06.94zm-11 1L8.5 8.5l.94-2.06 2.06-.94-2.06-.94L8.5 2.5l-.94 2.06-2.06.94zm10 10l.94 2.06.94-2.06 2.06-.94-2.06-.94-.94-2.06-.94 2.06-2.06.94z\"/><path d=\"M17.41 7.96l-1.37-1.37c-.4-.4-.92-.59-1.43-.59-.52 0-1.04.2-1.43.59L10.3 9.45l-7.72 7.72c-.78.78-.78 2.05 0 2.83L4 21.41c.39.39.9.59 1.41.59.51 0 1.02-.2 1.41-.59l7.78-7.78 2.81-2.81c.8-.78.8-2.07 0-2.86zM5.41 20L4 18.59l7.72-7.72 1.47 1.35L5.41 20z\"/>\n",
              "  </svg>\n",
              "      </button>\n",
              "      \n",
              "  <style>\n",
              "    .colab-df-container {\n",
              "      display:flex;\n",
              "      flex-wrap:wrap;\n",
              "      gap: 12px;\n",
              "    }\n",
              "\n",
              "    .colab-df-convert {\n",
              "      background-color: #E8F0FE;\n",
              "      border: none;\n",
              "      border-radius: 50%;\n",
              "      cursor: pointer;\n",
              "      display: none;\n",
              "      fill: #1967D2;\n",
              "      height: 32px;\n",
              "      padding: 0 0 0 0;\n",
              "      width: 32px;\n",
              "    }\n",
              "\n",
              "    .colab-df-convert:hover {\n",
              "      background-color: #E2EBFA;\n",
              "      box-shadow: 0px 1px 2px rgba(60, 64, 67, 0.3), 0px 1px 3px 1px rgba(60, 64, 67, 0.15);\n",
              "      fill: #174EA6;\n",
              "    }\n",
              "\n",
              "    [theme=dark] .colab-df-convert {\n",
              "      background-color: #3B4455;\n",
              "      fill: #D2E3FC;\n",
              "    }\n",
              "\n",
              "    [theme=dark] .colab-df-convert:hover {\n",
              "      background-color: #434B5C;\n",
              "      box-shadow: 0px 1px 3px 1px rgba(0, 0, 0, 0.15);\n",
              "      filter: drop-shadow(0px 1px 2px rgba(0, 0, 0, 0.3));\n",
              "      fill: #FFFFFF;\n",
              "    }\n",
              "  </style>\n",
              "\n",
              "      <script>\n",
              "        const buttonEl =\n",
              "          document.querySelector('#df-f196d36b-1bd2-40fb-a8e4-8705de77218a button.colab-df-convert');\n",
              "        buttonEl.style.display =\n",
              "          google.colab.kernel.accessAllowed ? 'block' : 'none';\n",
              "\n",
              "        async function convertToInteractive(key) {\n",
              "          const element = document.querySelector('#df-f196d36b-1bd2-40fb-a8e4-8705de77218a');\n",
              "          const dataTable =\n",
              "            await google.colab.kernel.invokeFunction('convertToInteractive',\n",
              "                                                     [key], {});\n",
              "          if (!dataTable) return;\n",
              "\n",
              "          const docLinkHtml = 'Like what you see? Visit the ' +\n",
              "            '<a target=\"_blank\" href=https://colab.research.google.com/notebooks/data_table.ipynb>data table notebook</a>'\n",
              "            + ' to learn more about interactive tables.';\n",
              "          element.innerHTML = '';\n",
              "          dataTable['output_type'] = 'display_data';\n",
              "          await google.colab.output.renderOutput(dataTable, element);\n",
              "          const docLink = document.createElement('div');\n",
              "          docLink.innerHTML = docLinkHtml;\n",
              "          element.appendChild(docLink);\n",
              "        }\n",
              "      </script>\n",
              "    </div>\n",
              "  </div>\n",
              "  "
            ]
          },
          "metadata": {},
          "execution_count": 46
        }
      ]
    },
    {
      "cell_type": "markdown",
      "source": [
        "Los pipelines ayudan a simplificar el código, ya que los pasos necesarios para realizar una predicción a partir de un modelo son varios.  \n",
        "Los pipelines ejecutan una serie de transformaciones."
      ],
      "metadata": {
        "id": "XqWPnw93RaxE"
      }
    },
    {
      "cell_type": "code",
      "source": [
        "from sklearn.preprocessing import PolynomialFeatures\n",
        "from sklearn.linear_model import LinearRegression\n",
        "from sklearn.preprocessing import StandardScaler\n",
        "from sklearn.pipeline import Pipeline"
      ],
      "metadata": {
        "id": "d9wJQtnxRZ79"
      },
      "execution_count": 52,
      "outputs": []
    },
    {
      "cell_type": "code",
      "source": [
        "#Se crea una lista de tuplas con los pasos a ejecutar\n",
        "input = [('scale', StandardScaler()), ('polynomial', PolynomialFeatures(degree=2)), ('model', LinearRegression())] "
      ],
      "metadata": {
        "id": "dbyyT-K-SNDV"
      },
      "execution_count": 53,
      "outputs": []
    },
    {
      "cell_type": "code",
      "source": [
        "pipe = Pipeline(input)"
      ],
      "metadata": {
        "id": "pURqA0GQTNrM"
      },
      "execution_count": 54,
      "outputs": []
    },
    {
      "cell_type": "code",
      "source": [
        "pipe.fit(df[['horsepower', 'curb_weight', 'engine_size', 'highway_mpg']], df['price']) #Se puede entrenar el pipeline"
      ],
      "metadata": {
        "colab": {
          "base_uri": "https://localhost:8080/"
        },
        "id": "VyaJ-P6qTnYZ",
        "outputId": "27722a9f-0e2d-4e84-9ca0-71c277dd8b45"
      },
      "execution_count": 57,
      "outputs": [
        {
          "output_type": "execute_result",
          "data": {
            "text/plain": [
              "Pipeline(steps=[('scale', StandardScaler()),\n",
              "                ('polynomial', PolynomialFeatures()),\n",
              "                ('model', LinearRegression())])"
            ]
          },
          "metadata": {},
          "execution_count": 57
        }
      ]
    },
    {
      "cell_type": "code",
      "source": [
        "yhat=pipe.predict(df[['horsepower', 'curb_weight', 'engine_size', 'highway_mpg']]) #Se pueden predecir los valores utilizando el método predict del pipeline"
      ],
      "metadata": {
        "id": "mYT-JsFKUKtx"
      },
      "execution_count": 58,
      "outputs": []
    },
    {
      "cell_type": "markdown",
      "source": [
        "##Measures for In-Sample Evaluation"
      ],
      "metadata": {
        "id": "T5PAk7h5U4Xn"
      }
    },
    {
      "cell_type": "markdown",
      "source": [
        "Son formas útiles para determinar numéricamente qué tan bien el modelo se ajusta al conjunto de datos."
      ],
      "metadata": {
        "id": "iN9fYO7GXaWQ"
      }
    },
    {
      "cell_type": "markdown",
      "source": [
        "Dos métricas importantes para determinar qué tan bueno es el ajuste del modelo son:  \n",
        "*  Error cuadrático medio. (MSE)\n",
        "*  R-squared (R^2)"
      ],
      "metadata": {
        "id": "NeAi-_PCXk7S"
      }
    },
    {
      "cell_type": "code",
      "source": [
        "from sklearn.metrics import mean_squared_error"
      ],
      "metadata": {
        "id": "aB1VJreMXkgm"
      },
      "execution_count": 59,
      "outputs": []
    },
    {
      "cell_type": "markdown",
      "source": [
        "La función recibe dos parámetros, estos son:  \n",
        "*  Los valores esperados\n",
        "*  Los valores observados"
      ],
      "metadata": {
        "id": "5exYfm2ZYMP2"
      }
    },
    {
      "cell_type": "code",
      "source": [
        "mean_squared_error(df['price'], yhat)"
      ],
      "metadata": {
        "colab": {
          "base_uri": "https://localhost:8080/"
        },
        "id": "RYR8xQdEU9Zu",
        "outputId": "839242f9-0444-41a9-aae1-fd56b62d53d4"
      },
      "execution_count": 60,
      "outputs": [
        {
          "output_type": "execute_result",
          "data": {
            "text/plain": [
              "10282167.881555859"
            ]
          },
          "metadata": {},
          "execution_count": 60
        }
      ]
    },
    {
      "cell_type": "markdown",
      "source": [
        "Coeficiente de determinación R^2.  \n",
        "Métrica para determinar qué tan cerca están los datos a la regresión lineal obtenida.  \n",
        "El porcentaje de variación de la variable objetivo (Y) que es explicado por el modelo lineal.  \n",
        "Un valor cercano a 1 indica que el modelo es una buena aproximación de los datos."
      ],
      "metadata": {
        "id": "QkGeAdxIY8d5"
      }
    },
    {
      "cell_type": "code",
      "source": [
        "X = df[['highway_mpg']]\n",
        "Y = df['price']\n",
        "lm = LinearRegression(fit_intercept=True)\n",
        "lm.fit(X,Y)"
      ],
      "metadata": {
        "colab": {
          "base_uri": "https://localhost:8080/"
        },
        "id": "lcimRMvtaA26",
        "outputId": "bd3ec487-cb39-4971-dd6e-f8ff4f5a2f46"
      },
      "execution_count": 61,
      "outputs": [
        {
          "output_type": "execute_result",
          "data": {
            "text/plain": [
              "LinearRegression()"
            ]
          },
          "metadata": {},
          "execution_count": 61
        }
      ]
    },
    {
      "cell_type": "code",
      "source": [
        "lm.score(X,Y) #Valor del coeficiente de determinación obtenido del método score del objeto de regresión lineal"
      ],
      "metadata": {
        "colab": {
          "base_uri": "https://localhost:8080/"
        },
        "id": "qcjvWudXaOZk",
        "outputId": "9fb287f0-2afc-48d4-9c77-97a696329801"
      },
      "execution_count": 62,
      "outputs": [
        {
          "output_type": "execute_result",
          "data": {
            "text/plain": [
              "0.47682578947968446"
            ]
          },
          "metadata": {},
          "execution_count": 62
        }
      ]
    },
    {
      "cell_type": "markdown",
      "source": [
        "##Prediction and Decision Making"
      ],
      "metadata": {
        "id": "dXyRqepbbKMQ"
      }
    },
    {
      "cell_type": "markdown",
      "source": [
        "Para decidir si un modelo es bueno se puede realizar lo siguiente:\n",
        "*  Verificar si los valores predichos tienen sentido.\n",
        "*  Visualizar los resultados.  \n",
        "*  Utilizar métricas para la evaluación.\n",
        "*  Comparar modelos."
      ],
      "metadata": {
        "id": "zUdxct0ubUBb"
      }
    },
    {
      "cell_type": "code",
      "source": [
        "lm.fit(df[['highway_mpg']], df['price'])"
      ],
      "metadata": {
        "colab": {
          "base_uri": "https://localhost:8080/"
        },
        "id": "kqrABVlaaSZw",
        "outputId": "11f17ff7-fd00-4cb4-ced1-0fafbe3ae7ba"
      },
      "execution_count": 65,
      "outputs": [
        {
          "output_type": "execute_result",
          "data": {
            "text/plain": [
              "LinearRegression()"
            ]
          },
          "metadata": {},
          "execution_count": 65
        }
      ]
    },
    {
      "cell_type": "markdown",
      "source": [
        "Verificar los valores obtenidos de la predicción para ver si con coherentes."
      ],
      "metadata": {
        "id": "biQ8F-jycd4A"
      }
    },
    {
      "cell_type": "code",
      "source": [
        "lm.coef_ #El valor de los coeficientes también proporciona información relevante sobre la obtención de un buen modelo."
      ],
      "metadata": {
        "colab": {
          "base_uri": "https://localhost:8080/"
        },
        "id": "ElKoQy19cF9a",
        "outputId": "1f10008c-4e0a-4096-ebb0-82e706baf94b"
      },
      "execution_count": 67,
      "outputs": [
        {
          "output_type": "execute_result",
          "data": {
            "text/plain": [
              "array([-789.02661986])"
            ]
          },
          "metadata": {},
          "execution_count": 67
        }
      ]
    },
    {
      "cell_type": "code",
      "source": [
        "import numpy as np\n",
        "new_input = np.arange(1, 101, 1).reshape(-1, 1)#Generar una lista de valores del 1 al 100 de 1 en 1\n"
      ],
      "metadata": {
        "id": "Y3gVVq8fccrq"
      },
      "execution_count": 69,
      "outputs": []
    },
    {
      "cell_type": "code",
      "source": [
        "yhat = lm.predict(new_input)"
      ],
      "metadata": {
        "colab": {
          "base_uri": "https://localhost:8080/"
        },
        "id": "KA5NUrAPc_ln",
        "outputId": "03a02fb4-a9bb-487b-8377-d75b31061872"
      },
      "execution_count": 70,
      "outputs": [
        {
          "output_type": "stream",
          "name": "stderr",
          "text": [
            "/usr/local/lib/python3.7/dist-packages/sklearn/base.py:451: UserWarning: X does not have valid feature names, but LinearRegression was fitted with feature names\n",
            "  \"X does not have valid feature names, but\"\n"
          ]
        }
      ]
    },
    {
      "cell_type": "code",
      "source": [
        "yhat #Varios valores son negativos entonces no son coherentes."
      ],
      "metadata": {
        "colab": {
          "base_uri": "https://localhost:8080/"
        },
        "id": "DQ97pwHXdPuG",
        "outputId": "d0586d69-de62-4783-97ac-4c1787c4d8ba"
      },
      "execution_count": 71,
      "outputs": [
        {
          "output_type": "execute_result",
          "data": {
            "text/plain": [
              "array([ 36681.63352153,  35892.60690167,  35103.58028182,  34314.55366196,\n",
              "        33525.5270421 ,  32736.50042225,  31947.47380239,  31158.44718254,\n",
              "        30369.42056268,  29580.39394283,  28791.36732297,  28002.34070311,\n",
              "        27213.31408326,  26424.2874634 ,  25635.26084355,  24846.23422369,\n",
              "        24057.20760384,  23268.18098398,  22479.15436412,  21690.12774427,\n",
              "        20901.10112441,  20112.07450456,  19323.0478847 ,  18534.02126485,\n",
              "        17744.99464499,  16955.96802513,  16166.94140528,  15377.91478542,\n",
              "        14588.88816557,  13799.86154571,  13010.83492586,  12221.808306  ,\n",
              "        11432.78168614,  10643.75506629,   9854.72844643,   9065.70182658,\n",
              "         8276.67520672,   7487.64858686,   6698.62196701,   5909.59534715,\n",
              "         5120.5687273 ,   4331.54210744,   3542.51548759,   2753.48886773,\n",
              "         1964.46224787,   1175.43562802,    386.40900816,   -402.61761169,\n",
              "        -1191.64423155,  -1980.6708514 ,  -2769.69747126,  -3558.72409112,\n",
              "        -4347.75071097,  -5136.77733083,  -5925.80395068,  -6714.83057054,\n",
              "        -7503.85719039,  -8292.88381025,  -9081.91043011,  -9870.93704996,\n",
              "       -10659.96366982, -11448.99028967, -12238.01690953, -13027.04352938,\n",
              "       -13816.07014924, -14605.0967691 , -15394.12338895, -16183.15000881,\n",
              "       -16972.17662866, -17761.20324852, -18550.22986837, -19339.25648823,\n",
              "       -20128.28310809, -20917.30972794, -21706.3363478 , -22495.36296765,\n",
              "       -23284.38958751, -24073.41620736, -24862.44282722, -25651.46944708,\n",
              "       -26440.49606693, -27229.52268679, -28018.54930664, -28807.5759265 ,\n",
              "       -29596.60254636, -30385.62916621, -31174.65578607, -31963.68240592,\n",
              "       -32752.70902578, -33541.73564563, -34330.76226549, -35119.78888535,\n",
              "       -35908.8155052 , -36697.84212506, -37486.86874491, -38275.89536477,\n",
              "       -39064.92198462, -39853.94860448, -40642.97522434, -41432.00184419])"
            ]
          },
          "metadata": {},
          "execution_count": 71
        }
      ]
    },
    {
      "cell_type": "markdown",
      "source": [
        "Evidencia de progreso del curso.\n",
        "\n",
        "![Captura de pantalla 2022-11-01 220554.jpg](data:image/jpeg;base64,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)"
      ],
      "metadata": {
        "id": "lXcu5o9pg-KB"
      }
    }
  ]
}