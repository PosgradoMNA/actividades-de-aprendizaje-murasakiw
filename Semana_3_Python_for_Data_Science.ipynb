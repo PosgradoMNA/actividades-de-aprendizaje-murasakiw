{
  "nbformat": 4,
  "nbformat_minor": 0,
  "metadata": {
    "colab": {
      "provenance": [],
      "collapsed_sections": [],
      "authorship_tag": "ABX9TyM1aXpHxM90Prpgw8r7a74j",
      "include_colab_link": true
    },
    "kernelspec": {
      "name": "python3",
      "display_name": "Python 3"
    },
    "language_info": {
      "name": "python"
    }
  },
  "cells": [
    {
      "cell_type": "markdown",
      "metadata": {
        "id": "view-in-github",
        "colab_type": "text"
      },
      "source": [
        "<a href=\"https://colab.research.google.com/github/PosgradoMNA/actividades-de-aprendizaje-murasakiw/blob/main/Semana_3_Python_for_Data_Science.ipynb\" target=\"_parent\"><img src=\"https://colab.research.google.com/assets/colab-badge.svg\" alt=\"Open In Colab\"/></a>"
      ]
    },
    {
      "cell_type": "markdown",
      "source": [
        "Nombre: Sergio Omar Esparza Hernández\n",
        "\n",
        "Matrícula: A01794338"
      ],
      "metadata": {
        "id": "gR-MJIddpaya"
      }
    },
    {
      "cell_type": "markdown",
      "source": [
        "#Python for Data Science (IBM): Módulo 5"
      ],
      "metadata": {
        "id": "srDf533Ipn7g"
      }
    },
    {
      "cell_type": "markdown",
      "source": [
        "##Numpy 1D Arrays"
      ],
      "metadata": {
        "id": "w2_ctc6Ypyp6"
      }
    },
    {
      "cell_type": "markdown",
      "source": [
        "Numpy es una librería utilizada para realizar cálculos computacionales científicos\n",
        "\n",
        "Pandas está basada en Numpy"
      ],
      "metadata": {
        "id": "nH_cYIecqLnb"
      }
    },
    {
      "cell_type": "markdown",
      "source": [
        "Un arreglo de Numpy es similar a una lista, usualmente está fijo su tamaño y \n",
        "cada elemento es del mismo tipo.\n",
        "\n",
        "Para utilizar Numpy, primero es necesario importar esta librería."
      ],
      "metadata": {
        "id": "IXFAXZnTqTBd"
      }
    },
    {
      "cell_type": "code",
      "execution_count": null,
      "metadata": {
        "id": "oNhYO_WXpTHD"
      },
      "outputs": [],
      "source": [
        "import numpy as np #Es necesario importar la librería para poder utilizar las operaciones"
      ]
    },
    {
      "cell_type": "code",
      "source": [
        "a = np.array([0, 1, 2, 3, 4]) #Se puede utilizar una lista de python para crear un array de numpy\n",
        "a"
      ],
      "metadata": {
        "colab": {
          "base_uri": "https://localhost:8080/"
        },
        "id": "pnPxG1vErZvX",
        "outputId": "320520d9-2173-4e5f-f6dd-bfe2ff6ce007"
      },
      "execution_count": null,
      "outputs": [
        {
          "output_type": "execute_result",
          "data": {
            "text/plain": [
              "array([0, 1, 2, 3, 4])"
            ]
          },
          "metadata": {},
          "execution_count": 2
        }
      ]
    },
    {
      "cell_type": "code",
      "source": [
        "a[3] #Se puede acceder a los valores individuales del array de igual manera que con las listas, a través de índices"
      ],
      "metadata": {
        "colab": {
          "base_uri": "https://localhost:8080/"
        },
        "id": "ImkNJGQOrw8s",
        "outputId": "c30c7661-6dc0-432f-ce12-5dc70cd78b6e"
      },
      "execution_count": null,
      "outputs": [
        {
          "output_type": "execute_result",
          "data": {
            "text/plain": [
              "3"
            ]
          },
          "metadata": {},
          "execution_count": 3
        }
      ]
    },
    {
      "cell_type": "code",
      "source": [
        "type(a) #El tipo de dato de los arrays de numpy es numpy.ndarray"
      ],
      "metadata": {
        "colab": {
          "base_uri": "https://localhost:8080/"
        },
        "id": "efQdfHebr4AT",
        "outputId": "99115a8b-588c-4b9a-adf8-018d0b9d3a6c"
      },
      "execution_count": null,
      "outputs": [
        {
          "output_type": "execute_result",
          "data": {
            "text/plain": [
              "numpy.ndarray"
            ]
          },
          "metadata": {},
          "execution_count": 5
        }
      ]
    },
    {
      "cell_type": "code",
      "source": [
        "a.dtype #Con el atributo dtype se puede obtener el tipo de todos los datos almacenados en el array"
      ],
      "metadata": {
        "colab": {
          "base_uri": "https://localhost:8080/"
        },
        "id": "OhufLcw9sQWz",
        "outputId": "2243e197-1b8f-41ac-c48e-01ba34c05971"
      },
      "execution_count": null,
      "outputs": [
        {
          "output_type": "execute_result",
          "data": {
            "text/plain": [
              "dtype('int64')"
            ]
          },
          "metadata": {},
          "execution_count": 7
        }
      ]
    },
    {
      "cell_type": "markdown",
      "source": [
        "Atributos de los arrays de numpy"
      ],
      "metadata": {
        "id": "796XUTqSsqrK"
      }
    },
    {
      "cell_type": "code",
      "source": [
        "a.size #Devuelve el número de elementos que contiene el array"
      ],
      "metadata": {
        "colab": {
          "base_uri": "https://localhost:8080/"
        },
        "id": "W-vggW_QsWpB",
        "outputId": "a93bb5fe-ec19-4040-8002-38c7d170532f"
      },
      "execution_count": null,
      "outputs": [
        {
          "output_type": "execute_result",
          "data": {
            "text/plain": [
              "5"
            ]
          },
          "metadata": {},
          "execution_count": 8
        }
      ]
    },
    {
      "cell_type": "code",
      "source": [
        "a.ndim #Devuelve el número de dimensiones del array"
      ],
      "metadata": {
        "colab": {
          "base_uri": "https://localhost:8080/"
        },
        "id": "A7QFc6E6sz71",
        "outputId": "71efd9ed-256a-444f-ac70-eda919ea354b"
      },
      "execution_count": null,
      "outputs": [
        {
          "output_type": "execute_result",
          "data": {
            "text/plain": [
              "1"
            ]
          },
          "metadata": {},
          "execution_count": 9
        }
      ]
    },
    {
      "cell_type": "code",
      "source": [
        "a.shape #Devuelve una tupla con el tamaño del arreglo en cada dimensión"
      ],
      "metadata": {
        "colab": {
          "base_uri": "https://localhost:8080/"
        },
        "id": "HmR0AzYmtJYj",
        "outputId": "442d51cf-5144-45ad-e0da-2a3739b5ca89"
      },
      "execution_count": null,
      "outputs": [
        {
          "output_type": "execute_result",
          "data": {
            "text/plain": [
              "(5,)"
            ]
          },
          "metadata": {},
          "execution_count": 10
        }
      ]
    },
    {
      "cell_type": "markdown",
      "source": [
        "Métodos para indexing y slicing"
      ],
      "metadata": {
        "id": "2_o8comJxKGB"
      }
    },
    {
      "cell_type": "code",
      "source": [
        "c = np.array([20, 1, 2, 3, 4])\n",
        "c[0] = 100 #Se puede modificar el valor que hay en una posición del array, de igual manera que con las listas\n",
        "c"
      ],
      "metadata": {
        "colab": {
          "base_uri": "https://localhost:8080/"
        },
        "id": "7lZyT5LjtQsB",
        "outputId": "5a2d85a8-5892-4c91-acb7-17ca8caa3e9e"
      },
      "execution_count": null,
      "outputs": [
        {
          "output_type": "execute_result",
          "data": {
            "text/plain": [
              "array([100,   1,   2,   3,   4])"
            ]
          },
          "metadata": {},
          "execution_count": 12
        }
      ]
    },
    {
      "cell_type": "code",
      "source": [
        "#Se puede obtener un slice de un numpy array al igual que con las listas y tuplas de Python\n",
        "d = c[1:4] \n",
        "d"
      ],
      "metadata": {
        "colab": {
          "base_uri": "https://localhost:8080/"
        },
        "id": "PigBGVrHxdH7",
        "outputId": "8306125b-9979-443e-c08c-acc36359389f"
      },
      "execution_count": null,
      "outputs": [
        {
          "output_type": "execute_result",
          "data": {
            "text/plain": [
              "array([1, 2, 3])"
            ]
          },
          "metadata": {},
          "execution_count": 14
        }
      ]
    },
    {
      "cell_type": "code",
      "source": [
        "c[3:5] = 300, 400 #Asignar a los índices correspondientes nuevos valores\n",
        "c"
      ],
      "metadata": {
        "colab": {
          "base_uri": "https://localhost:8080/"
        },
        "id": "5xQiBJ3-xxwB",
        "outputId": "491bc316-d7f2-4f6f-de96-99c5b5390da3"
      },
      "execution_count": null,
      "outputs": [
        {
          "output_type": "execute_result",
          "data": {
            "text/plain": [
              "array([100,   1,   2, 300, 400])"
            ]
          },
          "metadata": {},
          "execution_count": 15
        }
      ]
    },
    {
      "cell_type": "markdown",
      "source": [
        "Operaciones básicas\n",
        "\n",
        "Estas operaciones son usualmente más rápidas computacionalmente y requieren menos memoria en numpy comparado con un código regular de Python"
      ],
      "metadata": {
        "id": "hAgoNFn2yzyz"
      }
    },
    {
      "cell_type": "code",
      "source": [
        "#Suma de vectores con numpy\n",
        "#Es más sencillo y más rápido realizar una suma de vectores utilizando numpy\n",
        "#Esto es importante cuando se tienen arrays con muchos datos\n",
        "u = np.array([1, 0])\n",
        "v = np.array([0, 1])\n",
        "z = u + v\n",
        "z"
      ],
      "metadata": {
        "colab": {
          "base_uri": "https://localhost:8080/"
        },
        "id": "jJbtY4GFydbP",
        "outputId": "afef38da-815d-4b1e-cbfc-09664256ac45"
      },
      "execution_count": null,
      "outputs": [
        {
          "output_type": "execute_result",
          "data": {
            "text/plain": [
              "array([1, 1])"
            ]
          },
          "metadata": {},
          "execution_count": 17
        }
      ]
    },
    {
      "cell_type": "code",
      "source": [
        "#Resta de vectores con numpy\n",
        "u = np.array([1, 0])\n",
        "v = np.array([0, 1])\n",
        "z = u - v\n",
        "z"
      ],
      "metadata": {
        "colab": {
          "base_uri": "https://localhost:8080/"
        },
        "id": "iuNTGuwp0O03",
        "outputId": "be0a478c-2bae-4ed2-f2a6-4c93df29c857"
      },
      "execution_count": null,
      "outputs": [
        {
          "output_type": "execute_result",
          "data": {
            "text/plain": [
              "array([ 1, -1])"
            ]
          },
          "metadata": {},
          "execution_count": 18
        }
      ]
    },
    {
      "cell_type": "code",
      "source": [
        "#Multiplicación de un vector por un escalar\n",
        "#Esta operación solo requiere una línea de código con numpy\n",
        "y = np.array([1, 2])\n",
        "z = 2 * y\n",
        "z"
      ],
      "metadata": {
        "colab": {
          "base_uri": "https://localhost:8080/"
        },
        "id": "aBZLMFzz0jYR",
        "outputId": "2d72b063-d700-4b59-e3f8-6e9e174d0130"
      },
      "execution_count": null,
      "outputs": [
        {
          "output_type": "execute_result",
          "data": {
            "text/plain": [
              "array([2, 4])"
            ]
          },
          "metadata": {},
          "execution_count": 19
        }
      ]
    },
    {
      "cell_type": "code",
      "source": [
        "#Producto de Hadamard\n",
        "#Consiste en multiplicar los elementos que se encuentran en la misma posición en los dos vectores\n",
        "u = np.array([1, 2])\n",
        "v = np.array([3, 2])\n",
        "z = u * v\n",
        "z"
      ],
      "metadata": {
        "colab": {
          "base_uri": "https://localhost:8080/"
        },
        "id": "vW23Nn-n09qS",
        "outputId": "bf8752b7-b183-495e-e0cc-fcc0a9121162"
      },
      "execution_count": null,
      "outputs": [
        {
          "output_type": "execute_result",
          "data": {
            "text/plain": [
              "array([3, 4])"
            ]
          },
          "metadata": {},
          "execution_count": 20
        }
      ]
    },
    {
      "cell_type": "code",
      "source": [
        "#Producto punto utilizando numpy\n",
        "#Este producto es útil para verificar si dos vectores son perpendiculares\n",
        "#El resultado es una magnitud escalar\n",
        "u = np.array([1, 2])\n",
        "v = np.array([3, 2])\n",
        "z =  np.dot(u, v)\n",
        "z"
      ],
      "metadata": {
        "colab": {
          "base_uri": "https://localhost:8080/"
        },
        "id": "oNlGu4o32Qmu",
        "outputId": "c0e20578-d59f-4caa-9462-77e8408926d3"
      },
      "execution_count": null,
      "outputs": [
        {
          "output_type": "execute_result",
          "data": {
            "text/plain": [
              "7"
            ]
          },
          "metadata": {},
          "execution_count": 22
        }
      ]
    },
    {
      "cell_type": "code",
      "source": [],
      "metadata": {
        "id": "sInAtBhB3Ih5"
      },
      "execution_count": null,
      "outputs": []
    }
  ]
}