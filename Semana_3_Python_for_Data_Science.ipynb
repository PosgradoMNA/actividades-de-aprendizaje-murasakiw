{
  "nbformat": 4,
  "nbformat_minor": 0,
  "metadata": {
    "colab": {
      "provenance": [],
      "collapsed_sections": [],
      "authorship_tag": "ABX9TyNBhIqkgjKXEhkb9u/pzd4K",
      "include_colab_link": true
    },
    "kernelspec": {
      "name": "python3",
      "display_name": "Python 3"
    },
    "language_info": {
      "name": "python"
    }
  },
  "cells": [
    {
      "cell_type": "markdown",
      "metadata": {
        "id": "view-in-github",
        "colab_type": "text"
      },
      "source": [
        "<a href=\"https://colab.research.google.com/github/PosgradoMNA/actividades-de-aprendizaje-murasakiw/blob/main/Semana_3_Python_for_Data_Science.ipynb\" target=\"_parent\"><img src=\"https://colab.research.google.com/assets/colab-badge.svg\" alt=\"Open In Colab\"/></a>"
      ]
    },
    {
      "cell_type": "markdown",
      "source": [
        "Nombre: Sergio Omar Esparza Hernández\n",
        "\n",
        "Matrícula: A01794338"
      ],
      "metadata": {
        "id": "gR-MJIddpaya"
      }
    },
    {
      "cell_type": "markdown",
      "source": [
        "#Python for Data Science (IBM): Módulo 5"
      ],
      "metadata": {
        "id": "srDf533Ipn7g"
      }
    },
    {
      "cell_type": "markdown",
      "source": [
        "##Numpy 1D Arrays"
      ],
      "metadata": {
        "id": "w2_ctc6Ypyp6"
      }
    },
    {
      "cell_type": "markdown",
      "source": [
        "Numpy es una librería utilizada para realizar cálculos computacionales científicos\n",
        "\n",
        "Pandas está basada en Numpy"
      ],
      "metadata": {
        "id": "nH_cYIecqLnb"
      }
    },
    {
      "cell_type": "markdown",
      "source": [
        "Un arreglo de Numpy es similar a una lista, usualmente está fijo su tamaño y \n",
        "cada elemento es del mismo tipo.\n",
        "\n",
        "Para utilizar Numpy, primero es necesario importar esta librería."
      ],
      "metadata": {
        "id": "IXFAXZnTqTBd"
      }
    },
    {
      "cell_type": "code",
      "execution_count": null,
      "metadata": {
        "id": "oNhYO_WXpTHD"
      },
      "outputs": [],
      "source": [
        "import numpy as np #Es necesario importar la librería para poder utilizar las operaciones"
      ]
    },
    {
      "cell_type": "code",
      "source": [
        "a = np.array([0, 1, 2, 3, 4]) #Se puede utilizar una lista de python para crear un array de numpy\n",
        "a"
      ],
      "metadata": {
        "colab": {
          "base_uri": "https://localhost:8080/"
        },
        "id": "pnPxG1vErZvX",
        "outputId": "d5244664-a8e6-439b-cd63-3b4fc84b0387"
      },
      "execution_count": null,
      "outputs": [
        {
          "output_type": "execute_result",
          "data": {
            "text/plain": [
              "array([0, 1, 2, 3, 4])"
            ]
          },
          "metadata": {},
          "execution_count": 4
        }
      ]
    },
    {
      "cell_type": "code",
      "source": [
        "a[3] #Se puede acceder a los valores individuales del array de igual manera que con las listas, a través de índices"
      ],
      "metadata": {
        "colab": {
          "base_uri": "https://localhost:8080/"
        },
        "id": "ImkNJGQOrw8s",
        "outputId": "c30c7661-6dc0-432f-ce12-5dc70cd78b6e"
      },
      "execution_count": null,
      "outputs": [
        {
          "output_type": "execute_result",
          "data": {
            "text/plain": [
              "3"
            ]
          },
          "metadata": {},
          "execution_count": 3
        }
      ]
    },
    {
      "cell_type": "code",
      "source": [
        "type(a) #El tipo de dato de los arrays de numpy es numpy.ndarray"
      ],
      "metadata": {
        "colab": {
          "base_uri": "https://localhost:8080/"
        },
        "id": "efQdfHebr4AT",
        "outputId": "99115a8b-588c-4b9a-adf8-018d0b9d3a6c"
      },
      "execution_count": null,
      "outputs": [
        {
          "output_type": "execute_result",
          "data": {
            "text/plain": [
              "numpy.ndarray"
            ]
          },
          "metadata": {},
          "execution_count": 5
        }
      ]
    },
    {
      "cell_type": "code",
      "source": [
        "a.dtype #Con el atributo dtype se puede obtener el tipo de todos los datos almacenados en el array"
      ],
      "metadata": {
        "colab": {
          "base_uri": "https://localhost:8080/"
        },
        "id": "OhufLcw9sQWz",
        "outputId": "2243e197-1b8f-41ac-c48e-01ba34c05971"
      },
      "execution_count": null,
      "outputs": [
        {
          "output_type": "execute_result",
          "data": {
            "text/plain": [
              "dtype('int64')"
            ]
          },
          "metadata": {},
          "execution_count": 7
        }
      ]
    },
    {
      "cell_type": "markdown",
      "source": [
        "Atributos de los arrays de numpy"
      ],
      "metadata": {
        "id": "796XUTqSsqrK"
      }
    },
    {
      "cell_type": "code",
      "source": [
        "a.size #Devuelve el número de elementos que contiene el array"
      ],
      "metadata": {
        "colab": {
          "base_uri": "https://localhost:8080/"
        },
        "id": "W-vggW_QsWpB",
        "outputId": "a93bb5fe-ec19-4040-8002-38c7d170532f"
      },
      "execution_count": null,
      "outputs": [
        {
          "output_type": "execute_result",
          "data": {
            "text/plain": [
              "5"
            ]
          },
          "metadata": {},
          "execution_count": 8
        }
      ]
    },
    {
      "cell_type": "code",
      "source": [
        "a.ndim #Devuelve el número de dimensiones del array"
      ],
      "metadata": {
        "colab": {
          "base_uri": "https://localhost:8080/"
        },
        "id": "A7QFc6E6sz71",
        "outputId": "71efd9ed-256a-444f-ac70-eda919ea354b"
      },
      "execution_count": null,
      "outputs": [
        {
          "output_type": "execute_result",
          "data": {
            "text/plain": [
              "1"
            ]
          },
          "metadata": {},
          "execution_count": 9
        }
      ]
    },
    {
      "cell_type": "code",
      "source": [
        "a.shape #Devuelve una tupla con el tamaño del arreglo en cada dimensión"
      ],
      "metadata": {
        "colab": {
          "base_uri": "https://localhost:8080/"
        },
        "id": "HmR0AzYmtJYj",
        "outputId": "442d51cf-5144-45ad-e0da-2a3739b5ca89"
      },
      "execution_count": null,
      "outputs": [
        {
          "output_type": "execute_result",
          "data": {
            "text/plain": [
              "(5,)"
            ]
          },
          "metadata": {},
          "execution_count": 10
        }
      ]
    },
    {
      "cell_type": "markdown",
      "source": [
        "Métodos para indexing y slicing"
      ],
      "metadata": {
        "id": "2_o8comJxKGB"
      }
    },
    {
      "cell_type": "code",
      "source": [
        "c = np.array([20, 1, 2, 3, 4])\n",
        "c[0] = 100 #Se puede modificar el valor que hay en una posición del array, de igual manera que con las listas\n",
        "c"
      ],
      "metadata": {
        "colab": {
          "base_uri": "https://localhost:8080/"
        },
        "id": "7lZyT5LjtQsB",
        "outputId": "5a2d85a8-5892-4c91-acb7-17ca8caa3e9e"
      },
      "execution_count": null,
      "outputs": [
        {
          "output_type": "execute_result",
          "data": {
            "text/plain": [
              "array([100,   1,   2,   3,   4])"
            ]
          },
          "metadata": {},
          "execution_count": 12
        }
      ]
    },
    {
      "cell_type": "code",
      "source": [
        "#Se puede obtener un slice de un numpy array al igual que con las listas y tuplas de Python\n",
        "d = c[1:4] \n",
        "d"
      ],
      "metadata": {
        "colab": {
          "base_uri": "https://localhost:8080/"
        },
        "id": "PigBGVrHxdH7",
        "outputId": "8306125b-9979-443e-c08c-acc36359389f"
      },
      "execution_count": null,
      "outputs": [
        {
          "output_type": "execute_result",
          "data": {
            "text/plain": [
              "array([1, 2, 3])"
            ]
          },
          "metadata": {},
          "execution_count": 14
        }
      ]
    },
    {
      "cell_type": "code",
      "source": [
        "c[3:5] = 300, 400 #Asignar a los índices correspondientes nuevos valores\n",
        "c"
      ],
      "metadata": {
        "colab": {
          "base_uri": "https://localhost:8080/"
        },
        "id": "5xQiBJ3-xxwB",
        "outputId": "491bc316-d7f2-4f6f-de96-99c5b5390da3"
      },
      "execution_count": null,
      "outputs": [
        {
          "output_type": "execute_result",
          "data": {
            "text/plain": [
              "array([100,   1,   2, 300, 400])"
            ]
          },
          "metadata": {},
          "execution_count": 15
        }
      ]
    },
    {
      "cell_type": "code",
      "source": [
        "#Se puede definir un paso en los slices, tal como en las listas de Python\n",
        "a[1:5:2] #[inicio:fin:paso] Si no se le indica un paso, es considerado 1"
      ],
      "metadata": {
        "colab": {
          "base_uri": "https://localhost:8080/"
        },
        "id": "-b4-2I6amQyL",
        "outputId": "2a65d2d1-affd-4490-f1d9-c95e996553db"
      },
      "execution_count": null,
      "outputs": [
        {
          "output_type": "execute_result",
          "data": {
            "text/plain": [
              "array([1, 3])"
            ]
          },
          "metadata": {},
          "execution_count": 5
        }
      ]
    },
    {
      "cell_type": "code",
      "source": [
        "#Si no se le pasa algun índice de inicio es considerado 0\n",
        "print(a[:3])\n",
        "#Si no se le pasa algun índice de fin se considera hasta el final del array\n",
        "print(a[2:])"
      ],
      "metadata": {
        "colab": {
          "base_uri": "https://localhost:8080/"
        },
        "id": "xVhfj1jRmhN_",
        "outputId": "fee0d4fb-8980-49ff-ccf7-c1ad2b46c610"
      },
      "execution_count": null,
      "outputs": [
        {
          "output_type": "stream",
          "name": "stdout",
          "text": [
            "[0 1 2]\n",
            "[2 3 4]\n"
          ]
        }
      ]
    },
    {
      "cell_type": "code",
      "source": [
        "#Se puede utilizar una lista para seleccionar varios elementos del array\n",
        "select = [1, 3, 2]\n",
        "c = a[select]\n",
        "c"
      ],
      "metadata": {
        "colab": {
          "base_uri": "https://localhost:8080/"
        },
        "id": "PwcLQ8hJncSJ",
        "outputId": "75edcf67-1c98-4889-b046-45da456fd35c"
      },
      "execution_count": null,
      "outputs": [
        {
          "output_type": "execute_result",
          "data": {
            "text/plain": [
              "array([1, 3, 2])"
            ]
          },
          "metadata": {},
          "execution_count": 10
        }
      ]
    },
    {
      "cell_type": "code",
      "source": [
        "#Asignar un valor a los elementos especificados\n",
        "a[select] = 1000\n",
        "a"
      ],
      "metadata": {
        "colab": {
          "base_uri": "https://localhost:8080/"
        },
        "id": "gK-oBgxwoQVd",
        "outputId": "66337c05-5441-4db2-ae5b-ab4f2361c225"
      },
      "execution_count": null,
      "outputs": [
        {
          "output_type": "execute_result",
          "data": {
            "text/plain": [
              "array([   0, 1000, 1000, 1000,    4])"
            ]
          },
          "metadata": {},
          "execution_count": 11
        }
      ]
    },
    {
      "cell_type": "markdown",
      "source": [
        "Operaciones básicas\n",
        "\n",
        "Estas operaciones son usualmente más rápidas computacionalmente y requieren menos memoria en numpy comparado con un código regular de Python"
      ],
      "metadata": {
        "id": "hAgoNFn2yzyz"
      }
    },
    {
      "cell_type": "code",
      "source": [
        "#Suma de vectores con numpy\n",
        "#Es más sencillo y más rápido realizar una suma de vectores utilizando numpy\n",
        "#Esto es importante cuando se tienen arrays con muchos datos\n",
        "u = np.array([1, 0])\n",
        "v = np.array([0, 1])\n",
        "#np.add(u, v)\n",
        "z = u + v\n",
        "z"
      ],
      "metadata": {
        "colab": {
          "base_uri": "https://localhost:8080/"
        },
        "id": "jJbtY4GFydbP",
        "outputId": "afef38da-815d-4b1e-cbfc-09664256ac45"
      },
      "execution_count": null,
      "outputs": [
        {
          "output_type": "execute_result",
          "data": {
            "text/plain": [
              "array([1, 1])"
            ]
          },
          "metadata": {},
          "execution_count": 17
        }
      ]
    },
    {
      "cell_type": "code",
      "source": [
        "#Resta de vectores con numpy\n",
        "u = np.array([1, 0])\n",
        "v = np.array([0, 1])\n",
        "z = u - v\n",
        "#np.subtract(u, v)\n",
        "z"
      ],
      "metadata": {
        "colab": {
          "base_uri": "https://localhost:8080/"
        },
        "id": "iuNTGuwp0O03",
        "outputId": "be0a478c-2bae-4ed2-f2a6-4c93df29c857"
      },
      "execution_count": null,
      "outputs": [
        {
          "output_type": "execute_result",
          "data": {
            "text/plain": [
              "array([ 1, -1])"
            ]
          },
          "metadata": {},
          "execution_count": 18
        }
      ]
    },
    {
      "cell_type": "code",
      "source": [
        "#Multiplicación de un vector por un escalar\n",
        "#Esta operación solo requiere una línea de código con numpy\n",
        "y = np.array([1, 2])\n",
        "z = 2 * y\n",
        "#np.multiply(y, 2)\n",
        "z"
      ],
      "metadata": {
        "colab": {
          "base_uri": "https://localhost:8080/"
        },
        "id": "aBZLMFzz0jYR",
        "outputId": "2d72b063-d700-4b59-e3f8-6e9e174d0130"
      },
      "execution_count": null,
      "outputs": [
        {
          "output_type": "execute_result",
          "data": {
            "text/plain": [
              "array([2, 4])"
            ]
          },
          "metadata": {},
          "execution_count": 19
        }
      ]
    },
    {
      "cell_type": "code",
      "source": [
        "#Producto de Hadamard\n",
        "#Consiste en multiplicar los elementos que se encuentran en la misma posición en los dos vectores\n",
        "u = np.array([1, 2])\n",
        "v = np.array([3, 2])\n",
        "z = u * v\n",
        "z"
      ],
      "metadata": {
        "colab": {
          "base_uri": "https://localhost:8080/"
        },
        "id": "vW23Nn-n09qS",
        "outputId": "bf8752b7-b183-495e-e0cc-fcc0a9121162"
      },
      "execution_count": null,
      "outputs": [
        {
          "output_type": "execute_result",
          "data": {
            "text/plain": [
              "array([3, 4])"
            ]
          },
          "metadata": {},
          "execution_count": 20
        }
      ]
    },
    {
      "cell_type": "code",
      "source": [
        "#División entre elementos de array\n",
        "a = np.array([10, 20, 30])\n",
        "b = np.array([2, 10, 5])\n",
        "np.divide(a, b)"
      ],
      "metadata": {
        "colab": {
          "base_uri": "https://localhost:8080/"
        },
        "id": "KCDtF5UYsvVZ",
        "outputId": "c7228301-56e2-4d35-a81a-c8ac362de72c"
      },
      "execution_count": null,
      "outputs": [
        {
          "output_type": "execute_result",
          "data": {
            "text/plain": [
              "array([5., 2., 6.])"
            ]
          },
          "metadata": {},
          "execution_count": 23
        }
      ]
    },
    {
      "cell_type": "code",
      "source": [
        "#Producto punto utilizando numpy\n",
        "#Este producto es útil para verificar si dos vectores son perpendiculares\n",
        "#El resultado es una magnitud escalar\n",
        "u = np.array([1, 2])\n",
        "v = np.array([3, 2])\n",
        "z =  np.dot(u, v)\n",
        "z"
      ],
      "metadata": {
        "colab": {
          "base_uri": "https://localhost:8080/"
        },
        "id": "oNlGu4o32Qmu",
        "outputId": "c0e20578-d59f-4caa-9462-77e8408926d3"
      },
      "execution_count": null,
      "outputs": [
        {
          "output_type": "execute_result",
          "data": {
            "text/plain": [
              "7"
            ]
          },
          "metadata": {},
          "execution_count": 22
        }
      ]
    },
    {
      "cell_type": "code",
      "source": [
        "#Sumar una constante a un array de numpy\n",
        "u = np.array([1, 2, 3, -1]) \n",
        "z = u + 1 #La constante se le suma a cada elemento del array, esta propiedad es conocida como broadcasting\n",
        "z"
      ],
      "metadata": {
        "id": "sInAtBhB3Ih5",
        "colab": {
          "base_uri": "https://localhost:8080/"
        },
        "outputId": "ea7b5bad-77df-4ab0-82a8-8339e5a8cce1"
      },
      "execution_count": null,
      "outputs": [
        {
          "output_type": "execute_result",
          "data": {
            "text/plain": [
              "array([2, 3, 4, 0])"
            ]
          },
          "metadata": {},
          "execution_count": 23
        }
      ]
    },
    {
      "cell_type": "markdown",
      "source": [
        "Universal Functions\n",
        "\n",
        "Una universal function es una función que opera sobre los ndarrays"
      ],
      "metadata": {
        "id": "Ah8fifxfAG4n"
      }
    },
    {
      "cell_type": "code",
      "source": [
        "a = np.array([1, -1, 1, -1])\n",
        "mean_a = a.mean() #Con el método mean se puede obtener la media de un array\n",
        "mean_a"
      ],
      "metadata": {
        "colab": {
          "base_uri": "https://localhost:8080/"
        },
        "id": "zWN3dmk__-qE",
        "outputId": "ddeb2f56-dc53-4534-dd4f-c98ae8ef64b2"
      },
      "execution_count": null,
      "outputs": [
        {
          "output_type": "execute_result",
          "data": {
            "text/plain": [
              "0.0"
            ]
          },
          "metadata": {},
          "execution_count": 12
        }
      ]
    },
    {
      "cell_type": "code",
      "source": [
        "#Método para calcular la desviación estándar\n",
        "desv_est = a.std()\n",
        "desv_est"
      ],
      "metadata": {
        "colab": {
          "base_uri": "https://localhost:8080/"
        },
        "id": "IjQVUsnVp3Ma",
        "outputId": "7cb55cee-7906-4628-b93f-a23b0b1e9093"
      },
      "execution_count": null,
      "outputs": [
        {
          "output_type": "execute_result",
          "data": {
            "text/plain": [
              "1.0"
            ]
          },
          "metadata": {},
          "execution_count": 13
        }
      ]
    },
    {
      "cell_type": "code",
      "source": [
        "b = np.array([1, -2, 3, 4, 5])\n",
        "max_b = b.max() #Con este método se obtiene el máximo valor almacenado en el array\n",
        "max_b"
      ],
      "metadata": {
        "colab": {
          "base_uri": "https://localhost:8080/"
        },
        "id": "Gu5mEYC1AmnE",
        "outputId": "4b1937e9-29c5-4e85-adae-bdae799dd00c"
      },
      "execution_count": null,
      "outputs": [
        {
          "output_type": "execute_result",
          "data": {
            "text/plain": [
              "5"
            ]
          },
          "metadata": {},
          "execution_count": 24
        }
      ]
    },
    {
      "cell_type": "code",
      "source": [
        "#Se pueden utilizar numpy para crear funciones que asignan arrays de numpy a nuevos arrays de numpy\n",
        "np.pi\n",
        "x = np.array([0, np.pi/2, np.pi]) \n",
        "y = np.sin(x) #Se aplica el seno a cada valor almacenado en el array\n",
        "y"
      ],
      "metadata": {
        "colab": {
          "base_uri": "https://localhost:8080/"
        },
        "id": "y-02Dei0A7N_",
        "outputId": "e7392825-935d-4b13-d8c3-24cc71cf15b2"
      },
      "execution_count": null,
      "outputs": [
        {
          "output_type": "execute_result",
          "data": {
            "text/plain": [
              "array([0.0000000e+00, 1.0000000e+00, 1.2246468e-16])"
            ]
          },
          "metadata": {},
          "execution_count": 28
        }
      ]
    },
    {
      "cell_type": "code",
      "source": [
        "#linspace regresa un arreglo con números igualmente espaciados dado un intervalo definido y un número de elementos especificado\n",
        "np.linspace(-2, 2, num=5) #Regresa un arreglo con 5 elementos igualmente espaciados que van desde -2 a 2"
      ],
      "metadata": {
        "colab": {
          "base_uri": "https://localhost:8080/"
        },
        "id": "BYRF5X7qB3yE",
        "outputId": "c384257c-0cd0-4413-e4c6-beb281ed5a67"
      },
      "execution_count": null,
      "outputs": [
        {
          "output_type": "execute_result",
          "data": {
            "text/plain": [
              "array([-2., -1.,  0.,  1.,  2.])"
            ]
          },
          "metadata": {},
          "execution_count": 32
        }
      ]
    },
    {
      "cell_type": "code",
      "source": [
        "x = np.linspace(0, 2*np.pi, 100) #Genera un array con 100 muestras igualente espaciadas en el rango de 0 a 2*pi\n",
        "x"
      ],
      "metadata": {
        "colab": {
          "base_uri": "https://localhost:8080/"
        },
        "id": "NvUa3QuwCr3I",
        "outputId": "c5ef5f10-3c83-4fa8-b1b7-b8d89f883dd6"
      },
      "execution_count": null,
      "outputs": [
        {
          "output_type": "execute_result",
          "data": {
            "text/plain": [
              "array([0.        , 0.06346652, 0.12693304, 0.19039955, 0.25386607,\n",
              "       0.31733259, 0.38079911, 0.44426563, 0.50773215, 0.57119866,\n",
              "       0.63466518, 0.6981317 , 0.76159822, 0.82506474, 0.88853126,\n",
              "       0.95199777, 1.01546429, 1.07893081, 1.14239733, 1.20586385,\n",
              "       1.26933037, 1.33279688, 1.3962634 , 1.45972992, 1.52319644,\n",
              "       1.58666296, 1.65012947, 1.71359599, 1.77706251, 1.84052903,\n",
              "       1.90399555, 1.96746207, 2.03092858, 2.0943951 , 2.15786162,\n",
              "       2.22132814, 2.28479466, 2.34826118, 2.41172769, 2.47519421,\n",
              "       2.53866073, 2.60212725, 2.66559377, 2.72906028, 2.7925268 ,\n",
              "       2.85599332, 2.91945984, 2.98292636, 3.04639288, 3.10985939,\n",
              "       3.17332591, 3.23679243, 3.30025895, 3.36372547, 3.42719199,\n",
              "       3.4906585 , 3.55412502, 3.61759154, 3.68105806, 3.74452458,\n",
              "       3.8079911 , 3.87145761, 3.93492413, 3.99839065, 4.06185717,\n",
              "       4.12532369, 4.1887902 , 4.25225672, 4.31572324, 4.37918976,\n",
              "       4.44265628, 4.5061228 , 4.56958931, 4.63305583, 4.69652235,\n",
              "       4.75998887, 4.82345539, 4.88692191, 4.95038842, 5.01385494,\n",
              "       5.07732146, 5.14078798, 5.2042545 , 5.26772102, 5.33118753,\n",
              "       5.39465405, 5.45812057, 5.52158709, 5.58505361, 5.64852012,\n",
              "       5.71198664, 5.77545316, 5.83891968, 5.9023862 , 5.96585272,\n",
              "       6.02931923, 6.09278575, 6.15625227, 6.21971879, 6.28318531])"
            ]
          },
          "metadata": {},
          "execution_count": 15
        }
      ]
    },
    {
      "cell_type": "code",
      "source": [
        "import matplotlib.pyplot as plt #Librería útil para obtener gráficos en python\n",
        "y = np.sin(x)\n",
        "#%matplotlib inline se usa al trabajar con un jupyter notebook para mostrar la gráfica\n",
        "plt.plot(x, y)"
      ],
      "metadata": {
        "colab": {
          "base_uri": "https://localhost:8080/",
          "height": 282
        },
        "id": "fe-qCgIADWpE",
        "outputId": "9ab8cab1-2666-4ed8-89c7-3d5a7415f99c"
      },
      "execution_count": null,
      "outputs": [
        {
          "output_type": "execute_result",
          "data": {
            "text/plain": [
              "[<matplotlib.lines.Line2D at 0x7ff1d17fd790>]"
            ]
          },
          "metadata": {},
          "execution_count": 16
        },
        {
          "output_type": "display_data",
          "data": {
            "text/plain": [
              "<Figure size 432x288 with 1 Axes>"
            ],
            "image/png": "[encoded data removed]"
          },
          "metadata": {
            "needs_background": "light"
          }
        }
      ]
    },
    {
      "cell_type": "code",
      "source": [
        "print(np.__version__) #Muestra la versión de numpy instalada"
      ],
      "metadata": {
        "id": "XnXSyalQEkUQ",
        "colab": {
          "base_uri": "https://localhost:8080/"
        },
        "outputId": "d2d1ba59-d81f-4f54-b156-f788bb20cdd9"
      },
      "execution_count": null,
      "outputs": [
        {
          "output_type": "stream",
          "name": "stdout",
          "text": [
            "1.21.6\n"
          ]
        }
      ]
    },
    {
      "cell_type": "code",
      "source": [
        "def Plotvec1(u, z, v):\n",
        "    \n",
        "    ax = plt.axes() #Genera la ventana con los ejes para graficar\n",
        "    ax.arrow(0, 0, *u, head_width=0.05, color='r', head_length=0.1)# Agrega un gráfico de flecha al eje u con una anchura de la cabeza de la flecha de 0.05, de color rojo, y longitud de la punta de la flecha de 0.1\n",
        "    plt.text(*(u + 0.1), 'u')#Agrega el texto u a los ejes\n",
        "    \n",
        "    ax.arrow(0, 0, *v, head_width=0.05, color='b', head_length=0.1)# Agrega un gráfico de flecha al eje v con una anchura de la cabeza de la flecha de 0.05, de color azul, y longitud de la punta de la flecha de 0.1\n",
        "    plt.text(*(v + 0.1), 'v')#Agrega el texto v a los ejes \n",
        "    \n",
        "    ax.arrow(0, 0, *z, head_width=0.05, head_length=0.1)\n",
        "    plt.text(*(z + 0.1), 'z')#Agrega el texto z a los ejes \n",
        "    plt.ylim(-2, 2)#Establece el límite del eje y de -2 a 2\n",
        "    plt.xlim(-2, 2)#Establece el límite del eje x de -2 a 2"
      ],
      "metadata": {
        "id": "2Ulwmt81lWRf"
      },
      "execution_count": null,
      "outputs": []
    },
    {
      "cell_type": "code",
      "source": [
        "u = np.array([1,0])\n",
        "v = np.array([0,1])\n",
        "z = u + v\n",
        "Plotvec1(u, z, v)"
      ],
      "metadata": {
        "colab": {
          "base_uri": "https://localhost:8080/",
          "height": 269
        },
        "id": "UXr5I1cKqloZ",
        "outputId": "5ff9738e-5063-4a15-d75d-928c7f9ab620"
      },
      "execution_count": null,
      "outputs": [
        {
          "output_type": "display_data",
          "data": {
            "text/plain": [
              "<Figure size 432x288 with 1 Axes>"
            ],
            "image/png": "[encoded data removed]"
          },
          "metadata": {
            "needs_background": "light"
          }
        }
      ]
    },
    {
      "cell_type": "code",
      "source": [
        "#Se puede utilizar un for loop para iterar a lo largo de un array\n",
        "for element in b:\n",
        "  print(element)"
      ],
      "metadata": {
        "colab": {
          "base_uri": "https://localhost:8080/"
        },
        "id": "u2bVyQUdqnga",
        "outputId": "ad42be59-4411-405a-fea8-23a66a7d6823"
      },
      "execution_count": null,
      "outputs": [
        {
          "output_type": "stream",
          "name": "stdout",
          "text": [
            "1\n",
            "-2\n",
            "3\n",
            "4\n",
            "5\n"
          ]
        }
      ]
    },
    {
      "cell_type": "markdown",
      "source": [
        "##Numpy 2D Arrays"
      ],
      "metadata": {
        "id": "tOHer1Tei3_M"
      }
    },
    {
      "cell_type": "code",
      "source": [
        "a = [[11, 12, 13], [21, 22, 23], [31, 32, 33]] #Una nested list también puede ser definida como array de numpy\n",
        "#Cada nested list representa a una fila de la matriz\n",
        "matriz_A = np.array(a)\n",
        "matriz_A"
      ],
      "metadata": {
        "id": "3xTHoJZ_tlga",
        "colab": {
          "base_uri": "https://localhost:8080/"
        },
        "outputId": "24865efa-c85c-47e0-a357-4bb0f5eac3d9"
      },
      "execution_count": null,
      "outputs": [
        {
          "output_type": "execute_result",
          "data": {
            "text/plain": [
              "array([[11, 12, 13],\n",
              "       [21, 22, 23],\n",
              "       [31, 32, 33]])"
            ]
          },
          "metadata": {},
          "execution_count": 3
        }
      ]
    },
    {
      "cell_type": "code",
      "source": [
        "matriz_A.ndim #Para obtener el número de dimensiones de la matriz"
      ],
      "metadata": {
        "colab": {
          "base_uri": "https://localhost:8080/"
        },
        "id": "VxhAzDJLjVU5",
        "outputId": "ff872165-3a1c-4422-9d1c-f6bd98a26782"
      },
      "execution_count": null,
      "outputs": [
        {
          "output_type": "execute_result",
          "data": {
            "text/plain": [
              "2"
            ]
          },
          "metadata": {},
          "execution_count": 4
        }
      ]
    },
    {
      "cell_type": "code",
      "source": [
        "matriz_A.shape #El atributo shape regresa una tupla indicando renglones y columnas del array\n",
        "#axis 0 hace referencia a los renglones y axis 1 hace referencia a las columnas"
      ],
      "metadata": {
        "colab": {
          "base_uri": "https://localhost:8080/"
        },
        "id": "dxfqx5xpj7bi",
        "outputId": "97412b9c-1b19-4fee-beeb-1892c37d45ab"
      },
      "execution_count": null,
      "outputs": [
        {
          "output_type": "execute_result",
          "data": {
            "text/plain": [
              "(3, 3)"
            ]
          },
          "metadata": {},
          "execution_count": 5
        }
      ]
    },
    {
      "cell_type": "code",
      "source": [
        "matriz_A.size #Regresa el número de elementos que tiene el array"
      ],
      "metadata": {
        "colab": {
          "base_uri": "https://localhost:8080/"
        },
        "id": "31zCqCxMkNN1",
        "outputId": "b0909795-13f2-40ed-e37b-c4cdc5f59a8f"
      },
      "execution_count": null,
      "outputs": [
        {
          "output_type": "execute_result",
          "data": {
            "text/plain": [
              "9"
            ]
          },
          "metadata": {},
          "execution_count": 6
        }
      ]
    },
    {
      "cell_type": "code",
      "source": [
        "#Se utilizan dobles corchetes para acceder a los elementos de un array de 2 dimensiones\n",
        "#Se puede decir que el primer índice hace referencia al renglón y el segundo índice hace referencia a la columna\n",
        "#Existen dos sintaxis para acceder a estos elementos\n",
        "matriz_A[0][1], matriz_A[0,1]"
      ],
      "metadata": {
        "colab": {
          "base_uri": "https://localhost:8080/"
        },
        "id": "GT2oy0rJkqAu",
        "outputId": "fd534015-2274-4857-fc14-e527b34db186"
      },
      "execution_count": null,
      "outputs": [
        {
          "output_type": "execute_result",
          "data": {
            "text/plain": [
              "(12, 12)"
            ]
          },
          "metadata": {},
          "execution_count": 7
        }
      ]
    },
    {
      "cell_type": "code",
      "source": [
        "matriz_A[0,0:2] #Para esta sintaxis de slice, el primer elemento indica el renglon y el segundo elemento las columnas"
      ],
      "metadata": {
        "colab": {
          "base_uri": "https://localhost:8080/"
        },
        "id": "HKVeenzGlwwy",
        "outputId": "b2f511c0-6c90-461a-8ee2-088e7c2b77b6"
      },
      "execution_count": null,
      "outputs": [
        {
          "output_type": "execute_result",
          "data": {
            "text/plain": [
              "array([11, 12])"
            ]
          },
          "metadata": {},
          "execution_count": 11
        }
      ]
    },
    {
      "cell_type": "code",
      "source": [
        "m_X = np.array([[1, 0],[0, 1]]) #La suma de dos arrays 2D se realiza de la misma manera que una suma de matrices\n",
        "m_Y = np.array([[2, 1],[1, 2]])\n",
        "m_X + m_Y"
      ],
      "metadata": {
        "colab": {
          "base_uri": "https://localhost:8080/"
        },
        "id": "gUo07nn-mPYQ",
        "outputId": "25ec5e63-4757-4a51-c2b3-d097f3a071c6"
      },
      "execution_count": null,
      "outputs": [
        {
          "output_type": "execute_result",
          "data": {
            "text/plain": [
              "array([[3, 1],\n",
              "       [1, 3]])"
            ]
          },
          "metadata": {},
          "execution_count": 12
        }
      ]
    },
    {
      "cell_type": "code",
      "source": [
        "#Multiplicación de un array por un escalar, se obtiene el mismo resultado que al multiplicar una matriz por un escalar\n",
        "m_Z = 2 * m_Y\n",
        "m_Z"
      ],
      "metadata": {
        "colab": {
          "base_uri": "https://localhost:8080/"
        },
        "id": "7U-tCxT-nXzv",
        "outputId": "4882615e-6f3b-4f3e-a029-463b51680b14"
      },
      "execution_count": null,
      "outputs": [
        {
          "output_type": "execute_result",
          "data": {
            "text/plain": [
              "array([[4, 2],\n",
              "       [2, 4]])"
            ]
          },
          "metadata": {},
          "execution_count": 13
        }
      ]
    },
    {
      "cell_type": "code",
      "source": [
        "#Producto de Hadamard\n",
        "#Consiste en multiplicar los elementos que se encuentran en la misma posición en las dos matrices\n",
        "m_Z = m_X * m_Y\n",
        "m_Z"
      ],
      "metadata": {
        "colab": {
          "base_uri": "https://localhost:8080/"
        },
        "id": "1PNuS80InwJs",
        "outputId": "24c65227-7191-46e6-cb93-8ee0eea23062"
      },
      "execution_count": null,
      "outputs": [
        {
          "output_type": "execute_result",
          "data": {
            "text/plain": [
              "array([[2, 0],\n",
              "       [0, 2]])"
            ]
          },
          "metadata": {},
          "execution_count": 14
        }
      ]
    },
    {
      "cell_type": "code",
      "source": [
        "#Multiplicación de matrices\n",
        "#Se realiza con la función dot y se obtiene el mismo resultado que al realizar la multiplicación de matrices\n",
        "m_A = np.array([[0, 1, 1], [1, 0, 1]])\n",
        "m_B = np.array([[1, 1], [1, 1], [-1, 1]])\n",
        "m_C = np.dot(m_A, m_B)\n",
        "m_C"
      ],
      "metadata": {
        "colab": {
          "base_uri": "https://localhost:8080/"
        },
        "id": "HKkAggdWoGfx",
        "outputId": "16e5540f-8c92-4b5c-93d8-057c85b1fe78"
      },
      "execution_count": null,
      "outputs": [
        {
          "output_type": "execute_result",
          "data": {
            "text/plain": [
              "array([[0, 2],\n",
              "       [0, 2]])"
            ]
          },
          "metadata": {},
          "execution_count": 15
        }
      ]
    },
    {
      "cell_type": "code",
      "source": [
        "#Se pueden aplicar funciones matemáticas a todos los elementos de una matriz\n",
        "np.sin(m_C)\n",
        "#El resultado es una matriz y a todos los elementos se les aplicó la función seno"
      ],
      "metadata": {
        "colab": {
          "base_uri": "https://localhost:8080/"
        },
        "id": "oTZ0ceJAsyGa",
        "outputId": "619d22dc-6876-4774-8a72-8e08d6e4dfbb"
      },
      "execution_count": null,
      "outputs": [
        {
          "output_type": "execute_result",
          "data": {
            "text/plain": [
              "array([[0.        , 0.90929743],\n",
              "       [0.        , 0.90929743]])"
            ]
          },
          "metadata": {},
          "execution_count": 16
        }
      ]
    },
    {
      "cell_type": "code",
      "source": [
        "#Con el atributo T se puede obtener la transpuesta de una matriz\n",
        "m_C.T"
      ],
      "metadata": {
        "colab": {
          "base_uri": "https://localhost:8080/"
        },
        "id": "Hk_sEaLKvSZq",
        "outputId": "0da36a56-c328-418a-af00-1323ea3eb4fd"
      },
      "execution_count": null,
      "outputs": [
        {
          "output_type": "execute_result",
          "data": {
            "text/plain": [
              "array([[0, 0],\n",
              "       [2, 2]])"
            ]
          },
          "metadata": {},
          "execution_count": 17
        }
      ]
    },
    {
      "cell_type": "markdown",
      "source": [
        "##Application Program Interfaces (APIs)"
      ],
      "metadata": {
        "id": "RcXeH-v2wRrn"
      }
    },
    {
      "cell_type": "markdown",
      "source": [
        "Una API permite que dos piezas de software se comuniquen entre ellas  \n",
        "Se utiliza el API de pandas para procesar los datos al comunicarse con otros componentes del programa.  \n",
        "Los REST APIs son otro tipo de APIs, estos permiten comunicarse a través de internet para acceder a más recursos para un programa.  \n",
        "En los REST APIs el programa es llamado cliente, el API se comunica con un servicio web que se solicita a través de internet.  \n",
        "Existen una serie de reglas con respecto a:\n",
        "\n",
        "\n",
        "1.   Comunicación\n",
        "2.   Entrada o solicitud\n",
        "3.   Salida o respuesta\n",
        "\n",
        "Se solicita información a un API a través de una solicitud enviada comúnmente por un mensaje HTTP. Este mensaje contiene usualmente un archivo JSON con las instrucciones que se desean que ejecute el servicio. El servicio regresa una respuesta a través de un mensaje HTTP con la información contenida en un archivo JSON"
      ],
      "metadata": {
        "id": "n7h7BA4dwaWo"
      }
    },
    {
      "cell_type": "code",
      "source": [
        "!pip install nba_api #Para utilizar un API es necesario instalar el paquete necesario con pip\n",
        "from nba_api.stats.static import teams"
      ],
      "metadata": {
        "colab": {
          "base_uri": "https://localhost:8080/"
        },
        "id": "F9hMg90svout",
        "outputId": "92fbeabc-a7b3-4ef8-c9ea-c36ea81a1ee3"
      },
      "execution_count": null,
      "outputs": [
        {
          "output_type": "stream",
          "name": "stdout",
          "text": [
            "Looking in indexes: https://pypi.org/simple, https://us-python.pkg.dev/colab-wheels/public/simple/\n",
            "Collecting nba_api\n",
            "  Downloading nba_api-1.1.11.tar.gz (125 kB)\n",
            "\u001b[K     |████████████████████████████████| 125 kB 8.4 MB/s \n",
            "\u001b[?25hRequirement already satisfied: requests in /usr/local/lib/python3.7/dist-packages (from nba_api) (2.23.0)\n",
            "Requirement already satisfied: chardet<4,>=3.0.2 in /usr/local/lib/python3.7/dist-packages (from requests->nba_api) (3.0.4)\n",
            "Requirement already satisfied: urllib3!=1.25.0,!=1.25.1,<1.26,>=1.21.1 in /usr/local/lib/python3.7/dist-packages (from requests->nba_api) (1.24.3)\n",
            "Requirement already satisfied: certifi>=2017.4.17 in /usr/local/lib/python3.7/dist-packages (from requests->nba_api) (2022.6.15)\n",
            "Requirement already satisfied: idna<3,>=2.5 in /usr/local/lib/python3.7/dist-packages (from requests->nba_api) (2.10)\n",
            "Building wheels for collected packages: nba-api\n",
            "  Building wheel for nba-api (setup.py) ... \u001b[?25l\u001b[?25hdone\n",
            "  Created wheel for nba-api: filename=nba_api-1.1.11-py3-none-any.whl size=251504 sha256=30c82cd5817d65a50f849eac2e3aad2f29d173ed754c212191d968832d742182\n",
            "  Stored in directory: /root/.cache/pip/wheels/e3/f4/46/996128675381abc175e306642bae575d372dcf7efc4683e551\n",
            "Successfully built nba-api\n",
            "Installing collected packages: nba-api\n",
            "Successfully installed nba-api-1.1.11\n"
          ]
        }
      ]
    },
    {
      "cell_type": "code",
      "source": [
        "nba_teams = teams.get_teams() #Este método regresa una lista de diccionarios que tienen las mismas llaves pero los valores dependen de cada equipo\n",
        "nba_teams[0:5]"
      ],
      "metadata": {
        "colab": {
          "base_uri": "https://localhost:8080/"
        },
        "id": "65zRoLdy1N9A",
        "outputId": "72990462-ccee-430d-a601-c9b1243a54e3"
      },
      "execution_count": null,
      "outputs": [
        {
          "output_type": "execute_result",
          "data": {
            "text/plain": [
              "[{'id': 1610612737,\n",
              "  'full_name': 'Atlanta Hawks',\n",
              "  'abbreviation': 'ATL',\n",
              "  'nickname': 'Hawks',\n",
              "  'city': 'Atlanta',\n",
              "  'state': 'Atlanta',\n",
              "  'year_founded': 1949},\n",
              " {'id': 1610612738,\n",
              "  'full_name': 'Boston Celtics',\n",
              "  'abbreviation': 'BOS',\n",
              "  'nickname': 'Celtics',\n",
              "  'city': 'Boston',\n",
              "  'state': 'Massachusetts',\n",
              "  'year_founded': 1946},\n",
              " {'id': 1610612739,\n",
              "  'full_name': 'Cleveland Cavaliers',\n",
              "  'abbreviation': 'CLE',\n",
              "  'nickname': 'Cavaliers',\n",
              "  'city': 'Cleveland',\n",
              "  'state': 'Ohio',\n",
              "  'year_founded': 1970},\n",
              " {'id': 1610612740,\n",
              "  'full_name': 'New Orleans Pelicans',\n",
              "  'abbreviation': 'NOP',\n",
              "  'nickname': 'Pelicans',\n",
              "  'city': 'New Orleans',\n",
              "  'state': 'Louisiana',\n",
              "  'year_founded': 2002},\n",
              " {'id': 1610612741,\n",
              "  'full_name': 'Chicago Bulls',\n",
              "  'abbreviation': 'CHI',\n",
              "  'nickname': 'Bulls',\n",
              "  'city': 'Chicago',\n",
              "  'state': 'Illinois',\n",
              "  'year_founded': 1966}]"
            ]
          },
          "metadata": {},
          "execution_count": 20
        }
      ]
    },
    {
      "cell_type": "code",
      "source": [
        "#Convertir el diccionario a una tabla para visualizar mejor los datos y poder trabajar con pandas\n",
        "def one_dict(list_dict):\n",
        "  keys = list_dict[0].keys()\n",
        "  out_dict = {key:[] for key in keys}\n",
        "  for dict_ in list_dict:\n",
        "    for key, value in dict_.items():\n",
        "      out_dict[key].append(value)\n",
        "  return out_dict\n",
        "\n",
        "dict_nba_team = one_dict(nba_teams)"
      ],
      "metadata": {
        "id": "DTs6Ypo_34gF"
      },
      "execution_count": null,
      "outputs": []
    },
    {
      "cell_type": "code",
      "source": [
        "import pandas as pd #Se importa pandas para poder convertir el diccionario a un data frame\n",
        "df_teams = pd.DataFrame(dict_nba_team)\n",
        "df_teams.head() #Se muestran las primeras 5 filas del dataframe"
      ],
      "metadata": {
        "colab": {
          "base_uri": "https://localhost:8080/",
          "height": 206
        },
        "id": "jksNH_Bh40xU",
        "outputId": "82a96185-6885-4feb-97bc-a672a95d0122"
      },
      "execution_count": null,
      "outputs": [
        {
          "output_type": "execute_result",
          "data": {
            "text/plain": [
              "           id             full_name abbreviation   nickname         city  \\\n",
              "0  1610612737         Atlanta Hawks          ATL      Hawks      Atlanta   \n",
              "1  1610612738        Boston Celtics          BOS    Celtics       Boston   \n",
              "2  1610612739   Cleveland Cavaliers          CLE  Cavaliers    Cleveland   \n",
              "3  1610612740  New Orleans Pelicans          NOP   Pelicans  New Orleans   \n",
              "4  1610612741         Chicago Bulls          CHI      Bulls      Chicago   \n",
              "\n",
              "           state  year_founded  \n",
              "0        Atlanta          1949  \n",
              "1  Massachusetts          1946  \n",
              "2           Ohio          1970  \n",
              "3      Louisiana          2002  \n",
              "4       Illinois          1966  "
            ],
            "text/html": [
              "\n",
              "  <div id=\"df-6ebaa6b3-c2df-47da-a908-f5b16405443a\">\n",
              "    <div class=\"colab-df-container\">\n",
              "      <div>\n",
              "<style scoped>\n",
              "    .dataframe tbody tr th:only-of-type {\n",
              "        vertical-align: middle;\n",
              "    }\n",
              "\n",
              "    .dataframe tbody tr th {\n",
              "        vertical-align: top;\n",
              "    }\n",
              "\n",
              "    .dataframe thead th {\n",
              "        text-align: right;\n",
              "    }\n",
              "</style>\n",
              "<table border=\"1\" class=\"dataframe\">\n",
              "  <thead>\n",
              "    <tr style=\"text-align: right;\">\n",
              "      <th></th>\n",
              "      <th>id</th>\n",
              "      <th>full_name</th>\n",
              "      <th>abbreviation</th>\n",
              "      <th>nickname</th>\n",
              "      <th>city</th>\n",
              "      <th>state</th>\n",
              "      <th>year_founded</th>\n",
              "    </tr>\n",
              "  </thead>\n",
              "  <tbody>\n",
              "    <tr>\n",
              "      <th>0</th>\n",
              "      <td>1610612737</td>\n",
              "      <td>Atlanta Hawks</td>\n",
              "      <td>ATL</td>\n",
              "      <td>Hawks</td>\n",
              "      <td>Atlanta</td>\n",
              "      <td>Atlanta</td>\n",
              "      <td>1949</td>\n",
              "    </tr>\n",
              "    <tr>\n",
              "      <th>1</th>\n",
              "      <td>1610612738</td>\n",
              "      <td>Boston Celtics</td>\n",
              "      <td>BOS</td>\n",
              "      <td>Celtics</td>\n",
              "      <td>Boston</td>\n",
              "      <td>Massachusetts</td>\n",
              "      <td>1946</td>\n",
              "    </tr>\n",
              "    <tr>\n",
              "      <th>2</th>\n",
              "      <td>1610612739</td>\n",
              "      <td>Cleveland Cavaliers</td>\n",
              "      <td>CLE</td>\n",
              "      <td>Cavaliers</td>\n",
              "      <td>Cleveland</td>\n",
              "      <td>Ohio</td>\n",
              "      <td>1970</td>\n",
              "    </tr>\n",
              "    <tr>\n",
              "      <th>3</th>\n",
              "      <td>1610612740</td>\n",
              "      <td>New Orleans Pelicans</td>\n",
              "      <td>NOP</td>\n",
              "      <td>Pelicans</td>\n",
              "      <td>New Orleans</td>\n",
              "      <td>Louisiana</td>\n",
              "      <td>2002</td>\n",
              "    </tr>\n",
              "    <tr>\n",
              "      <th>4</th>\n",
              "      <td>1610612741</td>\n",
              "      <td>Chicago Bulls</td>\n",
              "      <td>CHI</td>\n",
              "      <td>Bulls</td>\n",
              "      <td>Chicago</td>\n",
              "      <td>Illinois</td>\n",
              "      <td>1966</td>\n",
              "    </tr>\n",
              "  </tbody>\n",
              "</table>\n",
              "</div>\n",
              "      <button class=\"colab-df-convert\" onclick=\"convertToInteractive('df-6ebaa6b3-c2df-47da-a908-f5b16405443a')\"\n",
              "              title=\"Convert this dataframe to an interactive table.\"\n",
              "              style=\"display:none;\">\n",
              "        \n",
              "  <svg xmlns=\"http://www.w3.org/2000/svg\" height=\"24px\"viewBox=\"0 0 24 24\"\n",
              "       width=\"24px\">\n",
              "    <path d=\"M0 0h24v24H0V0z\" fill=\"none\"/>\n",
              "    <path d=\"M18.56 5.44l.94 2.06.94-2.06 2.06-.94-2.06-.94-.94-2.06-.94 2.06-2.06.94zm-11 1L8.5 8.5l.94-2.06 2.06-.94-2.06-.94L8.5 2.5l-.94 2.06-2.06.94zm10 10l.94 2.06.94-2.06 2.06-.94-2.06-.94-.94-2.06-.94 2.06-2.06.94z\"/><path d=\"M17.41 7.96l-1.37-1.37c-.4-.4-.92-.59-1.43-.59-.52 0-1.04.2-1.43.59L10.3 9.45l-7.72 7.72c-.78.78-.78 2.05 0 2.83L4 21.41c.39.39.9.59 1.41.59.51 0 1.02-.2 1.41-.59l7.78-7.78 2.81-2.81c.8-.78.8-2.07 0-2.86zM5.41 20L4 18.59l7.72-7.72 1.47 1.35L5.41 20z\"/>\n",
              "  </svg>\n",
              "      </button>\n",
              "      \n",
              "  <style>\n",
              "    .colab-df-container {\n",
              "      display:flex;\n",
              "      flex-wrap:wrap;\n",
              "      gap: 12px;\n",
              "    }\n",
              "\n",
              "    .colab-df-convert {\n",
              "      background-color: #E8F0FE;\n",
              "      border: none;\n",
              "      border-radius: 50%;\n",
              "      cursor: pointer;\n",
              "      display: none;\n",
              "      fill: #1967D2;\n",
              "      height: 32px;\n",
              "      padding: 0 0 0 0;\n",
              "      width: 32px;\n",
              "    }\n",
              "\n",
              "    .colab-df-convert:hover {\n",
              "      background-color: #E2EBFA;\n",
              "      box-shadow: 0px 1px 2px rgba(60, 64, 67, 0.3), 0px 1px 3px 1px rgba(60, 64, 67, 0.15);\n",
              "      fill: #174EA6;\n",
              "    }\n",
              "\n",
              "    [theme=dark] .colab-df-convert {\n",
              "      background-color: #3B4455;\n",
              "      fill: #D2E3FC;\n",
              "    }\n",
              "\n",
              "    [theme=dark] .colab-df-convert:hover {\n",
              "      background-color: #434B5C;\n",
              "      box-shadow: 0px 1px 3px 1px rgba(0, 0, 0, 0.15);\n",
              "      filter: drop-shadow(0px 1px 2px rgba(0, 0, 0, 0.3));\n",
              "      fill: #FFFFFF;\n",
              "    }\n",
              "  </style>\n",
              "\n",
              "      <script>\n",
              "        const buttonEl =\n",
              "          document.querySelector('#df-6ebaa6b3-c2df-47da-a908-f5b16405443a button.colab-df-convert');\n",
              "        buttonEl.style.display =\n",
              "          google.colab.kernel.accessAllowed ? 'block' : 'none';\n",
              "\n",
              "        async function convertToInteractive(key) {\n",
              "          const element = document.querySelector('#df-6ebaa6b3-c2df-47da-a908-f5b16405443a');\n",
              "          const dataTable =\n",
              "            await google.colab.kernel.invokeFunction('convertToInteractive',\n",
              "                                                     [key], {});\n",
              "          if (!dataTable) return;\n",
              "\n",
              "          const docLinkHtml = 'Like what you see? Visit the ' +\n",
              "            '<a target=\"_blank\" href=https://colab.research.google.com/notebooks/data_table.ipynb>data table notebook</a>'\n",
              "            + ' to learn more about interactive tables.';\n",
              "          element.innerHTML = '';\n",
              "          dataTable['output_type'] = 'display_data';\n",
              "          await google.colab.output.renderOutput(dataTable, element);\n",
              "          const docLink = document.createElement('div');\n",
              "          docLink.innerHTML = docLinkHtml;\n",
              "          element.appendChild(docLink);\n",
              "        }\n",
              "      </script>\n",
              "    </div>\n",
              "  </div>\n",
              "  "
            ]
          },
          "metadata": {},
          "execution_count": 22
        }
      ]
    },
    {
      "cell_type": "code",
      "source": [
        "df_warriors = df_teams[df_teams['nickname']=='Warriors'] #Para obtener una sección específica del data frame\n",
        "df_warriors"
      ],
      "metadata": {
        "colab": {
          "base_uri": "https://localhost:8080/",
          "height": 81
        },
        "id": "aMaONxpW5Fxg",
        "outputId": "cb090096-e583-4ab3-ed6c-1d0640638d67"
      },
      "execution_count": null,
      "outputs": [
        {
          "output_type": "execute_result",
          "data": {
            "text/plain": [
              "           id              full_name abbreviation  nickname          city  \\\n",
              "7  1610612744  Golden State Warriors          GSW  Warriors  Golden State   \n",
              "\n",
              "        state  year_founded  \n",
              "7  California          1946  "
            ],
            "text/html": [
              "\n",
              "  <div id=\"df-9b2861e9-b01f-460e-88c1-b0bb3918b882\">\n",
              "    <div class=\"colab-df-container\">\n",
              "      <div>\n",
              "<style scoped>\n",
              "    .dataframe tbody tr th:only-of-type {\n",
              "        vertical-align: middle;\n",
              "    }\n",
              "\n",
              "    .dataframe tbody tr th {\n",
              "        vertical-align: top;\n",
              "    }\n",
              "\n",
              "    .dataframe thead th {\n",
              "        text-align: right;\n",
              "    }\n",
              "</style>\n",
              "<table border=\"1\" class=\"dataframe\">\n",
              "  <thead>\n",
              "    <tr style=\"text-align: right;\">\n",
              "      <th></th>\n",
              "      <th>id</th>\n",
              "      <th>full_name</th>\n",
              "      <th>abbreviation</th>\n",
              "      <th>nickname</th>\n",
              "      <th>city</th>\n",
              "      <th>state</th>\n",
              "      <th>year_founded</th>\n",
              "    </tr>\n",
              "  </thead>\n",
              "  <tbody>\n",
              "    <tr>\n",
              "      <th>7</th>\n",
              "      <td>1610612744</td>\n",
              "      <td>Golden State Warriors</td>\n",
              "      <td>GSW</td>\n",
              "      <td>Warriors</td>\n",
              "      <td>Golden State</td>\n",
              "      <td>California</td>\n",
              "      <td>1946</td>\n",
              "    </tr>\n",
              "  </tbody>\n",
              "</table>\n",
              "</div>\n",
              "      <button class=\"colab-df-convert\" onclick=\"convertToInteractive('df-9b2861e9-b01f-460e-88c1-b0bb3918b882')\"\n",
              "              title=\"Convert this dataframe to an interactive table.\"\n",
              "              style=\"display:none;\">\n",
              "        \n",
              "  <svg xmlns=\"http://www.w3.org/2000/svg\" height=\"24px\"viewBox=\"0 0 24 24\"\n",
              "       width=\"24px\">\n",
              "    <path d=\"M0 0h24v24H0V0z\" fill=\"none\"/>\n",
              "    <path d=\"M18.56 5.44l.94 2.06.94-2.06 2.06-.94-2.06-.94-.94-2.06-.94 2.06-2.06.94zm-11 1L8.5 8.5l.94-2.06 2.06-.94-2.06-.94L8.5 2.5l-.94 2.06-2.06.94zm10 10l.94 2.06.94-2.06 2.06-.94-2.06-.94-.94-2.06-.94 2.06-2.06.94z\"/><path d=\"M17.41 7.96l-1.37-1.37c-.4-.4-.92-.59-1.43-.59-.52 0-1.04.2-1.43.59L10.3 9.45l-7.72 7.72c-.78.78-.78 2.05 0 2.83L4 21.41c.39.39.9.59 1.41.59.51 0 1.02-.2 1.41-.59l7.78-7.78 2.81-2.81c.8-.78.8-2.07 0-2.86zM5.41 20L4 18.59l7.72-7.72 1.47 1.35L5.41 20z\"/>\n",
              "  </svg>\n",
              "      </button>\n",
              "      \n",
              "  <style>\n",
              "    .colab-df-container {\n",
              "      display:flex;\n",
              "      flex-wrap:wrap;\n",
              "      gap: 12px;\n",
              "    }\n",
              "\n",
              "    .colab-df-convert {\n",
              "      background-color: #E8F0FE;\n",
              "      border: none;\n",
              "      border-radius: 50%;\n",
              "      cursor: pointer;\n",
              "      display: none;\n",
              "      fill: #1967D2;\n",
              "      height: 32px;\n",
              "      padding: 0 0 0 0;\n",
              "      width: 32px;\n",
              "    }\n",
              "\n",
              "    .colab-df-convert:hover {\n",
              "      background-color: #E2EBFA;\n",
              "      box-shadow: 0px 1px 2px rgba(60, 64, 67, 0.3), 0px 1px 3px 1px rgba(60, 64, 67, 0.15);\n",
              "      fill: #174EA6;\n",
              "    }\n",
              "\n",
              "    [theme=dark] .colab-df-convert {\n",
              "      background-color: #3B4455;\n",
              "      fill: #D2E3FC;\n",
              "    }\n",
              "\n",
              "    [theme=dark] .colab-df-convert:hover {\n",
              "      background-color: #434B5C;\n",
              "      box-shadow: 0px 1px 3px 1px rgba(0, 0, 0, 0.15);\n",
              "      filter: drop-shadow(0px 1px 2px rgba(0, 0, 0, 0.3));\n",
              "      fill: #FFFFFF;\n",
              "    }\n",
              "  </style>\n",
              "\n",
              "      <script>\n",
              "        const buttonEl =\n",
              "          document.querySelector('#df-9b2861e9-b01f-460e-88c1-b0bb3918b882 button.colab-df-convert');\n",
              "        buttonEl.style.display =\n",
              "          google.colab.kernel.accessAllowed ? 'block' : 'none';\n",
              "\n",
              "        async function convertToInteractive(key) {\n",
              "          const element = document.querySelector('#df-9b2861e9-b01f-460e-88c1-b0bb3918b882');\n",
              "          const dataTable =\n",
              "            await google.colab.kernel.invokeFunction('convertToInteractive',\n",
              "                                                     [key], {});\n",
              "          if (!dataTable) return;\n",
              "\n",
              "          const docLinkHtml = 'Like what you see? Visit the ' +\n",
              "            '<a target=\"_blank\" href=https://colab.research.google.com/notebooks/data_table.ipynb>data table notebook</a>'\n",
              "            + ' to learn more about interactive tables.';\n",
              "          element.innerHTML = '';\n",
              "          dataTable['output_type'] = 'display_data';\n",
              "          await google.colab.output.renderOutput(dataTable, element);\n",
              "          const docLink = document.createElement('div');\n",
              "          docLink.innerHTML = docLinkHtml;\n",
              "          element.appendChild(docLink);\n",
              "        }\n",
              "      </script>\n",
              "    </div>\n",
              "  </div>\n",
              "  "
            ]
          },
          "metadata": {},
          "execution_count": 23
        }
      ]
    },
    {
      "cell_type": "code",
      "source": [
        "id_warriors = df_warriors[['id']].values[0][0]"
      ],
      "metadata": {
        "id": "Eso8w9IT6NR8"
      },
      "execution_count": null,
      "outputs": []
    },
    {
      "cell_type": "code",
      "source": [
        "from nba_api.stats.endpoints import leaguegamefinder #La función leaguegamefinder hace una llamada API\n",
        "gamefinder = leaguegamefinder.LeagueGameFinder(team_id_nullable=id_warriors) #La API de la nba está haciendo una solicitud HTTP a la página de la nba\n",
        "#La información es obtenida y transmitida via una respuesta HTTP y esta información es asignada al objeto gamefinder\n",
        "games = gamefinder.get_data_frames()[0] #El objeto gamefinder tiene un método get_data_frames que regresa un data frame\n",
        "games.head()"
      ],
      "metadata": {
        "colab": {
          "base_uri": "https://localhost:8080/",
          "height": 235
        },
        "id": "Z1xQxv4Y5Y9W",
        "outputId": "683edc3b-c22f-444e-e7d8-c1bb2827e714"
      },
      "execution_count": null,
      "outputs": [
        {
          "output_type": "execute_result",
          "data": {
            "text/plain": [
              "  SEASON_ID     TEAM_ID TEAM_ABBREVIATION              TEAM_NAME     GAME_ID  \\\n",
              "0     12022  1610612744               GSW  Golden State Warriors  0012200004   \n",
              "1     12022  1610612744               GSW  Golden State Warriors  0012200001   \n",
              "2     22022  1610612744               GSW  Golden State Warriors  1522200074   \n",
              "3     22022  1610612744               GSW  Golden State Warriors  1522200056   \n",
              "4     22022  1610612744               GSW  Golden State Warriors  1522200035   \n",
              "\n",
              "    GAME_DATE      MATCHUP WL  MIN  PTS  ...  FT_PCT  OREB  DREB   REB  AST  \\\n",
              "0  2022-10-02  GSW vs. WAS  W  240  104  ...   0.667  11.0  36.0  47.0   29   \n",
              "1  2022-09-30    GSW @ WAS  W  239   96  ...   0.775  10.0  52.0  62.0   18   \n",
              "2  2022-07-17  GSW vs. WAS  L  201   77  ...   0.667  12.0  33.0  45.0   15   \n",
              "3  2022-07-15  GSW vs. OKC  L  202   82  ...   0.667   4.0  31.0  35.0   14   \n",
              "4  2022-07-12  GSW vs. BOS  L  199   92  ...   0.667  16.0  22.0  38.0   14   \n",
              "\n",
              "   STL  BLK  TOV  PF  PLUS_MINUS  \n",
              "0    6    5   22  25         9.0  \n",
              "1    6    3   17  27         9.0  \n",
              "2    6    6   21  20       -10.0  \n",
              "3    7    3   16  23        -8.0  \n",
              "4    7    8   13  23       -18.4  \n",
              "\n",
              "[5 rows x 28 columns]"
            ],
            "text/html": [
              "\n",
              "  <div id=\"df-917150d5-d80d-4a31-85da-2bba880b2d55\">\n",
              "    <div class=\"colab-df-container\">\n",
              "      <div>\n",
              "<style scoped>\n",
              "    .dataframe tbody tr th:only-of-type {\n",
              "        vertical-align: middle;\n",
              "    }\n",
              "\n",
              "    .dataframe tbody tr th {\n",
              "        vertical-align: top;\n",
              "    }\n",
              "\n",
              "    .dataframe thead th {\n",
              "        text-align: right;\n",
              "    }\n",
              "</style>\n",
              "<table border=\"1\" class=\"dataframe\">\n",
              "  <thead>\n",
              "    <tr style=\"text-align: right;\">\n",
              "      <th></th>\n",
              "      <th>SEASON_ID</th>\n",
              "      <th>TEAM_ID</th>\n",
              "      <th>TEAM_ABBREVIATION</th>\n",
              "      <th>TEAM_NAME</th>\n",
              "      <th>GAME_ID</th>\n",
              "      <th>GAME_DATE</th>\n",
              "      <th>MATCHUP</th>\n",
              "      <th>WL</th>\n",
              "      <th>MIN</th>\n",
              "      <th>PTS</th>\n",
              "      <th>...</th>\n",
              "      <th>FT_PCT</th>\n",
              "      <th>OREB</th>\n",
              "      <th>DREB</th>\n",
              "      <th>REB</th>\n",
              "      <th>AST</th>\n",
              "      <th>STL</th>\n",
              "      <th>BLK</th>\n",
              "      <th>TOV</th>\n",
              "      <th>PF</th>\n",
              "      <th>PLUS_MINUS</th>\n",
              "    </tr>\n",
              "  </thead>\n",
              "  <tbody>\n",
              "    <tr>\n",
              "      <th>0</th>\n",
              "      <td>12022</td>\n",
              "      <td>1610612744</td>\n",
              "      <td>GSW</td>\n",
              "      <td>Golden State Warriors</td>\n",
              "      <td>0012200004</td>\n",
              "      <td>2022-10-02</td>\n",
              "      <td>GSW vs. WAS</td>\n",
              "      <td>W</td>\n",
              "      <td>240</td>\n",
              "      <td>104</td>\n",
              "      <td>...</td>\n",
              "      <td>0.667</td>\n",
              "      <td>11.0</td>\n",
              "      <td>36.0</td>\n",
              "      <td>47.0</td>\n",
              "      <td>29</td>\n",
              "      <td>6</td>\n",
              "      <td>5</td>\n",
              "      <td>22</td>\n",
              "      <td>25</td>\n",
              "      <td>9.0</td>\n",
              "    </tr>\n",
              "    <tr>\n",
              "      <th>1</th>\n",
              "      <td>12022</td>\n",
              "      <td>1610612744</td>\n",
              "      <td>GSW</td>\n",
              "      <td>Golden State Warriors</td>\n",
              "      <td>0012200001</td>\n",
              "      <td>2022-09-30</td>\n",
              "      <td>GSW @ WAS</td>\n",
              "      <td>W</td>\n",
              "      <td>239</td>\n",
              "      <td>96</td>\n",
              "      <td>...</td>\n",
              "      <td>0.775</td>\n",
              "      <td>10.0</td>\n",
              "      <td>52.0</td>\n",
              "      <td>62.0</td>\n",
              "      <td>18</td>\n",
              "      <td>6</td>\n",
              "      <td>3</td>\n",
              "      <td>17</td>\n",
              "      <td>27</td>\n",
              "      <td>9.0</td>\n",
              "    </tr>\n",
              "    <tr>\n",
              "      <th>2</th>\n",
              "      <td>22022</td>\n",
              "      <td>1610612744</td>\n",
              "      <td>GSW</td>\n",
              "      <td>Golden State Warriors</td>\n",
              "      <td>1522200074</td>\n",
              "      <td>2022-07-17</td>\n",
              "      <td>GSW vs. WAS</td>\n",
              "      <td>L</td>\n",
              "      <td>201</td>\n",
              "      <td>77</td>\n",
              "      <td>...</td>\n",
              "      <td>0.667</td>\n",
              "      <td>12.0</td>\n",
              "      <td>33.0</td>\n",
              "      <td>45.0</td>\n",
              "      <td>15</td>\n",
              "      <td>6</td>\n",
              "      <td>6</td>\n",
              "      <td>21</td>\n",
              "      <td>20</td>\n",
              "      <td>-10.0</td>\n",
              "    </tr>\n",
              "    <tr>\n",
              "      <th>3</th>\n",
              "      <td>22022</td>\n",
              "      <td>1610612744</td>\n",
              "      <td>GSW</td>\n",
              "      <td>Golden State Warriors</td>\n",
              "      <td>1522200056</td>\n",
              "      <td>2022-07-15</td>\n",
              "      <td>GSW vs. OKC</td>\n",
              "      <td>L</td>\n",
              "      <td>202</td>\n",
              "      <td>82</td>\n",
              "      <td>...</td>\n",
              "      <td>0.667</td>\n",
              "      <td>4.0</td>\n",
              "      <td>31.0</td>\n",
              "      <td>35.0</td>\n",
              "      <td>14</td>\n",
              "      <td>7</td>\n",
              "      <td>3</td>\n",
              "      <td>16</td>\n",
              "      <td>23</td>\n",
              "      <td>-8.0</td>\n",
              "    </tr>\n",
              "    <tr>\n",
              "      <th>4</th>\n",
              "      <td>22022</td>\n",
              "      <td>1610612744</td>\n",
              "      <td>GSW</td>\n",
              "      <td>Golden State Warriors</td>\n",
              "      <td>1522200035</td>\n",
              "      <td>2022-07-12</td>\n",
              "      <td>GSW vs. BOS</td>\n",
              "      <td>L</td>\n",
              "      <td>199</td>\n",
              "      <td>92</td>\n",
              "      <td>...</td>\n",
              "      <td>0.667</td>\n",
              "      <td>16.0</td>\n",
              "      <td>22.0</td>\n",
              "      <td>38.0</td>\n",
              "      <td>14</td>\n",
              "      <td>7</td>\n",
              "      <td>8</td>\n",
              "      <td>13</td>\n",
              "      <td>23</td>\n",
              "      <td>-18.4</td>\n",
              "    </tr>\n",
              "  </tbody>\n",
              "</table>\n",
              "<p>5 rows × 28 columns</p>\n",
              "</div>\n",
              "      <button class=\"colab-df-convert\" onclick=\"convertToInteractive('df-917150d5-d80d-4a31-85da-2bba880b2d55')\"\n",
              "              title=\"Convert this dataframe to an interactive table.\"\n",
              "              style=\"display:none;\">\n",
              "        \n",
              "  <svg xmlns=\"http://www.w3.org/2000/svg\" height=\"24px\"viewBox=\"0 0 24 24\"\n",
              "       width=\"24px\">\n",
              "    <path d=\"M0 0h24v24H0V0z\" fill=\"none\"/>\n",
              "    <path d=\"M18.56 5.44l.94 2.06.94-2.06 2.06-.94-2.06-.94-.94-2.06-.94 2.06-2.06.94zm-11 1L8.5 8.5l.94-2.06 2.06-.94-2.06-.94L8.5 2.5l-.94 2.06-2.06.94zm10 10l.94 2.06.94-2.06 2.06-.94-2.06-.94-.94-2.06-.94 2.06-2.06.94z\"/><path d=\"M17.41 7.96l-1.37-1.37c-.4-.4-.92-.59-1.43-.59-.52 0-1.04.2-1.43.59L10.3 9.45l-7.72 7.72c-.78.78-.78 2.05 0 2.83L4 21.41c.39.39.9.59 1.41.59.51 0 1.02-.2 1.41-.59l7.78-7.78 2.81-2.81c.8-.78.8-2.07 0-2.86zM5.41 20L4 18.59l7.72-7.72 1.47 1.35L5.41 20z\"/>\n",
              "  </svg>\n",
              "      </button>\n",
              "      \n",
              "  <style>\n",
              "    .colab-df-container {\n",
              "      display:flex;\n",
              "      flex-wrap:wrap;\n",
              "      gap: 12px;\n",
              "    }\n",
              "\n",
              "    .colab-df-convert {\n",
              "      background-color: #E8F0FE;\n",
              "      border: none;\n",
              "      border-radius: 50%;\n",
              "      cursor: pointer;\n",
              "      display: none;\n",
              "      fill: #1967D2;\n",
              "      height: 32px;\n",
              "      padding: 0 0 0 0;\n",
              "      width: 32px;\n",
              "    }\n",
              "\n",
              "    .colab-df-convert:hover {\n",
              "      background-color: #E2EBFA;\n",
              "      box-shadow: 0px 1px 2px rgba(60, 64, 67, 0.3), 0px 1px 3px 1px rgba(60, 64, 67, 0.15);\n",
              "      fill: #174EA6;\n",
              "    }\n",
              "\n",
              "    [theme=dark] .colab-df-convert {\n",
              "      background-color: #3B4455;\n",
              "      fill: #D2E3FC;\n",
              "    }\n",
              "\n",
              "    [theme=dark] .colab-df-convert:hover {\n",
              "      background-color: #434B5C;\n",
              "      box-shadow: 0px 1px 3px 1px rgba(0, 0, 0, 0.15);\n",
              "      filter: drop-shadow(0px 1px 2px rgba(0, 0, 0, 0.3));\n",
              "      fill: #FFFFFF;\n",
              "    }\n",
              "  </style>\n",
              "\n",
              "      <script>\n",
              "        const buttonEl =\n",
              "          document.querySelector('#df-917150d5-d80d-4a31-85da-2bba880b2d55 button.colab-df-convert');\n",
              "        buttonEl.style.display =\n",
              "          google.colab.kernel.accessAllowed ? 'block' : 'none';\n",
              "\n",
              "        async function convertToInteractive(key) {\n",
              "          const element = document.querySelector('#df-917150d5-d80d-4a31-85da-2bba880b2d55');\n",
              "          const dataTable =\n",
              "            await google.colab.kernel.invokeFunction('convertToInteractive',\n",
              "                                                     [key], {});\n",
              "          if (!dataTable) return;\n",
              "\n",
              "          const docLinkHtml = 'Like what you see? Visit the ' +\n",
              "            '<a target=\"_blank\" href=https://colab.research.google.com/notebooks/data_table.ipynb>data table notebook</a>'\n",
              "            + ' to learn more about interactive tables.';\n",
              "          element.innerHTML = '';\n",
              "          dataTable['output_type'] = 'display_data';\n",
              "          await google.colab.output.renderOutput(dataTable, element);\n",
              "          const docLink = document.createElement('div');\n",
              "          docLink.innerHTML = docLinkHtml;\n",
              "          element.appendChild(docLink);\n",
              "        }\n",
              "      </script>\n",
              "    </div>\n",
              "  </div>\n",
              "  "
            ]
          },
          "metadata": {},
          "execution_count": 25
        }
      ]
    },
    {
      "cell_type": "code",
      "source": [
        "games_home = games[games['MATCHUP']=='GSW vs. TOR'] #Se obtiene un data frame con las filas en las que se cumple que los Warriors juegan en casa\n",
        "games_away = games[games['MATCHUP']=='GSW @ TOR'] #Se obtiene un data frame con las filas en las que se cumple que los Warriors como visitantes contra Toronto"
      ],
      "metadata": {
        "id": "UAOjEff37K1N"
      },
      "execution_count": null,
      "outputs": []
    },
    {
      "cell_type": "code",
      "source": [
        "import matplotlib.pyplot as plt #Se importa la librería para obtener gráficos\n",
        "fig, ax = plt.subplots() #Se grafican las fechas y la diferencia de puntos para observar qué desempeño tiene el equipo al jugar en casa y como visitante contra Toronto\n",
        "games_away.plot(x='GAME_DATE', y='PLUS_MINUS', ax=ax) \n",
        "games_home.plot(x='GAME_DATE', y='PLUS_MINUS', ax=ax)\n",
        "ax.legend(['away', 'home'])\n",
        "plt.show()"
      ],
      "metadata": {
        "colab": {
          "base_uri": "https://localhost:8080/",
          "height": 280
        },
        "id": "CyMVSwzZ9zv1",
        "outputId": "5d48434b-3a61-4cb4-a1b3-54c48a850410"
      },
      "execution_count": null,
      "outputs": [
        {
          "output_type": "display_data",
          "data": {
            "text/plain": [
              "<Figure size 432x288 with 1 Axes>"
            ],
            "image/png": "[encoded data removed]"
          },
          "metadata": {
            "needs_background": "light"
          }
        }
      ]
    },
    {
      "cell_type": "markdown",
      "source": [
        "APIs que utilizan algún tipo de inteligencia artificial  \n",
        "Se utiliza el API de Watson de text to speech, posteriormente se traducirá el texto a otro idioma utilizando el API de Watson para traducir.  \n",
        "En la llamada API se enviará una copia del audio al API, esto es aveces llamado post request, después la API enviará el audio convertido a texto."
      ],
      "metadata": {
        "id": "rAuYTuEy_TOg"
      }
    },
    {
      "cell_type": "markdown",
      "source": [
        "Una llave API es una forma de acceder a la API, es un conjunto único de caracteres que usa la API para identificar y autorizar. Usualmente la primer llamada a una API incluye la llave API.\n",
        "Un endpoint es simplemente la ubicación del servicio, es utilizado para encontrar la API en el internet."
      ],
      "metadata": {
        "id": "aqf4AJYNAc60"
      }
    },
    {
      "cell_type": "code",
      "source": [
        "!pip install ibm_watson"
      ],
      "metadata": {
        "id": "Mxv8ZFRg-Px5",
        "colab": {
          "base_uri": "https://localhost:8080/"
        },
        "outputId": "d76fff5b-8499-491a-a716-1a15778bbb29"
      },
      "execution_count": 1,
      "outputs": [
        {
          "output_type": "stream",
          "name": "stdout",
          "text": [
            "Looking in indexes: https://pypi.org/simple, https://us-python.pkg.dev/colab-wheels/public/simple/\n",
            "Requirement already satisfied: ibm_watson in /usr/local/lib/python3.7/dist-packages (6.1.0)\n",
            "Requirement already satisfied: python-dateutil>=2.5.3 in /usr/local/lib/python3.7/dist-packages (from ibm_watson) (2.8.2)\n",
            "Requirement already satisfied: requests<3.0,>=2.0 in /usr/local/lib/python3.7/dist-packages (from ibm_watson) (2.28.1)\n",
            "Requirement already satisfied: websocket-client==1.1.0 in /usr/local/lib/python3.7/dist-packages (from ibm_watson) (1.1.0)\n",
            "Requirement already satisfied: ibm-cloud-sdk-core==3.*,>=3.3.6 in /usr/local/lib/python3.7/dist-packages (from ibm_watson) (3.16.0)\n",
            "Requirement already satisfied: urllib3<2.0.0,>=1.26.0 in /usr/local/lib/python3.7/dist-packages (from ibm-cloud-sdk-core==3.*,>=3.3.6->ibm_watson) (1.26.12)\n",
            "Requirement already satisfied: PyJWT<3.0.0,>=2.4.0 in /usr/local/lib/python3.7/dist-packages (from ibm-cloud-sdk-core==3.*,>=3.3.6->ibm_watson) (2.5.0)\n",
            "Requirement already satisfied: six>=1.5 in /usr/local/lib/python3.7/dist-packages (from python-dateutil>=2.5.3->ibm_watson) (1.15.0)\n",
            "Requirement already satisfied: certifi>=2017.4.17 in /usr/local/lib/python3.7/dist-packages (from requests<3.0,>=2.0->ibm_watson) (2022.6.15)\n",
            "Requirement already satisfied: idna<4,>=2.5 in /usr/local/lib/python3.7/dist-packages (from requests<3.0,>=2.0->ibm_watson) (2.10)\n",
            "Requirement already satisfied: charset-normalizer<3,>=2 in /usr/local/lib/python3.7/dist-packages (from requests<3.0,>=2.0->ibm_watson) (2.1.1)\n"
          ]
        }
      ]
    },
    {
      "cell_type": "code",
      "source": [
        "from ibm_watson import SpeechToTextV1 #Se importa el API\n",
        "url_s2t = 'https://stream.watsonplatform.net/speech-to-text/api' #Se especifica la ubicación del endpoint del servicio solicitado\n",
        "iam_apikey_s2t = 'API KEY' #Se guarda también la API key en una variable\n",
        "s2t = SpeechToTextV1(iam_apikey = iam_apikey_s2t, url = url_s2t) #Se crea un objeto Speech to Text, los parámetros son el endpoint y la API key, se utiliza este objeto para comunicarse con el servicio\n",
        "filename = 'Ruta del archivo'\n",
        "with open(filename, mode = 'rb') as wav: #Se cre un objeto wav con el archivo de sonido que se desea convertir a texto, el modo rb indica leer el archivo en formato binario\n",
        "  response = s2t.recognize(audio=wav, content_type='audio/wav') #Se utiliza el método recognizr del objeto Speech to text, esto envía el audio al servicio speech to text de Watson\n",
        "  #El parámetro audio es el objeto creado a partir del archivo, el content_type es el formato del archivo de audio\n",
        "  #El servicio envía una respuesta que se almacena en el objeto response"
      ],
      "metadata": {
        "id": "xSWueMIOO9TJ"
      },
      "execution_count": null,
      "outputs": []
    },
    {
      "cell_type": "code",
      "source": [
        "#El atributo result del objeto response contiene un diccionario de python\n",
        "#La llave results contiene un valor que es una lista que contiene un diccionario\n",
        "#La llave transcript contiene el texto que se obtuvo a partir del audio\n",
        "response.result\n",
        "recognized_text = response.result['results'][0]['alternatives'][0]['transcript'] #En recognized_text se guarda el texto obtenido"
      ],
      "metadata": {
        "id": "NsIv7GjkRm2Q"
      },
      "execution_count": null,
      "outputs": []
    },
    {
      "cell_type": "code",
      "source": [
        "#Watson Language Translator\n",
        "from ibm_watson import LanguageTranslatorV3\n",
        "url_lt = 'url del endpoint' #La ubicación del endpoint se guarda en la variable url_lt\n",
        "apikey_lt = 'api key' #La API key del servicio se guarda en una variable\n",
        "version_lt = 'fecha de la versión' #Esta API requiere la fecha de la versión \n",
        "#Se crea un objeto language translator\n",
        "language_translator = LanguageTranslatorV3(iam_apikey = apikey_lt, url=url_lt, version=version_lt)\n",
        "language_translator.list_identifiable_languages().get_result() #Se obtiene una lista de los lenguajes que el servicio puede identificar"
      ],
      "metadata": {
        "id": "GDaKrBjsSate"
      },
      "execution_count": null,
      "outputs": []
    },
    {
      "cell_type": "code",
      "source": [
        "translation_response = language_translator.translate(text=recognized_text, model_id='en-es') #El método translate es utilizado para traducir el texto, el resultado es un objeto response detallado\n",
        "#El parámetro model indica que la traducción será de inglés a español\n",
        "translation = translation_response.get_result() #Con el método get_result se obtiene el texto traducido y se guarda en una variable\n",
        "#El resultado es un diccionario que incluye el texto traducido, el conteo de palabras y el conteo de caracteres\n",
        "spanish_translation =  translation['translations'][0]['translation']"
      ],
      "metadata": {
        "id": "UfY2yn3rTubk"
      },
      "execution_count": null,
      "outputs": []
    }
  ]
}