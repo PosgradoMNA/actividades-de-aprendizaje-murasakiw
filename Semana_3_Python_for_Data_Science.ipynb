{
  "nbformat": 4,
  "nbformat_minor": 0,
  "metadata": {
    "colab": {
      "provenance": [],
      "collapsed_sections": [],
      "authorship_tag": "ABX9TyMkWg4BaUwKusenGVClx1Db",
      "include_colab_link": true
    },
    "kernelspec": {
      "name": "python3",
      "display_name": "Python 3"
    },
    "language_info": {
      "name": "python"
    }
  },
  "cells": [
    {
      "cell_type": "markdown",
      "metadata": {
        "id": "view-in-github",
        "colab_type": "text"
      },
      "source": [
        "<a href=\"https://colab.research.google.com/github/PosgradoMNA/actividades-de-aprendizaje-murasakiw/blob/main/Semana_3_Python_for_Data_Science.ipynb\" target=\"_parent\"><img src=\"https://colab.research.google.com/assets/colab-badge.svg\" alt=\"Open In Colab\"/></a>"
      ]
    },
    {
      "cell_type": "markdown",
      "source": [
        "Nombre: Sergio Omar Esparza Hernández\n",
        "\n",
        "Matrícula: A01794338"
      ],
      "metadata": {
        "id": "gR-MJIddpaya"
      }
    },
    {
      "cell_type": "markdown",
      "source": [
        "#Python for Data Science (IBM): Módulo 5"
      ],
      "metadata": {
        "id": "srDf533Ipn7g"
      }
    },
    {
      "cell_type": "markdown",
      "source": [
        "##Numpy 1D Arrays"
      ],
      "metadata": {
        "id": "w2_ctc6Ypyp6"
      }
    },
    {
      "cell_type": "markdown",
      "source": [
        "Numpy es una librería utilizada para realizar cálculos computacionales científicos\n",
        "\n",
        "Pandas está basada en Numpy"
      ],
      "metadata": {
        "id": "nH_cYIecqLnb"
      }
    },
    {
      "cell_type": "markdown",
      "source": [
        "Un arreglo de Numpy es similar a una lista, usualmente está fijo su tamaño y \n",
        "cada elemento es del mismo tipo.\n",
        "\n",
        "Para utilizar Numpy, primero es necesario importar esta librería."
      ],
      "metadata": {
        "id": "IXFAXZnTqTBd"
      }
    },
    {
      "cell_type": "code",
      "execution_count": null,
      "metadata": {
        "id": "oNhYO_WXpTHD"
      },
      "outputs": [],
      "source": [
        "import numpy as np #Es necesario importar la librería para poder utilizar las operaciones"
      ]
    },
    {
      "cell_type": "code",
      "source": [
        "a = np.array([0, 1, 2, 3, 4]) #Se puede utilizar una lista de python para crear un array de numpy\n",
        "a"
      ],
      "metadata": {
        "colab": {
          "base_uri": "https://localhost:8080/"
        },
        "id": "pnPxG1vErZvX",
        "outputId": "d5244664-a8e6-439b-cd63-3b4fc84b0387"
      },
      "execution_count": null,
      "outputs": [
        {
          "output_type": "execute_result",
          "data": {
            "text/plain": [
              "array([0, 1, 2, 3, 4])"
            ]
          },
          "metadata": {},
          "execution_count": 4
        }
      ]
    },
    {
      "cell_type": "code",
      "source": [
        "a[3] #Se puede acceder a los valores individuales del array de igual manera que con las listas, a través de índices"
      ],
      "metadata": {
        "colab": {
          "base_uri": "https://localhost:8080/"
        },
        "id": "ImkNJGQOrw8s",
        "outputId": "c30c7661-6dc0-432f-ce12-5dc70cd78b6e"
      },
      "execution_count": null,
      "outputs": [
        {
          "output_type": "execute_result",
          "data": {
            "text/plain": [
              "3"
            ]
          },
          "metadata": {},
          "execution_count": 3
        }
      ]
    },
    {
      "cell_type": "code",
      "source": [
        "type(a) #El tipo de dato de los arrays de numpy es numpy.ndarray"
      ],
      "metadata": {
        "colab": {
          "base_uri": "https://localhost:8080/"
        },
        "id": "efQdfHebr4AT",
        "outputId": "99115a8b-588c-4b9a-adf8-018d0b9d3a6c"
      },
      "execution_count": null,
      "outputs": [
        {
          "output_type": "execute_result",
          "data": {
            "text/plain": [
              "numpy.ndarray"
            ]
          },
          "metadata": {},
          "execution_count": 5
        }
      ]
    },
    {
      "cell_type": "code",
      "source": [
        "a.dtype #Con el atributo dtype se puede obtener el tipo de todos los datos almacenados en el array"
      ],
      "metadata": {
        "colab": {
          "base_uri": "https://localhost:8080/"
        },
        "id": "OhufLcw9sQWz",
        "outputId": "2243e197-1b8f-41ac-c48e-01ba34c05971"
      },
      "execution_count": null,
      "outputs": [
        {
          "output_type": "execute_result",
          "data": {
            "text/plain": [
              "dtype('int64')"
            ]
          },
          "metadata": {},
          "execution_count": 7
        }
      ]
    },
    {
      "cell_type": "markdown",
      "source": [
        "Atributos de los arrays de numpy"
      ],
      "metadata": {
        "id": "796XUTqSsqrK"
      }
    },
    {
      "cell_type": "code",
      "source": [
        "a.size #Devuelve el número de elementos que contiene el array"
      ],
      "metadata": {
        "colab": {
          "base_uri": "https://localhost:8080/"
        },
        "id": "W-vggW_QsWpB",
        "outputId": "a93bb5fe-ec19-4040-8002-38c7d170532f"
      },
      "execution_count": null,
      "outputs": [
        {
          "output_type": "execute_result",
          "data": {
            "text/plain": [
              "5"
            ]
          },
          "metadata": {},
          "execution_count": 8
        }
      ]
    },
    {
      "cell_type": "code",
      "source": [
        "a.ndim #Devuelve el número de dimensiones del array"
      ],
      "metadata": {
        "colab": {
          "base_uri": "https://localhost:8080/"
        },
        "id": "A7QFc6E6sz71",
        "outputId": "71efd9ed-256a-444f-ac70-eda919ea354b"
      },
      "execution_count": null,
      "outputs": [
        {
          "output_type": "execute_result",
          "data": {
            "text/plain": [
              "1"
            ]
          },
          "metadata": {},
          "execution_count": 9
        }
      ]
    },
    {
      "cell_type": "code",
      "source": [
        "a.shape #Devuelve una tupla con el tamaño del arreglo en cada dimensión"
      ],
      "metadata": {
        "colab": {
          "base_uri": "https://localhost:8080/"
        },
        "id": "HmR0AzYmtJYj",
        "outputId": "442d51cf-5144-45ad-e0da-2a3739b5ca89"
      },
      "execution_count": null,
      "outputs": [
        {
          "output_type": "execute_result",
          "data": {
            "text/plain": [
              "(5,)"
            ]
          },
          "metadata": {},
          "execution_count": 10
        }
      ]
    },
    {
      "cell_type": "markdown",
      "source": [
        "Métodos para indexing y slicing"
      ],
      "metadata": {
        "id": "2_o8comJxKGB"
      }
    },
    {
      "cell_type": "code",
      "source": [
        "c = np.array([20, 1, 2, 3, 4])\n",
        "c[0] = 100 #Se puede modificar el valor que hay en una posición del array, de igual manera que con las listas\n",
        "c"
      ],
      "metadata": {
        "colab": {
          "base_uri": "https://localhost:8080/"
        },
        "id": "7lZyT5LjtQsB",
        "outputId": "5a2d85a8-5892-4c91-acb7-17ca8caa3e9e"
      },
      "execution_count": null,
      "outputs": [
        {
          "output_type": "execute_result",
          "data": {
            "text/plain": [
              "array([100,   1,   2,   3,   4])"
            ]
          },
          "metadata": {},
          "execution_count": 12
        }
      ]
    },
    {
      "cell_type": "code",
      "source": [
        "#Se puede obtener un slice de un numpy array al igual que con las listas y tuplas de Python\n",
        "d = c[1:4] \n",
        "d"
      ],
      "metadata": {
        "colab": {
          "base_uri": "https://localhost:8080/"
        },
        "id": "PigBGVrHxdH7",
        "outputId": "8306125b-9979-443e-c08c-acc36359389f"
      },
      "execution_count": null,
      "outputs": [
        {
          "output_type": "execute_result",
          "data": {
            "text/plain": [
              "array([1, 2, 3])"
            ]
          },
          "metadata": {},
          "execution_count": 14
        }
      ]
    },
    {
      "cell_type": "code",
      "source": [
        "c[3:5] = 300, 400 #Asignar a los índices correspondientes nuevos valores\n",
        "c"
      ],
      "metadata": {
        "colab": {
          "base_uri": "https://localhost:8080/"
        },
        "id": "5xQiBJ3-xxwB",
        "outputId": "491bc316-d7f2-4f6f-de96-99c5b5390da3"
      },
      "execution_count": null,
      "outputs": [
        {
          "output_type": "execute_result",
          "data": {
            "text/plain": [
              "array([100,   1,   2, 300, 400])"
            ]
          },
          "metadata": {},
          "execution_count": 15
        }
      ]
    },
    {
      "cell_type": "code",
      "source": [
        "#Se puede definir un paso en los slices, tal como en las listas de Python\n",
        "a[1:5:2] #[inicio:fin:paso] Si no se le indica un paso, es considerado 1"
      ],
      "metadata": {
        "colab": {
          "base_uri": "https://localhost:8080/"
        },
        "id": "-b4-2I6amQyL",
        "outputId": "2a65d2d1-affd-4490-f1d9-c95e996553db"
      },
      "execution_count": null,
      "outputs": [
        {
          "output_type": "execute_result",
          "data": {
            "text/plain": [
              "array([1, 3])"
            ]
          },
          "metadata": {},
          "execution_count": 5
        }
      ]
    },
    {
      "cell_type": "code",
      "source": [
        "#Si no se le pasa algun índice de inicio es considerado 0\n",
        "print(a[:3])\n",
        "#Si no se le pasa algun índice de fin se considera hasta el final del array\n",
        "print(a[2:])"
      ],
      "metadata": {
        "colab": {
          "base_uri": "https://localhost:8080/"
        },
        "id": "xVhfj1jRmhN_",
        "outputId": "fee0d4fb-8980-49ff-ccf7-c1ad2b46c610"
      },
      "execution_count": null,
      "outputs": [
        {
          "output_type": "stream",
          "name": "stdout",
          "text": [
            "[0 1 2]\n",
            "[2 3 4]\n"
          ]
        }
      ]
    },
    {
      "cell_type": "code",
      "source": [
        "#Se puede utilizar una lista para seleccionar varios elementos del array\n",
        "select = [1, 3, 2]\n",
        "c = a[select]\n",
        "c"
      ],
      "metadata": {
        "colab": {
          "base_uri": "https://localhost:8080/"
        },
        "id": "PwcLQ8hJncSJ",
        "outputId": "75edcf67-1c98-4889-b046-45da456fd35c"
      },
      "execution_count": null,
      "outputs": [
        {
          "output_type": "execute_result",
          "data": {
            "text/plain": [
              "array([1, 3, 2])"
            ]
          },
          "metadata": {},
          "execution_count": 10
        }
      ]
    },
    {
      "cell_type": "code",
      "source": [
        "#Asignar un valor a los elementos especificados\n",
        "a[select] = 1000\n",
        "a"
      ],
      "metadata": {
        "colab": {
          "base_uri": "https://localhost:8080/"
        },
        "id": "gK-oBgxwoQVd",
        "outputId": "66337c05-5441-4db2-ae5b-ab4f2361c225"
      },
      "execution_count": null,
      "outputs": [
        {
          "output_type": "execute_result",
          "data": {
            "text/plain": [
              "array([   0, 1000, 1000, 1000,    4])"
            ]
          },
          "metadata": {},
          "execution_count": 11
        }
      ]
    },
    {
      "cell_type": "markdown",
      "source": [
        "Operaciones básicas\n",
        "\n",
        "Estas operaciones son usualmente más rápidas computacionalmente y requieren menos memoria en numpy comparado con un código regular de Python"
      ],
      "metadata": {
        "id": "hAgoNFn2yzyz"
      }
    },
    {
      "cell_type": "code",
      "source": [
        "#Suma de vectores con numpy\n",
        "#Es más sencillo y más rápido realizar una suma de vectores utilizando numpy\n",
        "#Esto es importante cuando se tienen arrays con muchos datos\n",
        "u = np.array([1, 0])\n",
        "v = np.array([0, 1])\n",
        "#np.add(u, v)\n",
        "z = u + v\n",
        "z"
      ],
      "metadata": {
        "colab": {
          "base_uri": "https://localhost:8080/"
        },
        "id": "jJbtY4GFydbP",
        "outputId": "afef38da-815d-4b1e-cbfc-09664256ac45"
      },
      "execution_count": null,
      "outputs": [
        {
          "output_type": "execute_result",
          "data": {
            "text/plain": [
              "array([1, 1])"
            ]
          },
          "metadata": {},
          "execution_count": 17
        }
      ]
    },
    {
      "cell_type": "code",
      "source": [
        "#Resta de vectores con numpy\n",
        "u = np.array([1, 0])\n",
        "v = np.array([0, 1])\n",
        "z = u - v\n",
        "#np.subtract(u, v)\n",
        "z"
      ],
      "metadata": {
        "colab": {
          "base_uri": "https://localhost:8080/"
        },
        "id": "iuNTGuwp0O03",
        "outputId": "be0a478c-2bae-4ed2-f2a6-4c93df29c857"
      },
      "execution_count": null,
      "outputs": [
        {
          "output_type": "execute_result",
          "data": {
            "text/plain": [
              "array([ 1, -1])"
            ]
          },
          "metadata": {},
          "execution_count": 18
        }
      ]
    },
    {
      "cell_type": "code",
      "source": [
        "#Multiplicación de un vector por un escalar\n",
        "#Esta operación solo requiere una línea de código con numpy\n",
        "y = np.array([1, 2])\n",
        "z = 2 * y\n",
        "#np.multiply(y, 2)\n",
        "z"
      ],
      "metadata": {
        "colab": {
          "base_uri": "https://localhost:8080/"
        },
        "id": "aBZLMFzz0jYR",
        "outputId": "2d72b063-d700-4b59-e3f8-6e9e174d0130"
      },
      "execution_count": null,
      "outputs": [
        {
          "output_type": "execute_result",
          "data": {
            "text/plain": [
              "array([2, 4])"
            ]
          },
          "metadata": {},
          "execution_count": 19
        }
      ]
    },
    {
      "cell_type": "code",
      "source": [
        "#Producto de Hadamard\n",
        "#Consiste en multiplicar los elementos que se encuentran en la misma posición en los dos vectores\n",
        "u = np.array([1, 2])\n",
        "v = np.array([3, 2])\n",
        "z = u * v\n",
        "z"
      ],
      "metadata": {
        "colab": {
          "base_uri": "https://localhost:8080/"
        },
        "id": "vW23Nn-n09qS",
        "outputId": "bf8752b7-b183-495e-e0cc-fcc0a9121162"
      },
      "execution_count": null,
      "outputs": [
        {
          "output_type": "execute_result",
          "data": {
            "text/plain": [
              "array([3, 4])"
            ]
          },
          "metadata": {},
          "execution_count": 20
        }
      ]
    },
    {
      "cell_type": "code",
      "source": [
        "#División entre elementos de array\n",
        "a = np.array([10, 20, 30])\n",
        "b = np.array([2, 10, 5])\n",
        "np.divide(a, b)"
      ],
      "metadata": {
        "colab": {
          "base_uri": "https://localhost:8080/"
        },
        "id": "KCDtF5UYsvVZ",
        "outputId": "c7228301-56e2-4d35-a81a-c8ac362de72c"
      },
      "execution_count": null,
      "outputs": [
        {
          "output_type": "execute_result",
          "data": {
            "text/plain": [
              "array([5., 2., 6.])"
            ]
          },
          "metadata": {},
          "execution_count": 23
        }
      ]
    },
    {
      "cell_type": "code",
      "source": [
        "#Producto punto utilizando numpy\n",
        "#Este producto es útil para verificar si dos vectores son perpendiculares\n",
        "#El resultado es una magnitud escalar\n",
        "u = np.array([1, 2])\n",
        "v = np.array([3, 2])\n",
        "z =  np.dot(u, v)\n",
        "z"
      ],
      "metadata": {
        "colab": {
          "base_uri": "https://localhost:8080/"
        },
        "id": "oNlGu4o32Qmu",
        "outputId": "c0e20578-d59f-4caa-9462-77e8408926d3"
      },
      "execution_count": null,
      "outputs": [
        {
          "output_type": "execute_result",
          "data": {
            "text/plain": [
              "7"
            ]
          },
          "metadata": {},
          "execution_count": 22
        }
      ]
    },
    {
      "cell_type": "code",
      "source": [
        "#Sumar una constante a un array de numpy\n",
        "u = np.array([1, 2, 3, -1]) \n",
        "z = u + 1 #La constante se le suma a cada elemento del array, esta propiedad es conocida como broadcasting\n",
        "z"
      ],
      "metadata": {
        "id": "sInAtBhB3Ih5",
        "colab": {
          "base_uri": "https://localhost:8080/"
        },
        "outputId": "ea7b5bad-77df-4ab0-82a8-8339e5a8cce1"
      },
      "execution_count": null,
      "outputs": [
        {
          "output_type": "execute_result",
          "data": {
            "text/plain": [
              "array([2, 3, 4, 0])"
            ]
          },
          "metadata": {},
          "execution_count": 23
        }
      ]
    },
    {
      "cell_type": "markdown",
      "source": [
        "Universal Functions\n",
        "\n",
        "Una universal function es una función que opera sobre los ndarrays"
      ],
      "metadata": {
        "id": "Ah8fifxfAG4n"
      }
    },
    {
      "cell_type": "code",
      "source": [
        "a = np.array([1, -1, 1, -1])\n",
        "mean_a = a.mean() #Con el método mean se puede obtener la media de un array\n",
        "mean_a"
      ],
      "metadata": {
        "colab": {
          "base_uri": "https://localhost:8080/"
        },
        "id": "zWN3dmk__-qE",
        "outputId": "ddeb2f56-dc53-4534-dd4f-c98ae8ef64b2"
      },
      "execution_count": null,
      "outputs": [
        {
          "output_type": "execute_result",
          "data": {
            "text/plain": [
              "0.0"
            ]
          },
          "metadata": {},
          "execution_count": 12
        }
      ]
    },
    {
      "cell_type": "code",
      "source": [
        "#Método para calcular la desviación estándar\n",
        "desv_est = a.std()\n",
        "desv_est"
      ],
      "metadata": {
        "colab": {
          "base_uri": "https://localhost:8080/"
        },
        "id": "IjQVUsnVp3Ma",
        "outputId": "7cb55cee-7906-4628-b93f-a23b0b1e9093"
      },
      "execution_count": null,
      "outputs": [
        {
          "output_type": "execute_result",
          "data": {
            "text/plain": [
              "1.0"
            ]
          },
          "metadata": {},
          "execution_count": 13
        }
      ]
    },
    {
      "cell_type": "code",
      "source": [
        "b = np.array([1, -2, 3, 4, 5])\n",
        "max_b = b.max() #Con este método se obtiene el máximo valor almacenado en el array\n",
        "max_b"
      ],
      "metadata": {
        "colab": {
          "base_uri": "https://localhost:8080/"
        },
        "id": "Gu5mEYC1AmnE",
        "outputId": "4b1937e9-29c5-4e85-adae-bdae799dd00c"
      },
      "execution_count": null,
      "outputs": [
        {
          "output_type": "execute_result",
          "data": {
            "text/plain": [
              "5"
            ]
          },
          "metadata": {},
          "execution_count": 24
        }
      ]
    },
    {
      "cell_type": "code",
      "source": [
        "#Se pueden utilizar numpy para crear funciones que asignan arrays de numpy a nuevos arrays de numpy\n",
        "np.pi\n",
        "x = np.array([0, np.pi/2, np.pi]) \n",
        "y = np.sin(x) #Se aplica el seno a cada valor almacenado en el array\n",
        "y"
      ],
      "metadata": {
        "colab": {
          "base_uri": "https://localhost:8080/"
        },
        "id": "y-02Dei0A7N_",
        "outputId": "e7392825-935d-4b13-d8c3-24cc71cf15b2"
      },
      "execution_count": null,
      "outputs": [
        {
          "output_type": "execute_result",
          "data": {
            "text/plain": [
              "array([0.0000000e+00, 1.0000000e+00, 1.2246468e-16])"
            ]
          },
          "metadata": {},
          "execution_count": 28
        }
      ]
    },
    {
      "cell_type": "code",
      "source": [
        "#linspace regresa un arreglo con números igualmente espaciados dado un intervalo definido y un número de elementos especificado\n",
        "np.linspace(-2, 2, num=5) #Regresa un arreglo con 5 elementos igualmente espaciados que van desde -2 a 2"
      ],
      "metadata": {
        "colab": {
          "base_uri": "https://localhost:8080/"
        },
        "id": "BYRF5X7qB3yE",
        "outputId": "c384257c-0cd0-4413-e4c6-beb281ed5a67"
      },
      "execution_count": null,
      "outputs": [
        {
          "output_type": "execute_result",
          "data": {
            "text/plain": [
              "array([-2., -1.,  0.,  1.,  2.])"
            ]
          },
          "metadata": {},
          "execution_count": 32
        }
      ]
    },
    {
      "cell_type": "code",
      "source": [
        "x = np.linspace(0, 2*np.pi, 100) #Genera un array con 100 muestras igualente espaciadas en el rango de 0 a 2*pi\n",
        "x"
      ],
      "metadata": {
        "colab": {
          "base_uri": "https://localhost:8080/"
        },
        "id": "NvUa3QuwCr3I",
        "outputId": "c5ef5f10-3c83-4fa8-b1b7-b8d89f883dd6"
      },
      "execution_count": null,
      "outputs": [
        {
          "output_type": "execute_result",
          "data": {
            "text/plain": [
              "array([0.        , 0.06346652, 0.12693304, 0.19039955, 0.25386607,\n",
              "       0.31733259, 0.38079911, 0.44426563, 0.50773215, 0.57119866,\n",
              "       0.63466518, 0.6981317 , 0.76159822, 0.82506474, 0.88853126,\n",
              "       0.95199777, 1.01546429, 1.07893081, 1.14239733, 1.20586385,\n",
              "       1.26933037, 1.33279688, 1.3962634 , 1.45972992, 1.52319644,\n",
              "       1.58666296, 1.65012947, 1.71359599, 1.77706251, 1.84052903,\n",
              "       1.90399555, 1.96746207, 2.03092858, 2.0943951 , 2.15786162,\n",
              "       2.22132814, 2.28479466, 2.34826118, 2.41172769, 2.47519421,\n",
              "       2.53866073, 2.60212725, 2.66559377, 2.72906028, 2.7925268 ,\n",
              "       2.85599332, 2.91945984, 2.98292636, 3.04639288, 3.10985939,\n",
              "       3.17332591, 3.23679243, 3.30025895, 3.36372547, 3.42719199,\n",
              "       3.4906585 , 3.55412502, 3.61759154, 3.68105806, 3.74452458,\n",
              "       3.8079911 , 3.87145761, 3.93492413, 3.99839065, 4.06185717,\n",
              "       4.12532369, 4.1887902 , 4.25225672, 4.31572324, 4.37918976,\n",
              "       4.44265628, 4.5061228 , 4.56958931, 4.63305583, 4.69652235,\n",
              "       4.75998887, 4.82345539, 4.88692191, 4.95038842, 5.01385494,\n",
              "       5.07732146, 5.14078798, 5.2042545 , 5.26772102, 5.33118753,\n",
              "       5.39465405, 5.45812057, 5.52158709, 5.58505361, 5.64852012,\n",
              "       5.71198664, 5.77545316, 5.83891968, 5.9023862 , 5.96585272,\n",
              "       6.02931923, 6.09278575, 6.15625227, 6.21971879, 6.28318531])"
            ]
          },
          "metadata": {},
          "execution_count": 15
        }
      ]
    },
    {
      "cell_type": "code",
      "source": [
        "import matplotlib.pyplot as plt #Librería útil para obtener gráficos en python\n",
        "y = np.sin(x)\n",
        "#%matplotlib inline se usa al trabajar con un jupyter notebook para mostrar la gráfica\n",
        "plt.plot(x, y)"
      ],
      "metadata": {
        "colab": {
          "base_uri": "https://localhost:8080/",
          "height": 282
        },
        "id": "fe-qCgIADWpE",
        "outputId": "9ab8cab1-2666-4ed8-89c7-3d5a7415f99c"
      },
      "execution_count": null,
      "outputs": [
        {
          "output_type": "execute_result",
          "data": {
            "text/plain": [
              "[<matplotlib.lines.Line2D at 0x7ff1d17fd790>]"
            ]
          },
          "metadata": {},
          "execution_count": 16
        },
        {
          "output_type": "display_data",
          "data": {
            "text/plain": [
              "<Figure size 432x288 with 1 Axes>"
            ],
            "image/png": "[encoded data removed]"
          },
          "metadata": {
            "needs_background": "light"
          }
        }
      ]
    },
    {
      "cell_type": "code",
      "source": [
        "print(np.__version__) #Muestra la versión de numpy instalada"
      ],
      "metadata": {
        "id": "XnXSyalQEkUQ",
        "colab": {
          "base_uri": "https://localhost:8080/"
        },
        "outputId": "d2d1ba59-d81f-4f54-b156-f788bb20cdd9"
      },
      "execution_count": null,
      "outputs": [
        {
          "output_type": "stream",
          "name": "stdout",
          "text": [
            "1.21.6\n"
          ]
        }
      ]
    },
    {
      "cell_type": "code",
      "source": [
        "def Plotvec1(u, z, v):\n",
        "    \n",
        "    ax = plt.axes() #Genera la ventana con los ejes para graficar\n",
        "    ax.arrow(0, 0, *u, head_width=0.05, color='r', head_length=0.1)# Agrega un gráfico de flecha al eje u con una anchura de la cabeza de la flecha de 0.05, de color rojo, y longitud de la punta de la flecha de 0.1\n",
        "    plt.text(*(u + 0.1), 'u')#Agrega el texto u a los ejes\n",
        "    \n",
        "    ax.arrow(0, 0, *v, head_width=0.05, color='b', head_length=0.1)# Agrega un gráfico de flecha al eje v con una anchura de la cabeza de la flecha de 0.05, de color azul, y longitud de la punta de la flecha de 0.1\n",
        "    plt.text(*(v + 0.1), 'v')#Agrega el texto v a los ejes \n",
        "    \n",
        "    ax.arrow(0, 0, *z, head_width=0.05, head_length=0.1)\n",
        "    plt.text(*(z + 0.1), 'z')#Agrega el texto z a los ejes \n",
        "    plt.ylim(-2, 2)#Establece el límite del eje y de -2 a 2\n",
        "    plt.xlim(-2, 2)#Establece el límite del eje x de -2 a 2"
      ],
      "metadata": {
        "id": "2Ulwmt81lWRf"
      },
      "execution_count": null,
      "outputs": []
    },
    {
      "cell_type": "code",
      "source": [
        "u = np.array([1,0])\n",
        "v = np.array([0,1])\n",
        "z = u + v\n",
        "Plotvec1(u, z, v)"
      ],
      "metadata": {
        "colab": {
          "base_uri": "https://localhost:8080/",
          "height": 269
        },
        "id": "UXr5I1cKqloZ",
        "outputId": "5ff9738e-5063-4a15-d75d-928c7f9ab620"
      },
      "execution_count": null,
      "outputs": [
        {
          "output_type": "display_data",
          "data": {
            "text/plain": [
              "<Figure size 432x288 with 1 Axes>"
            ],
            "image/png": "[encoded data removed]"
          },
          "metadata": {
            "needs_background": "light"
          }
        }
      ]
    },
    {
      "cell_type": "code",
      "source": [
        "#Se puede utilizar un for loop para iterar a lo largo de un array\n",
        "for element in b:\n",
        "  print(element)"
      ],
      "metadata": {
        "colab": {
          "base_uri": "https://localhost:8080/"
        },
        "id": "u2bVyQUdqnga",
        "outputId": "ad42be59-4411-405a-fea8-23a66a7d6823"
      },
      "execution_count": null,
      "outputs": [
        {
          "output_type": "stream",
          "name": "stdout",
          "text": [
            "1\n",
            "-2\n",
            "3\n",
            "4\n",
            "5\n"
          ]
        }
      ]
    },
    {
      "cell_type": "markdown",
      "source": [
        "##Numpy 2D Arrays"
      ],
      "metadata": {
        "id": "tOHer1Tei3_M"
      }
    },
    {
      "cell_type": "code",
      "source": [
        "a = [[11, 12, 13], [21, 22, 23], [31, 32, 33]] #Una nested list también puede ser definida como array de numpy\n",
        "#Cada nested list representa a una fila de la matriz\n",
        "matriz_A = np.array(a)\n",
        "matriz_A"
      ],
      "metadata": {
        "id": "3xTHoJZ_tlga",
        "colab": {
          "base_uri": "https://localhost:8080/"
        },
        "outputId": "24865efa-c85c-47e0-a357-4bb0f5eac3d9"
      },
      "execution_count": null,
      "outputs": [
        {
          "output_type": "execute_result",
          "data": {
            "text/plain": [
              "array([[11, 12, 13],\n",
              "       [21, 22, 23],\n",
              "       [31, 32, 33]])"
            ]
          },
          "metadata": {},
          "execution_count": 3
        }
      ]
    },
    {
      "cell_type": "code",
      "source": [
        "matriz_A.ndim #Para obtener el número de dimensiones de la matriz"
      ],
      "metadata": {
        "colab": {
          "base_uri": "https://localhost:8080/"
        },
        "id": "VxhAzDJLjVU5",
        "outputId": "ff872165-3a1c-4422-9d1c-f6bd98a26782"
      },
      "execution_count": null,
      "outputs": [
        {
          "output_type": "execute_result",
          "data": {
            "text/plain": [
              "2"
            ]
          },
          "metadata": {},
          "execution_count": 4
        }
      ]
    },
    {
      "cell_type": "code",
      "source": [
        "matriz_A.shape #El atributo shape regresa una tupla indicando renglones y columnas del array\n",
        "#axis 0 hace referencia a los renglones y axis 1 hace referencia a las columnas"
      ],
      "metadata": {
        "colab": {
          "base_uri": "https://localhost:8080/"
        },
        "id": "dxfqx5xpj7bi",
        "outputId": "97412b9c-1b19-4fee-beeb-1892c37d45ab"
      },
      "execution_count": null,
      "outputs": [
        {
          "output_type": "execute_result",
          "data": {
            "text/plain": [
              "(3, 3)"
            ]
          },
          "metadata": {},
          "execution_count": 5
        }
      ]
    },
    {
      "cell_type": "code",
      "source": [
        "matriz_A.size #Regresa el número de elementos que tiene el array"
      ],
      "metadata": {
        "colab": {
          "base_uri": "https://localhost:8080/"
        },
        "id": "31zCqCxMkNN1",
        "outputId": "b0909795-13f2-40ed-e37b-c4cdc5f59a8f"
      },
      "execution_count": null,
      "outputs": [
        {
          "output_type": "execute_result",
          "data": {
            "text/plain": [
              "9"
            ]
          },
          "metadata": {},
          "execution_count": 6
        }
      ]
    },
    {
      "cell_type": "code",
      "source": [
        "#Se utilizan dobles corchetes para acceder a los elementos de un array de 2 dimensiones\n",
        "#Se puede decir que el primer índice hace referencia al renglón y el segundo índice hace referencia a la columna\n",
        "#Existen dos sintaxis para acceder a estos elementos\n",
        "matriz_A[0][1], matriz_A[0,1]"
      ],
      "metadata": {
        "colab": {
          "base_uri": "https://localhost:8080/"
        },
        "id": "GT2oy0rJkqAu",
        "outputId": "fd534015-2274-4857-fc14-e527b34db186"
      },
      "execution_count": null,
      "outputs": [
        {
          "output_type": "execute_result",
          "data": {
            "text/plain": [
              "(12, 12)"
            ]
          },
          "metadata": {},
          "execution_count": 7
        }
      ]
    },
    {
      "cell_type": "code",
      "source": [
        "matriz_A[0,0:2] #Para esta sintaxis de slice, el primer elemento indica el renglon y el segundo elemento las columnas"
      ],
      "metadata": {
        "colab": {
          "base_uri": "https://localhost:8080/"
        },
        "id": "HKVeenzGlwwy",
        "outputId": "b2f511c0-6c90-461a-8ee2-088e7c2b77b6"
      },
      "execution_count": null,
      "outputs": [
        {
          "output_type": "execute_result",
          "data": {
            "text/plain": [
              "array([11, 12])"
            ]
          },
          "metadata": {},
          "execution_count": 11
        }
      ]
    },
    {
      "cell_type": "code",
      "source": [
        "m_X = np.array([[1, 0],[0, 1]]) #La suma de dos arrays 2D se realiza de la misma manera que una suma de matrices\n",
        "m_Y = np.array([[2, 1],[1, 2]])\n",
        "m_X + m_Y"
      ],
      "metadata": {
        "colab": {
          "base_uri": "https://localhost:8080/"
        },
        "id": "gUo07nn-mPYQ",
        "outputId": "25ec5e63-4757-4a51-c2b3-d097f3a071c6"
      },
      "execution_count": null,
      "outputs": [
        {
          "output_type": "execute_result",
          "data": {
            "text/plain": [
              "array([[3, 1],\n",
              "       [1, 3]])"
            ]
          },
          "metadata": {},
          "execution_count": 12
        }
      ]
    },
    {
      "cell_type": "code",
      "source": [
        "#Multiplicación de un array por un escalar, se obtiene el mismo resultado que al multiplicar una matriz por un escalar\n",
        "m_Z = 2 * m_Y\n",
        "m_Z"
      ],
      "metadata": {
        "colab": {
          "base_uri": "https://localhost:8080/"
        },
        "id": "7U-tCxT-nXzv",
        "outputId": "4882615e-6f3b-4f3e-a029-463b51680b14"
      },
      "execution_count": null,
      "outputs": [
        {
          "output_type": "execute_result",
          "data": {
            "text/plain": [
              "array([[4, 2],\n",
              "       [2, 4]])"
            ]
          },
          "metadata": {},
          "execution_count": 13
        }
      ]
    },
    {
      "cell_type": "code",
      "source": [
        "#Producto de Hadamard\n",
        "#Consiste en multiplicar los elementos que se encuentran en la misma posición en las dos matrices\n",
        "m_Z = m_X * m_Y\n",
        "m_Z"
      ],
      "metadata": {
        "colab": {
          "base_uri": "https://localhost:8080/"
        },
        "id": "1PNuS80InwJs",
        "outputId": "24c65227-7191-46e6-cb93-8ee0eea23062"
      },
      "execution_count": null,
      "outputs": [
        {
          "output_type": "execute_result",
          "data": {
            "text/plain": [
              "array([[2, 0],\n",
              "       [0, 2]])"
            ]
          },
          "metadata": {},
          "execution_count": 14
        }
      ]
    },
    {
      "cell_type": "code",
      "source": [
        "#Multiplicación de matrices\n",
        "#Se realiza con la función dot y se obtiene el mismo resultado que al realizar la multiplicación de matrices\n",
        "m_A = np.array([[0, 1, 1], [1, 0, 1]])\n",
        "m_B = np.array([[1, 1], [1, 1], [-1, 1]])\n",
        "m_C = np.dot(m_A, m_B)\n",
        "m_C"
      ],
      "metadata": {
        "colab": {
          "base_uri": "https://localhost:8080/"
        },
        "id": "HKkAggdWoGfx",
        "outputId": "16e5540f-8c92-4b5c-93d8-057c85b1fe78"
      },
      "execution_count": null,
      "outputs": [
        {
          "output_type": "execute_result",
          "data": {
            "text/plain": [
              "array([[0, 2],\n",
              "       [0, 2]])"
            ]
          },
          "metadata": {},
          "execution_count": 15
        }
      ]
    },
    {
      "cell_type": "code",
      "source": [
        "#Se pueden aplicar funciones matemáticas a todos los elementos de una matriz\n",
        "np.sin(m_C)\n",
        "#El resultado es una matriz y a todos los elementos se les aplicó la función seno"
      ],
      "metadata": {
        "colab": {
          "base_uri": "https://localhost:8080/"
        },
        "id": "oTZ0ceJAsyGa",
        "outputId": "619d22dc-6876-4774-8a72-8e08d6e4dfbb"
      },
      "execution_count": null,
      "outputs": [
        {
          "output_type": "execute_result",
          "data": {
            "text/plain": [
              "array([[0.        , 0.90929743],\n",
              "       [0.        , 0.90929743]])"
            ]
          },
          "metadata": {},
          "execution_count": 16
        }
      ]
    },
    {
      "cell_type": "code",
      "source": [
        "#Con el atributo T se puede obtener la transpuesta de una matriz\n",
        "m_C.T"
      ],
      "metadata": {
        "colab": {
          "base_uri": "https://localhost:8080/"
        },
        "id": "Hk_sEaLKvSZq",
        "outputId": "0da36a56-c328-418a-af00-1323ea3eb4fd"
      },
      "execution_count": null,
      "outputs": [
        {
          "output_type": "execute_result",
          "data": {
            "text/plain": [
              "array([[0, 0],\n",
              "       [2, 2]])"
            ]
          },
          "metadata": {},
          "execution_count": 17
        }
      ]
    },
    {
      "cell_type": "markdown",
      "source": [
        "##Application Program Interfaces (APIs)"
      ],
      "metadata": {
        "id": "RcXeH-v2wRrn"
      }
    },
    {
      "cell_type": "markdown",
      "source": [
        "Una API permite que dos piezas de software se comuniquen entre ellas  \n",
        "Se utiliza el API de pandas para procesar los datos al comunicarse con otros componentes del programa.  \n",
        "Los REST APIs son otro tipo de APIs, estos permiten comunicarse a través de internet para acceder a más recursos para un programa.  \n",
        "En los REST APIs el programa es llamado cliente, el API se comunica con un servicio web que se solicita a través de internet.  \n",
        "Existen una serie de reglas con respecto a:\n",
        "\n",
        "\n",
        "1.   Comunicación\n",
        "2.   Entrada o solicitud\n",
        "3.   Salida o respuesta\n",
        "\n",
        "Se solicita información a un API a través de una solicitud enviada comúnmente por un mensaje HTTP. Este mensaje contiene usualmente un archivo JSON con las instrucciones que se desean que ejecute el servicio. El servicio regresa una respuesta a través de un mensaje HTTP con la información contenida en un archivo JSON"
      ],
      "metadata": {
        "id": "n7h7BA4dwaWo"
      }
    },
    {
      "cell_type": "code",
      "source": [
        "!pip install nba_api #Para utilizar un API es necesario instalar el paquete necesario con pip\n",
        "from nba_api.stats.static import teams"
      ],
      "metadata": {
        "colab": {
          "base_uri": "https://localhost:8080/"
        },
        "id": "F9hMg90svout",
        "outputId": "92fbeabc-a7b3-4ef8-c9ea-c36ea81a1ee3"
      },
      "execution_count": null,
      "outputs": [
        {
          "output_type": "stream",
          "name": "stdout",
          "text": [
            "Looking in indexes: https://pypi.org/simple, https://us-python.pkg.dev/colab-wheels/public/simple/\n",
            "Collecting nba_api\n",
            "  Downloading nba_api-1.1.11.tar.gz (125 kB)\n",
            "\u001b[K     |████████████████████████████████| 125 kB 8.4 MB/s \n",
            "\u001b[?25hRequirement already satisfied: requests in /usr/local/lib/python3.7/dist-packages (from nba_api) (2.23.0)\n",
            "Requirement already satisfied: chardet<4,>=3.0.2 in /usr/local/lib/python3.7/dist-packages (from requests->nba_api) (3.0.4)\n",
            "Requirement already satisfied: urllib3!=1.25.0,!=1.25.1,<1.26,>=1.21.1 in /usr/local/lib/python3.7/dist-packages (from requests->nba_api) (1.24.3)\n",
            "Requirement already satisfied: certifi>=2017.4.17 in /usr/local/lib/python3.7/dist-packages (from requests->nba_api) (2022.6.15)\n",
            "Requirement already satisfied: idna<3,>=2.5 in /usr/local/lib/python3.7/dist-packages (from requests->nba_api) (2.10)\n",
            "Building wheels for collected packages: nba-api\n",
            "  Building wheel for nba-api (setup.py) ... \u001b[?25l\u001b[?25hdone\n",
            "  Created wheel for nba-api: filename=nba_api-1.1.11-py3-none-any.whl size=251504 sha256=30c82cd5817d65a50f849eac2e3aad2f29d173ed754c212191d968832d742182\n",
            "  Stored in directory: /root/.cache/pip/wheels/e3/f4/46/996128675381abc175e306642bae575d372dcf7efc4683e551\n",
            "Successfully built nba-api\n",
            "Installing collected packages: nba-api\n",
            "Successfully installed nba-api-1.1.11\n"
          ]
        }
      ]
    },
    {
      "cell_type": "code",
      "source": [
        "nba_teams = teams.get_teams() #Este método regresa una lista de diccionarios que tienen las mismas llaves pero los valores dependen de cada equipo\n",
        "nba_teams[0:5]"
      ],
      "metadata": {
        "colab": {
          "base_uri": "https://localhost:8080/"
        },
        "id": "65zRoLdy1N9A",
        "outputId": "72990462-ccee-430d-a601-c9b1243a54e3"
      },
      "execution_count": null,
      "outputs": [
        {
          "output_type": "execute_result",
          "data": {
            "text/plain": [
              "[{'id': 1610612737,\n",
              "  'full_name': 'Atlanta Hawks',\n",
              "  'abbreviation': 'ATL',\n",
              "  'nickname': 'Hawks',\n",
              "  'city': 'Atlanta',\n",
              "  'state': 'Atlanta',\n",
              "  'year_founded': 1949},\n",
              " {'id': 1610612738,\n",
              "  'full_name': 'Boston Celtics',\n",
              "  'abbreviation': 'BOS',\n",
              "  'nickname': 'Celtics',\n",
              "  'city': 'Boston',\n",
              "  'state': 'Massachusetts',\n",
              "  'year_founded': 1946},\n",
              " {'id': 1610612739,\n",
              "  'full_name': 'Cleveland Cavaliers',\n",
              "  'abbreviation': 'CLE',\n",
              "  'nickname': 'Cavaliers',\n",
              "  'city': 'Cleveland',\n",
              "  'state': 'Ohio',\n",
              "  'year_founded': 1970},\n",
              " {'id': 1610612740,\n",
              "  'full_name': 'New Orleans Pelicans',\n",
              "  'abbreviation': 'NOP',\n",
              "  'nickname': 'Pelicans',\n",
              "  'city': 'New Orleans',\n",
              "  'state': 'Louisiana',\n",
              "  'year_founded': 2002},\n",
              " {'id': 1610612741,\n",
              "  'full_name': 'Chicago Bulls',\n",
              "  'abbreviation': 'CHI',\n",
              "  'nickname': 'Bulls',\n",
              "  'city': 'Chicago',\n",
              "  'state': 'Illinois',\n",
              "  'year_founded': 1966}]"
            ]
          },
          "metadata": {},
          "execution_count": 20
        }
      ]
    },
    {
      "cell_type": "code",
      "source": [
        "#Convertir el diccionario a una tabla para visualizar mejor los datos y poder trabajar con pandas\n",
        "def one_dict(list_dict):\n",
        "  keys = list_dict[0].keys()\n",
        "  out_dict = {key:[] for key in keys}\n",
        "  for dict_ in list_dict:\n",
        "    for key, value in dict_.items():\n",
        "      out_dict[key].append(value)\n",
        "  return out_dict\n",
        "\n",
        "dict_nba_team = one_dict(nba_teams)"
      ],
      "metadata": {
        "id": "DTs6Ypo_34gF"
      },
      "execution_count": null,
      "outputs": []
    },
    {
      "cell_type": "code",
      "source": [
        "import pandas as pd #Se importa pandas para poder convertir el diccionario a un data frame\n",
        "df_teams = pd.DataFrame(dict_nba_team)\n",
        "df_teams.head() #Se muestran las primeras 5 filas del dataframe"
      ],
      "metadata": {
        "colab": {
          "base_uri": "https://localhost:8080/",
          "height": 206
        },
        "id": "jksNH_Bh40xU",
        "outputId": "82a96185-6885-4feb-97bc-a672a95d0122"
      },
      "execution_count": null,
      "outputs": [
        {
          "output_type": "execute_result",
          "data": {
            "text/plain": [
              "           id             full_name abbreviation   nickname         city  \\\n",
              "0  1610612737         Atlanta Hawks          ATL      Hawks      Atlanta   \n",
              "1  1610612738        Boston Celtics          BOS    Celtics       Boston   \n",
              "2  1610612739   Cleveland Cavaliers          CLE  Cavaliers    Cleveland   \n",
              "3  1610612740  New Orleans Pelicans          NOP   Pelicans  New Orleans   \n",
              "4  1610612741         Chicago Bulls          CHI      Bulls      Chicago   \n",
              "\n",
              "           state  year_founded  \n",
              "0        Atlanta          1949  \n",
              "1  Massachusetts          1946  \n",
              "2           Ohio          1970  \n",
              "3      Louisiana          2002  \n",
              "4       Illinois          1966  "
            ],
            "text/html": [
              "\n",
              "  <div id=\"df-6ebaa6b3-c2df-47da-a908-f5b16405443a\">\n",
              "    <div class=\"colab-df-container\">\n",
              "      <div>\n",
              "<style scoped>\n",
              "    .dataframe tbody tr th:only-of-type {\n",
              "        vertical-align: middle;\n",
              "    }\n",
              "\n",
              "    .dataframe tbody tr th {\n",
              "        vertical-align: top;\n",
              "    }\n",
              "\n",
              "    .dataframe thead th {\n",
              "        text-align: right;\n",
              "    }\n",
              "</style>\n",
              "<table border=\"1\" class=\"dataframe\">\n",
              "  <thead>\n",
              "    <tr style=\"text-align: right;\">\n",
              "      <th></th>\n",
              "      <th>id</th>\n",
              "      <th>full_name</th>\n",
              "      <th>abbreviation</th>\n",
              "      <th>nickname</th>\n",
              "      <th>city</th>\n",
              "      <th>state</th>\n",
              "      <th>year_founded</th>\n",
              "    </tr>\n",
              "  </thead>\n",
              "  <tbody>\n",
              "    <tr>\n",
              "      <th>0</th>\n",
              "      <td>1610612737</td>\n",
              "      <td>Atlanta Hawks</td>\n",
              "      <td>ATL</td>\n",
              "      <td>Hawks</td>\n",
              "      <td>Atlanta</td>\n",
              "      <td>Atlanta</td>\n",
              "      <td>1949</td>\n",
              "    </tr>\n",
              "    <tr>\n",
              "      <th>1</th>\n",
              "      <td>1610612738</td>\n",
              "      <td>Boston Celtics</td>\n",
              "      <td>BOS</td>\n",
              "      <td>Celtics</td>\n",
              "      <td>Boston</td>\n",
              "      <td>Massachusetts</td>\n",
              "      <td>1946</td>\n",
              "    </tr>\n",
              "    <tr>\n",
              "      <th>2</th>\n",
              "      <td>1610612739</td>\n",
              "      <td>Cleveland Cavaliers</td>\n",
              "      <td>CLE</td>\n",
              "      <td>Cavaliers</td>\n",
              "      <td>Cleveland</td>\n",
              "      <td>Ohio</td>\n",
              "      <td>1970</td>\n",
              "    </tr>\n",
              "    <tr>\n",
              "      <th>3</th>\n",
              "      <td>1610612740</td>\n",
              "      <td>New Orleans Pelicans</td>\n",
              "      <td>NOP</td>\n",
              "      <td>Pelicans</td>\n",
              "      <td>New Orleans</td>\n",
              "      <td>Louisiana</td>\n",
              "      <td>2002</td>\n",
              "    </tr>\n",
              "    <tr>\n",
              "      <th>4</th>\n",
              "      <td>1610612741</td>\n",
              "      <td>Chicago Bulls</td>\n",
              "      <td>CHI</td>\n",
              "      <td>Bulls</td>\n",
              "      <td>Chicago</td>\n",
              "      <td>Illinois</td>\n",
              "      <td>1966</td>\n",
              "    </tr>\n",
              "  </tbody>\n",
              "</table>\n",
              "</div>\n",
              "      <button class=\"colab-df-convert\" onclick=\"convertToInteractive('df-6ebaa6b3-c2df-47da-a908-f5b16405443a')\"\n",
              "              title=\"Convert this dataframe to an interactive table.\"\n",
              "              style=\"display:none;\">\n",
              "        \n",
              "  <svg xmlns=\"http://www.w3.org/2000/svg\" height=\"24px\"viewBox=\"0 0 24 24\"\n",
              "       width=\"24px\">\n",
              "    <path d=\"M0 0h24v24H0V0z\" fill=\"none\"/>\n",
              "    <path d=\"M18.56 5.44l.94 2.06.94-2.06 2.06-.94-2.06-.94-.94-2.06-.94 2.06-2.06.94zm-11 1L8.5 8.5l.94-2.06 2.06-.94-2.06-.94L8.5 2.5l-.94 2.06-2.06.94zm10 10l.94 2.06.94-2.06 2.06-.94-2.06-.94-.94-2.06-.94 2.06-2.06.94z\"/><path d=\"M17.41 7.96l-1.37-1.37c-.4-.4-.92-.59-1.43-.59-.52 0-1.04.2-1.43.59L10.3 9.45l-7.72 7.72c-.78.78-.78 2.05 0 2.83L4 21.41c.39.39.9.59 1.41.59.51 0 1.02-.2 1.41-.59l7.78-7.78 2.81-2.81c.8-.78.8-2.07 0-2.86zM5.41 20L4 18.59l7.72-7.72 1.47 1.35L5.41 20z\"/>\n",
              "  </svg>\n",
              "      </button>\n",
              "      \n",
              "  <style>\n",
              "    .colab-df-container {\n",
              "      display:flex;\n",
              "      flex-wrap:wrap;\n",
              "      gap: 12px;\n",
              "    }\n",
              "\n",
              "    .colab-df-convert {\n",
              "      background-color: #E8F0FE;\n",
              "      border: none;\n",
              "      border-radius: 50%;\n",
              "      cursor: pointer;\n",
              "      display: none;\n",
              "      fill: #1967D2;\n",
              "      height: 32px;\n",
              "      padding: 0 0 0 0;\n",
              "      width: 32px;\n",
              "    }\n",
              "\n",
              "    .colab-df-convert:hover {\n",
              "      background-color: #E2EBFA;\n",
              "      box-shadow: 0px 1px 2px rgba(60, 64, 67, 0.3), 0px 1px 3px 1px rgba(60, 64, 67, 0.15);\n",
              "      fill: #174EA6;\n",
              "    }\n",
              "\n",
              "    [theme=dark] .colab-df-convert {\n",
              "      background-color: #3B4455;\n",
              "      fill: #D2E3FC;\n",
              "    }\n",
              "\n",
              "    [theme=dark] .colab-df-convert:hover {\n",
              "      background-color: #434B5C;\n",
              "      box-shadow: 0px 1px 3px 1px rgba(0, 0, 0, 0.15);\n",
              "      filter: drop-shadow(0px 1px 2px rgba(0, 0, 0, 0.3));\n",
              "      fill: #FFFFFF;\n",
              "    }\n",
              "  </style>\n",
              "\n",
              "      <script>\n",
              "        const buttonEl =\n",
              "          document.querySelector('#df-6ebaa6b3-c2df-47da-a908-f5b16405443a button.colab-df-convert');\n",
              "        buttonEl.style.display =\n",
              "          google.colab.kernel.accessAllowed ? 'block' : 'none';\n",
              "\n",
              "        async function convertToInteractive(key) {\n",
              "          const element = document.querySelector('#df-6ebaa6b3-c2df-47da-a908-f5b16405443a');\n",
              "          const dataTable =\n",
              "            await google.colab.kernel.invokeFunction('convertToInteractive',\n",
              "                                                     [key], {});\n",
              "          if (!dataTable) return;\n",
              "\n",
              "          const docLinkHtml = 'Like what you see? Visit the ' +\n",
              "            '<a target=\"_blank\" href=https://colab.research.google.com/notebooks/data_table.ipynb>data table notebook</a>'\n",
              "            + ' to learn more about interactive tables.';\n",
              "          element.innerHTML = '';\n",
              "          dataTable['output_type'] = 'display_data';\n",
              "          await google.colab.output.renderOutput(dataTable, element);\n",
              "          const docLink = document.createElement('div');\n",
              "          docLink.innerHTML = docLinkHtml;\n",
              "          element.appendChild(docLink);\n",
              "        }\n",
              "      </script>\n",
              "    </div>\n",
              "  </div>\n",
              "  "
            ]
          },
          "metadata": {},
          "execution_count": 22
        }
      ]
    },
    {
      "cell_type": "code",
      "source": [
        "df_warriors = df_teams[df_teams['nickname']=='Warriors'] #Para obtener una sección específica del data frame\n",
        "df_warriors"
      ],
      "metadata": {
        "colab": {
          "base_uri": "https://localhost:8080/",
          "height": 81
        },
        "id": "aMaONxpW5Fxg",
        "outputId": "cb090096-e583-4ab3-ed6c-1d0640638d67"
      },
      "execution_count": null,
      "outputs": [
        {
          "output_type": "execute_result",
          "data": {
            "text/plain": [
              "           id              full_name abbreviation  nickname          city  \\\n",
              "7  1610612744  Golden State Warriors          GSW  Warriors  Golden State   \n",
              "\n",
              "        state  year_founded  \n",
              "7  California          1946  "
            ],
            "text/html": [
              "\n",
              "  <div id=\"df-9b2861e9-b01f-460e-88c1-b0bb3918b882\">\n",
              "    <div class=\"colab-df-container\">\n",
              "      <div>\n",
              "<style scoped>\n",
              "    .dataframe tbody tr th:only-of-type {\n",
              "        vertical-align: middle;\n",
              "    }\n",
              "\n",
              "    .dataframe tbody tr th {\n",
              "        vertical-align: top;\n",
              "    }\n",
              "\n",
              "    .dataframe thead th {\n",
              "        text-align: right;\n",
              "    }\n",
              "</style>\n",
              "<table border=\"1\" class=\"dataframe\">\n",
              "  <thead>\n",
              "    <tr style=\"text-align: right;\">\n",
              "      <th></th>\n",
              "      <th>id</th>\n",
              "      <th>full_name</th>\n",
              "      <th>abbreviation</th>\n",
              "      <th>nickname</th>\n",
              "      <th>city</th>\n",
              "      <th>state</th>\n",
              "      <th>year_founded</th>\n",
              "    </tr>\n",
              "  </thead>\n",
              "  <tbody>\n",
              "    <tr>\n",
              "      <th>7</th>\n",
              "      <td>1610612744</td>\n",
              "      <td>Golden State Warriors</td>\n",
              "      <td>GSW</td>\n",
              "      <td>Warriors</td>\n",
              "      <td>Golden State</td>\n",
              "      <td>California</td>\n",
              "      <td>1946</td>\n",
              "    </tr>\n",
              "  </tbody>\n",
              "</table>\n",
              "</div>\n",
              "      <button class=\"colab-df-convert\" onclick=\"convertToInteractive('df-9b2861e9-b01f-460e-88c1-b0bb3918b882')\"\n",
              "              title=\"Convert this dataframe to an interactive table.\"\n",
              "              style=\"display:none;\">\n",
              "        \n",
              "  <svg xmlns=\"http://www.w3.org/2000/svg\" height=\"24px\"viewBox=\"0 0 24 24\"\n",
              "       width=\"24px\">\n",
              "    <path d=\"M0 0h24v24H0V0z\" fill=\"none\"/>\n",
              "    <path d=\"M18.56 5.44l.94 2.06.94-2.06 2.06-.94-2.06-.94-.94-2.06-.94 2.06-2.06.94zm-11 1L8.5 8.5l.94-2.06 2.06-.94-2.06-.94L8.5 2.5l-.94 2.06-2.06.94zm10 10l.94 2.06.94-2.06 2.06-.94-2.06-.94-.94-2.06-.94 2.06-2.06.94z\"/><path d=\"M17.41 7.96l-1.37-1.37c-.4-.4-.92-.59-1.43-.59-.52 0-1.04.2-1.43.59L10.3 9.45l-7.72 7.72c-.78.78-.78 2.05 0 2.83L4 21.41c.39.39.9.59 1.41.59.51 0 1.02-.2 1.41-.59l7.78-7.78 2.81-2.81c.8-.78.8-2.07 0-2.86zM5.41 20L4 18.59l7.72-7.72 1.47 1.35L5.41 20z\"/>\n",
              "  </svg>\n",
              "      </button>\n",
              "      \n",
              "  <style>\n",
              "    .colab-df-container {\n",
              "      display:flex;\n",
              "      flex-wrap:wrap;\n",
              "      gap: 12px;\n",
              "    }\n",
              "\n",
              "    .colab-df-convert {\n",
              "      background-color: #E8F0FE;\n",
              "      border: none;\n",
              "      border-radius: 50%;\n",
              "      cursor: pointer;\n",
              "      display: none;\n",
              "      fill: #1967D2;\n",
              "      height: 32px;\n",
              "      padding: 0 0 0 0;\n",
              "      width: 32px;\n",
              "    }\n",
              "\n",
              "    .colab-df-convert:hover {\n",
              "      background-color: #E2EBFA;\n",
              "      box-shadow: 0px 1px 2px rgba(60, 64, 67, 0.3), 0px 1px 3px 1px rgba(60, 64, 67, 0.15);\n",
              "      fill: #174EA6;\n",
              "    }\n",
              "\n",
              "    [theme=dark] .colab-df-convert {\n",
              "      background-color: #3B4455;\n",
              "      fill: #D2E3FC;\n",
              "    }\n",
              "\n",
              "    [theme=dark] .colab-df-convert:hover {\n",
              "      background-color: #434B5C;\n",
              "      box-shadow: 0px 1px 3px 1px rgba(0, 0, 0, 0.15);\n",
              "      filter: drop-shadow(0px 1px 2px rgba(0, 0, 0, 0.3));\n",
              "      fill: #FFFFFF;\n",
              "    }\n",
              "  </style>\n",
              "\n",
              "      <script>\n",
              "        const buttonEl =\n",
              "          document.querySelector('#df-9b2861e9-b01f-460e-88c1-b0bb3918b882 button.colab-df-convert');\n",
              "        buttonEl.style.display =\n",
              "          google.colab.kernel.accessAllowed ? 'block' : 'none';\n",
              "\n",
              "        async function convertToInteractive(key) {\n",
              "          const element = document.querySelector('#df-9b2861e9-b01f-460e-88c1-b0bb3918b882');\n",
              "          const dataTable =\n",
              "            await google.colab.kernel.invokeFunction('convertToInteractive',\n",
              "                                                     [key], {});\n",
              "          if (!dataTable) return;\n",
              "\n",
              "          const docLinkHtml = 'Like what you see? Visit the ' +\n",
              "            '<a target=\"_blank\" href=https://colab.research.google.com/notebooks/data_table.ipynb>data table notebook</a>'\n",
              "            + ' to learn more about interactive tables.';\n",
              "          element.innerHTML = '';\n",
              "          dataTable['output_type'] = 'display_data';\n",
              "          await google.colab.output.renderOutput(dataTable, element);\n",
              "          const docLink = document.createElement('div');\n",
              "          docLink.innerHTML = docLinkHtml;\n",
              "          element.appendChild(docLink);\n",
              "        }\n",
              "      </script>\n",
              "    </div>\n",
              "  </div>\n",
              "  "
            ]
          },
          "metadata": {},
          "execution_count": 23
        }
      ]
    },
    {
      "cell_type": "code",
      "source": [
        "id_warriors = df_warriors[['id']].values[0][0]"
      ],
      "metadata": {
        "id": "Eso8w9IT6NR8"
      },
      "execution_count": null,
      "outputs": []
    },
    {
      "cell_type": "code",
      "source": [
        "from nba_api.stats.endpoints import leaguegamefinder #La función leaguegamefinder hace una llamada API\n",
        "gamefinder = leaguegamefinder.LeagueGameFinder(team_id_nullable=id_warriors) #La API de la nba está haciendo una solicitud HTTP a la página de la nba\n",
        "#La información es obtenida y transmitida via una respuesta HTTP y esta información es asignada al objeto gamefinder\n",
        "games = gamefinder.get_data_frames()[0] #El objeto gamefinder tiene un método get_data_frames que regresa un data frame\n",
        "games.head()"
      ],
      "metadata": {
        "colab": {
          "base_uri": "https://localhost:8080/",
          "height": 235
        },
        "id": "Z1xQxv4Y5Y9W",
        "outputId": "683edc3b-c22f-444e-e7d8-c1bb2827e714"
      },
      "execution_count": null,
      "outputs": [
        {
          "output_type": "execute_result",
          "data": {
            "text/plain": [
              "  SEASON_ID     TEAM_ID TEAM_ABBREVIATION              TEAM_NAME     GAME_ID  \\\n",
              "0     12022  1610612744               GSW  Golden State Warriors  0012200004   \n",
              "1     12022  1610612744               GSW  Golden State Warriors  0012200001   \n",
              "2     22022  1610612744               GSW  Golden State Warriors  1522200074   \n",
              "3     22022  1610612744               GSW  Golden State Warriors  1522200056   \n",
              "4     22022  1610612744               GSW  Golden State Warriors  1522200035   \n",
              "\n",
              "    GAME_DATE      MATCHUP WL  MIN  PTS  ...  FT_PCT  OREB  DREB   REB  AST  \\\n",
              "0  2022-10-02  GSW vs. WAS  W  240  104  ...   0.667  11.0  36.0  47.0   29   \n",
              "1  2022-09-30    GSW @ WAS  W  239   96  ...   0.775  10.0  52.0  62.0   18   \n",
              "2  2022-07-17  GSW vs. WAS  L  201   77  ...   0.667  12.0  33.0  45.0   15   \n",
              "3  2022-07-15  GSW vs. OKC  L  202   82  ...   0.667   4.0  31.0  35.0   14   \n",
              "4  2022-07-12  GSW vs. BOS  L  199   92  ...   0.667  16.0  22.0  38.0   14   \n",
              "\n",
              "   STL  BLK  TOV  PF  PLUS_MINUS  \n",
              "0    6    5   22  25         9.0  \n",
              "1    6    3   17  27         9.0  \n",
              "2    6    6   21  20       -10.0  \n",
              "3    7    3   16  23        -8.0  \n",
              "4    7    8   13  23       -18.4  \n",
              "\n",
              "[5 rows x 28 columns]"
            ],
            "text/html": [
              "\n",
              "  <div id=\"df-917150d5-d80d-4a31-85da-2bba880b2d55\">\n",
              "    <div class=\"colab-df-container\">\n",
              "      <div>\n",
              "<style scoped>\n",
              "    .dataframe tbody tr th:only-of-type {\n",
              "        vertical-align: middle;\n",
              "    }\n",
              "\n",
              "    .dataframe tbody tr th {\n",
              "        vertical-align: top;\n",
              "    }\n",
              "\n",
              "    .dataframe thead th {\n",
              "        text-align: right;\n",
              "    }\n",
              "</style>\n",
              "<table border=\"1\" class=\"dataframe\">\n",
              "  <thead>\n",
              "    <tr style=\"text-align: right;\">\n",
              "      <th></th>\n",
              "      <th>SEASON_ID</th>\n",
              "      <th>TEAM_ID</th>\n",
              "      <th>TEAM_ABBREVIATION</th>\n",
              "      <th>TEAM_NAME</th>\n",
              "      <th>GAME_ID</th>\n",
              "      <th>GAME_DATE</th>\n",
              "      <th>MATCHUP</th>\n",
              "      <th>WL</th>\n",
              "      <th>MIN</th>\n",
              "      <th>PTS</th>\n",
              "      <th>...</th>\n",
              "      <th>FT_PCT</th>\n",
              "      <th>OREB</th>\n",
              "      <th>DREB</th>\n",
              "      <th>REB</th>\n",
              "      <th>AST</th>\n",
              "      <th>STL</th>\n",
              "      <th>BLK</th>\n",
              "      <th>TOV</th>\n",
              "      <th>PF</th>\n",
              "      <th>PLUS_MINUS</th>\n",
              "    </tr>\n",
              "  </thead>\n",
              "  <tbody>\n",
              "    <tr>\n",
              "      <th>0</th>\n",
              "      <td>12022</td>\n",
              "      <td>1610612744</td>\n",
              "      <td>GSW</td>\n",
              "      <td>Golden State Warriors</td>\n",
              "      <td>0012200004</td>\n",
              "      <td>2022-10-02</td>\n",
              "      <td>GSW vs. WAS</td>\n",
              "      <td>W</td>\n",
              "      <td>240</td>\n",
              "      <td>104</td>\n",
              "      <td>...</td>\n",
              "      <td>0.667</td>\n",
              "      <td>11.0</td>\n",
              "      <td>36.0</td>\n",
              "      <td>47.0</td>\n",
              "      <td>29</td>\n",
              "      <td>6</td>\n",
              "      <td>5</td>\n",
              "      <td>22</td>\n",
              "      <td>25</td>\n",
              "      <td>9.0</td>\n",
              "    </tr>\n",
              "    <tr>\n",
              "      <th>1</th>\n",
              "      <td>12022</td>\n",
              "      <td>1610612744</td>\n",
              "      <td>GSW</td>\n",
              "      <td>Golden State Warriors</td>\n",
              "      <td>0012200001</td>\n",
              "      <td>2022-09-30</td>\n",
              "      <td>GSW @ WAS</td>\n",
              "      <td>W</td>\n",
              "      <td>239</td>\n",
              "      <td>96</td>\n",
              "      <td>...</td>\n",
              "      <td>0.775</td>\n",
              "      <td>10.0</td>\n",
              "      <td>52.0</td>\n",
              "      <td>62.0</td>\n",
              "      <td>18</td>\n",
              "      <td>6</td>\n",
              "      <td>3</td>\n",
              "      <td>17</td>\n",
              "      <td>27</td>\n",
              "      <td>9.0</td>\n",
              "    </tr>\n",
              "    <tr>\n",
              "      <th>2</th>\n",
              "      <td>22022</td>\n",
              "      <td>1610612744</td>\n",
              "      <td>GSW</td>\n",
              "      <td>Golden State Warriors</td>\n",
              "      <td>1522200074</td>\n",
              "      <td>2022-07-17</td>\n",
              "      <td>GSW vs. WAS</td>\n",
              "      <td>L</td>\n",
              "      <td>201</td>\n",
              "      <td>77</td>\n",
              "      <td>...</td>\n",
              "      <td>0.667</td>\n",
              "      <td>12.0</td>\n",
              "      <td>33.0</td>\n",
              "      <td>45.0</td>\n",
              "      <td>15</td>\n",
              "      <td>6</td>\n",
              "      <td>6</td>\n",
              "      <td>21</td>\n",
              "      <td>20</td>\n",
              "      <td>-10.0</td>\n",
              "    </tr>\n",
              "    <tr>\n",
              "      <th>3</th>\n",
              "      <td>22022</td>\n",
              "      <td>1610612744</td>\n",
              "      <td>GSW</td>\n",
              "      <td>Golden State Warriors</td>\n",
              "      <td>1522200056</td>\n",
              "      <td>2022-07-15</td>\n",
              "      <td>GSW vs. OKC</td>\n",
              "      <td>L</td>\n",
              "      <td>202</td>\n",
              "      <td>82</td>\n",
              "      <td>...</td>\n",
              "      <td>0.667</td>\n",
              "      <td>4.0</td>\n",
              "      <td>31.0</td>\n",
              "      <td>35.0</td>\n",
              "      <td>14</td>\n",
              "      <td>7</td>\n",
              "      <td>3</td>\n",
              "      <td>16</td>\n",
              "      <td>23</td>\n",
              "      <td>-8.0</td>\n",
              "    </tr>\n",
              "    <tr>\n",
              "      <th>4</th>\n",
              "      <td>22022</td>\n",
              "      <td>1610612744</td>\n",
              "      <td>GSW</td>\n",
              "      <td>Golden State Warriors</td>\n",
              "      <td>1522200035</td>\n",
              "      <td>2022-07-12</td>\n",
              "      <td>GSW vs. BOS</td>\n",
              "      <td>L</td>\n",
              "      <td>199</td>\n",
              "      <td>92</td>\n",
              "      <td>...</td>\n",
              "      <td>0.667</td>\n",
              "      <td>16.0</td>\n",
              "      <td>22.0</td>\n",
              "      <td>38.0</td>\n",
              "      <td>14</td>\n",
              "      <td>7</td>\n",
              "      <td>8</td>\n",
              "      <td>13</td>\n",
              "      <td>23</td>\n",
              "      <td>-18.4</td>\n",
              "    </tr>\n",
              "  </tbody>\n",
              "</table>\n",
              "<p>5 rows × 28 columns</p>\n",
              "</div>\n",
              "      <button class=\"colab-df-convert\" onclick=\"convertToInteractive('df-917150d5-d80d-4a31-85da-2bba880b2d55')\"\n",
              "              title=\"Convert this dataframe to an interactive table.\"\n",
              "              style=\"display:none;\">\n",
              "        \n",
              "  <svg xmlns=\"http://www.w3.org/2000/svg\" height=\"24px\"viewBox=\"0 0 24 24\"\n",
              "       width=\"24px\">\n",
              "    <path d=\"M0 0h24v24H0V0z\" fill=\"none\"/>\n",
              "    <path d=\"M18.56 5.44l.94 2.06.94-2.06 2.06-.94-2.06-.94-.94-2.06-.94 2.06-2.06.94zm-11 1L8.5 8.5l.94-2.06 2.06-.94-2.06-.94L8.5 2.5l-.94 2.06-2.06.94zm10 10l.94 2.06.94-2.06 2.06-.94-2.06-.94-.94-2.06-.94 2.06-2.06.94z\"/><path d=\"M17.41 7.96l-1.37-1.37c-.4-.4-.92-.59-1.43-.59-.52 0-1.04.2-1.43.59L10.3 9.45l-7.72 7.72c-.78.78-.78 2.05 0 2.83L4 21.41c.39.39.9.59 1.41.59.51 0 1.02-.2 1.41-.59l7.78-7.78 2.81-2.81c.8-.78.8-2.07 0-2.86zM5.41 20L4 18.59l7.72-7.72 1.47 1.35L5.41 20z\"/>\n",
              "  </svg>\n",
              "      </button>\n",
              "      \n",
              "  <style>\n",
              "    .colab-df-container {\n",
              "      display:flex;\n",
              "      flex-wrap:wrap;\n",
              "      gap: 12px;\n",
              "    }\n",
              "\n",
              "    .colab-df-convert {\n",
              "      background-color: #E8F0FE;\n",
              "      border: none;\n",
              "      border-radius: 50%;\n",
              "      cursor: pointer;\n",
              "      display: none;\n",
              "      fill: #1967D2;\n",
              "      height: 32px;\n",
              "      padding: 0 0 0 0;\n",
              "      width: 32px;\n",
              "    }\n",
              "\n",
              "    .colab-df-convert:hover {\n",
              "      background-color: #E2EBFA;\n",
              "      box-shadow: 0px 1px 2px rgba(60, 64, 67, 0.3), 0px 1px 3px 1px rgba(60, 64, 67, 0.15);\n",
              "      fill: #174EA6;\n",
              "    }\n",
              "\n",
              "    [theme=dark] .colab-df-convert {\n",
              "      background-color: #3B4455;\n",
              "      fill: #D2E3FC;\n",
              "    }\n",
              "\n",
              "    [theme=dark] .colab-df-convert:hover {\n",
              "      background-color: #434B5C;\n",
              "      box-shadow: 0px 1px 3px 1px rgba(0, 0, 0, 0.15);\n",
              "      filter: drop-shadow(0px 1px 2px rgba(0, 0, 0, 0.3));\n",
              "      fill: #FFFFFF;\n",
              "    }\n",
              "  </style>\n",
              "\n",
              "      <script>\n",
              "        const buttonEl =\n",
              "          document.querySelector('#df-917150d5-d80d-4a31-85da-2bba880b2d55 button.colab-df-convert');\n",
              "        buttonEl.style.display =\n",
              "          google.colab.kernel.accessAllowed ? 'block' : 'none';\n",
              "\n",
              "        async function convertToInteractive(key) {\n",
              "          const element = document.querySelector('#df-917150d5-d80d-4a31-85da-2bba880b2d55');\n",
              "          const dataTable =\n",
              "            await google.colab.kernel.invokeFunction('convertToInteractive',\n",
              "                                                     [key], {});\n",
              "          if (!dataTable) return;\n",
              "\n",
              "          const docLinkHtml = 'Like what you see? Visit the ' +\n",
              "            '<a target=\"_blank\" href=https://colab.research.google.com/notebooks/data_table.ipynb>data table notebook</a>'\n",
              "            + ' to learn more about interactive tables.';\n",
              "          element.innerHTML = '';\n",
              "          dataTable['output_type'] = 'display_data';\n",
              "          await google.colab.output.renderOutput(dataTable, element);\n",
              "          const docLink = document.createElement('div');\n",
              "          docLink.innerHTML = docLinkHtml;\n",
              "          element.appendChild(docLink);\n",
              "        }\n",
              "      </script>\n",
              "    </div>\n",
              "  </div>\n",
              "  "
            ]
          },
          "metadata": {},
          "execution_count": 25
        }
      ]
    },
    {
      "cell_type": "code",
      "source": [
        "games_home = games[games['MATCHUP']=='GSW vs. TOR'] #Se obtiene un data frame con las filas en las que se cumple que los Warriors juegan en casa\n",
        "games_away = games[games['MATCHUP']=='GSW @ TOR'] #Se obtiene un data frame con las filas en las que se cumple que los Warriors como visitantes contra Toronto"
      ],
      "metadata": {
        "id": "UAOjEff37K1N"
      },
      "execution_count": null,
      "outputs": []
    },
    {
      "cell_type": "code",
      "source": [
        "import matplotlib.pyplot as plt #Se importa la librería para obtener gráficos\n",
        "fig, ax = plt.subplots() #Se grafican las fechas y la diferencia de puntos para observar qué desempeño tiene el equipo al jugar en casa y como visitante contra Toronto\n",
        "games_away.plot(x='GAME_DATE', y='PLUS_MINUS', ax=ax) \n",
        "games_home.plot(x='GAME_DATE', y='PLUS_MINUS', ax=ax)\n",
        "ax.legend(['away', 'home'])\n",
        "plt.show()"
      ],
      "metadata": {
        "colab": {
          "base_uri": "https://localhost:8080/",
          "height": 280
        },
        "id": "CyMVSwzZ9zv1",
        "outputId": "5d48434b-3a61-4cb4-a1b3-54c48a850410"
      },
      "execution_count": null,
      "outputs": [
        {
          "output_type": "display_data",
          "data": {
            "text/plain": [
              "<Figure size 432x288 with 1 Axes>"
            ],
            "image/png": "[encoded data removed]"
          },
          "metadata": {
            "needs_background": "light"
          }
        }
      ]
    },
    {
      "cell_type": "markdown",
      "source": [
        "APIs que utilizan algún tipo de inteligencia artificial  \n",
        "Se utiliza el API de Watson de text to speech, posteriormente se traducirá el texto a otro idioma utilizando el API de Watson para traducir.  \n",
        "En la llamada API se enviará una copia del audio al API, esto es aveces llamado post request, después la API enviará el audio convertido a texto."
      ],
      "metadata": {
        "id": "rAuYTuEy_TOg"
      }
    },
    {
      "cell_type": "markdown",
      "source": [
        "Una llave API es una forma de acceder a la API, es un conjunto único de caracteres que usa la API para identificar y autorizar. Usualmente la primer llamada a una API incluye la llave API.\n",
        "Un endpoint es simplemente la ubicación del servicio, es utilizado para encontrar la API en el internet."
      ],
      "metadata": {
        "id": "aqf4AJYNAc60"
      }
    },
    {
      "cell_type": "code",
      "source": [
        "!pip install ibm_watson"
      ],
      "metadata": {
        "id": "Mxv8ZFRg-Px5",
        "colab": {
          "base_uri": "https://localhost:8080/"
        },
        "outputId": "d76fff5b-8499-491a-a716-1a15778bbb29"
      },
      "execution_count": 1,
      "outputs": [
        {
          "output_type": "stream",
          "name": "stdout",
          "text": [
            "Looking in indexes: https://pypi.org/simple, https://us-python.pkg.dev/colab-wheels/public/simple/\n",
            "Requirement already satisfied: ibm_watson in /usr/local/lib/python3.7/dist-packages (6.1.0)\n",
            "Requirement already satisfied: python-dateutil>=2.5.3 in /usr/local/lib/python3.7/dist-packages (from ibm_watson) (2.8.2)\n",
            "Requirement already satisfied: requests<3.0,>=2.0 in /usr/local/lib/python3.7/dist-packages (from ibm_watson) (2.28.1)\n",
            "Requirement already satisfied: websocket-client==1.1.0 in /usr/local/lib/python3.7/dist-packages (from ibm_watson) (1.1.0)\n",
            "Requirement already satisfied: ibm-cloud-sdk-core==3.*,>=3.3.6 in /usr/local/lib/python3.7/dist-packages (from ibm_watson) (3.16.0)\n",
            "Requirement already satisfied: urllib3<2.0.0,>=1.26.0 in /usr/local/lib/python3.7/dist-packages (from ibm-cloud-sdk-core==3.*,>=3.3.6->ibm_watson) (1.26.12)\n",
            "Requirement already satisfied: PyJWT<3.0.0,>=2.4.0 in /usr/local/lib/python3.7/dist-packages (from ibm-cloud-sdk-core==3.*,>=3.3.6->ibm_watson) (2.5.0)\n",
            "Requirement already satisfied: six>=1.5 in /usr/local/lib/python3.7/dist-packages (from python-dateutil>=2.5.3->ibm_watson) (1.15.0)\n",
            "Requirement already satisfied: certifi>=2017.4.17 in /usr/local/lib/python3.7/dist-packages (from requests<3.0,>=2.0->ibm_watson) (2022.6.15)\n",
            "Requirement already satisfied: idna<4,>=2.5 in /usr/local/lib/python3.7/dist-packages (from requests<3.0,>=2.0->ibm_watson) (2.10)\n",
            "Requirement already satisfied: charset-normalizer<3,>=2 in /usr/local/lib/python3.7/dist-packages (from requests<3.0,>=2.0->ibm_watson) (2.1.1)\n"
          ]
        }
      ]
    },
    {
      "cell_type": "code",
      "source": [
        "from ibm_watson import SpeechToTextV1 #Se importa el API\n",
        "url_s2t = 'https://stream.watsonplatform.net/speech-to-text/api' #Se especifica la ubicación del endpoint del servicio solicitado\n",
        "iam_apikey_s2t = 'API KEY' #Se guarda también la API key en una variable\n",
        "s2t = SpeechToTextV1(iam_apikey = iam_apikey_s2t, url = url_s2t) #Se crea un objeto Speech to Text, los parámetros son el endpoint y la API key, se utiliza este objeto para comunicarse con el servicio\n",
        "filename = 'Ruta del archivo'\n",
        "with open(filename, mode = 'rb') as wav: #Se cre un objeto wav con el archivo de sonido que se desea convertir a texto, el modo rb indica leer el archivo en formato binario\n",
        "  response = s2t.recognize(audio=wav, content_type='audio/wav') #Se utiliza el método recognizr del objeto Speech to text, esto envía el audio al servicio speech to text de Watson\n",
        "  #El parámetro audio es el objeto creado a partir del archivo, el content_type es el formato del archivo de audio\n",
        "  #El servicio envía una respuesta que se almacena en el objeto response"
      ],
      "metadata": {
        "id": "xSWueMIOO9TJ"
      },
      "execution_count": null,
      "outputs": []
    },
    {
      "cell_type": "code",
      "source": [
        "#El atributo result del objeto response contiene un diccionario de python\n",
        "#La llave results contiene un valor que es una lista que contiene un diccionario\n",
        "#La llave transcript contiene el texto que se obtuvo a partir del audio\n",
        "response.result\n",
        "recognized_text = response.result['results'][0]['alternatives'][0]['transcript'] #En recognized_text se guarda el texto obtenido"
      ],
      "metadata": {
        "id": "NsIv7GjkRm2Q"
      },
      "execution_count": null,
      "outputs": []
    },
    {
      "cell_type": "code",
      "source": [
        "#Watson Language Translator\n",
        "from ibm_watson import LanguageTranslatorV3\n",
        "url_lt = 'url del endpoint' #La ubicación del endpoint se guarda en la variable url_lt\n",
        "apikey_lt = 'api key' #La API key del servicio se guarda en una variable\n",
        "version_lt = 'fecha de la versión' #Esta API requiere la fecha de la versión \n",
        "#Se crea un objeto language translator\n",
        "language_translator = LanguageTranslatorV3(iam_apikey = apikey_lt, url=url_lt, version=version_lt)\n",
        "language_translator.list_identifiable_languages().get_result() #Se obtiene una lista de los lenguajes que el servicio puede identificar"
      ],
      "metadata": {
        "id": "GDaKrBjsSate"
      },
      "execution_count": null,
      "outputs": []
    },
    {
      "cell_type": "code",
      "source": [
        "translation_response = language_translator.translate(text=recognized_text, model_id='en-es') #El método translate es utilizado para traducir el texto, el resultado es un objeto response detallado\n",
        "#El parámetro model indica que la traducción será de inglés a español\n",
        "translation = translation_response.get_result() #Con el método get_result se obtiene el texto traducido y se guarda en una variable\n",
        "#El resultado es un diccionario que incluye el texto traducido, el conteo de palabras y el conteo de caracteres\n",
        "spanish_translation =  translation['translations'][0]['translation']"
      ],
      "metadata": {
        "id": "UfY2yn3rTubk"
      },
      "execution_count": null,
      "outputs": []
    },
    {
      "cell_type": "code",
      "source": [
        "import requests #Librería que permite enviar requests HTTP facilmente"
      ],
      "metadata": {
        "id": "6KOGsOSibu7m"
      },
      "execution_count": 2,
      "outputs": []
    },
    {
      "cell_type": "code",
      "source": [
        "import os \n",
        "from PIL import Image\n",
        "from IPython.display import IFrame"
      ],
      "metadata": {
        "id": "_A20AOrzbwn1"
      },
      "execution_count": 3,
      "outputs": []
    },
    {
      "cell_type": "code",
      "source": [
        "url='https://www.ibm.com/'\n",
        "r=requests.get(url) #Para realizar una solicitud get"
      ],
      "metadata": {
        "id": "TZ0qCt4Ob_re"
      },
      "execution_count": 4,
      "outputs": []
    },
    {
      "cell_type": "code",
      "source": [
        "r.status_code #El objeto r es un objeto de respuesta, el atributo status_code regresa el estado de la solicitud"
      ],
      "metadata": {
        "colab": {
          "base_uri": "https://localhost:8080/"
        },
        "id": "TEErH_TlckCj",
        "outputId": "d261774b-ff69-40f7-bc21-41c08b368e8e"
      },
      "execution_count": 5,
      "outputs": [
        {
          "output_type": "execute_result",
          "data": {
            "text/plain": [
              "200"
            ]
          },
          "metadata": {},
          "execution_count": 5
        }
      ]
    },
    {
      "cell_type": "code",
      "source": [
        "print(r.request.headers)\n",
        "header = r.headers #Regresa un diccionario con información de los headers HTTP"
      ],
      "metadata": {
        "colab": {
          "base_uri": "https://localhost:8080/"
        },
        "id": "BFsT7vvMclRe",
        "outputId": "bad53bae-992a-4a5d-875c-531c2a19b134"
      },
      "execution_count": 8,
      "outputs": [
        {
          "output_type": "stream",
          "name": "stdout",
          "text": [
            "{'User-Agent': 'python-requests/2.28.1', 'Accept-Encoding': 'gzip, deflate', 'Accept': '*/*', 'Connection': 'keep-alive', 'Cookie': '_abck=6DB8989A577A98D3EFDBFA403ACBE11A~-1~YAAQLWzTF4a3+p2DAQAAdiRypAhpl9080jcBdzg/ea0vYnBsnQiQXArLojz+7Jwjlnxd+U7KXvGnFTJxsIk/m7OfCRRQQATlUCXEHGIX7o0VT6zsREjKw+hLxO4k1k592osH3KBp3OSyqPPdVOPQUsCRF8PKsuJNQciqe+99VNE3ou6keY2HAMJxwT4BI7QHK0mzGj6OpKnCbmCk1HBpyPLBTpAA2LJoRPS2TRlQUxX2IgEa2QFfanrg1RLuxNn0v1zrmhc7Q20YhiyNSl1gjsxaUcXpoOH2KXQbnXzypSAqXKrBSFqPonTmsMg2QVAoj0IylWr6sFJ6QhcSrEPMSwRZSXW1//ID6PwOr+v2bKfs4tTtznQ=~-1~-1~-1; bm_sz=8F22FA1EEE6440129BC61DE4C3D5C73B~YAAQLWzTF4e3+p2DAQAAdiRypBGelIDMuWGuEAAbzZqcRhfYQO3eGxoaUQKwAEr39R/n2SsvUq3lP4MJkp/WGC8BfXCmHln6EZkPXlwyJWd+pOTwI/vhO1imf227ZduW6M1/VF1D5hq5gJmJ+eURiMLMtlitm+vLBEeXc3cFDfBaSby836UFZO5NITSq89LMHCpVlVGIn4vCl5+bQZjha5nUfJKoNk1TapDxJ8tKG+9Xs5vfbAf9UBhkLLgsP6zFYMGhCILleZi5SLOB/heubllmopovrySPqIMonowVFcg=~3158854~4408114'}\n"
          ]
        }
      ]
    },
    {
      "cell_type": "code",
      "source": [
        "header['date'] #Se obtiene la fecha en la que se hizo la solicitud"
      ],
      "metadata": {
        "colab": {
          "base_uri": "https://localhost:8080/",
          "height": 35
        },
        "id": "LLA2ewhtdYXh",
        "outputId": "eef47fcc-f302-4b43-f78a-a15d525f5e0f"
      },
      "execution_count": 9,
      "outputs": [
        {
          "output_type": "execute_result",
          "data": {
            "text/plain": [
              "'Tue, 04 Oct 2022 19:21:27 GMT'"
            ],
            "application/vnd.google.colaboratory.intrinsic+json": {
              "type": "string"
            }
          },
          "metadata": {},
          "execution_count": 9
        }
      ]
    },
    {
      "cell_type": "code",
      "source": [
        "r.text[0:100] #Regresa los primeros 100 caracteres del archivo html"
      ],
      "metadata": {
        "colab": {
          "base_uri": "https://localhost:8080/",
          "height": 35
        },
        "id": "qRWZFYPpdsGX",
        "outputId": "86668a9a-67be-4bd6-cf62-1e4b9d35cfd1"
      },
      "execution_count": 10,
      "outputs": [
        {
          "output_type": "execute_result",
          "data": {
            "text/plain": [
              "'<!DOCTYPE html><html lang=\"en-US\"><head><meta name=\"viewport\" content=\"width=device-width\"/><meta ch'"
            ],
            "application/vnd.google.colaboratory.intrinsic+json": {
              "type": "string"
            }
          },
          "metadata": {},
          "execution_count": 10
        }
      ]
    },
    {
      "cell_type": "code",
      "source": [
        "#Se puede cargar otro tipo de archivos a partir de requests\n",
        "url='https://cf-courses-data.s3.us.cloud-object-storage.appdomain.cloud/IBMDeveloperSkillsNetwork-PY0101EN-SkillsNetwork/IDSNlogo.png'"
      ],
      "metadata": {
        "id": "b3sBo1T7d5Rp"
      },
      "execution_count": 11,
      "outputs": []
    },
    {
      "cell_type": "code",
      "source": [
        "r=requests.get(url)"
      ],
      "metadata": {
        "id": "fu4m8DQfeI7p"
      },
      "execution_count": 12,
      "outputs": []
    },
    {
      "cell_type": "code",
      "source": [
        "path=os.path.join(os.getcwd(),'image.png') #Una imagen es un objeto de respuesta que contiene la imagen como un objeto de bytes, se debe guardar usando un objeto de tipo achivo\n",
        "path"
      ],
      "metadata": {
        "colab": {
          "base_uri": "https://localhost:8080/",
          "height": 35
        },
        "id": "ZYqpxMkxeKzf",
        "outputId": "bea9b798-ed5a-40a8-8ca7-9054f771defa"
      },
      "execution_count": 13,
      "outputs": [
        {
          "output_type": "execute_result",
          "data": {
            "text/plain": [
              "'/content/image.png'"
            ],
            "application/vnd.google.colaboratory.intrinsic+json": {
              "type": "string"
            }
          },
          "metadata": {},
          "execution_count": 13
        }
      ]
    },
    {
      "cell_type": "code",
      "source": [
        "with open(path,'wb') as f: #Se guarda el archivo, para acceder al cuerpo de la respuesta se utiliza el atributo content, y luego se guarda usando la función open y el método write\n",
        "    f.write(r.content)"
      ],
      "metadata": {
        "id": "p1KPjHqiePJs"
      },
      "execution_count": 14,
      "outputs": []
    },
    {
      "cell_type": "code",
      "source": [
        "Image.open(path) #Para visualizar la imagen"
      ],
      "metadata": {
        "colab": {
          "base_uri": "https://localhost:8080/",
          "height": 817
        },
        "id": "jry_TVxReQ6G",
        "outputId": "cf6b8af7-1a06-4206-ba9c-e63a7292381d"
      },
      "execution_count": 15,
      "outputs": [
        {
          "output_type": "execute_result",
          "data": {
            "text/plain": [
              "<PIL.PngImagePlugin.PngImageFile image mode=P size=800x800 at 0x7F7485A28D50>"
            ],
            "image/png": "[encoded data removed]"
          },
          "metadata": {},
          "execution_count": 15
        }
      ]
    },
    {
      "cell_type": "code",
      "source": [
        "import json #Ejercicio del Lab para obtener datos de una API a través de request\n",
        "data = requests.get(\"https://www.xeno-canto.org/api/2/recordings?query=troglodytes+troglodytes\")\n",
        "data"
      ],
      "metadata": {
        "colab": {
          "base_uri": "https://localhost:8080/"
        },
        "id": "MhoQ9lX9eTvD",
        "outputId": "7c4a9214-b50b-44f4-a251-4dc660c4531c"
      },
      "execution_count": 27,
      "outputs": [
        {
          "output_type": "execute_result",
          "data": {
            "text/plain": [
              "<Response [200]>"
            ]
          },
          "metadata": {},
          "execution_count": 27
        }
      ]
    },
    {
      "cell_type": "code",
      "source": [
        "resultados = json.loads(data.text)"
      ],
      "metadata": {
        "id": "_i02gzzxjmC6"
      },
      "execution_count": 33,
      "outputs": []
    },
    {
      "cell_type": "code",
      "source": [
        "import pandas as pd #Se importa pandas para poder convertir los datos obtenidos en un data frame"
      ],
      "metadata": {
        "id": "2dDeEIX_kz4x"
      },
      "execution_count": 29,
      "outputs": []
    },
    {
      "cell_type": "code",
      "source": [
        "pd.DataFrame(resultados) #Convertir los datos obtenidos en JSON a data frame"
      ],
      "metadata": {
        "colab": {
          "base_uri": "https://localhost:8080/",
          "height": 424
        },
        "id": "wcDF8wBjlVZR",
        "outputId": "0aa126f1-4d71-4fc1-f646-0b145cbcd1ac"
      },
      "execution_count": 34,
      "outputs": [
        {
          "output_type": "execute_result",
          "data": {
            "text/plain": [
              "    numRecordings numSpecies  page  numPages  \\\n",
              "0            3671          1     1         8   \n",
              "1            3671          1     1         8   \n",
              "2            3671          1     1         8   \n",
              "3            3671          1     1         8   \n",
              "4            3671          1     1         8   \n",
              "..            ...        ...   ...       ...   \n",
              "495          3671          1     1         8   \n",
              "496          3671          1     1         8   \n",
              "497          3671          1     1         8   \n",
              "498          3671          1     1         8   \n",
              "499          3671          1     1         8   \n",
              "\n",
              "                                            recordings  \n",
              "0    {'id': '753005', 'gen': 'Troglodytes', 'sp': '...  \n",
              "1    {'id': '750527', 'gen': 'Troglodytes', 'sp': '...  \n",
              "2    {'id': '750526', 'gen': 'Troglodytes', 'sp': '...  \n",
              "3    {'id': '749512', 'gen': 'Troglodytes', 'sp': '...  \n",
              "4    {'id': '749510', 'gen': 'Troglodytes', 'sp': '...  \n",
              "..                                                 ...  \n",
              "495  {'id': '595581', 'gen': 'Troglodytes', 'sp': '...  \n",
              "496  {'id': '595580', 'gen': 'Troglodytes', 'sp': '...  \n",
              "497  {'id': '595579', 'gen': 'Troglodytes', 'sp': '...  \n",
              "498  {'id': '595576', 'gen': 'Troglodytes', 'sp': '...  \n",
              "499  {'id': '595573', 'gen': 'Troglodytes', 'sp': '...  \n",
              "\n",
              "[500 rows x 5 columns]"
            ],
            "text/html": [
              "\n",
              "  <div id=\"df-b963aed3-0ab8-4872-8bc1-1c2543857b8c\">\n",
              "    <div class=\"colab-df-container\">\n",
              "      <div>\n",
              "<style scoped>\n",
              "    .dataframe tbody tr th:only-of-type {\n",
              "        vertical-align: middle;\n",
              "    }\n",
              "\n",
              "    .dataframe tbody tr th {\n",
              "        vertical-align: top;\n",
              "    }\n",
              "\n",
              "    .dataframe thead th {\n",
              "        text-align: right;\n",
              "    }\n",
              "</style>\n",
              "<table border=\"1\" class=\"dataframe\">\n",
              "  <thead>\n",
              "    <tr style=\"text-align: right;\">\n",
              "      <th></th>\n",
              "      <th>numRecordings</th>\n",
              "      <th>numSpecies</th>\n",
              "      <th>page</th>\n",
              "      <th>numPages</th>\n",
              "      <th>recordings</th>\n",
              "    </tr>\n",
              "  </thead>\n",
              "  <tbody>\n",
              "    <tr>\n",
              "      <th>0</th>\n",
              "      <td>3671</td>\n",
              "      <td>1</td>\n",
              "      <td>1</td>\n",
              "      <td>8</td>\n",
              "      <td>{'id': '753005', 'gen': 'Troglodytes', 'sp': '...</td>\n",
              "    </tr>\n",
              "    <tr>\n",
              "      <th>1</th>\n",
              "      <td>3671</td>\n",
              "      <td>1</td>\n",
              "      <td>1</td>\n",
              "      <td>8</td>\n",
              "      <td>{'id': '750527', 'gen': 'Troglodytes', 'sp': '...</td>\n",
              "    </tr>\n",
              "    <tr>\n",
              "      <th>2</th>\n",
              "      <td>3671</td>\n",
              "      <td>1</td>\n",
              "      <td>1</td>\n",
              "      <td>8</td>\n",
              "      <td>{'id': '750526', 'gen': 'Troglodytes', 'sp': '...</td>\n",
              "    </tr>\n",
              "    <tr>\n",
              "      <th>3</th>\n",
              "      <td>3671</td>\n",
              "      <td>1</td>\n",
              "      <td>1</td>\n",
              "      <td>8</td>\n",
              "      <td>{'id': '749512', 'gen': 'Troglodytes', 'sp': '...</td>\n",
              "    </tr>\n",
              "    <tr>\n",
              "      <th>4</th>\n",
              "      <td>3671</td>\n",
              "      <td>1</td>\n",
              "      <td>1</td>\n",
              "      <td>8</td>\n",
              "      <td>{'id': '749510', 'gen': 'Troglodytes', 'sp': '...</td>\n",
              "    </tr>\n",
              "    <tr>\n",
              "      <th>...</th>\n",
              "      <td>...</td>\n",
              "      <td>...</td>\n",
              "      <td>...</td>\n",
              "      <td>...</td>\n",
              "      <td>...</td>\n",
              "    </tr>\n",
              "    <tr>\n",
              "      <th>495</th>\n",
              "      <td>3671</td>\n",
              "      <td>1</td>\n",
              "      <td>1</td>\n",
              "      <td>8</td>\n",
              "      <td>{'id': '595581', 'gen': 'Troglodytes', 'sp': '...</td>\n",
              "    </tr>\n",
              "    <tr>\n",
              "      <th>496</th>\n",
              "      <td>3671</td>\n",
              "      <td>1</td>\n",
              "      <td>1</td>\n",
              "      <td>8</td>\n",
              "      <td>{'id': '595580', 'gen': 'Troglodytes', 'sp': '...</td>\n",
              "    </tr>\n",
              "    <tr>\n",
              "      <th>497</th>\n",
              "      <td>3671</td>\n",
              "      <td>1</td>\n",
              "      <td>1</td>\n",
              "      <td>8</td>\n",
              "      <td>{'id': '595579', 'gen': 'Troglodytes', 'sp': '...</td>\n",
              "    </tr>\n",
              "    <tr>\n",
              "      <th>498</th>\n",
              "      <td>3671</td>\n",
              "      <td>1</td>\n",
              "      <td>1</td>\n",
              "      <td>8</td>\n",
              "      <td>{'id': '595576', 'gen': 'Troglodytes', 'sp': '...</td>\n",
              "    </tr>\n",
              "    <tr>\n",
              "      <th>499</th>\n",
              "      <td>3671</td>\n",
              "      <td>1</td>\n",
              "      <td>1</td>\n",
              "      <td>8</td>\n",
              "      <td>{'id': '595573', 'gen': 'Troglodytes', 'sp': '...</td>\n",
              "    </tr>\n",
              "  </tbody>\n",
              "</table>\n",
              "<p>500 rows × 5 columns</p>\n",
              "</div>\n",
              "      <button class=\"colab-df-convert\" onclick=\"convertToInteractive('df-b963aed3-0ab8-4872-8bc1-1c2543857b8c')\"\n",
              "              title=\"Convert this dataframe to an interactive table.\"\n",
              "              style=\"display:none;\">\n",
              "        \n",
              "  <svg xmlns=\"http://www.w3.org/2000/svg\" height=\"24px\"viewBox=\"0 0 24 24\"\n",
              "       width=\"24px\">\n",
              "    <path d=\"M0 0h24v24H0V0z\" fill=\"none\"/>\n",
              "    <path d=\"M18.56 5.44l.94 2.06.94-2.06 2.06-.94-2.06-.94-.94-2.06-.94 2.06-2.06.94zm-11 1L8.5 8.5l.94-2.06 2.06-.94-2.06-.94L8.5 2.5l-.94 2.06-2.06.94zm10 10l.94 2.06.94-2.06 2.06-.94-2.06-.94-.94-2.06-.94 2.06-2.06.94z\"/><path d=\"M17.41 7.96l-1.37-1.37c-.4-.4-.92-.59-1.43-.59-.52 0-1.04.2-1.43.59L10.3 9.45l-7.72 7.72c-.78.78-.78 2.05 0 2.83L4 21.41c.39.39.9.59 1.41.59.51 0 1.02-.2 1.41-.59l7.78-7.78 2.81-2.81c.8-.78.8-2.07 0-2.86zM5.41 20L4 18.59l7.72-7.72 1.47 1.35L5.41 20z\"/>\n",
              "  </svg>\n",
              "      </button>\n",
              "      \n",
              "  <style>\n",
              "    .colab-df-container {\n",
              "      display:flex;\n",
              "      flex-wrap:wrap;\n",
              "      gap: 12px;\n",
              "    }\n",
              "\n",
              "    .colab-df-convert {\n",
              "      background-color: #E8F0FE;\n",
              "      border: none;\n",
              "      border-radius: 50%;\n",
              "      cursor: pointer;\n",
              "      display: none;\n",
              "      fill: #1967D2;\n",
              "      height: 32px;\n",
              "      padding: 0 0 0 0;\n",
              "      width: 32px;\n",
              "    }\n",
              "\n",
              "    .colab-df-convert:hover {\n",
              "      background-color: #E2EBFA;\n",
              "      box-shadow: 0px 1px 2px rgba(60, 64, 67, 0.3), 0px 1px 3px 1px rgba(60, 64, 67, 0.15);\n",
              "      fill: #174EA6;\n",
              "    }\n",
              "\n",
              "    [theme=dark] .colab-df-convert {\n",
              "      background-color: #3B4455;\n",
              "      fill: #D2E3FC;\n",
              "    }\n",
              "\n",
              "    [theme=dark] .colab-df-convert:hover {\n",
              "      background-color: #434B5C;\n",
              "      box-shadow: 0px 1px 3px 1px rgba(0, 0, 0, 0.15);\n",
              "      filter: drop-shadow(0px 1px 2px rgba(0, 0, 0, 0.3));\n",
              "      fill: #FFFFFF;\n",
              "    }\n",
              "  </style>\n",
              "\n",
              "      <script>\n",
              "        const buttonEl =\n",
              "          document.querySelector('#df-b963aed3-0ab8-4872-8bc1-1c2543857b8c button.colab-df-convert');\n",
              "        buttonEl.style.display =\n",
              "          google.colab.kernel.accessAllowed ? 'block' : 'none';\n",
              "\n",
              "        async function convertToInteractive(key) {\n",
              "          const element = document.querySelector('#df-b963aed3-0ab8-4872-8bc1-1c2543857b8c');\n",
              "          const dataTable =\n",
              "            await google.colab.kernel.invokeFunction('convertToInteractive',\n",
              "                                                     [key], {});\n",
              "          if (!dataTable) return;\n",
              "\n",
              "          const docLinkHtml = 'Like what you see? Visit the ' +\n",
              "            '<a target=\"_blank\" href=https://colab.research.google.com/notebooks/data_table.ipynb>data table notebook</a>'\n",
              "            + ' to learn more about interactive tables.';\n",
              "          element.innerHTML = '';\n",
              "          dataTable['output_type'] = 'display_data';\n",
              "          await google.colab.output.renderOutput(dataTable, element);\n",
              "          const docLink = document.createElement('div');\n",
              "          docLink.innerHTML = docLinkHtml;\n",
              "          element.appendChild(docLink);\n",
              "        }\n",
              "      </script>\n",
              "    </div>\n",
              "  </div>\n",
              "  "
            ]
          },
          "metadata": {},
          "execution_count": 34
        }
      ]
    },
    {
      "cell_type": "markdown",
      "source": [
        "![Captura de pantalla 2022-10-04 152409.jpg](data:image/jpeg;base64,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)"
      ],
      "metadata": {
        "id": "jQ0GfjQvq6K7"
      }
    }
  ]
}