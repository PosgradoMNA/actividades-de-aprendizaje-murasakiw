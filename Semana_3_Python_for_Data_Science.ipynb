{
  "nbformat": 4,
  "nbformat_minor": 0,
  "metadata": {
    "colab": {
      "provenance": [],
      "collapsed_sections": [],
      "authorship_tag": "ABX9TyMH6LfY/cXziXu6gV++gknO",
      "include_colab_link": true
    },
    "kernelspec": {
      "name": "python3",
      "display_name": "Python 3"
    },
    "language_info": {
      "name": "python"
    }
  },
  "cells": [
    {
      "cell_type": "markdown",
      "metadata": {
        "id": "view-in-github",
        "colab_type": "text"
      },
      "source": [
        "<a href=\"https://colab.research.google.com/github/PosgradoMNA/actividades-de-aprendizaje-murasakiw/blob/main/Semana_3_Python_for_Data_Science.ipynb\" target=\"_parent\"><img src=\"https://colab.research.google.com/assets/colab-badge.svg\" alt=\"Open In Colab\"/></a>"
      ]
    },
    {
      "cell_type": "markdown",
      "source": [
        "Nombre: Sergio Omar Esparza Hernández\n",
        "\n",
        "Matrícula: A01794338"
      ],
      "metadata": {
        "id": "gR-MJIddpaya"
      }
    },
    {
      "cell_type": "markdown",
      "source": [
        "#Python for Data Science (IBM): Módulo 5"
      ],
      "metadata": {
        "id": "srDf533Ipn7g"
      }
    },
    {
      "cell_type": "markdown",
      "source": [
        "##Numpy 1D Arrays"
      ],
      "metadata": {
        "id": "w2_ctc6Ypyp6"
      }
    },
    {
      "cell_type": "markdown",
      "source": [
        "Numpy es una librería utilizada para realizar cálculos computacionales científicos\n",
        "\n",
        "Pandas está basada en Numpy"
      ],
      "metadata": {
        "id": "nH_cYIecqLnb"
      }
    },
    {
      "cell_type": "markdown",
      "source": [
        "Un arreglo de Numpy es similar a una lista, usualmente está fijo su tamaño y \n",
        "cada elemento es del mismo tipo.\n",
        "\n",
        "Para utilizar Numpy, primero es necesario importar esta librería."
      ],
      "metadata": {
        "id": "IXFAXZnTqTBd"
      }
    },
    {
      "cell_type": "code",
      "execution_count": 2,
      "metadata": {
        "id": "oNhYO_WXpTHD"
      },
      "outputs": [],
      "source": [
        "import numpy as np #Es necesario importar la librería para poder utilizar las operaciones"
      ]
    },
    {
      "cell_type": "code",
      "source": [
        "a = np.array([0, 1, 2, 3, 4]) #Se puede utilizar una lista de python para crear un array de numpy\n",
        "a"
      ],
      "metadata": {
        "colab": {
          "base_uri": "https://localhost:8080/"
        },
        "id": "pnPxG1vErZvX",
        "outputId": "d5244664-a8e6-439b-cd63-3b4fc84b0387"
      },
      "execution_count": 4,
      "outputs": [
        {
          "output_type": "execute_result",
          "data": {
            "text/plain": [
              "array([0, 1, 2, 3, 4])"
            ]
          },
          "metadata": {},
          "execution_count": 4
        }
      ]
    },
    {
      "cell_type": "code",
      "source": [
        "a[3] #Se puede acceder a los valores individuales del array de igual manera que con las listas, a través de índices"
      ],
      "metadata": {
        "colab": {
          "base_uri": "https://localhost:8080/"
        },
        "id": "ImkNJGQOrw8s",
        "outputId": "c30c7661-6dc0-432f-ce12-5dc70cd78b6e"
      },
      "execution_count": null,
      "outputs": [
        {
          "output_type": "execute_result",
          "data": {
            "text/plain": [
              "3"
            ]
          },
          "metadata": {},
          "execution_count": 3
        }
      ]
    },
    {
      "cell_type": "code",
      "source": [
        "type(a) #El tipo de dato de los arrays de numpy es numpy.ndarray"
      ],
      "metadata": {
        "colab": {
          "base_uri": "https://localhost:8080/"
        },
        "id": "efQdfHebr4AT",
        "outputId": "99115a8b-588c-4b9a-adf8-018d0b9d3a6c"
      },
      "execution_count": null,
      "outputs": [
        {
          "output_type": "execute_result",
          "data": {
            "text/plain": [
              "numpy.ndarray"
            ]
          },
          "metadata": {},
          "execution_count": 5
        }
      ]
    },
    {
      "cell_type": "code",
      "source": [
        "a.dtype #Con el atributo dtype se puede obtener el tipo de todos los datos almacenados en el array"
      ],
      "metadata": {
        "colab": {
          "base_uri": "https://localhost:8080/"
        },
        "id": "OhufLcw9sQWz",
        "outputId": "2243e197-1b8f-41ac-c48e-01ba34c05971"
      },
      "execution_count": null,
      "outputs": [
        {
          "output_type": "execute_result",
          "data": {
            "text/plain": [
              "dtype('int64')"
            ]
          },
          "metadata": {},
          "execution_count": 7
        }
      ]
    },
    {
      "cell_type": "markdown",
      "source": [
        "Atributos de los arrays de numpy"
      ],
      "metadata": {
        "id": "796XUTqSsqrK"
      }
    },
    {
      "cell_type": "code",
      "source": [
        "a.size #Devuelve el número de elementos que contiene el array"
      ],
      "metadata": {
        "colab": {
          "base_uri": "https://localhost:8080/"
        },
        "id": "W-vggW_QsWpB",
        "outputId": "a93bb5fe-ec19-4040-8002-38c7d170532f"
      },
      "execution_count": null,
      "outputs": [
        {
          "output_type": "execute_result",
          "data": {
            "text/plain": [
              "5"
            ]
          },
          "metadata": {},
          "execution_count": 8
        }
      ]
    },
    {
      "cell_type": "code",
      "source": [
        "a.ndim #Devuelve el número de dimensiones del array"
      ],
      "metadata": {
        "colab": {
          "base_uri": "https://localhost:8080/"
        },
        "id": "A7QFc6E6sz71",
        "outputId": "71efd9ed-256a-444f-ac70-eda919ea354b"
      },
      "execution_count": null,
      "outputs": [
        {
          "output_type": "execute_result",
          "data": {
            "text/plain": [
              "1"
            ]
          },
          "metadata": {},
          "execution_count": 9
        }
      ]
    },
    {
      "cell_type": "code",
      "source": [
        "a.shape #Devuelve una tupla con el tamaño del arreglo en cada dimensión"
      ],
      "metadata": {
        "colab": {
          "base_uri": "https://localhost:8080/"
        },
        "id": "HmR0AzYmtJYj",
        "outputId": "442d51cf-5144-45ad-e0da-2a3739b5ca89"
      },
      "execution_count": null,
      "outputs": [
        {
          "output_type": "execute_result",
          "data": {
            "text/plain": [
              "(5,)"
            ]
          },
          "metadata": {},
          "execution_count": 10
        }
      ]
    },
    {
      "cell_type": "markdown",
      "source": [
        "Métodos para indexing y slicing"
      ],
      "metadata": {
        "id": "2_o8comJxKGB"
      }
    },
    {
      "cell_type": "code",
      "source": [
        "c = np.array([20, 1, 2, 3, 4])\n",
        "c[0] = 100 #Se puede modificar el valor que hay en una posición del array, de igual manera que con las listas\n",
        "c"
      ],
      "metadata": {
        "colab": {
          "base_uri": "https://localhost:8080/"
        },
        "id": "7lZyT5LjtQsB",
        "outputId": "5a2d85a8-5892-4c91-acb7-17ca8caa3e9e"
      },
      "execution_count": null,
      "outputs": [
        {
          "output_type": "execute_result",
          "data": {
            "text/plain": [
              "array([100,   1,   2,   3,   4])"
            ]
          },
          "metadata": {},
          "execution_count": 12
        }
      ]
    },
    {
      "cell_type": "code",
      "source": [
        "#Se puede obtener un slice de un numpy array al igual que con las listas y tuplas de Python\n",
        "d = c[1:4] \n",
        "d"
      ],
      "metadata": {
        "colab": {
          "base_uri": "https://localhost:8080/"
        },
        "id": "PigBGVrHxdH7",
        "outputId": "8306125b-9979-443e-c08c-acc36359389f"
      },
      "execution_count": null,
      "outputs": [
        {
          "output_type": "execute_result",
          "data": {
            "text/plain": [
              "array([1, 2, 3])"
            ]
          },
          "metadata": {},
          "execution_count": 14
        }
      ]
    },
    {
      "cell_type": "code",
      "source": [
        "c[3:5] = 300, 400 #Asignar a los índices correspondientes nuevos valores\n",
        "c"
      ],
      "metadata": {
        "colab": {
          "base_uri": "https://localhost:8080/"
        },
        "id": "5xQiBJ3-xxwB",
        "outputId": "491bc316-d7f2-4f6f-de96-99c5b5390da3"
      },
      "execution_count": null,
      "outputs": [
        {
          "output_type": "execute_result",
          "data": {
            "text/plain": [
              "array([100,   1,   2, 300, 400])"
            ]
          },
          "metadata": {},
          "execution_count": 15
        }
      ]
    },
    {
      "cell_type": "code",
      "source": [
        "#Se puede definir un paso en los slices, tal como en las listas de Python\n",
        "a[1:5:2] #[inicio:fin:paso] Si no se le indica un paso, es considerado 1"
      ],
      "metadata": {
        "colab": {
          "base_uri": "https://localhost:8080/"
        },
        "id": "-b4-2I6amQyL",
        "outputId": "2a65d2d1-affd-4490-f1d9-c95e996553db"
      },
      "execution_count": 5,
      "outputs": [
        {
          "output_type": "execute_result",
          "data": {
            "text/plain": [
              "array([1, 3])"
            ]
          },
          "metadata": {},
          "execution_count": 5
        }
      ]
    },
    {
      "cell_type": "code",
      "source": [
        "#Si no se le pasa algun índice de inicio es considerado 0\n",
        "print(a[:3])\n",
        "#Si no se le pasa algun índice de fin se considera hasta el final del array\n",
        "print(a[2:])"
      ],
      "metadata": {
        "colab": {
          "base_uri": "https://localhost:8080/"
        },
        "id": "xVhfj1jRmhN_",
        "outputId": "fee0d4fb-8980-49ff-ccf7-c1ad2b46c610"
      },
      "execution_count": 6,
      "outputs": [
        {
          "output_type": "stream",
          "name": "stdout",
          "text": [
            "[0 1 2]\n",
            "[2 3 4]\n"
          ]
        }
      ]
    },
    {
      "cell_type": "code",
      "source": [
        "#Se puede utilizar una lista para seleccionar varios elementos del array\n",
        "select = [1, 3, 2]\n",
        "c = a[select]\n",
        "c"
      ],
      "metadata": {
        "colab": {
          "base_uri": "https://localhost:8080/"
        },
        "id": "PwcLQ8hJncSJ",
        "outputId": "75edcf67-1c98-4889-b046-45da456fd35c"
      },
      "execution_count": 10,
      "outputs": [
        {
          "output_type": "execute_result",
          "data": {
            "text/plain": [
              "array([1, 3, 2])"
            ]
          },
          "metadata": {},
          "execution_count": 10
        }
      ]
    },
    {
      "cell_type": "code",
      "source": [
        "#Asignar un valor a los elementos especificados\n",
        "a[select] = 1000\n",
        "a"
      ],
      "metadata": {
        "colab": {
          "base_uri": "https://localhost:8080/"
        },
        "id": "gK-oBgxwoQVd",
        "outputId": "66337c05-5441-4db2-ae5b-ab4f2361c225"
      },
      "execution_count": 11,
      "outputs": [
        {
          "output_type": "execute_result",
          "data": {
            "text/plain": [
              "array([   0, 1000, 1000, 1000,    4])"
            ]
          },
          "metadata": {},
          "execution_count": 11
        }
      ]
    },
    {
      "cell_type": "markdown",
      "source": [
        "Operaciones básicas\n",
        "\n",
        "Estas operaciones son usualmente más rápidas computacionalmente y requieren menos memoria en numpy comparado con un código regular de Python"
      ],
      "metadata": {
        "id": "hAgoNFn2yzyz"
      }
    },
    {
      "cell_type": "code",
      "source": [
        "#Suma de vectores con numpy\n",
        "#Es más sencillo y más rápido realizar una suma de vectores utilizando numpy\n",
        "#Esto es importante cuando se tienen arrays con muchos datos\n",
        "u = np.array([1, 0])\n",
        "v = np.array([0, 1])\n",
        "#np.add(u, v)\n",
        "z = u + v\n",
        "z"
      ],
      "metadata": {
        "colab": {
          "base_uri": "https://localhost:8080/"
        },
        "id": "jJbtY4GFydbP",
        "outputId": "afef38da-815d-4b1e-cbfc-09664256ac45"
      },
      "execution_count": null,
      "outputs": [
        {
          "output_type": "execute_result",
          "data": {
            "text/plain": [
              "array([1, 1])"
            ]
          },
          "metadata": {},
          "execution_count": 17
        }
      ]
    },
    {
      "cell_type": "code",
      "source": [
        "#Resta de vectores con numpy\n",
        "u = np.array([1, 0])\n",
        "v = np.array([0, 1])\n",
        "z = u - v\n",
        "#np.subtract(u, v)\n",
        "z"
      ],
      "metadata": {
        "colab": {
          "base_uri": "https://localhost:8080/"
        },
        "id": "iuNTGuwp0O03",
        "outputId": "be0a478c-2bae-4ed2-f2a6-4c93df29c857"
      },
      "execution_count": null,
      "outputs": [
        {
          "output_type": "execute_result",
          "data": {
            "text/plain": [
              "array([ 1, -1])"
            ]
          },
          "metadata": {},
          "execution_count": 18
        }
      ]
    },
    {
      "cell_type": "code",
      "source": [
        "#Multiplicación de un vector por un escalar\n",
        "#Esta operación solo requiere una línea de código con numpy\n",
        "y = np.array([1, 2])\n",
        "z = 2 * y\n",
        "#np.multiply(y, 2)\n",
        "z"
      ],
      "metadata": {
        "colab": {
          "base_uri": "https://localhost:8080/"
        },
        "id": "aBZLMFzz0jYR",
        "outputId": "2d72b063-d700-4b59-e3f8-6e9e174d0130"
      },
      "execution_count": null,
      "outputs": [
        {
          "output_type": "execute_result",
          "data": {
            "text/plain": [
              "array([2, 4])"
            ]
          },
          "metadata": {},
          "execution_count": 19
        }
      ]
    },
    {
      "cell_type": "code",
      "source": [
        "#Producto de Hadamard\n",
        "#Consiste en multiplicar los elementos que se encuentran en la misma posición en los dos vectores\n",
        "u = np.array([1, 2])\n",
        "v = np.array([3, 2])\n",
        "z = u * v\n",
        "z"
      ],
      "metadata": {
        "colab": {
          "base_uri": "https://localhost:8080/"
        },
        "id": "vW23Nn-n09qS",
        "outputId": "bf8752b7-b183-495e-e0cc-fcc0a9121162"
      },
      "execution_count": null,
      "outputs": [
        {
          "output_type": "execute_result",
          "data": {
            "text/plain": [
              "array([3, 4])"
            ]
          },
          "metadata": {},
          "execution_count": 20
        }
      ]
    },
    {
      "cell_type": "code",
      "source": [
        "#División entre elementos de array\n",
        "a = np.array([10, 20, 30])\n",
        "b = np.array([2, 10, 5])\n",
        "np.divide(a, b)"
      ],
      "metadata": {
        "colab": {
          "base_uri": "https://localhost:8080/"
        },
        "id": "KCDtF5UYsvVZ",
        "outputId": "c7228301-56e2-4d35-a81a-c8ac362de72c"
      },
      "execution_count": 23,
      "outputs": [
        {
          "output_type": "execute_result",
          "data": {
            "text/plain": [
              "array([5., 2., 6.])"
            ]
          },
          "metadata": {},
          "execution_count": 23
        }
      ]
    },
    {
      "cell_type": "code",
      "source": [
        "#Producto punto utilizando numpy\n",
        "#Este producto es útil para verificar si dos vectores son perpendiculares\n",
        "#El resultado es una magnitud escalar\n",
        "u = np.array([1, 2])\n",
        "v = np.array([3, 2])\n",
        "z =  np.dot(u, v)\n",
        "z"
      ],
      "metadata": {
        "colab": {
          "base_uri": "https://localhost:8080/"
        },
        "id": "oNlGu4o32Qmu",
        "outputId": "c0e20578-d59f-4caa-9462-77e8408926d3"
      },
      "execution_count": null,
      "outputs": [
        {
          "output_type": "execute_result",
          "data": {
            "text/plain": [
              "7"
            ]
          },
          "metadata": {},
          "execution_count": 22
        }
      ]
    },
    {
      "cell_type": "code",
      "source": [
        "#Sumar una constante a un array de numpy\n",
        "u = np.array([1, 2, 3, -1]) \n",
        "z = u + 1 #La constante se le suma a cada elemento del array, esta propiedad es conocida como broadcasting\n",
        "z"
      ],
      "metadata": {
        "id": "sInAtBhB3Ih5",
        "colab": {
          "base_uri": "https://localhost:8080/"
        },
        "outputId": "ea7b5bad-77df-4ab0-82a8-8339e5a8cce1"
      },
      "execution_count": null,
      "outputs": [
        {
          "output_type": "execute_result",
          "data": {
            "text/plain": [
              "array([2, 3, 4, 0])"
            ]
          },
          "metadata": {},
          "execution_count": 23
        }
      ]
    },
    {
      "cell_type": "markdown",
      "source": [
        "Universal Functions\n",
        "\n",
        "Una universal function es una función que opera sobre los ndarrays"
      ],
      "metadata": {
        "id": "Ah8fifxfAG4n"
      }
    },
    {
      "cell_type": "code",
      "source": [
        "a = np.array([1, -1, 1, -1])\n",
        "mean_a = a.mean() #Con el método mean se puede obtener la media de un array\n",
        "mean_a"
      ],
      "metadata": {
        "colab": {
          "base_uri": "https://localhost:8080/"
        },
        "id": "zWN3dmk__-qE",
        "outputId": "ddeb2f56-dc53-4534-dd4f-c98ae8ef64b2"
      },
      "execution_count": 12,
      "outputs": [
        {
          "output_type": "execute_result",
          "data": {
            "text/plain": [
              "0.0"
            ]
          },
          "metadata": {},
          "execution_count": 12
        }
      ]
    },
    {
      "cell_type": "code",
      "source": [
        "#Método para calcular la desviación estándar\n",
        "desv_est = a.std()\n",
        "desv_est"
      ],
      "metadata": {
        "colab": {
          "base_uri": "https://localhost:8080/"
        },
        "id": "IjQVUsnVp3Ma",
        "outputId": "7cb55cee-7906-4628-b93f-a23b0b1e9093"
      },
      "execution_count": 13,
      "outputs": [
        {
          "output_type": "execute_result",
          "data": {
            "text/plain": [
              "1.0"
            ]
          },
          "metadata": {},
          "execution_count": 13
        }
      ]
    },
    {
      "cell_type": "code",
      "source": [
        "b = np.array([1, -2, 3, 4, 5])\n",
        "max_b = b.max() #Con este método se obtiene el máximo valor almacenado en el array\n",
        "max_b"
      ],
      "metadata": {
        "colab": {
          "base_uri": "https://localhost:8080/"
        },
        "id": "Gu5mEYC1AmnE",
        "outputId": "4b1937e9-29c5-4e85-adae-bdae799dd00c"
      },
      "execution_count": 24,
      "outputs": [
        {
          "output_type": "execute_result",
          "data": {
            "text/plain": [
              "5"
            ]
          },
          "metadata": {},
          "execution_count": 24
        }
      ]
    },
    {
      "cell_type": "code",
      "source": [
        "#Se pueden utilizar numpy para crear funciones que asignan arrays de numpy a nuevos arrays de numpy\n",
        "np.pi\n",
        "x = np.array([0, np.pi/2, np.pi]) \n",
        "y = np.sin(x) #Se aplica el seno a cada valor almacenado en el array\n",
        "y"
      ],
      "metadata": {
        "colab": {
          "base_uri": "https://localhost:8080/"
        },
        "id": "y-02Dei0A7N_",
        "outputId": "e7392825-935d-4b13-d8c3-24cc71cf15b2"
      },
      "execution_count": null,
      "outputs": [
        {
          "output_type": "execute_result",
          "data": {
            "text/plain": [
              "array([0.0000000e+00, 1.0000000e+00, 1.2246468e-16])"
            ]
          },
          "metadata": {},
          "execution_count": 28
        }
      ]
    },
    {
      "cell_type": "code",
      "source": [
        "#linspace regresa un arreglo con números igualmente espaciados dado un intervalo definido y un número de elementos especificado\n",
        "np.linspace(-2, 2, num=5) #Regresa un arreglo con 5 elementos igualmente espaciados que van desde -2 a 2"
      ],
      "metadata": {
        "colab": {
          "base_uri": "https://localhost:8080/"
        },
        "id": "BYRF5X7qB3yE",
        "outputId": "c384257c-0cd0-4413-e4c6-beb281ed5a67"
      },
      "execution_count": null,
      "outputs": [
        {
          "output_type": "execute_result",
          "data": {
            "text/plain": [
              "array([-2., -1.,  0.,  1.,  2.])"
            ]
          },
          "metadata": {},
          "execution_count": 32
        }
      ]
    },
    {
      "cell_type": "code",
      "source": [
        "x = np.linspace(0, 2*np.pi, 100) #Genera un array con 100 muestras igualente espaciadas en el rango de 0 a 2*pi\n",
        "x"
      ],
      "metadata": {
        "colab": {
          "base_uri": "https://localhost:8080/"
        },
        "id": "NvUa3QuwCr3I",
        "outputId": "c5ef5f10-3c83-4fa8-b1b7-b8d89f883dd6"
      },
      "execution_count": 15,
      "outputs": [
        {
          "output_type": "execute_result",
          "data": {
            "text/plain": [
              "array([0.        , 0.06346652, 0.12693304, 0.19039955, 0.25386607,\n",
              "       0.31733259, 0.38079911, 0.44426563, 0.50773215, 0.57119866,\n",
              "       0.63466518, 0.6981317 , 0.76159822, 0.82506474, 0.88853126,\n",
              "       0.95199777, 1.01546429, 1.07893081, 1.14239733, 1.20586385,\n",
              "       1.26933037, 1.33279688, 1.3962634 , 1.45972992, 1.52319644,\n",
              "       1.58666296, 1.65012947, 1.71359599, 1.77706251, 1.84052903,\n",
              "       1.90399555, 1.96746207, 2.03092858, 2.0943951 , 2.15786162,\n",
              "       2.22132814, 2.28479466, 2.34826118, 2.41172769, 2.47519421,\n",
              "       2.53866073, 2.60212725, 2.66559377, 2.72906028, 2.7925268 ,\n",
              "       2.85599332, 2.91945984, 2.98292636, 3.04639288, 3.10985939,\n",
              "       3.17332591, 3.23679243, 3.30025895, 3.36372547, 3.42719199,\n",
              "       3.4906585 , 3.55412502, 3.61759154, 3.68105806, 3.74452458,\n",
              "       3.8079911 , 3.87145761, 3.93492413, 3.99839065, 4.06185717,\n",
              "       4.12532369, 4.1887902 , 4.25225672, 4.31572324, 4.37918976,\n",
              "       4.44265628, 4.5061228 , 4.56958931, 4.63305583, 4.69652235,\n",
              "       4.75998887, 4.82345539, 4.88692191, 4.95038842, 5.01385494,\n",
              "       5.07732146, 5.14078798, 5.2042545 , 5.26772102, 5.33118753,\n",
              "       5.39465405, 5.45812057, 5.52158709, 5.58505361, 5.64852012,\n",
              "       5.71198664, 5.77545316, 5.83891968, 5.9023862 , 5.96585272,\n",
              "       6.02931923, 6.09278575, 6.15625227, 6.21971879, 6.28318531])"
            ]
          },
          "metadata": {},
          "execution_count": 15
        }
      ]
    },
    {
      "cell_type": "code",
      "source": [
        "import matplotlib.pyplot as plt #Librería útil para obtener gráficos en python\n",
        "y = np.sin(x)\n",
        "#%matplotlib inline se usa al trabajar con un jupyter notebook para mostrar la gráfica\n",
        "plt.plot(x, y)"
      ],
      "metadata": {
        "colab": {
          "base_uri": "https://localhost:8080/",
          "height": 282
        },
        "id": "fe-qCgIADWpE",
        "outputId": "9ab8cab1-2666-4ed8-89c7-3d5a7415f99c"
      },
      "execution_count": 16,
      "outputs": [
        {
          "output_type": "execute_result",
          "data": {
            "text/plain": [
              "[<matplotlib.lines.Line2D at 0x7ff1d17fd790>]"
            ]
          },
          "metadata": {},
          "execution_count": 16
        },
        {
          "output_type": "display_data",
          "data": {
            "text/plain": [
              "<Figure size 432x288 with 1 Axes>"
            ],
            "image/png": "[encoded data removed]"
          },
          "metadata": {
            "needs_background": "light"
          }
        }
      ]
    },
    {
      "cell_type": "code",
      "source": [
        "print(np.__version__) #Muestra la versión de numpy instalada"
      ],
      "metadata": {
        "id": "XnXSyalQEkUQ",
        "colab": {
          "base_uri": "https://localhost:8080/"
        },
        "outputId": "d2d1ba59-d81f-4f54-b156-f788bb20cdd9"
      },
      "execution_count": 3,
      "outputs": [
        {
          "output_type": "stream",
          "name": "stdout",
          "text": [
            "1.21.6\n"
          ]
        }
      ]
    },
    {
      "cell_type": "code",
      "source": [
        "def Plotvec1(u, z, v):\n",
        "    \n",
        "    ax = plt.axes() #Genera la ventana con los ejes para graficar\n",
        "    ax.arrow(0, 0, *u, head_width=0.05, color='r', head_length=0.1)# Agrega un gráfico de flecha al eje u con una anchura de la cabeza de la flecha de 0.05, de color rojo, y longitud de la punta de la flecha de 0.1\n",
        "    plt.text(*(u + 0.1), 'u')#Agrega el texto u a los ejes\n",
        "    \n",
        "    ax.arrow(0, 0, *v, head_width=0.05, color='b', head_length=0.1)# Agrega un gráfico de flecha al eje v con una anchura de la cabeza de la flecha de 0.05, de color azul, y longitud de la punta de la flecha de 0.1\n",
        "    plt.text(*(v + 0.1), 'v')#Agrega el texto v a los ejes \n",
        "    \n",
        "    ax.arrow(0, 0, *z, head_width=0.05, head_length=0.1)\n",
        "    plt.text(*(z + 0.1), 'z')#Agrega el texto z a los ejes \n",
        "    plt.ylim(-2, 2)#Establece el límite del eje y de -2 a 2\n",
        "    plt.xlim(-2, 2)#Establece el límite del eje x de -2 a 2"
      ],
      "metadata": {
        "id": "2Ulwmt81lWRf"
      },
      "execution_count": 21,
      "outputs": []
    },
    {
      "cell_type": "code",
      "source": [
        "u = np.array([1,0])\n",
        "v = np.array([0,1])\n",
        "z = u + v\n",
        "Plotvec1(u, z, v)"
      ],
      "metadata": {
        "colab": {
          "base_uri": "https://localhost:8080/",
          "height": 269
        },
        "id": "UXr5I1cKqloZ",
        "outputId": "5ff9738e-5063-4a15-d75d-928c7f9ab620"
      },
      "execution_count": 22,
      "outputs": [
        {
          "output_type": "display_data",
          "data": {
            "text/plain": [
              "<Figure size 432x288 with 1 Axes>"
            ],
            "image/png": "[encoded data removed]"
          },
          "metadata": {
            "needs_background": "light"
          }
        }
      ]
    },
    {
      "cell_type": "code",
      "source": [
        "#Se puede utilizar un for loop para iterar a lo largo de un array\n",
        "for element in b:\n",
        "  print(element)"
      ],
      "metadata": {
        "colab": {
          "base_uri": "https://localhost:8080/"
        },
        "id": "u2bVyQUdqnga",
        "outputId": "ad42be59-4411-405a-fea8-23a66a7d6823"
      },
      "execution_count": 25,
      "outputs": [
        {
          "output_type": "stream",
          "name": "stdout",
          "text": [
            "1\n",
            "-2\n",
            "3\n",
            "4\n",
            "5\n"
          ]
        }
      ]
    },
    {
      "cell_type": "code",
      "source": [],
      "metadata": {
        "id": "3xTHoJZ_tlga"
      },
      "execution_count": null,
      "outputs": []
    }
  ]
}