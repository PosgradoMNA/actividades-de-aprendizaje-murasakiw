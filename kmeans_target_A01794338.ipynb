{
  "nbformat": 4,
  "nbformat_minor": 0,
  "metadata": {
    "colab": {
      "provenance": [],
      "collapsed_sections": [],
      "include_colab_link": true
    },
    "kernelspec": {
      "name": "python3",
      "display_name": "Python 3"
    },
    "language_info": {
      "name": "python"
    }
  },
  "cells": [
    {
      "cell_type": "markdown",
      "metadata": {
        "id": "view-in-github",
        "colab_type": "text"
      },
      "source": [
        "<a href=\"https://colab.research.google.com/github/PosgradoMNA/actividades-de-aprendizaje-murasakiw/blob/main/kmeans_target_A01794338.ipynb\" target=\"_parent\"><img src=\"https://colab.research.google.com/assets/colab-badge.svg\" alt=\"Open In Colab\"/></a>"
      ]
    },
    {
      "cell_type": "markdown",
      "source": [
        "Ciencia y Analítica de Datos\n",
        " ___ \n",
        "Actividad Semanal 7: Regresiones y K-means  \n",
        "Nombre: Sergio Omar Esparza Hernández  \n",
        "Matrícula: A01794338"
      ],
      "metadata": {
        "id": "9i07mpx8FyCM"
      }
    },
    {
      "cell_type": "markdown",
      "source": [
        "Este notebook se basa en información de target\n",
        "![imagen.png](https://www.america-retail.com/static//2020/12/target01.jpg)\n",
        "\n",
        "\n",
        "Ahora imagina que somos parte del equipo de data science de la empresa Target, una de las tiendas con mayor presencia en Estados Unidos. El departamento de logistica acude a nosotros para saber donde le conviene poner sus almacenes, para que se optimice el gasto de gasolina, los tiempos de entrega de los productos y se disminuyan costos. Para ello, nos pasan los datos de latitud y longitud de cada una de las tiendas.\n",
        "\n",
        "https://www.kaggle.com/datasets/saejinmahlauheinert/target-store-locations?select=target-locations.csv\n",
        "\n",
        "Si quieres saber un poco más de graficas geográficas consulta el siguiente notebook\n",
        "https://colab.research.google.com/github/QuantEcon/quantecon-notebooks-datascience/blob/master/applications/maps.ipynb#scrollTo=uo2oPtSCeAOz"
      ],
      "metadata": {
        "id": "6mUW5QNwhz5T"
      }
    },
    {
      "cell_type": "code",
      "source": [
        "! pip install qeds fiona geopandas xgboost gensim folium pyLDAvis descartes"
      ],
      "metadata": {
        "colab": {
          "base_uri": "https://localhost:8080/",
          "height": 0
        },
        "id": "YwkfEqinwESD",
        "outputId": "7fbd7960-4fb9-48a3-884e-4b115ef1c9fe"
      },
      "execution_count": 1,
      "outputs": [
        {
          "output_type": "stream",
          "name": "stdout",
          "text": [
            "Looking in indexes: https://pypi.org/simple, https://us-python.pkg.dev/colab-wheels/public/simple/\n",
            "Collecting qeds\n",
            "  Downloading qeds-0.7.0.tar.gz (24 kB)\n",
            "Collecting fiona\n",
            "  Downloading Fiona-1.8.22-cp37-cp37m-manylinux2014_x86_64.whl (16.7 MB)\n",
            "\u001b[K     |████████████████████████████████| 16.7 MB 25.9 MB/s \n",
            "\u001b[?25hCollecting geopandas\n",
            "  Downloading geopandas-0.10.2-py2.py3-none-any.whl (1.0 MB)\n",
            "\u001b[K     |████████████████████████████████| 1.0 MB 44.1 MB/s \n",
            "\u001b[?25hRequirement already satisfied: xgboost in /usr/local/lib/python3.7/dist-packages (0.90)\n",
            "Requirement already satisfied: gensim in /usr/local/lib/python3.7/dist-packages (3.6.0)\n",
            "Requirement already satisfied: folium in /usr/local/lib/python3.7/dist-packages (0.12.1.post1)\n",
            "Collecting pyLDAvis\n",
            "  Downloading pyLDAvis-3.3.1.tar.gz (1.7 MB)\n",
            "\u001b[K     |████████████████████████████████| 1.7 MB 42.7 MB/s \n",
            "\u001b[?25h  Installing build dependencies ... \u001b[?25l\u001b[?25hdone\n",
            "  Getting requirements to build wheel ... \u001b[?25l\u001b[?25hdone\n",
            "  Installing backend dependencies ... \u001b[?25l\u001b[?25hdone\n",
            "    Preparing wheel metadata ... \u001b[?25l\u001b[?25hdone\n",
            "Requirement already satisfied: descartes in /usr/local/lib/python3.7/dist-packages (1.1.0)\n",
            "Requirement already satisfied: pandas in /usr/local/lib/python3.7/dist-packages (from qeds) (1.3.5)\n",
            "Requirement already satisfied: requests in /usr/local/lib/python3.7/dist-packages (from qeds) (2.23.0)\n",
            "Collecting quandl\n",
            "  Downloading Quandl-3.7.0-py2.py3-none-any.whl (26 kB)\n",
            "Requirement already satisfied: scipy in /usr/local/lib/python3.7/dist-packages (from qeds) (1.7.3)\n",
            "Requirement already satisfied: numpy in /usr/local/lib/python3.7/dist-packages (from qeds) (1.21.6)\n",
            "Collecting quantecon\n",
            "  Downloading quantecon-0.5.3-py3-none-any.whl (179 kB)\n",
            "\u001b[K     |████████████████████████████████| 179 kB 54.3 MB/s \n",
            "\u001b[?25hRequirement already satisfied: matplotlib in /usr/local/lib/python3.7/dist-packages (from qeds) (3.2.2)\n",
            "Requirement already satisfied: pyarrow in /usr/local/lib/python3.7/dist-packages (from qeds) (6.0.1)\n",
            "Requirement already satisfied: openpyxl in /usr/local/lib/python3.7/dist-packages (from qeds) (3.0.10)\n",
            "Requirement already satisfied: plotly in /usr/local/lib/python3.7/dist-packages (from qeds) (5.5.0)\n",
            "Requirement already satisfied: pandas_datareader in /usr/local/lib/python3.7/dist-packages (from qeds) (0.9.0)\n",
            "Requirement already satisfied: scikit-learn in /usr/local/lib/python3.7/dist-packages (from qeds) (1.0.2)\n",
            "Requirement already satisfied: seaborn in /usr/local/lib/python3.7/dist-packages (from qeds) (0.11.2)\n",
            "Requirement already satisfied: statsmodels in /usr/local/lib/python3.7/dist-packages (from qeds) (0.12.2)\n",
            "Collecting munch\n",
            "  Downloading munch-2.5.0-py2.py3-none-any.whl (10 kB)\n",
            "Requirement already satisfied: attrs>=17 in /usr/local/lib/python3.7/dist-packages (from fiona) (22.1.0)\n",
            "Requirement already satisfied: certifi in /usr/local/lib/python3.7/dist-packages (from fiona) (2022.9.24)\n",
            "Requirement already satisfied: six>=1.7 in /usr/local/lib/python3.7/dist-packages (from fiona) (1.15.0)\n",
            "Requirement already satisfied: setuptools in /usr/local/lib/python3.7/dist-packages (from fiona) (57.4.0)\n",
            "Collecting cligj>=0.5\n",
            "  Downloading cligj-0.7.2-py3-none-any.whl (7.1 kB)\n",
            "Collecting click-plugins>=1.0\n",
            "  Downloading click_plugins-1.1.1-py2.py3-none-any.whl (7.5 kB)\n",
            "Requirement already satisfied: click>=4.0 in /usr/local/lib/python3.7/dist-packages (from fiona) (7.1.2)\n",
            "Requirement already satisfied: shapely>=1.6 in /usr/local/lib/python3.7/dist-packages (from geopandas) (1.8.5.post1)\n",
            "Collecting pyproj>=2.2.0\n",
            "  Downloading pyproj-3.2.1-cp37-cp37m-manylinux2010_x86_64.whl (6.3 MB)\n",
            "\u001b[K     |████████████████████████████████| 6.3 MB 47.5 MB/s \n",
            "\u001b[?25hRequirement already satisfied: pytz>=2017.3 in /usr/local/lib/python3.7/dist-packages (from pandas->qeds) (2022.6)\n",
            "Requirement already satisfied: python-dateutil>=2.7.3 in /usr/local/lib/python3.7/dist-packages (from pandas->qeds) (2.8.2)\n",
            "Requirement already satisfied: smart-open>=1.2.1 in /usr/local/lib/python3.7/dist-packages (from gensim) (5.2.1)\n",
            "Requirement already satisfied: jinja2>=2.9 in /usr/local/lib/python3.7/dist-packages (from folium) (2.11.3)\n",
            "Requirement already satisfied: branca>=0.3.0 in /usr/local/lib/python3.7/dist-packages (from folium) (0.5.0)\n",
            "Requirement already satisfied: MarkupSafe>=0.23 in /usr/local/lib/python3.7/dist-packages (from jinja2>=2.9->folium) (2.0.1)\n",
            "Requirement already satisfied: joblib in /usr/local/lib/python3.7/dist-packages (from pyLDAvis) (1.2.0)\n",
            "Collecting funcy\n",
            "  Downloading funcy-1.17-py2.py3-none-any.whl (33 kB)\n",
            "Requirement already satisfied: numexpr in /usr/local/lib/python3.7/dist-packages (from pyLDAvis) (2.8.4)\n",
            "Collecting sklearn\n",
            "  Downloading sklearn-0.0.post1.tar.gz (3.6 kB)\n",
            "Requirement already satisfied: future in /usr/local/lib/python3.7/dist-packages (from pyLDAvis) (0.16.0)\n",
            "Requirement already satisfied: kiwisolver>=1.0.1 in /usr/local/lib/python3.7/dist-packages (from matplotlib->qeds) (1.4.4)\n",
            "Requirement already satisfied: cycler>=0.10 in /usr/local/lib/python3.7/dist-packages (from matplotlib->qeds) (0.11.0)\n",
            "Requirement already satisfied: pyparsing!=2.0.4,!=2.1.2,!=2.1.6,>=2.0.1 in /usr/local/lib/python3.7/dist-packages (from matplotlib->qeds) (3.0.9)\n",
            "Requirement already satisfied: typing-extensions in /usr/local/lib/python3.7/dist-packages (from kiwisolver>=1.0.1->matplotlib->qeds) (4.1.1)\n",
            "Requirement already satisfied: et-xmlfile in /usr/local/lib/python3.7/dist-packages (from openpyxl->qeds) (1.1.0)\n",
            "Requirement already satisfied: lxml in /usr/local/lib/python3.7/dist-packages (from pandas_datareader->qeds) (4.9.1)\n",
            "Requirement already satisfied: urllib3!=1.25.0,!=1.25.1,<1.26,>=1.21.1 in /usr/local/lib/python3.7/dist-packages (from requests->qeds) (1.24.3)\n",
            "Requirement already satisfied: chardet<4,>=3.0.2 in /usr/local/lib/python3.7/dist-packages (from requests->qeds) (3.0.4)\n",
            "Requirement already satisfied: idna<3,>=2.5 in /usr/local/lib/python3.7/dist-packages (from requests->qeds) (2.10)\n",
            "Requirement already satisfied: tenacity>=6.2.0 in /usr/local/lib/python3.7/dist-packages (from plotly->qeds) (8.1.0)\n",
            "Collecting inflection>=0.3.1\n",
            "  Downloading inflection-0.5.1-py2.py3-none-any.whl (9.5 kB)\n",
            "Requirement already satisfied: more-itertools in /usr/local/lib/python3.7/dist-packages (from quandl->qeds) (9.0.0)\n",
            "Requirement already satisfied: sympy in /usr/local/lib/python3.7/dist-packages (from quantecon->qeds) (1.7.1)\n",
            "Requirement already satisfied: numba in /usr/local/lib/python3.7/dist-packages (from quantecon->qeds) (0.56.4)\n",
            "Requirement already satisfied: llvmlite<0.40,>=0.39.0dev0 in /usr/local/lib/python3.7/dist-packages (from numba->quantecon->qeds) (0.39.1)\n",
            "Requirement already satisfied: importlib-metadata in /usr/local/lib/python3.7/dist-packages (from numba->quantecon->qeds) (4.13.0)\n",
            "Requirement already satisfied: zipp>=0.5 in /usr/local/lib/python3.7/dist-packages (from importlib-metadata->numba->quantecon->qeds) (3.10.0)\n",
            "Requirement already satisfied: threadpoolctl>=2.0.0 in /usr/local/lib/python3.7/dist-packages (from scikit-learn->qeds) (3.1.0)\n",
            "Requirement already satisfied: patsy>=0.5 in /usr/local/lib/python3.7/dist-packages (from statsmodels->qeds) (0.5.3)\n",
            "Requirement already satisfied: mpmath>=0.19 in /usr/local/lib/python3.7/dist-packages (from sympy->quantecon->qeds) (1.2.1)\n",
            "Building wheels for collected packages: qeds, pyLDAvis, sklearn\n",
            "  Building wheel for qeds (setup.py) ... \u001b[?25l\u001b[?25hdone\n",
            "  Created wheel for qeds: filename=qeds-0.7.0-py3-none-any.whl size=27812 sha256=d510f3cd7b2d15b2ba058d773416f33024e5502f90693b49ea6b6492a0a733af\n",
            "  Stored in directory: /root/.cache/pip/wheels/fc/8c/52/0cc036b9730b75850b9845770780f8d05ed08ff38a67cbaa29\n",
            "  Building wheel for pyLDAvis (PEP 517) ... \u001b[?25l\u001b[?25hdone\n",
            "  Created wheel for pyLDAvis: filename=pyLDAvis-3.3.1-py2.py3-none-any.whl size=136897 sha256=8b00e55b8c1e874f6cea8f54cc325ceab328fed8420ea7a0212c6c5067aaab29\n",
            "  Stored in directory: /root/.cache/pip/wheels/c9/21/f6/17bcf2667e8a68532ba2fbf6d5c72fdf4c7f7d9abfa4852d2f\n",
            "  Building wheel for sklearn (setup.py) ... \u001b[?25l\u001b[?25hdone\n",
            "  Created wheel for sklearn: filename=sklearn-0.0.post1-py3-none-any.whl size=2344 sha256=cf6753bcf60dd78f11a3f99ac5695e0c5648ded9cc86c62c492c3acbb790a762\n",
            "  Stored in directory: /root/.cache/pip/wheels/42/56/cc/4a8bf86613aafd5b7f1b310477667c1fca5c51c3ae4124a003\n",
            "Successfully built qeds pyLDAvis sklearn\n",
            "Installing collected packages: munch, inflection, cligj, click-plugins, sklearn, quantecon, quandl, pyproj, funcy, fiona, qeds, pyLDAvis, geopandas\n",
            "Successfully installed click-plugins-1.1.1 cligj-0.7.2 fiona-1.8.22 funcy-1.17 geopandas-0.10.2 inflection-0.5.1 munch-2.5.0 pyLDAvis-3.3.1 pyproj-3.2.1 qeds-0.7.0 quandl-3.7.0 quantecon-0.5.3 sklearn-0.0.post1\n"
          ]
        }
      ]
    },
    {
      "cell_type": "code",
      "source": [
        "import pandas as pd\n",
        "import numpy as np\n",
        "from tqdm import tqdm\n",
        "%matplotlib inline\n",
        "import numpy as np\n",
        "import matplotlib.pyplot as plt\n",
        "import geopandas"
      ],
      "metadata": {
        "id": "WBpdGjbquQii"
      },
      "execution_count": 119,
      "outputs": []
    },
    {
      "cell_type": "markdown",
      "source": [
        "Importa la base de datos"
      ],
      "metadata": {
        "id": "KNTIoZlGvPum"
      }
    },
    {
      "cell_type": "code",
      "source": [
        "url=\"https://raw.githubusercontent.com/marypazrf/bdd/main/target-locations.csv\"\n",
        "df=pd.read_csv(url)"
      ],
      "metadata": {
        "id": "PAJWHRVN781V"
      },
      "execution_count": 120,
      "outputs": []
    },
    {
      "cell_type": "markdown",
      "source": [
        "Exploremos los datos."
      ],
      "metadata": {
        "id": "sH4hvPAYvUGY"
      }
    },
    {
      "cell_type": "code",
      "source": [
        "\n",
        "df.head()\n"
      ],
      "metadata": {
        "colab": {
          "base_uri": "https://localhost:8080/",
          "height": 206
        },
        "id": "DuzNp7KseyBg",
        "outputId": "757fbebd-f41e-4372-8c84-fd31a372f462"
      },
      "execution_count": 121,
      "outputs": [
        {
          "output_type": "execute_result",
          "data": {
            "text/plain": [
              "        name   latitude  longitude  \\\n",
              "0  Alabaster  33.224225 -86.804174   \n",
              "1   Bessemer  33.334550 -86.989778   \n",
              "2     Daphne  30.602875 -87.895932   \n",
              "3    Decatur  34.560148 -86.971559   \n",
              "4     Dothan  31.266061 -85.446422   \n",
              "\n",
              "                                             address         phone  \\\n",
              "0        250 S Colonial Dr, Alabaster, AL 35007-4657  205-564-2608   \n",
              "1       4889 Promenade Pkwy, Bessemer, AL 35022-7305  205-565-3760   \n",
              "2          1698 US Highway 98, Daphne, AL 36526-4252  251-621-3540   \n",
              "3  1235 Point Mallard Pkwy SE, Decatur, AL 35601-...  256-898-3036   \n",
              "4         4601 Montgomery Hwy, Dothan, AL 36303-1522  334-340-1112   \n",
              "\n",
              "                                    website  \n",
              "0  https://www.target.com/sl/alabaster/2276  \n",
              "1   https://www.target.com/sl/bessemer/2375  \n",
              "2     https://www.target.com/sl/daphne/1274  \n",
              "3    https://www.target.com/sl/decatur/2084  \n",
              "4     https://www.target.com/sl/dothan/1468  "
            ],
            "text/html": [
              "\n",
              "  <div id=\"df-f7ae71e3-e198-4d66-8e4c-6801ddb18d6b\">\n",
              "    <div class=\"colab-df-container\">\n",
              "      <div>\n",
              "<style scoped>\n",
              "    .dataframe tbody tr th:only-of-type {\n",
              "        vertical-align: middle;\n",
              "    }\n",
              "\n",
              "    .dataframe tbody tr th {\n",
              "        vertical-align: top;\n",
              "    }\n",
              "\n",
              "    .dataframe thead th {\n",
              "        text-align: right;\n",
              "    }\n",
              "</style>\n",
              "<table border=\"1\" class=\"dataframe\">\n",
              "  <thead>\n",
              "    <tr style=\"text-align: right;\">\n",
              "      <th></th>\n",
              "      <th>name</th>\n",
              "      <th>latitude</th>\n",
              "      <th>longitude</th>\n",
              "      <th>address</th>\n",
              "      <th>phone</th>\n",
              "      <th>website</th>\n",
              "    </tr>\n",
              "  </thead>\n",
              "  <tbody>\n",
              "    <tr>\n",
              "      <th>0</th>\n",
              "      <td>Alabaster</td>\n",
              "      <td>33.224225</td>\n",
              "      <td>-86.804174</td>\n",
              "      <td>250 S Colonial Dr, Alabaster, AL 35007-4657</td>\n",
              "      <td>205-564-2608</td>\n",
              "      <td>https://www.target.com/sl/alabaster/2276</td>\n",
              "    </tr>\n",
              "    <tr>\n",
              "      <th>1</th>\n",
              "      <td>Bessemer</td>\n",
              "      <td>33.334550</td>\n",
              "      <td>-86.989778</td>\n",
              "      <td>4889 Promenade Pkwy, Bessemer, AL 35022-7305</td>\n",
              "      <td>205-565-3760</td>\n",
              "      <td>https://www.target.com/sl/bessemer/2375</td>\n",
              "    </tr>\n",
              "    <tr>\n",
              "      <th>2</th>\n",
              "      <td>Daphne</td>\n",
              "      <td>30.602875</td>\n",
              "      <td>-87.895932</td>\n",
              "      <td>1698 US Highway 98, Daphne, AL 36526-4252</td>\n",
              "      <td>251-621-3540</td>\n",
              "      <td>https://www.target.com/sl/daphne/1274</td>\n",
              "    </tr>\n",
              "    <tr>\n",
              "      <th>3</th>\n",
              "      <td>Decatur</td>\n",
              "      <td>34.560148</td>\n",
              "      <td>-86.971559</td>\n",
              "      <td>1235 Point Mallard Pkwy SE, Decatur, AL 35601-...</td>\n",
              "      <td>256-898-3036</td>\n",
              "      <td>https://www.target.com/sl/decatur/2084</td>\n",
              "    </tr>\n",
              "    <tr>\n",
              "      <th>4</th>\n",
              "      <td>Dothan</td>\n",
              "      <td>31.266061</td>\n",
              "      <td>-85.446422</td>\n",
              "      <td>4601 Montgomery Hwy, Dothan, AL 36303-1522</td>\n",
              "      <td>334-340-1112</td>\n",
              "      <td>https://www.target.com/sl/dothan/1468</td>\n",
              "    </tr>\n",
              "  </tbody>\n",
              "</table>\n",
              "</div>\n",
              "      <button class=\"colab-df-convert\" onclick=\"convertToInteractive('df-f7ae71e3-e198-4d66-8e4c-6801ddb18d6b')\"\n",
              "              title=\"Convert this dataframe to an interactive table.\"\n",
              "              style=\"display:none;\">\n",
              "        \n",
              "  <svg xmlns=\"http://www.w3.org/2000/svg\" height=\"24px\"viewBox=\"0 0 24 24\"\n",
              "       width=\"24px\">\n",
              "    <path d=\"M0 0h24v24H0V0z\" fill=\"none\"/>\n",
              "    <path d=\"M18.56 5.44l.94 2.06.94-2.06 2.06-.94-2.06-.94-.94-2.06-.94 2.06-2.06.94zm-11 1L8.5 8.5l.94-2.06 2.06-.94-2.06-.94L8.5 2.5l-.94 2.06-2.06.94zm10 10l.94 2.06.94-2.06 2.06-.94-2.06-.94-.94-2.06-.94 2.06-2.06.94z\"/><path d=\"M17.41 7.96l-1.37-1.37c-.4-.4-.92-.59-1.43-.59-.52 0-1.04.2-1.43.59L10.3 9.45l-7.72 7.72c-.78.78-.78 2.05 0 2.83L4 21.41c.39.39.9.59 1.41.59.51 0 1.02-.2 1.41-.59l7.78-7.78 2.81-2.81c.8-.78.8-2.07 0-2.86zM5.41 20L4 18.59l7.72-7.72 1.47 1.35L5.41 20z\"/>\n",
              "  </svg>\n",
              "      </button>\n",
              "      \n",
              "  <style>\n",
              "    .colab-df-container {\n",
              "      display:flex;\n",
              "      flex-wrap:wrap;\n",
              "      gap: 12px;\n",
              "    }\n",
              "\n",
              "    .colab-df-convert {\n",
              "      background-color: #E8F0FE;\n",
              "      border: none;\n",
              "      border-radius: 50%;\n",
              "      cursor: pointer;\n",
              "      display: none;\n",
              "      fill: #1967D2;\n",
              "      height: 32px;\n",
              "      padding: 0 0 0 0;\n",
              "      width: 32px;\n",
              "    }\n",
              "\n",
              "    .colab-df-convert:hover {\n",
              "      background-color: #E2EBFA;\n",
              "      box-shadow: 0px 1px 2px rgba(60, 64, 67, 0.3), 0px 1px 3px 1px rgba(60, 64, 67, 0.15);\n",
              "      fill: #174EA6;\n",
              "    }\n",
              "\n",
              "    [theme=dark] .colab-df-convert {\n",
              "      background-color: #3B4455;\n",
              "      fill: #D2E3FC;\n",
              "    }\n",
              "\n",
              "    [theme=dark] .colab-df-convert:hover {\n",
              "      background-color: #434B5C;\n",
              "      box-shadow: 0px 1px 3px 1px rgba(0, 0, 0, 0.15);\n",
              "      filter: drop-shadow(0px 1px 2px rgba(0, 0, 0, 0.3));\n",
              "      fill: #FFFFFF;\n",
              "    }\n",
              "  </style>\n",
              "\n",
              "      <script>\n",
              "        const buttonEl =\n",
              "          document.querySelector('#df-f7ae71e3-e198-4d66-8e4c-6801ddb18d6b button.colab-df-convert');\n",
              "        buttonEl.style.display =\n",
              "          google.colab.kernel.accessAllowed ? 'block' : 'none';\n",
              "\n",
              "        async function convertToInteractive(key) {\n",
              "          const element = document.querySelector('#df-f7ae71e3-e198-4d66-8e4c-6801ddb18d6b');\n",
              "          const dataTable =\n",
              "            await google.colab.kernel.invokeFunction('convertToInteractive',\n",
              "                                                     [key], {});\n",
              "          if (!dataTable) return;\n",
              "\n",
              "          const docLinkHtml = 'Like what you see? Visit the ' +\n",
              "            '<a target=\"_blank\" href=https://colab.research.google.com/notebooks/data_table.ipynb>data table notebook</a>'\n",
              "            + ' to learn more about interactive tables.';\n",
              "          element.innerHTML = '';\n",
              "          dataTable['output_type'] = 'display_data';\n",
              "          await google.colab.output.renderOutput(dataTable, element);\n",
              "          const docLink = document.createElement('div');\n",
              "          docLink.innerHTML = docLinkHtml;\n",
              "          element.appendChild(docLink);\n",
              "        }\n",
              "      </script>\n",
              "    </div>\n",
              "  </div>\n",
              "  "
            ]
          },
          "metadata": {},
          "execution_count": 121
        }
      ]
    },
    {
      "cell_type": "code",
      "source": [
        "df.info()"
      ],
      "metadata": {
        "colab": {
          "base_uri": "https://localhost:8080/",
          "height": 0
        },
        "id": "MxbhdLkavl7Q",
        "outputId": "2d06edee-6bac-42a0-e641-d149cdaca734"
      },
      "execution_count": 122,
      "outputs": [
        {
          "output_type": "stream",
          "name": "stdout",
          "text": [
            "<class 'pandas.core.frame.DataFrame'>\n",
            "RangeIndex: 1839 entries, 0 to 1838\n",
            "Data columns (total 6 columns):\n",
            " #   Column     Non-Null Count  Dtype  \n",
            "---  ------     --------------  -----  \n",
            " 0   name       1839 non-null   object \n",
            " 1   latitude   1839 non-null   float64\n",
            " 2   longitude  1839 non-null   float64\n",
            " 3   address    1839 non-null   object \n",
            " 4   phone      1839 non-null   object \n",
            " 5   website    1839 non-null   object \n",
            "dtypes: float64(2), object(4)\n",
            "memory usage: 86.3+ KB\n"
          ]
        }
      ]
    },
    {
      "cell_type": "markdown",
      "source": [
        "**Definición de Latitud y Longitud**\n",
        "\n",
        "**Latitud** Es la distancia en grados, minutos y segundos que hay con respecto al paralelo principal, que es el ecuador (0º). La latitud puede ser norte y sur.\n",
        "\n",
        "**Longitud**: Es la distancia en grados, minutos y segundos que hay con respecto al meridiano principal, que es el meridiano de Greenwich (0º).La longitud puede ser este y oeste."
      ],
      "metadata": {
        "id": "cpfqKT4qxAZz"
      }
    },
    {
      "cell_type": "code",
      "source": [
        "latlong=df[[\"latitude\",\"longitude\"]]"
      ],
      "metadata": {
        "id": "oPzX3DGju0As"
      },
      "execution_count": 123,
      "outputs": []
    },
    {
      "cell_type": "code",
      "source": [],
      "metadata": {
        "id": "n4QKgxn4e6V0"
      },
      "execution_count": null,
      "outputs": []
    },
    {
      "cell_type": "markdown",
      "source": [
        "¡Visualizemos los datos!, para empezar a notar algún patron. \n",
        "\n",
        "A simple vista pudieramos pensar que tenemos algunos datos atípicos u outliers, pero .... no es así, simplemente esta grafica no nos está dando toda la información."
      ],
      "metadata": {
        "id": "gMk6UVE2e67y"
      }
    },
    {
      "cell_type": "code",
      "source": [
        "#extrae los datos interesantes\n",
        "latlong.plot.scatter( \"longitude\",\"latitude\")"
      ],
      "metadata": {
        "colab": {
          "base_uri": "https://localhost:8080/",
          "height": 306
        },
        "id": "-QZRqKiDfj2J",
        "outputId": "7121ebbe-5b65-4413-e3ed-8208d9b19b44"
      },
      "execution_count": 124,
      "outputs": [
        {
          "output_type": "execute_result",
          "data": {
            "text/plain": [
              "<matplotlib.axes._subplots.AxesSubplot at 0x7f294eb112d0>"
            ]
          },
          "metadata": {},
          "execution_count": 124
        },
        {
          "output_type": "display_data",
          "data": {
            "text/plain": [
              "<Figure size 432x288 with 1 Axes>"
            ],
            "image/png": "[encoded data removed]"
          },
          "metadata": {
            "needs_background": "light"
          }
        }
      ]
    },
    {
      "cell_type": "code",
      "source": [
        "latlong.describe()"
      ],
      "metadata": {
        "colab": {
          "base_uri": "https://localhost:8080/",
          "height": 300
        },
        "id": "O6b3QguyyjM_",
        "outputId": "a0b7326f-86a8-4dba-981d-70ae5ade0543"
      },
      "execution_count": 125,
      "outputs": [
        {
          "output_type": "execute_result",
          "data": {
            "text/plain": [
              "          latitude    longitude\n",
              "count  1839.000000  1839.000000\n",
              "mean     37.791238   -91.986881\n",
              "std       5.272299    16.108046\n",
              "min      19.647855  -159.376962\n",
              "25%      33.882605   -98.268828\n",
              "50%      38.955432   -87.746346\n",
              "75%      41.658341   -80.084833\n",
              "max      61.577919   -68.742331"
            ],
            "text/html": [
              "\n",
              "  <div id=\"df-28f96dfc-4fc4-45b7-95e5-58c950e6bc4a\">\n",
              "    <div class=\"colab-df-container\">\n",
              "      <div>\n",
              "<style scoped>\n",
              "    .dataframe tbody tr th:only-of-type {\n",
              "        vertical-align: middle;\n",
              "    }\n",
              "\n",
              "    .dataframe tbody tr th {\n",
              "        vertical-align: top;\n",
              "    }\n",
              "\n",
              "    .dataframe thead th {\n",
              "        text-align: right;\n",
              "    }\n",
              "</style>\n",
              "<table border=\"1\" class=\"dataframe\">\n",
              "  <thead>\n",
              "    <tr style=\"text-align: right;\">\n",
              "      <th></th>\n",
              "      <th>latitude</th>\n",
              "      <th>longitude</th>\n",
              "    </tr>\n",
              "  </thead>\n",
              "  <tbody>\n",
              "    <tr>\n",
              "      <th>count</th>\n",
              "      <td>1839.000000</td>\n",
              "      <td>1839.000000</td>\n",
              "    </tr>\n",
              "    <tr>\n",
              "      <th>mean</th>\n",
              "      <td>37.791238</td>\n",
              "      <td>-91.986881</td>\n",
              "    </tr>\n",
              "    <tr>\n",
              "      <th>std</th>\n",
              "      <td>5.272299</td>\n",
              "      <td>16.108046</td>\n",
              "    </tr>\n",
              "    <tr>\n",
              "      <th>min</th>\n",
              "      <td>19.647855</td>\n",
              "      <td>-159.376962</td>\n",
              "    </tr>\n",
              "    <tr>\n",
              "      <th>25%</th>\n",
              "      <td>33.882605</td>\n",
              "      <td>-98.268828</td>\n",
              "    </tr>\n",
              "    <tr>\n",
              "      <th>50%</th>\n",
              "      <td>38.955432</td>\n",
              "      <td>-87.746346</td>\n",
              "    </tr>\n",
              "    <tr>\n",
              "      <th>75%</th>\n",
              "      <td>41.658341</td>\n",
              "      <td>-80.084833</td>\n",
              "    </tr>\n",
              "    <tr>\n",
              "      <th>max</th>\n",
              "      <td>61.577919</td>\n",
              "      <td>-68.742331</td>\n",
              "    </tr>\n",
              "  </tbody>\n",
              "</table>\n",
              "</div>\n",
              "      <button class=\"colab-df-convert\" onclick=\"convertToInteractive('df-28f96dfc-4fc4-45b7-95e5-58c950e6bc4a')\"\n",
              "              title=\"Convert this dataframe to an interactive table.\"\n",
              "              style=\"display:none;\">\n",
              "        \n",
              "  <svg xmlns=\"http://www.w3.org/2000/svg\" height=\"24px\"viewBox=\"0 0 24 24\"\n",
              "       width=\"24px\">\n",
              "    <path d=\"M0 0h24v24H0V0z\" fill=\"none\"/>\n",
              "    <path d=\"M18.56 5.44l.94 2.06.94-2.06 2.06-.94-2.06-.94-.94-2.06-.94 2.06-2.06.94zm-11 1L8.5 8.5l.94-2.06 2.06-.94-2.06-.94L8.5 2.5l-.94 2.06-2.06.94zm10 10l.94 2.06.94-2.06 2.06-.94-2.06-.94-.94-2.06-.94 2.06-2.06.94z\"/><path d=\"M17.41 7.96l-1.37-1.37c-.4-.4-.92-.59-1.43-.59-.52 0-1.04.2-1.43.59L10.3 9.45l-7.72 7.72c-.78.78-.78 2.05 0 2.83L4 21.41c.39.39.9.59 1.41.59.51 0 1.02-.2 1.41-.59l7.78-7.78 2.81-2.81c.8-.78.8-2.07 0-2.86zM5.41 20L4 18.59l7.72-7.72 1.47 1.35L5.41 20z\"/>\n",
              "  </svg>\n",
              "      </button>\n",
              "      \n",
              "  <style>\n",
              "    .colab-df-container {\n",
              "      display:flex;\n",
              "      flex-wrap:wrap;\n",
              "      gap: 12px;\n",
              "    }\n",
              "\n",
              "    .colab-df-convert {\n",
              "      background-color: #E8F0FE;\n",
              "      border: none;\n",
              "      border-radius: 50%;\n",
              "      cursor: pointer;\n",
              "      display: none;\n",
              "      fill: #1967D2;\n",
              "      height: 32px;\n",
              "      padding: 0 0 0 0;\n",
              "      width: 32px;\n",
              "    }\n",
              "\n",
              "    .colab-df-convert:hover {\n",
              "      background-color: #E2EBFA;\n",
              "      box-shadow: 0px 1px 2px rgba(60, 64, 67, 0.3), 0px 1px 3px 1px rgba(60, 64, 67, 0.15);\n",
              "      fill: #174EA6;\n",
              "    }\n",
              "\n",
              "    [theme=dark] .colab-df-convert {\n",
              "      background-color: #3B4455;\n",
              "      fill: #D2E3FC;\n",
              "    }\n",
              "\n",
              "    [theme=dark] .colab-df-convert:hover {\n",
              "      background-color: #434B5C;\n",
              "      box-shadow: 0px 1px 3px 1px rgba(0, 0, 0, 0.15);\n",
              "      filter: drop-shadow(0px 1px 2px rgba(0, 0, 0, 0.3));\n",
              "      fill: #FFFFFF;\n",
              "    }\n",
              "  </style>\n",
              "\n",
              "      <script>\n",
              "        const buttonEl =\n",
              "          document.querySelector('#df-28f96dfc-4fc4-45b7-95e5-58c950e6bc4a button.colab-df-convert');\n",
              "        buttonEl.style.display =\n",
              "          google.colab.kernel.accessAllowed ? 'block' : 'none';\n",
              "\n",
              "        async function convertToInteractive(key) {\n",
              "          const element = document.querySelector('#df-28f96dfc-4fc4-45b7-95e5-58c950e6bc4a');\n",
              "          const dataTable =\n",
              "            await google.colab.kernel.invokeFunction('convertToInteractive',\n",
              "                                                     [key], {});\n",
              "          if (!dataTable) return;\n",
              "\n",
              "          const docLinkHtml = 'Like what you see? Visit the ' +\n",
              "            '<a target=\"_blank\" href=https://colab.research.google.com/notebooks/data_table.ipynb>data table notebook</a>'\n",
              "            + ' to learn more about interactive tables.';\n",
              "          element.innerHTML = '';\n",
              "          dataTable['output_type'] = 'display_data';\n",
              "          await google.colab.output.renderOutput(dataTable, element);\n",
              "          const docLink = document.createElement('div');\n",
              "          docLink.innerHTML = docLinkHtml;\n",
              "          element.appendChild(docLink);\n",
              "        }\n",
              "      </script>\n",
              "    </div>\n",
              "  </div>\n",
              "  "
            ]
          },
          "metadata": {},
          "execution_count": 125
        }
      ]
    },
    {
      "cell_type": "markdown",
      "source": [
        "Para entender un poco más, nos auxiliaremos de una librería para graficar datos geográficos. Esto nos ayudara a tener un mejor entendimiento de ellos.\n",
        "\n",
        "\n"
      ],
      "metadata": {
        "id": "hkPMyAyIDunz"
      }
    },
    {
      "cell_type": "code",
      "source": [
        "import geopandas as gpd\n",
        "import matplotlib.pyplot as plt\n",
        "import pandas as pd\n",
        "\n",
        "from shapely.geometry import Point\n",
        "\n",
        "%matplotlib inline\n",
        "# activate plot theme\n",
        "import qeds\n",
        "qeds.themes.mpl_style();"
      ],
      "metadata": {
        "id": "_blyM4esyJTu"
      },
      "execution_count": 126,
      "outputs": []
    },
    {
      "cell_type": "code",
      "source": [
        "df[\"Coordinates\"] = list(zip(df.longitude, df.latitude))\n",
        "df[\"Coordinates\"] = df[\"Coordinates\"].apply(Point)\n",
        "df.head()"
      ],
      "metadata": {
        "colab": {
          "base_uri": "https://localhost:8080/",
          "height": 206
        },
        "id": "01i0TciKfPco",
        "outputId": "475fe6bf-cfe1-4752-c709-81a373c24619"
      },
      "execution_count": 127,
      "outputs": [
        {
          "output_type": "execute_result",
          "data": {
            "text/plain": [
              "        name   latitude  longitude  \\\n",
              "0  Alabaster  33.224225 -86.804174   \n",
              "1   Bessemer  33.334550 -86.989778   \n",
              "2     Daphne  30.602875 -87.895932   \n",
              "3    Decatur  34.560148 -86.971559   \n",
              "4     Dothan  31.266061 -85.446422   \n",
              "\n",
              "                                             address         phone  \\\n",
              "0        250 S Colonial Dr, Alabaster, AL 35007-4657  205-564-2608   \n",
              "1       4889 Promenade Pkwy, Bessemer, AL 35022-7305  205-565-3760   \n",
              "2          1698 US Highway 98, Daphne, AL 36526-4252  251-621-3540   \n",
              "3  1235 Point Mallard Pkwy SE, Decatur, AL 35601-...  256-898-3036   \n",
              "4         4601 Montgomery Hwy, Dothan, AL 36303-1522  334-340-1112   \n",
              "\n",
              "                                    website  \\\n",
              "0  https://www.target.com/sl/alabaster/2276   \n",
              "1   https://www.target.com/sl/bessemer/2375   \n",
              "2     https://www.target.com/sl/daphne/1274   \n",
              "3    https://www.target.com/sl/decatur/2084   \n",
              "4     https://www.target.com/sl/dothan/1468   \n",
              "\n",
              "                             Coordinates  \n",
              "0  POINT (-86.80417369999999 33.2242254)  \n",
              "1  POINT (-86.98977789999999 33.3345501)  \n",
              "2  POINT (-87.89593169999999 30.6028747)  \n",
              "3         POINT (-86.9715595 34.5601477)  \n",
              "4         POINT (-85.4464222 31.2660613)  "
            ],
            "text/html": [
              "\n",
              "  <div id=\"df-991c0a0e-7cb7-403d-953a-432053693620\">\n",
              "    <div class=\"colab-df-container\">\n",
              "      <div>\n",
              "<style scoped>\n",
              "    .dataframe tbody tr th:only-of-type {\n",
              "        vertical-align: middle;\n",
              "    }\n",
              "\n",
              "    .dataframe tbody tr th {\n",
              "        vertical-align: top;\n",
              "    }\n",
              "\n",
              "    .dataframe thead th {\n",
              "        text-align: right;\n",
              "    }\n",
              "</style>\n",
              "<table border=\"1\" class=\"dataframe\">\n",
              "  <thead>\n",
              "    <tr style=\"text-align: right;\">\n",
              "      <th></th>\n",
              "      <th>name</th>\n",
              "      <th>latitude</th>\n",
              "      <th>longitude</th>\n",
              "      <th>address</th>\n",
              "      <th>phone</th>\n",
              "      <th>website</th>\n",
              "      <th>Coordinates</th>\n",
              "    </tr>\n",
              "  </thead>\n",
              "  <tbody>\n",
              "    <tr>\n",
              "      <th>0</th>\n",
              "      <td>Alabaster</td>\n",
              "      <td>33.224225</td>\n",
              "      <td>-86.804174</td>\n",
              "      <td>250 S Colonial Dr, Alabaster, AL 35007-4657</td>\n",
              "      <td>205-564-2608</td>\n",
              "      <td>https://www.target.com/sl/alabaster/2276</td>\n",
              "      <td>POINT (-86.80417369999999 33.2242254)</td>\n",
              "    </tr>\n",
              "    <tr>\n",
              "      <th>1</th>\n",
              "      <td>Bessemer</td>\n",
              "      <td>33.334550</td>\n",
              "      <td>-86.989778</td>\n",
              "      <td>4889 Promenade Pkwy, Bessemer, AL 35022-7305</td>\n",
              "      <td>205-565-3760</td>\n",
              "      <td>https://www.target.com/sl/bessemer/2375</td>\n",
              "      <td>POINT (-86.98977789999999 33.3345501)</td>\n",
              "    </tr>\n",
              "    <tr>\n",
              "      <th>2</th>\n",
              "      <td>Daphne</td>\n",
              "      <td>30.602875</td>\n",
              "      <td>-87.895932</td>\n",
              "      <td>1698 US Highway 98, Daphne, AL 36526-4252</td>\n",
              "      <td>251-621-3540</td>\n",
              "      <td>https://www.target.com/sl/daphne/1274</td>\n",
              "      <td>POINT (-87.89593169999999 30.6028747)</td>\n",
              "    </tr>\n",
              "    <tr>\n",
              "      <th>3</th>\n",
              "      <td>Decatur</td>\n",
              "      <td>34.560148</td>\n",
              "      <td>-86.971559</td>\n",
              "      <td>1235 Point Mallard Pkwy SE, Decatur, AL 35601-...</td>\n",
              "      <td>256-898-3036</td>\n",
              "      <td>https://www.target.com/sl/decatur/2084</td>\n",
              "      <td>POINT (-86.9715595 34.5601477)</td>\n",
              "    </tr>\n",
              "    <tr>\n",
              "      <th>4</th>\n",
              "      <td>Dothan</td>\n",
              "      <td>31.266061</td>\n",
              "      <td>-85.446422</td>\n",
              "      <td>4601 Montgomery Hwy, Dothan, AL 36303-1522</td>\n",
              "      <td>334-340-1112</td>\n",
              "      <td>https://www.target.com/sl/dothan/1468</td>\n",
              "      <td>POINT (-85.4464222 31.2660613)</td>\n",
              "    </tr>\n",
              "  </tbody>\n",
              "</table>\n",
              "</div>\n",
              "      <button class=\"colab-df-convert\" onclick=\"convertToInteractive('df-991c0a0e-7cb7-403d-953a-432053693620')\"\n",
              "              title=\"Convert this dataframe to an interactive table.\"\n",
              "              style=\"display:none;\">\n",
              "        \n",
              "  <svg xmlns=\"http://www.w3.org/2000/svg\" height=\"24px\"viewBox=\"0 0 24 24\"\n",
              "       width=\"24px\">\n",
              "    <path d=\"M0 0h24v24H0V0z\" fill=\"none\"/>\n",
              "    <path d=\"M18.56 5.44l.94 2.06.94-2.06 2.06-.94-2.06-.94-.94-2.06-.94 2.06-2.06.94zm-11 1L8.5 8.5l.94-2.06 2.06-.94-2.06-.94L8.5 2.5l-.94 2.06-2.06.94zm10 10l.94 2.06.94-2.06 2.06-.94-2.06-.94-.94-2.06-.94 2.06-2.06.94z\"/><path d=\"M17.41 7.96l-1.37-1.37c-.4-.4-.92-.59-1.43-.59-.52 0-1.04.2-1.43.59L10.3 9.45l-7.72 7.72c-.78.78-.78 2.05 0 2.83L4 21.41c.39.39.9.59 1.41.59.51 0 1.02-.2 1.41-.59l7.78-7.78 2.81-2.81c.8-.78.8-2.07 0-2.86zM5.41 20L4 18.59l7.72-7.72 1.47 1.35L5.41 20z\"/>\n",
              "  </svg>\n",
              "      </button>\n",
              "      \n",
              "  <style>\n",
              "    .colab-df-container {\n",
              "      display:flex;\n",
              "      flex-wrap:wrap;\n",
              "      gap: 12px;\n",
              "    }\n",
              "\n",
              "    .colab-df-convert {\n",
              "      background-color: #E8F0FE;\n",
              "      border: none;\n",
              "      border-radius: 50%;\n",
              "      cursor: pointer;\n",
              "      display: none;\n",
              "      fill: #1967D2;\n",
              "      height: 32px;\n",
              "      padding: 0 0 0 0;\n",
              "      width: 32px;\n",
              "    }\n",
              "\n",
              "    .colab-df-convert:hover {\n",
              "      background-color: #E2EBFA;\n",
              "      box-shadow: 0px 1px 2px rgba(60, 64, 67, 0.3), 0px 1px 3px 1px rgba(60, 64, 67, 0.15);\n",
              "      fill: #174EA6;\n",
              "    }\n",
              "\n",
              "    [theme=dark] .colab-df-convert {\n",
              "      background-color: #3B4455;\n",
              "      fill: #D2E3FC;\n",
              "    }\n",
              "\n",
              "    [theme=dark] .colab-df-convert:hover {\n",
              "      background-color: #434B5C;\n",
              "      box-shadow: 0px 1px 3px 1px rgba(0, 0, 0, 0.15);\n",
              "      filter: drop-shadow(0px 1px 2px rgba(0, 0, 0, 0.3));\n",
              "      fill: #FFFFFF;\n",
              "    }\n",
              "  </style>\n",
              "\n",
              "      <script>\n",
              "        const buttonEl =\n",
              "          document.querySelector('#df-991c0a0e-7cb7-403d-953a-432053693620 button.colab-df-convert');\n",
              "        buttonEl.style.display =\n",
              "          google.colab.kernel.accessAllowed ? 'block' : 'none';\n",
              "\n",
              "        async function convertToInteractive(key) {\n",
              "          const element = document.querySelector('#df-991c0a0e-7cb7-403d-953a-432053693620');\n",
              "          const dataTable =\n",
              "            await google.colab.kernel.invokeFunction('convertToInteractive',\n",
              "                                                     [key], {});\n",
              "          if (!dataTable) return;\n",
              "\n",
              "          const docLinkHtml = 'Like what you see? Visit the ' +\n",
              "            '<a target=\"_blank\" href=https://colab.research.google.com/notebooks/data_table.ipynb>data table notebook</a>'\n",
              "            + ' to learn more about interactive tables.';\n",
              "          element.innerHTML = '';\n",
              "          dataTable['output_type'] = 'display_data';\n",
              "          await google.colab.output.renderOutput(dataTable, element);\n",
              "          const docLink = document.createElement('div');\n",
              "          docLink.innerHTML = docLinkHtml;\n",
              "          element.appendChild(docLink);\n",
              "        }\n",
              "      </script>\n",
              "    </div>\n",
              "  </div>\n",
              "  "
            ]
          },
          "metadata": {},
          "execution_count": 127
        }
      ]
    },
    {
      "cell_type": "code",
      "source": [
        "gdf = gpd.GeoDataFrame(df, geometry=\"Coordinates\")\n",
        "gdf.head()"
      ],
      "metadata": {
        "colab": {
          "base_uri": "https://localhost:8080/",
          "height": 206
        },
        "id": "SBTBrsvlfIU_",
        "outputId": "b9c8a8c9-c8e6-4400-e0e8-6fcc7adeaf90"
      },
      "execution_count": 128,
      "outputs": [
        {
          "output_type": "execute_result",
          "data": {
            "text/plain": [
              "        name   latitude  longitude  \\\n",
              "0  Alabaster  33.224225 -86.804174   \n",
              "1   Bessemer  33.334550 -86.989778   \n",
              "2     Daphne  30.602875 -87.895932   \n",
              "3    Decatur  34.560148 -86.971559   \n",
              "4     Dothan  31.266061 -85.446422   \n",
              "\n",
              "                                             address         phone  \\\n",
              "0        250 S Colonial Dr, Alabaster, AL 35007-4657  205-564-2608   \n",
              "1       4889 Promenade Pkwy, Bessemer, AL 35022-7305  205-565-3760   \n",
              "2          1698 US Highway 98, Daphne, AL 36526-4252  251-621-3540   \n",
              "3  1235 Point Mallard Pkwy SE, Decatur, AL 35601-...  256-898-3036   \n",
              "4         4601 Montgomery Hwy, Dothan, AL 36303-1522  334-340-1112   \n",
              "\n",
              "                                    website                 Coordinates  \n",
              "0  https://www.target.com/sl/alabaster/2276  POINT (-86.80417 33.22423)  \n",
              "1   https://www.target.com/sl/bessemer/2375  POINT (-86.98978 33.33455)  \n",
              "2     https://www.target.com/sl/daphne/1274  POINT (-87.89593 30.60287)  \n",
              "3    https://www.target.com/sl/decatur/2084  POINT (-86.97156 34.56015)  \n",
              "4     https://www.target.com/sl/dothan/1468  POINT (-85.44642 31.26606)  "
            ],
            "text/html": [
              "\n",
              "  <div id=\"df-1ae54003-ad25-4eb5-bb13-3dbfece23a1f\">\n",
              "    <div class=\"colab-df-container\">\n",
              "      <div>\n",
              "<style scoped>\n",
              "    .dataframe tbody tr th:only-of-type {\n",
              "        vertical-align: middle;\n",
              "    }\n",
              "\n",
              "    .dataframe tbody tr th {\n",
              "        vertical-align: top;\n",
              "    }\n",
              "\n",
              "    .dataframe thead th {\n",
              "        text-align: right;\n",
              "    }\n",
              "</style>\n",
              "<table border=\"1\" class=\"dataframe\">\n",
              "  <thead>\n",
              "    <tr style=\"text-align: right;\">\n",
              "      <th></th>\n",
              "      <th>name</th>\n",
              "      <th>latitude</th>\n",
              "      <th>longitude</th>\n",
              "      <th>address</th>\n",
              "      <th>phone</th>\n",
              "      <th>website</th>\n",
              "      <th>Coordinates</th>\n",
              "    </tr>\n",
              "  </thead>\n",
              "  <tbody>\n",
              "    <tr>\n",
              "      <th>0</th>\n",
              "      <td>Alabaster</td>\n",
              "      <td>33.224225</td>\n",
              "      <td>-86.804174</td>\n",
              "      <td>250 S Colonial Dr, Alabaster, AL 35007-4657</td>\n",
              "      <td>205-564-2608</td>\n",
              "      <td>https://www.target.com/sl/alabaster/2276</td>\n",
              "      <td>POINT (-86.80417 33.22423)</td>\n",
              "    </tr>\n",
              "    <tr>\n",
              "      <th>1</th>\n",
              "      <td>Bessemer</td>\n",
              "      <td>33.334550</td>\n",
              "      <td>-86.989778</td>\n",
              "      <td>4889 Promenade Pkwy, Bessemer, AL 35022-7305</td>\n",
              "      <td>205-565-3760</td>\n",
              "      <td>https://www.target.com/sl/bessemer/2375</td>\n",
              "      <td>POINT (-86.98978 33.33455)</td>\n",
              "    </tr>\n",
              "    <tr>\n",
              "      <th>2</th>\n",
              "      <td>Daphne</td>\n",
              "      <td>30.602875</td>\n",
              "      <td>-87.895932</td>\n",
              "      <td>1698 US Highway 98, Daphne, AL 36526-4252</td>\n",
              "      <td>251-621-3540</td>\n",
              "      <td>https://www.target.com/sl/daphne/1274</td>\n",
              "      <td>POINT (-87.89593 30.60287)</td>\n",
              "    </tr>\n",
              "    <tr>\n",
              "      <th>3</th>\n",
              "      <td>Decatur</td>\n",
              "      <td>34.560148</td>\n",
              "      <td>-86.971559</td>\n",
              "      <td>1235 Point Mallard Pkwy SE, Decatur, AL 35601-...</td>\n",
              "      <td>256-898-3036</td>\n",
              "      <td>https://www.target.com/sl/decatur/2084</td>\n",
              "      <td>POINT (-86.97156 34.56015)</td>\n",
              "    </tr>\n",
              "    <tr>\n",
              "      <th>4</th>\n",
              "      <td>Dothan</td>\n",
              "      <td>31.266061</td>\n",
              "      <td>-85.446422</td>\n",
              "      <td>4601 Montgomery Hwy, Dothan, AL 36303-1522</td>\n",
              "      <td>334-340-1112</td>\n",
              "      <td>https://www.target.com/sl/dothan/1468</td>\n",
              "      <td>POINT (-85.44642 31.26606)</td>\n",
              "    </tr>\n",
              "  </tbody>\n",
              "</table>\n",
              "</div>\n",
              "      <button class=\"colab-df-convert\" onclick=\"convertToInteractive('df-1ae54003-ad25-4eb5-bb13-3dbfece23a1f')\"\n",
              "              title=\"Convert this dataframe to an interactive table.\"\n",
              "              style=\"display:none;\">\n",
              "        \n",
              "  <svg xmlns=\"http://www.w3.org/2000/svg\" height=\"24px\"viewBox=\"0 0 24 24\"\n",
              "       width=\"24px\">\n",
              "    <path d=\"M0 0h24v24H0V0z\" fill=\"none\"/>\n",
              "    <path d=\"M18.56 5.44l.94 2.06.94-2.06 2.06-.94-2.06-.94-.94-2.06-.94 2.06-2.06.94zm-11 1L8.5 8.5l.94-2.06 2.06-.94-2.06-.94L8.5 2.5l-.94 2.06-2.06.94zm10 10l.94 2.06.94-2.06 2.06-.94-2.06-.94-.94-2.06-.94 2.06-2.06.94z\"/><path d=\"M17.41 7.96l-1.37-1.37c-.4-.4-.92-.59-1.43-.59-.52 0-1.04.2-1.43.59L10.3 9.45l-7.72 7.72c-.78.78-.78 2.05 0 2.83L4 21.41c.39.39.9.59 1.41.59.51 0 1.02-.2 1.41-.59l7.78-7.78 2.81-2.81c.8-.78.8-2.07 0-2.86zM5.41 20L4 18.59l7.72-7.72 1.47 1.35L5.41 20z\"/>\n",
              "  </svg>\n",
              "      </button>\n",
              "      \n",
              "  <style>\n",
              "    .colab-df-container {\n",
              "      display:flex;\n",
              "      flex-wrap:wrap;\n",
              "      gap: 12px;\n",
              "    }\n",
              "\n",
              "    .colab-df-convert {\n",
              "      background-color: #E8F0FE;\n",
              "      border: none;\n",
              "      border-radius: 50%;\n",
              "      cursor: pointer;\n",
              "      display: none;\n",
              "      fill: #1967D2;\n",
              "      height: 32px;\n",
              "      padding: 0 0 0 0;\n",
              "      width: 32px;\n",
              "    }\n",
              "\n",
              "    .colab-df-convert:hover {\n",
              "      background-color: #E2EBFA;\n",
              "      box-shadow: 0px 1px 2px rgba(60, 64, 67, 0.3), 0px 1px 3px 1px rgba(60, 64, 67, 0.15);\n",
              "      fill: #174EA6;\n",
              "    }\n",
              "\n",
              "    [theme=dark] .colab-df-convert {\n",
              "      background-color: #3B4455;\n",
              "      fill: #D2E3FC;\n",
              "    }\n",
              "\n",
              "    [theme=dark] .colab-df-convert:hover {\n",
              "      background-color: #434B5C;\n",
              "      box-shadow: 0px 1px 3px 1px rgba(0, 0, 0, 0.15);\n",
              "      filter: drop-shadow(0px 1px 2px rgba(0, 0, 0, 0.3));\n",
              "      fill: #FFFFFF;\n",
              "    }\n",
              "  </style>\n",
              "\n",
              "      <script>\n",
              "        const buttonEl =\n",
              "          document.querySelector('#df-1ae54003-ad25-4eb5-bb13-3dbfece23a1f button.colab-df-convert');\n",
              "        buttonEl.style.display =\n",
              "          google.colab.kernel.accessAllowed ? 'block' : 'none';\n",
              "\n",
              "        async function convertToInteractive(key) {\n",
              "          const element = document.querySelector('#df-1ae54003-ad25-4eb5-bb13-3dbfece23a1f');\n",
              "          const dataTable =\n",
              "            await google.colab.kernel.invokeFunction('convertToInteractive',\n",
              "                                                     [key], {});\n",
              "          if (!dataTable) return;\n",
              "\n",
              "          const docLinkHtml = 'Like what you see? Visit the ' +\n",
              "            '<a target=\"_blank\" href=https://colab.research.google.com/notebooks/data_table.ipynb>data table notebook</a>'\n",
              "            + ' to learn more about interactive tables.';\n",
              "          element.innerHTML = '';\n",
              "          dataTable['output_type'] = 'display_data';\n",
              "          await google.colab.output.renderOutput(dataTable, element);\n",
              "          const docLink = document.createElement('div');\n",
              "          docLink.innerHTML = docLinkHtml;\n",
              "          element.appendChild(docLink);\n",
              "        }\n",
              "      </script>\n",
              "    </div>\n",
              "  </div>\n",
              "  "
            ]
          },
          "metadata": {},
          "execution_count": 128
        }
      ]
    },
    {
      "cell_type": "code",
      "source": [
        "#mapa\n",
        "\n",
        "world = gpd.read_file(gpd.datasets.get_path(\"naturalearth_lowres\"))\n",
        "world = world.set_index(\"iso_a3\")\n",
        "\n",
        "world.head()"
      ],
      "metadata": {
        "colab": {
          "base_uri": "https://localhost:8080/",
          "height": 237
        },
        "id": "wB6Jkrvbfef1",
        "outputId": "61741570-6efd-4eb7-d99a-595d8130d733"
      },
      "execution_count": 129,
      "outputs": [
        {
          "output_type": "execute_result",
          "data": {
            "text/plain": [
              "          pop_est      continent                      name  gdp_md_est  \\\n",
              "iso_a3                                                                   \n",
              "FJI        920938        Oceania                      Fiji      8374.0   \n",
              "TZA      53950935         Africa                  Tanzania    150600.0   \n",
              "ESH        603253         Africa                 W. Sahara       906.5   \n",
              "CAN      35623680  North America                    Canada   1674000.0   \n",
              "USA     326625791  North America  United States of America  18560000.0   \n",
              "\n",
              "                                                 geometry  \n",
              "iso_a3                                                     \n",
              "FJI     MULTIPOLYGON (((180.00000 -16.06713, 180.00000...  \n",
              "TZA     POLYGON ((33.90371 -0.95000, 34.07262 -1.05982...  \n",
              "ESH     POLYGON ((-8.66559 27.65643, -8.66512 27.58948...  \n",
              "CAN     MULTIPOLYGON (((-122.84000 49.00000, -122.9742...  \n",
              "USA     MULTIPOLYGON (((-122.84000 49.00000, -120.0000...  "
            ],
            "text/html": [
              "\n",
              "  <div id=\"df-6a54ad62-fb1a-41e7-859b-3fdfdc21194d\">\n",
              "    <div class=\"colab-df-container\">\n",
              "      <div>\n",
              "<style scoped>\n",
              "    .dataframe tbody tr th:only-of-type {\n",
              "        vertical-align: middle;\n",
              "    }\n",
              "\n",
              "    .dataframe tbody tr th {\n",
              "        vertical-align: top;\n",
              "    }\n",
              "\n",
              "    .dataframe thead th {\n",
              "        text-align: right;\n",
              "    }\n",
              "</style>\n",
              "<table border=\"1\" class=\"dataframe\">\n",
              "  <thead>\n",
              "    <tr style=\"text-align: right;\">\n",
              "      <th></th>\n",
              "      <th>pop_est</th>\n",
              "      <th>continent</th>\n",
              "      <th>name</th>\n",
              "      <th>gdp_md_est</th>\n",
              "      <th>geometry</th>\n",
              "    </tr>\n",
              "    <tr>\n",
              "      <th>iso_a3</th>\n",
              "      <th></th>\n",
              "      <th></th>\n",
              "      <th></th>\n",
              "      <th></th>\n",
              "      <th></th>\n",
              "    </tr>\n",
              "  </thead>\n",
              "  <tbody>\n",
              "    <tr>\n",
              "      <th>FJI</th>\n",
              "      <td>920938</td>\n",
              "      <td>Oceania</td>\n",
              "      <td>Fiji</td>\n",
              "      <td>8374.0</td>\n",
              "      <td>MULTIPOLYGON (((180.00000 -16.06713, 180.00000...</td>\n",
              "    </tr>\n",
              "    <tr>\n",
              "      <th>TZA</th>\n",
              "      <td>53950935</td>\n",
              "      <td>Africa</td>\n",
              "      <td>Tanzania</td>\n",
              "      <td>150600.0</td>\n",
              "      <td>POLYGON ((33.90371 -0.95000, 34.07262 -1.05982...</td>\n",
              "    </tr>\n",
              "    <tr>\n",
              "      <th>ESH</th>\n",
              "      <td>603253</td>\n",
              "      <td>Africa</td>\n",
              "      <td>W. Sahara</td>\n",
              "      <td>906.5</td>\n",
              "      <td>POLYGON ((-8.66559 27.65643, -8.66512 27.58948...</td>\n",
              "    </tr>\n",
              "    <tr>\n",
              "      <th>CAN</th>\n",
              "      <td>35623680</td>\n",
              "      <td>North America</td>\n",
              "      <td>Canada</td>\n",
              "      <td>1674000.0</td>\n",
              "      <td>MULTIPOLYGON (((-122.84000 49.00000, -122.9742...</td>\n",
              "    </tr>\n",
              "    <tr>\n",
              "      <th>USA</th>\n",
              "      <td>326625791</td>\n",
              "      <td>North America</td>\n",
              "      <td>United States of America</td>\n",
              "      <td>18560000.0</td>\n",
              "      <td>MULTIPOLYGON (((-122.84000 49.00000, -120.0000...</td>\n",
              "    </tr>\n",
              "  </tbody>\n",
              "</table>\n",
              "</div>\n",
              "      <button class=\"colab-df-convert\" onclick=\"convertToInteractive('df-6a54ad62-fb1a-41e7-859b-3fdfdc21194d')\"\n",
              "              title=\"Convert this dataframe to an interactive table.\"\n",
              "              style=\"display:none;\">\n",
              "        \n",
              "  <svg xmlns=\"http://www.w3.org/2000/svg\" height=\"24px\"viewBox=\"0 0 24 24\"\n",
              "       width=\"24px\">\n",
              "    <path d=\"M0 0h24v24H0V0z\" fill=\"none\"/>\n",
              "    <path d=\"M18.56 5.44l.94 2.06.94-2.06 2.06-.94-2.06-.94-.94-2.06-.94 2.06-2.06.94zm-11 1L8.5 8.5l.94-2.06 2.06-.94-2.06-.94L8.5 2.5l-.94 2.06-2.06.94zm10 10l.94 2.06.94-2.06 2.06-.94-2.06-.94-.94-2.06-.94 2.06-2.06.94z\"/><path d=\"M17.41 7.96l-1.37-1.37c-.4-.4-.92-.59-1.43-.59-.52 0-1.04.2-1.43.59L10.3 9.45l-7.72 7.72c-.78.78-.78 2.05 0 2.83L4 21.41c.39.39.9.59 1.41.59.51 0 1.02-.2 1.41-.59l7.78-7.78 2.81-2.81c.8-.78.8-2.07 0-2.86zM5.41 20L4 18.59l7.72-7.72 1.47 1.35L5.41 20z\"/>\n",
              "  </svg>\n",
              "      </button>\n",
              "      \n",
              "  <style>\n",
              "    .colab-df-container {\n",
              "      display:flex;\n",
              "      flex-wrap:wrap;\n",
              "      gap: 12px;\n",
              "    }\n",
              "\n",
              "    .colab-df-convert {\n",
              "      background-color: #E8F0FE;\n",
              "      border: none;\n",
              "      border-radius: 50%;\n",
              "      cursor: pointer;\n",
              "      display: none;\n",
              "      fill: #1967D2;\n",
              "      height: 32px;\n",
              "      padding: 0 0 0 0;\n",
              "      width: 32px;\n",
              "    }\n",
              "\n",
              "    .colab-df-convert:hover {\n",
              "      background-color: #E2EBFA;\n",
              "      box-shadow: 0px 1px 2px rgba(60, 64, 67, 0.3), 0px 1px 3px 1px rgba(60, 64, 67, 0.15);\n",
              "      fill: #174EA6;\n",
              "    }\n",
              "\n",
              "    [theme=dark] .colab-df-convert {\n",
              "      background-color: #3B4455;\n",
              "      fill: #D2E3FC;\n",
              "    }\n",
              "\n",
              "    [theme=dark] .colab-df-convert:hover {\n",
              "      background-color: #434B5C;\n",
              "      box-shadow: 0px 1px 3px 1px rgba(0, 0, 0, 0.15);\n",
              "      filter: drop-shadow(0px 1px 2px rgba(0, 0, 0, 0.3));\n",
              "      fill: #FFFFFF;\n",
              "    }\n",
              "  </style>\n",
              "\n",
              "      <script>\n",
              "        const buttonEl =\n",
              "          document.querySelector('#df-6a54ad62-fb1a-41e7-859b-3fdfdc21194d button.colab-df-convert');\n",
              "        buttonEl.style.display =\n",
              "          google.colab.kernel.accessAllowed ? 'block' : 'none';\n",
              "\n",
              "        async function convertToInteractive(key) {\n",
              "          const element = document.querySelector('#df-6a54ad62-fb1a-41e7-859b-3fdfdc21194d');\n",
              "          const dataTable =\n",
              "            await google.colab.kernel.invokeFunction('convertToInteractive',\n",
              "                                                     [key], {});\n",
              "          if (!dataTable) return;\n",
              "\n",
              "          const docLinkHtml = 'Like what you see? Visit the ' +\n",
              "            '<a target=\"_blank\" href=https://colab.research.google.com/notebooks/data_table.ipynb>data table notebook</a>'\n",
              "            + ' to learn more about interactive tables.';\n",
              "          element.innerHTML = '';\n",
              "          dataTable['output_type'] = 'display_data';\n",
              "          await google.colab.output.renderOutput(dataTable, element);\n",
              "          const docLink = document.createElement('div');\n",
              "          docLink.innerHTML = docLinkHtml;\n",
              "          element.appendChild(docLink);\n",
              "        }\n",
              "      </script>\n",
              "    </div>\n",
              "  </div>\n",
              "  "
            ]
          },
          "metadata": {},
          "execution_count": 129
        }
      ]
    },
    {
      "cell_type": "code",
      "source": [
        "#graficar el mapa\n",
        "world.name.unique()"
      ],
      "metadata": {
        "colab": {
          "base_uri": "https://localhost:8080/",
          "height": 0
        },
        "id": "0qkBCMSUflw_",
        "outputId": "2621208e-4d2f-4898-adcd-ad1d22b16292"
      },
      "execution_count": 130,
      "outputs": [
        {
          "output_type": "execute_result",
          "data": {
            "text/plain": [
              "array(['Fiji', 'Tanzania', 'W. Sahara', 'Canada',\n",
              "       'United States of America', 'Kazakhstan', 'Uzbekistan',\n",
              "       'Papua New Guinea', 'Indonesia', 'Argentina', 'Chile',\n",
              "       'Dem. Rep. Congo', 'Somalia', 'Kenya', 'Sudan', 'Chad', 'Haiti',\n",
              "       'Dominican Rep.', 'Russia', 'Bahamas', 'Falkland Is.', 'Norway',\n",
              "       'Greenland', 'Fr. S. Antarctic Lands', 'Timor-Leste',\n",
              "       'South Africa', 'Lesotho', 'Mexico', 'Uruguay', 'Brazil',\n",
              "       'Bolivia', 'Peru', 'Colombia', 'Panama', 'Costa Rica', 'Nicaragua',\n",
              "       'Honduras', 'El Salvador', 'Guatemala', 'Belize', 'Venezuela',\n",
              "       'Guyana', 'Suriname', 'France', 'Ecuador', 'Puerto Rico',\n",
              "       'Jamaica', 'Cuba', 'Zimbabwe', 'Botswana', 'Namibia', 'Senegal',\n",
              "       'Mali', 'Mauritania', 'Benin', 'Niger', 'Nigeria', 'Cameroon',\n",
              "       'Togo', 'Ghana', \"Côte d'Ivoire\", 'Guinea', 'Guinea-Bissau',\n",
              "       'Liberia', 'Sierra Leone', 'Burkina Faso', 'Central African Rep.',\n",
              "       'Congo', 'Gabon', 'Eq. Guinea', 'Zambia', 'Malawi', 'Mozambique',\n",
              "       'eSwatini', 'Angola', 'Burundi', 'Israel', 'Lebanon', 'Madagascar',\n",
              "       'Palestine', 'Gambia', 'Tunisia', 'Algeria', 'Jordan',\n",
              "       'United Arab Emirates', 'Qatar', 'Kuwait', 'Iraq', 'Oman',\n",
              "       'Vanuatu', 'Cambodia', 'Thailand', 'Laos', 'Myanmar', 'Vietnam',\n",
              "       'North Korea', 'South Korea', 'Mongolia', 'India', 'Bangladesh',\n",
              "       'Bhutan', 'Nepal', 'Pakistan', 'Afghanistan', 'Tajikistan',\n",
              "       'Kyrgyzstan', 'Turkmenistan', 'Iran', 'Syria', 'Armenia', 'Sweden',\n",
              "       'Belarus', 'Ukraine', 'Poland', 'Austria', 'Hungary', 'Moldova',\n",
              "       'Romania', 'Lithuania', 'Latvia', 'Estonia', 'Germany', 'Bulgaria',\n",
              "       'Greece', 'Turkey', 'Albania', 'Croatia', 'Switzerland',\n",
              "       'Luxembourg', 'Belgium', 'Netherlands', 'Portugal', 'Spain',\n",
              "       'Ireland', 'New Caledonia', 'Solomon Is.', 'New Zealand',\n",
              "       'Australia', 'Sri Lanka', 'China', 'Taiwan', 'Italy', 'Denmark',\n",
              "       'United Kingdom', 'Iceland', 'Azerbaijan', 'Georgia',\n",
              "       'Philippines', 'Malaysia', 'Brunei', 'Slovenia', 'Finland',\n",
              "       'Slovakia', 'Czechia', 'Eritrea', 'Japan', 'Paraguay', 'Yemen',\n",
              "       'Saudi Arabia', 'Antarctica', 'N. Cyprus', 'Cyprus', 'Morocco',\n",
              "       'Egypt', 'Libya', 'Ethiopia', 'Djibouti', 'Somaliland', 'Uganda',\n",
              "       'Rwanda', 'Bosnia and Herz.', 'Macedonia', 'Serbia', 'Montenegro',\n",
              "       'Kosovo', 'Trinidad and Tobago', 'S. Sudan'], dtype=object)"
            ]
          },
          "metadata": {},
          "execution_count": 130
        }
      ]
    },
    {
      "cell_type": "code",
      "source": [
        "fig, gax = plt.subplots(figsize=(10,10))\n",
        "\n",
        "# By only plotting rows in which the continent is 'South America' we only plot SA.\n",
        "world.query(\"name == 'United States of America'\").plot(ax=gax, edgecolor='black',color='white')\n",
        "\n",
        "# By the way, if you haven't read the book 'longitude' by Dava Sobel, you should...\n",
        "gax.set_xlabel('longitude')\n",
        "gax.set_ylabel('latitude')\n",
        "\n",
        "gax.spines['top'].set_visible(False)\n",
        "gax.spines['right'].set_visible(False)"
      ],
      "metadata": {
        "colab": {
          "base_uri": "https://localhost:8080/",
          "height": 476
        },
        "id": "swDogh7dfusl",
        "outputId": "6f20b7c6-1659-412a-92b4-9c59ef222fa1"
      },
      "execution_count": 131,
      "outputs": [
        {
          "output_type": "display_data",
          "data": {
            "text/plain": [
              "<Figure size 720x720 with 1 Axes>"
            ],
            "image/png": "[encoded data removed]"
          },
          "metadata": {}
        }
      ]
    },
    {
      "cell_type": "code",
      "source": [
        "# Step 3: Plot the cities onto the map\n",
        "# We mostly use the code from before --- we still want the country borders plotted --- and we\n",
        "# add a command to plot the cities\n",
        "fig, gax = plt.subplots(figsize=(10,10))\n",
        "\n",
        "# By only plotting rows in which the continent is 'South America' we only plot, well,\n",
        "# South America.\n",
        "world.query(\"name == 'United States of America'\").plot(ax = gax, edgecolor='black', color='white')\n",
        "\n",
        "# This plot the cities. It's the same syntax, but we are plotting from a different GeoDataFrame.\n",
        "# I want the cities as pale red dots.\n",
        "gdf.plot(ax=gax, color='red', alpha = 0.5)\n",
        "\n",
        "gax.set_xlabel('longitude')\n",
        "gax.set_ylabel('latitude')\n",
        "gax.set_title('Target en Estados Unidos')\n",
        "\n",
        "gax.spines['top'].set_visible(False)\n",
        "gax.spines['right'].set_visible(False)\n",
        "\n",
        "plt.show()"
      ],
      "metadata": {
        "colab": {
          "base_uri": "https://localhost:8080/",
          "height": 381
        },
        "id": "OR0ydTOvf_Xp",
        "outputId": "f564c934-9a33-4490-a00f-33bade45f591"
      },
      "execution_count": 132,
      "outputs": [
        {
          "output_type": "display_data",
          "data": {
            "text/plain": [
              "<Figure size 720x720 with 1 Axes>"
            ],
            "image/png": "[encoded data removed]"
          },
          "metadata": {}
        }
      ]
    },
    {
      "cell_type": "markdown",
      "source": [
        "¿qué tal ahora?, tiene mayor sentido verdad, entonces los datos lejanos no eran atípicos, de aquí la importancia de ver los datos con el tipo de gráfica correcta.\n",
        "\n",
        "Ahora sí, implementa K means a los datos de latitud y longitud :) y encuentra donde colocar los almacenes. \n",
        "\n",
        "Nota: si te llama la atención implementar alguna otra visualización con otra librería, lo puedes hacer, no hay restricciones."
      ],
      "metadata": {
        "id": "SMkonhsqfgSf"
      }
    },
    {
      "cell_type": "code",
      "source": [
        "from sklearn.cluster import KMeans"
      ],
      "metadata": {
        "id": "EqVie9Wqk1fY"
      },
      "execution_count": 177,
      "outputs": []
    },
    {
      "cell_type": "code",
      "source": [
        "#tu codigo aquí\n",
        "k_max = 10 #Número de clusters"
      ],
      "metadata": {
        "id": "IfXq2ieSgD2e"
      },
      "execution_count": 186,
      "outputs": []
    },
    {
      "cell_type": "code",
      "source": [
        "kmeans_per_k = [KMeans(n_clusters=k).fit(latlong)\n",
        "                for k in range(1, k_max+1)]\n",
        "inertias = [model.inertia_ for model in kmeans_per_k]\n",
        "\n",
        "plt.figure(figsize=(8, 3.5))\n",
        "plt.plot(range(1, k_max+1), inertias, \"bo-\")\n",
        "plt.xlabel(\"$k$\")\n",
        "plt.ylabel(\"Inertia\")\n",
        "plt.annotate(\"\", xy=(3, inertias[3]), xytext=(3.45, 650),\n",
        "             arrowprops=dict(facecolor='black', shrink=0.1))\n",
        "plt.text(3.8, 650, \"Elbow\", horizontalalignment=\"center\")\n",
        "plt.axis([1, 10.5, 0, 600000])\n",
        "plt.grid()\n",
        "# save_fig(\"inertia_vs_k_plot\")\n",
        "plt.show()"
      ],
      "metadata": {
        "colab": {
          "base_uri": "https://localhost:8080/",
          "height": 276
        },
        "id": "BoHWKUuxl1pu",
        "outputId": "143466a5-e0d3-4531-f68b-fb08ed47872b"
      },
      "execution_count": 189,
      "outputs": [
        {
          "output_type": "display_data",
          "data": {
            "text/plain": [
              "<Figure size 576x252 with 1 Axes>"
            ],
            "image/png": "[encoded data removed]"
          },
          "metadata": {}
        }
      ]
    },
    {
      "cell_type": "code",
      "source": [
        "from sklearn.metrics import silhouette_score"
      ],
      "metadata": {
        "id": "YgXAvCW0oyrx"
      },
      "execution_count": 190,
      "outputs": []
    },
    {
      "cell_type": "code",
      "source": [
        "silhouette_scores = [silhouette_score(latlong, model.labels_)\n",
        "                     for model in kmeans_per_k[1:]]\n",
        "\n",
        "plt.figure(figsize=(8, 3))\n",
        "plt.plot(range(2, k_max+1), silhouette_scores, \"bo-\")\n",
        "plt.xlabel(\"$k$\")\n",
        "plt.ylabel(\"Silhouette score\")\n",
        "plt.axis([0.5, k_max+1, 0.0, 0.7])\n",
        "plt.grid()\n",
        "plt.show()"
      ],
      "metadata": {
        "colab": {
          "base_uri": "https://localhost:8080/",
          "height": 243
        },
        "id": "9XDmt3R0o4nC",
        "outputId": "4cf35930-3a47-46dc-908d-3cf4da68d264"
      },
      "execution_count": 191,
      "outputs": [
        {
          "output_type": "display_data",
          "data": {
            "text/plain": [
              "<Figure size 576x216 with 1 Axes>"
            ],
            "image/png": "[encoded data removed]"
          },
          "metadata": {}
        }
      ]
    },
    {
      "cell_type": "code",
      "source": [
        "target_kmeans = KMeans(n_clusters=5)\n",
        "y_pred = target_kmeans.fit_predict(latlong)"
      ],
      "metadata": {
        "id": "3WA5xJJvJ-qy"
      },
      "execution_count": 192,
      "outputs": []
    },
    {
      "cell_type": "code",
      "source": [
        "latlong.plot.scatter( \"longitude\",\"latitude\", c=y_pred, colormap='Set1');"
      ],
      "metadata": {
        "colab": {
          "base_uri": "https://localhost:8080/",
          "height": 264
        },
        "id": "NWEFaSSDI8DG",
        "outputId": "d878ebde-f52a-4496-b503-ec276d0121c8"
      },
      "execution_count": 193,
      "outputs": [
        {
          "output_type": "display_data",
          "data": {
            "text/plain": [
              "<Figure size 432x288 with 2 Axes>"
            ],
            "image/png": "[encoded data removed]"
          },
          "metadata": {}
        }
      ]
    },
    {
      "cell_type": "code",
      "source": [
        "# Step 3: Plot the cities onto the map\n",
        "# We mostly use the code from before --- we still want the country borders plotted --- and we\n",
        "# add a command to plot the cities\n",
        "fig, gax = plt.subplots(figsize=(10,10))\n",
        "\n",
        "# By only plotting rows in which the continent is 'South America' we only plot, well,\n",
        "# South America.\n",
        "world.query(\"name == 'United States of America'\").plot(ax = gax, edgecolor='black', color='white')\n",
        "\n",
        "# This plot the cities. It's the same syntax, but we are plotting from a different GeoDataFrame.\n",
        "# I want the cities as pale red dots.\n",
        "gdf.plot(ax=gax, column=y_pred, cmap='Set1')\n",
        "plt.scatter(target_kmeans.cluster_centers_[:,1], target_kmeans.cluster_centers_[:,0], marker='x', s=150)\n",
        "gax.set_xlabel('longitude')\n",
        "gax.set_ylabel('latitude')\n",
        "gax.set_title('Target en Estados Unidos')\n",
        "\n",
        "gax.spines['top'].set_visible(False)\n",
        "gax.spines['right'].set_visible(False)\n",
        "\n",
        "plt.show()"
      ],
      "metadata": {
        "colab": {
          "base_uri": "https://localhost:8080/",
          "height": 381
        },
        "id": "HQLyEBCMJFUd",
        "outputId": "8018f5dd-c788-4a99-be2c-41722ee82967"
      },
      "execution_count": 194,
      "outputs": [
        {
          "output_type": "display_data",
          "data": {
            "text/plain": [
              "<Figure size 720x720 with 1 Axes>"
            ],
            "image/png": "[encoded data removed]"
          },
          "metadata": {}
        }
      ]
    },
    {
      "cell_type": "code",
      "source": [
        "target_kmeans.cluster_centers_"
      ],
      "metadata": {
        "colab": {
          "base_uri": "https://localhost:8080/",
          "height": 0
        },
        "id": "q67OhjrJiq5P",
        "outputId": "caadcbf8-5616-463e-b8e2-32267924775f"
      },
      "execution_count": 195,
      "outputs": [
        {
          "output_type": "execute_result",
          "data": {
            "text/plain": [
              "array([[  31.08686259,  -82.91837107],\n",
              "       [  37.57977424, -119.17634307],\n",
              "       [  41.7454415 ,  -88.35163457],\n",
              "       [  40.34365502,  -75.58507975],\n",
              "       [  34.42035677,  -98.26633716]])"
            ]
          },
          "metadata": {},
          "execution_count": 195
        }
      ]
    },
    {
      "cell_type": "code",
      "source": [
        "a = pd.DataFrame(pd.Series(y_pred).value_counts())"
      ],
      "metadata": {
        "id": "MA-SebMQSxZV"
      },
      "execution_count": 226,
      "outputs": []
    },
    {
      "cell_type": "code",
      "source": [
        "a = a.sort_index()\n",
        "a.head()"
      ],
      "metadata": {
        "colab": {
          "base_uri": "https://localhost:8080/",
          "height": 206
        },
        "id": "OcYfXMTB2su8",
        "outputId": "3844be98-41c6-4157-db73-4a8fa51479a7"
      },
      "execution_count": 228,
      "outputs": [
        {
          "output_type": "execute_result",
          "data": {
            "text/plain": [
              "     0\n",
              "0  273\n",
              "1  368\n",
              "2  422\n",
              "3  480\n",
              "4  296"
            ],
            "text/html": [
              "\n",
              "  <div id=\"df-462b67e7-e050-4308-8f16-ba926c884616\">\n",
              "    <div class=\"colab-df-container\">\n",
              "      <div>\n",
              "<style scoped>\n",
              "    .dataframe tbody tr th:only-of-type {\n",
              "        vertical-align: middle;\n",
              "    }\n",
              "\n",
              "    .dataframe tbody tr th {\n",
              "        vertical-align: top;\n",
              "    }\n",
              "\n",
              "    .dataframe thead th {\n",
              "        text-align: right;\n",
              "    }\n",
              "</style>\n",
              "<table border=\"1\" class=\"dataframe\">\n",
              "  <thead>\n",
              "    <tr style=\"text-align: right;\">\n",
              "      <th></th>\n",
              "      <th>0</th>\n",
              "    </tr>\n",
              "  </thead>\n",
              "  <tbody>\n",
              "    <tr>\n",
              "      <th>0</th>\n",
              "      <td>273</td>\n",
              "    </tr>\n",
              "    <tr>\n",
              "      <th>1</th>\n",
              "      <td>368</td>\n",
              "    </tr>\n",
              "    <tr>\n",
              "      <th>2</th>\n",
              "      <td>422</td>\n",
              "    </tr>\n",
              "    <tr>\n",
              "      <th>3</th>\n",
              "      <td>480</td>\n",
              "    </tr>\n",
              "    <tr>\n",
              "      <th>4</th>\n",
              "      <td>296</td>\n",
              "    </tr>\n",
              "  </tbody>\n",
              "</table>\n",
              "</div>\n",
              "      <button class=\"colab-df-convert\" onclick=\"convertToInteractive('df-462b67e7-e050-4308-8f16-ba926c884616')\"\n",
              "              title=\"Convert this dataframe to an interactive table.\"\n",
              "              style=\"display:none;\">\n",
              "        \n",
              "  <svg xmlns=\"http://www.w3.org/2000/svg\" height=\"24px\"viewBox=\"0 0 24 24\"\n",
              "       width=\"24px\">\n",
              "    <path d=\"M0 0h24v24H0V0z\" fill=\"none\"/>\n",
              "    <path d=\"M18.56 5.44l.94 2.06.94-2.06 2.06-.94-2.06-.94-.94-2.06-.94 2.06-2.06.94zm-11 1L8.5 8.5l.94-2.06 2.06-.94-2.06-.94L8.5 2.5l-.94 2.06-2.06.94zm10 10l.94 2.06.94-2.06 2.06-.94-2.06-.94-.94-2.06-.94 2.06-2.06.94z\"/><path d=\"M17.41 7.96l-1.37-1.37c-.4-.4-.92-.59-1.43-.59-.52 0-1.04.2-1.43.59L10.3 9.45l-7.72 7.72c-.78.78-.78 2.05 0 2.83L4 21.41c.39.39.9.59 1.41.59.51 0 1.02-.2 1.41-.59l7.78-7.78 2.81-2.81c.8-.78.8-2.07 0-2.86zM5.41 20L4 18.59l7.72-7.72 1.47 1.35L5.41 20z\"/>\n",
              "  </svg>\n",
              "      </button>\n",
              "      \n",
              "  <style>\n",
              "    .colab-df-container {\n",
              "      display:flex;\n",
              "      flex-wrap:wrap;\n",
              "      gap: 12px;\n",
              "    }\n",
              "\n",
              "    .colab-df-convert {\n",
              "      background-color: #E8F0FE;\n",
              "      border: none;\n",
              "      border-radius: 50%;\n",
              "      cursor: pointer;\n",
              "      display: none;\n",
              "      fill: #1967D2;\n",
              "      height: 32px;\n",
              "      padding: 0 0 0 0;\n",
              "      width: 32px;\n",
              "    }\n",
              "\n",
              "    .colab-df-convert:hover {\n",
              "      background-color: #E2EBFA;\n",
              "      box-shadow: 0px 1px 2px rgba(60, 64, 67, 0.3), 0px 1px 3px 1px rgba(60, 64, 67, 0.15);\n",
              "      fill: #174EA6;\n",
              "    }\n",
              "\n",
              "    [theme=dark] .colab-df-convert {\n",
              "      background-color: #3B4455;\n",
              "      fill: #D2E3FC;\n",
              "    }\n",
              "\n",
              "    [theme=dark] .colab-df-convert:hover {\n",
              "      background-color: #434B5C;\n",
              "      box-shadow: 0px 1px 3px 1px rgba(0, 0, 0, 0.15);\n",
              "      filter: drop-shadow(0px 1px 2px rgba(0, 0, 0, 0.3));\n",
              "      fill: #FFFFFF;\n",
              "    }\n",
              "  </style>\n",
              "\n",
              "      <script>\n",
              "        const buttonEl =\n",
              "          document.querySelector('#df-462b67e7-e050-4308-8f16-ba926c884616 button.colab-df-convert');\n",
              "        buttonEl.style.display =\n",
              "          google.colab.kernel.accessAllowed ? 'block' : 'none';\n",
              "\n",
              "        async function convertToInteractive(key) {\n",
              "          const element = document.querySelector('#df-462b67e7-e050-4308-8f16-ba926c884616');\n",
              "          const dataTable =\n",
              "            await google.colab.kernel.invokeFunction('convertToInteractive',\n",
              "                                                     [key], {});\n",
              "          if (!dataTable) return;\n",
              "\n",
              "          const docLinkHtml = 'Like what you see? Visit the ' +\n",
              "            '<a target=\"_blank\" href=https://colab.research.google.com/notebooks/data_table.ipynb>data table notebook</a>'\n",
              "            + ' to learn more about interactive tables.';\n",
              "          element.innerHTML = '';\n",
              "          dataTable['output_type'] = 'display_data';\n",
              "          await google.colab.output.renderOutput(dataTable, element);\n",
              "          const docLink = document.createElement('div');\n",
              "          docLink.innerHTML = docLinkHtml;\n",
              "          element.appendChild(docLink);\n",
              "        }\n",
              "      </script>\n",
              "    </div>\n",
              "  </div>\n",
              "  "
            ]
          },
          "metadata": {},
          "execution_count": 228
        }
      ]
    },
    {
      "cell_type": "code",
      "source": [
        "df_clusters = latlong.copy()\n",
        "df_1 = pd.DataFrame(y_pred)"
      ],
      "metadata": {
        "id": "Hy7h9VPNX1R8"
      },
      "execution_count": 197,
      "outputs": []
    },
    {
      "cell_type": "code",
      "source": [
        "df_c = df_clusters.assign(clusters=pd.Series(y_pred))"
      ],
      "metadata": {
        "id": "YlFvOURyda5D"
      },
      "execution_count": 198,
      "outputs": []
    },
    {
      "cell_type": "markdown",
      "source": [
        "* Encuentra las latitudes y longitudes de los almacenes, ¿qué ciudad es?, ¿a cuantas tiendas va surtir?, ¿sabes a que distancia estará?"
      ],
      "metadata": {
        "id": "x8zdIqeezk36"
      }
    },
    {
      "cell_type": "markdown",
      "source": [
        "Ubicación de los almacenes, ciudades y tiendas atendidas por almacén."
      ],
      "metadata": {
        "id": "F5xl0rAk1Xc7"
      }
    },
    {
      "cell_type": "code",
      "source": [
        "ciudades = ['Georgia', 'California', 'Aurora, Illinois', 'Pennsylvania', 'Walters, Oklahoma']\n",
        "for i in range(len(ciudades)):\n",
        "  print(f'Almacén: {ciudades[i]}, Ubicación: {target_kmeans.cluster_centers_[i]}, Tiendas atendidas: {a[0][i]}')"
      ],
      "metadata": {
        "colab": {
          "base_uri": "https://localhost:8080/",
          "height": 0
        },
        "id": "MFO9J59fz-oA",
        "outputId": "3c40d586-3d7b-465f-d007-229a5171d1b0"
      },
      "execution_count": 233,
      "outputs": [
        {
          "output_type": "stream",
          "name": "stdout",
          "text": [
            "Almacén: Georgia, Ubicación: [ 31.08686259 -82.91837107], Tiendas atendidas: 273\n",
            "Almacén: California, Ubicación: [  37.57977424 -119.17634307], Tiendas atendidas: 368\n",
            "Almacén: Aurora, Illinois, Ubicación: [ 41.7454415  -88.35163457], Tiendas atendidas: 422\n",
            "Almacén: Pennsylvania, Ubicación: [ 40.34365502 -75.58507975], Tiendas atendidas: 480\n",
            "Almacén: Walters, Oklahoma, Ubicación: [ 34.42035677 -98.26633716], Tiendas atendidas: 296\n"
          ]
        }
      ]
    },
    {
      "cell_type": "markdown",
      "source": [
        "* ¿Cómo elegiste el número de almacenes?, justifica tu respuesta técnicamente.\n",
        "\n",
        "Elegí el número de almacenes basándome en la gráfica de silhouette scores y en la gráfica de inercia. En la gráfica de inercia se observa que el codo se forma en 3 clusters, sin embargo, en la gráfica de silhouette scores se oberva que el número más apropiado de clusters está entre 5 y 9. Para tomar la decisión me apoyé en la gráfica de las ubicaciones de las tiendas, pero separadas por colores por cluster. Con base en lo anterior, seleccioné el número de 5 clusters para que cada almacén atendiera una buena cantidad de tiendas. A partir de k=6, algunos clusters agrupaban muy pocas tiendas, esto también fue un factor importante para seleccionar 5 almacenes(clusters)."
      ],
      "metadata": {
        "id": "RUaYu_nj4GF8"
      }
    },
    {
      "cell_type": "markdown",
      "source": [
        "Adicionalmente, en el notebook notaras que al inicio exploramos los datos y los graficamos de manera simple, después nos auxiliamos de una librería de datos geográficos."
      ],
      "metadata": {
        "id": "DGjhCvZ66cZ7"
      }
    },
    {
      "cell_type": "markdown",
      "source": [
        "* ¿Qué librerías nos pueden ayudar a graficar este tipo de datos?\n",
        "\n",
        "Para trabajar con datos geo espaciales se puede utilizar la librería geopandas que es una extensión de la librería pandas. Adicionalmente, esta librería se apoya en matplotlib para graficar los datos. De igual manera se utiliza shapely para la manipulación de objetos geométricos en el plano.\n",
        "\n",
        "Folium es otra librería muy útil para la visualización geoespacial en python, plotly y Kepler son otras opciones, y dependerá de los requerimientos del proyecto seleccionar la librería adecuada. Existe varias opciones para ayudar con la visualización de datos geoespaciales.\n"
      ],
      "metadata": {
        "id": "mRGV_kbz6eC8"
      }
    },
    {
      "cell_type": "markdown",
      "source": [
        "* ¿Consideras importante que se grafique en un mapa?, ¿por qué?  \n",
        "\n",
        "Sí, es muy importante graficar los datos en un mapa porque ayuda a comprender mejor los resultados. En mi caso me ayudó a reducir el tiempo de comprensión de los resultados obtenidos después de aplicar el modelo de k-means. Otra ventaja de graficar los resultados, es que se puede utilizar para comunicar con mayor facilidad los resultados a otras personas que no están familizarizadas con los aspectos técnicos de los modelos de machine learning. "
      ],
      "metadata": {
        "id": "IoaQ-_8L8QQT"
      }
    },
    {
      "cell_type": "markdown",
      "source": [
        "Conclusiones  \n",
        "\n",
        "El método de agrupamiento k-means es muy fácil de implementar utilizando sci-kit learn, y es un método que no requiere de mucho tiempo para arrojar resultados, por lo tanto, resulta muy adecuado para obtener una primera aproximación en un problema de aprendizaje no supervisado. Observé que es importante la visualización en los problemas geo espaciales, ya que, existen condiciones geográficas que afectan indirectamente en los resultados obtenidos por la agrupación, por ejemplo, las tiendas ubicadas en Hawaii y Alaska se encuentran bastante alejadas de los demás puntos pertenecientes a ese cluster. Este tipo de detalles son importantes y solo pueden ser detectados si se utiliza alguna herramienta de visualización para comprender mejor los datos y los resultados obtenidos del modelo aplicado."
      ],
      "metadata": {
        "id": "c_eE-2ag9Em0"
      }
    }
  ]
}