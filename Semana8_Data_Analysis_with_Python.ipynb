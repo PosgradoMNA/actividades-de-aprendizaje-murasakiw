{
  "nbformat": 4,
  "nbformat_minor": 0,
  "metadata": {
    "colab": {
      "provenance": [],
      "collapsed_sections": [],
      "authorship_tag": "ABX9TyPZjrHV5X15b3JjzdJB3WHy",
      "include_colab_link": true
    },
    "kernelspec": {
      "name": "python3",
      "display_name": "Python 3"
    },
    "language_info": {
      "name": "python"
    }
  },
  "cells": [
    {
      "cell_type": "markdown",
      "metadata": {
        "id": "view-in-github",
        "colab_type": "text"
      },
      "source": [
        "<a href=\"https://colab.research.google.com/github/PosgradoMNA/actividades-de-aprendizaje-murasakiw/blob/main/Semana8_Data_Analysis_with_Python.ipynb\" target=\"_parent\"><img src=\"https://colab.research.google.com/assets/colab-badge.svg\" alt=\"Open In Colab\"/></a>"
      ]
    },
    {
      "cell_type": "markdown",
      "source": [
        "Ciencia y Analítica de Datos \n",
        "___ \n",
        "Semana 9: Data Analysis with Python (IBM)   \n",
        "Nombre: Sergio Omar Esparza Hernández  \n",
        " Matrícula: A01794338\n",
        "\n"
      ],
      "metadata": {
        "id": "R6pN3jnjhdxX"
      }
    },
    {
      "cell_type": "markdown",
      "source": [
        "#Módulo 5 - Model Evaluation"
      ],
      "metadata": {
        "id": "XxVunt7J934o"
      }
    },
    {
      "cell_type": "markdown",
      "source": [
        "##Model Evaluation"
      ],
      "metadata": {
        "id": "d31b-IAM99Ji"
      }
    },
    {
      "cell_type": "code",
      "execution_count": 2,
      "metadata": {
        "id": "yZsvrHTKhJ_f"
      },
      "outputs": [],
      "source": [
        "import numpy as np\n",
        "import pandas as pd\n",
        "from sklearn.model_selection import train_test_split"
      ]
    },
    {
      "cell_type": "code",
      "source": [
        "url = 'https://archive.ics.uci.edu/ml/machine-learning-databases/autos/imports-85.data'\n",
        "\n",
        "df = pd.read_csv(url, header =  None)\n",
        "headers = ['symboling', 'normalized_losses', 'make', 'fuel_type', 'aspiration', \n",
        "           'num_of_doors', 'body_style', 'drive_wheels', 'engine_location',\n",
        "           'wheel_base', 'length', 'width', 'height', 'curb_weight', \n",
        "           'engine_type', 'num_of_cylinders', 'engine_size', 'fuel_system', \n",
        "           'bore', 'stroke', 'compression_ratio', 'horsepower', 'peak_rpm',\n",
        "           'city_mpg', 'highway_mpg', 'price']\n",
        "df.columns = headers\n",
        "df.replace('?', np.nan, inplace=True)"
      ],
      "metadata": {
        "id": "PKDnlm-0ABmL"
      },
      "execution_count": 4,
      "outputs": []
    },
    {
      "cell_type": "markdown",
      "source": [
        "La evaluación de un modelo proporciona información sobre cómo se comporta el modelo en un caso real. Se utiliza una muestra de los datos para evaluar el desempeño con datos completamente nuevos para el modelo.\n",
        "Antes de comenzar el análisis se divide al conjunto de datos para obtener conjuntos de datos utilizados para entrenar al modelo y para posteriormente evaluar su desempeño con un conjunto de datos completamente nuevo para el modelo.\n",
        "\n",
        "\n",
        "\n",
        "*   Se divide el conjunto de datos en conjuntos de entrenamiento y prueba.\n",
        "*   Se construye y entrena el modelo con el conjunto de entrenamiento.\n",
        "*   Utilizar el conjunto de prueba para evaluar el desempeño del modelo predictivo.  \n",
        "\n"
      ],
      "metadata": {
        "id": "3_iteOw8-SVu"
      }
    },
    {
      "cell_type": "markdown",
      "source": [
        "La función train_test_split es utilizada para dividir el conjunto de datos."
      ],
      "metadata": {
        "id": "vUqtgAn3_kt4"
      }
    },
    {
      "cell_type": "code",
      "source": [
        "x_data = df.loc[:,:'highway_mpg']\n",
        "y_data = df[['price']]"
      ],
      "metadata": {
        "id": "NLgyvnUGAbMA"
      },
      "execution_count": 9,
      "outputs": []
    },
    {
      "cell_type": "code",
      "source": [
        "x_train, x_test, y_train, y_test = train_test_split(x_data, y_data, test_size=0.3, random_state=0)#Divide al conjunto de datos en dos conjuntos, entrenamiento y prueba."
      ],
      "metadata": {
        "id": "B3bEAaY2ALT6"
      },
      "execution_count": 10,
      "outputs": []
    },
    {
      "cell_type": "code",
      "source": [
        "print(x_train.shape, x_test.shape, y_train.shape, y_test.shape)#Código para verificar el tamaño de los conjuntos"
      ],
      "metadata": {
        "colab": {
          "base_uri": "https://localhost:8080/"
        },
        "id": "sgycWDXDA-ln",
        "outputId": "fc74ddd1-cbe0-4735-ee72-59c688fc7f16"
      },
      "execution_count": 11,
      "outputs": [
        {
          "output_type": "stream",
          "name": "stdout",
          "text": [
            "(143, 25) (62, 25) (143, 1) (62, 1)\n"
          ]
        }
      ]
    },
    {
      "cell_type": "markdown",
      "source": [
        "Se utiliza el procedimiento de validación cruzada para evitar problemas en la precisión y para disminuir el error generalizado del modelo.\n",
        "\n",
        "Se realiza un uso más efectivo de los datos (cada observación es utilizada tanto para entrenamiento como para prueba).\n",
        "\n",
        "En este método, el conjunto de datos es dividido k-veces en grupos de mismo tamaño, cada grupo es referido como un fold.\n",
        "\n",
        "El proceso se repite hasta que cada grupo fue utilizado tanto para entrenamiento como para prueba del modelo. Al final se utilizan los resultados promedio como estimador de los errores del modelo.\n",
        "\n",
        "La función cross_val_score se utiliza para aplicar el proceso de validación cruzada a un modelo."
      ],
      "metadata": {
        "id": "aAQPNppdD-7F"
      }
    },
    {
      "cell_type": "code",
      "source": [
        "from sklearn.model_selection import cross_val_score"
      ],
      "metadata": {
        "id": "Eg95mUqwFhG-"
      },
      "execution_count": 12,
      "outputs": []
    },
    {
      "cell_type": "code",
      "source": [
        "scores = cross_val_score(modelo, x_data, y_data, cv = 3) #cv representa el número de particiones\n",
        "#Esta función regresa un arreglo de scores uno para cada partición que fue elegida como conjunto de prueba"
      ],
      "metadata": {
        "id": "kYs8pwxQFo09"
      },
      "execution_count": null,
      "outputs": []
    },
    {
      "cell_type": "markdown",
      "source": [
        "La función cross_val_predict tiene un desempeño similar, pero regresa el valor que fue obtenido para cada elemento cuando estaba en el conjunto de prueba."
      ],
      "metadata": {
        "id": "EmSsIh6LGl_f"
      }
    },
    {
      "cell_type": "code",
      "source": [
        "from sklearn.model_selection import cross_val_predict"
      ],
      "metadata": {
        "id": "BE2_bXmaGkwC"
      },
      "execution_count": null,
      "outputs": []
    },
    {
      "cell_type": "code",
      "source": [
        "yhat = cross_val_predict(modelo, x_data, y_data, cv=3) #Las predicciones son almacenadas en el array"
      ],
      "metadata": {
        "id": "WG9Y1n_DHDfu"
      },
      "execution_count": null,
      "outputs": []
    }
  ]
}