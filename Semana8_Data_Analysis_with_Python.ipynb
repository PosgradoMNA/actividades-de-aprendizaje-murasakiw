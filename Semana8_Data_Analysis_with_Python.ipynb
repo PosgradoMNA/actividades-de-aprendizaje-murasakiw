{
  "nbformat": 4,
  "nbformat_minor": 0,
  "metadata": {
    "colab": {
      "provenance": [],
      "collapsed_sections": [],
      "authorship_tag": "ABX9TyO0gM1RamKIJKmKBFm+PQKl",
      "include_colab_link": true
    },
    "kernelspec": {
      "name": "python3",
      "display_name": "Python 3"
    },
    "language_info": {
      "name": "python"
    }
  },
  "cells": [
    {
      "cell_type": "markdown",
      "metadata": {
        "id": "view-in-github",
        "colab_type": "text"
      },
      "source": [
        "<a href=\"https://colab.research.google.com/github/PosgradoMNA/actividades-de-aprendizaje-murasakiw/blob/main/Semana8_Data_Analysis_with_Python.ipynb\" target=\"_parent\"><img src=\"https://colab.research.google.com/assets/colab-badge.svg\" alt=\"Open In Colab\"/></a>"
      ]
    },
    {
      "cell_type": "markdown",
      "source": [
        "Ciencia y Analítica de Datos \n",
        "___ \n",
        "Semana 8: Data Analysis with Python (IBM)   \n",
        "Nombre: Sergio Omar Esparza Hernández  \n",
        "Matrícula: A01794338\n",
        "\n"
      ],
      "metadata": {
        "id": "R6pN3jnjhdxX"
      }
    },
    {
      "cell_type": "markdown",
      "source": [
        "#Módulo 5 - Model Evaluation"
      ],
      "metadata": {
        "id": "XxVunt7J934o"
      }
    },
    {
      "cell_type": "markdown",
      "source": [
        "##Model Evaluation"
      ],
      "metadata": {
        "id": "d31b-IAM99Ji"
      }
    },
    {
      "cell_type": "code",
      "execution_count": 27,
      "metadata": {
        "id": "yZsvrHTKhJ_f"
      },
      "outputs": [],
      "source": [
        "import numpy as np\n",
        "import pandas as pd\n",
        "from sklearn.model_selection import train_test_split"
      ]
    },
    {
      "cell_type": "code",
      "source": [
        "url = 'https://archive.ics.uci.edu/ml/machine-learning-databases/autos/imports-85.data'\n",
        "\n",
        "df = pd.read_csv(url, header =  None)\n",
        "headers = ['symboling', 'normalized_losses', 'make', 'fuel_type', 'aspiration', \n",
        "           'num_of_doors', 'body_style', 'drive_wheels', 'engine_location',\n",
        "           'wheel_base', 'length', 'width', 'height', 'curb_weight', \n",
        "           'engine_type', 'num_of_cylinders', 'engine_size', 'fuel_system', \n",
        "           'bore', 'stroke', 'compression_ratio', 'horsepower', 'peak_rpm',\n",
        "           'city_mpg', 'highway_mpg', 'price']\n",
        "df.columns = headers\n",
        "df.replace('?', np.nan, inplace=True)"
      ],
      "metadata": {
        "id": "PKDnlm-0ABmL"
      },
      "execution_count": 28,
      "outputs": []
    },
    {
      "cell_type": "markdown",
      "source": [
        "La evaluación de un modelo proporciona información sobre cómo se comporta el modelo en un caso real. Se utiliza una muestra de los datos para evaluar el desempeño con datos completamente nuevos para el modelo.\n",
        "Antes de comenzar el análisis se divide al conjunto de datos para obtener conjuntos de datos utilizados para entrenar al modelo y para posteriormente evaluar su desempeño con un conjunto de datos completamente nuevo para el modelo.\n",
        "\n",
        "\n",
        "\n",
        "*   Se divide el conjunto de datos en conjuntos de entrenamiento y prueba.\n",
        "*   Se construye y entrena el modelo con el conjunto de entrenamiento.\n",
        "*   Utilizar el conjunto de prueba para evaluar el desempeño del modelo predictivo.  \n",
        "\n"
      ],
      "metadata": {
        "id": "3_iteOw8-SVu"
      }
    },
    {
      "cell_type": "markdown",
      "source": [
        "La función train_test_split es utilizada para dividir el conjunto de datos."
      ],
      "metadata": {
        "id": "vUqtgAn3_kt4"
      }
    },
    {
      "cell_type": "code",
      "source": [
        "df['price'] = pd.to_numeric(df['price'])\n",
        "media = np.mean(df.price)\n",
        "df['price'] = df['price'].replace(np.nan, media)"
      ],
      "metadata": {
        "id": "JNGdHDr94yfC"
      },
      "execution_count": 29,
      "outputs": []
    },
    {
      "cell_type": "code",
      "source": [
        "df['horsepower'] = pd.to_numeric(df['horsepower'])\n",
        "media = np.mean(df.horsepower)\n",
        "df['horsepower'] = df['horsepower'].replace(np.nan, media)"
      ],
      "metadata": {
        "id": "gRBQwHqF5lvS"
      },
      "execution_count": 30,
      "outputs": []
    },
    {
      "cell_type": "code",
      "source": [
        "df['highway_mpg'] = pd.to_numeric(df['highway_mpg'])\n",
        "media = np.mean(df.highway_mpg)\n",
        "df['highway_mpg'] = df['highway_mpg'].replace(np.nan, media)"
      ],
      "metadata": {
        "id": "tL7DJyA651A3"
      },
      "execution_count": 31,
      "outputs": []
    },
    {
      "cell_type": "code",
      "source": [
        "x_data = df[['horsepower']]\n",
        "y_data = df[['price']]"
      ],
      "metadata": {
        "id": "NLgyvnUGAbMA"
      },
      "execution_count": 38,
      "outputs": []
    },
    {
      "cell_type": "code",
      "source": [
        "x_train, x_test, y_train, y_test = train_test_split(x_data, y_data, test_size=0.3, random_state=0)#Divide al conjunto de datos en dos conjuntos, entrenamiento y prueba."
      ],
      "metadata": {
        "id": "B3bEAaY2ALT6"
      },
      "execution_count": 39,
      "outputs": []
    },
    {
      "cell_type": "code",
      "source": [
        "print(x_train.shape, x_test.shape, y_train.shape, y_test.shape)#Código para verificar el tamaño de los conjuntos"
      ],
      "metadata": {
        "colab": {
          "base_uri": "https://localhost:8080/"
        },
        "id": "sgycWDXDA-ln",
        "outputId": "1b05af07-7703-4087-a006-cf8a95ff6acd"
      },
      "execution_count": 40,
      "outputs": [
        {
          "output_type": "stream",
          "name": "stdout",
          "text": [
            "(143, 1) (62, 1) (143, 1) (62, 1)\n"
          ]
        }
      ]
    },
    {
      "cell_type": "markdown",
      "source": [
        "Se utiliza el procedimiento de validación cruzada para evitar problemas en la precisión y para disminuir el error generalizado del modelo.\n",
        "\n",
        "Se realiza un uso más efectivo de los datos (cada observación es utilizada tanto para entrenamiento como para prueba).\n",
        "\n",
        "En este método, el conjunto de datos es dividido k-veces en grupos de mismo tamaño, cada grupo es referido como un fold.\n",
        "\n",
        "El proceso se repite hasta que cada grupo fue utilizado tanto para entrenamiento como para prueba del modelo. Al final se utilizan los resultados promedio como estimador de los errores del modelo.\n",
        "\n",
        "La función cross_val_score se utiliza para aplicar el proceso de validación cruzada a un modelo."
      ],
      "metadata": {
        "id": "aAQPNppdD-7F"
      }
    },
    {
      "cell_type": "code",
      "source": [
        "from sklearn.model_selection import cross_val_score\n",
        "from sklearn.linear_model import LinearRegression"
      ],
      "metadata": {
        "id": "Eg95mUqwFhG-"
      },
      "execution_count": 41,
      "outputs": []
    },
    {
      "cell_type": "code",
      "source": [
        "modelo = LinearRegression()\n",
        "scores = cross_val_score(modelo, x_data, y_data, cv = 3) #cv representa el número de particiones\n",
        "#Esta función regresa un arreglo de scores uno para cada partición que fue elegida como conjunto de prueba"
      ],
      "metadata": {
        "id": "kYs8pwxQFo09"
      },
      "execution_count": 42,
      "outputs": []
    },
    {
      "cell_type": "code",
      "source": [
        "scores"
      ],
      "metadata": {
        "colab": {
          "base_uri": "https://localhost:8080/"
        },
        "id": "GmcvpeJi6htu",
        "outputId": "dfa86896-ad31-446c-afa1-a4950f9a02b3"
      },
      "execution_count": 43,
      "outputs": [
        {
          "output_type": "execute_result",
          "data": {
            "text/plain": [
              "array([0.63693442, 0.44250032, 0.39185069])"
            ]
          },
          "metadata": {},
          "execution_count": 43
        }
      ]
    },
    {
      "cell_type": "markdown",
      "source": [
        "La función cross_val_predict tiene un desempeño similar, pero regresa el valor que fue obtenido para cada elemento cuando estaba en el conjunto de prueba."
      ],
      "metadata": {
        "id": "EmSsIh6LGl_f"
      }
    },
    {
      "cell_type": "code",
      "source": [
        "from sklearn.model_selection import cross_val_predict"
      ],
      "metadata": {
        "id": "BE2_bXmaGkwC"
      },
      "execution_count": 44,
      "outputs": []
    },
    {
      "cell_type": "code",
      "source": [
        "yhat = cross_val_predict(modelo, x_data, y_data, cv=3) #Las predicciones son almacenadas en el array"
      ],
      "metadata": {
        "id": "WG9Y1n_DHDfu"
      },
      "execution_count": 45,
      "outputs": []
    },
    {
      "cell_type": "code",
      "source": [
        "yhat #Valores de las predicciones usando validación cruzada"
      ],
      "metadata": {
        "colab": {
          "base_uri": "https://localhost:8080/"
        },
        "id": "Z6iU5l5M6tY8",
        "outputId": "046206a3-81de-4c3f-dccf-edf01798e235"
      },
      "execution_count": 48,
      "outputs": [
        {
          "output_type": "execute_result",
          "data": {
            "text/plain": [
              "array([[13560.17858685],\n",
              "       [13560.17858685],\n",
              "       [19237.97893214],\n",
              "       [12371.8017704 ],\n",
              "       [14088.34606083],\n",
              "       [13428.13671836],\n",
              "       [13428.13671836],\n",
              "       [13428.13671836],\n",
              "       [17389.39277321],\n",
              "       [20030.23014311],\n",
              "       [12239.7599019 ],\n",
              "       [12239.7599019 ],\n",
              "       [14880.5972718 ],\n",
              "       [14880.5972718 ],\n",
              "       [14880.5972718 ],\n",
              "       [22935.15125   ],\n",
              "       [22935.15125   ],\n",
              "       [22935.15125   ],\n",
              "       [ 5241.54087167],\n",
              "       [ 8146.46197856],\n",
              "       [ 8146.46197856],\n",
              "       [ 7882.37824157],\n",
              "       [ 7882.37824157],\n",
              "       [12371.8017704 ],\n",
              "       [ 7882.37824157],\n",
              "       [ 7882.37824157],\n",
              "       [ 7882.37824157],\n",
              "       [12371.8017704 ],\n",
              "       [10523.21561147],\n",
              "       [18049.60211568],\n",
              "       [ 6561.95955662],\n",
              "       [ 8938.71318953],\n",
              "       [ 6826.04329361],\n",
              "       [ 8938.71318953],\n",
              "       [ 8938.71318953],\n",
              "       [ 8938.71318953],\n",
              "       [ 8938.71318953],\n",
              "       [10259.13187448],\n",
              "       [10259.13187448],\n",
              "       [10259.13187448],\n",
              "       [10259.13187448],\n",
              "       [12239.7599019 ],\n",
              "       [12107.71803341],\n",
              "       [ 9202.79692652],\n",
              "       [ 8146.46197856],\n",
              "       [ 8146.46197856],\n",
              "       [10787.29934846],\n",
              "       [22142.90003903],\n",
              "       [22142.90003903],\n",
              "       [33498.50072959],\n",
              "       [ 7882.37824157],\n",
              "       [ 7882.37824157],\n",
              "       [ 7882.37824157],\n",
              "       [ 7882.37824157],\n",
              "       [ 7882.37824157],\n",
              "       [12239.7599019 ],\n",
              "       [12239.7599019 ],\n",
              "       [12239.7599019 ],\n",
              "       [16729.18343073],\n",
              "       [ 9995.04813749],\n",
              "       [ 9995.04813749],\n",
              "       [ 9995.04813749],\n",
              "       [ 9995.04813749],\n",
              "       [ 7354.21076759],\n",
              "       [ 9995.04813749],\n",
              "       [14748.55540331],\n",
              "       [ 8410.54571555],\n",
              "       [15144.68100879],\n",
              "       [15144.68100879],\n",
              "       [16480.66352403],\n",
              "       [16480.66352403],\n",
              "       [21715.47395833],\n",
              "       [21715.47395833],\n",
              "       [26459.52091441],\n",
              "       [26459.52091441],\n",
              "       [24987.23047976],\n",
              "       [ 7483.33309008],\n",
              "       [ 7483.33309008],\n",
              "       [ 7483.33309008],\n",
              "       [13045.31917652],\n",
              "       [15335.54874153],\n",
              "       [10755.08961151],\n",
              "       [20079.59569761],\n",
              "       [20079.59569761],\n",
              "       [20079.59569761],\n",
              "       [10755.08961151],\n",
              "       [10755.08961151],\n",
              "       [15335.54874153],\n",
              "       [15335.54874153],\n",
              "       [ 7646.92091615],\n",
              "       [ 5356.69135114],\n",
              "       [ 7646.92091615],\n",
              "       [ 7646.92091615],\n",
              "       [ 7646.92091615],\n",
              "       [ 7646.92091615],\n",
              "       [ 7646.92091615],\n",
              "       [ 7646.92091615],\n",
              "       [ 7646.92091615],\n",
              "       [ 7646.92091615],\n",
              "       [12227.38004616],\n",
              "       [12227.38004616],\n",
              "       [21224.71048011],\n",
              "       [21224.71048011],\n",
              "       [21224.71048011],\n",
              "       [22533.41308869],\n",
              "       [29076.92613156],\n",
              "       [22533.41308869],\n",
              "       [12227.38004616],\n",
              "       [11900.20439402],\n",
              "       [12227.38004616],\n",
              "       [11900.20439402],\n",
              "       [11900.20439402],\n",
              "       [11900.20439402],\n",
              "       [11900.20439402],\n",
              "       [11900.20439402],\n",
              "       [12227.38004616],\n",
              "       [11900.20439402],\n",
              "       [19588.83221939],\n",
              "       [ 7483.33309008],\n",
              "       [13045.31917652],\n",
              "       [ 7483.33309008],\n",
              "       [ 7483.33309008],\n",
              "       [ 7483.33309008],\n",
              "       [10755.08961151],\n",
              "       [20079.59569761],\n",
              "       [19752.42004547],\n",
              "       [30222.04091406],\n",
              "       [30222.04091406],\n",
              "       [30222.04091406],\n",
              "       [43472.65482588],\n",
              "       [13414.39909938],\n",
              "       [13414.39909938],\n",
              "       [14354.02178509],\n",
              "       [14354.02178509],\n",
              "       [14354.02178509],\n",
              "       [14354.02178509],\n",
              "       [22533.41308869],\n",
              "       [22466.65944221],\n",
              "       [ 7999.5675356 ],\n",
              "       [ 8635.48366337],\n",
              "       [ 8635.48366337],\n",
              "       [10066.29495083],\n",
              "       [10066.29495083],\n",
              "       [11974.04333412],\n",
              "       [10066.29495083],\n",
              "       [14676.68687711],\n",
              "       [10066.29495083],\n",
              "       [11974.04333412],\n",
              "       [10066.29495083],\n",
              "       [14676.68687711],\n",
              "       [ 6886.71431202],\n",
              "       [ 6886.71431202],\n",
              "       [ 6886.71431202],\n",
              "       [ 6886.71431202],\n",
              "       [ 6886.71431202],\n",
              "       [ 6886.71431202],\n",
              "       [ 8158.54656755],\n",
              "       [ 8158.54656755],\n",
              "       [ 5932.84012038],\n",
              "       [ 5932.84012038],\n",
              "       [ 8158.54656755],\n",
              "       [ 8158.54656755],\n",
              "       [ 8158.54656755],\n",
              "       [ 8158.54656755],\n",
              "       [ 8158.54656755],\n",
              "       [14835.66590905],\n",
              "       [14835.66590905],\n",
              "       [15471.58203682],\n",
              "       [15471.58203682],\n",
              "       [15471.58203682],\n",
              "       [15471.58203682],\n",
              "       [15471.58203682],\n",
              "       [15471.58203682],\n",
              "       [11656.08527024],\n",
              "       [ 8635.48366337],\n",
              "       [11656.08527024],\n",
              "       [11656.08527024],\n",
              "       [11656.08527024],\n",
              "       [22625.63847415],\n",
              "       [22625.63847415],\n",
              "       [21830.74331444],\n",
              "       [21830.74331444],\n",
              "       [ 5296.92399261],\n",
              "       [10543.23204666],\n",
              "       [ 5296.92399261],\n",
              "       [10543.23204666],\n",
              "       [10543.23204666],\n",
              "       [ 7840.58850366],\n",
              "       [12927.91752577],\n",
              "       [11338.12720636],\n",
              "       [11338.12720636],\n",
              "       [14517.70784517],\n",
              "       [ 7840.58850366],\n",
              "       [11020.16914248],\n",
              "       [15153.62397294],\n",
              "       [15153.62397294],\n",
              "       [15153.62397294],\n",
              "       [15153.62397294],\n",
              "       [22784.61750609],\n",
              "       [22784.61750609],\n",
              "       [15153.62397294],\n",
              "       [22466.65944221],\n",
              "       [18333.20461175],\n",
              "       [13881.79171741],\n",
              "       [15153.62397294]])"
            ]
          },
          "metadata": {},
          "execution_count": 48
        }
      ]
    },
    {
      "cell_type": "markdown",
      "source": [
        "##Over-fitting, Under-fitting and Model Selection"
      ],
      "metadata": {
        "id": "VIwZKqRz0Qpf"
      }
    },
    {
      "cell_type": "markdown",
      "source": [
        "El objetivo de la selección del modelo es determinar el modelo que mejor se ajuste a los datos, por ejemplo, el orden de la función polinomial.  \n",
        "El concepto de under-fitting se refiere a cuando el modelo es demasiado simple para describir el comportamiento de los datos.  \n",
        "El concepto de over-fitting es cuando el modelo es muy flexible y se ajusta al ruido en lugar de a la función.  \n",
        "El mejor modelo se puede obtener al graficar la complejidad del modelo vs alguna métrica del modelo. Para obtener el mejor modelo se obtienen las graficas de desempeño de los datos de entrenamiento y de prueba. Se selecciona el modelo que minimiza los errores en los datos de prueba."
      ],
      "metadata": {
        "id": "gkxUNotn0dh0"
      }
    },
    {
      "cell_type": "code",
      "source": [
        "from sklearn.preprocessing import PolynomialFeatures"
      ],
      "metadata": {
        "id": "6C34qd4E9S40"
      },
      "execution_count": 49,
      "outputs": []
    },
    {
      "cell_type": "code",
      "source": [
        "rsqu_test = []\n",
        "order = [1, 2, 3, 4] #Lista con el orden de los diferentes polinomios\n",
        "for n in order:\n",
        "  pr = PolynomialFeatures(degree=n) #Se define la función de preprocesamiento para transformar los datos\n",
        "  x_train_pr = pr.fit_transform(x_train[['horsepower']]) #Se transforman los datos de entrada del conjunto de entrenamiento\n",
        "  x_test_pr = pr.fit_transform(x_test[['horsepower']]) #Se transforman los datos de entrada del conjunto de prueba\n",
        "  modelo.fit(x_train_pr, y_train) #Se entrena el modelo\n",
        "  rsqu_test.append(modelo.score(x_test_pr, y_test)) #Se obtiene el valor de las métricas de error utilizando los conjuntos de prueba"
      ],
      "metadata": {
        "id": "VcKaDT7-0WI4"
      },
      "execution_count": 50,
      "outputs": []
    },
    {
      "cell_type": "code",
      "source": [
        "rsqu_test"
      ],
      "metadata": {
        "colab": {
          "base_uri": "https://localhost:8080/"
        },
        "id": "reCep3v59iek",
        "outputId": "9485ae7b-2252-4a63-d2c0-0d850ba353c7"
      },
      "execution_count": 51,
      "outputs": [
        {
          "output_type": "execute_result",
          "data": {
            "text/plain": [
              "[0.3331272902078518,\n",
              " 0.3028209535830818,\n",
              " 0.4265094170803412,\n",
              " 0.5417486692589754]"
            ]
          },
          "metadata": {},
          "execution_count": 51
        }
      ]
    },
    {
      "cell_type": "markdown",
      "source": [
        "##Ridge Regression"
      ],
      "metadata": {
        "id": "_qVTfZQ9-aql"
      }
    },
    {
      "cell_type": "markdown",
      "source": [
        "Ridge Regression previene el sobre-entrenamiento. Controla la magnitud de los coeficientes que tienden a crecer demasiado al intrducir el parámetro alfa.  \n",
        "Alfa es un parámetro que se selecciona antes de entrenar el modelo.\n",
        "Si alfa es demasiado grande, entonces los coeficientes tenderán a cero y el polinomio estará sub-entrenado para los datos."
      ],
      "metadata": {
        "id": "rcufG6k2-d2w"
      }
    },
    {
      "cell_type": "markdown",
      "source": [
        "Para seleccionar alfa se utiliza la validación cruzada."
      ],
      "metadata": {
        "id": "e14wEFB2AIwZ"
      }
    },
    {
      "cell_type": "code",
      "source": [
        "from sklearn.linear_model import Ridge"
      ],
      "metadata": {
        "id": "cWrcDeiv9jgi"
      },
      "execution_count": 52,
      "outputs": []
    },
    {
      "cell_type": "code",
      "source": [
        "r_model = Ridge(alpha=0.01) #Definición del modelo Ridge con alfa\n",
        "pr = PolynomialFeatures(degree=8) #Se define la función de preprocesamiento para transformar los datos\n",
        "x_train_r = pr.fit_transform(x_train[['horsepower']]) \n",
        "x_test_r = pr.fit_transform(x_test[['horsepower']]) \n",
        "r_model.fit(x_train_r, y_train) \n",
        "yhat = r_model.predict(x_train_r)"
      ],
      "metadata": {
        "colab": {
          "base_uri": "https://localhost:8080/"
        },
        "id": "4kOz-vEiAzQD",
        "outputId": "bdb913ee-8bc9-4bc6-95d7-5d7a178ee0de"
      },
      "execution_count": 63,
      "outputs": [
        {
          "output_type": "stream",
          "name": "stderr",
          "text": [
            "/usr/local/lib/python3.7/dist-packages/sklearn/linear_model/_ridge.py:157: LinAlgWarning: Ill-conditioned matrix (rcond=1.89233e-41): result may not be accurate.\n",
            "  return linalg.solve(A, Xy, sym_pos=True, overwrite_a=True).T\n"
          ]
        }
      ]
    },
    {
      "cell_type": "markdown",
      "source": [
        "##Grid Search"
      ],
      "metadata": {
        "id": "8Tydw_A9Ff83"
      }
    },
    {
      "cell_type": "markdown",
      "source": [
        "Grid search permite probar con diferentes hiperparámetros para encontrar el mejor modelo. Grid search es un método para iterar a lo largo de estos hiperparámetros utilizando validación cruzada. Para cada combinación de hiperparámetros se calcula el error con la finalidad de comparar los modelos. Se selecciona el modelo que minimiza el error."
      ],
      "metadata": {
        "id": "BHrLSmOJHc1b"
      }
    },
    {
      "cell_type": "code",
      "source": [
        "from sklearn.model_selection import GridSearchCV"
      ],
      "metadata": {
        "id": "dnHWzGC9JDxy"
      },
      "execution_count": 65,
      "outputs": []
    },
    {
      "cell_type": "code",
      "source": [
        "parametros = [{'alpha':[0.001, 0.1, 1, 10, 100, 1000]}] #Parámetros para realizar la búsqueda de la mejor combinación con gridsearch\n",
        "rr = Ridge()\n",
        "grid_1 = GridSearchCV(rr, parametros, cv=4)\n",
        "grid_1.fit(df[['horsepower', 'curb_weight', 'engine_size', 'highway_mpg']], y_data)\n",
        "grid_1.best_estimator_ #Se obtiene el mejor valor utilizando el atributo"
      ],
      "metadata": {
        "colab": {
          "base_uri": "https://localhost:8080/"
        },
        "id": "qWsF9fCjFhtZ",
        "outputId": "f1966cde-5ba3-4efb-d486-166ff62b93c1"
      },
      "execution_count": 66,
      "outputs": [
        {
          "output_type": "execute_result",
          "data": {
            "text/plain": [
              "Ridge(alpha=1000)"
            ]
          },
          "metadata": {},
          "execution_count": 66
        }
      ]
    },
    {
      "cell_type": "code",
      "source": [
        "scores = grid_1.cv_results_"
      ],
      "metadata": {
        "id": "3E-E-9mRJ5Al"
      },
      "execution_count": 67,
      "outputs": []
    },
    {
      "cell_type": "code",
      "source": [
        "scores['mean_test_score'] #Se muestran los valores de las métricas utilizando los parámetros indicados"
      ],
      "metadata": {
        "colab": {
          "base_uri": "https://localhost:8080/"
        },
        "id": "2EBp4ntRJ9fm",
        "outputId": "18256c4a-ca34-4657-d334-b0907793a9ba"
      },
      "execution_count": 68,
      "outputs": [
        {
          "output_type": "execute_result",
          "data": {
            "text/plain": [
              "array([0.66688746, 0.6668878 , 0.66689085, 0.6669211 , 0.66720135,\n",
              "       0.6686912 ])"
            ]
          },
          "metadata": {},
          "execution_count": 68
        }
      ]
    },
    {
      "cell_type": "code",
      "source": [
        "parametros = [{'alpha':[0.001, 0.1, 1, 10, 100, 1000]}, {'normalize':[True, False]}] #Parámetros para realizar la búsqueda de la mejor combinación con gridsearch\n",
        "rr = Ridge()\n",
        "grid_1 = GridSearchCV(rr, parametros, cv=4)\n",
        "grid_1.fit(df[['horsepower', 'curb_weight', 'engine_size', 'highway_mpg']], y_data)\n",
        "grid_1.best_estimator_ #Se obtiene el mejor valor utilizando el atributo"
      ],
      "metadata": {
        "colab": {
          "base_uri": "https://localhost:8080/"
        },
        "id": "HZcDCGACK1y1",
        "outputId": "02c67aa4-165b-4094-977d-1e8e29d0ce22"
      },
      "execution_count": 69,
      "outputs": [
        {
          "output_type": "stream",
          "name": "stderr",
          "text": [
            "/usr/local/lib/python3.7/dist-packages/sklearn/linear_model/_base.py:145: FutureWarning: 'normalize' was deprecated in version 1.0 and will be removed in 1.2.\n",
            "If you wish to scale the data, use Pipeline with a StandardScaler in a preprocessing stage. To reproduce the previous behavior:\n",
            "\n",
            "from sklearn.pipeline import make_pipeline\n",
            "\n",
            "model = make_pipeline(StandardScaler(with_mean=False), Ridge())\n",
            "\n",
            "If you wish to pass a sample_weight parameter, you need to pass it as a fit parameter to each step of the pipeline as follows:\n",
            "\n",
            "kwargs = {s[0] + '__sample_weight': sample_weight for s in model.steps}\n",
            "model.fit(X, y, **kwargs)\n",
            "\n",
            "Set parameter alpha to: original_alpha * n_samples. \n",
            "  FutureWarning,\n",
            "/usr/local/lib/python3.7/dist-packages/sklearn/linear_model/_base.py:145: FutureWarning: 'normalize' was deprecated in version 1.0 and will be removed in 1.2.\n",
            "If you wish to scale the data, use Pipeline with a StandardScaler in a preprocessing stage. To reproduce the previous behavior:\n",
            "\n",
            "from sklearn.pipeline import make_pipeline\n",
            "\n",
            "model = make_pipeline(StandardScaler(with_mean=False), Ridge())\n",
            "\n",
            "If you wish to pass a sample_weight parameter, you need to pass it as a fit parameter to each step of the pipeline as follows:\n",
            "\n",
            "kwargs = {s[0] + '__sample_weight': sample_weight for s in model.steps}\n",
            "model.fit(X, y, **kwargs)\n",
            "\n",
            "Set parameter alpha to: original_alpha * n_samples. \n",
            "  FutureWarning,\n",
            "/usr/local/lib/python3.7/dist-packages/sklearn/linear_model/_base.py:145: FutureWarning: 'normalize' was deprecated in version 1.0 and will be removed in 1.2.\n",
            "If you wish to scale the data, use Pipeline with a StandardScaler in a preprocessing stage. To reproduce the previous behavior:\n",
            "\n",
            "from sklearn.pipeline import make_pipeline\n",
            "\n",
            "model = make_pipeline(StandardScaler(with_mean=False), Ridge())\n",
            "\n",
            "If you wish to pass a sample_weight parameter, you need to pass it as a fit parameter to each step of the pipeline as follows:\n",
            "\n",
            "kwargs = {s[0] + '__sample_weight': sample_weight for s in model.steps}\n",
            "model.fit(X, y, **kwargs)\n",
            "\n",
            "Set parameter alpha to: original_alpha * n_samples. \n",
            "  FutureWarning,\n",
            "/usr/local/lib/python3.7/dist-packages/sklearn/linear_model/_base.py:145: FutureWarning: 'normalize' was deprecated in version 1.0 and will be removed in 1.2.\n",
            "If you wish to scale the data, use Pipeline with a StandardScaler in a preprocessing stage. To reproduce the previous behavior:\n",
            "\n",
            "from sklearn.pipeline import make_pipeline\n",
            "\n",
            "model = make_pipeline(StandardScaler(with_mean=False), Ridge())\n",
            "\n",
            "If you wish to pass a sample_weight parameter, you need to pass it as a fit parameter to each step of the pipeline as follows:\n",
            "\n",
            "kwargs = {s[0] + '__sample_weight': sample_weight for s in model.steps}\n",
            "model.fit(X, y, **kwargs)\n",
            "\n",
            "Set parameter alpha to: original_alpha * n_samples. \n",
            "  FutureWarning,\n",
            "/usr/local/lib/python3.7/dist-packages/sklearn/linear_model/_base.py:155: FutureWarning: 'normalize' was deprecated in version 1.0 and will be removed in 1.2. Please leave the normalize parameter to its default value to silence this warning. The default behavior of this estimator is to not do any normalization. If normalization is needed please use sklearn.preprocessing.StandardScaler instead.\n",
            "  FutureWarning,\n",
            "/usr/local/lib/python3.7/dist-packages/sklearn/linear_model/_base.py:155: FutureWarning: 'normalize' was deprecated in version 1.0 and will be removed in 1.2. Please leave the normalize parameter to its default value to silence this warning. The default behavior of this estimator is to not do any normalization. If normalization is needed please use sklearn.preprocessing.StandardScaler instead.\n",
            "  FutureWarning,\n",
            "/usr/local/lib/python3.7/dist-packages/sklearn/linear_model/_base.py:155: FutureWarning: 'normalize' was deprecated in version 1.0 and will be removed in 1.2. Please leave the normalize parameter to its default value to silence this warning. The default behavior of this estimator is to not do any normalization. If normalization is needed please use sklearn.preprocessing.StandardScaler instead.\n",
            "  FutureWarning,\n",
            "/usr/local/lib/python3.7/dist-packages/sklearn/linear_model/_base.py:155: FutureWarning: 'normalize' was deprecated in version 1.0 and will be removed in 1.2. Please leave the normalize parameter to its default value to silence this warning. The default behavior of this estimator is to not do any normalization. If normalization is needed please use sklearn.preprocessing.StandardScaler instead.\n",
            "  FutureWarning,\n"
          ]
        },
        {
          "output_type": "execute_result",
          "data": {
            "text/plain": [
              "Ridge(alpha=1000)"
            ]
          },
          "metadata": {},
          "execution_count": 69
        }
      ]
    },
    {
      "cell_type": "code",
      "source": [
        "for param, mean_val, mean_test inzip(scores['params'], scores['mean_test_score'], scores['mean_train_score']):\n",
        "  print(param, 'R^2 on test data: ', mean_val, 'R^2 on train data: ', mean_test)"
      ],
      "metadata": {
        "id": "QtLAMf-HLihZ"
      },
      "execution_count": null,
      "outputs": []
    }
  ]
}