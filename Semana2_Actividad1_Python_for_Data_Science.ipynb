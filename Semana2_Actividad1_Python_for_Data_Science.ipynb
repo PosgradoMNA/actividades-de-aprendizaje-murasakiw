{
  "nbformat": 4,
  "nbformat_minor": 0,
  "metadata": {
    "colab": {
      "provenance": [],
      "collapsed_sections": [],
      "mount_file_id": "1mT4AvbnZCjrk8LQJuHRtl1ejkDiyh9kx",
      "authorship_tag": "ABX9TyPhA7c9fy3vT5dTNd3haQ8s",
      "include_colab_link": true
    },
    "kernelspec": {
      "name": "python3",
      "display_name": "Python 3"
    },
    "language_info": {
      "name": "python"
    }
  },
  "cells": [
    {
      "cell_type": "markdown",
      "metadata": {
        "id": "view-in-github",
        "colab_type": "text"
      },
      "source": [
        "<a href=\"https://colab.research.google.com/github/PosgradoMNA/actividades-de-aprendizaje-murasakiw/blob/main/Semana2_Actividad1_Python_for_Data_Science.ipynb\" target=\"_parent\"><img src=\"https://colab.research.google.com/assets/colab-badge.svg\" alt=\"Open In Colab\"/></a>"
      ]
    },
    {
      "cell_type": "markdown",
      "source": [
        "* Nombre: Sergio Omar Esparza Hernández\n",
        "* Matrícula: A01794338"
      ],
      "metadata": {
        "id": "JU1pgNUf3oKC"
      }
    },
    {
      "cell_type": "markdown",
      "source": [
        "# Semana 2 Actividad 1\n",
        "# Python for Data Science(IBM) Módulo 2"
      ],
      "metadata": {
        "id": "tPNxbKmP3r6T"
      }
    },
    {
      "cell_type": "markdown",
      "source": [
        "##Reading Files with Open"
      ],
      "metadata": {
        "id": "2jXFimGu36tH"
      }
    },
    {
      "cell_type": "code",
      "execution_count": null,
      "metadata": {
        "id": "uuXni6OR2PTr"
      },
      "outputs": [],
      "source": [
        "#La función open se utiliza para obtener un objeto de tipo file\n",
        "file1 = open('/content/drive/MyDrive/archivos_para_colab/Archivo_texto.txt', 'r') #El primer argumento es la ruta, el segundo argumento es el modo\n",
        "#Existen diferentes valores para el modo, estos son 'r' para lectura, 'w' para escritura y 'a' para appending"
      ]
    },
    {
      "cell_type": "code",
      "source": [
        "file1.name #Se utiliza el atributo name del objeto para obtener el nombre del archivo"
      ],
      "metadata": {
        "colab": {
          "base_uri": "https://localhost:8080/",
          "height": 35
        },
        "id": "_wBOhfFm6WhM",
        "outputId": "ed94bd29-814e-46ee-ac5e-a0d8f811b1ca"
      },
      "execution_count": null,
      "outputs": [
        {
          "output_type": "execute_result",
          "data": {
            "text/plain": [
              "'/content/drive/MyDrive/archivos_para_colab/Archivo_texto.txt'"
            ],
            "application/vnd.google.colaboratory.intrinsic+json": {
              "type": "string"
            }
          },
          "metadata": {},
          "execution_count": 2
        }
      ]
    },
    {
      "cell_type": "code",
      "source": [
        "file1.mode #Se puede utilizar el atributo mode para consultar en que modo se creo el objeto de tipo file"
      ],
      "metadata": {
        "colab": {
          "base_uri": "https://localhost:8080/",
          "height": 35
        },
        "id": "JQ3-Jy-U6fNx",
        "outputId": "3cc503f8-d010-4138-ecef-d00830168de1"
      },
      "execution_count": null,
      "outputs": [
        {
          "output_type": "execute_result",
          "data": {
            "text/plain": [
              "'r'"
            ],
            "application/vnd.google.colaboratory.intrinsic+json": {
              "type": "string"
            }
          },
          "metadata": {},
          "execution_count": 3
        }
      ]
    },
    {
      "cell_type": "code",
      "source": [
        "file1.close() #Siempre se debe de cerrar el objeto de tipo file con el método close"
      ],
      "metadata": {
        "id": "MNbH2Fql6sfN"
      },
      "execution_count": null,
      "outputs": []
    },
    {
      "cell_type": "code",
      "source": [
        "#Utilizar la instrucción with para abrir un archivo es una mejor práctica, ya que esta instrucción automáticamente cierra el archivo\n",
        "with open('/content/drive/MyDrive/archivos_para_colab/Archivo_texto.txt', 'r') as file1:\n",
        "  file_data = file1.read()\n",
        "  print(file_data) #Se ejecutan todas las acciones dentro de la indentación y despues se cierra el archivo\n",
        "\n",
        "print(file1.closed) #Para verificar si el archivo se cerró, arroja True cuando el archivo se cerró\n",
        "print(file_data)"
      ],
      "metadata": {
        "colab": {
          "base_uri": "https://localhost:8080/"
        },
        "id": "SqXiVF0C6-8w",
        "outputId": "3bd2c91d-307f-4440-e0a8-df0c90df869b"
      },
      "execution_count": null,
      "outputs": [
        {
          "output_type": "stream",
          "name": "stdout",
          "text": [
            "Nombre: Sergio Omar Esparza Hernández\n",
            "Matrícula: A01794338\n",
            "Ingeniero mecatrónico\n",
            "Etudiante de maestría en inteligencia artificial\n",
            "True\n",
            "Nombre: Sergio Omar Esparza Hernández\n",
            "Matrícula: A01794338\n",
            "Ingeniero mecatrónico\n",
            "Etudiante de maestría en inteligencia artificial\n"
          ]
        }
      ]
    },
    {
      "cell_type": "code",
      "source": [
        "file_data #Lo que se guarda en la variable file_data para que python lo muestre como está en el documento"
      ],
      "metadata": {
        "id": "Q_KdatTu7o8o",
        "colab": {
          "base_uri": "https://localhost:8080/",
          "height": 35
        },
        "outputId": "4f6aebc3-8c3f-493d-d0b8-4524da818853"
      },
      "execution_count": null,
      "outputs": [
        {
          "output_type": "execute_result",
          "data": {
            "text/plain": [
              "'Nombre: Sergio Omar Esparza Hernández\\nMatrícula: A01794338\\nIngeniero mecatrónico\\nEtudiante de maestría en inteligencia artificial'"
            ],
            "application/vnd.google.colaboratory.intrinsic+json": {
              "type": "string"
            }
          },
          "metadata": {},
          "execution_count": 7
        }
      ]
    },
    {
      "cell_type": "code",
      "source": [
        "with open('/content/drive/MyDrive/archivos_para_colab/Archivo_texto.txt', 'r') as file1:\n",
        "  file_data_list = file1.readlines() #Con este método se obtienen los renglones uno por uno y se guardan en una lista\n",
        "  print(file_data_list) #Se ejecutan todas las acciones dentro de la indentación y despues se cierra el archivo\n",
        "\n",
        "print(file1.closed) #Para verificar si el archivo se cerró, arroja True cuando el archivo se cerró\n"
      ],
      "metadata": {
        "colab": {
          "base_uri": "https://localhost:8080/"
        },
        "id": "UzOeA9OEUzs0",
        "outputId": "4e7ac432-9292-470f-8748-9f7f2eb04a0e"
      },
      "execution_count": null,
      "outputs": [
        {
          "output_type": "stream",
          "name": "stdout",
          "text": [
            "['Nombre: Sergio Omar Esparza Hernández\\n', 'Matrícula: A01794338\\n', 'Ingeniero mecatrónico\\n', 'Etudiante de maestría en inteligencia artificial']\n",
            "True\n"
          ]
        }
      ]
    },
    {
      "cell_type": "code",
      "source": [
        "with open('/content/drive/MyDrive/archivos_para_colab/Archivo_texto.txt', 'r') as file1:\n",
        "  line = file1.readline() #Con este método se obtiene el primer renglón del documento\n",
        "  print(line) \n",
        "  line = file1.readline() #Si se vuelve a llamar el método readline, entonces se obtiene el segundo renglón y así sucesivamente si se vuelve a llamar al método dentro de la misma indentación\n",
        "  print(line) \n",
        "\n",
        "print(file1.closed) #Para verificar si el archivo se cerró, arroja True cuando el archivo se cerró"
      ],
      "metadata": {
        "colab": {
          "base_uri": "https://localhost:8080/"
        },
        "id": "g_8G9pXyVd0d",
        "outputId": "bf0db0ef-4de2-410d-8d5d-b4c8bf450c56"
      },
      "execution_count": null,
      "outputs": [
        {
          "output_type": "stream",
          "name": "stdout",
          "text": [
            "Nombre: Sergio Omar Esparza Hernández\n",
            "\n",
            "Matrícula: A01794338\n",
            "\n",
            "True\n"
          ]
        }
      ]
    },
    {
      "cell_type": "code",
      "source": [
        "with open('/content/drive/MyDrive/archivos_para_colab/Archivo_texto.txt', 'r') as file1:\n",
        "  for line in file1: #Se puede utilizar un for para imprimir todos los renglones del documento\n",
        "    print(line)"
      ],
      "metadata": {
        "colab": {
          "base_uri": "https://localhost:8080/"
        },
        "id": "m2ELXCtSV1mn",
        "outputId": "f686d4f6-3716-48e7-a591-c0f6e41c91e9"
      },
      "execution_count": null,
      "outputs": [
        {
          "output_type": "stream",
          "name": "stdout",
          "text": [
            "Nombre: Sergio Omar Esparza Hernández\n",
            "\n",
            "Matrícula: A01794338\n",
            "\n",
            "Ingeniero mecatrónico\n",
            "\n",
            "Etudiante de maestría en inteligencia artificial\n"
          ]
        }
      ]
    },
    {
      "cell_type": "code",
      "source": [
        "with open('/content/drive/MyDrive/archivos_para_colab/Archivo_texto.txt', 'r') as file1:\n",
        "  file_data_list = file1.readlines(1) #Cuando se le específica un parámetro a este método, este número indica el número máximo de bytes.\n",
        "  #Es decir, el método solamente va a leer la siguiente línea si el numero total de bytes no se ha excedido.\n",
        "  #Se van acumulando los bytes con cada línea que se lee del documento\n",
        "  print(file_data_list)\n",
        "  file_data_list = file1.readlines(25)\n",
        "  print(file_data_list) "
      ],
      "metadata": {
        "colab": {
          "base_uri": "https://localhost:8080/"
        },
        "id": "_YLJdaSFWs3G",
        "outputId": "5f0a0ebf-f597-4f49-976b-25638d2f29f7"
      },
      "execution_count": null,
      "outputs": [
        {
          "output_type": "stream",
          "name": "stdout",
          "text": [
            "['Nombre: Sergio Omar Esparza Hernández\\n']\n",
            "['Matrícula: A01794338\\n', 'Ingeniero mecatrónico\\n']\n"
          ]
        }
      ]
    },
    {
      "cell_type": "code",
      "source": [
        "with open('/content/drive/MyDrive/archivos_para_colab/Archivo_texto.txt', 'r') as file1:\n",
        "  print(file1.read(50)) #Si se especifica un número con el método read, lo que hace el método es que lee ese número de caracteres, sin importar que estén en otro renglón\n",
        "  print(file1.read(4))\n",
        "  print(file1.read(7))\n",
        "  print(file1.read(15))\n"
      ],
      "metadata": {
        "colab": {
          "base_uri": "https://localhost:8080/"
        },
        "id": "HK-jCRG0a6MB",
        "outputId": "88047045-a811-4d1b-8689-ce16e8d012c3"
      },
      "execution_count": null,
      "outputs": [
        {
          "output_type": "stream",
          "name": "stdout",
          "text": [
            "Nombre: Sergio Omar Esparza Hernández\n",
            "Matrícula: A\n",
            "0179\n",
            "4338\n",
            "In\n",
            "geniero mecatró\n"
          ]
        }
      ]
    },
    {
      "cell_type": "code",
      "source": [
        "with open('/content/drive/MyDrive/archivos_para_colab/Archivo_texto.txt', 'r') as file1:\n",
        "  print(file1.readline(50)) #Si se especifica un número con el método readline, lo que hace el método es que lee ese número de caracteres, pero solamente regresa los que están en el mismo renglón\n",
        "  #A diferencia del método read que regresa los caracteres aunque pertenezcan a otro renglón\n",
        "  print(file1.readline(7))\n",
        "  print(file1.readline(15))"
      ],
      "metadata": {
        "colab": {
          "base_uri": "https://localhost:8080/"
        },
        "id": "gCfoImWMkFOQ",
        "outputId": "e3111e14-3944-4716-df6e-8089f862f4b0"
      },
      "execution_count": null,
      "outputs": [
        {
          "output_type": "stream",
          "name": "stdout",
          "text": [
            "Nombre: Sergio Omar Esparza Hernández\n",
            "\n",
            "Matrícu\n",
            "la: A01794338\n",
            "\n"
          ]
        }
      ]
    },
    {
      "cell_type": "markdown",
      "source": [
        "## Writing files with open"
      ],
      "metadata": {
        "id": "AhLeCEnimtmg"
      }
    },
    {
      "cell_type": "code",
      "source": [
        "#También se puede escribir en archivos utilizando la función open\n",
        "with open('/content/drive/MyDrive/archivos_para_colab/Archivo_texto_2.txt', 'w') as file2: #Si el archivo ya existe, entonces se sobreescribe\n",
        "  file2.write('Texto de prueba_1\\n') #Con el método write se puede escribir texto en el archivo\n",
        "  file2.write('Texto de prueba_2\\n') #Cada que se llama al método write se puede escribir en el objeto de tipo archivo"
      ],
      "metadata": {
        "id": "Ee7vJlP2kvxg"
      },
      "execution_count": 1,
      "outputs": []
    },
    {
      "cell_type": "code",
      "source": [
        "#Revisando el texto que se escribió previamente con el método write\n",
        "with open('/content/drive/MyDrive/archivos_para_colab/Archivo_texto_2.txt', 'r') as file2:\n",
        "  print(file2.read())"
      ],
      "metadata": {
        "colab": {
          "base_uri": "https://localhost:8080/"
        },
        "id": "mvBipeD7oEu9",
        "outputId": "7e960dd4-80f8-4d17-a049-ebdde54b270d"
      },
      "execution_count": 2,
      "outputs": [
        {
          "output_type": "stream",
          "name": "stdout",
          "text": [
            "Texto de prueba_1\n",
            "Texto de prueba_2\n",
            "\n"
          ]
        }
      ]
    },
    {
      "cell_type": "code",
      "source": [
        "#Se puede escribir el contenido de una lista en un archivo\n",
        "lines = ['Línea 1\\n', 'Línea 2\\n', 'Línea 3\\n', 'Línea 4\\n']\n",
        "with open('/content/drive/MyDrive/archivos_para_colab/Archivo_texto_2.txt', 'w') as file2:\n",
        "  for line in lines: #Con el ciclo for se pueden escribir todos los elementos de una lista en un archivo\n",
        "    file2.write(line)"
      ],
      "metadata": {
        "id": "2K5DzpU-oudS"
      },
      "execution_count": 3,
      "outputs": []
    },
    {
      "cell_type": "code",
      "source": [
        "#Revisando el texto que se escribió previamente con el método write\n",
        "with open('/content/drive/MyDrive/archivos_para_colab/Archivo_texto_2.txt', 'r') as file2:\n",
        "  print(file2.read())"
      ],
      "metadata": {
        "colab": {
          "base_uri": "https://localhost:8080/"
        },
        "id": "Ep2DMxU4pPyl",
        "outputId": "3fb4f858-22fd-437f-81b6-431d92280f52"
      },
      "execution_count": 4,
      "outputs": [
        {
          "output_type": "stream",
          "name": "stdout",
          "text": [
            "Línea 1\n",
            "Línea 2\n",
            "Línea 3\n",
            "Línea 4\n",
            "\n"
          ]
        }
      ]
    },
    {
      "cell_type": "code",
      "source": [
        "#Con el modo append no se sobreescribe el archivo cuando ya existe uno con el mismo nombre\n",
        "#En cambio, se utiliza el archivo que ya existe y se conserva el contenido que ya tiene ese archivo\n",
        "with open('/content/drive/MyDrive/archivos_para_colab/Archivo_texto_2.txt', 'a') as file2:\n",
        "  file2.write('Línea añadida en modo append')\n",
        "with open('/content/drive/MyDrive/archivos_para_colab/Archivo_texto_2.txt', 'r') as file2:\n",
        "  print(file2.read()) #Al leer el contenido, se observa que se mantiene el contenido que fue escrito previamente"
      ],
      "metadata": {
        "colab": {
          "base_uri": "https://localhost:8080/"
        },
        "id": "j56ozbZupR3L",
        "outputId": "f0e39d30-0490-4380-a9eb-83029c75238b"
      },
      "execution_count": 5,
      "outputs": [
        {
          "output_type": "stream",
          "name": "stdout",
          "text": [
            "Línea 1\n",
            "Línea 2\n",
            "Línea 3\n",
            "Línea 4\n",
            "Línea añadida en modo append\n"
          ]
        }
      ]
    },
    {
      "cell_type": "code",
      "source": [
        "#Copiar un archivo a otro\n",
        "with open('/content/drive/MyDrive/archivos_para_colab/Archivo_texto_2.txt', 'r') as readfile: #Primero se abre el archivo del que se desea copiar el contenido\n",
        "  with open('/content/drive/MyDrive/archivos_para_colab/Archivo_texto_3.txt', 'w') as file3: #Después se crea el archivo en el que se copiará el contenido\n",
        "    for line in readfile: #Con un ciclo for se copia línea por línea el contenido del archivo y se escribe en el otro archivo\n",
        "      file3.write(line) \n",
        "\n",
        "with open('/content/drive/MyDrive/archivos_para_colab/Archivo_texto_3.txt', 'r') as file3:\n",
        "  print(file3.read()) #Verificando el contenido que se copió de un archivo a otro\n"
      ],
      "metadata": {
        "colab": {
          "base_uri": "https://localhost:8080/"
        },
        "id": "Y57D0-jvqJ3y",
        "outputId": "45cef822-7aa1-4cc8-eecc-f10666a5020f"
      },
      "execution_count": 6,
      "outputs": [
        {
          "output_type": "stream",
          "name": "stdout",
          "text": [
            "Línea 1\n",
            "Línea 2\n",
            "Línea 3\n",
            "Línea 4\n",
            "Línea añadida en modo append\n"
          ]
        }
      ]
    },
    {
      "cell_type": "markdown",
      "source": [
        "Existen modos adicionales para para acceder a un archivo:\n",
        "* r+ : Lectura y escritura.\n",
        "* w+ : Escritura y lectura.\n",
        "* a+ : Appendig y lectura."
      ],
      "metadata": {
        "id": "NluCDEqWtagG"
      }
    },
    {
      "cell_type": "code",
      "source": [
        "with open('/content/drive/MyDrive/archivos_para_colab/Archivo_texto_2.txt', 'a+') as appendfile: \n",
        "  appendfile.write('\\nTexto añadido con modo a+\\n')\n",
        "  print(appendfile.read()) #El método read no imprime nada porque el apuntador del método se posiciona después del texto añadido y en esta posición no hay nada que leer"
      ],
      "metadata": {
        "colab": {
          "base_uri": "https://localhost:8080/"
        },
        "id": "Zu9BLwovq9-8",
        "outputId": "e03c0915-f145-4254-f638-e65387b50940"
      },
      "execution_count": 7,
      "outputs": [
        {
          "output_type": "stream",
          "name": "stdout",
          "text": [
            "\n"
          ]
        }
      ]
    },
    {
      "cell_type": "markdown",
      "source": [
        "* El método tell indica en qué posición se encuentra el cursor\n",
        "* Con el método seek se puede mover el cursor por el archivo"
      ],
      "metadata": {
        "id": "lfw1xaSKzwBw"
      }
    },
    {
      "cell_type": "code",
      "source": [
        "with open('/content/drive/MyDrive/archivos_para_colab/Archivo_texto_2.txt', 'a+') as appendfile:\n",
        "  print('Posición inicial: {}'.format(appendfile.tell()))\n",
        "\n",
        "  data = appendfile.read() #Se lee el contenido del archivo\n",
        "  if (not data): #Esta opción será verdadera, ya que no hay nada que leer pues el cursor se coloca al final del texto que contiene el archivo\n",
        "    print('Nada que leer') \n",
        "  else:\n",
        "    print(appendfile.read())\n",
        "\n",
        "  appendfile.seek(0,0) #Se mueve cero bytes desde el inicio, se coloca el cursor en el inicio del documento\n",
        "\n",
        "  print('Nueva ubicación : {}'.format(appendfile.tell()))\n",
        "  data = appendfile.read() \n",
        "  if (not data): #Ahora sí hay datos que leer, pues el cursor se colocó al inicio del archivo y el archivo contiene texto, por lo tanto, se ejecuta la parte del else\n",
        "    print('Nada que leer')\n",
        "  else:\n",
        "    print(data)\n",
        "  print('Ubicación despues de leer : {}'.format(appendfile.tell()))"
      ],
      "metadata": {
        "colab": {
          "base_uri": "https://localhost:8080/"
        },
        "id": "JuSpDo1XuQ2z",
        "outputId": "4fa57185-183b-4e3e-8893-a656ad37315b"
      },
      "execution_count": 8,
      "outputs": [
        {
          "output_type": "stream",
          "name": "stdout",
          "text": [
            "Posición inicial: 94\n",
            "Nada que leer\n",
            "Nueva ubicación : 0\n",
            "Línea 1\n",
            "Línea 2\n",
            "Línea 3\n",
            "Línea 4\n",
            "Línea añadida en modo append\n",
            "Texto añadido con modo a+\n",
            "\n",
            "Ubicación despues de leer : 94\n"
          ]
        }
      ]
    },
    {
      "cell_type": "markdown",
      "source": [
        "La diferencia entre los modos w+ y r+, es que w+ sobreescribe el archivo y borra los datos preexistentes. Para trabajar con datos pre existentes, es necesario utilizar los modos r+ y a+.\n",
        "Trabajar con r+ se puede añadir el método .truncate() al final de los datos."
      ],
      "metadata": {
        "id": "atLw3_tr01XO"
      }
    },
    {
      "cell_type": "code",
      "source": [
        "with open('/content/drive/MyDrive/archivos_para_colab/Archivo_texto_2.txt', 'r+') as testfile:\n",
        "  data = testfile.readlines()\n",
        "  testfile.seek(0,0) #Se coloca al inicio del archivo\n",
        "  testfile.write('Línea nueva 1\\n')\n",
        "  testfile.write('Línea nueva 2\\n')\n",
        "  testfile.write('Línea nueva 3\\n')\n",
        "  testfile.truncate() #Este método borrará toda la información que está despues de donde se encuentra el apuntador\n",
        "  testfile.seek(0,0) #Se coloca al inicio del archivo\n",
        "  print(testfile.read()) #No se imprimirá nada, ya que el método truncate() eliminó los datos posteriores al último texto que se añadió"
      ],
      "metadata": {
        "colab": {
          "base_uri": "https://localhost:8080/"
        },
        "id": "kKszbC7MwpgQ",
        "outputId": "9ca3aca3-9975-409b-8456-28894493ef5c"
      },
      "execution_count": 9,
      "outputs": [
        {
          "output_type": "stream",
          "name": "stdout",
          "text": [
            "Línea nueva 1\n",
            "Línea nueva 2\n",
            "Línea nueva 3\n",
            "\n"
          ]
        }
      ]
    }
  ]
}