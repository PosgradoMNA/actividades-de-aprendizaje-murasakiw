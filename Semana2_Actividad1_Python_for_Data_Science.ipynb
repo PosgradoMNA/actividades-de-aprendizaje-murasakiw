{
  "nbformat": 4,
  "nbformat_minor": 0,
  "metadata": {
    "colab": {
      "provenance": [],
      "collapsed_sections": [],
      "mount_file_id": "1mT4AvbnZCjrk8LQJuHRtl1ejkDiyh9kx",
      "authorship_tag": "ABX9TyO3QqpXK9K7rQbaLo6cAQaJ",
      "include_colab_link": true
    },
    "kernelspec": {
      "name": "python3",
      "display_name": "Python 3"
    },
    "language_info": {
      "name": "python"
    }
  },
  "cells": [
    {
      "cell_type": "markdown",
      "metadata": {
        "id": "view-in-github",
        "colab_type": "text"
      },
      "source": [
        "<a href=\"https://colab.research.google.com/github/PosgradoMNA/actividades-de-aprendizaje-murasakiw/blob/main/Semana2_Actividad1_Python_for_Data_Science.ipynb\" target=\"_parent\"><img src=\"https://colab.research.google.com/assets/colab-badge.svg\" alt=\"Open In Colab\"/></a>"
      ]
    },
    {
      "cell_type": "markdown",
      "source": [
        "* Nombre: Sergio Omar Esparza Hernández\n",
        "* Matrícula: A01794338"
      ],
      "metadata": {
        "id": "JU1pgNUf3oKC"
      }
    },
    {
      "cell_type": "markdown",
      "source": [
        "# Semana 2 Actividad 1\n",
        "# Python for Data Science(IBM) Módulo 2"
      ],
      "metadata": {
        "id": "tPNxbKmP3r6T"
      }
    },
    {
      "cell_type": "markdown",
      "source": [
        "##Reading Files with Open"
      ],
      "metadata": {
        "id": "2jXFimGu36tH"
      }
    },
    {
      "cell_type": "code",
      "execution_count": null,
      "metadata": {
        "id": "uuXni6OR2PTr"
      },
      "outputs": [],
      "source": [
        "#La función open se utiliza para obtener un objeto de tipo file\n",
        "file1 = open()"
      ]
    }
  ]
}