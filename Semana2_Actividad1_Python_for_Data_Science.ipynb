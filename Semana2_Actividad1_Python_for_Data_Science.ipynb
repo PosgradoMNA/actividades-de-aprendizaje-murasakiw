{
  "nbformat": 4,
  "nbformat_minor": 0,
  "metadata": {
    "colab": {
      "provenance": [],
      "collapsed_sections": [],
      "mount_file_id": "1mT4AvbnZCjrk8LQJuHRtl1ejkDiyh9kx",
      "authorship_tag": "ABX9TyOgxiFlVfvovGZW9pbij7k5",
      "include_colab_link": true
    },
    "kernelspec": {
      "name": "python3",
      "display_name": "Python 3"
    },
    "language_info": {
      "name": "python"
    }
  },
  "cells": [
    {
      "cell_type": "markdown",
      "metadata": {
        "id": "view-in-github",
        "colab_type": "text"
      },
      "source": [
        "<a href=\"https://colab.research.google.com/github/PosgradoMNA/actividades-de-aprendizaje-murasakiw/blob/main/Semana2_Actividad1_Python_for_Data_Science.ipynb\" target=\"_parent\"><img src=\"https://colab.research.google.com/assets/colab-badge.svg\" alt=\"Open In Colab\"/></a>"
      ]
    },
    {
      "cell_type": "markdown",
      "source": [
        "* Nombre: Sergio Omar Esparza Hernández\n",
        "* Matrícula: A01794338"
      ],
      "metadata": {
        "id": "JU1pgNUf3oKC"
      }
    },
    {
      "cell_type": "markdown",
      "source": [
        "# Semana 2 Actividad 1\n",
        "# Python for Data Science(IBM) Módulo 2"
      ],
      "metadata": {
        "id": "tPNxbKmP3r6T"
      }
    },
    {
      "cell_type": "markdown",
      "source": [
        "##Reading Files with Open"
      ],
      "metadata": {
        "id": "2jXFimGu36tH"
      }
    },
    {
      "cell_type": "code",
      "execution_count": 35,
      "metadata": {
        "id": "uuXni6OR2PTr"
      },
      "outputs": [],
      "source": [
        "#La función open se utiliza para obtener un objeto de tipo file\n",
        "file1 = open('/content/drive/MyDrive/archivos_para_colab/Archivo_texto.txt', 'r') #El primer argumento es la ruta, el segundo argumento es el modo\n",
        "#Existen diferentes valores para el modo, estos son 'r' para lectura, 'w' para escritura y 'a' para appending"
      ]
    },
    {
      "cell_type": "code",
      "source": [
        "file1.name #Se utiliza el atributo name del objeto para obtener el nombre del archivo"
      ],
      "metadata": {
        "colab": {
          "base_uri": "https://localhost:8080/",
          "height": 35
        },
        "id": "_wBOhfFm6WhM",
        "outputId": "ea4183de-11ec-47df-a180-a12e89f2a39f"
      },
      "execution_count": 36,
      "outputs": [
        {
          "output_type": "execute_result",
          "data": {
            "text/plain": [
              "'/content/drive/MyDrive/archivos_para_colab/Archivo_texto.txt'"
            ],
            "application/vnd.google.colaboratory.intrinsic+json": {
              "type": "string"
            }
          },
          "metadata": {},
          "execution_count": 36
        }
      ]
    },
    {
      "cell_type": "code",
      "source": [
        "file1.mode #Se puede utilizar el atributo mode para consultar en que modo se creo el objeto de tipo file"
      ],
      "metadata": {
        "colab": {
          "base_uri": "https://localhost:8080/",
          "height": 35
        },
        "id": "JQ3-Jy-U6fNx",
        "outputId": "385ee951-544d-47f7-fbbc-5eea1d34c600"
      },
      "execution_count": 37,
      "outputs": [
        {
          "output_type": "execute_result",
          "data": {
            "text/plain": [
              "'r'"
            ],
            "application/vnd.google.colaboratory.intrinsic+json": {
              "type": "string"
            }
          },
          "metadata": {},
          "execution_count": 37
        }
      ]
    },
    {
      "cell_type": "code",
      "source": [
        "file1.close() #Siempre se debe de cerrar el objeto de tipo file con el método close"
      ],
      "metadata": {
        "id": "MNbH2Fql6sfN"
      },
      "execution_count": 38,
      "outputs": []
    },
    {
      "cell_type": "code",
      "source": [
        "#Utilizar la instrucción with para abrir un archivo es una mejor práctica, ya que esta instrucción automáticamente cierra el archivo\n",
        "with open('/content/drive/MyDrive/archivos_para_colab/Archivo_texto.txt', 'r') as file1:\n",
        "  file_data = file1.read()\n",
        "  print(file_data) #Se ejecutan todas las acciones dentro de la indentación y despues se cierra el archivo\n",
        "\n",
        "print(file1.closed) #Para verificar si el archivo se cerró, arroja True cuando el archivo se cerró\n",
        "print(file_data)"
      ],
      "metadata": {
        "colab": {
          "base_uri": "https://localhost:8080/"
        },
        "id": "SqXiVF0C6-8w",
        "outputId": "ba757fc6-56f8-438f-a5f0-5aea5f289802"
      },
      "execution_count": 39,
      "outputs": [
        {
          "output_type": "stream",
          "name": "stdout",
          "text": [
            "Nombre: Sergio Omar Esparza Hernández\n",
            "Matrícula: A01794338\n",
            "Ingeniero mecatrónico\n",
            "Etudiante de maestría en inteligencia artificial\n",
            "True\n",
            "Nombre: Sergio Omar Esparza Hernández\n",
            "Matrícula: A01794338\n",
            "Ingeniero mecatrónico\n",
            "Etudiante de maestría en inteligencia artificial\n"
          ]
        }
      ]
    },
    {
      "cell_type": "code",
      "source": [],
      "metadata": {
        "id": "Q_KdatTu7o8o"
      },
      "execution_count": null,
      "outputs": []
    }
  ]
}