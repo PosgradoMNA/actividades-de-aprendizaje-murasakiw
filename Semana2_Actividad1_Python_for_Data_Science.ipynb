{
  "nbformat": 4,
  "nbformat_minor": 0,
  "metadata": {
    "colab": {
      "provenance": [],
      "collapsed_sections": [],
      "mount_file_id": "1mT4AvbnZCjrk8LQJuHRtl1ejkDiyh9kx",
      "authorship_tag": "ABX9TyNAb+q/vjlYdEmIR6kMExnz",
      "include_colab_link": true
    },
    "kernelspec": {
      "name": "python3",
      "display_name": "Python 3"
    },
    "language_info": {
      "name": "python"
    }
  },
  "cells": [
    {
      "cell_type": "markdown",
      "metadata": {
        "id": "view-in-github",
        "colab_type": "text"
      },
      "source": [
        "<a href=\"https://colab.research.google.com/github/PosgradoMNA/actividades-de-aprendizaje-murasakiw/blob/main/Semana2_Actividad1_Python_for_Data_Science.ipynb\" target=\"_parent\"><img src=\"https://colab.research.google.com/assets/colab-badge.svg\" alt=\"Open In Colab\"/></a>"
      ]
    },
    {
      "cell_type": "markdown",
      "source": [
        "* Nombre: Sergio Omar Esparza Hernández\n",
        "* Matrícula: A01794338"
      ],
      "metadata": {
        "id": "JU1pgNUf3oKC"
      }
    },
    {
      "cell_type": "markdown",
      "source": [
        "# Semana 2 Actividad 1\n",
        "# Python for Data Science(IBM) Módulo 2"
      ],
      "metadata": {
        "id": "tPNxbKmP3r6T"
      }
    },
    {
      "cell_type": "markdown",
      "source": [
        "##Reading Files with Open"
      ],
      "metadata": {
        "id": "2jXFimGu36tH"
      }
    },
    {
      "cell_type": "code",
      "execution_count": null,
      "metadata": {
        "id": "uuXni6OR2PTr"
      },
      "outputs": [],
      "source": [
        "#La función open se utiliza para obtener un objeto de tipo file\n",
        "file1 = open('/content/drive/MyDrive/archivos_para_colab/Archivo_texto.txt', 'r') #El primer argumento es la ruta, el segundo argumento es el modo\n",
        "#Existen diferentes valores para el modo, estos son 'r' para lectura, 'w' para escritura y 'a' para appending"
      ]
    },
    {
      "cell_type": "code",
      "source": [
        "file1.name #Se utiliza el atributo name del objeto para obtener el nombre del archivo"
      ],
      "metadata": {
        "colab": {
          "base_uri": "https://localhost:8080/",
          "height": 35
        },
        "id": "_wBOhfFm6WhM",
        "outputId": "ed94bd29-814e-46ee-ac5e-a0d8f811b1ca"
      },
      "execution_count": null,
      "outputs": [
        {
          "output_type": "execute_result",
          "data": {
            "text/plain": [
              "'/content/drive/MyDrive/archivos_para_colab/Archivo_texto.txt'"
            ],
            "application/vnd.google.colaboratory.intrinsic+json": {
              "type": "string"
            }
          },
          "metadata": {},
          "execution_count": 2
        }
      ]
    },
    {
      "cell_type": "code",
      "source": [
        "file1.mode #Se puede utilizar el atributo mode para consultar en que modo se creo el objeto de tipo file"
      ],
      "metadata": {
        "colab": {
          "base_uri": "https://localhost:8080/",
          "height": 35
        },
        "id": "JQ3-Jy-U6fNx",
        "outputId": "3cc503f8-d010-4138-ecef-d00830168de1"
      },
      "execution_count": null,
      "outputs": [
        {
          "output_type": "execute_result",
          "data": {
            "text/plain": [
              "'r'"
            ],
            "application/vnd.google.colaboratory.intrinsic+json": {
              "type": "string"
            }
          },
          "metadata": {},
          "execution_count": 3
        }
      ]
    },
    {
      "cell_type": "code",
      "source": [
        "file1.close() #Siempre se debe de cerrar el objeto de tipo file con el método close"
      ],
      "metadata": {
        "id": "MNbH2Fql6sfN"
      },
      "execution_count": null,
      "outputs": []
    },
    {
      "cell_type": "code",
      "source": [
        "#Utilizar la instrucción with para abrir un archivo es una mejor práctica, ya que esta instrucción automáticamente cierra el archivo\n",
        "with open('/content/drive/MyDrive/archivos_para_colab/Archivo_texto.txt', 'r') as file1:\n",
        "  file_data = file1.read()\n",
        "  print(file_data) #Se ejecutan todas las acciones dentro de la indentación y despues se cierra el archivo\n",
        "\n",
        "print(file1.closed) #Para verificar si el archivo se cerró, arroja True cuando el archivo se cerró\n",
        "print(file_data)"
      ],
      "metadata": {
        "colab": {
          "base_uri": "https://localhost:8080/"
        },
        "id": "SqXiVF0C6-8w",
        "outputId": "3bd2c91d-307f-4440-e0a8-df0c90df869b"
      },
      "execution_count": null,
      "outputs": [
        {
          "output_type": "stream",
          "name": "stdout",
          "text": [
            "Nombre: Sergio Omar Esparza Hernández\n",
            "Matrícula: A01794338\n",
            "Ingeniero mecatrónico\n",
            "Etudiante de maestría en inteligencia artificial\n",
            "True\n",
            "Nombre: Sergio Omar Esparza Hernández\n",
            "Matrícula: A01794338\n",
            "Ingeniero mecatrónico\n",
            "Etudiante de maestría en inteligencia artificial\n"
          ]
        }
      ]
    },
    {
      "cell_type": "code",
      "source": [
        "file_data #Lo que se guarda en la variable file_data para que python lo muestre como está en el documento"
      ],
      "metadata": {
        "id": "Q_KdatTu7o8o",
        "colab": {
          "base_uri": "https://localhost:8080/",
          "height": 35
        },
        "outputId": "4f6aebc3-8c3f-493d-d0b8-4524da818853"
      },
      "execution_count": null,
      "outputs": [
        {
          "output_type": "execute_result",
          "data": {
            "text/plain": [
              "'Nombre: Sergio Omar Esparza Hernández\\nMatrícula: A01794338\\nIngeniero mecatrónico\\nEtudiante de maestría en inteligencia artificial'"
            ],
            "application/vnd.google.colaboratory.intrinsic+json": {
              "type": "string"
            }
          },
          "metadata": {},
          "execution_count": 7
        }
      ]
    },
    {
      "cell_type": "code",
      "source": [
        "with open('/content/drive/MyDrive/archivos_para_colab/Archivo_texto.txt', 'r') as file1:\n",
        "  file_data_list = file1.readlines() #Con este método se obtienen los renglones uno por uno y se guardan en una lista\n",
        "  print(file_data_list) #Se ejecutan todas las acciones dentro de la indentación y despues se cierra el archivo\n",
        "\n",
        "print(file1.closed) #Para verificar si el archivo se cerró, arroja True cuando el archivo se cerró\n"
      ],
      "metadata": {
        "colab": {
          "base_uri": "https://localhost:8080/"
        },
        "id": "UzOeA9OEUzs0",
        "outputId": "4e7ac432-9292-470f-8748-9f7f2eb04a0e"
      },
      "execution_count": null,
      "outputs": [
        {
          "output_type": "stream",
          "name": "stdout",
          "text": [
            "['Nombre: Sergio Omar Esparza Hernández\\n', 'Matrícula: A01794338\\n', 'Ingeniero mecatrónico\\n', 'Etudiante de maestría en inteligencia artificial']\n",
            "True\n"
          ]
        }
      ]
    },
    {
      "cell_type": "code",
      "source": [
        "with open('/content/drive/MyDrive/archivos_para_colab/Archivo_texto.txt', 'r') as file1:\n",
        "  line = file1.readline() #Con este método se obtiene el primer renglón del documento\n",
        "  print(line) \n",
        "  line = file1.readline() #Si se vuelve a llamar el método readline, entonces se obtiene el segundo renglón y así sucesivamente si se vuelve a llamar al método dentro de la misma indentación\n",
        "  print(line) \n",
        "\n",
        "print(file1.closed) #Para verificar si el archivo se cerró, arroja True cuando el archivo se cerró"
      ],
      "metadata": {
        "colab": {
          "base_uri": "https://localhost:8080/"
        },
        "id": "g_8G9pXyVd0d",
        "outputId": "bf0db0ef-4de2-410d-8d5d-b4c8bf450c56"
      },
      "execution_count": null,
      "outputs": [
        {
          "output_type": "stream",
          "name": "stdout",
          "text": [
            "Nombre: Sergio Omar Esparza Hernández\n",
            "\n",
            "Matrícula: A01794338\n",
            "\n",
            "True\n"
          ]
        }
      ]
    },
    {
      "cell_type": "code",
      "source": [
        "with open('/content/drive/MyDrive/archivos_para_colab/Archivo_texto.txt', 'r') as file1:\n",
        "  for line in file1: #Se puede utilizar un for para imprimir todos los renglones del documento\n",
        "    print(line)"
      ],
      "metadata": {
        "colab": {
          "base_uri": "https://localhost:8080/"
        },
        "id": "m2ELXCtSV1mn",
        "outputId": "f686d4f6-3716-48e7-a591-c0f6e41c91e9"
      },
      "execution_count": null,
      "outputs": [
        {
          "output_type": "stream",
          "name": "stdout",
          "text": [
            "Nombre: Sergio Omar Esparza Hernández\n",
            "\n",
            "Matrícula: A01794338\n",
            "\n",
            "Ingeniero mecatrónico\n",
            "\n",
            "Etudiante de maestría en inteligencia artificial\n"
          ]
        }
      ]
    },
    {
      "cell_type": "code",
      "source": [
        "with open('/content/drive/MyDrive/archivos_para_colab/Archivo_texto.txt', 'r') as file1:\n",
        "  file_data_list = file1.readlines(1) #Cuando se le específica un parámetro a este método, este número indica el número máximo de bytes.\n",
        "  #Es decir, el método solamente va a leer la siguiente línea si el numero total de bytes no se ha excedido.\n",
        "  #Se van acumulando los bytes con cada línea que se lee del documento\n",
        "  print(file_data_list)\n",
        "  file_data_list = file1.readlines(25)\n",
        "  print(file_data_list) "
      ],
      "metadata": {
        "colab": {
          "base_uri": "https://localhost:8080/"
        },
        "id": "_YLJdaSFWs3G",
        "outputId": "5f0a0ebf-f597-4f49-976b-25638d2f29f7"
      },
      "execution_count": null,
      "outputs": [
        {
          "output_type": "stream",
          "name": "stdout",
          "text": [
            "['Nombre: Sergio Omar Esparza Hernández\\n']\n",
            "['Matrícula: A01794338\\n', 'Ingeniero mecatrónico\\n']\n"
          ]
        }
      ]
    },
    {
      "cell_type": "code",
      "source": [
        "with open('/content/drive/MyDrive/archivos_para_colab/Archivo_texto.txt', 'r') as file1:\n",
        "  print(file1.read(50)) #Si se especifica un número con el método read, lo que hace el método es que lee ese número de caracteres, sin importar que estén en otro renglón\n",
        "  print(file1.read(4))\n",
        "  print(file1.read(7))\n",
        "  print(file1.read(15))\n"
      ],
      "metadata": {
        "colab": {
          "base_uri": "https://localhost:8080/"
        },
        "id": "HK-jCRG0a6MB",
        "outputId": "88047045-a811-4d1b-8689-ce16e8d012c3"
      },
      "execution_count": null,
      "outputs": [
        {
          "output_type": "stream",
          "name": "stdout",
          "text": [
            "Nombre: Sergio Omar Esparza Hernández\n",
            "Matrícula: A\n",
            "0179\n",
            "4338\n",
            "In\n",
            "geniero mecatró\n"
          ]
        }
      ]
    },
    {
      "cell_type": "code",
      "source": [
        "with open('/content/drive/MyDrive/archivos_para_colab/Archivo_texto.txt', 'r') as file1:\n",
        "  print(file1.readline(50)) #Si se especifica un número con el método readline, lo que hace el método es que lee ese número de caracteres, pero solamente regresa los que están en el mismo renglón\n",
        "  #A diferencia del método read que regresa los caracteres aunque pertenezcan a otro renglón\n",
        "  print(file1.readline(7))\n",
        "  print(file1.readline(15))"
      ],
      "metadata": {
        "colab": {
          "base_uri": "https://localhost:8080/"
        },
        "id": "gCfoImWMkFOQ",
        "outputId": "e3111e14-3944-4716-df6e-8089f862f4b0"
      },
      "execution_count": null,
      "outputs": [
        {
          "output_type": "stream",
          "name": "stdout",
          "text": [
            "Nombre: Sergio Omar Esparza Hernández\n",
            "\n",
            "Matrícu\n",
            "la: A01794338\n",
            "\n"
          ]
        }
      ]
    },
    {
      "cell_type": "markdown",
      "source": [
        "## Writing files with open"
      ],
      "metadata": {
        "id": "AhLeCEnimtmg"
      }
    },
    {
      "cell_type": "code",
      "source": [
        "#También se puede escribir en archivos utilizando la función open\n",
        "with open('/content/drive/MyDrive/archivos_para_colab/Archivo_texto_2.txt', 'w') as file2: #Si el archivo ya existe, entonces se sobreescribe\n",
        "  file2.write('Texto de prueba_1\\n') #Con el método write se puede escribir texto en el archivo\n",
        "  file2.write('Texto de prueba_2\\n') #Cada que se llama al método write se puede escribir en el objeto de tipo archivo"
      ],
      "metadata": {
        "id": "Ee7vJlP2kvxg"
      },
      "execution_count": null,
      "outputs": []
    },
    {
      "cell_type": "code",
      "source": [
        "#Revisando el texto que se escribió previamente con el método write\n",
        "with open('/content/drive/MyDrive/archivos_para_colab/Archivo_texto_2.txt', 'r') as file2:\n",
        "  print(file2.read())"
      ],
      "metadata": {
        "colab": {
          "base_uri": "https://localhost:8080/"
        },
        "id": "mvBipeD7oEu9",
        "outputId": "7e960dd4-80f8-4d17-a049-ebdde54b270d"
      },
      "execution_count": null,
      "outputs": [
        {
          "output_type": "stream",
          "name": "stdout",
          "text": [
            "Texto de prueba_1\n",
            "Texto de prueba_2\n",
            "\n"
          ]
        }
      ]
    },
    {
      "cell_type": "code",
      "source": [
        "#Se puede escribir el contenido de una lista en un archivo\n",
        "lines = ['Línea 1\\n', 'Línea 2\\n', 'Línea 3\\n', 'Línea 4\\n']\n",
        "with open('/content/drive/MyDrive/archivos_para_colab/Archivo_texto_2.txt', 'w') as file2:\n",
        "  for line in lines: #Con el ciclo for se pueden escribir todos los elementos de una lista en un archivo\n",
        "    file2.write(line)"
      ],
      "metadata": {
        "id": "2K5DzpU-oudS"
      },
      "execution_count": null,
      "outputs": []
    },
    {
      "cell_type": "code",
      "source": [
        "#Revisando el texto que se escribió previamente con el método write\n",
        "with open('/content/drive/MyDrive/archivos_para_colab/Archivo_texto_2.txt', 'r') as file2:\n",
        "  print(file2.read())"
      ],
      "metadata": {
        "colab": {
          "base_uri": "https://localhost:8080/"
        },
        "id": "Ep2DMxU4pPyl",
        "outputId": "3fb4f858-22fd-437f-81b6-431d92280f52"
      },
      "execution_count": null,
      "outputs": [
        {
          "output_type": "stream",
          "name": "stdout",
          "text": [
            "Línea 1\n",
            "Línea 2\n",
            "Línea 3\n",
            "Línea 4\n",
            "\n"
          ]
        }
      ]
    },
    {
      "cell_type": "code",
      "source": [
        "#Con el modo append no se sobreescribe el archivo cuando ya existe uno con el mismo nombre\n",
        "#En cambio, se utiliza el archivo que ya existe y se conserva el contenido que ya tiene ese archivo\n",
        "with open('/content/drive/MyDrive/archivos_para_colab/Archivo_texto_2.txt', 'a') as file2:\n",
        "  file2.write('Línea añadida en modo append')\n",
        "with open('/content/drive/MyDrive/archivos_para_colab/Archivo_texto_2.txt', 'r') as file2:\n",
        "  print(file2.read()) #Al leer el contenido, se observa que se mantiene el contenido que fue escrito previamente"
      ],
      "metadata": {
        "colab": {
          "base_uri": "https://localhost:8080/"
        },
        "id": "j56ozbZupR3L",
        "outputId": "f0e39d30-0490-4380-a9eb-83029c75238b"
      },
      "execution_count": null,
      "outputs": [
        {
          "output_type": "stream",
          "name": "stdout",
          "text": [
            "Línea 1\n",
            "Línea 2\n",
            "Línea 3\n",
            "Línea 4\n",
            "Línea añadida en modo append\n"
          ]
        }
      ]
    },
    {
      "cell_type": "code",
      "source": [
        "#Copiar un archivo a otro\n",
        "with open('/content/drive/MyDrive/archivos_para_colab/Archivo_texto_2.txt', 'r') as readfile: #Primero se abre el archivo del que se desea copiar el contenido\n",
        "  with open('/content/drive/MyDrive/archivos_para_colab/Archivo_texto_3.txt', 'w') as file3: #Después se crea el archivo en el que se copiará el contenido\n",
        "    for line in readfile: #Con un ciclo for se copia línea por línea el contenido del archivo y se escribe en el otro archivo\n",
        "      file3.write(line) \n",
        "\n",
        "with open('/content/drive/MyDrive/archivos_para_colab/Archivo_texto_3.txt', 'r') as file3:\n",
        "  print(file3.read()) #Verificando el contenido que se copió de un archivo a otro\n"
      ],
      "metadata": {
        "colab": {
          "base_uri": "https://localhost:8080/"
        },
        "id": "Y57D0-jvqJ3y",
        "outputId": "45cef822-7aa1-4cc8-eecc-f10666a5020f"
      },
      "execution_count": null,
      "outputs": [
        {
          "output_type": "stream",
          "name": "stdout",
          "text": [
            "Línea 1\n",
            "Línea 2\n",
            "Línea 3\n",
            "Línea 4\n",
            "Línea añadida en modo append\n"
          ]
        }
      ]
    },
    {
      "cell_type": "markdown",
      "source": [
        "Existen modos adicionales para para acceder a un archivo:\n",
        "* r+ : Lectura y escritura.\n",
        "* w+ : Escritura y lectura.\n",
        "* a+ : Appendig y lectura."
      ],
      "metadata": {
        "id": "NluCDEqWtagG"
      }
    },
    {
      "cell_type": "code",
      "source": [
        "with open('/content/drive/MyDrive/archivos_para_colab/Archivo_texto_2.txt', 'a+') as appendfile: \n",
        "  appendfile.write('\\nTexto añadido con modo a+\\n')\n",
        "  print(appendfile.read()) #El método read no imprime nada porque el apuntador del método se posiciona después del texto añadido y en esta posición no hay nada que leer"
      ],
      "metadata": {
        "colab": {
          "base_uri": "https://localhost:8080/"
        },
        "id": "Zu9BLwovq9-8",
        "outputId": "e03c0915-f145-4254-f638-e65387b50940"
      },
      "execution_count": null,
      "outputs": [
        {
          "output_type": "stream",
          "name": "stdout",
          "text": [
            "\n"
          ]
        }
      ]
    },
    {
      "cell_type": "markdown",
      "source": [
        "* El método tell indica en qué posición se encuentra el cursor\n",
        "* Con el método seek se puede mover el cursor por el archivo"
      ],
      "metadata": {
        "id": "lfw1xaSKzwBw"
      }
    },
    {
      "cell_type": "code",
      "source": [
        "with open('/content/drive/MyDrive/archivos_para_colab/Archivo_texto_2.txt', 'a+') as appendfile:\n",
        "  print('Posición inicial: {}'.format(appendfile.tell()))\n",
        "\n",
        "  data = appendfile.read() #Se lee el contenido del archivo\n",
        "  if (not data): #Esta opción será verdadera, ya que no hay nada que leer pues el cursor se coloca al final del texto que contiene el archivo\n",
        "    print('Nada que leer') \n",
        "  else:\n",
        "    print(appendfile.read())\n",
        "\n",
        "  appendfile.seek(0,0) #Se mueve cero bytes desde el inicio, se coloca el cursor en el inicio del documento\n",
        "\n",
        "  print('Nueva ubicación : {}'.format(appendfile.tell()))\n",
        "  data = appendfile.read() \n",
        "  if (not data): #Ahora sí hay datos que leer, pues el cursor se colocó al inicio del archivo y el archivo contiene texto, por lo tanto, se ejecuta la parte del else\n",
        "    print('Nada que leer')\n",
        "  else:\n",
        "    print(data)\n",
        "  print('Ubicación despues de leer : {}'.format(appendfile.tell()))"
      ],
      "metadata": {
        "colab": {
          "base_uri": "https://localhost:8080/"
        },
        "id": "JuSpDo1XuQ2z",
        "outputId": "4fa57185-183b-4e3e-8893-a656ad37315b"
      },
      "execution_count": null,
      "outputs": [
        {
          "output_type": "stream",
          "name": "stdout",
          "text": [
            "Posición inicial: 94\n",
            "Nada que leer\n",
            "Nueva ubicación : 0\n",
            "Línea 1\n",
            "Línea 2\n",
            "Línea 3\n",
            "Línea 4\n",
            "Línea añadida en modo append\n",
            "Texto añadido con modo a+\n",
            "\n",
            "Ubicación despues de leer : 94\n"
          ]
        }
      ]
    },
    {
      "cell_type": "markdown",
      "source": [
        "La diferencia entre los modos w+ y r+, es que w+ sobreescribe el archivo y borra los datos preexistentes. Para trabajar con datos pre existentes, es necesario utilizar los modos r+ y a+.\n",
        "Trabajar con r+ se puede añadir el método .truncate() al final de los datos."
      ],
      "metadata": {
        "id": "atLw3_tr01XO"
      }
    },
    {
      "cell_type": "code",
      "source": [
        "with open('/content/drive/MyDrive/archivos_para_colab/Archivo_texto_2.txt', 'r+') as testfile:\n",
        "  data = testfile.readlines()\n",
        "  testfile.seek(0,0) #Se coloca al inicio del archivo\n",
        "  testfile.write('Línea nueva 1\\n')\n",
        "  testfile.write('Línea nueva 2\\n')\n",
        "  testfile.write('Línea nueva 3\\n')\n",
        "  testfile.truncate() #Este método borrará toda la información que está despues de donde se encuentra el apuntador\n",
        "  testfile.seek(0,0) #Se coloca al inicio del archivo\n",
        "  print(testfile.read()) #No se imprimirá nada, ya que el método truncate() eliminó los datos posteriores al último texto que se añadió"
      ],
      "metadata": {
        "colab": {
          "base_uri": "https://localhost:8080/"
        },
        "id": "kKszbC7MwpgQ",
        "outputId": "9ca3aca3-9975-409b-8456-28894493ef5c"
      },
      "execution_count": null,
      "outputs": [
        {
          "output_type": "stream",
          "name": "stdout",
          "text": [
            "Línea nueva 1\n",
            "Línea nueva 2\n",
            "Línea nueva 3\n",
            "\n"
          ]
        }
      ]
    },
    {
      "cell_type": "markdown",
      "source": [
        "###Ejercicio lab de Writing Files"
      ],
      "metadata": {
        "id": "rs-rKhHK2c8i"
      }
    },
    {
      "cell_type": "code",
      "source": [
        "#Código para generar aleatoriamente los archivos de miembros activos e inactivos\n",
        "from random import randint as rnd\n",
        "\n",
        "memReg = '/content/drive/MyDrive/archivos_para_colab/members.txt'\n",
        "exReg = '/content/drive/MyDrive/archivos_para_colab/inactive.txt'\n",
        "fee =('yes','no')\n",
        "\n",
        "def genFiles(current,old):\n",
        "    with open(current,'w+') as writefile: \n",
        "        writefile.write('Membership No  Date Joined  Active  \\n')\n",
        "        data = \"{:^13}  {:<11}  {:<6}\\n\"\n",
        "\n",
        "        for rowno in range(20):\n",
        "            date = str(rnd(2015,2020))+ '-' + str(rnd(1,12))+'-'+str(rnd(1,25))\n",
        "            writefile.write(data.format(rnd(10000,99999),date,fee[rnd(0,1)]))\n",
        "\n",
        "\n",
        "    with open(old,'w+') as writefile: \n",
        "        writefile.write('Membership No  Date Joined  Active  \\n')\n",
        "        data = \"{:^13}  {:<11}  {:<6}\\n\"\n",
        "        for rowno in range(3):\n",
        "            date = str(rnd(2015,2020))+ '-' + str(rnd(1,12))+'-'+str(rnd(1,25))\n",
        "            writefile.write(data.format(rnd(10000,99999),date,fee[1]))\n",
        "\n",
        "\n",
        "genFiles(memReg,exReg)"
      ],
      "metadata": {
        "id": "UCeZv0kn2kfN"
      },
      "execution_count": 1,
      "outputs": []
    },
    {
      "cell_type": "code",
      "source": [
        "#Código para visualizar la estructura de los archivos\n",
        "with open(exReg, 'r+') as ex_members:\n",
        "    print(ex_members.read())\n",
        "with open(memReg, 'r+') as ex_members:\n",
        "    print(ex_members.read())"
      ],
      "metadata": {
        "colab": {
          "base_uri": "https://localhost:8080/"
        },
        "id": "I9ErNS632__j",
        "outputId": "63db31c7-e52d-4c57-8561-86304ec1ce18"
      },
      "execution_count": 2,
      "outputs": [
        {
          "output_type": "stream",
          "name": "stdout",
          "text": [
            "Membership No  Date Joined  Active  \n",
            "    11175      2016-11-19   no    \n",
            "    38199      2015-5-24    no    \n",
            "    54113      2019-12-8    no    \n",
            "\n",
            "Membership No  Date Joined  Active  \n",
            "    35232      2015-10-5    yes   \n",
            "    53901      2016-1-4     no    \n",
            "    46701      2019-8-1     no    \n",
            "    56470      2020-1-19    no    \n",
            "    96495      2019-8-9     no    \n",
            "    44640      2018-12-6    no    \n",
            "    22687      2019-6-12    yes   \n",
            "    27940      2019-7-12    no    \n",
            "    44882      2016-7-20    no    \n",
            "    30664      2019-1-16    no    \n",
            "    68158      2019-2-14    no    \n",
            "    18653      2018-8-1     yes   \n",
            "    75068      2017-11-20   no    \n",
            "    77639      2016-4-11    yes   \n",
            "    72624      2019-11-11   no    \n",
            "    32798      2019-10-10   no    \n",
            "    50643      2018-6-25    yes   \n",
            "    34423      2017-10-20   no    \n",
            "    43134      2017-5-11    no    \n",
            "    77375      2019-12-25   no    \n",
            "\n"
          ]
        }
      ]
    },
    {
      "cell_type": "code",
      "source": [
        "  \n",
        "'''\n",
        "Los dos argumentos para esta función son los archivos:\n",
        "    - currentMem: Archivo que contiene la lista de miembros actuales\n",
        "    - exMem: Archivo que contiene miembros antiguos\n",
        "    \n",
        "    Esta función debe remover todas las filas de currentMem que contienen 'no' \n",
        "    en la columna 'Active' y anexarlos a exMem.\n",
        "    '''\n",
        "def cleanFiles(currentMem, exMem):\n",
        "    # Abrir el archivo currentMen como r+\n",
        "    with open(currentMem, 'r+') as current_members:\n",
        "        #Abrir el archivo exMem como a+\n",
        "        with open(exMem, 'a+') as ex_members:\n",
        "\n",
        "        # Leer cada miembro en currentMem en una lista\n",
        "            current_list = current_members.readlines()\n",
        "            inactive = [] #Lista de miembros inactivos\n",
        "            active = [] #Lista de miembros activos\n",
        "        #Iterar a través de los miembros y crear lista de miembros inactivos y otra de activos\n",
        "            for element in current_list:\n",
        "                if element != current_list[0]:\n",
        "                    if 'no' in element:\n",
        "                        inactive.append(element)\n",
        "                    if 'yes' in element:\n",
        "                        active.append(element)\n",
        "        #Desplazarse al inicio del archivo de miembros actuales\n",
        "            current_members.seek(0,0)\n",
        "            header = ex_members.readline()\n",
        "            current_members.truncate() #Eliminar los datos previos para llenar el documento con los datos correctos\n",
        "        #Si un miembro es inactivo, agregarlo a exMem, en caso contrario añadirlo en currentMem\n",
        "            for i in inactive:\n",
        "                ex_members.write(i)\n",
        "            current_members.write(current_list[0])\n",
        "            for j in active:\n",
        "                current_members.write(j)\n",
        "\n",
        "\n",
        "# Código para visualizar los resultados\n",
        "# No modificar este código\n",
        "memReg = '/content/drive/MyDrive/archivos_para_colab/members.txt'\n",
        "exReg = '/content/drive/MyDrive/archivos_para_colab/inactive.txt'\n",
        "cleanFiles(memReg,exReg)\n",
        "\n",
        "\n",
        "headers = \"Membership No  Date Joined  Active  \\n\"\n",
        "with open(memReg,'r') as readFile:\n",
        "    print(\"Active Members: \\n\\n\")\n",
        "    print(readFile.read())\n",
        "    \n",
        "with open(exReg,'r') as readFile:\n",
        "    print(\"Inactive Members: \\n\\n\")\n",
        "    print(readFile.read())\n",
        "                "
      ],
      "metadata": {
        "colab": {
          "base_uri": "https://localhost:8080/"
        },
        "id": "imVNfB8C3cMo",
        "outputId": "09e8a447-7077-4813-e395-1f5244ff6b4b"
      },
      "execution_count": 3,
      "outputs": [
        {
          "output_type": "stream",
          "name": "stdout",
          "text": [
            "Active Members: \n",
            "\n",
            "\n",
            "Membership No  Date Joined  Active  \n",
            "    35232      2015-10-5    yes   \n",
            "    22687      2019-6-12    yes   \n",
            "    18653      2018-8-1     yes   \n",
            "    77639      2016-4-11    yes   \n",
            "    50643      2018-6-25    yes   \n",
            "\n",
            "Inactive Members: \n",
            "\n",
            "\n",
            "Membership No  Date Joined  Active  \n",
            "    11175      2016-11-19   no    \n",
            "    38199      2015-5-24    no    \n",
            "    54113      2019-12-8    no    \n",
            "    53901      2016-1-4     no    \n",
            "    46701      2019-8-1     no    \n",
            "    56470      2020-1-19    no    \n",
            "    96495      2019-8-9     no    \n",
            "    44640      2018-12-6    no    \n",
            "    27940      2019-7-12    no    \n",
            "    44882      2016-7-20    no    \n",
            "    30664      2019-1-16    no    \n",
            "    68158      2019-2-14    no    \n",
            "    75068      2017-11-20   no    \n",
            "    72624      2019-11-11   no    \n",
            "    32798      2019-10-10   no    \n",
            "    34423      2017-10-20   no    \n",
            "    43134      2017-5-11    no    \n",
            "    77375      2019-12-25   no    \n",
            "\n"
          ]
        }
      ]
    },
    {
      "cell_type": "code",
      "source": [
        "\n",
        "#Código copiado del lab para verificar que se resolvió adecuadamente el ejercicio\n",
        "def testMsg(passed):\n",
        "    if passed:\n",
        "       return 'Prueba aprobada'\n",
        "    else :\n",
        "       return 'Prueba fallada'\n",
        "\n",
        "testWrite = \"testWrite.txt\"\n",
        "testAppend = \"testAppend.txt\" \n",
        "passed = True\n",
        "\n",
        "genFiles(testWrite,testAppend)\n",
        "\n",
        "with open(testWrite,'r') as file:\n",
        "    ogWrite = file.readlines()\n",
        "\n",
        "with open(testAppend,'r') as file:\n",
        "    ogAppend = file.readlines()\n",
        "\n",
        "try:\n",
        "    cleanFiles(testWrite,testAppend)\n",
        "except:\n",
        "    print('Error')\n",
        "\n",
        "with open(testWrite,'r') as file:\n",
        "    clWrite = file.readlines()\n",
        "\n",
        "with open(testAppend,'r') as file:\n",
        "    clAppend = file.readlines()\n",
        "        \n",
        "# Verificando si el número total de filas es el mismo, incluso el encabezado\n",
        "\n",
        "if (len(ogWrite) + len(ogAppend) != len(clWrite) + len(clAppend)):\n",
        "    print(\"El número de filas no coincide. Asegúrate que los archivos finales tengan el mismo encabezado y formato\")\n",
        "    passed = False\n",
        "    \n",
        "for line in clWrite:\n",
        "    if  'no' in line:\n",
        "        passed = False\n",
        "        print(\"Miembros inactivos en archivo\")\n",
        "        break\n",
        "    else:\n",
        "        if line not in ogWrite:\n",
        "            print(\"Los datos en el archivo no coinciden con el archivo original\")\n",
        "            passed = False\n",
        "print (\"{}\".format(testMsg(passed)))"
      ],
      "metadata": {
        "colab": {
          "base_uri": "https://localhost:8080/"
        },
        "id": "ZMmnuzi_5tO-",
        "outputId": "be63783f-a7a5-40fa-a3eb-ea68903a96f4"
      },
      "execution_count": 4,
      "outputs": [
        {
          "output_type": "stream",
          "name": "stdout",
          "text": [
            "Prueba aprobada\n"
          ]
        }
      ]
    },
    {
      "cell_type": "markdown",
      "source": [
        "##Loading Data with Pandas"
      ],
      "metadata": {
        "id": "gwD2nneA6IjW"
      }
    },
    {
      "cell_type": "code",
      "source": [
        "#Pandas es una librería para análisis de datos\n",
        "#Para utilizar una librería es necesario importarla\n",
        "#Se puede utilizar la instrucción as para acortar el nombre de la librería\n",
        "import pandas as pd \n",
        "#Ahora se pueden utilizar las clases y funciones de dicha librería"
      ],
      "metadata": {
        "id": "KGucCXTP6OP4"
      },
      "execution_count": null,
      "outputs": []
    },
    {
      "cell_type": "code",
      "source": [
        "#Para cargar un archivo csv, se utiliza la función read_csv y la ruta del archivo\n",
        "df = pd.read_csv('/content/sample_data/california_housing_train.csv')\n",
        "#Una forma de trabajar con datos en pandas es a través de un data frame\n",
        "#Los datos se guardan en una variable como data frame"
      ],
      "metadata": {
        "id": "BC3CO23k64_f"
      },
      "execution_count": null,
      "outputs": []
    },
    {
      "cell_type": "code",
      "source": [
        "#El método head se utiliza para examinar las primeras 5 líneas de un data frame, si se le proporciona un parámetro, entonces mostrará las líneas indicadas\n",
        "#El proceso para cargar un archivo de excel es el mismo, solamente cambia la extensión del archivo\n",
        "df.head() #Un data frame está compuesto de filas y columnas"
      ],
      "metadata": {
        "colab": {
          "base_uri": "https://localhost:8080/",
          "height": 206
        },
        "id": "60mJHgNW74EV",
        "outputId": "0e99df01-3cfb-4cfd-e28a-279491bb7ca6"
      },
      "execution_count": null,
      "outputs": [
        {
          "output_type": "execute_result",
          "data": {
            "text/plain": [
              "   longitude  latitude  housing_median_age  total_rooms  total_bedrooms  \\\n",
              "0    -114.31     34.19                15.0       5612.0          1283.0   \n",
              "1    -114.47     34.40                19.0       7650.0          1901.0   \n",
              "2    -114.56     33.69                17.0        720.0           174.0   \n",
              "3    -114.57     33.64                14.0       1501.0           337.0   \n",
              "4    -114.57     33.57                20.0       1454.0           326.0   \n",
              "\n",
              "   population  households  median_income  median_house_value  \n",
              "0      1015.0       472.0         1.4936             66900.0  \n",
              "1      1129.0       463.0         1.8200             80100.0  \n",
              "2       333.0       117.0         1.6509             85700.0  \n",
              "3       515.0       226.0         3.1917             73400.0  \n",
              "4       624.0       262.0         1.9250             65500.0  "
            ],
            "text/html": [
              "\n",
              "  <div id=\"df-6be5425e-f2ae-4446-9cd8-52fbf6cdfb0e\">\n",
              "    <div class=\"colab-df-container\">\n",
              "      <div>\n",
              "<style scoped>\n",
              "    .dataframe tbody tr th:only-of-type {\n",
              "        vertical-align: middle;\n",
              "    }\n",
              "\n",
              "    .dataframe tbody tr th {\n",
              "        vertical-align: top;\n",
              "    }\n",
              "\n",
              "    .dataframe thead th {\n",
              "        text-align: right;\n",
              "    }\n",
              "</style>\n",
              "<table border=\"1\" class=\"dataframe\">\n",
              "  <thead>\n",
              "    <tr style=\"text-align: right;\">\n",
              "      <th></th>\n",
              "      <th>longitude</th>\n",
              "      <th>latitude</th>\n",
              "      <th>housing_median_age</th>\n",
              "      <th>total_rooms</th>\n",
              "      <th>total_bedrooms</th>\n",
              "      <th>population</th>\n",
              "      <th>households</th>\n",
              "      <th>median_income</th>\n",
              "      <th>median_house_value</th>\n",
              "    </tr>\n",
              "  </thead>\n",
              "  <tbody>\n",
              "    <tr>\n",
              "      <th>0</th>\n",
              "      <td>-114.31</td>\n",
              "      <td>34.19</td>\n",
              "      <td>15.0</td>\n",
              "      <td>5612.0</td>\n",
              "      <td>1283.0</td>\n",
              "      <td>1015.0</td>\n",
              "      <td>472.0</td>\n",
              "      <td>1.4936</td>\n",
              "      <td>66900.0</td>\n",
              "    </tr>\n",
              "    <tr>\n",
              "      <th>1</th>\n",
              "      <td>-114.47</td>\n",
              "      <td>34.40</td>\n",
              "      <td>19.0</td>\n",
              "      <td>7650.0</td>\n",
              "      <td>1901.0</td>\n",
              "      <td>1129.0</td>\n",
              "      <td>463.0</td>\n",
              "      <td>1.8200</td>\n",
              "      <td>80100.0</td>\n",
              "    </tr>\n",
              "    <tr>\n",
              "      <th>2</th>\n",
              "      <td>-114.56</td>\n",
              "      <td>33.69</td>\n",
              "      <td>17.0</td>\n",
              "      <td>720.0</td>\n",
              "      <td>174.0</td>\n",
              "      <td>333.0</td>\n",
              "      <td>117.0</td>\n",
              "      <td>1.6509</td>\n",
              "      <td>85700.0</td>\n",
              "    </tr>\n",
              "    <tr>\n",
              "      <th>3</th>\n",
              "      <td>-114.57</td>\n",
              "      <td>33.64</td>\n",
              "      <td>14.0</td>\n",
              "      <td>1501.0</td>\n",
              "      <td>337.0</td>\n",
              "      <td>515.0</td>\n",
              "      <td>226.0</td>\n",
              "      <td>3.1917</td>\n",
              "      <td>73400.0</td>\n",
              "    </tr>\n",
              "    <tr>\n",
              "      <th>4</th>\n",
              "      <td>-114.57</td>\n",
              "      <td>33.57</td>\n",
              "      <td>20.0</td>\n",
              "      <td>1454.0</td>\n",
              "      <td>326.0</td>\n",
              "      <td>624.0</td>\n",
              "      <td>262.0</td>\n",
              "      <td>1.9250</td>\n",
              "      <td>65500.0</td>\n",
              "    </tr>\n",
              "  </tbody>\n",
              "</table>\n",
              "</div>\n",
              "      <button class=\"colab-df-convert\" onclick=\"convertToInteractive('df-6be5425e-f2ae-4446-9cd8-52fbf6cdfb0e')\"\n",
              "              title=\"Convert this dataframe to an interactive table.\"\n",
              "              style=\"display:none;\">\n",
              "        \n",
              "  <svg xmlns=\"http://www.w3.org/2000/svg\" height=\"24px\"viewBox=\"0 0 24 24\"\n",
              "       width=\"24px\">\n",
              "    <path d=\"M0 0h24v24H0V0z\" fill=\"none\"/>\n",
              "    <path d=\"M18.56 5.44l.94 2.06.94-2.06 2.06-.94-2.06-.94-.94-2.06-.94 2.06-2.06.94zm-11 1L8.5 8.5l.94-2.06 2.06-.94-2.06-.94L8.5 2.5l-.94 2.06-2.06.94zm10 10l.94 2.06.94-2.06 2.06-.94-2.06-.94-.94-2.06-.94 2.06-2.06.94z\"/><path d=\"M17.41 7.96l-1.37-1.37c-.4-.4-.92-.59-1.43-.59-.52 0-1.04.2-1.43.59L10.3 9.45l-7.72 7.72c-.78.78-.78 2.05 0 2.83L4 21.41c.39.39.9.59 1.41.59.51 0 1.02-.2 1.41-.59l7.78-7.78 2.81-2.81c.8-.78.8-2.07 0-2.86zM5.41 20L4 18.59l7.72-7.72 1.47 1.35L5.41 20z\"/>\n",
              "  </svg>\n",
              "      </button>\n",
              "      \n",
              "  <style>\n",
              "    .colab-df-container {\n",
              "      display:flex;\n",
              "      flex-wrap:wrap;\n",
              "      gap: 12px;\n",
              "    }\n",
              "\n",
              "    .colab-df-convert {\n",
              "      background-color: #E8F0FE;\n",
              "      border: none;\n",
              "      border-radius: 50%;\n",
              "      cursor: pointer;\n",
              "      display: none;\n",
              "      fill: #1967D2;\n",
              "      height: 32px;\n",
              "      padding: 0 0 0 0;\n",
              "      width: 32px;\n",
              "    }\n",
              "\n",
              "    .colab-df-convert:hover {\n",
              "      background-color: #E2EBFA;\n",
              "      box-shadow: 0px 1px 2px rgba(60, 64, 67, 0.3), 0px 1px 3px 1px rgba(60, 64, 67, 0.15);\n",
              "      fill: #174EA6;\n",
              "    }\n",
              "\n",
              "    [theme=dark] .colab-df-convert {\n",
              "      background-color: #3B4455;\n",
              "      fill: #D2E3FC;\n",
              "    }\n",
              "\n",
              "    [theme=dark] .colab-df-convert:hover {\n",
              "      background-color: #434B5C;\n",
              "      box-shadow: 0px 1px 3px 1px rgba(0, 0, 0, 0.15);\n",
              "      filter: drop-shadow(0px 1px 2px rgba(0, 0, 0, 0.3));\n",
              "      fill: #FFFFFF;\n",
              "    }\n",
              "  </style>\n",
              "\n",
              "      <script>\n",
              "        const buttonEl =\n",
              "          document.querySelector('#df-6be5425e-f2ae-4446-9cd8-52fbf6cdfb0e button.colab-df-convert');\n",
              "        buttonEl.style.display =\n",
              "          google.colab.kernel.accessAllowed ? 'block' : 'none';\n",
              "\n",
              "        async function convertToInteractive(key) {\n",
              "          const element = document.querySelector('#df-6be5425e-f2ae-4446-9cd8-52fbf6cdfb0e');\n",
              "          const dataTable =\n",
              "            await google.colab.kernel.invokeFunction('convertToInteractive',\n",
              "                                                     [key], {});\n",
              "          if (!dataTable) return;\n",
              "\n",
              "          const docLinkHtml = 'Like what you see? Visit the ' +\n",
              "            '<a target=\"_blank\" href=https://colab.research.google.com/notebooks/data_table.ipynb>data table notebook</a>'\n",
              "            + ' to learn more about interactive tables.';\n",
              "          element.innerHTML = '';\n",
              "          dataTable['output_type'] = 'display_data';\n",
              "          await google.colab.output.renderOutput(dataTable, element);\n",
              "          const docLink = document.createElement('div');\n",
              "          docLink.innerHTML = docLinkHtml;\n",
              "          element.appendChild(docLink);\n",
              "        }\n",
              "      </script>\n",
              "    </div>\n",
              "  </div>\n",
              "  "
            ]
          },
          "metadata": {},
          "execution_count": 9
        }
      ]
    },
    {
      "cell_type": "code",
      "source": [
        "#Se puede crear un data frame a partir de un diccionario\n",
        "songs = {'Album': ['Thriller', 'Back in Black', 'The Dark Side of the Moon',\n",
        "          'The Bodyguard', 'Bat Out of Hell'],\n",
        "          'Released':[1982, 1980, 1973, 1992, 1977],\n",
        "         'Length': ['00:42:19', '00:42:11', '00:42:49', '00:57:44', '00:46:33']}\n",
        "songs_frame = pd.DataFrame(songs)\n",
        "#Las keys del diccionario corresponden a los encabezados y los valores corresponden a las filas\n",
        "songs_frame.head()"
      ],
      "metadata": {
        "colab": {
          "base_uri": "https://localhost:8080/",
          "height": 206
        },
        "id": "0YCSHF6h7_bL",
        "outputId": "d52e467a-fac4-411a-a0c5-5124d5dff747"
      },
      "execution_count": null,
      "outputs": [
        {
          "output_type": "execute_result",
          "data": {
            "text/plain": [
              "                       Album  Released    Length\n",
              "0                   Thriller      1982  00:42:19\n",
              "1              Back in Black      1980  00:42:11\n",
              "2  The Dark Side of the Moon      1973  00:42:49\n",
              "3              The Bodyguard      1992  00:57:44\n",
              "4            Bat Out of Hell      1977  00:46:33"
            ],
            "text/html": [
              "\n",
              "  <div id=\"df-c846e109-2b6c-4d59-b73d-8caab9524d42\">\n",
              "    <div class=\"colab-df-container\">\n",
              "      <div>\n",
              "<style scoped>\n",
              "    .dataframe tbody tr th:only-of-type {\n",
              "        vertical-align: middle;\n",
              "    }\n",
              "\n",
              "    .dataframe tbody tr th {\n",
              "        vertical-align: top;\n",
              "    }\n",
              "\n",
              "    .dataframe thead th {\n",
              "        text-align: right;\n",
              "    }\n",
              "</style>\n",
              "<table border=\"1\" class=\"dataframe\">\n",
              "  <thead>\n",
              "    <tr style=\"text-align: right;\">\n",
              "      <th></th>\n",
              "      <th>Album</th>\n",
              "      <th>Released</th>\n",
              "      <th>Length</th>\n",
              "    </tr>\n",
              "  </thead>\n",
              "  <tbody>\n",
              "    <tr>\n",
              "      <th>0</th>\n",
              "      <td>Thriller</td>\n",
              "      <td>1982</td>\n",
              "      <td>00:42:19</td>\n",
              "    </tr>\n",
              "    <tr>\n",
              "      <th>1</th>\n",
              "      <td>Back in Black</td>\n",
              "      <td>1980</td>\n",
              "      <td>00:42:11</td>\n",
              "    </tr>\n",
              "    <tr>\n",
              "      <th>2</th>\n",
              "      <td>The Dark Side of the Moon</td>\n",
              "      <td>1973</td>\n",
              "      <td>00:42:49</td>\n",
              "    </tr>\n",
              "    <tr>\n",
              "      <th>3</th>\n",
              "      <td>The Bodyguard</td>\n",
              "      <td>1992</td>\n",
              "      <td>00:57:44</td>\n",
              "    </tr>\n",
              "    <tr>\n",
              "      <th>4</th>\n",
              "      <td>Bat Out of Hell</td>\n",
              "      <td>1977</td>\n",
              "      <td>00:46:33</td>\n",
              "    </tr>\n",
              "  </tbody>\n",
              "</table>\n",
              "</div>\n",
              "      <button class=\"colab-df-convert\" onclick=\"convertToInteractive('df-c846e109-2b6c-4d59-b73d-8caab9524d42')\"\n",
              "              title=\"Convert this dataframe to an interactive table.\"\n",
              "              style=\"display:none;\">\n",
              "        \n",
              "  <svg xmlns=\"http://www.w3.org/2000/svg\" height=\"24px\"viewBox=\"0 0 24 24\"\n",
              "       width=\"24px\">\n",
              "    <path d=\"M0 0h24v24H0V0z\" fill=\"none\"/>\n",
              "    <path d=\"M18.56 5.44l.94 2.06.94-2.06 2.06-.94-2.06-.94-.94-2.06-.94 2.06-2.06.94zm-11 1L8.5 8.5l.94-2.06 2.06-.94-2.06-.94L8.5 2.5l-.94 2.06-2.06.94zm10 10l.94 2.06.94-2.06 2.06-.94-2.06-.94-.94-2.06-.94 2.06-2.06.94z\"/><path d=\"M17.41 7.96l-1.37-1.37c-.4-.4-.92-.59-1.43-.59-.52 0-1.04.2-1.43.59L10.3 9.45l-7.72 7.72c-.78.78-.78 2.05 0 2.83L4 21.41c.39.39.9.59 1.41.59.51 0 1.02-.2 1.41-.59l7.78-7.78 2.81-2.81c.8-.78.8-2.07 0-2.86zM5.41 20L4 18.59l7.72-7.72 1.47 1.35L5.41 20z\"/>\n",
              "  </svg>\n",
              "      </button>\n",
              "      \n",
              "  <style>\n",
              "    .colab-df-container {\n",
              "      display:flex;\n",
              "      flex-wrap:wrap;\n",
              "      gap: 12px;\n",
              "    }\n",
              "\n",
              "    .colab-df-convert {\n",
              "      background-color: #E8F0FE;\n",
              "      border: none;\n",
              "      border-radius: 50%;\n",
              "      cursor: pointer;\n",
              "      display: none;\n",
              "      fill: #1967D2;\n",
              "      height: 32px;\n",
              "      padding: 0 0 0 0;\n",
              "      width: 32px;\n",
              "    }\n",
              "\n",
              "    .colab-df-convert:hover {\n",
              "      background-color: #E2EBFA;\n",
              "      box-shadow: 0px 1px 2px rgba(60, 64, 67, 0.3), 0px 1px 3px 1px rgba(60, 64, 67, 0.15);\n",
              "      fill: #174EA6;\n",
              "    }\n",
              "\n",
              "    [theme=dark] .colab-df-convert {\n",
              "      background-color: #3B4455;\n",
              "      fill: #D2E3FC;\n",
              "    }\n",
              "\n",
              "    [theme=dark] .colab-df-convert:hover {\n",
              "      background-color: #434B5C;\n",
              "      box-shadow: 0px 1px 3px 1px rgba(0, 0, 0, 0.15);\n",
              "      filter: drop-shadow(0px 1px 2px rgba(0, 0, 0, 0.3));\n",
              "      fill: #FFFFFF;\n",
              "    }\n",
              "  </style>\n",
              "\n",
              "      <script>\n",
              "        const buttonEl =\n",
              "          document.querySelector('#df-c846e109-2b6c-4d59-b73d-8caab9524d42 button.colab-df-convert');\n",
              "        buttonEl.style.display =\n",
              "          google.colab.kernel.accessAllowed ? 'block' : 'none';\n",
              "\n",
              "        async function convertToInteractive(key) {\n",
              "          const element = document.querySelector('#df-c846e109-2b6c-4d59-b73d-8caab9524d42');\n",
              "          const dataTable =\n",
              "            await google.colab.kernel.invokeFunction('convertToInteractive',\n",
              "                                                     [key], {});\n",
              "          if (!dataTable) return;\n",
              "\n",
              "          const docLinkHtml = 'Like what you see? Visit the ' +\n",
              "            '<a target=\"_blank\" href=https://colab.research.google.com/notebooks/data_table.ipynb>data table notebook</a>'\n",
              "            + ' to learn more about interactive tables.';\n",
              "          element.innerHTML = '';\n",
              "          dataTable['output_type'] = 'display_data';\n",
              "          await google.colab.output.renderOutput(dataTable, element);\n",
              "          const docLink = document.createElement('div');\n",
              "          docLink.innerHTML = docLinkHtml;\n",
              "          element.appendChild(docLink);\n",
              "        }\n",
              "      </script>\n",
              "    </div>\n",
              "  </div>\n",
              "  "
            ]
          },
          "metadata": {},
          "execution_count": 11
        }
      ]
    },
    {
      "cell_type": "code",
      "source": [
        "#Crear data frame a partir de una sola columna\n",
        "df1 = songs_frame[['Album']]\n",
        "df1.head()"
      ],
      "metadata": {
        "colab": {
          "base_uri": "https://localhost:8080/",
          "height": 206
        },
        "id": "dafyHZ0x9kzP",
        "outputId": "52ffa2c4-b76d-4fdc-c605-966036ab4739"
      },
      "execution_count": null,
      "outputs": [
        {
          "output_type": "execute_result",
          "data": {
            "text/plain": [
              "                       Album\n",
              "0                   Thriller\n",
              "1              Back in Black\n",
              "2  The Dark Side of the Moon\n",
              "3              The Bodyguard\n",
              "4            Bat Out of Hell"
            ],
            "text/html": [
              "\n",
              "  <div id=\"df-1815f5f7-8dba-48de-bc79-e40a989e383c\">\n",
              "    <div class=\"colab-df-container\">\n",
              "      <div>\n",
              "<style scoped>\n",
              "    .dataframe tbody tr th:only-of-type {\n",
              "        vertical-align: middle;\n",
              "    }\n",
              "\n",
              "    .dataframe tbody tr th {\n",
              "        vertical-align: top;\n",
              "    }\n",
              "\n",
              "    .dataframe thead th {\n",
              "        text-align: right;\n",
              "    }\n",
              "</style>\n",
              "<table border=\"1\" class=\"dataframe\">\n",
              "  <thead>\n",
              "    <tr style=\"text-align: right;\">\n",
              "      <th></th>\n",
              "      <th>Album</th>\n",
              "    </tr>\n",
              "  </thead>\n",
              "  <tbody>\n",
              "    <tr>\n",
              "      <th>0</th>\n",
              "      <td>Thriller</td>\n",
              "    </tr>\n",
              "    <tr>\n",
              "      <th>1</th>\n",
              "      <td>Back in Black</td>\n",
              "    </tr>\n",
              "    <tr>\n",
              "      <th>2</th>\n",
              "      <td>The Dark Side of the Moon</td>\n",
              "    </tr>\n",
              "    <tr>\n",
              "      <th>3</th>\n",
              "      <td>The Bodyguard</td>\n",
              "    </tr>\n",
              "    <tr>\n",
              "      <th>4</th>\n",
              "      <td>Bat Out of Hell</td>\n",
              "    </tr>\n",
              "  </tbody>\n",
              "</table>\n",
              "</div>\n",
              "      <button class=\"colab-df-convert\" onclick=\"convertToInteractive('df-1815f5f7-8dba-48de-bc79-e40a989e383c')\"\n",
              "              title=\"Convert this dataframe to an interactive table.\"\n",
              "              style=\"display:none;\">\n",
              "        \n",
              "  <svg xmlns=\"http://www.w3.org/2000/svg\" height=\"24px\"viewBox=\"0 0 24 24\"\n",
              "       width=\"24px\">\n",
              "    <path d=\"M0 0h24v24H0V0z\" fill=\"none\"/>\n",
              "    <path d=\"M18.56 5.44l.94 2.06.94-2.06 2.06-.94-2.06-.94-.94-2.06-.94 2.06-2.06.94zm-11 1L8.5 8.5l.94-2.06 2.06-.94-2.06-.94L8.5 2.5l-.94 2.06-2.06.94zm10 10l.94 2.06.94-2.06 2.06-.94-2.06-.94-.94-2.06-.94 2.06-2.06.94z\"/><path d=\"M17.41 7.96l-1.37-1.37c-.4-.4-.92-.59-1.43-.59-.52 0-1.04.2-1.43.59L10.3 9.45l-7.72 7.72c-.78.78-.78 2.05 0 2.83L4 21.41c.39.39.9.59 1.41.59.51 0 1.02-.2 1.41-.59l7.78-7.78 2.81-2.81c.8-.78.8-2.07 0-2.86zM5.41 20L4 18.59l7.72-7.72 1.47 1.35L5.41 20z\"/>\n",
              "  </svg>\n",
              "      </button>\n",
              "      \n",
              "  <style>\n",
              "    .colab-df-container {\n",
              "      display:flex;\n",
              "      flex-wrap:wrap;\n",
              "      gap: 12px;\n",
              "    }\n",
              "\n",
              "    .colab-df-convert {\n",
              "      background-color: #E8F0FE;\n",
              "      border: none;\n",
              "      border-radius: 50%;\n",
              "      cursor: pointer;\n",
              "      display: none;\n",
              "      fill: #1967D2;\n",
              "      height: 32px;\n",
              "      padding: 0 0 0 0;\n",
              "      width: 32px;\n",
              "    }\n",
              "\n",
              "    .colab-df-convert:hover {\n",
              "      background-color: #E2EBFA;\n",
              "      box-shadow: 0px 1px 2px rgba(60, 64, 67, 0.3), 0px 1px 3px 1px rgba(60, 64, 67, 0.15);\n",
              "      fill: #174EA6;\n",
              "    }\n",
              "\n",
              "    [theme=dark] .colab-df-convert {\n",
              "      background-color: #3B4455;\n",
              "      fill: #D2E3FC;\n",
              "    }\n",
              "\n",
              "    [theme=dark] .colab-df-convert:hover {\n",
              "      background-color: #434B5C;\n",
              "      box-shadow: 0px 1px 3px 1px rgba(0, 0, 0, 0.15);\n",
              "      filter: drop-shadow(0px 1px 2px rgba(0, 0, 0, 0.3));\n",
              "      fill: #FFFFFF;\n",
              "    }\n",
              "  </style>\n",
              "\n",
              "      <script>\n",
              "        const buttonEl =\n",
              "          document.querySelector('#df-1815f5f7-8dba-48de-bc79-e40a989e383c button.colab-df-convert');\n",
              "        buttonEl.style.display =\n",
              "          google.colab.kernel.accessAllowed ? 'block' : 'none';\n",
              "\n",
              "        async function convertToInteractive(key) {\n",
              "          const element = document.querySelector('#df-1815f5f7-8dba-48de-bc79-e40a989e383c');\n",
              "          const dataTable =\n",
              "            await google.colab.kernel.invokeFunction('convertToInteractive',\n",
              "                                                     [key], {});\n",
              "          if (!dataTable) return;\n",
              "\n",
              "          const docLinkHtml = 'Like what you see? Visit the ' +\n",
              "            '<a target=\"_blank\" href=https://colab.research.google.com/notebooks/data_table.ipynb>data table notebook</a>'\n",
              "            + ' to learn more about interactive tables.';\n",
              "          element.innerHTML = '';\n",
              "          dataTable['output_type'] = 'display_data';\n",
              "          await google.colab.output.renderOutput(dataTable, element);\n",
              "          const docLink = document.createElement('div');\n",
              "          docLink.innerHTML = docLinkHtml;\n",
              "          element.appendChild(docLink);\n",
              "        }\n",
              "      </script>\n",
              "    </div>\n",
              "  </div>\n",
              "  "
            ]
          },
          "metadata": {},
          "execution_count": 12
        }
      ]
    },
    {
      "cell_type": "code",
      "source": [
        "#Crear data frame a partir de múltiples columnas\n",
        "df2 = songs_frame[['Album', 'Length']]\n",
        "df2.head()"
      ],
      "metadata": {
        "colab": {
          "base_uri": "https://localhost:8080/",
          "height": 206
        },
        "id": "LSZ0oiww-Omm",
        "outputId": "259c47c9-3546-4ce2-b386-9e333190640e"
      },
      "execution_count": null,
      "outputs": [
        {
          "output_type": "execute_result",
          "data": {
            "text/plain": [
              "                       Album    Length\n",
              "0                   Thriller  00:42:19\n",
              "1              Back in Black  00:42:11\n",
              "2  The Dark Side of the Moon  00:42:49\n",
              "3              The Bodyguard  00:57:44\n",
              "4            Bat Out of Hell  00:46:33"
            ],
            "text/html": [
              "\n",
              "  <div id=\"df-b38b8959-1b38-445c-a2ad-624d8406d988\">\n",
              "    <div class=\"colab-df-container\">\n",
              "      <div>\n",
              "<style scoped>\n",
              "    .dataframe tbody tr th:only-of-type {\n",
              "        vertical-align: middle;\n",
              "    }\n",
              "\n",
              "    .dataframe tbody tr th {\n",
              "        vertical-align: top;\n",
              "    }\n",
              "\n",
              "    .dataframe thead th {\n",
              "        text-align: right;\n",
              "    }\n",
              "</style>\n",
              "<table border=\"1\" class=\"dataframe\">\n",
              "  <thead>\n",
              "    <tr style=\"text-align: right;\">\n",
              "      <th></th>\n",
              "      <th>Album</th>\n",
              "      <th>Length</th>\n",
              "    </tr>\n",
              "  </thead>\n",
              "  <tbody>\n",
              "    <tr>\n",
              "      <th>0</th>\n",
              "      <td>Thriller</td>\n",
              "      <td>00:42:19</td>\n",
              "    </tr>\n",
              "    <tr>\n",
              "      <th>1</th>\n",
              "      <td>Back in Black</td>\n",
              "      <td>00:42:11</td>\n",
              "    </tr>\n",
              "    <tr>\n",
              "      <th>2</th>\n",
              "      <td>The Dark Side of the Moon</td>\n",
              "      <td>00:42:49</td>\n",
              "    </tr>\n",
              "    <tr>\n",
              "      <th>3</th>\n",
              "      <td>The Bodyguard</td>\n",
              "      <td>00:57:44</td>\n",
              "    </tr>\n",
              "    <tr>\n",
              "      <th>4</th>\n",
              "      <td>Bat Out of Hell</td>\n",
              "      <td>00:46:33</td>\n",
              "    </tr>\n",
              "  </tbody>\n",
              "</table>\n",
              "</div>\n",
              "      <button class=\"colab-df-convert\" onclick=\"convertToInteractive('df-b38b8959-1b38-445c-a2ad-624d8406d988')\"\n",
              "              title=\"Convert this dataframe to an interactive table.\"\n",
              "              style=\"display:none;\">\n",
              "        \n",
              "  <svg xmlns=\"http://www.w3.org/2000/svg\" height=\"24px\"viewBox=\"0 0 24 24\"\n",
              "       width=\"24px\">\n",
              "    <path d=\"M0 0h24v24H0V0z\" fill=\"none\"/>\n",
              "    <path d=\"M18.56 5.44l.94 2.06.94-2.06 2.06-.94-2.06-.94-.94-2.06-.94 2.06-2.06.94zm-11 1L8.5 8.5l.94-2.06 2.06-.94-2.06-.94L8.5 2.5l-.94 2.06-2.06.94zm10 10l.94 2.06.94-2.06 2.06-.94-2.06-.94-.94-2.06-.94 2.06-2.06.94z\"/><path d=\"M17.41 7.96l-1.37-1.37c-.4-.4-.92-.59-1.43-.59-.52 0-1.04.2-1.43.59L10.3 9.45l-7.72 7.72c-.78.78-.78 2.05 0 2.83L4 21.41c.39.39.9.59 1.41.59.51 0 1.02-.2 1.41-.59l7.78-7.78 2.81-2.81c.8-.78.8-2.07 0-2.86zM5.41 20L4 18.59l7.72-7.72 1.47 1.35L5.41 20z\"/>\n",
              "  </svg>\n",
              "      </button>\n",
              "      \n",
              "  <style>\n",
              "    .colab-df-container {\n",
              "      display:flex;\n",
              "      flex-wrap:wrap;\n",
              "      gap: 12px;\n",
              "    }\n",
              "\n",
              "    .colab-df-convert {\n",
              "      background-color: #E8F0FE;\n",
              "      border: none;\n",
              "      border-radius: 50%;\n",
              "      cursor: pointer;\n",
              "      display: none;\n",
              "      fill: #1967D2;\n",
              "      height: 32px;\n",
              "      padding: 0 0 0 0;\n",
              "      width: 32px;\n",
              "    }\n",
              "\n",
              "    .colab-df-convert:hover {\n",
              "      background-color: #E2EBFA;\n",
              "      box-shadow: 0px 1px 2px rgba(60, 64, 67, 0.3), 0px 1px 3px 1px rgba(60, 64, 67, 0.15);\n",
              "      fill: #174EA6;\n",
              "    }\n",
              "\n",
              "    [theme=dark] .colab-df-convert {\n",
              "      background-color: #3B4455;\n",
              "      fill: #D2E3FC;\n",
              "    }\n",
              "\n",
              "    [theme=dark] .colab-df-convert:hover {\n",
              "      background-color: #434B5C;\n",
              "      box-shadow: 0px 1px 3px 1px rgba(0, 0, 0, 0.15);\n",
              "      filter: drop-shadow(0px 1px 2px rgba(0, 0, 0, 0.3));\n",
              "      fill: #FFFFFF;\n",
              "    }\n",
              "  </style>\n",
              "\n",
              "      <script>\n",
              "        const buttonEl =\n",
              "          document.querySelector('#df-b38b8959-1b38-445c-a2ad-624d8406d988 button.colab-df-convert');\n",
              "        buttonEl.style.display =\n",
              "          google.colab.kernel.accessAllowed ? 'block' : 'none';\n",
              "\n",
              "        async function convertToInteractive(key) {\n",
              "          const element = document.querySelector('#df-b38b8959-1b38-445c-a2ad-624d8406d988');\n",
              "          const dataTable =\n",
              "            await google.colab.kernel.invokeFunction('convertToInteractive',\n",
              "                                                     [key], {});\n",
              "          if (!dataTable) return;\n",
              "\n",
              "          const docLinkHtml = 'Like what you see? Visit the ' +\n",
              "            '<a target=\"_blank\" href=https://colab.research.google.com/notebooks/data_table.ipynb>data table notebook</a>'\n",
              "            + ' to learn more about interactive tables.';\n",
              "          element.innerHTML = '';\n",
              "          dataTable['output_type'] = 'display_data';\n",
              "          await google.colab.output.renderOutput(dataTable, element);\n",
              "          const docLink = document.createElement('div');\n",
              "          docLink.innerHTML = docLinkHtml;\n",
              "          element.appendChild(docLink);\n",
              "        }\n",
              "      </script>\n",
              "    </div>\n",
              "  </div>\n",
              "  "
            ]
          },
          "metadata": {},
          "execution_count": 13
        }
      ]
    },
    {
      "cell_type": "code",
      "source": [
        "#El método iloc funciona para obtener elementos únicos del data frame\n",
        "songs_frame.iloc[0,0]"
      ],
      "metadata": {
        "colab": {
          "base_uri": "https://localhost:8080/",
          "height": 35
        },
        "id": "2wZQGhiw-hLr",
        "outputId": "2b84d25b-2e6d-486f-9f9e-d662482062d3"
      },
      "execution_count": null,
      "outputs": [
        {
          "output_type": "execute_result",
          "data": {
            "text/plain": [
              "'Thriller'"
            ],
            "application/vnd.google.colaboratory.intrinsic+json": {
              "type": "string"
            }
          },
          "metadata": {},
          "execution_count": 18
        }
      ]
    },
    {
      "cell_type": "code",
      "source": [
        "#El método ix no se utiliza más, por lo tanto, ahora se utilizan los métodos iloc y loc para cumplir con las funciones de ix\n",
        "songs_frame.loc[1,'Album']"
      ],
      "metadata": {
        "colab": {
          "base_uri": "https://localhost:8080/",
          "height": 35
        },
        "id": "hb6jB2Im-5fU",
        "outputId": "057baaab-ce68-4dae-93e7-c6f19cb98186"
      },
      "execution_count": null,
      "outputs": [
        {
          "output_type": "execute_result",
          "data": {
            "text/plain": [
              "'Back in Black'"
            ],
            "application/vnd.google.colaboratory.intrinsic+json": {
              "type": "string"
            }
          },
          "metadata": {},
          "execution_count": 20
        }
      ]
    },
    {
      "cell_type": "code",
      "source": [
        "#Forma de obtener una parte del data frame y guardarla en otra variable\n",
        "#Se puede realizar con slicing\n",
        "z = songs_frame.iloc[0:1,0:2]\n",
        "z.head()"
      ],
      "metadata": {
        "colab": {
          "base_uri": "https://localhost:8080/",
          "height": 81
        },
        "id": "E9LmumBKAPHL",
        "outputId": "4297689b-a84c-4817-f33d-185e7849a60c"
      },
      "execution_count": null,
      "outputs": [
        {
          "output_type": "execute_result",
          "data": {
            "text/plain": [
              "      Album  Released\n",
              "0  Thriller      1982"
            ],
            "text/html": [
              "\n",
              "  <div id=\"df-921e0ab6-d627-43b0-b1d4-4ede3f4a1ac3\">\n",
              "    <div class=\"colab-df-container\">\n",
              "      <div>\n",
              "<style scoped>\n",
              "    .dataframe tbody tr th:only-of-type {\n",
              "        vertical-align: middle;\n",
              "    }\n",
              "\n",
              "    .dataframe tbody tr th {\n",
              "        vertical-align: top;\n",
              "    }\n",
              "\n",
              "    .dataframe thead th {\n",
              "        text-align: right;\n",
              "    }\n",
              "</style>\n",
              "<table border=\"1\" class=\"dataframe\">\n",
              "  <thead>\n",
              "    <tr style=\"text-align: right;\">\n",
              "      <th></th>\n",
              "      <th>Album</th>\n",
              "      <th>Released</th>\n",
              "    </tr>\n",
              "  </thead>\n",
              "  <tbody>\n",
              "    <tr>\n",
              "      <th>0</th>\n",
              "      <td>Thriller</td>\n",
              "      <td>1982</td>\n",
              "    </tr>\n",
              "  </tbody>\n",
              "</table>\n",
              "</div>\n",
              "      <button class=\"colab-df-convert\" onclick=\"convertToInteractive('df-921e0ab6-d627-43b0-b1d4-4ede3f4a1ac3')\"\n",
              "              title=\"Convert this dataframe to an interactive table.\"\n",
              "              style=\"display:none;\">\n",
              "        \n",
              "  <svg xmlns=\"http://www.w3.org/2000/svg\" height=\"24px\"viewBox=\"0 0 24 24\"\n",
              "       width=\"24px\">\n",
              "    <path d=\"M0 0h24v24H0V0z\" fill=\"none\"/>\n",
              "    <path d=\"M18.56 5.44l.94 2.06.94-2.06 2.06-.94-2.06-.94-.94-2.06-.94 2.06-2.06.94zm-11 1L8.5 8.5l.94-2.06 2.06-.94-2.06-.94L8.5 2.5l-.94 2.06-2.06.94zm10 10l.94 2.06.94-2.06 2.06-.94-2.06-.94-.94-2.06-.94 2.06-2.06.94z\"/><path d=\"M17.41 7.96l-1.37-1.37c-.4-.4-.92-.59-1.43-.59-.52 0-1.04.2-1.43.59L10.3 9.45l-7.72 7.72c-.78.78-.78 2.05 0 2.83L4 21.41c.39.39.9.59 1.41.59.51 0 1.02-.2 1.41-.59l7.78-7.78 2.81-2.81c.8-.78.8-2.07 0-2.86zM5.41 20L4 18.59l7.72-7.72 1.47 1.35L5.41 20z\"/>\n",
              "  </svg>\n",
              "      </button>\n",
              "      \n",
              "  <style>\n",
              "    .colab-df-container {\n",
              "      display:flex;\n",
              "      flex-wrap:wrap;\n",
              "      gap: 12px;\n",
              "    }\n",
              "\n",
              "    .colab-df-convert {\n",
              "      background-color: #E8F0FE;\n",
              "      border: none;\n",
              "      border-radius: 50%;\n",
              "      cursor: pointer;\n",
              "      display: none;\n",
              "      fill: #1967D2;\n",
              "      height: 32px;\n",
              "      padding: 0 0 0 0;\n",
              "      width: 32px;\n",
              "    }\n",
              "\n",
              "    .colab-df-convert:hover {\n",
              "      background-color: #E2EBFA;\n",
              "      box-shadow: 0px 1px 2px rgba(60, 64, 67, 0.3), 0px 1px 3px 1px rgba(60, 64, 67, 0.15);\n",
              "      fill: #174EA6;\n",
              "    }\n",
              "\n",
              "    [theme=dark] .colab-df-convert {\n",
              "      background-color: #3B4455;\n",
              "      fill: #D2E3FC;\n",
              "    }\n",
              "\n",
              "    [theme=dark] .colab-df-convert:hover {\n",
              "      background-color: #434B5C;\n",
              "      box-shadow: 0px 1px 3px 1px rgba(0, 0, 0, 0.15);\n",
              "      filter: drop-shadow(0px 1px 2px rgba(0, 0, 0, 0.3));\n",
              "      fill: #FFFFFF;\n",
              "    }\n",
              "  </style>\n",
              "\n",
              "      <script>\n",
              "        const buttonEl =\n",
              "          document.querySelector('#df-921e0ab6-d627-43b0-b1d4-4ede3f4a1ac3 button.colab-df-convert');\n",
              "        buttonEl.style.display =\n",
              "          google.colab.kernel.accessAllowed ? 'block' : 'none';\n",
              "\n",
              "        async function convertToInteractive(key) {\n",
              "          const element = document.querySelector('#df-921e0ab6-d627-43b0-b1d4-4ede3f4a1ac3');\n",
              "          const dataTable =\n",
              "            await google.colab.kernel.invokeFunction('convertToInteractive',\n",
              "                                                     [key], {});\n",
              "          if (!dataTable) return;\n",
              "\n",
              "          const docLinkHtml = 'Like what you see? Visit the ' +\n",
              "            '<a target=\"_blank\" href=https://colab.research.google.com/notebooks/data_table.ipynb>data table notebook</a>'\n",
              "            + ' to learn more about interactive tables.';\n",
              "          element.innerHTML = '';\n",
              "          dataTable['output_type'] = 'display_data';\n",
              "          await google.colab.output.renderOutput(dataTable, element);\n",
              "          const docLink = document.createElement('div');\n",
              "          docLink.innerHTML = docLinkHtml;\n",
              "          element.appendChild(docLink);\n",
              "        }\n",
              "      </script>\n",
              "    </div>\n",
              "  </div>\n",
              "  "
            ]
          },
          "metadata": {},
          "execution_count": 22
        }
      ]
    },
    {
      "cell_type": "code",
      "source": [
        "#También se puede indicar el slicing utilizando los nombres de los encabezados\n",
        "z1 = df.loc[0:3,'longitude':'total_rooms']\n",
        "z1.head()"
      ],
      "metadata": {
        "colab": {
          "base_uri": "https://localhost:8080/",
          "height": 175
        },
        "id": "ROco94dmAy0c",
        "outputId": "b31057a3-e8e4-47eb-8070-373d7ac5633a"
      },
      "execution_count": null,
      "outputs": [
        {
          "output_type": "execute_result",
          "data": {
            "text/plain": [
              "   longitude  latitude  housing_median_age  total_rooms\n",
              "0    -114.31     34.19                15.0       5612.0\n",
              "1    -114.47     34.40                19.0       7650.0\n",
              "2    -114.56     33.69                17.0        720.0\n",
              "3    -114.57     33.64                14.0       1501.0"
            ],
            "text/html": [
              "\n",
              "  <div id=\"df-69dd3e51-4cdd-4ef0-8116-4daed4836e42\">\n",
              "    <div class=\"colab-df-container\">\n",
              "      <div>\n",
              "<style scoped>\n",
              "    .dataframe tbody tr th:only-of-type {\n",
              "        vertical-align: middle;\n",
              "    }\n",
              "\n",
              "    .dataframe tbody tr th {\n",
              "        vertical-align: top;\n",
              "    }\n",
              "\n",
              "    .dataframe thead th {\n",
              "        text-align: right;\n",
              "    }\n",
              "</style>\n",
              "<table border=\"1\" class=\"dataframe\">\n",
              "  <thead>\n",
              "    <tr style=\"text-align: right;\">\n",
              "      <th></th>\n",
              "      <th>longitude</th>\n",
              "      <th>latitude</th>\n",
              "      <th>housing_median_age</th>\n",
              "      <th>total_rooms</th>\n",
              "    </tr>\n",
              "  </thead>\n",
              "  <tbody>\n",
              "    <tr>\n",
              "      <th>0</th>\n",
              "      <td>-114.31</td>\n",
              "      <td>34.19</td>\n",
              "      <td>15.0</td>\n",
              "      <td>5612.0</td>\n",
              "    </tr>\n",
              "    <tr>\n",
              "      <th>1</th>\n",
              "      <td>-114.47</td>\n",
              "      <td>34.40</td>\n",
              "      <td>19.0</td>\n",
              "      <td>7650.0</td>\n",
              "    </tr>\n",
              "    <tr>\n",
              "      <th>2</th>\n",
              "      <td>-114.56</td>\n",
              "      <td>33.69</td>\n",
              "      <td>17.0</td>\n",
              "      <td>720.0</td>\n",
              "    </tr>\n",
              "    <tr>\n",
              "      <th>3</th>\n",
              "      <td>-114.57</td>\n",
              "      <td>33.64</td>\n",
              "      <td>14.0</td>\n",
              "      <td>1501.0</td>\n",
              "    </tr>\n",
              "  </tbody>\n",
              "</table>\n",
              "</div>\n",
              "      <button class=\"colab-df-convert\" onclick=\"convertToInteractive('df-69dd3e51-4cdd-4ef0-8116-4daed4836e42')\"\n",
              "              title=\"Convert this dataframe to an interactive table.\"\n",
              "              style=\"display:none;\">\n",
              "        \n",
              "  <svg xmlns=\"http://www.w3.org/2000/svg\" height=\"24px\"viewBox=\"0 0 24 24\"\n",
              "       width=\"24px\">\n",
              "    <path d=\"M0 0h24v24H0V0z\" fill=\"none\"/>\n",
              "    <path d=\"M18.56 5.44l.94 2.06.94-2.06 2.06-.94-2.06-.94-.94-2.06-.94 2.06-2.06.94zm-11 1L8.5 8.5l.94-2.06 2.06-.94-2.06-.94L8.5 2.5l-.94 2.06-2.06.94zm10 10l.94 2.06.94-2.06 2.06-.94-2.06-.94-.94-2.06-.94 2.06-2.06.94z\"/><path d=\"M17.41 7.96l-1.37-1.37c-.4-.4-.92-.59-1.43-.59-.52 0-1.04.2-1.43.59L10.3 9.45l-7.72 7.72c-.78.78-.78 2.05 0 2.83L4 21.41c.39.39.9.59 1.41.59.51 0 1.02-.2 1.41-.59l7.78-7.78 2.81-2.81c.8-.78.8-2.07 0-2.86zM5.41 20L4 18.59l7.72-7.72 1.47 1.35L5.41 20z\"/>\n",
              "  </svg>\n",
              "      </button>\n",
              "      \n",
              "  <style>\n",
              "    .colab-df-container {\n",
              "      display:flex;\n",
              "      flex-wrap:wrap;\n",
              "      gap: 12px;\n",
              "    }\n",
              "\n",
              "    .colab-df-convert {\n",
              "      background-color: #E8F0FE;\n",
              "      border: none;\n",
              "      border-radius: 50%;\n",
              "      cursor: pointer;\n",
              "      display: none;\n",
              "      fill: #1967D2;\n",
              "      height: 32px;\n",
              "      padding: 0 0 0 0;\n",
              "      width: 32px;\n",
              "    }\n",
              "\n",
              "    .colab-df-convert:hover {\n",
              "      background-color: #E2EBFA;\n",
              "      box-shadow: 0px 1px 2px rgba(60, 64, 67, 0.3), 0px 1px 3px 1px rgba(60, 64, 67, 0.15);\n",
              "      fill: #174EA6;\n",
              "    }\n",
              "\n",
              "    [theme=dark] .colab-df-convert {\n",
              "      background-color: #3B4455;\n",
              "      fill: #D2E3FC;\n",
              "    }\n",
              "\n",
              "    [theme=dark] .colab-df-convert:hover {\n",
              "      background-color: #434B5C;\n",
              "      box-shadow: 0px 1px 3px 1px rgba(0, 0, 0, 0.15);\n",
              "      filter: drop-shadow(0px 1px 2px rgba(0, 0, 0, 0.3));\n",
              "      fill: #FFFFFF;\n",
              "    }\n",
              "  </style>\n",
              "\n",
              "      <script>\n",
              "        const buttonEl =\n",
              "          document.querySelector('#df-69dd3e51-4cdd-4ef0-8116-4daed4836e42 button.colab-df-convert');\n",
              "        buttonEl.style.display =\n",
              "          google.colab.kernel.accessAllowed ? 'block' : 'none';\n",
              "\n",
              "        async function convertToInteractive(key) {\n",
              "          const element = document.querySelector('#df-69dd3e51-4cdd-4ef0-8116-4daed4836e42');\n",
              "          const dataTable =\n",
              "            await google.colab.kernel.invokeFunction('convertToInteractive',\n",
              "                                                     [key], {});\n",
              "          if (!dataTable) return;\n",
              "\n",
              "          const docLinkHtml = 'Like what you see? Visit the ' +\n",
              "            '<a target=\"_blank\" href=https://colab.research.google.com/notebooks/data_table.ipynb>data table notebook</a>'\n",
              "            + ' to learn more about interactive tables.';\n",
              "          element.innerHTML = '';\n",
              "          dataTable['output_type'] = 'display_data';\n",
              "          await google.colab.output.renderOutput(dataTable, element);\n",
              "          const docLink = document.createElement('div');\n",
              "          docLink.innerHTML = docLinkHtml;\n",
              "          element.appendChild(docLink);\n",
              "        }\n",
              "      </script>\n",
              "    </div>\n",
              "  </div>\n",
              "  "
            ]
          },
          "metadata": {},
          "execution_count": 24
        }
      ]
    },
    {
      "cell_type": "markdown",
      "source": [
        "##Working with and Saving Data with Pandas"
      ],
      "metadata": {
        "id": "I8FTruUUHLm0"
      }
    },
    {
      "cell_type": "code",
      "source": [
        "#Es posible trabajar con datos y guardarlos en otro formato\n",
        "#Pandas tiene un método unique para determinar los elementos únicos de de una columna de un dataframe\n",
        "songs_frame['Released'].unique() #El resultado consiste en un arreglo con los elementos únicos en esa columna"
      ],
      "metadata": {
        "colab": {
          "base_uri": "https://localhost:8080/"
        },
        "id": "z0q8puBPBs4s",
        "outputId": "a06e25d4-d4e6-4eea-b699-db9c9b2050c9"
      },
      "execution_count": null,
      "outputs": [
        {
          "output_type": "execute_result",
          "data": {
            "text/plain": [
              "array([1982, 1980, 1973, 1992, 1977])"
            ]
          },
          "metadata": {},
          "execution_count": 25
        }
      ]
    },
    {
      "cell_type": "code",
      "source": [
        "songs_frame['Released']>=1980 #Esta línea de código regresa un resultados True y False, indicando qué elementos de la columna cumplen con la condición establecida"
      ],
      "metadata": {
        "colab": {
          "base_uri": "https://localhost:8080/"
        },
        "id": "wVN1VW8_H8Oh",
        "outputId": "8b6d847a-b9f9-4c99-99a6-5c28b120156c"
      },
      "execution_count": null,
      "outputs": [
        {
          "output_type": "execute_result",
          "data": {
            "text/plain": [
              "0     True\n",
              "1     True\n",
              "2    False\n",
              "3     True\n",
              "4    False\n",
              "Name: Released, dtype: bool"
            ]
          },
          "metadata": {},
          "execution_count": 28
        }
      ]
    },
    {
      "cell_type": "code",
      "source": [
        "#Con este bloque de código se puede crear un data frame a partir de los datos que cumplen con la condición\n",
        "df_3 = songs_frame[songs_frame['Released']>=1980]\n",
        "df_3"
      ],
      "metadata": {
        "colab": {
          "base_uri": "https://localhost:8080/",
          "height": 143
        },
        "id": "0QvfNna-IZjf",
        "outputId": "a8835d62-c2e4-4f5a-fb76-8935ebb2b665"
      },
      "execution_count": null,
      "outputs": [
        {
          "output_type": "execute_result",
          "data": {
            "text/plain": [
              "           Album  Released    Length\n",
              "0       Thriller      1982  00:42:19\n",
              "1  Back in Black      1980  00:42:11\n",
              "3  The Bodyguard      1992  00:57:44"
            ],
            "text/html": [
              "\n",
              "  <div id=\"df-72a6320d-d961-4d96-9a7b-d9e7cb2d9515\">\n",
              "    <div class=\"colab-df-container\">\n",
              "      <div>\n",
              "<style scoped>\n",
              "    .dataframe tbody tr th:only-of-type {\n",
              "        vertical-align: middle;\n",
              "    }\n",
              "\n",
              "    .dataframe tbody tr th {\n",
              "        vertical-align: top;\n",
              "    }\n",
              "\n",
              "    .dataframe thead th {\n",
              "        text-align: right;\n",
              "    }\n",
              "</style>\n",
              "<table border=\"1\" class=\"dataframe\">\n",
              "  <thead>\n",
              "    <tr style=\"text-align: right;\">\n",
              "      <th></th>\n",
              "      <th>Album</th>\n",
              "      <th>Released</th>\n",
              "      <th>Length</th>\n",
              "    </tr>\n",
              "  </thead>\n",
              "  <tbody>\n",
              "    <tr>\n",
              "      <th>0</th>\n",
              "      <td>Thriller</td>\n",
              "      <td>1982</td>\n",
              "      <td>00:42:19</td>\n",
              "    </tr>\n",
              "    <tr>\n",
              "      <th>1</th>\n",
              "      <td>Back in Black</td>\n",
              "      <td>1980</td>\n",
              "      <td>00:42:11</td>\n",
              "    </tr>\n",
              "    <tr>\n",
              "      <th>3</th>\n",
              "      <td>The Bodyguard</td>\n",
              "      <td>1992</td>\n",
              "      <td>00:57:44</td>\n",
              "    </tr>\n",
              "  </tbody>\n",
              "</table>\n",
              "</div>\n",
              "      <button class=\"colab-df-convert\" onclick=\"convertToInteractive('df-72a6320d-d961-4d96-9a7b-d9e7cb2d9515')\"\n",
              "              title=\"Convert this dataframe to an interactive table.\"\n",
              "              style=\"display:none;\">\n",
              "        \n",
              "  <svg xmlns=\"http://www.w3.org/2000/svg\" height=\"24px\"viewBox=\"0 0 24 24\"\n",
              "       width=\"24px\">\n",
              "    <path d=\"M0 0h24v24H0V0z\" fill=\"none\"/>\n",
              "    <path d=\"M18.56 5.44l.94 2.06.94-2.06 2.06-.94-2.06-.94-.94-2.06-.94 2.06-2.06.94zm-11 1L8.5 8.5l.94-2.06 2.06-.94-2.06-.94L8.5 2.5l-.94 2.06-2.06.94zm10 10l.94 2.06.94-2.06 2.06-.94-2.06-.94-.94-2.06-.94 2.06-2.06.94z\"/><path d=\"M17.41 7.96l-1.37-1.37c-.4-.4-.92-.59-1.43-.59-.52 0-1.04.2-1.43.59L10.3 9.45l-7.72 7.72c-.78.78-.78 2.05 0 2.83L4 21.41c.39.39.9.59 1.41.59.51 0 1.02-.2 1.41-.59l7.78-7.78 2.81-2.81c.8-.78.8-2.07 0-2.86zM5.41 20L4 18.59l7.72-7.72 1.47 1.35L5.41 20z\"/>\n",
              "  </svg>\n",
              "      </button>\n",
              "      \n",
              "  <style>\n",
              "    .colab-df-container {\n",
              "      display:flex;\n",
              "      flex-wrap:wrap;\n",
              "      gap: 12px;\n",
              "    }\n",
              "\n",
              "    .colab-df-convert {\n",
              "      background-color: #E8F0FE;\n",
              "      border: none;\n",
              "      border-radius: 50%;\n",
              "      cursor: pointer;\n",
              "      display: none;\n",
              "      fill: #1967D2;\n",
              "      height: 32px;\n",
              "      padding: 0 0 0 0;\n",
              "      width: 32px;\n",
              "    }\n",
              "\n",
              "    .colab-df-convert:hover {\n",
              "      background-color: #E2EBFA;\n",
              "      box-shadow: 0px 1px 2px rgba(60, 64, 67, 0.3), 0px 1px 3px 1px rgba(60, 64, 67, 0.15);\n",
              "      fill: #174EA6;\n",
              "    }\n",
              "\n",
              "    [theme=dark] .colab-df-convert {\n",
              "      background-color: #3B4455;\n",
              "      fill: #D2E3FC;\n",
              "    }\n",
              "\n",
              "    [theme=dark] .colab-df-convert:hover {\n",
              "      background-color: #434B5C;\n",
              "      box-shadow: 0px 1px 3px 1px rgba(0, 0, 0, 0.15);\n",
              "      filter: drop-shadow(0px 1px 2px rgba(0, 0, 0, 0.3));\n",
              "      fill: #FFFFFF;\n",
              "    }\n",
              "  </style>\n",
              "\n",
              "      <script>\n",
              "        const buttonEl =\n",
              "          document.querySelector('#df-72a6320d-d961-4d96-9a7b-d9e7cb2d9515 button.colab-df-convert');\n",
              "        buttonEl.style.display =\n",
              "          google.colab.kernel.accessAllowed ? 'block' : 'none';\n",
              "\n",
              "        async function convertToInteractive(key) {\n",
              "          const element = document.querySelector('#df-72a6320d-d961-4d96-9a7b-d9e7cb2d9515');\n",
              "          const dataTable =\n",
              "            await google.colab.kernel.invokeFunction('convertToInteractive',\n",
              "                                                     [key], {});\n",
              "          if (!dataTable) return;\n",
              "\n",
              "          const docLinkHtml = 'Like what you see? Visit the ' +\n",
              "            '<a target=\"_blank\" href=https://colab.research.google.com/notebooks/data_table.ipynb>data table notebook</a>'\n",
              "            + ' to learn more about interactive tables.';\n",
              "          element.innerHTML = '';\n",
              "          dataTable['output_type'] = 'display_data';\n",
              "          await google.colab.output.renderOutput(dataTable, element);\n",
              "          const docLink = document.createElement('div');\n",
              "          docLink.innerHTML = docLinkHtml;\n",
              "          element.appendChild(docLink);\n",
              "        }\n",
              "      </script>\n",
              "    </div>\n",
              "  </div>\n",
              "  "
            ]
          },
          "metadata": {},
          "execution_count": 29
        }
      ]
    },
    {
      "cell_type": "code",
      "source": [
        "#Guardar un data frame en un archivo .csv de la siguiente manera\n",
        "df_3.to_csv('/content/drive/MyDrive/archivos_para_colab/songs_frame1.csv') #Hay otros métodos para guardar los datos en otro formato"
      ],
      "metadata": {
        "id": "4W_fVe6KJVGu"
      },
      "execution_count": null,
      "outputs": []
    },
    {
      "cell_type": "code",
      "source": [
        "x = df_3['Album'] #De esta manera se guarda el dato como una serie de pandas, es decir, un arreglo 1-D\n",
        "x"
      ],
      "metadata": {
        "colab": {
          "base_uri": "https://localhost:8080/"
        },
        "id": "9DrxZ2JfKF3M",
        "outputId": "59d8f881-769f-4b59-f1ae-a9327d278cb0"
      },
      "execution_count": null,
      "outputs": [
        {
          "output_type": "execute_result",
          "data": {
            "text/plain": [
              "0         Thriller\n",
              "1    Back in Black\n",
              "3    The Bodyguard\n",
              "Name: Album, dtype: object"
            ]
          },
          "metadata": {},
          "execution_count": 31
        }
      ]
    },
    {
      "cell_type": "code",
      "source": [
        "#Cambiar las etiquetas de los índices de las filas\n",
        "nuevos_indices = ['a', 'b', 'c'] #Estas serán las nuevas etiquetas de los índices, se puede crear una lista con las nuevas etiquetas\n",
        "df_3.index = nuevos_indices #Se modifica la propiedad index con la lista definida previamente\n",
        "df_3"
      ],
      "metadata": {
        "colab": {
          "base_uri": "https://localhost:8080/",
          "height": 143
        },
        "id": "PIwojd67L7WR",
        "outputId": "098c2234-190d-4a7b-9dba-1d81e836bd59"
      },
      "execution_count": null,
      "outputs": [
        {
          "output_type": "execute_result",
          "data": {
            "text/plain": [
              "           Album  Released    Length\n",
              "a       Thriller      1982  00:42:19\n",
              "b  Back in Black      1980  00:42:11\n",
              "c  The Bodyguard      1992  00:57:44"
            ],
            "text/html": [
              "\n",
              "  <div id=\"df-54fc213a-7437-4370-8448-7b06e1ff2855\">\n",
              "    <div class=\"colab-df-container\">\n",
              "      <div>\n",
              "<style scoped>\n",
              "    .dataframe tbody tr th:only-of-type {\n",
              "        vertical-align: middle;\n",
              "    }\n",
              "\n",
              "    .dataframe tbody tr th {\n",
              "        vertical-align: top;\n",
              "    }\n",
              "\n",
              "    .dataframe thead th {\n",
              "        text-align: right;\n",
              "    }\n",
              "</style>\n",
              "<table border=\"1\" class=\"dataframe\">\n",
              "  <thead>\n",
              "    <tr style=\"text-align: right;\">\n",
              "      <th></th>\n",
              "      <th>Album</th>\n",
              "      <th>Released</th>\n",
              "      <th>Length</th>\n",
              "    </tr>\n",
              "  </thead>\n",
              "  <tbody>\n",
              "    <tr>\n",
              "      <th>a</th>\n",
              "      <td>Thriller</td>\n",
              "      <td>1982</td>\n",
              "      <td>00:42:19</td>\n",
              "    </tr>\n",
              "    <tr>\n",
              "      <th>b</th>\n",
              "      <td>Back in Black</td>\n",
              "      <td>1980</td>\n",
              "      <td>00:42:11</td>\n",
              "    </tr>\n",
              "    <tr>\n",
              "      <th>c</th>\n",
              "      <td>The Bodyguard</td>\n",
              "      <td>1992</td>\n",
              "      <td>00:57:44</td>\n",
              "    </tr>\n",
              "  </tbody>\n",
              "</table>\n",
              "</div>\n",
              "      <button class=\"colab-df-convert\" onclick=\"convertToInteractive('df-54fc213a-7437-4370-8448-7b06e1ff2855')\"\n",
              "              title=\"Convert this dataframe to an interactive table.\"\n",
              "              style=\"display:none;\">\n",
              "        \n",
              "  <svg xmlns=\"http://www.w3.org/2000/svg\" height=\"24px\"viewBox=\"0 0 24 24\"\n",
              "       width=\"24px\">\n",
              "    <path d=\"M0 0h24v24H0V0z\" fill=\"none\"/>\n",
              "    <path d=\"M18.56 5.44l.94 2.06.94-2.06 2.06-.94-2.06-.94-.94-2.06-.94 2.06-2.06.94zm-11 1L8.5 8.5l.94-2.06 2.06-.94-2.06-.94L8.5 2.5l-.94 2.06-2.06.94zm10 10l.94 2.06.94-2.06 2.06-.94-2.06-.94-.94-2.06-.94 2.06-2.06.94z\"/><path d=\"M17.41 7.96l-1.37-1.37c-.4-.4-.92-.59-1.43-.59-.52 0-1.04.2-1.43.59L10.3 9.45l-7.72 7.72c-.78.78-.78 2.05 0 2.83L4 21.41c.39.39.9.59 1.41.59.51 0 1.02-.2 1.41-.59l7.78-7.78 2.81-2.81c.8-.78.8-2.07 0-2.86zM5.41 20L4 18.59l7.72-7.72 1.47 1.35L5.41 20z\"/>\n",
              "  </svg>\n",
              "      </button>\n",
              "      \n",
              "  <style>\n",
              "    .colab-df-container {\n",
              "      display:flex;\n",
              "      flex-wrap:wrap;\n",
              "      gap: 12px;\n",
              "    }\n",
              "\n",
              "    .colab-df-convert {\n",
              "      background-color: #E8F0FE;\n",
              "      border: none;\n",
              "      border-radius: 50%;\n",
              "      cursor: pointer;\n",
              "      display: none;\n",
              "      fill: #1967D2;\n",
              "      height: 32px;\n",
              "      padding: 0 0 0 0;\n",
              "      width: 32px;\n",
              "    }\n",
              "\n",
              "    .colab-df-convert:hover {\n",
              "      background-color: #E2EBFA;\n",
              "      box-shadow: 0px 1px 2px rgba(60, 64, 67, 0.3), 0px 1px 3px 1px rgba(60, 64, 67, 0.15);\n",
              "      fill: #174EA6;\n",
              "    }\n",
              "\n",
              "    [theme=dark] .colab-df-convert {\n",
              "      background-color: #3B4455;\n",
              "      fill: #D2E3FC;\n",
              "    }\n",
              "\n",
              "    [theme=dark] .colab-df-convert:hover {\n",
              "      background-color: #434B5C;\n",
              "      box-shadow: 0px 1px 3px 1px rgba(0, 0, 0, 0.15);\n",
              "      filter: drop-shadow(0px 1px 2px rgba(0, 0, 0, 0.3));\n",
              "      fill: #FFFFFF;\n",
              "    }\n",
              "  </style>\n",
              "\n",
              "      <script>\n",
              "        const buttonEl =\n",
              "          document.querySelector('#df-54fc213a-7437-4370-8448-7b06e1ff2855 button.colab-df-convert');\n",
              "        buttonEl.style.display =\n",
              "          google.colab.kernel.accessAllowed ? 'block' : 'none';\n",
              "\n",
              "        async function convertToInteractive(key) {\n",
              "          const element = document.querySelector('#df-54fc213a-7437-4370-8448-7b06e1ff2855');\n",
              "          const dataTable =\n",
              "            await google.colab.kernel.invokeFunction('convertToInteractive',\n",
              "                                                     [key], {});\n",
              "          if (!dataTable) return;\n",
              "\n",
              "          const docLinkHtml = 'Like what you see? Visit the ' +\n",
              "            '<a target=\"_blank\" href=https://colab.research.google.com/notebooks/data_table.ipynb>data table notebook</a>'\n",
              "            + ' to learn more about interactive tables.';\n",
              "          element.innerHTML = '';\n",
              "          dataTable['output_type'] = 'display_data';\n",
              "          await google.colab.output.renderOutput(dataTable, element);\n",
              "          const docLink = document.createElement('div');\n",
              "          docLink.innerHTML = docLinkHtml;\n",
              "          element.appendChild(docLink);\n",
              "        }\n",
              "      </script>\n",
              "    </div>\n",
              "  </div>\n",
              "  "
            ]
          },
          "metadata": {},
          "execution_count": 32
        }
      ]
    }
  ]
}