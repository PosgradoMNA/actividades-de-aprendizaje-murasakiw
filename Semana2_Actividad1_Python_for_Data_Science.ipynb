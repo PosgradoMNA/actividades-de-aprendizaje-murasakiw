{
  "nbformat": 4,
  "nbformat_minor": 0,
  "metadata": {
    "colab": {
      "provenance": [],
      "collapsed_sections": [],
      "mount_file_id": "1mT4AvbnZCjrk8LQJuHRtl1ejkDiyh9kx",
      "authorship_tag": "ABX9TyOtWfVta1PV2CXKH3Es0LqE",
      "include_colab_link": true
    },
    "kernelspec": {
      "name": "python3",
      "display_name": "Python 3"
    },
    "language_info": {
      "name": "python"
    }
  },
  "cells": [
    {
      "cell_type": "markdown",
      "metadata": {
        "id": "view-in-github",
        "colab_type": "text"
      },
      "source": [
        "<a href=\"https://colab.research.google.com/github/PosgradoMNA/actividades-de-aprendizaje-murasakiw/blob/main/Semana2_Actividad1_Python_for_Data_Science.ipynb\" target=\"_parent\"><img src=\"https://colab.research.google.com/assets/colab-badge.svg\" alt=\"Open In Colab\"/></a>"
      ]
    },
    {
      "cell_type": "markdown",
      "source": [
        "* Nombre: Sergio Omar Esparza Hernández\n",
        "* Matrícula: A01794338"
      ],
      "metadata": {
        "id": "JU1pgNUf3oKC"
      }
    },
    {
      "cell_type": "markdown",
      "source": [
        "# Semana 2 Actividad 1\n",
        "# Python for Data Science(IBM) Módulo 4"
      ],
      "metadata": {
        "id": "tPNxbKmP3r6T"
      }
    },
    {
      "cell_type": "markdown",
      "source": [
        "##Reading Files with Open"
      ],
      "metadata": {
        "id": "2jXFimGu36tH"
      }
    },
    {
      "cell_type": "code",
      "execution_count": null,
      "metadata": {
        "id": "uuXni6OR2PTr"
      },
      "outputs": [],
      "source": [
        "#La función open se utiliza para obtener un objeto de tipo file\n",
        "file1 = open('/content/drive/MyDrive/archivos_para_colab/Archivo_texto.txt', 'r') #El primer argumento es la ruta, el segundo argumento es el modo\n",
        "#Existen diferentes valores para el modo, estos son 'r' para lectura, 'w' para escritura y 'a' para appending"
      ]
    },
    {
      "cell_type": "code",
      "source": [
        "file1.name #Se utiliza el atributo name del objeto para obtener el nombre del archivo"
      ],
      "metadata": {
        "colab": {
          "base_uri": "https://localhost:8080/",
          "height": 35
        },
        "id": "_wBOhfFm6WhM",
        "outputId": "ed94bd29-814e-46ee-ac5e-a0d8f811b1ca"
      },
      "execution_count": null,
      "outputs": [
        {
          "output_type": "execute_result",
          "data": {
            "text/plain": [
              "'/content/drive/MyDrive/archivos_para_colab/Archivo_texto.txt'"
            ],
            "application/vnd.google.colaboratory.intrinsic+json": {
              "type": "string"
            }
          },
          "metadata": {},
          "execution_count": 2
        }
      ]
    },
    {
      "cell_type": "code",
      "source": [
        "file1.mode #Se puede utilizar el atributo mode para consultar en que modo se creo el objeto de tipo file"
      ],
      "metadata": {
        "colab": {
          "base_uri": "https://localhost:8080/",
          "height": 35
        },
        "id": "JQ3-Jy-U6fNx",
        "outputId": "3cc503f8-d010-4138-ecef-d00830168de1"
      },
      "execution_count": null,
      "outputs": [
        {
          "output_type": "execute_result",
          "data": {
            "text/plain": [
              "'r'"
            ],
            "application/vnd.google.colaboratory.intrinsic+json": {
              "type": "string"
            }
          },
          "metadata": {},
          "execution_count": 3
        }
      ]
    },
    {
      "cell_type": "code",
      "source": [
        "file1.close() #Siempre se debe de cerrar el objeto de tipo file con el método close"
      ],
      "metadata": {
        "id": "MNbH2Fql6sfN"
      },
      "execution_count": null,
      "outputs": []
    },
    {
      "cell_type": "code",
      "source": [
        "#Utilizar la instrucción with para abrir un archivo es una mejor práctica, ya que esta instrucción automáticamente cierra el archivo\n",
        "with open('/content/drive/MyDrive/archivos_para_colab/Archivo_texto.txt', 'r') as file1:\n",
        "  file_data = file1.read()\n",
        "  print(file_data) #Se ejecutan todas las acciones dentro de la indentación y despues se cierra el archivo\n",
        "\n",
        "print(file1.closed) #Para verificar si el archivo se cerró, arroja True cuando el archivo se cerró\n",
        "print(file_data)"
      ],
      "metadata": {
        "colab": {
          "base_uri": "https://localhost:8080/"
        },
        "id": "SqXiVF0C6-8w",
        "outputId": "3bd2c91d-307f-4440-e0a8-df0c90df869b"
      },
      "execution_count": null,
      "outputs": [
        {
          "output_type": "stream",
          "name": "stdout",
          "text": [
            "Nombre: Sergio Omar Esparza Hernández\n",
            "Matrícula: A01794338\n",
            "Ingeniero mecatrónico\n",
            "Etudiante de maestría en inteligencia artificial\n",
            "True\n",
            "Nombre: Sergio Omar Esparza Hernández\n",
            "Matrícula: A01794338\n",
            "Ingeniero mecatrónico\n",
            "Etudiante de maestría en inteligencia artificial\n"
          ]
        }
      ]
    },
    {
      "cell_type": "code",
      "source": [
        "file_data #Lo que se guarda en la variable file_data para que python lo muestre como está en el documento"
      ],
      "metadata": {
        "id": "Q_KdatTu7o8o",
        "colab": {
          "base_uri": "https://localhost:8080/",
          "height": 35
        },
        "outputId": "4f6aebc3-8c3f-493d-d0b8-4524da818853"
      },
      "execution_count": null,
      "outputs": [
        {
          "output_type": "execute_result",
          "data": {
            "text/plain": [
              "'Nombre: Sergio Omar Esparza Hernández\\nMatrícula: A01794338\\nIngeniero mecatrónico\\nEtudiante de maestría en inteligencia artificial'"
            ],
            "application/vnd.google.colaboratory.intrinsic+json": {
              "type": "string"
            }
          },
          "metadata": {},
          "execution_count": 7
        }
      ]
    },
    {
      "cell_type": "code",
      "source": [
        "with open('/content/drive/MyDrive/archivos_para_colab/Archivo_texto.txt', 'r') as file1:\n",
        "  file_data_list = file1.readlines() #Con este método se obtienen los renglones uno por uno y se guardan en una lista\n",
        "  print(file_data_list) #Se ejecutan todas las acciones dentro de la indentación y despues se cierra el archivo\n",
        "\n",
        "print(file1.closed) #Para verificar si el archivo se cerró, arroja True cuando el archivo se cerró\n"
      ],
      "metadata": {
        "colab": {
          "base_uri": "https://localhost:8080/"
        },
        "id": "UzOeA9OEUzs0",
        "outputId": "4e7ac432-9292-470f-8748-9f7f2eb04a0e"
      },
      "execution_count": null,
      "outputs": [
        {
          "output_type": "stream",
          "name": "stdout",
          "text": [
            "['Nombre: Sergio Omar Esparza Hernández\\n', 'Matrícula: A01794338\\n', 'Ingeniero mecatrónico\\n', 'Etudiante de maestría en inteligencia artificial']\n",
            "True\n"
          ]
        }
      ]
    },
    {
      "cell_type": "code",
      "source": [
        "with open('/content/drive/MyDrive/archivos_para_colab/Archivo_texto.txt', 'r') as file1:\n",
        "  line = file1.readline() #Con este método se obtiene el primer renglón del documento\n",
        "  print(line) \n",
        "  line = file1.readline() #Si se vuelve a llamar el método readline, entonces se obtiene el segundo renglón y así sucesivamente si se vuelve a llamar al método dentro de la misma indentación\n",
        "  print(line) \n",
        "\n",
        "print(file1.closed) #Para verificar si el archivo se cerró, arroja True cuando el archivo se cerró"
      ],
      "metadata": {
        "colab": {
          "base_uri": "https://localhost:8080/"
        },
        "id": "g_8G9pXyVd0d",
        "outputId": "bf0db0ef-4de2-410d-8d5d-b4c8bf450c56"
      },
      "execution_count": null,
      "outputs": [
        {
          "output_type": "stream",
          "name": "stdout",
          "text": [
            "Nombre: Sergio Omar Esparza Hernández\n",
            "\n",
            "Matrícula: A01794338\n",
            "\n",
            "True\n"
          ]
        }
      ]
    },
    {
      "cell_type": "code",
      "source": [
        "with open('/content/drive/MyDrive/archivos_para_colab/Archivo_texto.txt', 'r') as file1:\n",
        "  for line in file1: #Se puede utilizar un for para imprimir todos los renglones del documento\n",
        "    print(line)"
      ],
      "metadata": {
        "colab": {
          "base_uri": "https://localhost:8080/"
        },
        "id": "m2ELXCtSV1mn",
        "outputId": "f686d4f6-3716-48e7-a591-c0f6e41c91e9"
      },
      "execution_count": null,
      "outputs": [
        {
          "output_type": "stream",
          "name": "stdout",
          "text": [
            "Nombre: Sergio Omar Esparza Hernández\n",
            "\n",
            "Matrícula: A01794338\n",
            "\n",
            "Ingeniero mecatrónico\n",
            "\n",
            "Etudiante de maestría en inteligencia artificial\n"
          ]
        }
      ]
    },
    {
      "cell_type": "code",
      "source": [
        "with open('/content/drive/MyDrive/archivos_para_colab/Archivo_texto.txt', 'r') as file1:\n",
        "  file_data_list = file1.readlines(1) #Cuando se le específica un parámetro a este método, este número indica el número máximo de bytes.\n",
        "  #Es decir, el método solamente va a leer la siguiente línea si el numero total de bytes no se ha excedido.\n",
        "  #Se van acumulando los bytes con cada línea que se lee del documento\n",
        "  print(file_data_list)\n",
        "  file_data_list = file1.readlines(25)\n",
        "  print(file_data_list) "
      ],
      "metadata": {
        "colab": {
          "base_uri": "https://localhost:8080/"
        },
        "id": "_YLJdaSFWs3G",
        "outputId": "5f0a0ebf-f597-4f49-976b-25638d2f29f7"
      },
      "execution_count": null,
      "outputs": [
        {
          "output_type": "stream",
          "name": "stdout",
          "text": [
            "['Nombre: Sergio Omar Esparza Hernández\\n']\n",
            "['Matrícula: A01794338\\n', 'Ingeniero mecatrónico\\n']\n"
          ]
        }
      ]
    },
    {
      "cell_type": "code",
      "source": [
        "with open('/content/drive/MyDrive/archivos_para_colab/Archivo_texto.txt', 'r') as file1:\n",
        "  print(file1.read(50)) #Si se especifica un número con el método read, lo que hace el método es que lee ese número de caracteres, sin importar que estén en otro renglón\n",
        "  print(file1.read(4))\n",
        "  print(file1.read(7))\n",
        "  print(file1.read(15))\n"
      ],
      "metadata": {
        "colab": {
          "base_uri": "https://localhost:8080/"
        },
        "id": "HK-jCRG0a6MB",
        "outputId": "88047045-a811-4d1b-8689-ce16e8d012c3"
      },
      "execution_count": null,
      "outputs": [
        {
          "output_type": "stream",
          "name": "stdout",
          "text": [
            "Nombre: Sergio Omar Esparza Hernández\n",
            "Matrícula: A\n",
            "0179\n",
            "4338\n",
            "In\n",
            "geniero mecatró\n"
          ]
        }
      ]
    },
    {
      "cell_type": "code",
      "source": [
        "with open('/content/drive/MyDrive/archivos_para_colab/Archivo_texto.txt', 'r') as file1:\n",
        "  print(file1.readline(50)) #Si se especifica un número con el método readline, lo que hace el método es que lee ese número de caracteres, pero solamente regresa los que están en el mismo renglón\n",
        "  #A diferencia del método read que regresa los caracteres aunque pertenezcan a otro renglón\n",
        "  print(file1.readline(7))\n",
        "  print(file1.readline(15))"
      ],
      "metadata": {
        "colab": {
          "base_uri": "https://localhost:8080/"
        },
        "id": "gCfoImWMkFOQ",
        "outputId": "e3111e14-3944-4716-df6e-8089f862f4b0"
      },
      "execution_count": null,
      "outputs": [
        {
          "output_type": "stream",
          "name": "stdout",
          "text": [
            "Nombre: Sergio Omar Esparza Hernández\n",
            "\n",
            "Matrícu\n",
            "la: A01794338\n",
            "\n"
          ]
        }
      ]
    },
    {
      "cell_type": "markdown",
      "source": [
        "## Writing files with open"
      ],
      "metadata": {
        "id": "AhLeCEnimtmg"
      }
    },
    {
      "cell_type": "code",
      "source": [
        "#También se puede escribir en archivos utilizando la función open\n",
        "with open('/content/drive/MyDrive/archivos_para_colab/Archivo_texto_2.txt', 'w') as file2: #Si el archivo ya existe, entonces se sobreescribe\n",
        "  file2.write('Texto de prueba_1\\n') #Con el método write se puede escribir texto en el archivo\n",
        "  file2.write('Texto de prueba_2\\n') #Cada que se llama al método write se puede escribir en el objeto de tipo archivo"
      ],
      "metadata": {
        "id": "Ee7vJlP2kvxg"
      },
      "execution_count": null,
      "outputs": []
    },
    {
      "cell_type": "code",
      "source": [
        "#Revisando el texto que se escribió previamente con el método write\n",
        "with open('/content/drive/MyDrive/archivos_para_colab/Archivo_texto_2.txt', 'r') as file2:\n",
        "  print(file2.read())"
      ],
      "metadata": {
        "colab": {
          "base_uri": "https://localhost:8080/"
        },
        "id": "mvBipeD7oEu9",
        "outputId": "7e960dd4-80f8-4d17-a049-ebdde54b270d"
      },
      "execution_count": null,
      "outputs": [
        {
          "output_type": "stream",
          "name": "stdout",
          "text": [
            "Texto de prueba_1\n",
            "Texto de prueba_2\n",
            "\n"
          ]
        }
      ]
    },
    {
      "cell_type": "code",
      "source": [
        "#Se puede escribir el contenido de una lista en un archivo\n",
        "lines = ['Línea 1\\n', 'Línea 2\\n', 'Línea 3\\n', 'Línea 4\\n']\n",
        "with open('/content/drive/MyDrive/archivos_para_colab/Archivo_texto_2.txt', 'w') as file2:\n",
        "  for line in lines: #Con el ciclo for se pueden escribir todos los elementos de una lista en un archivo\n",
        "    file2.write(line)"
      ],
      "metadata": {
        "id": "2K5DzpU-oudS"
      },
      "execution_count": null,
      "outputs": []
    },
    {
      "cell_type": "code",
      "source": [
        "#Revisando el texto que se escribió previamente con el método write\n",
        "with open('/content/drive/MyDrive/archivos_para_colab/Archivo_texto_2.txt', 'r') as file2:\n",
        "  print(file2.read())"
      ],
      "metadata": {
        "colab": {
          "base_uri": "https://localhost:8080/"
        },
        "id": "Ep2DMxU4pPyl",
        "outputId": "3fb4f858-22fd-437f-81b6-431d92280f52"
      },
      "execution_count": null,
      "outputs": [
        {
          "output_type": "stream",
          "name": "stdout",
          "text": [
            "Línea 1\n",
            "Línea 2\n",
            "Línea 3\n",
            "Línea 4\n",
            "\n"
          ]
        }
      ]
    },
    {
      "cell_type": "code",
      "source": [
        "#Con el modo append no se sobreescribe el archivo cuando ya existe uno con el mismo nombre\n",
        "#En cambio, se utiliza el archivo que ya existe y se conserva el contenido que ya tiene ese archivo\n",
        "with open('/content/drive/MyDrive/archivos_para_colab/Archivo_texto_2.txt', 'a') as file2:\n",
        "  file2.write('Línea añadida en modo append')\n",
        "with open('/content/drive/MyDrive/archivos_para_colab/Archivo_texto_2.txt', 'r') as file2:\n",
        "  print(file2.read()) #Al leer el contenido, se observa que se mantiene el contenido que fue escrito previamente"
      ],
      "metadata": {
        "colab": {
          "base_uri": "https://localhost:8080/"
        },
        "id": "j56ozbZupR3L",
        "outputId": "f0e39d30-0490-4380-a9eb-83029c75238b"
      },
      "execution_count": null,
      "outputs": [
        {
          "output_type": "stream",
          "name": "stdout",
          "text": [
            "Línea 1\n",
            "Línea 2\n",
            "Línea 3\n",
            "Línea 4\n",
            "Línea añadida en modo append\n"
          ]
        }
      ]
    },
    {
      "cell_type": "code",
      "source": [
        "#Copiar un archivo a otro\n",
        "with open('/content/drive/MyDrive/archivos_para_colab/Archivo_texto_2.txt', 'r') as readfile: #Primero se abre el archivo del que se desea copiar el contenido\n",
        "  with open('/content/drive/MyDrive/archivos_para_colab/Archivo_texto_3.txt', 'w') as file3: #Después se crea el archivo en el que se copiará el contenido\n",
        "    for line in readfile: #Con un ciclo for se copia línea por línea el contenido del archivo y se escribe en el otro archivo\n",
        "      file3.write(line) \n",
        "\n",
        "with open('/content/drive/MyDrive/archivos_para_colab/Archivo_texto_3.txt', 'r') as file3:\n",
        "  print(file3.read()) #Verificando el contenido que se copió de un archivo a otro\n"
      ],
      "metadata": {
        "colab": {
          "base_uri": "https://localhost:8080/"
        },
        "id": "Y57D0-jvqJ3y",
        "outputId": "45cef822-7aa1-4cc8-eecc-f10666a5020f"
      },
      "execution_count": null,
      "outputs": [
        {
          "output_type": "stream",
          "name": "stdout",
          "text": [
            "Línea 1\n",
            "Línea 2\n",
            "Línea 3\n",
            "Línea 4\n",
            "Línea añadida en modo append\n"
          ]
        }
      ]
    },
    {
      "cell_type": "markdown",
      "source": [
        "Existen modos adicionales para para acceder a un archivo:\n",
        "* r+ : Lectura y escritura.\n",
        "* w+ : Escritura y lectura.\n",
        "* a+ : Appendig y lectura."
      ],
      "metadata": {
        "id": "NluCDEqWtagG"
      }
    },
    {
      "cell_type": "code",
      "source": [
        "with open('/content/drive/MyDrive/archivos_para_colab/Archivo_texto_2.txt', 'a+') as appendfile: \n",
        "  appendfile.write('\\nTexto añadido con modo a+\\n')\n",
        "  print(appendfile.read()) #El método read no imprime nada porque el apuntador del método se posiciona después del texto añadido y en esta posición no hay nada que leer"
      ],
      "metadata": {
        "colab": {
          "base_uri": "https://localhost:8080/"
        },
        "id": "Zu9BLwovq9-8",
        "outputId": "e03c0915-f145-4254-f638-e65387b50940"
      },
      "execution_count": null,
      "outputs": [
        {
          "output_type": "stream",
          "name": "stdout",
          "text": [
            "\n"
          ]
        }
      ]
    },
    {
      "cell_type": "markdown",
      "source": [
        "* El método tell indica en qué posición se encuentra el cursor\n",
        "* Con el método seek se puede mover el cursor por el archivo"
      ],
      "metadata": {
        "id": "lfw1xaSKzwBw"
      }
    },
    {
      "cell_type": "code",
      "source": [
        "with open('/content/drive/MyDrive/archivos_para_colab/Archivo_texto_2.txt', 'a+') as appendfile:\n",
        "  print('Posición inicial: {}'.format(appendfile.tell()))\n",
        "\n",
        "  data = appendfile.read() #Se lee el contenido del archivo\n",
        "  if (not data): #Esta opción será verdadera, ya que no hay nada que leer pues el cursor se coloca al final del texto que contiene el archivo\n",
        "    print('Nada que leer') \n",
        "  else:\n",
        "    print(appendfile.read())\n",
        "\n",
        "  appendfile.seek(0,0) #Se mueve cero bytes desde el inicio, se coloca el cursor en el inicio del documento\n",
        "\n",
        "  print('Nueva ubicación : {}'.format(appendfile.tell()))\n",
        "  data = appendfile.read() \n",
        "  if (not data): #Ahora sí hay datos que leer, pues el cursor se colocó al inicio del archivo y el archivo contiene texto, por lo tanto, se ejecuta la parte del else\n",
        "    print('Nada que leer')\n",
        "  else:\n",
        "    print(data)\n",
        "  print('Ubicación despues de leer : {}'.format(appendfile.tell()))"
      ],
      "metadata": {
        "colab": {
          "base_uri": "https://localhost:8080/"
        },
        "id": "JuSpDo1XuQ2z",
        "outputId": "4fa57185-183b-4e3e-8893-a656ad37315b"
      },
      "execution_count": null,
      "outputs": [
        {
          "output_type": "stream",
          "name": "stdout",
          "text": [
            "Posición inicial: 94\n",
            "Nada que leer\n",
            "Nueva ubicación : 0\n",
            "Línea 1\n",
            "Línea 2\n",
            "Línea 3\n",
            "Línea 4\n",
            "Línea añadida en modo append\n",
            "Texto añadido con modo a+\n",
            "\n",
            "Ubicación despues de leer : 94\n"
          ]
        }
      ]
    },
    {
      "cell_type": "markdown",
      "source": [
        "La diferencia entre los modos w+ y r+, es que w+ sobreescribe el archivo y borra los datos preexistentes. Para trabajar con datos pre existentes, es necesario utilizar los modos r+ y a+.\n",
        "Trabajar con r+ se puede añadir el método .truncate() al final de los datos."
      ],
      "metadata": {
        "id": "atLw3_tr01XO"
      }
    },
    {
      "cell_type": "code",
      "source": [
        "with open('/content/drive/MyDrive/archivos_para_colab/Archivo_texto_2.txt', 'r+') as testfile:\n",
        "  data = testfile.readlines()\n",
        "  testfile.seek(0,0) #Se coloca al inicio del archivo\n",
        "  testfile.write('Línea nueva 1\\n')\n",
        "  testfile.write('Línea nueva 2\\n')\n",
        "  testfile.write('Línea nueva 3\\n')\n",
        "  testfile.truncate() #Este método borrará toda la información que está despues de donde se encuentra el apuntador\n",
        "  testfile.seek(0,0) #Se coloca al inicio del archivo\n",
        "  print(testfile.read()) #No se imprimirá nada, ya que el método truncate() eliminó los datos posteriores al último texto que se añadió"
      ],
      "metadata": {
        "colab": {
          "base_uri": "https://localhost:8080/"
        },
        "id": "kKszbC7MwpgQ",
        "outputId": "9ca3aca3-9975-409b-8456-28894493ef5c"
      },
      "execution_count": null,
      "outputs": [
        {
          "output_type": "stream",
          "name": "stdout",
          "text": [
            "Línea nueva 1\n",
            "Línea nueva 2\n",
            "Línea nueva 3\n",
            "\n"
          ]
        }
      ]
    },
    {
      "cell_type": "markdown",
      "source": [
        "###Ejercicio lab de Writing Files"
      ],
      "metadata": {
        "id": "rs-rKhHK2c8i"
      }
    },
    {
      "cell_type": "markdown",
      "source": [
        "Your local university's Raptors fan club maintains a register of its active members on a .txt document. Every month they update the file by removing the members who are not active. You have been tasked with automating this with your Python skills.\n",
        "Given the file currentMem, Remove each member with a 'no' in their Active column. Keep track of each of the removed members and append them to the exMem file. Make sure that the format of the original files in preserved. (Hint: Do this by reading/writing whole lines and ensuring the header remains )\n",
        "Run the code block below prior to starting the exercise. The skeleton code has been provided for you. Edit only the cleanFiles function."
      ],
      "metadata": {
        "id": "xv0uByp0muP9"
      }
    },
    {
      "cell_type": "code",
      "source": [
        "#Código para generar aleatoriamente los archivos de miembros activos e inactivos\n",
        "from random import randint as rnd\n",
        "\n",
        "memReg = '/content/drive/MyDrive/archivos_para_colab/members.txt'\n",
        "exReg = '/content/drive/MyDrive/archivos_para_colab/inactive.txt'\n",
        "fee =('yes','no')\n",
        "\n",
        "def genFiles(current,old):\n",
        "    with open(current,'w+') as writefile: \n",
        "        writefile.write('Membership No  Date Joined  Active  \\n')\n",
        "        data = \"{:^13}  {:<11}  {:<6}\\n\"\n",
        "\n",
        "        for rowno in range(20):\n",
        "            date = str(rnd(2015,2020))+ '-' + str(rnd(1,12))+'-'+str(rnd(1,25))\n",
        "            writefile.write(data.format(rnd(10000,99999),date,fee[rnd(0,1)]))\n",
        "\n",
        "\n",
        "    with open(old,'w+') as writefile: \n",
        "        writefile.write('Membership No  Date Joined  Active  \\n')\n",
        "        data = \"{:^13}  {:<11}  {:<6}\\n\"\n",
        "        for rowno in range(3):\n",
        "            date = str(rnd(2015,2020))+ '-' + str(rnd(1,12))+'-'+str(rnd(1,25))\n",
        "            writefile.write(data.format(rnd(10000,99999),date,fee[1]))\n",
        "\n",
        "\n",
        "genFiles(memReg,exReg)"
      ],
      "metadata": {
        "id": "UCeZv0kn2kfN"
      },
      "execution_count": null,
      "outputs": []
    },
    {
      "cell_type": "code",
      "source": [
        "#Código para visualizar la estructura de los archivos\n",
        "with open(exReg, 'r+') as ex_members:\n",
        "    print(ex_members.read())\n",
        "with open(memReg, 'r+') as ex_members:\n",
        "    print(ex_members.read())"
      ],
      "metadata": {
        "colab": {
          "base_uri": "https://localhost:8080/"
        },
        "id": "I9ErNS632__j",
        "outputId": "63db31c7-e52d-4c57-8561-86304ec1ce18"
      },
      "execution_count": null,
      "outputs": [
        {
          "output_type": "stream",
          "name": "stdout",
          "text": [
            "Membership No  Date Joined  Active  \n",
            "    11175      2016-11-19   no    \n",
            "    38199      2015-5-24    no    \n",
            "    54113      2019-12-8    no    \n",
            "\n",
            "Membership No  Date Joined  Active  \n",
            "    35232      2015-10-5    yes   \n",
            "    53901      2016-1-4     no    \n",
            "    46701      2019-8-1     no    \n",
            "    56470      2020-1-19    no    \n",
            "    96495      2019-8-9     no    \n",
            "    44640      2018-12-6    no    \n",
            "    22687      2019-6-12    yes   \n",
            "    27940      2019-7-12    no    \n",
            "    44882      2016-7-20    no    \n",
            "    30664      2019-1-16    no    \n",
            "    68158      2019-2-14    no    \n",
            "    18653      2018-8-1     yes   \n",
            "    75068      2017-11-20   no    \n",
            "    77639      2016-4-11    yes   \n",
            "    72624      2019-11-11   no    \n",
            "    32798      2019-10-10   no    \n",
            "    50643      2018-6-25    yes   \n",
            "    34423      2017-10-20   no    \n",
            "    43134      2017-5-11    no    \n",
            "    77375      2019-12-25   no    \n",
            "\n"
          ]
        }
      ]
    },
    {
      "cell_type": "code",
      "source": [
        "  \n",
        "'''\n",
        "Los dos argumentos para esta función son los archivos:\n",
        "    - currentMem: Archivo que contiene la lista de miembros actuales\n",
        "    - exMem: Archivo que contiene miembros antiguos\n",
        "    \n",
        "    Esta función debe remover todas las filas de currentMem que contienen 'no' \n",
        "    en la columna 'Active' y anexarlos a exMem.\n",
        "    '''\n",
        "def cleanFiles(currentMem, exMem):\n",
        "    # Abrir el archivo currentMen como r+\n",
        "    with open(currentMem, 'r+') as current_members:\n",
        "        #Abrir el archivo exMem como a+\n",
        "        with open(exMem, 'a+') as ex_members:\n",
        "\n",
        "        # Leer cada miembro en currentMem en una lista\n",
        "            current_list = current_members.readlines()\n",
        "            inactive = [] #Lista de miembros inactivos\n",
        "            active = [] #Lista de miembros activos\n",
        "        #Iterar a través de los miembros y crear lista de miembros inactivos y otra de activos\n",
        "            for element in current_list:\n",
        "                if element != current_list[0]:\n",
        "                    if 'no' in element:\n",
        "                        inactive.append(element)\n",
        "                    if 'yes' in element:\n",
        "                        active.append(element)\n",
        "        #Desplazarse al inicio del archivo de miembros actuales\n",
        "            current_members.seek(0,0)\n",
        "            header = ex_members.readline()\n",
        "            current_members.truncate() #Eliminar los datos previos para llenar el documento con los datos correctos\n",
        "        #Si un miembro es inactivo, agregarlo a exMem, en caso contrario añadirlo en currentMem\n",
        "            for i in inactive:\n",
        "                ex_members.write(i)\n",
        "            current_members.write(current_list[0])\n",
        "            for j in active:\n",
        "                current_members.write(j)\n",
        "\n",
        "\n",
        "# Código para visualizar los resultados\n",
        "# No modificar este código\n",
        "memReg = '/content/drive/MyDrive/archivos_para_colab/members.txt'\n",
        "exReg = '/content/drive/MyDrive/archivos_para_colab/inactive.txt'\n",
        "cleanFiles(memReg,exReg)\n",
        "\n",
        "\n",
        "headers = \"Membership No  Date Joined  Active  \\n\"\n",
        "with open(memReg,'r') as readFile:\n",
        "    print(\"Active Members: \\n\\n\")\n",
        "    print(readFile.read())\n",
        "    \n",
        "with open(exReg,'r') as readFile:\n",
        "    print(\"Inactive Members: \\n\\n\")\n",
        "    print(readFile.read())\n",
        "                "
      ],
      "metadata": {
        "colab": {
          "base_uri": "https://localhost:8080/"
        },
        "id": "imVNfB8C3cMo",
        "outputId": "09e8a447-7077-4813-e395-1f5244ff6b4b"
      },
      "execution_count": null,
      "outputs": [
        {
          "output_type": "stream",
          "name": "stdout",
          "text": [
            "Active Members: \n",
            "\n",
            "\n",
            "Membership No  Date Joined  Active  \n",
            "    35232      2015-10-5    yes   \n",
            "    22687      2019-6-12    yes   \n",
            "    18653      2018-8-1     yes   \n",
            "    77639      2016-4-11    yes   \n",
            "    50643      2018-6-25    yes   \n",
            "\n",
            "Inactive Members: \n",
            "\n",
            "\n",
            "Membership No  Date Joined  Active  \n",
            "    11175      2016-11-19   no    \n",
            "    38199      2015-5-24    no    \n",
            "    54113      2019-12-8    no    \n",
            "    53901      2016-1-4     no    \n",
            "    46701      2019-8-1     no    \n",
            "    56470      2020-1-19    no    \n",
            "    96495      2019-8-9     no    \n",
            "    44640      2018-12-6    no    \n",
            "    27940      2019-7-12    no    \n",
            "    44882      2016-7-20    no    \n",
            "    30664      2019-1-16    no    \n",
            "    68158      2019-2-14    no    \n",
            "    75068      2017-11-20   no    \n",
            "    72624      2019-11-11   no    \n",
            "    32798      2019-10-10   no    \n",
            "    34423      2017-10-20   no    \n",
            "    43134      2017-5-11    no    \n",
            "    77375      2019-12-25   no    \n",
            "\n"
          ]
        }
      ]
    },
    {
      "cell_type": "code",
      "source": [
        "\n",
        "#Código copiado del lab para verificar que se resolvió adecuadamente el ejercicio\n",
        "def testMsg(passed):\n",
        "    if passed:\n",
        "       return 'Prueba aprobada'\n",
        "    else :\n",
        "       return 'Prueba fallada'\n",
        "\n",
        "testWrite = \"testWrite.txt\"\n",
        "testAppend = \"testAppend.txt\" \n",
        "passed = True\n",
        "\n",
        "genFiles(testWrite,testAppend)\n",
        "\n",
        "with open(testWrite,'r') as file:\n",
        "    ogWrite = file.readlines()\n",
        "\n",
        "with open(testAppend,'r') as file:\n",
        "    ogAppend = file.readlines()\n",
        "\n",
        "try:\n",
        "    cleanFiles(testWrite,testAppend)\n",
        "except:\n",
        "    print('Error')\n",
        "\n",
        "with open(testWrite,'r') as file:\n",
        "    clWrite = file.readlines()\n",
        "\n",
        "with open(testAppend,'r') as file:\n",
        "    clAppend = file.readlines()\n",
        "        \n",
        "# Verificando si el número total de filas es el mismo, incluso el encabezado\n",
        "\n",
        "if (len(ogWrite) + len(ogAppend) != len(clWrite) + len(clAppend)):\n",
        "    print(\"El número de filas no coincide. Asegúrate que los archivos finales tengan el mismo encabezado y formato\")\n",
        "    passed = False\n",
        "    \n",
        "for line in clWrite:\n",
        "    if  'no' in line:\n",
        "        passed = False\n",
        "        print(\"Miembros inactivos en archivo\")\n",
        "        break\n",
        "    else:\n",
        "        if line not in ogWrite:\n",
        "            print(\"Los datos en el archivo no coinciden con el archivo original\")\n",
        "            passed = False\n",
        "print (\"{}\".format(testMsg(passed)))"
      ],
      "metadata": {
        "colab": {
          "base_uri": "https://localhost:8080/"
        },
        "id": "ZMmnuzi_5tO-",
        "outputId": "be63783f-a7a5-40fa-a3eb-ea68903a96f4"
      },
      "execution_count": null,
      "outputs": [
        {
          "output_type": "stream",
          "name": "stdout",
          "text": [
            "Prueba aprobada\n"
          ]
        }
      ]
    },
    {
      "cell_type": "markdown",
      "source": [
        "##Loading Data with Pandas"
      ],
      "metadata": {
        "id": "gwD2nneA6IjW"
      }
    },
    {
      "cell_type": "code",
      "source": [
        "#Pandas es una librería para análisis de datos\n",
        "#Para utilizar una librería es necesario importarla\n",
        "#Se puede utilizar la instrucción as para acortar el nombre de la librería\n",
        "import pandas as pd \n",
        "#Ahora se pueden utilizar las clases y funciones de dicha librería"
      ],
      "metadata": {
        "id": "KGucCXTP6OP4"
      },
      "execution_count": null,
      "outputs": []
    },
    {
      "cell_type": "code",
      "source": [
        "#Para cargar un archivo csv, se utiliza la función read_csv y la ruta del archivo\n",
        "df = pd.read_csv('/content/sample_data/california_housing_train.csv')\n",
        "#Una forma de trabajar con datos en pandas es a través de un data frame\n",
        "#Los datos se guardan en una variable como data frame"
      ],
      "metadata": {
        "id": "BC3CO23k64_f"
      },
      "execution_count": null,
      "outputs": []
    },
    {
      "cell_type": "code",
      "source": [
        "#El método head se utiliza para examinar las primeras 5 líneas de un data frame, si se le proporciona un parámetro, entonces mostrará las líneas indicadas\n",
        "#El proceso para cargar un archivo de excel es el mismo, solamente cambia la extensión del archivo\n",
        "df.head() #Un data frame está compuesto de filas y columnas"
      ],
      "metadata": {
        "colab": {
          "base_uri": "https://localhost:8080/",
          "height": 206
        },
        "id": "60mJHgNW74EV",
        "outputId": "0e99df01-3cfb-4cfd-e28a-279491bb7ca6"
      },
      "execution_count": null,
      "outputs": [
        {
          "output_type": "execute_result",
          "data": {
            "text/plain": [
              "   longitude  latitude  housing_median_age  total_rooms  total_bedrooms  \\\n",
              "0    -114.31     34.19                15.0       5612.0          1283.0   \n",
              "1    -114.47     34.40                19.0       7650.0          1901.0   \n",
              "2    -114.56     33.69                17.0        720.0           174.0   \n",
              "3    -114.57     33.64                14.0       1501.0           337.0   \n",
              "4    -114.57     33.57                20.0       1454.0           326.0   \n",
              "\n",
              "   population  households  median_income  median_house_value  \n",
              "0      1015.0       472.0         1.4936             66900.0  \n",
              "1      1129.0       463.0         1.8200             80100.0  \n",
              "2       333.0       117.0         1.6509             85700.0  \n",
              "3       515.0       226.0         3.1917             73400.0  \n",
              "4       624.0       262.0         1.9250             65500.0  "
            ],
            "text/html": [
              "\n",
              "  <div id=\"df-6be5425e-f2ae-4446-9cd8-52fbf6cdfb0e\">\n",
              "    <div class=\"colab-df-container\">\n",
              "      <div>\n",
              "<style scoped>\n",
              "    .dataframe tbody tr th:only-of-type {\n",
              "        vertical-align: middle;\n",
              "    }\n",
              "\n",
              "    .dataframe tbody tr th {\n",
              "        vertical-align: top;\n",
              "    }\n",
              "\n",
              "    .dataframe thead th {\n",
              "        text-align: right;\n",
              "    }\n",
              "</style>\n",
              "<table border=\"1\" class=\"dataframe\">\n",
              "  <thead>\n",
              "    <tr style=\"text-align: right;\">\n",
              "      <th></th>\n",
              "      <th>longitude</th>\n",
              "      <th>latitude</th>\n",
              "      <th>housing_median_age</th>\n",
              "      <th>total_rooms</th>\n",
              "      <th>total_bedrooms</th>\n",
              "      <th>population</th>\n",
              "      <th>households</th>\n",
              "      <th>median_income</th>\n",
              "      <th>median_house_value</th>\n",
              "    </tr>\n",
              "  </thead>\n",
              "  <tbody>\n",
              "    <tr>\n",
              "      <th>0</th>\n",
              "      <td>-114.31</td>\n",
              "      <td>34.19</td>\n",
              "      <td>15.0</td>\n",
              "      <td>5612.0</td>\n",
              "      <td>1283.0</td>\n",
              "      <td>1015.0</td>\n",
              "      <td>472.0</td>\n",
              "      <td>1.4936</td>\n",
              "      <td>66900.0</td>\n",
              "    </tr>\n",
              "    <tr>\n",
              "      <th>1</th>\n",
              "      <td>-114.47</td>\n",
              "      <td>34.40</td>\n",
              "      <td>19.0</td>\n",
              "      <td>7650.0</td>\n",
              "      <td>1901.0</td>\n",
              "      <td>1129.0</td>\n",
              "      <td>463.0</td>\n",
              "      <td>1.8200</td>\n",
              "      <td>80100.0</td>\n",
              "    </tr>\n",
              "    <tr>\n",
              "      <th>2</th>\n",
              "      <td>-114.56</td>\n",
              "      <td>33.69</td>\n",
              "      <td>17.0</td>\n",
              "      <td>720.0</td>\n",
              "      <td>174.0</td>\n",
              "      <td>333.0</td>\n",
              "      <td>117.0</td>\n",
              "      <td>1.6509</td>\n",
              "      <td>85700.0</td>\n",
              "    </tr>\n",
              "    <tr>\n",
              "      <th>3</th>\n",
              "      <td>-114.57</td>\n",
              "      <td>33.64</td>\n",
              "      <td>14.0</td>\n",
              "      <td>1501.0</td>\n",
              "      <td>337.0</td>\n",
              "      <td>515.0</td>\n",
              "      <td>226.0</td>\n",
              "      <td>3.1917</td>\n",
              "      <td>73400.0</td>\n",
              "    </tr>\n",
              "    <tr>\n",
              "      <th>4</th>\n",
              "      <td>-114.57</td>\n",
              "      <td>33.57</td>\n",
              "      <td>20.0</td>\n",
              "      <td>1454.0</td>\n",
              "      <td>326.0</td>\n",
              "      <td>624.0</td>\n",
              "      <td>262.0</td>\n",
              "      <td>1.9250</td>\n",
              "      <td>65500.0</td>\n",
              "    </tr>\n",
              "  </tbody>\n",
              "</table>\n",
              "</div>\n",
              "      <button class=\"colab-df-convert\" onclick=\"convertToInteractive('df-6be5425e-f2ae-4446-9cd8-52fbf6cdfb0e')\"\n",
              "              title=\"Convert this dataframe to an interactive table.\"\n",
              "              style=\"display:none;\">\n",
              "        \n",
              "  <svg xmlns=\"http://www.w3.org/2000/svg\" height=\"24px\"viewBox=\"0 0 24 24\"\n",
              "       width=\"24px\">\n",
              "    <path d=\"M0 0h24v24H0V0z\" fill=\"none\"/>\n",
              "    <path d=\"M18.56 5.44l.94 2.06.94-2.06 2.06-.94-2.06-.94-.94-2.06-.94 2.06-2.06.94zm-11 1L8.5 8.5l.94-2.06 2.06-.94-2.06-.94L8.5 2.5l-.94 2.06-2.06.94zm10 10l.94 2.06.94-2.06 2.06-.94-2.06-.94-.94-2.06-.94 2.06-2.06.94z\"/><path d=\"M17.41 7.96l-1.37-1.37c-.4-.4-.92-.59-1.43-.59-.52 0-1.04.2-1.43.59L10.3 9.45l-7.72 7.72c-.78.78-.78 2.05 0 2.83L4 21.41c.39.39.9.59 1.41.59.51 0 1.02-.2 1.41-.59l7.78-7.78 2.81-2.81c.8-.78.8-2.07 0-2.86zM5.41 20L4 18.59l7.72-7.72 1.47 1.35L5.41 20z\"/>\n",
              "  </svg>\n",
              "      </button>\n",
              "      \n",
              "  <style>\n",
              "    .colab-df-container {\n",
              "      display:flex;\n",
              "      flex-wrap:wrap;\n",
              "      gap: 12px;\n",
              "    }\n",
              "\n",
              "    .colab-df-convert {\n",
              "      background-color: #E8F0FE;\n",
              "      border: none;\n",
              "      border-radius: 50%;\n",
              "      cursor: pointer;\n",
              "      display: none;\n",
              "      fill: #1967D2;\n",
              "      height: 32px;\n",
              "      padding: 0 0 0 0;\n",
              "      width: 32px;\n",
              "    }\n",
              "\n",
              "    .colab-df-convert:hover {\n",
              "      background-color: #E2EBFA;\n",
              "      box-shadow: 0px 1px 2px rgba(60, 64, 67, 0.3), 0px 1px 3px 1px rgba(60, 64, 67, 0.15);\n",
              "      fill: #174EA6;\n",
              "    }\n",
              "\n",
              "    [theme=dark] .colab-df-convert {\n",
              "      background-color: #3B4455;\n",
              "      fill: #D2E3FC;\n",
              "    }\n",
              "\n",
              "    [theme=dark] .colab-df-convert:hover {\n",
              "      background-color: #434B5C;\n",
              "      box-shadow: 0px 1px 3px 1px rgba(0, 0, 0, 0.15);\n",
              "      filter: drop-shadow(0px 1px 2px rgba(0, 0, 0, 0.3));\n",
              "      fill: #FFFFFF;\n",
              "    }\n",
              "  </style>\n",
              "\n",
              "      <script>\n",
              "        const buttonEl =\n",
              "          document.querySelector('#df-6be5425e-f2ae-4446-9cd8-52fbf6cdfb0e button.colab-df-convert');\n",
              "        buttonEl.style.display =\n",
              "          google.colab.kernel.accessAllowed ? 'block' : 'none';\n",
              "\n",
              "        async function convertToInteractive(key) {\n",
              "          const element = document.querySelector('#df-6be5425e-f2ae-4446-9cd8-52fbf6cdfb0e');\n",
              "          const dataTable =\n",
              "            await google.colab.kernel.invokeFunction('convertToInteractive',\n",
              "                                                     [key], {});\n",
              "          if (!dataTable) return;\n",
              "\n",
              "          const docLinkHtml = 'Like what you see? Visit the ' +\n",
              "            '<a target=\"_blank\" href=https://colab.research.google.com/notebooks/data_table.ipynb>data table notebook</a>'\n",
              "            + ' to learn more about interactive tables.';\n",
              "          element.innerHTML = '';\n",
              "          dataTable['output_type'] = 'display_data';\n",
              "          await google.colab.output.renderOutput(dataTable, element);\n",
              "          const docLink = document.createElement('div');\n",
              "          docLink.innerHTML = docLinkHtml;\n",
              "          element.appendChild(docLink);\n",
              "        }\n",
              "      </script>\n",
              "    </div>\n",
              "  </div>\n",
              "  "
            ]
          },
          "metadata": {},
          "execution_count": 9
        }
      ]
    },
    {
      "cell_type": "code",
      "source": [
        "#Se puede crear un data frame a partir de un diccionario\n",
        "songs = {'Album': ['Thriller', 'Back in Black', 'The Dark Side of the Moon',\n",
        "          'The Bodyguard', 'Bat Out of Hell'],\n",
        "          'Released':[1982, 1980, 1973, 1992, 1977],\n",
        "         'Length': ['00:42:19', '00:42:11', '00:42:49', '00:57:44', '00:46:33']}\n",
        "songs_frame = pd.DataFrame(songs)\n",
        "#Las keys del diccionario corresponden a los encabezados y los valores corresponden a las filas\n",
        "songs_frame.head()"
      ],
      "metadata": {
        "colab": {
          "base_uri": "https://localhost:8080/",
          "height": 206
        },
        "id": "0YCSHF6h7_bL",
        "outputId": "d52e467a-fac4-411a-a0c5-5124d5dff747"
      },
      "execution_count": null,
      "outputs": [
        {
          "output_type": "execute_result",
          "data": {
            "text/plain": [
              "                       Album  Released    Length\n",
              "0                   Thriller      1982  00:42:19\n",
              "1              Back in Black      1980  00:42:11\n",
              "2  The Dark Side of the Moon      1973  00:42:49\n",
              "3              The Bodyguard      1992  00:57:44\n",
              "4            Bat Out of Hell      1977  00:46:33"
            ],
            "text/html": [
              "\n",
              "  <div id=\"df-c846e109-2b6c-4d59-b73d-8caab9524d42\">\n",
              "    <div class=\"colab-df-container\">\n",
              "      <div>\n",
              "<style scoped>\n",
              "    .dataframe tbody tr th:only-of-type {\n",
              "        vertical-align: middle;\n",
              "    }\n",
              "\n",
              "    .dataframe tbody tr th {\n",
              "        vertical-align: top;\n",
              "    }\n",
              "\n",
              "    .dataframe thead th {\n",
              "        text-align: right;\n",
              "    }\n",
              "</style>\n",
              "<table border=\"1\" class=\"dataframe\">\n",
              "  <thead>\n",
              "    <tr style=\"text-align: right;\">\n",
              "      <th></th>\n",
              "      <th>Album</th>\n",
              "      <th>Released</th>\n",
              "      <th>Length</th>\n",
              "    </tr>\n",
              "  </thead>\n",
              "  <tbody>\n",
              "    <tr>\n",
              "      <th>0</th>\n",
              "      <td>Thriller</td>\n",
              "      <td>1982</td>\n",
              "      <td>00:42:19</td>\n",
              "    </tr>\n",
              "    <tr>\n",
              "      <th>1</th>\n",
              "      <td>Back in Black</td>\n",
              "      <td>1980</td>\n",
              "      <td>00:42:11</td>\n",
              "    </tr>\n",
              "    <tr>\n",
              "      <th>2</th>\n",
              "      <td>The Dark Side of the Moon</td>\n",
              "      <td>1973</td>\n",
              "      <td>00:42:49</td>\n",
              "    </tr>\n",
              "    <tr>\n",
              "      <th>3</th>\n",
              "      <td>The Bodyguard</td>\n",
              "      <td>1992</td>\n",
              "      <td>00:57:44</td>\n",
              "    </tr>\n",
              "    <tr>\n",
              "      <th>4</th>\n",
              "      <td>Bat Out of Hell</td>\n",
              "      <td>1977</td>\n",
              "      <td>00:46:33</td>\n",
              "    </tr>\n",
              "  </tbody>\n",
              "</table>\n",
              "</div>\n",
              "      <button class=\"colab-df-convert\" onclick=\"convertToInteractive('df-c846e109-2b6c-4d59-b73d-8caab9524d42')\"\n",
              "              title=\"Convert this dataframe to an interactive table.\"\n",
              "              style=\"display:none;\">\n",
              "        \n",
              "  <svg xmlns=\"http://www.w3.org/2000/svg\" height=\"24px\"viewBox=\"0 0 24 24\"\n",
              "       width=\"24px\">\n",
              "    <path d=\"M0 0h24v24H0V0z\" fill=\"none\"/>\n",
              "    <path d=\"M18.56 5.44l.94 2.06.94-2.06 2.06-.94-2.06-.94-.94-2.06-.94 2.06-2.06.94zm-11 1L8.5 8.5l.94-2.06 2.06-.94-2.06-.94L8.5 2.5l-.94 2.06-2.06.94zm10 10l.94 2.06.94-2.06 2.06-.94-2.06-.94-.94-2.06-.94 2.06-2.06.94z\"/><path d=\"M17.41 7.96l-1.37-1.37c-.4-.4-.92-.59-1.43-.59-.52 0-1.04.2-1.43.59L10.3 9.45l-7.72 7.72c-.78.78-.78 2.05 0 2.83L4 21.41c.39.39.9.59 1.41.59.51 0 1.02-.2 1.41-.59l7.78-7.78 2.81-2.81c.8-.78.8-2.07 0-2.86zM5.41 20L4 18.59l7.72-7.72 1.47 1.35L5.41 20z\"/>\n",
              "  </svg>\n",
              "      </button>\n",
              "      \n",
              "  <style>\n",
              "    .colab-df-container {\n",
              "      display:flex;\n",
              "      flex-wrap:wrap;\n",
              "      gap: 12px;\n",
              "    }\n",
              "\n",
              "    .colab-df-convert {\n",
              "      background-color: #E8F0FE;\n",
              "      border: none;\n",
              "      border-radius: 50%;\n",
              "      cursor: pointer;\n",
              "      display: none;\n",
              "      fill: #1967D2;\n",
              "      height: 32px;\n",
              "      padding: 0 0 0 0;\n",
              "      width: 32px;\n",
              "    }\n",
              "\n",
              "    .colab-df-convert:hover {\n",
              "      background-color: #E2EBFA;\n",
              "      box-shadow: 0px 1px 2px rgba(60, 64, 67, 0.3), 0px 1px 3px 1px rgba(60, 64, 67, 0.15);\n",
              "      fill: #174EA6;\n",
              "    }\n",
              "\n",
              "    [theme=dark] .colab-df-convert {\n",
              "      background-color: #3B4455;\n",
              "      fill: #D2E3FC;\n",
              "    }\n",
              "\n",
              "    [theme=dark] .colab-df-convert:hover {\n",
              "      background-color: #434B5C;\n",
              "      box-shadow: 0px 1px 3px 1px rgba(0, 0, 0, 0.15);\n",
              "      filter: drop-shadow(0px 1px 2px rgba(0, 0, 0, 0.3));\n",
              "      fill: #FFFFFF;\n",
              "    }\n",
              "  </style>\n",
              "\n",
              "      <script>\n",
              "        const buttonEl =\n",
              "          document.querySelector('#df-c846e109-2b6c-4d59-b73d-8caab9524d42 button.colab-df-convert');\n",
              "        buttonEl.style.display =\n",
              "          google.colab.kernel.accessAllowed ? 'block' : 'none';\n",
              "\n",
              "        async function convertToInteractive(key) {\n",
              "          const element = document.querySelector('#df-c846e109-2b6c-4d59-b73d-8caab9524d42');\n",
              "          const dataTable =\n",
              "            await google.colab.kernel.invokeFunction('convertToInteractive',\n",
              "                                                     [key], {});\n",
              "          if (!dataTable) return;\n",
              "\n",
              "          const docLinkHtml = 'Like what you see? Visit the ' +\n",
              "            '<a target=\"_blank\" href=https://colab.research.google.com/notebooks/data_table.ipynb>data table notebook</a>'\n",
              "            + ' to learn more about interactive tables.';\n",
              "          element.innerHTML = '';\n",
              "          dataTable['output_type'] = 'display_data';\n",
              "          await google.colab.output.renderOutput(dataTable, element);\n",
              "          const docLink = document.createElement('div');\n",
              "          docLink.innerHTML = docLinkHtml;\n",
              "          element.appendChild(docLink);\n",
              "        }\n",
              "      </script>\n",
              "    </div>\n",
              "  </div>\n",
              "  "
            ]
          },
          "metadata": {},
          "execution_count": 11
        }
      ]
    },
    {
      "cell_type": "code",
      "source": [
        "#Crear data frame a partir de una sola columna\n",
        "df1 = songs_frame[['Album']]\n",
        "df1.head()"
      ],
      "metadata": {
        "colab": {
          "base_uri": "https://localhost:8080/",
          "height": 206
        },
        "id": "dafyHZ0x9kzP",
        "outputId": "52ffa2c4-b76d-4fdc-c605-966036ab4739"
      },
      "execution_count": null,
      "outputs": [
        {
          "output_type": "execute_result",
          "data": {
            "text/plain": [
              "                       Album\n",
              "0                   Thriller\n",
              "1              Back in Black\n",
              "2  The Dark Side of the Moon\n",
              "3              The Bodyguard\n",
              "4            Bat Out of Hell"
            ],
            "text/html": [
              "\n",
              "  <div id=\"df-1815f5f7-8dba-48de-bc79-e40a989e383c\">\n",
              "    <div class=\"colab-df-container\">\n",
              "      <div>\n",
              "<style scoped>\n",
              "    .dataframe tbody tr th:only-of-type {\n",
              "        vertical-align: middle;\n",
              "    }\n",
              "\n",
              "    .dataframe tbody tr th {\n",
              "        vertical-align: top;\n",
              "    }\n",
              "\n",
              "    .dataframe thead th {\n",
              "        text-align: right;\n",
              "    }\n",
              "</style>\n",
              "<table border=\"1\" class=\"dataframe\">\n",
              "  <thead>\n",
              "    <tr style=\"text-align: right;\">\n",
              "      <th></th>\n",
              "      <th>Album</th>\n",
              "    </tr>\n",
              "  </thead>\n",
              "  <tbody>\n",
              "    <tr>\n",
              "      <th>0</th>\n",
              "      <td>Thriller</td>\n",
              "    </tr>\n",
              "    <tr>\n",
              "      <th>1</th>\n",
              "      <td>Back in Black</td>\n",
              "    </tr>\n",
              "    <tr>\n",
              "      <th>2</th>\n",
              "      <td>The Dark Side of the Moon</td>\n",
              "    </tr>\n",
              "    <tr>\n",
              "      <th>3</th>\n",
              "      <td>The Bodyguard</td>\n",
              "    </tr>\n",
              "    <tr>\n",
              "      <th>4</th>\n",
              "      <td>Bat Out of Hell</td>\n",
              "    </tr>\n",
              "  </tbody>\n",
              "</table>\n",
              "</div>\n",
              "      <button class=\"colab-df-convert\" onclick=\"convertToInteractive('df-1815f5f7-8dba-48de-bc79-e40a989e383c')\"\n",
              "              title=\"Convert this dataframe to an interactive table.\"\n",
              "              style=\"display:none;\">\n",
              "        \n",
              "  <svg xmlns=\"http://www.w3.org/2000/svg\" height=\"24px\"viewBox=\"0 0 24 24\"\n",
              "       width=\"24px\">\n",
              "    <path d=\"M0 0h24v24H0V0z\" fill=\"none\"/>\n",
              "    <path d=\"M18.56 5.44l.94 2.06.94-2.06 2.06-.94-2.06-.94-.94-2.06-.94 2.06-2.06.94zm-11 1L8.5 8.5l.94-2.06 2.06-.94-2.06-.94L8.5 2.5l-.94 2.06-2.06.94zm10 10l.94 2.06.94-2.06 2.06-.94-2.06-.94-.94-2.06-.94 2.06-2.06.94z\"/><path d=\"M17.41 7.96l-1.37-1.37c-.4-.4-.92-.59-1.43-.59-.52 0-1.04.2-1.43.59L10.3 9.45l-7.72 7.72c-.78.78-.78 2.05 0 2.83L4 21.41c.39.39.9.59 1.41.59.51 0 1.02-.2 1.41-.59l7.78-7.78 2.81-2.81c.8-.78.8-2.07 0-2.86zM5.41 20L4 18.59l7.72-7.72 1.47 1.35L5.41 20z\"/>\n",
              "  </svg>\n",
              "      </button>\n",
              "      \n",
              "  <style>\n",
              "    .colab-df-container {\n",
              "      display:flex;\n",
              "      flex-wrap:wrap;\n",
              "      gap: 12px;\n",
              "    }\n",
              "\n",
              "    .colab-df-convert {\n",
              "      background-color: #E8F0FE;\n",
              "      border: none;\n",
              "      border-radius: 50%;\n",
              "      cursor: pointer;\n",
              "      display: none;\n",
              "      fill: #1967D2;\n",
              "      height: 32px;\n",
              "      padding: 0 0 0 0;\n",
              "      width: 32px;\n",
              "    }\n",
              "\n",
              "    .colab-df-convert:hover {\n",
              "      background-color: #E2EBFA;\n",
              "      box-shadow: 0px 1px 2px rgba(60, 64, 67, 0.3), 0px 1px 3px 1px rgba(60, 64, 67, 0.15);\n",
              "      fill: #174EA6;\n",
              "    }\n",
              "\n",
              "    [theme=dark] .colab-df-convert {\n",
              "      background-color: #3B4455;\n",
              "      fill: #D2E3FC;\n",
              "    }\n",
              "\n",
              "    [theme=dark] .colab-df-convert:hover {\n",
              "      background-color: #434B5C;\n",
              "      box-shadow: 0px 1px 3px 1px rgba(0, 0, 0, 0.15);\n",
              "      filter: drop-shadow(0px 1px 2px rgba(0, 0, 0, 0.3));\n",
              "      fill: #FFFFFF;\n",
              "    }\n",
              "  </style>\n",
              "\n",
              "      <script>\n",
              "        const buttonEl =\n",
              "          document.querySelector('#df-1815f5f7-8dba-48de-bc79-e40a989e383c button.colab-df-convert');\n",
              "        buttonEl.style.display =\n",
              "          google.colab.kernel.accessAllowed ? 'block' : 'none';\n",
              "\n",
              "        async function convertToInteractive(key) {\n",
              "          const element = document.querySelector('#df-1815f5f7-8dba-48de-bc79-e40a989e383c');\n",
              "          const dataTable =\n",
              "            await google.colab.kernel.invokeFunction('convertToInteractive',\n",
              "                                                     [key], {});\n",
              "          if (!dataTable) return;\n",
              "\n",
              "          const docLinkHtml = 'Like what you see? Visit the ' +\n",
              "            '<a target=\"_blank\" href=https://colab.research.google.com/notebooks/data_table.ipynb>data table notebook</a>'\n",
              "            + ' to learn more about interactive tables.';\n",
              "          element.innerHTML = '';\n",
              "          dataTable['output_type'] = 'display_data';\n",
              "          await google.colab.output.renderOutput(dataTable, element);\n",
              "          const docLink = document.createElement('div');\n",
              "          docLink.innerHTML = docLinkHtml;\n",
              "          element.appendChild(docLink);\n",
              "        }\n",
              "      </script>\n",
              "    </div>\n",
              "  </div>\n",
              "  "
            ]
          },
          "metadata": {},
          "execution_count": 12
        }
      ]
    },
    {
      "cell_type": "code",
      "source": [
        "#Crear data frame a partir de múltiples columnas\n",
        "df2 = songs_frame[['Album', 'Length']]\n",
        "df2.head()"
      ],
      "metadata": {
        "colab": {
          "base_uri": "https://localhost:8080/",
          "height": 206
        },
        "id": "LSZ0oiww-Omm",
        "outputId": "259c47c9-3546-4ce2-b386-9e333190640e"
      },
      "execution_count": null,
      "outputs": [
        {
          "output_type": "execute_result",
          "data": {
            "text/plain": [
              "                       Album    Length\n",
              "0                   Thriller  00:42:19\n",
              "1              Back in Black  00:42:11\n",
              "2  The Dark Side of the Moon  00:42:49\n",
              "3              The Bodyguard  00:57:44\n",
              "4            Bat Out of Hell  00:46:33"
            ],
            "text/html": [
              "\n",
              "  <div id=\"df-b38b8959-1b38-445c-a2ad-624d8406d988\">\n",
              "    <div class=\"colab-df-container\">\n",
              "      <div>\n",
              "<style scoped>\n",
              "    .dataframe tbody tr th:only-of-type {\n",
              "        vertical-align: middle;\n",
              "    }\n",
              "\n",
              "    .dataframe tbody tr th {\n",
              "        vertical-align: top;\n",
              "    }\n",
              "\n",
              "    .dataframe thead th {\n",
              "        text-align: right;\n",
              "    }\n",
              "</style>\n",
              "<table border=\"1\" class=\"dataframe\">\n",
              "  <thead>\n",
              "    <tr style=\"text-align: right;\">\n",
              "      <th></th>\n",
              "      <th>Album</th>\n",
              "      <th>Length</th>\n",
              "    </tr>\n",
              "  </thead>\n",
              "  <tbody>\n",
              "    <tr>\n",
              "      <th>0</th>\n",
              "      <td>Thriller</td>\n",
              "      <td>00:42:19</td>\n",
              "    </tr>\n",
              "    <tr>\n",
              "      <th>1</th>\n",
              "      <td>Back in Black</td>\n",
              "      <td>00:42:11</td>\n",
              "    </tr>\n",
              "    <tr>\n",
              "      <th>2</th>\n",
              "      <td>The Dark Side of the Moon</td>\n",
              "      <td>00:42:49</td>\n",
              "    </tr>\n",
              "    <tr>\n",
              "      <th>3</th>\n",
              "      <td>The Bodyguard</td>\n",
              "      <td>00:57:44</td>\n",
              "    </tr>\n",
              "    <tr>\n",
              "      <th>4</th>\n",
              "      <td>Bat Out of Hell</td>\n",
              "      <td>00:46:33</td>\n",
              "    </tr>\n",
              "  </tbody>\n",
              "</table>\n",
              "</div>\n",
              "      <button class=\"colab-df-convert\" onclick=\"convertToInteractive('df-b38b8959-1b38-445c-a2ad-624d8406d988')\"\n",
              "              title=\"Convert this dataframe to an interactive table.\"\n",
              "              style=\"display:none;\">\n",
              "        \n",
              "  <svg xmlns=\"http://www.w3.org/2000/svg\" height=\"24px\"viewBox=\"0 0 24 24\"\n",
              "       width=\"24px\">\n",
              "    <path d=\"M0 0h24v24H0V0z\" fill=\"none\"/>\n",
              "    <path d=\"M18.56 5.44l.94 2.06.94-2.06 2.06-.94-2.06-.94-.94-2.06-.94 2.06-2.06.94zm-11 1L8.5 8.5l.94-2.06 2.06-.94-2.06-.94L8.5 2.5l-.94 2.06-2.06.94zm10 10l.94 2.06.94-2.06 2.06-.94-2.06-.94-.94-2.06-.94 2.06-2.06.94z\"/><path d=\"M17.41 7.96l-1.37-1.37c-.4-.4-.92-.59-1.43-.59-.52 0-1.04.2-1.43.59L10.3 9.45l-7.72 7.72c-.78.78-.78 2.05 0 2.83L4 21.41c.39.39.9.59 1.41.59.51 0 1.02-.2 1.41-.59l7.78-7.78 2.81-2.81c.8-.78.8-2.07 0-2.86zM5.41 20L4 18.59l7.72-7.72 1.47 1.35L5.41 20z\"/>\n",
              "  </svg>\n",
              "      </button>\n",
              "      \n",
              "  <style>\n",
              "    .colab-df-container {\n",
              "      display:flex;\n",
              "      flex-wrap:wrap;\n",
              "      gap: 12px;\n",
              "    }\n",
              "\n",
              "    .colab-df-convert {\n",
              "      background-color: #E8F0FE;\n",
              "      border: none;\n",
              "      border-radius: 50%;\n",
              "      cursor: pointer;\n",
              "      display: none;\n",
              "      fill: #1967D2;\n",
              "      height: 32px;\n",
              "      padding: 0 0 0 0;\n",
              "      width: 32px;\n",
              "    }\n",
              "\n",
              "    .colab-df-convert:hover {\n",
              "      background-color: #E2EBFA;\n",
              "      box-shadow: 0px 1px 2px rgba(60, 64, 67, 0.3), 0px 1px 3px 1px rgba(60, 64, 67, 0.15);\n",
              "      fill: #174EA6;\n",
              "    }\n",
              "\n",
              "    [theme=dark] .colab-df-convert {\n",
              "      background-color: #3B4455;\n",
              "      fill: #D2E3FC;\n",
              "    }\n",
              "\n",
              "    [theme=dark] .colab-df-convert:hover {\n",
              "      background-color: #434B5C;\n",
              "      box-shadow: 0px 1px 3px 1px rgba(0, 0, 0, 0.15);\n",
              "      filter: drop-shadow(0px 1px 2px rgba(0, 0, 0, 0.3));\n",
              "      fill: #FFFFFF;\n",
              "    }\n",
              "  </style>\n",
              "\n",
              "      <script>\n",
              "        const buttonEl =\n",
              "          document.querySelector('#df-b38b8959-1b38-445c-a2ad-624d8406d988 button.colab-df-convert');\n",
              "        buttonEl.style.display =\n",
              "          google.colab.kernel.accessAllowed ? 'block' : 'none';\n",
              "\n",
              "        async function convertToInteractive(key) {\n",
              "          const element = document.querySelector('#df-b38b8959-1b38-445c-a2ad-624d8406d988');\n",
              "          const dataTable =\n",
              "            await google.colab.kernel.invokeFunction('convertToInteractive',\n",
              "                                                     [key], {});\n",
              "          if (!dataTable) return;\n",
              "\n",
              "          const docLinkHtml = 'Like what you see? Visit the ' +\n",
              "            '<a target=\"_blank\" href=https://colab.research.google.com/notebooks/data_table.ipynb>data table notebook</a>'\n",
              "            + ' to learn more about interactive tables.';\n",
              "          element.innerHTML = '';\n",
              "          dataTable['output_type'] = 'display_data';\n",
              "          await google.colab.output.renderOutput(dataTable, element);\n",
              "          const docLink = document.createElement('div');\n",
              "          docLink.innerHTML = docLinkHtml;\n",
              "          element.appendChild(docLink);\n",
              "        }\n",
              "      </script>\n",
              "    </div>\n",
              "  </div>\n",
              "  "
            ]
          },
          "metadata": {},
          "execution_count": 13
        }
      ]
    },
    {
      "cell_type": "code",
      "source": [
        "#El método iloc funciona para obtener elementos únicos del data frame\n",
        "songs_frame.iloc[0,0]"
      ],
      "metadata": {
        "colab": {
          "base_uri": "https://localhost:8080/",
          "height": 35
        },
        "id": "2wZQGhiw-hLr",
        "outputId": "2b84d25b-2e6d-486f-9f9e-d662482062d3"
      },
      "execution_count": null,
      "outputs": [
        {
          "output_type": "execute_result",
          "data": {
            "text/plain": [
              "'Thriller'"
            ],
            "application/vnd.google.colaboratory.intrinsic+json": {
              "type": "string"
            }
          },
          "metadata": {},
          "execution_count": 18
        }
      ]
    },
    {
      "cell_type": "code",
      "source": [
        "#El método ix no se utiliza más, por lo tanto, ahora se utilizan los métodos iloc y loc para cumplir con las funciones de ix\n",
        "songs_frame.loc[1,'Album']"
      ],
      "metadata": {
        "colab": {
          "base_uri": "https://localhost:8080/",
          "height": 35
        },
        "id": "hb6jB2Im-5fU",
        "outputId": "057baaab-ce68-4dae-93e7-c6f19cb98186"
      },
      "execution_count": null,
      "outputs": [
        {
          "output_type": "execute_result",
          "data": {
            "text/plain": [
              "'Back in Black'"
            ],
            "application/vnd.google.colaboratory.intrinsic+json": {
              "type": "string"
            }
          },
          "metadata": {},
          "execution_count": 20
        }
      ]
    },
    {
      "cell_type": "code",
      "source": [
        "#Forma de obtener una parte del data frame y guardarla en otra variable\n",
        "#Se puede realizar con slicing\n",
        "z = songs_frame.iloc[0:1,0:2]\n",
        "z.head()"
      ],
      "metadata": {
        "colab": {
          "base_uri": "https://localhost:8080/",
          "height": 81
        },
        "id": "E9LmumBKAPHL",
        "outputId": "4297689b-a84c-4817-f33d-185e7849a60c"
      },
      "execution_count": null,
      "outputs": [
        {
          "output_type": "execute_result",
          "data": {
            "text/plain": [
              "      Album  Released\n",
              "0  Thriller      1982"
            ],
            "text/html": [
              "\n",
              "  <div id=\"df-921e0ab6-d627-43b0-b1d4-4ede3f4a1ac3\">\n",
              "    <div class=\"colab-df-container\">\n",
              "      <div>\n",
              "<style scoped>\n",
              "    .dataframe tbody tr th:only-of-type {\n",
              "        vertical-align: middle;\n",
              "    }\n",
              "\n",
              "    .dataframe tbody tr th {\n",
              "        vertical-align: top;\n",
              "    }\n",
              "\n",
              "    .dataframe thead th {\n",
              "        text-align: right;\n",
              "    }\n",
              "</style>\n",
              "<table border=\"1\" class=\"dataframe\">\n",
              "  <thead>\n",
              "    <tr style=\"text-align: right;\">\n",
              "      <th></th>\n",
              "      <th>Album</th>\n",
              "      <th>Released</th>\n",
              "    </tr>\n",
              "  </thead>\n",
              "  <tbody>\n",
              "    <tr>\n",
              "      <th>0</th>\n",
              "      <td>Thriller</td>\n",
              "      <td>1982</td>\n",
              "    </tr>\n",
              "  </tbody>\n",
              "</table>\n",
              "</div>\n",
              "      <button class=\"colab-df-convert\" onclick=\"convertToInteractive('df-921e0ab6-d627-43b0-b1d4-4ede3f4a1ac3')\"\n",
              "              title=\"Convert this dataframe to an interactive table.\"\n",
              "              style=\"display:none;\">\n",
              "        \n",
              "  <svg xmlns=\"http://www.w3.org/2000/svg\" height=\"24px\"viewBox=\"0 0 24 24\"\n",
              "       width=\"24px\">\n",
              "    <path d=\"M0 0h24v24H0V0z\" fill=\"none\"/>\n",
              "    <path d=\"M18.56 5.44l.94 2.06.94-2.06 2.06-.94-2.06-.94-.94-2.06-.94 2.06-2.06.94zm-11 1L8.5 8.5l.94-2.06 2.06-.94-2.06-.94L8.5 2.5l-.94 2.06-2.06.94zm10 10l.94 2.06.94-2.06 2.06-.94-2.06-.94-.94-2.06-.94 2.06-2.06.94z\"/><path d=\"M17.41 7.96l-1.37-1.37c-.4-.4-.92-.59-1.43-.59-.52 0-1.04.2-1.43.59L10.3 9.45l-7.72 7.72c-.78.78-.78 2.05 0 2.83L4 21.41c.39.39.9.59 1.41.59.51 0 1.02-.2 1.41-.59l7.78-7.78 2.81-2.81c.8-.78.8-2.07 0-2.86zM5.41 20L4 18.59l7.72-7.72 1.47 1.35L5.41 20z\"/>\n",
              "  </svg>\n",
              "      </button>\n",
              "      \n",
              "  <style>\n",
              "    .colab-df-container {\n",
              "      display:flex;\n",
              "      flex-wrap:wrap;\n",
              "      gap: 12px;\n",
              "    }\n",
              "\n",
              "    .colab-df-convert {\n",
              "      background-color: #E8F0FE;\n",
              "      border: none;\n",
              "      border-radius: 50%;\n",
              "      cursor: pointer;\n",
              "      display: none;\n",
              "      fill: #1967D2;\n",
              "      height: 32px;\n",
              "      padding: 0 0 0 0;\n",
              "      width: 32px;\n",
              "    }\n",
              "\n",
              "    .colab-df-convert:hover {\n",
              "      background-color: #E2EBFA;\n",
              "      box-shadow: 0px 1px 2px rgba(60, 64, 67, 0.3), 0px 1px 3px 1px rgba(60, 64, 67, 0.15);\n",
              "      fill: #174EA6;\n",
              "    }\n",
              "\n",
              "    [theme=dark] .colab-df-convert {\n",
              "      background-color: #3B4455;\n",
              "      fill: #D2E3FC;\n",
              "    }\n",
              "\n",
              "    [theme=dark] .colab-df-convert:hover {\n",
              "      background-color: #434B5C;\n",
              "      box-shadow: 0px 1px 3px 1px rgba(0, 0, 0, 0.15);\n",
              "      filter: drop-shadow(0px 1px 2px rgba(0, 0, 0, 0.3));\n",
              "      fill: #FFFFFF;\n",
              "    }\n",
              "  </style>\n",
              "\n",
              "      <script>\n",
              "        const buttonEl =\n",
              "          document.querySelector('#df-921e0ab6-d627-43b0-b1d4-4ede3f4a1ac3 button.colab-df-convert');\n",
              "        buttonEl.style.display =\n",
              "          google.colab.kernel.accessAllowed ? 'block' : 'none';\n",
              "\n",
              "        async function convertToInteractive(key) {\n",
              "          const element = document.querySelector('#df-921e0ab6-d627-43b0-b1d4-4ede3f4a1ac3');\n",
              "          const dataTable =\n",
              "            await google.colab.kernel.invokeFunction('convertToInteractive',\n",
              "                                                     [key], {});\n",
              "          if (!dataTable) return;\n",
              "\n",
              "          const docLinkHtml = 'Like what you see? Visit the ' +\n",
              "            '<a target=\"_blank\" href=https://colab.research.google.com/notebooks/data_table.ipynb>data table notebook</a>'\n",
              "            + ' to learn more about interactive tables.';\n",
              "          element.innerHTML = '';\n",
              "          dataTable['output_type'] = 'display_data';\n",
              "          await google.colab.output.renderOutput(dataTable, element);\n",
              "          const docLink = document.createElement('div');\n",
              "          docLink.innerHTML = docLinkHtml;\n",
              "          element.appendChild(docLink);\n",
              "        }\n",
              "      </script>\n",
              "    </div>\n",
              "  </div>\n",
              "  "
            ]
          },
          "metadata": {},
          "execution_count": 22
        }
      ]
    },
    {
      "cell_type": "code",
      "source": [
        "#También se puede indicar el slicing utilizando los nombres de los encabezados\n",
        "z1 = df.loc[0:3,'longitude':'total_rooms']\n",
        "z1.head()"
      ],
      "metadata": {
        "colab": {
          "base_uri": "https://localhost:8080/",
          "height": 175
        },
        "id": "ROco94dmAy0c",
        "outputId": "b31057a3-e8e4-47eb-8070-373d7ac5633a"
      },
      "execution_count": null,
      "outputs": [
        {
          "output_type": "execute_result",
          "data": {
            "text/plain": [
              "   longitude  latitude  housing_median_age  total_rooms\n",
              "0    -114.31     34.19                15.0       5612.0\n",
              "1    -114.47     34.40                19.0       7650.0\n",
              "2    -114.56     33.69                17.0        720.0\n",
              "3    -114.57     33.64                14.0       1501.0"
            ],
            "text/html": [
              "\n",
              "  <div id=\"df-69dd3e51-4cdd-4ef0-8116-4daed4836e42\">\n",
              "    <div class=\"colab-df-container\">\n",
              "      <div>\n",
              "<style scoped>\n",
              "    .dataframe tbody tr th:only-of-type {\n",
              "        vertical-align: middle;\n",
              "    }\n",
              "\n",
              "    .dataframe tbody tr th {\n",
              "        vertical-align: top;\n",
              "    }\n",
              "\n",
              "    .dataframe thead th {\n",
              "        text-align: right;\n",
              "    }\n",
              "</style>\n",
              "<table border=\"1\" class=\"dataframe\">\n",
              "  <thead>\n",
              "    <tr style=\"text-align: right;\">\n",
              "      <th></th>\n",
              "      <th>longitude</th>\n",
              "      <th>latitude</th>\n",
              "      <th>housing_median_age</th>\n",
              "      <th>total_rooms</th>\n",
              "    </tr>\n",
              "  </thead>\n",
              "  <tbody>\n",
              "    <tr>\n",
              "      <th>0</th>\n",
              "      <td>-114.31</td>\n",
              "      <td>34.19</td>\n",
              "      <td>15.0</td>\n",
              "      <td>5612.0</td>\n",
              "    </tr>\n",
              "    <tr>\n",
              "      <th>1</th>\n",
              "      <td>-114.47</td>\n",
              "      <td>34.40</td>\n",
              "      <td>19.0</td>\n",
              "      <td>7650.0</td>\n",
              "    </tr>\n",
              "    <tr>\n",
              "      <th>2</th>\n",
              "      <td>-114.56</td>\n",
              "      <td>33.69</td>\n",
              "      <td>17.0</td>\n",
              "      <td>720.0</td>\n",
              "    </tr>\n",
              "    <tr>\n",
              "      <th>3</th>\n",
              "      <td>-114.57</td>\n",
              "      <td>33.64</td>\n",
              "      <td>14.0</td>\n",
              "      <td>1501.0</td>\n",
              "    </tr>\n",
              "  </tbody>\n",
              "</table>\n",
              "</div>\n",
              "      <button class=\"colab-df-convert\" onclick=\"convertToInteractive('df-69dd3e51-4cdd-4ef0-8116-4daed4836e42')\"\n",
              "              title=\"Convert this dataframe to an interactive table.\"\n",
              "              style=\"display:none;\">\n",
              "        \n",
              "  <svg xmlns=\"http://www.w3.org/2000/svg\" height=\"24px\"viewBox=\"0 0 24 24\"\n",
              "       width=\"24px\">\n",
              "    <path d=\"M0 0h24v24H0V0z\" fill=\"none\"/>\n",
              "    <path d=\"M18.56 5.44l.94 2.06.94-2.06 2.06-.94-2.06-.94-.94-2.06-.94 2.06-2.06.94zm-11 1L8.5 8.5l.94-2.06 2.06-.94-2.06-.94L8.5 2.5l-.94 2.06-2.06.94zm10 10l.94 2.06.94-2.06 2.06-.94-2.06-.94-.94-2.06-.94 2.06-2.06.94z\"/><path d=\"M17.41 7.96l-1.37-1.37c-.4-.4-.92-.59-1.43-.59-.52 0-1.04.2-1.43.59L10.3 9.45l-7.72 7.72c-.78.78-.78 2.05 0 2.83L4 21.41c.39.39.9.59 1.41.59.51 0 1.02-.2 1.41-.59l7.78-7.78 2.81-2.81c.8-.78.8-2.07 0-2.86zM5.41 20L4 18.59l7.72-7.72 1.47 1.35L5.41 20z\"/>\n",
              "  </svg>\n",
              "      </button>\n",
              "      \n",
              "  <style>\n",
              "    .colab-df-container {\n",
              "      display:flex;\n",
              "      flex-wrap:wrap;\n",
              "      gap: 12px;\n",
              "    }\n",
              "\n",
              "    .colab-df-convert {\n",
              "      background-color: #E8F0FE;\n",
              "      border: none;\n",
              "      border-radius: 50%;\n",
              "      cursor: pointer;\n",
              "      display: none;\n",
              "      fill: #1967D2;\n",
              "      height: 32px;\n",
              "      padding: 0 0 0 0;\n",
              "      width: 32px;\n",
              "    }\n",
              "\n",
              "    .colab-df-convert:hover {\n",
              "      background-color: #E2EBFA;\n",
              "      box-shadow: 0px 1px 2px rgba(60, 64, 67, 0.3), 0px 1px 3px 1px rgba(60, 64, 67, 0.15);\n",
              "      fill: #174EA6;\n",
              "    }\n",
              "\n",
              "    [theme=dark] .colab-df-convert {\n",
              "      background-color: #3B4455;\n",
              "      fill: #D2E3FC;\n",
              "    }\n",
              "\n",
              "    [theme=dark] .colab-df-convert:hover {\n",
              "      background-color: #434B5C;\n",
              "      box-shadow: 0px 1px 3px 1px rgba(0, 0, 0, 0.15);\n",
              "      filter: drop-shadow(0px 1px 2px rgba(0, 0, 0, 0.3));\n",
              "      fill: #FFFFFF;\n",
              "    }\n",
              "  </style>\n",
              "\n",
              "      <script>\n",
              "        const buttonEl =\n",
              "          document.querySelector('#df-69dd3e51-4cdd-4ef0-8116-4daed4836e42 button.colab-df-convert');\n",
              "        buttonEl.style.display =\n",
              "          google.colab.kernel.accessAllowed ? 'block' : 'none';\n",
              "\n",
              "        async function convertToInteractive(key) {\n",
              "          const element = document.querySelector('#df-69dd3e51-4cdd-4ef0-8116-4daed4836e42');\n",
              "          const dataTable =\n",
              "            await google.colab.kernel.invokeFunction('convertToInteractive',\n",
              "                                                     [key], {});\n",
              "          if (!dataTable) return;\n",
              "\n",
              "          const docLinkHtml = 'Like what you see? Visit the ' +\n",
              "            '<a target=\"_blank\" href=https://colab.research.google.com/notebooks/data_table.ipynb>data table notebook</a>'\n",
              "            + ' to learn more about interactive tables.';\n",
              "          element.innerHTML = '';\n",
              "          dataTable['output_type'] = 'display_data';\n",
              "          await google.colab.output.renderOutput(dataTable, element);\n",
              "          const docLink = document.createElement('div');\n",
              "          docLink.innerHTML = docLinkHtml;\n",
              "          element.appendChild(docLink);\n",
              "        }\n",
              "      </script>\n",
              "    </div>\n",
              "  </div>\n",
              "  "
            ]
          },
          "metadata": {},
          "execution_count": 24
        }
      ]
    },
    {
      "cell_type": "markdown",
      "source": [
        "##Working with and Saving Data with Pandas"
      ],
      "metadata": {
        "id": "I8FTruUUHLm0"
      }
    },
    {
      "cell_type": "code",
      "source": [
        "#Es posible trabajar con datos y guardarlos en otro formato\n",
        "#Pandas tiene un método unique para determinar los elementos únicos de de una columna de un dataframe\n",
        "songs_frame['Released'].unique() #El resultado consiste en un arreglo con los elementos únicos en esa columna"
      ],
      "metadata": {
        "colab": {
          "base_uri": "https://localhost:8080/"
        },
        "id": "z0q8puBPBs4s",
        "outputId": "a06e25d4-d4e6-4eea-b699-db9c9b2050c9"
      },
      "execution_count": null,
      "outputs": [
        {
          "output_type": "execute_result",
          "data": {
            "text/plain": [
              "array([1982, 1980, 1973, 1992, 1977])"
            ]
          },
          "metadata": {},
          "execution_count": 25
        }
      ]
    },
    {
      "cell_type": "code",
      "source": [
        "songs_frame['Released']>=1980 #Esta línea de código regresa un resultados True y False, indicando qué elementos de la columna cumplen con la condición establecida"
      ],
      "metadata": {
        "colab": {
          "base_uri": "https://localhost:8080/"
        },
        "id": "wVN1VW8_H8Oh",
        "outputId": "8b6d847a-b9f9-4c99-99a6-5c28b120156c"
      },
      "execution_count": null,
      "outputs": [
        {
          "output_type": "execute_result",
          "data": {
            "text/plain": [
              "0     True\n",
              "1     True\n",
              "2    False\n",
              "3     True\n",
              "4    False\n",
              "Name: Released, dtype: bool"
            ]
          },
          "metadata": {},
          "execution_count": 28
        }
      ]
    },
    {
      "cell_type": "code",
      "source": [
        "#Con este bloque de código se puede crear un data frame a partir de los datos que cumplen con la condición\n",
        "df_3 = songs_frame[songs_frame['Released']>=1980]\n",
        "df_3"
      ],
      "metadata": {
        "colab": {
          "base_uri": "https://localhost:8080/",
          "height": 143
        },
        "id": "0QvfNna-IZjf",
        "outputId": "a8835d62-c2e4-4f5a-fb76-8935ebb2b665"
      },
      "execution_count": null,
      "outputs": [
        {
          "output_type": "execute_result",
          "data": {
            "text/plain": [
              "           Album  Released    Length\n",
              "0       Thriller      1982  00:42:19\n",
              "1  Back in Black      1980  00:42:11\n",
              "3  The Bodyguard      1992  00:57:44"
            ],
            "text/html": [
              "\n",
              "  <div id=\"df-72a6320d-d961-4d96-9a7b-d9e7cb2d9515\">\n",
              "    <div class=\"colab-df-container\">\n",
              "      <div>\n",
              "<style scoped>\n",
              "    .dataframe tbody tr th:only-of-type {\n",
              "        vertical-align: middle;\n",
              "    }\n",
              "\n",
              "    .dataframe tbody tr th {\n",
              "        vertical-align: top;\n",
              "    }\n",
              "\n",
              "    .dataframe thead th {\n",
              "        text-align: right;\n",
              "    }\n",
              "</style>\n",
              "<table border=\"1\" class=\"dataframe\">\n",
              "  <thead>\n",
              "    <tr style=\"text-align: right;\">\n",
              "      <th></th>\n",
              "      <th>Album</th>\n",
              "      <th>Released</th>\n",
              "      <th>Length</th>\n",
              "    </tr>\n",
              "  </thead>\n",
              "  <tbody>\n",
              "    <tr>\n",
              "      <th>0</th>\n",
              "      <td>Thriller</td>\n",
              "      <td>1982</td>\n",
              "      <td>00:42:19</td>\n",
              "    </tr>\n",
              "    <tr>\n",
              "      <th>1</th>\n",
              "      <td>Back in Black</td>\n",
              "      <td>1980</td>\n",
              "      <td>00:42:11</td>\n",
              "    </tr>\n",
              "    <tr>\n",
              "      <th>3</th>\n",
              "      <td>The Bodyguard</td>\n",
              "      <td>1992</td>\n",
              "      <td>00:57:44</td>\n",
              "    </tr>\n",
              "  </tbody>\n",
              "</table>\n",
              "</div>\n",
              "      <button class=\"colab-df-convert\" onclick=\"convertToInteractive('df-72a6320d-d961-4d96-9a7b-d9e7cb2d9515')\"\n",
              "              title=\"Convert this dataframe to an interactive table.\"\n",
              "              style=\"display:none;\">\n",
              "        \n",
              "  <svg xmlns=\"http://www.w3.org/2000/svg\" height=\"24px\"viewBox=\"0 0 24 24\"\n",
              "       width=\"24px\">\n",
              "    <path d=\"M0 0h24v24H0V0z\" fill=\"none\"/>\n",
              "    <path d=\"M18.56 5.44l.94 2.06.94-2.06 2.06-.94-2.06-.94-.94-2.06-.94 2.06-2.06.94zm-11 1L8.5 8.5l.94-2.06 2.06-.94-2.06-.94L8.5 2.5l-.94 2.06-2.06.94zm10 10l.94 2.06.94-2.06 2.06-.94-2.06-.94-.94-2.06-.94 2.06-2.06.94z\"/><path d=\"M17.41 7.96l-1.37-1.37c-.4-.4-.92-.59-1.43-.59-.52 0-1.04.2-1.43.59L10.3 9.45l-7.72 7.72c-.78.78-.78 2.05 0 2.83L4 21.41c.39.39.9.59 1.41.59.51 0 1.02-.2 1.41-.59l7.78-7.78 2.81-2.81c.8-.78.8-2.07 0-2.86zM5.41 20L4 18.59l7.72-7.72 1.47 1.35L5.41 20z\"/>\n",
              "  </svg>\n",
              "      </button>\n",
              "      \n",
              "  <style>\n",
              "    .colab-df-container {\n",
              "      display:flex;\n",
              "      flex-wrap:wrap;\n",
              "      gap: 12px;\n",
              "    }\n",
              "\n",
              "    .colab-df-convert {\n",
              "      background-color: #E8F0FE;\n",
              "      border: none;\n",
              "      border-radius: 50%;\n",
              "      cursor: pointer;\n",
              "      display: none;\n",
              "      fill: #1967D2;\n",
              "      height: 32px;\n",
              "      padding: 0 0 0 0;\n",
              "      width: 32px;\n",
              "    }\n",
              "\n",
              "    .colab-df-convert:hover {\n",
              "      background-color: #E2EBFA;\n",
              "      box-shadow: 0px 1px 2px rgba(60, 64, 67, 0.3), 0px 1px 3px 1px rgba(60, 64, 67, 0.15);\n",
              "      fill: #174EA6;\n",
              "    }\n",
              "\n",
              "    [theme=dark] .colab-df-convert {\n",
              "      background-color: #3B4455;\n",
              "      fill: #D2E3FC;\n",
              "    }\n",
              "\n",
              "    [theme=dark] .colab-df-convert:hover {\n",
              "      background-color: #434B5C;\n",
              "      box-shadow: 0px 1px 3px 1px rgba(0, 0, 0, 0.15);\n",
              "      filter: drop-shadow(0px 1px 2px rgba(0, 0, 0, 0.3));\n",
              "      fill: #FFFFFF;\n",
              "    }\n",
              "  </style>\n",
              "\n",
              "      <script>\n",
              "        const buttonEl =\n",
              "          document.querySelector('#df-72a6320d-d961-4d96-9a7b-d9e7cb2d9515 button.colab-df-convert');\n",
              "        buttonEl.style.display =\n",
              "          google.colab.kernel.accessAllowed ? 'block' : 'none';\n",
              "\n",
              "        async function convertToInteractive(key) {\n",
              "          const element = document.querySelector('#df-72a6320d-d961-4d96-9a7b-d9e7cb2d9515');\n",
              "          const dataTable =\n",
              "            await google.colab.kernel.invokeFunction('convertToInteractive',\n",
              "                                                     [key], {});\n",
              "          if (!dataTable) return;\n",
              "\n",
              "          const docLinkHtml = 'Like what you see? Visit the ' +\n",
              "            '<a target=\"_blank\" href=https://colab.research.google.com/notebooks/data_table.ipynb>data table notebook</a>'\n",
              "            + ' to learn more about interactive tables.';\n",
              "          element.innerHTML = '';\n",
              "          dataTable['output_type'] = 'display_data';\n",
              "          await google.colab.output.renderOutput(dataTable, element);\n",
              "          const docLink = document.createElement('div');\n",
              "          docLink.innerHTML = docLinkHtml;\n",
              "          element.appendChild(docLink);\n",
              "        }\n",
              "      </script>\n",
              "    </div>\n",
              "  </div>\n",
              "  "
            ]
          },
          "metadata": {},
          "execution_count": 29
        }
      ]
    },
    {
      "cell_type": "code",
      "source": [
        "#Guardar un data frame en un archivo .csv de la siguiente manera\n",
        "df_3.to_csv('/content/drive/MyDrive/archivos_para_colab/songs_frame1.csv') #Hay otros métodos para guardar los datos en otro formato"
      ],
      "metadata": {
        "id": "4W_fVe6KJVGu"
      },
      "execution_count": null,
      "outputs": []
    },
    {
      "cell_type": "code",
      "source": [
        "x = df_3['Album'] #De esta manera se guarda el dato como una serie de pandas, es decir, un arreglo 1-D\n",
        "x"
      ],
      "metadata": {
        "colab": {
          "base_uri": "https://localhost:8080/"
        },
        "id": "9DrxZ2JfKF3M",
        "outputId": "59d8f881-769f-4b59-f1ae-a9327d278cb0"
      },
      "execution_count": null,
      "outputs": [
        {
          "output_type": "execute_result",
          "data": {
            "text/plain": [
              "0         Thriller\n",
              "1    Back in Black\n",
              "3    The Bodyguard\n",
              "Name: Album, dtype: object"
            ]
          },
          "metadata": {},
          "execution_count": 31
        }
      ]
    },
    {
      "cell_type": "code",
      "source": [
        "#Cambiar las etiquetas de los índices de las filas\n",
        "nuevos_indices = ['a', 'b', 'c'] #Estas serán las nuevas etiquetas de los índices, se puede crear una lista con las nuevas etiquetas\n",
        "df_3.index = nuevos_indices #Se modifica la propiedad index con la lista definida previamente\n",
        "df_3"
      ],
      "metadata": {
        "colab": {
          "base_uri": "https://localhost:8080/",
          "height": 143
        },
        "id": "PIwojd67L7WR",
        "outputId": "098c2234-190d-4a7b-9dba-1d81e836bd59"
      },
      "execution_count": null,
      "outputs": [
        {
          "output_type": "execute_result",
          "data": {
            "text/plain": [
              "           Album  Released    Length\n",
              "a       Thriller      1982  00:42:19\n",
              "b  Back in Black      1980  00:42:11\n",
              "c  The Bodyguard      1992  00:57:44"
            ],
            "text/html": [
              "\n",
              "  <div id=\"df-54fc213a-7437-4370-8448-7b06e1ff2855\">\n",
              "    <div class=\"colab-df-container\">\n",
              "      <div>\n",
              "<style scoped>\n",
              "    .dataframe tbody tr th:only-of-type {\n",
              "        vertical-align: middle;\n",
              "    }\n",
              "\n",
              "    .dataframe tbody tr th {\n",
              "        vertical-align: top;\n",
              "    }\n",
              "\n",
              "    .dataframe thead th {\n",
              "        text-align: right;\n",
              "    }\n",
              "</style>\n",
              "<table border=\"1\" class=\"dataframe\">\n",
              "  <thead>\n",
              "    <tr style=\"text-align: right;\">\n",
              "      <th></th>\n",
              "      <th>Album</th>\n",
              "      <th>Released</th>\n",
              "      <th>Length</th>\n",
              "    </tr>\n",
              "  </thead>\n",
              "  <tbody>\n",
              "    <tr>\n",
              "      <th>a</th>\n",
              "      <td>Thriller</td>\n",
              "      <td>1982</td>\n",
              "      <td>00:42:19</td>\n",
              "    </tr>\n",
              "    <tr>\n",
              "      <th>b</th>\n",
              "      <td>Back in Black</td>\n",
              "      <td>1980</td>\n",
              "      <td>00:42:11</td>\n",
              "    </tr>\n",
              "    <tr>\n",
              "      <th>c</th>\n",
              "      <td>The Bodyguard</td>\n",
              "      <td>1992</td>\n",
              "      <td>00:57:44</td>\n",
              "    </tr>\n",
              "  </tbody>\n",
              "</table>\n",
              "</div>\n",
              "      <button class=\"colab-df-convert\" onclick=\"convertToInteractive('df-54fc213a-7437-4370-8448-7b06e1ff2855')\"\n",
              "              title=\"Convert this dataframe to an interactive table.\"\n",
              "              style=\"display:none;\">\n",
              "        \n",
              "  <svg xmlns=\"http://www.w3.org/2000/svg\" height=\"24px\"viewBox=\"0 0 24 24\"\n",
              "       width=\"24px\">\n",
              "    <path d=\"M0 0h24v24H0V0z\" fill=\"none\"/>\n",
              "    <path d=\"M18.56 5.44l.94 2.06.94-2.06 2.06-.94-2.06-.94-.94-2.06-.94 2.06-2.06.94zm-11 1L8.5 8.5l.94-2.06 2.06-.94-2.06-.94L8.5 2.5l-.94 2.06-2.06.94zm10 10l.94 2.06.94-2.06 2.06-.94-2.06-.94-.94-2.06-.94 2.06-2.06.94z\"/><path d=\"M17.41 7.96l-1.37-1.37c-.4-.4-.92-.59-1.43-.59-.52 0-1.04.2-1.43.59L10.3 9.45l-7.72 7.72c-.78.78-.78 2.05 0 2.83L4 21.41c.39.39.9.59 1.41.59.51 0 1.02-.2 1.41-.59l7.78-7.78 2.81-2.81c.8-.78.8-2.07 0-2.86zM5.41 20L4 18.59l7.72-7.72 1.47 1.35L5.41 20z\"/>\n",
              "  </svg>\n",
              "      </button>\n",
              "      \n",
              "  <style>\n",
              "    .colab-df-container {\n",
              "      display:flex;\n",
              "      flex-wrap:wrap;\n",
              "      gap: 12px;\n",
              "    }\n",
              "\n",
              "    .colab-df-convert {\n",
              "      background-color: #E8F0FE;\n",
              "      border: none;\n",
              "      border-radius: 50%;\n",
              "      cursor: pointer;\n",
              "      display: none;\n",
              "      fill: #1967D2;\n",
              "      height: 32px;\n",
              "      padding: 0 0 0 0;\n",
              "      width: 32px;\n",
              "    }\n",
              "\n",
              "    .colab-df-convert:hover {\n",
              "      background-color: #E2EBFA;\n",
              "      box-shadow: 0px 1px 2px rgba(60, 64, 67, 0.3), 0px 1px 3px 1px rgba(60, 64, 67, 0.15);\n",
              "      fill: #174EA6;\n",
              "    }\n",
              "\n",
              "    [theme=dark] .colab-df-convert {\n",
              "      background-color: #3B4455;\n",
              "      fill: #D2E3FC;\n",
              "    }\n",
              "\n",
              "    [theme=dark] .colab-df-convert:hover {\n",
              "      background-color: #434B5C;\n",
              "      box-shadow: 0px 1px 3px 1px rgba(0, 0, 0, 0.15);\n",
              "      filter: drop-shadow(0px 1px 2px rgba(0, 0, 0, 0.3));\n",
              "      fill: #FFFFFF;\n",
              "    }\n",
              "  </style>\n",
              "\n",
              "      <script>\n",
              "        const buttonEl =\n",
              "          document.querySelector('#df-54fc213a-7437-4370-8448-7b06e1ff2855 button.colab-df-convert');\n",
              "        buttonEl.style.display =\n",
              "          google.colab.kernel.accessAllowed ? 'block' : 'none';\n",
              "\n",
              "        async function convertToInteractive(key) {\n",
              "          const element = document.querySelector('#df-54fc213a-7437-4370-8448-7b06e1ff2855');\n",
              "          const dataTable =\n",
              "            await google.colab.kernel.invokeFunction('convertToInteractive',\n",
              "                                                     [key], {});\n",
              "          if (!dataTable) return;\n",
              "\n",
              "          const docLinkHtml = 'Like what you see? Visit the ' +\n",
              "            '<a target=\"_blank\" href=https://colab.research.google.com/notebooks/data_table.ipynb>data table notebook</a>'\n",
              "            + ' to learn more about interactive tables.';\n",
              "          element.innerHTML = '';\n",
              "          dataTable['output_type'] = 'display_data';\n",
              "          await google.colab.output.renderOutput(dataTable, element);\n",
              "          const docLink = document.createElement('div');\n",
              "          docLink.innerHTML = docLinkHtml;\n",
              "          element.appendChild(docLink);\n",
              "        }\n",
              "      </script>\n",
              "    </div>\n",
              "  </div>\n",
              "  "
            ]
          },
          "metadata": {},
          "execution_count": 32
        }
      ]
    },
    {
      "cell_type": "markdown",
      "source": [
        "##Captura de pantalla del progreso del curso"
      ],
      "metadata": {
        "id": "CW2YXO9RpLDz"
      }
    },
    {
      "cell_type": "markdown",
      "source": [
        "![Captura de pantalla 2022-09-27 200734.jpg](data:image/jpeg;base64,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)"
      ],
      "metadata": {
        "id": "0tMi4SQgowI6"
      }
    }
  ]
}