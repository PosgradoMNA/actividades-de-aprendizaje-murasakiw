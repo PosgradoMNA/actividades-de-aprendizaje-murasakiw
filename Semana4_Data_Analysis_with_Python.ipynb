{
  "nbformat": 4,
  "nbformat_minor": 0,
  "metadata": {
    "colab": {
      "provenance": [],
      "authorship_tag": "ABX9TyPcQGdjz/vx1gDHbr7lXKr+",
      "include_colab_link": true
    },
    "kernelspec": {
      "name": "python3",
      "display_name": "Python 3"
    },
    "language_info": {
      "name": "python"
    }
  },
  "cells": [
    {
      "cell_type": "markdown",
      "metadata": {
        "id": "view-in-github",
        "colab_type": "text"
      },
      "source": [
        "<a href=\"https://colab.research.google.com/github/PosgradoMNA/actividades-de-aprendizaje-murasakiw/blob/main/Semana4_Data_Analysis_with_Python.ipynb\" target=\"_parent\"><img src=\"https://colab.research.google.com/assets/colab-badge.svg\" alt=\"Open In Colab\"/></a>"
      ]
    },
    {
      "cell_type": "markdown",
      "source": [
        "#Data Analysis with Python(IBM)-Módulo 1"
      ],
      "metadata": {
        "id": "u5CtpttEpD4Y"
      }
    },
    {
      "cell_type": "markdown",
      "source": [
        "El análisis de datos/la ciencia de datos ayuda a resolver preguntas a partir de los datos.  \n",
        "El análisis de datos ayuda a:\n",
        "\n",
        "\n",
        "*   Descubrir información útil.\n",
        "*   Responder preguntas.\n",
        "*   Predecir el futuro o lo desconocido.  \n",
        "\n"
      ],
      "metadata": {
        "id": "7w1NvCrJpVDk"
      }
    },
    {
      "cell_type": "markdown",
      "source": [
        "La información de un conjunto de datos se puede almacenar en una tabla, de esta manera se puede obtener mayor información sobre las columnas del conjunto de datos."
      ],
      "metadata": {
        "id": "TtcB3ffUqcFZ"
      }
    },
    {
      "cell_type": "markdown",
      "source": [
        "El valor objetivo(target value) es el valor que se desea predecir del conjunto de datos. Los predictores son todas las otras variables listadas."
      ],
      "metadata": {
        "id": "sFtYEvJ5q8xk"
      }
    },
    {
      "cell_type": "markdown",
      "source": [
        "Librerías para cómputo científico con Python:\n",
        "\n",
        "\n",
        "*   Pandas-Estructura de datos y herramientas para manipulación efectiva de datos y para análisis. El instrumento principal de pandas es el DataFrame.\n",
        "*   Numpy-Utiliza arrays para sus entradas y salidas.\n",
        "*   Scipy-Funciones para problemas matemáticos avanzados, así como visualización de datos.  \n",
        "\n",
        "Librerías de visualización con Python:\n",
        "\n",
        "\n",
        "*   Matplotlib-Utilizada para crear gráficos, los gráficos son altamente personalizables.\n",
        "*   Seaborn-Basada en matplotlib, utilizada para generar mapas de calor, series de tiempo, gráficos de violín.  \n",
        "\n",
        "Librerías para algoritmos.\n",
        "\n",
        "\n"
      ],
      "metadata": {
        "id": "ccoQsyn5rel-"
      }
    },
    {
      "cell_type": "code",
      "source": [],
      "metadata": {
        "id": "aych4a8TpN9M"
      },
      "execution_count": null,
      "outputs": []
    }
  ]
}